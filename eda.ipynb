{
 "cells": [
  {
   "cell_type": "markdown",
   "metadata": {
    "id": "MW-oQIM2TdtR"
   },
   "source": [
    "# Exploratory Data Analysis\n",
    "Demo from lecture 2 of [ORIE 4741](https://people.orie.cornell.edu/mru8/orie4741)"
   ]
  },
  {
   "cell_type": "code",
   "execution_count": 2,
   "metadata": {
    "id": "ViUHHFTETdtV"
   },
   "outputs": [],
   "source": [
    "# math \n",
    "import numpy as np\n",
    "\n",
    "# dataframes\n",
    "import pandas as pd\n",
    "\n",
    "# plotting\n",
    "import matplotlib.pyplot as plt\n",
    "import seaborn as sns"
   ]
  },
  {
   "cell_type": "markdown",
   "metadata": {
    "id": "dLTyUpfQTdtX"
   },
   "source": [
    "# Load data"
   ]
  },
  {
   "cell_type": "markdown",
   "metadata": {
    "id": "DDGZMQ7xTdtY"
   },
   "source": [
    "The data is available on the course website, and is about 200MB.\n",
    "\n",
    "If you point your browser to the url below, it will be downloaded to your standard download folder. On Mac, you can access it at `/Users/yourusername/Downloads/acs_2013.csv`."
   ]
  },
  {
   "cell_type": "code",
   "execution_count": 3,
   "metadata": {
    "id": "emzOH7t9TdtY"
   },
   "outputs": [],
   "source": [
    "url = \"https://people.orie.cornell.edu/mru8/orie4741/data/acs_2013.csv\""
   ]
  },
  {
   "cell_type": "markdown",
   "metadata": {
    "id": "7nzN8MNITdtZ"
   },
   "source": [
    "Or we can read it directly into python:"
   ]
  },
  {
   "cell_type": "code",
   "execution_count": 4,
   "metadata": {
    "colab": {
     "base_uri": "https://localhost:8080/",
     "height": 225
    },
    "id": "V7chxYZdTdtZ",
    "outputId": "67436aa9-4aeb-4279-ab6b-12f9a81d3d5e"
   },
   "outputs": [
    {
     "data": {
      "text/html": [
       "<div>\n",
       "<style scoped>\n",
       "    .dataframe tbody tr th:only-of-type {\n",
       "        vertical-align: middle;\n",
       "    }\n",
       "\n",
       "    .dataframe tbody tr th {\n",
       "        vertical-align: top;\n",
       "    }\n",
       "\n",
       "    .dataframe thead th {\n",
       "        text-align: right;\n",
       "    }\n",
       "</style>\n",
       "<table border=\"1\" class=\"dataframe\">\n",
       "  <thead>\n",
       "    <tr style=\"text-align: right;\">\n",
       "      <th></th>\n",
       "      <th>ACREHOUS</th>\n",
       "      <th>CLASSWKR</th>\n",
       "      <th>COMMUSE</th>\n",
       "      <th>COSTELEC</th>\n",
       "      <th>COSTGAS</th>\n",
       "      <th>COSTWATR</th>\n",
       "      <th>EDUC</th>\n",
       "      <th>EMPSTAT</th>\n",
       "      <th>FOODSTMP</th>\n",
       "      <th>GRADEATT</th>\n",
       "      <th>...</th>\n",
       "      <th>HHINCOME</th>\n",
       "      <th>HHTYPE</th>\n",
       "      <th>LABFORCE</th>\n",
       "      <th>LOOKING</th>\n",
       "      <th>METRO</th>\n",
       "      <th>OWNERSHP</th>\n",
       "      <th>SCHOOL</th>\n",
       "      <th>STATEICP</th>\n",
       "      <th>UHRSWORK</th>\n",
       "      <th>WKSWORK2</th>\n",
       "    </tr>\n",
       "  </thead>\n",
       "  <tbody>\n",
       "    <tr>\n",
       "      <th>0</th>\n",
       "      <td>0</td>\n",
       "      <td>0</td>\n",
       "      <td>0</td>\n",
       "      <td>0.0</td>\n",
       "      <td>0.0</td>\n",
       "      <td>0.0</td>\n",
       "      <td>7</td>\n",
       "      <td>3.0</td>\n",
       "      <td>1</td>\n",
       "      <td>6</td>\n",
       "      <td>...</td>\n",
       "      <td>9999999.0</td>\n",
       "      <td>0.0</td>\n",
       "      <td>1</td>\n",
       "      <td>1</td>\n",
       "      <td>4.0</td>\n",
       "      <td>0</td>\n",
       "      <td>2</td>\n",
       "      <td>41.0</td>\n",
       "      <td>0.0</td>\n",
       "      <td>0</td>\n",
       "    </tr>\n",
       "    <tr>\n",
       "      <th>1</th>\n",
       "      <td>1</td>\n",
       "      <td>2</td>\n",
       "      <td>1</td>\n",
       "      <td>4200.0</td>\n",
       "      <td>9993.0</td>\n",
       "      <td>480.0</td>\n",
       "      <td>8</td>\n",
       "      <td>1.0</td>\n",
       "      <td>1</td>\n",
       "      <td>0</td>\n",
       "      <td>...</td>\n",
       "      <td>151000.0</td>\n",
       "      <td>1.0</td>\n",
       "      <td>2</td>\n",
       "      <td>3</td>\n",
       "      <td>0.0</td>\n",
       "      <td>1</td>\n",
       "      <td>1</td>\n",
       "      <td>41.0</td>\n",
       "      <td>40.0</td>\n",
       "      <td>6</td>\n",
       "    </tr>\n",
       "    <tr>\n",
       "      <th>2</th>\n",
       "      <td>1</td>\n",
       "      <td>1</td>\n",
       "      <td>1</td>\n",
       "      <td>4200.0</td>\n",
       "      <td>9993.0</td>\n",
       "      <td>480.0</td>\n",
       "      <td>6</td>\n",
       "      <td>1.0</td>\n",
       "      <td>1</td>\n",
       "      <td>0</td>\n",
       "      <td>...</td>\n",
       "      <td>151000.0</td>\n",
       "      <td>1.0</td>\n",
       "      <td>2</td>\n",
       "      <td>3</td>\n",
       "      <td>0.0</td>\n",
       "      <td>1</td>\n",
       "      <td>1</td>\n",
       "      <td>41.0</td>\n",
       "      <td>40.0</td>\n",
       "      <td>6</td>\n",
       "    </tr>\n",
       "    <tr>\n",
       "      <th>3</th>\n",
       "      <td>1</td>\n",
       "      <td>0</td>\n",
       "      <td>1</td>\n",
       "      <td>4200.0</td>\n",
       "      <td>9993.0</td>\n",
       "      <td>480.0</td>\n",
       "      <td>7</td>\n",
       "      <td>3.0</td>\n",
       "      <td>1</td>\n",
       "      <td>6</td>\n",
       "      <td>...</td>\n",
       "      <td>151000.0</td>\n",
       "      <td>1.0</td>\n",
       "      <td>1</td>\n",
       "      <td>1</td>\n",
       "      <td>0.0</td>\n",
       "      <td>1</td>\n",
       "      <td>2</td>\n",
       "      <td>41.0</td>\n",
       "      <td>0.0</td>\n",
       "      <td>0</td>\n",
       "    </tr>\n",
       "    <tr>\n",
       "      <th>4</th>\n",
       "      <td>1</td>\n",
       "      <td>0</td>\n",
       "      <td>1</td>\n",
       "      <td>4200.0</td>\n",
       "      <td>9993.0</td>\n",
       "      <td>480.0</td>\n",
       "      <td>7</td>\n",
       "      <td>3.0</td>\n",
       "      <td>1</td>\n",
       "      <td>6</td>\n",
       "      <td>...</td>\n",
       "      <td>151000.0</td>\n",
       "      <td>1.0</td>\n",
       "      <td>1</td>\n",
       "      <td>1</td>\n",
       "      <td>0.0</td>\n",
       "      <td>1</td>\n",
       "      <td>2</td>\n",
       "      <td>41.0</td>\n",
       "      <td>0.0</td>\n",
       "      <td>0</td>\n",
       "    </tr>\n",
       "  </tbody>\n",
       "</table>\n",
       "<p>5 rows × 21 columns</p>\n",
       "</div>"
      ],
      "text/plain": [
       "   ACREHOUS  CLASSWKR  COMMUSE  COSTELEC  COSTGAS  COSTWATR  EDUC  EMPSTAT  \\\n",
       "0         0         0        0       0.0      0.0       0.0     7      3.0   \n",
       "1         1         2        1    4200.0   9993.0     480.0     8      1.0   \n",
       "2         1         1        1    4200.0   9993.0     480.0     6      1.0   \n",
       "3         1         0        1    4200.0   9993.0     480.0     7      3.0   \n",
       "4         1         0        1    4200.0   9993.0     480.0     7      3.0   \n",
       "\n",
       "   FOODSTMP  GRADEATT  ...   HHINCOME  HHTYPE  LABFORCE  LOOKING  METRO  \\\n",
       "0         1         6  ...  9999999.0     0.0         1        1    4.0   \n",
       "1         1         0  ...   151000.0     1.0         2        3    0.0   \n",
       "2         1         0  ...   151000.0     1.0         2        3    0.0   \n",
       "3         1         6  ...   151000.0     1.0         1        1    0.0   \n",
       "4         1         6  ...   151000.0     1.0         1        1    0.0   \n",
       "\n",
       "   OWNERSHP  SCHOOL  STATEICP  UHRSWORK  WKSWORK2  \n",
       "0         0       2      41.0       0.0         0  \n",
       "1         1       1      41.0      40.0         6  \n",
       "2         1       1      41.0      40.0         6  \n",
       "3         1       2      41.0       0.0         0  \n",
       "4         1       2      41.0       0.0         0  \n",
       "\n",
       "[5 rows x 21 columns]"
      ]
     },
     "execution_count": 4,
     "metadata": {},
     "output_type": "execute_result"
    }
   ],
   "source": [
    "acs = pd.read_csv(url, nrows=10000) # read 10000 rows from the csv\n",
    "acs.head()"
   ]
  },
  {
   "cell_type": "markdown",
   "metadata": {
    "id": "TsHxNTCGTdta"
   },
   "source": [
    "# Summary statistics"
   ]
  },
  {
   "cell_type": "code",
   "execution_count": 5,
   "metadata": {
    "colab": {
     "base_uri": "https://localhost:8080/"
    },
    "id": "aZzDVjmqTdtb",
    "outputId": "22a7c6e7-e4e4-4b6b-b70f-d03d75e6113c"
   },
   "outputs": [
    {
     "data": {
      "text/plain": [
       "(10000, 21)"
      ]
     },
     "execution_count": 5,
     "metadata": {},
     "output_type": "execute_result"
    }
   ],
   "source": [
    "# how big is this table?\n",
    "acs.shape"
   ]
  },
  {
   "cell_type": "code",
   "execution_count": 6,
   "metadata": {
    "id": "GNKBGLtpTdtb"
   },
   "outputs": [],
   "source": [
    "# select just the income column\n",
    "income = acs[\"HHINCOME\"]"
   ]
  },
  {
   "cell_type": "code",
   "execution_count": 11,
   "metadata": {
    "id": "AK5EPNhCBQPm"
   },
   "outputs": [],
   "source": [
    "# a synonym\n",
    "income = acs.HHINCOME"
   ]
  },
  {
   "cell_type": "code",
   "execution_count": 12,
   "metadata": {
    "colab": {
     "base_uri": "https://localhost:8080/"
    },
    "id": "iUdHCXD3Tdtb",
    "outputId": "41d35a46-93de-4cac-979c-75d2acb13c43"
   },
   "outputs": [
    {
     "data": {
      "text/plain": [
       "568847.3694"
      ]
     },
     "execution_count": 12,
     "metadata": {},
     "output_type": "execute_result"
    }
   ],
   "source": [
    "income.mean()"
   ]
  },
  {
   "cell_type": "markdown",
   "metadata": {
    "id": "G8azkQVLTdtc"
   },
   "source": [
    "**Poll**: Is mean income computed here plausible for US income distribution?\n",
    "* A) No, this value is too high \n",
    "* B) Plausible\n",
    "* C) No, this value is too low"
   ]
  },
  {
   "cell_type": "code",
   "execution_count": 13,
   "metadata": {
    "colab": {
     "base_uri": "https://localhost:8080/"
    },
    "id": "i0nmMGwHTdtd",
    "outputId": "10a2268d-68ab-4f62-d92d-9b3866ac5045"
   },
   "outputs": [
    {
     "data": {
      "text/plain": [
       "2176047.95112544"
      ]
     },
     "execution_count": 13,
     "metadata": {},
     "output_type": "execute_result"
    }
   ],
   "source": [
    "income.std()"
   ]
  },
  {
   "cell_type": "code",
   "execution_count": 14,
   "metadata": {
    "colab": {
     "base_uri": "https://localhost:8080/"
    },
    "id": "MrJvpSCdTdtd",
    "outputId": "8fb11541-14f1-4daf-ee05-3f41e3597cc0"
   },
   "outputs": [
    {
     "data": {
      "text/plain": [
       "9999999.0"
      ]
     },
     "execution_count": 14,
     "metadata": {},
     "output_type": "execute_result"
    }
   ],
   "source": [
    "income.max()"
   ]
  },
  {
   "cell_type": "markdown",
   "metadata": {
    "id": "84WVk6y05eaw"
   },
   "source": [
    "# Plotting"
   ]
  },
  {
   "cell_type": "code",
   "execution_count": 15,
   "metadata": {
    "colab": {
     "base_uri": "https://localhost:8080/"
    },
    "id": "i6so18yj5qdn",
    "outputId": "0a19e6cf-070f-440c-defb-28e023e8b0eb"
   },
   "outputs": [
    {
     "data": {
      "text/plain": [
       "count    1.000000e+04\n",
       "mean     5.688474e+05\n",
       "std      2.176048e+06\n",
       "min      0.000000e+00\n",
       "25%      2.767500e+04\n",
       "50%      5.500000e+04\n",
       "75%      9.500000e+04\n",
       "max      9.999999e+06\n",
       "Name: HHINCOME, dtype: float64"
      ]
     },
     "execution_count": 15,
     "metadata": {},
     "output_type": "execute_result"
    }
   ],
   "source": [
    "income.describe()"
   ]
  },
  {
   "cell_type": "code",
   "execution_count": 16,
   "metadata": {
    "colab": {
     "base_uri": "https://localhost:8080/"
    },
    "id": "b4ao-udo6Ig3",
    "outputId": "a044bd16-1418-4746-dd8b-97f297cdbd45"
   },
   "outputs": [
    {
     "data": {
      "text/plain": [
       "0       False\n",
       "1       False\n",
       "2       False\n",
       "3       False\n",
       "4       False\n",
       "        ...  \n",
       "9995    False\n",
       "9996    False\n",
       "9997    False\n",
       "9998    False\n",
       "9999    False\n",
       "Name: HHINCOME, Length: 10000, dtype: bool"
      ]
     },
     "execution_count": 16,
     "metadata": {},
     "output_type": "execute_result"
    }
   ],
   "source": [
    "# identify missing values\n",
    "pd.isna(income)"
   ]
  },
  {
   "cell_type": "code",
   "execution_count": 12,
   "metadata": {
    "colab": {
     "base_uri": "https://localhost:8080/"
    },
    "id": "i7iI-B2y6O18",
    "outputId": "5bed24c5-1164-4c53-ccf9-014f1b6afaaa"
   },
   "outputs": [
    {
     "data": {
      "text/plain": [
       "0"
      ]
     },
     "execution_count": 12,
     "metadata": {},
     "output_type": "execute_result"
    }
   ],
   "source": [
    "# count missing values\n",
    "sum(pd.isna(income))"
   ]
  },
  {
   "cell_type": "code",
   "execution_count": 17,
   "metadata": {
    "colab": {
     "base_uri": "https://localhost:8080/",
     "height": 295
    },
    "id": "RtcJBmCnTdte",
    "outputId": "2edef689-c9b9-4872-ee2b-4876bd1d3014"
   },
   "outputs": [
    {
     "data": {
      "text/plain": [
       "<matplotlib.axes._subplots.AxesSubplot at 0x7fb86fc7ce80>"
      ]
     },
     "execution_count": 17,
     "metadata": {},
     "output_type": "execute_result"
    },
    {
     "data": {
      "image/png": "[encoded data removed]",
      "text/plain": [
       "<Figure size 432x288 with 1 Axes>"
      ]
     },
     "metadata": {
      "needs_background": "light"
     },
     "output_type": "display_data"
    }
   ],
   "source": [
    "# plot the income distribution\n",
    "income.hist()"
   ]
  },
  {
   "cell_type": "code",
   "execution_count": 18,
   "metadata": {
    "colab": {
     "base_uri": "https://localhost:8080/",
     "height": 295
    },
    "id": "qod_rQyq6xmj",
    "outputId": "7ca7f729-5645-46c8-a062-b44927e136f2"
   },
   "outputs": [
    {
     "data": {
      "text/plain": [
       "<matplotlib.axes._subplots.AxesSubplot at 0x7fb86fca08b0>"
      ]
     },
     "execution_count": 18,
     "metadata": {},
     "output_type": "execute_result"
    },
    {
     "data": {
      "image/png": "[encoded data removed]",
      "text/plain": [
       "<Figure size 432x288 with 1 Axes>"
      ]
     },
     "metadata": {
      "needs_background": "light"
     },
     "output_type": "display_data"
    }
   ],
   "source": [
    "income.hist(bins=200)"
   ]
  },
  {
   "cell_type": "markdown",
   "metadata": {
    "id": "19PK5WSgTdte"
   },
   "source": [
    "**Poll**: Is this plausible for US income distribution?\n",
    "* A) No, not plausible\n",
    "* B) Yes, plausible"
   ]
  },
  {
   "cell_type": "code",
   "execution_count": 21,
   "metadata": {
    "colab": {
     "base_uri": "https://localhost:8080/"
    },
    "id": "gyRLOB_3Tdtf",
    "outputId": "8c4b0a03-48c5-43e9-ee61-c4fc4e6ab6d5"
   },
   "outputs": [
    {
     "data": {
      "text/plain": [
       "0       False\n",
       "1        True\n",
       "2        True\n",
       "3        True\n",
       "4        True\n",
       "        ...  \n",
       "9995     True\n",
       "9996     True\n",
       "9997     True\n",
       "9998    False\n",
       "9999     True\n",
       "Name: HHINCOME, Length: 10000, dtype: bool"
      ]
     },
     "execution_count": 21,
     "metadata": {},
     "output_type": "execute_result"
    }
   ],
   "source": [
    "# select only rows with income less than 9999999\n",
    "lower_income = (income < 9999999)\n",
    "lower_income"
   ]
  },
  {
   "cell_type": "code",
   "execution_count": 22,
   "metadata": {
    "id": "CVtqUghD8_8x"
   },
   "outputs": [],
   "source": [
    "acs99 = acs.where(lower_income)"
   ]
  },
  {
   "cell_type": "code",
   "execution_count": 28,
   "metadata": {},
   "outputs": [
    {
     "data": {
      "text/plain": [
       "Int64Index([   1,    2,    3,    4,    5,    6,    7,    8,    9,   10,\n",
       "            ...\n",
       "            9989, 9990, 9991, 9992, 9993, 9994, 9995, 9996, 9997, 9999],\n",
       "           dtype='int64', length=9495)"
      ]
     },
     "execution_count": 28,
     "metadata": {},
     "output_type": "execute_result"
    }
   ],
   "source": [
    "acs[lower_income]"
   ]
  },
  {
   "cell_type": "code",
   "execution_count": 29,
   "metadata": {},
   "outputs": [
    {
     "data": {
      "text/plain": [
       "(10000, 21)"
      ]
     },
     "execution_count": 29,
     "metadata": {},
     "output_type": "execute_result"
    }
   ],
   "source": [
    "acs99.shape"
   ]
  },
  {
   "cell_type": "code",
   "execution_count": 30,
   "metadata": {
    "colab": {
     "base_uri": "https://localhost:8080/",
     "height": 225
    },
    "id": "HUQbwu98Tdtf",
    "outputId": "df615ec5-bd0b-4ab6-d617-5c61ffc3446e"
   },
   "outputs": [
    {
     "data": {
      "text/html": [
       "<div>\n",
       "<style scoped>\n",
       "    .dataframe tbody tr th:only-of-type {\n",
       "        vertical-align: middle;\n",
       "    }\n",
       "\n",
       "    .dataframe tbody tr th {\n",
       "        vertical-align: top;\n",
       "    }\n",
       "\n",
       "    .dataframe thead th {\n",
       "        text-align: right;\n",
       "    }\n",
       "</style>\n",
       "<table border=\"1\" class=\"dataframe\">\n",
       "  <thead>\n",
       "    <tr style=\"text-align: right;\">\n",
       "      <th></th>\n",
       "      <th>ACREHOUS</th>\n",
       "      <th>CLASSWKR</th>\n",
       "      <th>COMMUSE</th>\n",
       "      <th>COSTELEC</th>\n",
       "      <th>COSTGAS</th>\n",
       "      <th>COSTWATR</th>\n",
       "      <th>EDUC</th>\n",
       "      <th>EMPSTAT</th>\n",
       "      <th>FOODSTMP</th>\n",
       "      <th>GRADEATT</th>\n",
       "      <th>...</th>\n",
       "      <th>HHINCOME</th>\n",
       "      <th>HHTYPE</th>\n",
       "      <th>LABFORCE</th>\n",
       "      <th>LOOKING</th>\n",
       "      <th>METRO</th>\n",
       "      <th>OWNERSHP</th>\n",
       "      <th>SCHOOL</th>\n",
       "      <th>STATEICP</th>\n",
       "      <th>UHRSWORK</th>\n",
       "      <th>WKSWORK2</th>\n",
       "    </tr>\n",
       "  </thead>\n",
       "  <tbody>\n",
       "    <tr>\n",
       "      <th>0</th>\n",
       "      <td>NaN</td>\n",
       "      <td>NaN</td>\n",
       "      <td>NaN</td>\n",
       "      <td>NaN</td>\n",
       "      <td>NaN</td>\n",
       "      <td>NaN</td>\n",
       "      <td>NaN</td>\n",
       "      <td>NaN</td>\n",
       "      <td>NaN</td>\n",
       "      <td>NaN</td>\n",
       "      <td>...</td>\n",
       "      <td>NaN</td>\n",
       "      <td>NaN</td>\n",
       "      <td>NaN</td>\n",
       "      <td>NaN</td>\n",
       "      <td>NaN</td>\n",
       "      <td>NaN</td>\n",
       "      <td>NaN</td>\n",
       "      <td>NaN</td>\n",
       "      <td>NaN</td>\n",
       "      <td>NaN</td>\n",
       "    </tr>\n",
       "    <tr>\n",
       "      <th>1</th>\n",
       "      <td>1.0</td>\n",
       "      <td>2.0</td>\n",
       "      <td>1.0</td>\n",
       "      <td>4200.0</td>\n",
       "      <td>9993.0</td>\n",
       "      <td>480.0</td>\n",
       "      <td>8.0</td>\n",
       "      <td>1.0</td>\n",
       "      <td>1.0</td>\n",
       "      <td>0.0</td>\n",
       "      <td>...</td>\n",
       "      <td>151000.0</td>\n",
       "      <td>1.0</td>\n",
       "      <td>2.0</td>\n",
       "      <td>3.0</td>\n",
       "      <td>0.0</td>\n",
       "      <td>1.0</td>\n",
       "      <td>1.0</td>\n",
       "      <td>41.0</td>\n",
       "      <td>40.0</td>\n",
       "      <td>6.0</td>\n",
       "    </tr>\n",
       "    <tr>\n",
       "      <th>2</th>\n",
       "      <td>1.0</td>\n",
       "      <td>1.0</td>\n",
       "      <td>1.0</td>\n",
       "      <td>4200.0</td>\n",
       "      <td>9993.0</td>\n",
       "      <td>480.0</td>\n",
       "      <td>6.0</td>\n",
       "      <td>1.0</td>\n",
       "      <td>1.0</td>\n",
       "      <td>0.0</td>\n",
       "      <td>...</td>\n",
       "      <td>151000.0</td>\n",
       "      <td>1.0</td>\n",
       "      <td>2.0</td>\n",
       "      <td>3.0</td>\n",
       "      <td>0.0</td>\n",
       "      <td>1.0</td>\n",
       "      <td>1.0</td>\n",
       "      <td>41.0</td>\n",
       "      <td>40.0</td>\n",
       "      <td>6.0</td>\n",
       "    </tr>\n",
       "    <tr>\n",
       "      <th>3</th>\n",
       "      <td>1.0</td>\n",
       "      <td>0.0</td>\n",
       "      <td>1.0</td>\n",
       "      <td>4200.0</td>\n",
       "      <td>9993.0</td>\n",
       "      <td>480.0</td>\n",
       "      <td>7.0</td>\n",
       "      <td>3.0</td>\n",
       "      <td>1.0</td>\n",
       "      <td>6.0</td>\n",
       "      <td>...</td>\n",
       "      <td>151000.0</td>\n",
       "      <td>1.0</td>\n",
       "      <td>1.0</td>\n",
       "      <td>1.0</td>\n",
       "      <td>0.0</td>\n",
       "      <td>1.0</td>\n",
       "      <td>2.0</td>\n",
       "      <td>41.0</td>\n",
       "      <td>0.0</td>\n",
       "      <td>0.0</td>\n",
       "    </tr>\n",
       "    <tr>\n",
       "      <th>4</th>\n",
       "      <td>1.0</td>\n",
       "      <td>0.0</td>\n",
       "      <td>1.0</td>\n",
       "      <td>4200.0</td>\n",
       "      <td>9993.0</td>\n",
       "      <td>480.0</td>\n",
       "      <td>7.0</td>\n",
       "      <td>3.0</td>\n",
       "      <td>1.0</td>\n",
       "      <td>6.0</td>\n",
       "      <td>...</td>\n",
       "      <td>151000.0</td>\n",
       "      <td>1.0</td>\n",
       "      <td>1.0</td>\n",
       "      <td>1.0</td>\n",
       "      <td>0.0</td>\n",
       "      <td>1.0</td>\n",
       "      <td>2.0</td>\n",
       "      <td>41.0</td>\n",
       "      <td>0.0</td>\n",
       "      <td>0.0</td>\n",
       "    </tr>\n",
       "  </tbody>\n",
       "</table>\n",
       "<p>5 rows × 21 columns</p>\n",
       "</div>"
      ],
      "text/plain": [
       "   ACREHOUS  CLASSWKR  COMMUSE  COSTELEC  COSTGAS  COSTWATR  EDUC  EMPSTAT  \\\n",
       "0       NaN       NaN      NaN       NaN      NaN       NaN   NaN      NaN   \n",
       "1       1.0       2.0      1.0    4200.0   9993.0     480.0   8.0      1.0   \n",
       "2       1.0       1.0      1.0    4200.0   9993.0     480.0   6.0      1.0   \n",
       "3       1.0       0.0      1.0    4200.0   9993.0     480.0   7.0      3.0   \n",
       "4       1.0       0.0      1.0    4200.0   9993.0     480.0   7.0      3.0   \n",
       "\n",
       "   FOODSTMP  GRADEATT  ...  HHINCOME  HHTYPE  LABFORCE  LOOKING  METRO  \\\n",
       "0       NaN       NaN  ...       NaN     NaN       NaN      NaN    NaN   \n",
       "1       1.0       0.0  ...  151000.0     1.0       2.0      3.0    0.0   \n",
       "2       1.0       0.0  ...  151000.0     1.0       2.0      3.0    0.0   \n",
       "3       1.0       6.0  ...  151000.0     1.0       1.0      1.0    0.0   \n",
       "4       1.0       6.0  ...  151000.0     1.0       1.0      1.0    0.0   \n",
       "\n",
       "   OWNERSHP  SCHOOL  STATEICP  UHRSWORK  WKSWORK2  \n",
       "0       NaN     NaN       NaN       NaN       NaN  \n",
       "1       1.0     1.0      41.0      40.0       6.0  \n",
       "2       1.0     1.0      41.0      40.0       6.0  \n",
       "3       1.0     2.0      41.0       0.0       0.0  \n",
       "4       1.0     2.0      41.0       0.0       0.0  \n",
       "\n",
       "[5 rows x 21 columns]"
      ]
     },
     "execution_count": 30,
     "metadata": {},
     "output_type": "execute_result"
    }
   ],
   "source": [
    "acs99.head()"
   ]
  },
  {
   "cell_type": "code",
   "execution_count": 31,
   "metadata": {
    "colab": {
     "base_uri": "https://localhost:8080/",
     "height": 319
    },
    "id": "D3dvSuqf9JFu",
    "outputId": "3760b4f2-505b-4c70-a1b4-91c69ef9d495"
   },
   "outputs": [
    {
     "data": {
      "text/html": [
       "<div>\n",
       "<style scoped>\n",
       "    .dataframe tbody tr th:only-of-type {\n",
       "        vertical-align: middle;\n",
       "    }\n",
       "\n",
       "    .dataframe tbody tr th {\n",
       "        vertical-align: top;\n",
       "    }\n",
       "\n",
       "    .dataframe thead th {\n",
       "        text-align: right;\n",
       "    }\n",
       "</style>\n",
       "<table border=\"1\" class=\"dataframe\">\n",
       "  <thead>\n",
       "    <tr style=\"text-align: right;\">\n",
       "      <th></th>\n",
       "      <th>ACREHOUS</th>\n",
       "      <th>CLASSWKR</th>\n",
       "      <th>COMMUSE</th>\n",
       "      <th>COSTELEC</th>\n",
       "      <th>COSTGAS</th>\n",
       "      <th>COSTWATR</th>\n",
       "      <th>EDUC</th>\n",
       "      <th>EMPSTAT</th>\n",
       "      <th>FOODSTMP</th>\n",
       "      <th>GRADEATT</th>\n",
       "      <th>...</th>\n",
       "      <th>HHINCOME</th>\n",
       "      <th>HHTYPE</th>\n",
       "      <th>LABFORCE</th>\n",
       "      <th>LOOKING</th>\n",
       "      <th>METRO</th>\n",
       "      <th>OWNERSHP</th>\n",
       "      <th>SCHOOL</th>\n",
       "      <th>STATEICP</th>\n",
       "      <th>UHRSWORK</th>\n",
       "      <th>WKSWORK2</th>\n",
       "    </tr>\n",
       "  </thead>\n",
       "  <tbody>\n",
       "    <tr>\n",
       "      <th>count</th>\n",
       "      <td>9495.000000</td>\n",
       "      <td>9495.000000</td>\n",
       "      <td>9495.000000</td>\n",
       "      <td>9495.000000</td>\n",
       "      <td>9495.000000</td>\n",
       "      <td>9495.000000</td>\n",
       "      <td>9495.000000</td>\n",
       "      <td>9495.000000</td>\n",
       "      <td>9495.000000</td>\n",
       "      <td>9495.000000</td>\n",
       "      <td>...</td>\n",
       "      <td>9495.000000</td>\n",
       "      <td>9495.000000</td>\n",
       "      <td>9495.000000</td>\n",
       "      <td>9495.000000</td>\n",
       "      <td>9495.000000</td>\n",
       "      <td>9495.000000</td>\n",
       "      <td>9495.000000</td>\n",
       "      <td>9495.0</td>\n",
       "      <td>9495.000000</td>\n",
       "      <td>9495.000000</td>\n",
       "    </tr>\n",
       "    <tr>\n",
       "      <th>mean</th>\n",
       "      <td>0.963560</td>\n",
       "      <td>1.041601</td>\n",
       "      <td>0.920274</td>\n",
       "      <td>2489.090363</td>\n",
       "      <td>5901.423697</td>\n",
       "      <td>1663.254344</td>\n",
       "      <td>5.744286</td>\n",
       "      <td>1.559031</td>\n",
       "      <td>1.186519</td>\n",
       "      <td>0.953028</td>\n",
       "      <td>...</td>\n",
       "      <td>67243.201580</td>\n",
       "      <td>2.092048</td>\n",
       "      <td>1.268246</td>\n",
       "      <td>1.724171</td>\n",
       "      <td>2.371669</td>\n",
       "      <td>1.257609</td>\n",
       "      <td>1.192838</td>\n",
       "      <td>41.0</td>\n",
       "      <td>17.808636</td>\n",
       "      <td>2.380937</td>\n",
       "    </tr>\n",
       "    <tr>\n",
       "      <th>std</th>\n",
       "      <td>0.378119</td>\n",
       "      <td>0.975828</td>\n",
       "      <td>0.307659</td>\n",
       "      <td>1484.813450</td>\n",
       "      <td>4489.493535</td>\n",
       "      <td>3174.770482</td>\n",
       "      <td>3.107191</td>\n",
       "      <td>1.153514</td>\n",
       "      <td>0.389546</td>\n",
       "      <td>1.907627</td>\n",
       "      <td>...</td>\n",
       "      <td>64959.369545</td>\n",
       "      <td>1.620569</td>\n",
       "      <td>0.758893</td>\n",
       "      <td>1.202772</td>\n",
       "      <td>1.815580</td>\n",
       "      <td>0.437341</td>\n",
       "      <td>0.466026</td>\n",
       "      <td>0.0</td>\n",
       "      <td>20.975824</td>\n",
       "      <td>2.789677</td>\n",
       "    </tr>\n",
       "    <tr>\n",
       "      <th>min</th>\n",
       "      <td>0.000000</td>\n",
       "      <td>0.000000</td>\n",
       "      <td>0.000000</td>\n",
       "      <td>48.000000</td>\n",
       "      <td>48.000000</td>\n",
       "      <td>4.000000</td>\n",
       "      <td>0.000000</td>\n",
       "      <td>0.000000</td>\n",
       "      <td>1.000000</td>\n",
       "      <td>0.000000</td>\n",
       "      <td>...</td>\n",
       "      <td>0.000000</td>\n",
       "      <td>1.000000</td>\n",
       "      <td>0.000000</td>\n",
       "      <td>0.000000</td>\n",
       "      <td>0.000000</td>\n",
       "      <td>1.000000</td>\n",
       "      <td>0.000000</td>\n",
       "      <td>41.0</td>\n",
       "      <td>0.000000</td>\n",
       "      <td>0.000000</td>\n",
       "    </tr>\n",
       "    <tr>\n",
       "      <th>25%</th>\n",
       "      <td>1.000000</td>\n",
       "      <td>0.000000</td>\n",
       "      <td>1.000000</td>\n",
       "      <td>1560.000000</td>\n",
       "      <td>840.000000</td>\n",
       "      <td>210.000000</td>\n",
       "      <td>4.000000</td>\n",
       "      <td>1.000000</td>\n",
       "      <td>1.000000</td>\n",
       "      <td>0.000000</td>\n",
       "      <td>...</td>\n",
       "      <td>26530.000000</td>\n",
       "      <td>1.000000</td>\n",
       "      <td>1.000000</td>\n",
       "      <td>1.000000</td>\n",
       "      <td>0.000000</td>\n",
       "      <td>1.000000</td>\n",
       "      <td>1.000000</td>\n",
       "      <td>41.0</td>\n",
       "      <td>0.000000</td>\n",
       "      <td>0.000000</td>\n",
       "    </tr>\n",
       "    <tr>\n",
       "      <th>50%</th>\n",
       "      <td>1.000000</td>\n",
       "      <td>1.000000</td>\n",
       "      <td>1.000000</td>\n",
       "      <td>2280.000000</td>\n",
       "      <td>9993.000000</td>\n",
       "      <td>480.000000</td>\n",
       "      <td>6.000000</td>\n",
       "      <td>1.000000</td>\n",
       "      <td>1.000000</td>\n",
       "      <td>0.000000</td>\n",
       "      <td>...</td>\n",
       "      <td>51000.000000</td>\n",
       "      <td>1.000000</td>\n",
       "      <td>1.000000</td>\n",
       "      <td>1.000000</td>\n",
       "      <td>4.000000</td>\n",
       "      <td>1.000000</td>\n",
       "      <td>1.000000</td>\n",
       "      <td>41.0</td>\n",
       "      <td>0.000000</td>\n",
       "      <td>0.000000</td>\n",
       "    </tr>\n",
       "    <tr>\n",
       "      <th>75%</th>\n",
       "      <td>1.000000</td>\n",
       "      <td>2.000000</td>\n",
       "      <td>1.000000</td>\n",
       "      <td>3000.000000</td>\n",
       "      <td>9993.000000</td>\n",
       "      <td>840.000000</td>\n",
       "      <td>7.000000</td>\n",
       "      <td>3.000000</td>\n",
       "      <td>1.000000</td>\n",
       "      <td>0.000000</td>\n",
       "      <td>...</td>\n",
       "      <td>87200.000000</td>\n",
       "      <td>3.000000</td>\n",
       "      <td>2.000000</td>\n",
       "      <td>3.000000</td>\n",
       "      <td>4.000000</td>\n",
       "      <td>2.000000</td>\n",
       "      <td>1.000000</td>\n",
       "      <td>41.0</td>\n",
       "      <td>40.000000</td>\n",
       "      <td>6.000000</td>\n",
       "    </tr>\n",
       "    <tr>\n",
       "      <th>max</th>\n",
       "      <td>2.000000</td>\n",
       "      <td>2.000000</td>\n",
       "      <td>2.000000</td>\n",
       "      <td>9997.000000</td>\n",
       "      <td>9997.000000</td>\n",
       "      <td>9997.000000</td>\n",
       "      <td>11.000000</td>\n",
       "      <td>3.000000</td>\n",
       "      <td>2.000000</td>\n",
       "      <td>7.000000</td>\n",
       "      <td>...</td>\n",
       "      <td>664040.000000</td>\n",
       "      <td>7.000000</td>\n",
       "      <td>2.000000</td>\n",
       "      <td>3.000000</td>\n",
       "      <td>4.000000</td>\n",
       "      <td>2.000000</td>\n",
       "      <td>2.000000</td>\n",
       "      <td>41.0</td>\n",
       "      <td>99.000000</td>\n",
       "      <td>6.000000</td>\n",
       "    </tr>\n",
       "  </tbody>\n",
       "</table>\n",
       "<p>8 rows × 21 columns</p>\n",
       "</div>"
      ],
      "text/plain": [
       "          ACREHOUS     CLASSWKR      COMMUSE     COSTELEC      COSTGAS  \\\n",
       "count  9495.000000  9495.000000  9495.000000  9495.000000  9495.000000   \n",
       "mean      0.963560     1.041601     0.920274  2489.090363  5901.423697   \n",
       "std       0.378119     0.975828     0.307659  1484.813450  4489.493535   \n",
       "min       0.000000     0.000000     0.000000    48.000000    48.000000   \n",
       "25%       1.000000     0.000000     1.000000  1560.000000   840.000000   \n",
       "50%       1.000000     1.000000     1.000000  2280.000000  9993.000000   \n",
       "75%       1.000000     2.000000     1.000000  3000.000000  9993.000000   \n",
       "max       2.000000     2.000000     2.000000  9997.000000  9997.000000   \n",
       "\n",
       "          COSTWATR         EDUC      EMPSTAT     FOODSTMP     GRADEATT  ...  \\\n",
       "count  9495.000000  9495.000000  9495.000000  9495.000000  9495.000000  ...   \n",
       "mean   1663.254344     5.744286     1.559031     1.186519     0.953028  ...   \n",
       "std    3174.770482     3.107191     1.153514     0.389546     1.907627  ...   \n",
       "min       4.000000     0.000000     0.000000     1.000000     0.000000  ...   \n",
       "25%     210.000000     4.000000     1.000000     1.000000     0.000000  ...   \n",
       "50%     480.000000     6.000000     1.000000     1.000000     0.000000  ...   \n",
       "75%     840.000000     7.000000     3.000000     1.000000     0.000000  ...   \n",
       "max    9997.000000    11.000000     3.000000     2.000000     7.000000  ...   \n",
       "\n",
       "            HHINCOME       HHTYPE     LABFORCE      LOOKING        METRO  \\\n",
       "count    9495.000000  9495.000000  9495.000000  9495.000000  9495.000000   \n",
       "mean    67243.201580     2.092048     1.268246     1.724171     2.371669   \n",
       "std     64959.369545     1.620569     0.758893     1.202772     1.815580   \n",
       "min         0.000000     1.000000     0.000000     0.000000     0.000000   \n",
       "25%     26530.000000     1.000000     1.000000     1.000000     0.000000   \n",
       "50%     51000.000000     1.000000     1.000000     1.000000     4.000000   \n",
       "75%     87200.000000     3.000000     2.000000     3.000000     4.000000   \n",
       "max    664040.000000     7.000000     2.000000     3.000000     4.000000   \n",
       "\n",
       "          OWNERSHP       SCHOOL  STATEICP     UHRSWORK     WKSWORK2  \n",
       "count  9495.000000  9495.000000    9495.0  9495.000000  9495.000000  \n",
       "mean      1.257609     1.192838      41.0    17.808636     2.380937  \n",
       "std       0.437341     0.466026       0.0    20.975824     2.789677  \n",
       "min       1.000000     0.000000      41.0     0.000000     0.000000  \n",
       "25%       1.000000     1.000000      41.0     0.000000     0.000000  \n",
       "50%       1.000000     1.000000      41.0     0.000000     0.000000  \n",
       "75%       2.000000     1.000000      41.0    40.000000     6.000000  \n",
       "max       2.000000     2.000000      41.0    99.000000     6.000000  \n",
       "\n",
       "[8 rows x 21 columns]"
      ]
     },
     "execution_count": 31,
     "metadata": {},
     "output_type": "execute_result"
    }
   ],
   "source": [
    "acs99.describe()"
   ]
  },
  {
   "cell_type": "code",
   "execution_count": 32,
   "metadata": {},
   "outputs": [
    {
     "data": {
      "text/plain": [
       "count      9495.000000\n",
       "mean      67243.201580\n",
       "std       64959.369545\n",
       "min           0.000000\n",
       "25%       26530.000000\n",
       "50%       51000.000000\n",
       "75%       87200.000000\n",
       "max      664040.000000\n",
       "Name: HHINCOME, dtype: float64"
      ]
     },
     "execution_count": 32,
     "metadata": {},
     "output_type": "execute_result"
    }
   ],
   "source": [
    "acs99.HHINCOME.describe()"
   ]
  },
  {
   "cell_type": "code",
   "execution_count": 33,
   "metadata": {
    "colab": {
     "base_uri": "https://localhost:8080/",
     "height": 282
    },
    "id": "jLU9cUpgTdtf",
    "outputId": "bab01ff4-a6a9-4c9b-9060-1001d5da45e1"
   },
   "outputs": [
    {
     "data": {
      "text/plain": [
       "<matplotlib.axes._subplots.AxesSubplot at 0x7fb8700808b0>"
      ]
     },
     "execution_count": 33,
     "metadata": {},
     "output_type": "execute_result"
    },
    {
     "data": {
      "image/png": "[encoded data removed]",
      "text/plain": [
       "<Figure size 432x288 with 1 Axes>"
      ]
     },
     "metadata": {
      "needs_background": "light"
     },
     "output_type": "display_data"
    }
   ],
   "source": [
    "acs99.HHINCOME.hist(bins=100)"
   ]
  },
  {
   "cell_type": "code",
   "execution_count": 34,
   "metadata": {
    "colab": {
     "base_uri": "https://localhost:8080/",
     "height": 296
    },
    "id": "Xin7UVFABG4X",
    "outputId": "f60c54bf-cd7c-44c5-b0c8-10a17d43f871"
   },
   "outputs": [
    {
     "data": {
      "text/plain": [
       "<seaborn.axisgrid.FacetGrid at 0x7fb870777dc0>"
      ]
     },
     "execution_count": 34,
     "metadata": {},
     "output_type": "execute_result"
    },
    {
     "data": {
      "image/png": "[encoded data removed]",
      "text/plain": [
       "<Figure size 360x360 with 1 Axes>"
      ]
     },
     "metadata": {
      "needs_background": "light"
     },
     "output_type": "display_data"
    }
   ],
   "source": [
    "sns.displot(acs99.HHINCOME, kde=True)"
   ]
  },
  {
   "cell_type": "code",
   "execution_count": 35,
   "metadata": {
    "colab": {
     "base_uri": "https://localhost:8080/",
     "height": 360
    },
    "id": "sGTxMp07Tdtf",
    "outputId": "37b168eb-202f-4eaf-a5cb-e20b86f57fd5",
    "scrolled": true
   },
   "outputs": [
    {
     "data": {
      "text/plain": [
       "array([<matplotlib.axes._subplots.AxesSubplot object at 0x7fb870d83100>,\n",
       "       <matplotlib.axes._subplots.AxesSubplot object at 0x7fb870da8be0>],\n",
       "      dtype=object)"
      ]
     },
     "execution_count": 35,
     "metadata": {},
     "output_type": "execute_result"
    },
    {
     "data": {
      "image/png": "[encoded data removed]",
      "text/plain": [
       "<Figure size 432x288 with 2 Axes>"
      ]
     },
     "metadata": {
      "needs_background": "light"
     },
     "output_type": "display_data"
    }
   ],
   "source": [
    "# not easy to compare \n",
    "acs99[\"HHINCOME\"].hist(by=acs99[\"FOODSTMP\"], bins=100)"
   ]
  },
  {
   "cell_type": "code",
   "execution_count": 39,
   "metadata": {},
   "outputs": [],
   "source": [
    "acs99[\"INCOME+1\"] = acs99.HHINCOME + 1"
   ]
  },
  {
   "cell_type": "code",
   "execution_count": 40,
   "metadata": {
    "colab": {
     "base_uri": "https://localhost:8080/",
     "height": 296
    },
    "id": "YnhVq1JNAlc8",
    "outputId": "42cc681a-b113-4849-b694-090edc11d12c"
   },
   "outputs": [
    {
     "data": {
      "text/plain": [
       "<matplotlib.axes._subplots.AxesSubplot at 0x7fb871bd9130>"
      ]
     },
     "execution_count": 40,
     "metadata": {},
     "output_type": "execute_result"
    },
    {
     "data": {
      "image/png": "[encoded data removed]",
      "text/plain": [
       "<Figure size 432x288 with 1 Axes>"
      ]
     },
     "metadata": {
      "needs_background": "light"
     },
     "output_type": "display_data"
    }
   ],
   "source": [
    "# better \n",
    "sns.histplot(\n",
    "    acs99,\n",
    "    x=\"INCOME+1\", hue=\"FOODSTMP\",\n",
    "    # multiple=\"stack\",\n",
    "    # palette=\"light:m_r\",\n",
    "    # edgecolor=\".3\",\n",
    "    # linewidth=.5,\n",
    "    log_scale=True,\n",
    ")"
   ]
  },
  {
   "cell_type": "code",
   "execution_count": 37,
   "metadata": {
    "colab": {
     "base_uri": "https://localhost:8080/",
     "height": 386
    },
    "id": "ahqAbAp4Dk27",
    "outputId": "a60917b4-23a4-4970-9423-90e455977b3c"
   },
   "outputs": [
    {
     "data": {
      "text/plain": [
       "<seaborn.axisgrid.FacetGrid at 0x7fb8710b3f70>"
      ]
     },
     "execution_count": 37,
     "metadata": {},
     "output_type": "execute_result"
    },
    {
     "data": {
      "image/png": "[encoded data removed]",
      "text/plain": [
       "<Figure size 423.875x360 with 1 Axes>"
      ]
     },
     "metadata": {
      "needs_background": "light"
     },
     "output_type": "display_data"
    }
   ],
   "source": [
    "# better \n",
    "sns.displot(\n",
    "    acs99,\n",
    "    x=\"HHINCOME\", hue=\"FOODSTMP\",\n",
    "    kind='kde'\n",
    ")"
   ]
  },
  {
   "cell_type": "markdown",
   "metadata": {
    "id": "mFlj9vsWEDWP"
   },
   "source": [
    "Tips for making good plots:\n",
    "* label your axes\n",
    "* label each curve or each color\n",
    "* consider semilogy or semilogx\n",
    "* are tick marks useful?\n",
    "* make every pixel informative \n",
    "* choose plot style to allow easy comparisons between interesting quantities"
   ]
  },
  {
   "cell_type": "markdown",
   "metadata": {
    "id": "tIVAt-v6EX8p"
   },
   "source": [
    "Quiz: would a semilogx axis help us visualize the income distribution?\n",
    "1. A) yes\n",
    "2. B) no"
   ]
  },
  {
   "cell_type": "markdown",
   "metadata": {
    "id": "ClN8QfTaTdtg"
   },
   "source": [
    "# Now with recoded data\n",
    "The cleaned data set is in the demos repo as `acs_2013_cleaned.csv`."
   ]
  },
  {
   "cell_type": "code",
   "execution_count": 24,
   "metadata": {
    "colab": {
     "base_uri": "https://localhost:8080/",
     "height": 225
    },
    "id": "AkavEuloTdtg",
    "outputId": "0313f922-6ecf-4e78-f7bd-d45c571d083d"
   },
   "outputs": [
    {
     "data": {
      "text/html": [
       "<div>\n",
       "<style scoped>\n",
       "    .dataframe tbody tr th:only-of-type {\n",
       "        vertical-align: middle;\n",
       "    }\n",
       "\n",
       "    .dataframe tbody tr th {\n",
       "        vertical-align: top;\n",
       "    }\n",
       "\n",
       "    .dataframe thead th {\n",
       "        text-align: right;\n",
       "    }\n",
       "</style>\n",
       "<table border=\"1\" class=\"dataframe\">\n",
       "  <thead>\n",
       "    <tr style=\"text-align: right;\">\n",
       "      <th></th>\n",
       "      <th>ACREHOUS</th>\n",
       "      <th>CLASSWKR</th>\n",
       "      <th>COMMUSE</th>\n",
       "      <th>COSTELEC</th>\n",
       "      <th>COSTGAS</th>\n",
       "      <th>COSTWATR</th>\n",
       "      <th>EDUC</th>\n",
       "      <th>EMPSTAT</th>\n",
       "      <th>FOODSTMP</th>\n",
       "      <th>GRADEATT</th>\n",
       "      <th>...</th>\n",
       "      <th>HHINCOME</th>\n",
       "      <th>HHTYPE</th>\n",
       "      <th>LABFORCE</th>\n",
       "      <th>LOOKING</th>\n",
       "      <th>METRO</th>\n",
       "      <th>OWNERSHP</th>\n",
       "      <th>SCHOOL</th>\n",
       "      <th>STATEICP</th>\n",
       "      <th>UHRSWORK</th>\n",
       "      <th>WKSWORK2</th>\n",
       "    </tr>\n",
       "  </thead>\n",
       "  <tbody>\n",
       "    <tr>\n",
       "      <th>0</th>\n",
       "      <td>NaN</td>\n",
       "      <td>NaN</td>\n",
       "      <td>NaN</td>\n",
       "      <td>NaN</td>\n",
       "      <td>NaN</td>\n",
       "      <td>NaN</td>\n",
       "      <td>7.0</td>\n",
       "      <td>3.0</td>\n",
       "      <td>1</td>\n",
       "      <td>6.0</td>\n",
       "      <td>...</td>\n",
       "      <td>NaN</td>\n",
       "      <td>NaN</td>\n",
       "      <td>1.0</td>\n",
       "      <td>1.0</td>\n",
       "      <td>4.0</td>\n",
       "      <td>NaN</td>\n",
       "      <td>2.0</td>\n",
       "      <td>41.0</td>\n",
       "      <td>NaN</td>\n",
       "      <td>NaN</td>\n",
       "    </tr>\n",
       "    <tr>\n",
       "      <th>1</th>\n",
       "      <td>1.0</td>\n",
       "      <td>2.0</td>\n",
       "      <td>1.0</td>\n",
       "      <td>4200.0</td>\n",
       "      <td>NaN</td>\n",
       "      <td>480.0</td>\n",
       "      <td>8.0</td>\n",
       "      <td>1.0</td>\n",
       "      <td>1</td>\n",
       "      <td>NaN</td>\n",
       "      <td>...</td>\n",
       "      <td>151000.0</td>\n",
       "      <td>1.0</td>\n",
       "      <td>2.0</td>\n",
       "      <td>NaN</td>\n",
       "      <td>NaN</td>\n",
       "      <td>1.0</td>\n",
       "      <td>1.0</td>\n",
       "      <td>41.0</td>\n",
       "      <td>40.0</td>\n",
       "      <td>6.0</td>\n",
       "    </tr>\n",
       "    <tr>\n",
       "      <th>2</th>\n",
       "      <td>1.0</td>\n",
       "      <td>1.0</td>\n",
       "      <td>1.0</td>\n",
       "      <td>4200.0</td>\n",
       "      <td>NaN</td>\n",
       "      <td>480.0</td>\n",
       "      <td>6.0</td>\n",
       "      <td>1.0</td>\n",
       "      <td>1</td>\n",
       "      <td>NaN</td>\n",
       "      <td>...</td>\n",
       "      <td>151000.0</td>\n",
       "      <td>1.0</td>\n",
       "      <td>2.0</td>\n",
       "      <td>NaN</td>\n",
       "      <td>NaN</td>\n",
       "      <td>1.0</td>\n",
       "      <td>1.0</td>\n",
       "      <td>41.0</td>\n",
       "      <td>40.0</td>\n",
       "      <td>6.0</td>\n",
       "    </tr>\n",
       "    <tr>\n",
       "      <th>3</th>\n",
       "      <td>1.0</td>\n",
       "      <td>NaN</td>\n",
       "      <td>1.0</td>\n",
       "      <td>4200.0</td>\n",
       "      <td>NaN</td>\n",
       "      <td>480.0</td>\n",
       "      <td>7.0</td>\n",
       "      <td>3.0</td>\n",
       "      <td>1</td>\n",
       "      <td>6.0</td>\n",
       "      <td>...</td>\n",
       "      <td>151000.0</td>\n",
       "      <td>1.0</td>\n",
       "      <td>1.0</td>\n",
       "      <td>1.0</td>\n",
       "      <td>NaN</td>\n",
       "      <td>1.0</td>\n",
       "      <td>2.0</td>\n",
       "      <td>41.0</td>\n",
       "      <td>NaN</td>\n",
       "      <td>NaN</td>\n",
       "    </tr>\n",
       "    <tr>\n",
       "      <th>4</th>\n",
       "      <td>1.0</td>\n",
       "      <td>NaN</td>\n",
       "      <td>1.0</td>\n",
       "      <td>4200.0</td>\n",
       "      <td>NaN</td>\n",
       "      <td>480.0</td>\n",
       "      <td>7.0</td>\n",
       "      <td>3.0</td>\n",
       "      <td>1</td>\n",
       "      <td>6.0</td>\n",
       "      <td>...</td>\n",
       "      <td>151000.0</td>\n",
       "      <td>1.0</td>\n",
       "      <td>1.0</td>\n",
       "      <td>1.0</td>\n",
       "      <td>NaN</td>\n",
       "      <td>1.0</td>\n",
       "      <td>2.0</td>\n",
       "      <td>41.0</td>\n",
       "      <td>NaN</td>\n",
       "      <td>NaN</td>\n",
       "    </tr>\n",
       "  </tbody>\n",
       "</table>\n",
       "<p>5 rows × 21 columns</p>\n",
       "</div>"
      ],
      "text/plain": [
       "   ACREHOUS  CLASSWKR  COMMUSE  COSTELEC  COSTGAS  COSTWATR  EDUC  EMPSTAT  \\\n",
       "0       NaN       NaN      NaN       NaN      NaN       NaN   7.0      3.0   \n",
       "1       1.0       2.0      1.0    4200.0      NaN     480.0   8.0      1.0   \n",
       "2       1.0       1.0      1.0    4200.0      NaN     480.0   6.0      1.0   \n",
       "3       1.0       NaN      1.0    4200.0      NaN     480.0   7.0      3.0   \n",
       "4       1.0       NaN      1.0    4200.0      NaN     480.0   7.0      3.0   \n",
       "\n",
       "   FOODSTMP  GRADEATT  ...  HHINCOME  HHTYPE  LABFORCE  LOOKING  METRO  \\\n",
       "0         1       6.0  ...       NaN     NaN       1.0      1.0    4.0   \n",
       "1         1       NaN  ...  151000.0     1.0       2.0      NaN    NaN   \n",
       "2         1       NaN  ...  151000.0     1.0       2.0      NaN    NaN   \n",
       "3         1       6.0  ...  151000.0     1.0       1.0      1.0    NaN   \n",
       "4         1       6.0  ...  151000.0     1.0       1.0      1.0    NaN   \n",
       "\n",
       "   OWNERSHP  SCHOOL  STATEICP  UHRSWORK  WKSWORK2  \n",
       "0       NaN     2.0      41.0       NaN       NaN  \n",
       "1       1.0     1.0      41.0      40.0       6.0  \n",
       "2       1.0     1.0      41.0      40.0       6.0  \n",
       "3       1.0     2.0      41.0       NaN       NaN  \n",
       "4       1.0     2.0      41.0       NaN       NaN  \n",
       "\n",
       "[5 rows x 21 columns]"
      ]
     },
     "execution_count": 24,
     "metadata": {},
     "output_type": "execute_result"
    }
   ],
   "source": [
    "url_clean = \"https://people.orie.cornell.edu/mru8/orie4741/data/acs_2013_cleaned.csv\"\n",
    "acs = pd.read_csv(url_clean, nrows=10000, na_values='NA') # read 10000 rows from the csv\n",
    "acs.head()"
   ]
  },
  {
   "cell_type": "code",
   "execution_count": 25,
   "metadata": {
    "colab": {
     "base_uri": "https://localhost:8080/"
    },
    "id": "IzlNWw9-Tdtg",
    "outputId": "09023f12-40fa-4419-9389-865f4fe61cbf"
   },
   "outputs": [
    {
     "data": {
      "text/plain": [
       "count      9394.000000\n",
       "mean      67966.169789\n",
       "std       64930.350456\n",
       "min           1.000000\n",
       "25%       27200.000000\n",
       "50%       52000.000000\n",
       "75%       87960.000000\n",
       "max      664040.000000\n",
       "Name: HHINCOME, dtype: float64"
      ]
     },
     "execution_count": 25,
     "metadata": {},
     "output_type": "execute_result"
    }
   ],
   "source": [
    "acs.HHINCOME.describe()"
   ]
  },
  {
   "cell_type": "markdown",
   "metadata": {
    "id": "Xx9z_p7jTdtg"
   },
   "source": [
    "**Poll**: Is mean income computed here plausible for US income distribution?\n",
    "* A) No, this value is too high \n",
    "* B) Plausible\n",
    "* C) No, this value is too low"
   ]
  },
  {
   "cell_type": "code",
   "execution_count": 26,
   "metadata": {
    "colab": {
     "base_uri": "https://localhost:8080/",
     "height": 282
    },
    "id": "b6G34EocTdth",
    "outputId": "db715590-0a84-4059-864a-749949f07672"
   },
   "outputs": [
    {
     "data": {
      "text/plain": [
       "<matplotlib.axes._subplots.AxesSubplot at 0x7fa2b53e1610>"
      ]
     },
     "execution_count": 26,
     "metadata": {},
     "output_type": "execute_result"
    },
    {
     "data": {
      "image/png": "[encoded data removed]",
      "text/plain": [
       "<Figure size 432x288 with 1 Axes>"
      ]
     },
     "metadata": {
      "needs_background": "light"
     },
     "output_type": "display_data"
    }
   ],
   "source": [
    "# histogram automatically drops missing values\n",
    "acs.HHINCOME.hist()"
   ]
  },
  {
   "cell_type": "code",
   "execution_count": 27,
   "metadata": {
    "colab": {
     "base_uri": "https://localhost:8080/",
     "height": 282
    },
    "id": "vBHFIbuqTdth",
    "outputId": "51995169-bd0f-4f18-852f-25b59831535c"
   },
   "outputs": [
    {
     "data": {
      "text/plain": [
       "<matplotlib.axes._subplots.AxesSubplot at 0x7fa2a3c33550>"
      ]
     },
     "execution_count": 27,
     "metadata": {},
     "output_type": "execute_result"
    },
    {
     "data": {
      "image/png": "[encoded data removed]",
      "text/plain": [
       "<Figure size 432x288 with 1 Axes>"
      ]
     },
     "metadata": {
      "needs_background": "light"
     },
     "output_type": "display_data"
    }
   ],
   "source": [
    "acs.COSTGAS.hist()"
   ]
  },
  {
   "cell_type": "code",
   "execution_count": 28,
   "metadata": {
    "colab": {
     "base_uri": "https://localhost:8080/",
     "height": 282
    },
    "id": "0crmewUTTdth",
    "outputId": "f9393b5a-2da5-440f-a2bc-27eb413117d5"
   },
   "outputs": [
    {
     "data": {
      "text/plain": [
       "<matplotlib.axes._subplots.AxesSubplot at 0x7fa2a3d64910>"
      ]
     },
     "execution_count": 28,
     "metadata": {},
     "output_type": "execute_result"
    },
    {
     "data": {
      "image/png": "[encoded data removed]",
      "text/plain": [
       "<Figure size 432x288 with 1 Axes>"
      ]
     },
     "metadata": {
      "needs_background": "light"
     },
     "output_type": "display_data"
    }
   ],
   "source": [
    "acs.EDUC.hist()"
   ]
  },
  {
   "cell_type": "markdown",
   "metadata": {
    "id": "OXBPnymjTdti"
   },
   "source": [
    "Look at income distribution by :FOODSTMP, :LABFORCE, :OWNERSHP, ..."
   ]
  },
  {
   "cell_type": "code",
   "execution_count": 29,
   "metadata": {
    "colab": {
     "base_uri": "https://localhost:8080/",
     "height": 386
    },
    "id": "KynGskroTdti",
    "outputId": "45ca2246-58fa-4157-c380-826afb683d93"
   },
   "outputs": [
    {
     "data": {
      "text/plain": [
       "<seaborn.axisgrid.FacetGrid at 0x7fa2a3daf9d0>"
      ]
     },
     "execution_count": 29,
     "metadata": {},
     "output_type": "execute_result"
    },
    {
     "data": {
      "image/png": "[encoded data removed]",
      "text/plain": [
       "<Figure size 420.5x360 with 1 Axes>"
      ]
     },
     "metadata": {
      "needs_background": "light"
     },
     "output_type": "display_data"
    }
   ],
   "source": [
    "sns.displot(\n",
    "    acs,\n",
    "    x=\"HHINCOME\", hue=\"LABFORCE\",\n",
    "    kind='kde', # also try hist\n",
    ")"
   ]
  },
  {
   "cell_type": "markdown",
   "metadata": {
    "id": "5P03PaDjd9EW"
   },
   "source": [
    "Which makes a nicer plot here?\n",
    "1. A) kde\n",
    "2. B) hist"
   ]
  },
  {
   "cell_type": "code",
   "execution_count": 30,
   "metadata": {
    "colab": {
     "base_uri": "https://localhost:8080/"
    },
    "id": "PynC_nxZeGR7",
    "outputId": "7ef63365-f701-4e2f-e43b-961f4199daaf"
   },
   "outputs": [
    {
     "data": {
      "text/plain": [
       "0.5395604395604395"
      ]
     },
     "execution_count": 30,
     "metadata": {},
     "output_type": "execute_result"
    }
   ],
   "source": [
    "# what fraction of people are working? \n",
    "sum(acs.LABFORCE == 2) / sum(~pd.isna(acs.LABFORCE))"
   ]
  },
  {
   "cell_type": "code",
   "execution_count": 31,
   "metadata": {
    "colab": {
     "base_uri": "https://localhost:8080/",
     "height": 315
    },
    "id": "2IMmw-A-fMeZ",
    "outputId": "72d4e53f-08ec-4a95-f10f-c535b7707019"
   },
   "outputs": [
    {
     "data": {
      "text/plain": [
       "<seaborn.axisgrid.FacetGrid at 0x7fa2a3e67ac0>"
      ]
     },
     "execution_count": 31,
     "metadata": {},
     "output_type": "execute_result"
    },
    {
     "data": {
      "image/png": "[encoded data removed]",
      "text/plain": [
       "<Figure size 3600x720 with 20 Axes>"
      ]
     },
     "metadata": {
      "needs_background": "light"
     },
     "output_type": "display_data"
    }
   ],
   "source": [
    "sns.displot(\n",
    "    acs,\n",
    "    x=\"HHINCOME\", row=\"LABFORCE\", col=\"EDUC\",\n",
    "    kind='hist', # also try kde\n",
    ")"
   ]
  },
  {
   "cell_type": "code",
   "execution_count": 32,
   "metadata": {
    "colab": {
     "base_uri": "https://localhost:8080/",
     "height": 296
    },
    "id": "tM0poqSkf32W",
    "outputId": "532d9c62-9708-4c9d-9597-bd7b57447bce"
   },
   "outputs": [
    {
     "data": {
      "text/plain": [
       "<matplotlib.axes._subplots.AxesSubplot at 0x7fa2a6bd3370>"
      ]
     },
     "execution_count": 32,
     "metadata": {},
     "output_type": "execute_result"
    },
    {
     "data": {
      "image/png": "[encoded data removed]",
      "text/plain": [
       "<Figure size 432x288 with 1 Axes>"
      ]
     },
     "metadata": {
      "needs_background": "light"
     },
     "output_type": "display_data"
    }
   ],
   "source": [
    "sns.violinplot(\n",
    "    data=acs,\n",
    "    y=\"HHINCOME\", x=\"EDUC\"\n",
    ")"
   ]
  },
  {
   "cell_type": "code",
   "execution_count": 33,
   "metadata": {
    "colab": {
     "base_uri": "https://localhost:8080/",
     "height": 296
    },
    "id": "9kBBT2tigEFR",
    "outputId": "ec882b80-f6be-4491-e405-d3a9e596198c"
   },
   "outputs": [
    {
     "data": {
      "text/plain": [
       "<matplotlib.axes._subplots.AxesSubplot at 0x7fa2a71413a0>"
      ]
     },
     "execution_count": 33,
     "metadata": {},
     "output_type": "execute_result"
    },
    {
     "data": {
      "image/png": "[encoded data removed]",
      "text/plain": [
       "<Figure size 432x288 with 1 Axes>"
      ]
     },
     "metadata": {
      "needs_background": "light"
     },
     "output_type": "display_data"
    }
   ],
   "source": [
    "sns.boxplot(\n",
    "    data=acs,\n",
    "    y=\"HHINCOME\", x=\"EDUC\"\n",
    ")"
   ]
  },
  {
   "cell_type": "code",
   "execution_count": 34,
   "metadata": {
    "colab": {
     "base_uri": "https://localhost:8080/",
     "height": 296
    },
    "id": "D8zQD-6FTdti",
    "outputId": "7d1bcc4f-27a0-47ee-b973-8d65e11146e0"
   },
   "outputs": [
    {
     "data": {
      "text/plain": [
       "<matplotlib.axes._subplots.AxesSubplot at 0x7fa2a7c6b370>"
      ]
     },
     "execution_count": 34,
     "metadata": {},
     "output_type": "execute_result"
    },
    {
     "data": {
      "image/png": "[encoded data removed]",
      "text/plain": [
       "<Figure size 432x288 with 1 Axes>"
      ]
     },
     "metadata": {
      "needs_background": "light"
     },
     "output_type": "display_data"
    }
   ],
   "source": [
    "# why not a scatterplot?\n",
    "acs.head(500).plot.scatter(x=\"EDUC\", y=\"HHINCOME\")"
   ]
  },
  {
   "cell_type": "markdown",
   "metadata": {
    "id": "MyI2gV9FTdti"
   },
   "source": [
    "# More great plotting ideas: \n",
    "\n",
    "* [MatPlotLib](http://matplotlib.org/) in Python\n",
    "* [Seaborn](https://seaborn.pydata.org/examples/index.html) in Python\n",
    "* [ggplot2](http://ggplot2.org/) in R\n",
    "* [D3](https://d3js.org/) in JavaScript\n",
    "* Tableau"
   ]
  },
  {
   "cell_type": "code",
   "execution_count": null,
   "metadata": {
    "id": "l1sG9goDTdtj"
   },
   "outputs": [],
   "source": []
  }
 ],
 "metadata": {
  "@webio": {
   "lastCommId": null,
   "lastKernelId": null
  },
  "colab": {
   "collapsed_sections": [],
   "name": "eda.ipynb",
   "provenance": []
  },
  "kernelspec": {
   "display_name": "Python 3",
   "language": "python",
   "name": "python3"
  },
  "language_info": {
   "codemirror_mode": {
    "name": "ipython",
    "version": 3
   },
   "file_extension": ".py",
   "mimetype": "text/x-python",
   "name": "python",
   "nbconvert_exporter": "python",
   "pygments_lexer": "ipython3",
   "version": "3.8.3"
  }
 },
 "nbformat": 4,
 "nbformat_minor": 1
}
