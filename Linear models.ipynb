{
 "cells": [
  {
   "cell_type": "code",
   "execution_count": null,
   "metadata": {},
   "outputs": [],
   "source": [
    "using Plots, Random, LinearAlgebra, Statistics\n",
    "pyplot()"
   ]
  },
  {
   "cell_type": "code",
   "execution_count": null,
   "metadata": {},
   "outputs": [],
   "source": [
    "\"\"\"plot line y = w*x+b\"\"\"\n",
    "function plotline(w,b;\n",
    "                  xmin=-100,xmax=100,label=\"\")\n",
    "    xsamples = [xmin, xmax]\n",
    "    plot!(xsamples, [w*x+b for x in xsamples], color=:black, label=label)\n",
    "end"
   ]
  },
  {
   "cell_type": "code",
   "execution_count": null,
   "metadata": {},
   "outputs": [],
   "source": [
    "\"\"\"plot function y=f(x)\"\"\"\n",
    "function plotfunc(f;\n",
    "                  xmin=-100,xmax=100,nsamples=100,label=\"\")\n",
    "    xsamples = LinRange(xmin,xmax,nsamples)\n",
    "    plot!(xsamples, [f(x) for x in xsamples], color=:black, label=label)\n",
    "end"
   ]
  },
  {
   "cell_type": "code",
   "execution_count": null,
   "metadata": {},
   "outputs": [],
   "source": [
    "# Generate and plot data\n",
    "Random.seed!(1)\n",
    "n = 15\n",
    "function sample_data(num_points)\n",
    "    x = rand(num_points)*10\n",
    "    y = .2 .+ .2*x + .1*sin.(x) + .1*randn(num_points) - .01*((x.-5)/6).^4\n",
    "    return x,y\n",
    "end\n",
    "x,y = sample_data(n)\n",
    "\n",
    "\"\"\"function to plot the above data\"\"\"\n",
    "function plotdata(x=x,y=y; margin=.05)\n",
    "    scatter(x,y, label=\"data\", legend=:topleft)\n",
    "    xlabel!(\"x\")\n",
    "    ylabel!(\"y\")\n",
    "    range_y = maximum(y) - minimum(y)\n",
    "    range_x = maximum(x) - minimum(x)\n",
    "    ylims!((minimum(y)-margin*range_y,maximum(y)+margin*range_y))\n",
    "    xlims!((minimum(x)-margin*range_x,maximum(x)+margin*range_x))\n",
    "end\n",
    "plotdata()"
   ]
  },
  {
   "cell_type": "markdown",
   "metadata": {},
   "source": [
    "# Approximating with the mean"
   ]
  },
  {
   "cell_type": "code",
   "execution_count": null,
   "metadata": {},
   "outputs": [],
   "source": [
    "# the mean solves a very simple least squares problem:\n",
    "X = ones(n,1)\n",
    "w = X\\y"
   ]
  },
  {
   "cell_type": "code",
   "execution_count": null,
   "metadata": {},
   "outputs": [],
   "source": [
    "# check the solution to our least squares problem is the mean\n",
    "abs(mean(y) - w[1])"
   ]
  },
  {
   "cell_type": "code",
   "execution_count": null,
   "metadata": {},
   "outputs": [],
   "source": [
    "# plot the fit\n",
    "plotdata()\n",
    "plotline(0, w[1], label=\"mean\")"
   ]
  },
  {
   "cell_type": "markdown",
   "metadata": {},
   "source": [
    "Is this a good model? Would you trust this model to make predictions on new inputs $x$?\n",
    "\n",
    "* (A) yes \n",
    "* (B) no"
   ]
  },
  {
   "cell_type": "markdown",
   "metadata": {},
   "source": [
    "# Approximating with a line"
   ]
  },
  {
   "cell_type": "code",
   "execution_count": null,
   "metadata": {},
   "outputs": [],
   "source": [
    "X = [copy(x) ones(length(x))]"
   ]
  },
  {
   "cell_type": "code",
   "execution_count": null,
   "metadata": {},
   "outputs": [],
   "source": [
    "w = X\\y"
   ]
  },
  {
   "cell_type": "code",
   "execution_count": null,
   "metadata": {},
   "outputs": [],
   "source": [
    "# plot the fit\n",
    "plotdata()\n",
    "plotline(w[1], w[2], label=\"linear fit\")"
   ]
  },
  {
   "cell_type": "markdown",
   "metadata": {},
   "source": [
    "Is this a good model? Would you trust this model to make predictions on new inputs $x$?\n",
    "\n",
    "* (A) yes \n",
    "* (B) no"
   ]
  },
  {
   "cell_type": "code",
   "execution_count": null,
   "metadata": {},
   "outputs": [],
   "source": [
    "# plot fit on out of sample data\n",
    "plotdata()\n",
    "plotline(w[1], w[2])\n",
    "\n",
    "xtest,ytest = sample_data(20)\n",
    "scatter!(xtest,ytest,label=\"test\")"
   ]
  },
  {
   "cell_type": "markdown",
   "metadata": {},
   "source": [
    "# Approximating with a polynomial"
   ]
  },
  {
   "cell_type": "code",
   "execution_count": null,
   "metadata": {},
   "outputs": [],
   "source": [
    "# first, construct a Vandermonde matrix\n",
    "max_order = 10\n",
    "\n",
    "X = zeros(n, max_order+1)\n",
    "for k=0:max_order\n",
    "    X[:,k+1] = x.^k\n",
    "end\n",
    "X"
   ]
  },
  {
   "cell_type": "code",
   "execution_count": null,
   "metadata": {},
   "outputs": [],
   "source": [
    "# solve least squares problem\n",
    "w = X\\y"
   ]
  },
  {
   "cell_type": "code",
   "execution_count": null,
   "metadata": {},
   "outputs": [],
   "source": [
    "\"\"\"computes our polynomial fit evaluated at x\"\"\"\n",
    "function p(x; order = max_order, w = w)\n",
    "    y = 0\n",
    "    for k=0:order\n",
    "        y += w[k+1]*x^k\n",
    "    end\n",
    "    return y\n",
    "end"
   ]
  },
  {
   "cell_type": "code",
   "execution_count": null,
   "metadata": {},
   "outputs": [],
   "source": [
    "# plot fit\n",
    "plotdata()\n",
    "plotfunc(x -> p(x, order=max_order, w=w), xmin=0, xmax=10)"
   ]
  },
  {
   "cell_type": "markdown",
   "metadata": {},
   "source": [
    "Is this a good model? Would you trust this model to make predictions on new inputs $x$?\n",
    "\n",
    "* (A) yes \n",
    "* (B) no"
   ]
  },
  {
   "cell_type": "code",
   "execution_count": null,
   "metadata": {},
   "outputs": [],
   "source": [
    "# plot fit on out of sample data\n",
    "plotdata()\n",
    "plotfunc(x -> p(x, order=max_order, w=w), xmin=0, xmax=10)\n",
    "\n",
    "xtest,ytest = sample_data(100)\n",
    "scatter!(xtest,ytest,label=\"test\")"
   ]
  },
  {
   "cell_type": "markdown",
   "metadata": {
    "collapsed": true
   },
   "source": [
    "# Choosing the best model order"
   ]
  },
  {
   "cell_type": "code",
   "execution_count": null,
   "metadata": {},
   "outputs": [],
   "source": [
    "max_model_order = 10\n",
    "rmse = zeros(max_model_order+1) # array to store root mean square model errors\n",
    "xtest,ytest = sample_data(50)   # generate test set\n",
    "\n",
    "for model_order = 0:max_model_order\n",
    "    # form Vandermonde matrix\n",
    "    X = zeros(n, model_order+1)\n",
    "    for k=0:model_order\n",
    "        X[:,k+1] = x.^k\n",
    "    end\n",
    "    \n",
    "    # solve least squares problem\n",
    "    w = X\\y\n",
    "    \n",
    "    # compute test error\n",
    "    ptest = [p(x, order=model_order, w=w) for x in xtest]\n",
    "    rmse[model_order+1] = mean(abs.(ytest - ptest)) # sqrt(mean((ytest - ptest).^2))\n",
    "end\n",
    "rmse"
   ]
  },
  {
   "cell_type": "code",
   "execution_count": null,
   "metadata": {},
   "outputs": [],
   "source": [
    "plot(0:max_model_order,rmse)\n",
    "xticks!(0:10)\n",
    "xlabel!(\"model order\")\n",
    "ylabel!(\"rmse\")"
   ]
  },
  {
   "cell_type": "markdown",
   "metadata": {},
   "source": [
    "# Polynomial models for classification"
   ]
  },
  {
   "cell_type": "code",
   "execution_count": null,
   "metadata": {},
   "outputs": [],
   "source": [
    "Random.seed!(0)\n",
    "n = 20\n",
    "xs = 10*(rand(n) .- .5)\n",
    "ys = (xs).^2\n",
    "pos = (xs .- 1).^2 .>= 7\n",
    "zn=zeros(n)\n",
    "pt = scatter(xs[pos],zn[pos],color=\"blue\", label=\"positive\")\n",
    "scatter!(xs[.!pos],zn[.!pos],color=\"red\", label=\"negative\")\n",
    "plot!([-2,-2], [-1,1], color=\"black\", label=\"classification boundary\")#, ticks=:none, border=:none, legend=false)\n",
    "yaxis!([-1,1])\n",
    "# savefig(\"poly-class-1d.pdf\")\n",
    "pt"
   ]
  },
  {
   "cell_type": "code",
   "execution_count": null,
   "metadata": {},
   "outputs": [],
   "source": [
    "pt = scatter(xs[pos],ys[pos],color=\"blue\", label=\"positive\")\n",
    "scatter!(xs[.!pos],ys[.!pos],color=\"red\", label=\"negative\")\n",
    "plot!(xs, 1.5*xs .+ 7, color=\"black\", label=\"classification boundary\")\n",
    "# savefig(\"poly-class-2d.pdf\")\n",
    "pt"
   ]
  },
  {
   "cell_type": "code",
   "execution_count": null,
   "metadata": {},
   "outputs": [],
   "source": [
    "# Example 1: multivariate polynomial classification \n",
    "n = 1000\n",
    "scale = 50\n",
    "x1 = scale*rand(n) .- scale/2\n",
    "x2 = scale*rand(n) .- scale/2\n",
    "f(x1,x2) = -30 - 9x1 + 2x2 + x1^2 - 0x1*x2 + x2^2\n",
    "y = f.(x1,x2)\n",
    "pos = y.>0\n",
    "neg = y.<0\n",
    "\n",
    "scatter(x1[pos], x2[pos], color=\"blue\")\n",
    "scatter!(x1[neg], x2[neg], color=\"red\",legend=:topright)"
   ]
  },
  {
   "cell_type": "code",
   "execution_count": null,
   "metadata": {},
   "outputs": [],
   "source": [
    "# Example 2: multivariate polynomial classification \n",
    "n = 1000\n",
    "scale = 10\n",
    "x1 = scale*rand(n) .- scale/2\n",
    "x2 = scale*rand(n) .- scale/2\n",
    "f(x1,x2) = -5 - 3x1 + 2x2 + x1^2 - x1*x2 + 5x2^2\n",
    "y = f.(x1,x2)\n",
    "pos = y.>0\n",
    "neg = y.<0\n",
    "\n",
    "scatter(x1[pos], x2[pos], color=\"blue\")\n",
    "scatter!(x1[neg], x2[neg], color=\"red\",legend=:topright)"
   ]
  },
  {
   "cell_type": "code",
   "execution_count": null,
   "metadata": {},
   "outputs": [],
   "source": [
    "# Example 3: multivariate polynomial classification \n",
    "n = 1000\n",
    "scale = 20\n",
    "x1 = scale*rand(n) .- scale/2\n",
    "x2 = scale*rand(n) .- scale/2\n",
    "f(x1,x2) = -5 - 3x1 + 2x2 + x1^2 - x1*x2 - 2x2^2\n",
    "y = f.(x1,x2)\n",
    "pos = y.>0\n",
    "neg = y.<0\n",
    "\n",
    "scatter(x1[pos], x2[pos], color=\"blue\")\n",
    "scatter!(x1[neg], x2[neg], color=\"red\",legend=:topright)"
   ]
  },
  {
   "cell_type": "markdown",
   "metadata": {
    "collapsed": true
   },
   "source": [
    "# Bootstrap estimators"
   ]
  },
  {
   "cell_type": "code",
   "execution_count": null,
   "metadata": {},
   "outputs": [],
   "source": [
    "# sample K data sets of n samples each and compute a model on each\n",
    "# see how the models vary\n",
    "n = 50\n",
    "K = 500\n",
    "\n",
    "models = zeros(K,2)\n",
    "for k=1:K\n",
    "    xk,yk = sample_data(n) # this experiment samples from the true data distribution many many times (not realistic)\n",
    "    Xk = [xk ones(n)]\n",
    "    wk = Xk \\ yk\n",
    "    models[k,:] = wk\n",
    "end"
   ]
  },
  {
   "cell_type": "code",
   "execution_count": null,
   "metadata": {},
   "outputs": [],
   "source": [
    "# histogram of the distribution of the first coefficient\n",
    "# could use to compute, eg, confidence intervals\n",
    "\n",
    "histogram(models[:,1])"
   ]
  },
  {
   "cell_type": "code",
   "execution_count": null,
   "metadata": {},
   "outputs": [],
   "source": [
    "mean(models, dims=1)"
   ]
  },
  {
   "cell_type": "code",
   "execution_count": null,
   "metadata": {},
   "outputs": [],
   "source": [
    "var(models,dims=1)"
   ]
  },
  {
   "cell_type": "code",
   "execution_count": null,
   "metadata": {},
   "outputs": [],
   "source": [
    "# can sample with replacement using rand\n",
    "rand(1:20, 5)"
   ]
  },
  {
   "cell_type": "code",
   "execution_count": null,
   "metadata": {},
   "outputs": [],
   "source": [
    "# eg,\n",
    "a = .1:.1:2.0\n",
    "s = rand(1:20, 5)\n",
    "[s a[s]]"
   ]
  },
  {
   "cell_type": "code",
   "execution_count": null,
   "metadata": {},
   "outputs": [],
   "source": [
    "# resample K bootstrap data sets of n samples each and compute a model on each\n",
    "# see how the models vary\n",
    "# how does result depend on number of datapoints n? number of resamples K?\n",
    "n = 50\n",
    "K = 1000\n",
    "\n",
    "x,y = sample_data(n) # this is the only data we've got!\n",
    "\n",
    "models = zeros(K,2)\n",
    "for k=1:K\n",
    "    mysample = rand(1:n,n)\n",
    "    xk,yk = x[mysample], y[mysample]\n",
    "    Xk = [xk ones(n)]\n",
    "    wk = Xk \\ yk\n",
    "    models[k,:] = wk\n",
    "end"
   ]
  },
  {
   "cell_type": "code",
   "execution_count": null,
   "metadata": {},
   "outputs": [],
   "source": [
    "n = 5\n",
    "rand(1:n,n)"
   ]
  },
  {
   "cell_type": "code",
   "execution_count": null,
   "metadata": {},
   "outputs": [],
   "source": [
    "histogram(models[:,1])"
   ]
  },
  {
   "cell_type": "code",
   "execution_count": null,
   "metadata": {},
   "outputs": [],
   "source": [
    "mean(models,dims=1)"
   ]
  },
  {
   "cell_type": "code",
   "execution_count": null,
   "metadata": {},
   "outputs": [],
   "source": [
    "# as K increases, mean of the bootstrap models should converge to \n",
    "# the model fit on the original data set\n",
    "X = [x ones(n)]\n",
    "w = X \\ y"
   ]
  },
  {
   "cell_type": "code",
   "execution_count": null,
   "metadata": {},
   "outputs": [],
   "source": [
    "var(models,dims=1)"
   ]
  },
  {
   "cell_type": "code",
   "execution_count": null,
   "metadata": {},
   "outputs": [],
   "source": []
  }
 ],
 "metadata": {
  "@webio": {
   "lastCommId": null,
   "lastKernelId": null
  },
  "kernelspec": {
   "display_name": "Julia 1.5.1",
   "language": "julia",
   "name": "julia-1.5"
  },
  "language_info": {
   "file_extension": ".jl",
   "mimetype": "application/julia",
   "name": "julia",
   "version": "1.5.1"
  }
 },
 "nbformat": 4,
 "nbformat_minor": 1
}
