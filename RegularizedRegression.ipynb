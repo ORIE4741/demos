{
 "cells": [
  {
   "cell_type": "code",
   "execution_count": 44,
   "metadata": {},
   "outputs": [
    {
     "ename": "ImportError",
     "evalue": "cannot import name 'sprandn' from 'numpy.random' (/Users/madeleine/opt/anaconda3/envs/orie4741/lib/python3.9/site-packages/numpy/random/__init__.py)",
     "output_type": "error",
     "traceback": [
      "\u001b[0;31m---------------------------------------------------------------------------\u001b[0m",
      "\u001b[0;31mImportError\u001b[0m                               Traceback (most recent call last)",
      "\u001b[0;32m/var/folders/85/fz3xj3ln08n9hgtdxwtq9q7r0000gn/T/ipykernel_52683/460158105.py\u001b[0m in \u001b[0;36m<module>\u001b[0;34m\u001b[0m\n\u001b[1;32m      4\u001b[0m \u001b[0;34m\u001b[0m\u001b[0m\n\u001b[1;32m      5\u001b[0m \u001b[0;31m# random\u001b[0m\u001b[0;34m\u001b[0m\u001b[0;34m\u001b[0m\u001b[0m\n\u001b[0;32m----> 6\u001b[0;31m \u001b[0;32mfrom\u001b[0m \u001b[0mnumpy\u001b[0m\u001b[0;34m.\u001b[0m\u001b[0mrandom\u001b[0m \u001b[0;32mimport\u001b[0m \u001b[0mrand\u001b[0m\u001b[0;34m,\u001b[0m \u001b[0mrandn\u001b[0m\u001b[0;34m,\u001b[0m \u001b[0msprandn\u001b[0m\u001b[0;34m\u001b[0m\u001b[0;34m\u001b[0m\u001b[0m\n\u001b[0m\u001b[1;32m      7\u001b[0m \u001b[0mnp\u001b[0m\u001b[0;34m.\u001b[0m\u001b[0mrandom\u001b[0m\u001b[0;34m.\u001b[0m\u001b[0mseed\u001b[0m\u001b[0;34m(\u001b[0m\u001b[0;36m6\u001b[0m\u001b[0;34m)\u001b[0m\u001b[0;34m\u001b[0m\u001b[0;34m\u001b[0m\u001b[0m\n\u001b[1;32m      8\u001b[0m \u001b[0;34m\u001b[0m\u001b[0m\n",
      "\u001b[0;31mImportError\u001b[0m: cannot import name 'sprandn' from 'numpy.random' (/Users/madeleine/opt/anaconda3/envs/orie4741/lib/python3.9/site-packages/numpy/random/__init__.py)"
     ]
    }
   ],
   "source": [
    "# math \n",
    "import numpy as np\n",
    "from scipy.linalg import norm\n",
    "\n",
    "# random\n",
    "from numpy.random import rand, randn\n",
    "np.random.seed(6)\n",
    "\n",
    "# plotting\n",
    "import matplotlib.pyplot as plt\n",
    "\n",
    "# robust regression \n",
    "from sklearn.linear_model import LinearRegression, Lasso, Ridge"
   ]
  },
  {
   "cell_type": "code",
   "execution_count": 4,
   "metadata": {},
   "outputs": [],
   "source": [
    "def generate_data(n, w):\n",
    "    X = randn(n,len(w))\n",
    "    y = X@w\n",
    "    return X, y\n",
    "\n",
    "def generate_noisy_data(n, w):\n",
    "    X = randn(n,len(w))\n",
    "    y = X@w + .1*randn(n)\n",
    "    return X, y"
   ]
  },
  {
   "cell_type": "markdown",
   "metadata": {},
   "source": [
    "# OLS is invariant"
   ]
  },
  {
   "cell_type": "code",
   "execution_count": 17,
   "metadata": {},
   "outputs": [],
   "source": [
    "d = 10\n",
    "n = 20\n",
    "w = randn(d)\n",
    "X, y = generate_data(n, w);"
   ]
  },
  {
   "cell_type": "code",
   "execution_count": 29,
   "metadata": {},
   "outputs": [],
   "source": [
    "LinearRegression?"
   ]
  },
  {
   "cell_type": "code",
   "execution_count": 26,
   "metadata": {},
   "outputs": [
    {
     "data": {
      "text/plain": [
       "array([-0.71420156, -1.63516395, -3.8608605 , -0.57894597,  6.59638624,\n",
       "       -4.79152845, -0.5736281 ,  5.18756905, -7.26414655,  5.32047682,\n",
       "        3.56641161, -0.245102  ,  1.61110249,  2.61211864, -3.38682977,\n",
       "        1.19532532,  4.86224655,  6.26788358,  4.48640507, -3.14514452])"
      ]
     },
     "execution_count": 26,
     "metadata": {},
     "output_type": "execute_result"
    }
   ],
   "source": [
    "lin = LinearRegression().fit(X,y)\n",
    "yhat = lin.predict(X)\n",
    "yhat"
   ]
  },
  {
   "cell_type": "code",
   "execution_count": 27,
   "metadata": {},
   "outputs": [
    {
     "data": {
      "text/plain": [
       "array([ -3.57100781,  -8.17581975, -19.30430252,  -2.89472986,\n",
       "        32.98193119, -23.95764226,  -2.8681405 ,  25.93784523,\n",
       "       -36.32073277,  26.6023841 ,  17.83205803,  -1.22551002,\n",
       "         8.05551247,  13.06059321, -16.93414883,   5.9766266 ,\n",
       "        24.31123275,  31.33941792,  22.43202537, -15.72572261])"
      ]
     },
     "execution_count": 27,
     "metadata": {},
     "output_type": "execute_result"
    }
   ],
   "source": [
    "yscale = 5*y\n",
    "Xscale = 3*X\n",
    "lin = LinearRegression().fit(Xscale,yscale)\n",
    "yhatscale = lin.predict(Xscale)\n",
    "yhatscale"
   ]
  },
  {
   "cell_type": "code",
   "execution_count": 28,
   "metadata": {},
   "outputs": [
    {
     "data": {
      "text/plain": [
       "2.4221204859038887e-14"
      ]
     },
     "execution_count": 28,
     "metadata": {},
     "output_type": "execute_result"
    }
   ],
   "source": [
    "# predictions match up to scaling\n",
    "norm(yhat - yhatscale/5)"
   ]
  },
  {
   "cell_type": "markdown",
   "metadata": {},
   "source": [
    "# ridge regression is not scaling invariant"
   ]
  },
  {
   "cell_type": "code",
   "execution_count": 42,
   "metadata": {},
   "outputs": [],
   "source": [
    "Ridge?"
   ]
  },
  {
   "cell_type": "code",
   "execution_count": 38,
   "metadata": {},
   "outputs": [
    {
     "data": {
      "text/plain": [
       "array([-0.73252921, -1.61138302, -3.871725  , -0.59222297,  6.55771702,\n",
       "       -4.72195274, -0.56508244,  5.18633252, -7.21591302,  5.28679447,\n",
       "        3.54741707, -0.21884335,  1.60849856,  2.58391179, -3.40339278,\n",
       "        1.19486892,  4.83695027,  6.26115137,  4.48779252, -3.108016  ])"
      ]
     },
     "execution_count": 38,
     "metadata": {},
     "output_type": "execute_result"
    }
   ],
   "source": [
    "alpha = .1 # regularization parameter\n",
    "\n",
    "lin = Ridge(alpha=alpha).fit(X,y)\n",
    "yhat = lin.predict(X)\n",
    "yhat"
   ]
  },
  {
   "cell_type": "code",
   "execution_count": 39,
   "metadata": {},
   "outputs": [
    {
     "data": {
      "text/plain": [
       "array([ -3.58216226,  -8.16285939, -19.31217038,  -2.90274427,\n",
       "        32.95995686, -23.91745638,  -2.8628421 ,  25.93815093,\n",
       "       -36.29302326,  26.58314257,  17.82078142,  -1.20993494,\n",
       "         8.0550225 ,  13.04380232, -16.94425996,   5.97684365,\n",
       "        24.29672683,  31.33609432,  22.43311342, -15.70431196])"
      ]
     },
     "execution_count": 39,
     "metadata": {},
     "output_type": "execute_result"
    }
   ],
   "source": [
    "yscale = 5*y\n",
    "Xscale = 3*X\n",
    "lin = Ridge(alpha=alpha).fit(Xscale,yscale)\n",
    "yhatscale = lin.predict(Xscale)\n",
    "yhatscale"
   ]
  },
  {
   "cell_type": "code",
   "execution_count": 40,
   "metadata": {},
   "outputs": [
    {
     "data": {
      "text/plain": [
       "0.10923658080907492"
      ]
     },
     "execution_count": 40,
     "metadata": {},
     "output_type": "execute_result"
    }
   ],
   "source": [
    "# predictions do not match up to scaling\n",
    "norm(yhat - yhatscale/5)"
   ]
  },
  {
   "cell_type": "code",
   "execution_count": 43,
   "metadata": {},
   "outputs": [
    {
     "data": {
      "text/plain": [
       "7.1041804156888074e-15"
      ]
     },
     "execution_count": 43,
     "metadata": {},
     "output_type": "execute_result"
    }
   ],
   "source": [
    "# standardize\n",
    "\n",
    "lin = Ridge(alpha=alpha, normalize=True).fit(X,y)\n",
    "yhat = lin.predict(X)\n",
    "yhat\n",
    "\n",
    "yscale = 5*y\n",
    "Xscale = 3*X\n",
    "lin = Ridge(alpha=alpha, normalize=True).fit(Xscale,yscale)\n",
    "yhatscale = lin.predict(Xscale)\n",
    "yhatscale\n",
    "\n",
    "# predictions match up to scaling\n",
    "norm(yhat - yhatscale/5)"
   ]
  },
  {
   "cell_type": "markdown",
   "metadata": {},
   "source": [
    "# let's compare different kinds of regularized regression"
   ]
  },
  {
   "cell_type": "code",
   "execution_count": 51,
   "metadata": {},
   "outputs": [],
   "source": [
    "# generate data\n",
    "\n",
    "d = 30\n",
    "w_randn = randn(d)\n",
    "w_sparse = w_randn*(abs(w_randn) > 1)\n",
    "w_pos = w_randn*(w_randn > 0)"
   ]
  },
  {
   "cell_type": "code",
   "execution_count": 47,
   "metadata": {},
   "outputs": [
    {
     "data": {
      "text/plain": [
       "array([-0.        , -0.        ,  0.85724762,  0.94309899,  0.11444143,\n",
       "       -0.        , -0.        , -0.        , -0.        ,  0.23371059,\n",
       "        1.38503523, -0.        , -0.        ,  0.95560959, -0.        ,\n",
       "       -0.        ,  1.21848065, -0.        , -0.        , -0.        ,\n",
       "        0.35877096,  1.07368134, -0.        ,  0.39636757, -0.        ,\n",
       "        2.33660781,  1.50278553, -0.        ,  0.52834106,  0.9398248 ])"
      ]
     },
     "execution_count": 47,
     "metadata": {},
     "output_type": "execute_result"
    }
   ],
   "source": [
    "w_pos"
   ]
  },
  {
   "cell_type": "code",
   "execution_count": 52,
   "metadata": {},
   "outputs": [
    {
     "data": {
      "text/plain": [
       "array([ 0.        , -0.        , -0.        ,  0.        ,  1.90474232,\n",
       "        0.        , -0.        ,  1.66284285,  0.        , -0.        ,\n",
       "       -0.        ,  0.        ,  0.        , -0.        , -1.91402115,\n",
       "       -0.        ,  0.        , -0.        , -0.        , -1.07282736,\n",
       "       -0.        ,  1.36293786,  0.        , -1.6326206 ,  0.        ,\n",
       "       -0.        ,  2.33903423, -0.        , -0.        ,  0.        ])"
      ]
     },
     "execution_count": 52,
     "metadata": {},
     "output_type": "execute_result"
    }
   ],
   "source": [
    "w_sparse"
   ]
  },
  {
   "cell_type": "code",
   "execution_count": 53,
   "metadata": {},
   "outputs": [],
   "source": [
    "# find best model for each type of data\n",
    "w = w_randn\n",
    "\n",
    "alpha_ridge=.1\n",
    "alpha_lasso=.1\n",
    "\n",
    "X,y = generate_data(30, w)\n",
    "w_ridge = Ridge(alpha = alpha_ridge).fit(X,y).coef_\n",
    "w_lasso = Lasso(alpha = alpha_lasso).fit(X,y).coef_\n",
    "w_nonneg = LinearRegression(positive=True).fit(X,y).coef_"
   ]
  },
  {
   "cell_type": "code",
   "execution_count": 56,
   "metadata": {},
   "outputs": [
    {
     "data": {
      "text/plain": [
       "(array([1., 0., 1., 1., 2., 0., 3., 3., 4., 4., 5., 1., 0., 1., 0., 1., 1.,\n",
       "        0., 1., 1.]),\n",
       " array([-1.94753674, -1.73867147, -1.5298062 , -1.32094093, -1.11207566,\n",
       "        -0.90321039, -0.69434512, -0.48547985, -0.27661458, -0.06774931,\n",
       "         0.14111596,  0.34998123,  0.5588465 ,  0.76771177,  0.97657703,\n",
       "         1.1854423 ,  1.39430757,  1.60317284,  1.81203811,  2.02090338,\n",
       "         2.22976865]),\n",
       " <BarContainer object of 20 artists>)"
      ]
     },
     "execution_count": 56,
     "metadata": {},
     "output_type": "execute_result"
    },
    {
     "data": {
      "image/png": "[encoded data removed]",
      "text/plain": [
       "<Figure size 432x288 with 1 Axes>"
      ]
     },
     "metadata": {
      "needs_background": "light"
     },
     "output_type": "display_data"
    }
   ],
   "source": [
    "plt.hist(w_ridge, label=\"ridge coefficients\", bins=20)"
   ]
  },
  {
   "cell_type": "code",
   "execution_count": 60,
   "metadata": {},
   "outputs": [
    {
     "data": {
      "text/plain": [
       "<matplotlib.legend.Legend at 0x7fec1f0aea60>"
      ]
     },
     "execution_count": 60,
     "metadata": {},
     "output_type": "execute_result"
    },
    {
     "data": {
      "image/png": "[encoded data removed]",
      "text/plain": [
       "<Figure size 432x288 with 1 Axes>"
      ]
     },
     "metadata": {
      "needs_background": "light"
     },
     "output_type": "display_data"
    }
   ],
   "source": [
    "plt.hist(w_ridge, label=\"ridge coefficients\", bins=20, alpha=.5)\n",
    "plt.hist(w_lasso, label=\"lasso coefficients\", bins=20, alpha=.5)\n",
    "plt.legend()"
   ]
  },
  {
   "cell_type": "markdown",
   "metadata": {},
   "source": [
    "Which coefficients are more sparse? (More 0 coefficients)\n",
    "* A) ridge\n",
    "* B) lasso"
   ]
  },
  {
   "cell_type": "code",
   "execution_count": 61,
   "metadata": {},
   "outputs": [
    {
     "data": {
      "text/plain": [
       "<matplotlib.legend.Legend at 0x7fec1f1ebb50>"
      ]
     },
     "execution_count": 61,
     "metadata": {},
     "output_type": "execute_result"
    },
    {
     "data": {
      "image/png": "[encoded data removed]",
      "text/plain": [
       "<Figure size 432x288 with 1 Axes>"
      ]
     },
     "metadata": {
      "needs_background": "light"
     },
     "output_type": "display_data"
    }
   ],
   "source": [
    "plt.hist(w_ridge, label=\"ridge coefficients\", bins=20, alpha=.5)\n",
    "plt.hist(w_nonneg, label=\"NNLS coefficients\", bins=20, alpha=.5)\n",
    "plt.legend()"
   ]
  },
  {
   "cell_type": "markdown",
   "metadata": {},
   "source": [
    "Which coefficients are more sparse? (More 0 coefficients)\n",
    "* A) ridge\n",
    "* B) nonnegative least squares"
   ]
  },
  {
   "cell_type": "code",
   "execution_count": 17,
   "metadata": {},
   "outputs": [
    {
     "data": {
      "image/png": "[encoded data removed]"
     },
     "execution_count": 17,
     "metadata": {},
     "output_type": "execute_result"
    }
   ],
   "source": [
    "# which fits data best?\n",
    "Xtest,ytest = generate_data(20,w)\n",
    "\n",
    "scatter(ytest,Xtest*w_ridge,label=\"ridge\")\n",
    "scatter!(ytest,Xtest*w_lasso,label=\"lasso\")\n",
    "scatter!(ytest,Xtest*w_nonneg,label=\"NNLS\")\n",
    "plot!(ytest,ytest,label=\"true model\")\n",
    "xlabel!(\"true value\")\n",
    "ylabel!(\"predicted value\")"
   ]
  },
  {
   "cell_type": "code",
   "execution_count": 18,
   "metadata": {},
   "outputs": [
    {
     "data": {
      "image/png": "[encoded data removed]"
     },
     "execution_count": 18,
     "metadata": {},
     "output_type": "execute_result"
    }
   ],
   "source": [
    "# cross validate over lambda\n",
    "Random.seed!(1)\n",
    "\n",
    "w = randn(40)\n",
    "X,y = generate_noisy_data(30, w)\n",
    "Xtest,ytest = generate_noisy_data(30, w)\n",
    "\n",
    "ridge_error = Float64[]\n",
    "lasso_error = Float64[]\n",
    "λs = 0:.1:1\n",
    "for λ in λs\n",
    "    w = ridge_regression(X,y; λ=λ)\n",
    "    push!(ridge_error, sum((ytest - Xtest*w).^2))\n",
    "    w = lasso(X,y; λ=λ)\n",
    "    push!(lasso_error, sum((ytest - Xtest*w).^2))\n",
    "end\n",
    "plot(λs, ridge_error, label=\"ridge\")\n",
    "plot!(λs, lasso_error, label=\"lasso\")\n",
    "ylabel!(\"test error\")\n",
    "xlabel!(\"regularization parameter\")"
   ]
  }
 ],
 "metadata": {
  "@webio": {
   "lastCommId": null,
   "lastKernelId": null
  },
  "kernelspec": {
   "display_name": "Python 3 (ipykernel)",
   "language": "python",
   "name": "python3"
  },
  "language_info": {
   "codemirror_mode": {
    "name": "ipython",
    "version": 3
   },
   "file_extension": ".py",
   "mimetype": "text/x-python",
   "name": "python",
   "nbconvert_exporter": "python",
   "pygments_lexer": "ipython3",
   "version": "3.9.7"
  }
 },
 "nbformat": 4,
 "nbformat_minor": 1
}
