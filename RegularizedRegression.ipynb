{
 "cells": [
  {
   "cell_type": "code",
   "execution_count": null,
   "metadata": {},
   "outputs": [],
   "source": [
    "using LinearAlgebra, Random, Statistics, Plots, SparseArrays\n",
    "include(\"proxgrad.jl\")\n",
    "pyplot()"
   ]
  },
  {
   "cell_type": "code",
   "execution_count": null,
   "metadata": {},
   "outputs": [],
   "source": [
    "function generate_data(n, w)\n",
    "    X = randn(n,length(w))\n",
    "    y = X*w\n",
    "    return X, y\n",
    "end\n",
    "\n",
    "function generate_noisy_data(n, w)\n",
    "    X = randn(n,length(w))\n",
    "    y = X*w + .1*randn(n)\n",
    "    return X, y\n",
    "end"
   ]
  },
  {
   "cell_type": "markdown",
   "metadata": {},
   "source": [
    "# OLS is invariant"
   ]
  },
  {
   "cell_type": "code",
   "execution_count": null,
   "metadata": {},
   "outputs": [],
   "source": [
    "d = 10\n",
    "n = 20\n",
    "w = randn(d)\n",
    "X, y = generate_data(n, w);"
   ]
  },
  {
   "cell_type": "code",
   "execution_count": null,
   "metadata": {},
   "outputs": [],
   "source": [
    "w = X\\y\n",
    "@show X*w\n",
    "\n",
    "yscale = 5*y\n",
    "Xscale = 3*X\n",
    "wscale = Xscale\\yscale\n",
    "@show Xscale*wscale / 5;\n",
    "\n",
    "@show rel_err = norm(X*w - Xscale*wscale/5) / norm(X*w)"
   ]
  },
  {
   "cell_type": "markdown",
   "metadata": {},
   "source": [
    "# ridge regression is not scaling invariant"
   ]
  },
  {
   "cell_type": "code",
   "execution_count": null,
   "metadata": {},
   "outputs": [],
   "source": [
    "size(X'*X + I)"
   ]
  },
  {
   "cell_type": "code",
   "execution_count": null,
   "metadata": {},
   "outputs": [],
   "source": [
    "w = (X'*X + I) \\ (X'*y)\n",
    "@show X*w\n",
    "\n",
    "yscale = 5*y\n",
    "Xscale = 3*X\n",
    "wscale = (Xscale'*Xscale + I) \\ (Xscale'*yscale)\n",
    "@show Xscale * wscale / 5;\n",
    "\n",
    "@show rel_err = norm(X*w - Xscale*wscale/5) / norm(X*w)"
   ]
  },
  {
   "cell_type": "code",
   "execution_count": null,
   "metadata": {},
   "outputs": [],
   "source": [
    "# standardize\n",
    "function standardize(X,y)\n",
    "    X_standard = - mean(X,dims=1) .+ X\n",
    "    X_standard = X_standard * diagm(1 ./ vec(std(X,dims=1)))\n",
    "    \n",
    "    y_standard = - mean(y) .+ y\n",
    "    y_standard = y_standard / std(y)\n",
    "    \n",
    "    return X_standard, y_standard\n",
    "end\n",
    "\n",
    "Xs, ys = standardize(X,y)\n",
    "w = (Xs'*Xs + I) \\ (Xs'*ys)\n",
    "@show Xs*w\n",
    "\n",
    "yscale = 5*y .+ 3000\n",
    "Xscale = 3*X .+ 200\n",
    "\n",
    "Xss, yss = standardize(Xscale,yscale)\n",
    "wscale = (Xss'*Xss + I) \\ (Xss'*yss)\n",
    "@show Xss*wscale;\n",
    "\n",
    "@show rel_err = norm(Xs*w -  Xss*wscale) / norm(Xs*w)"
   ]
  },
  {
   "cell_type": "markdown",
   "metadata": {},
   "source": [
    "# let's compare different kinds of regularized regression"
   ]
  },
  {
   "cell_type": "code",
   "execution_count": null,
   "metadata": {},
   "outputs": [],
   "source": [
    "function ridge_regression(X,y; λ=1)\n",
    "    proxgrad(1/n*QuadLoss(), QuadReg(λ), X, y, maxiters=1000)\n",
    "end"
   ]
  },
  {
   "cell_type": "code",
   "execution_count": null,
   "metadata": {},
   "outputs": [],
   "source": [
    "function lasso(X,y; λ=1)\n",
    "    proxgrad(1/n*QuadLoss(), OneReg(λ), X, y, maxiters=1000)\n",
    "end"
   ]
  },
  {
   "cell_type": "code",
   "execution_count": null,
   "metadata": {},
   "outputs": [],
   "source": [
    "function nnls(X,y)\n",
    "    proxgrad(1/n*QuadLoss(), NonNegConstraint(), X, y, maxiters=1000)\n",
    "end"
   ]
  },
  {
   "cell_type": "code",
   "execution_count": null,
   "metadata": {},
   "outputs": [],
   "source": [
    "# generate data\n",
    "\n",
    "d = 30\n",
    "w_randn = randn(d)\n",
    "w_sparse = sprandn(d, .5)\n",
    "w_pos = sprand(d, .5);"
   ]
  },
  {
   "cell_type": "code",
   "execution_count": null,
   "metadata": {},
   "outputs": [],
   "source": [
    "w_sparse"
   ]
  },
  {
   "cell_type": "code",
   "execution_count": null,
   "metadata": {},
   "outputs": [],
   "source": [
    "# find best model for each type of data\n",
    "w = w_randn\n",
    "\n",
    "λridge=.1\n",
    "λlasso=.1\n",
    "\n",
    "X,y = generate_data(30, w)\n",
    "w_ridge = ridge_regression(X,y; λ=λridge)\n",
    "w_lasso = lasso(X,y; λ=λlasso)\n",
    "w_nonneg = nnls(X,y);"
   ]
  },
  {
   "cell_type": "code",
   "execution_count": null,
   "metadata": {},
   "outputs": [],
   "source": [
    "histogram(w_ridge, label=\"ridge coefficients\", bins=-3:.1:3)"
   ]
  },
  {
   "cell_type": "code",
   "execution_count": null,
   "metadata": {},
   "outputs": [],
   "source": [
    "histogram(w_lasso, label=\"lasso coefficients\", bins=-3:.1:3, alpha=.7)\n",
    "histogram!(w_ridge, label=\"ridge coefficients\", bins=-3:.1:3, alpha=.7)"
   ]
  },
  {
   "cell_type": "markdown",
   "metadata": {},
   "source": [
    "Which coefficients are more sparse? (More 0 coefficients)\n",
    "* A) ridge\n",
    "* B) lasso"
   ]
  },
  {
   "cell_type": "code",
   "execution_count": null,
   "metadata": {},
   "outputs": [],
   "source": [
    "histogram(w_nonneg, label=\"nonnegative coefficients\", bins=-3:.1:3, alpha=.7)\n",
    "histogram!(w_ridge, label=\"ridge coefficients\", bins=-3:.1:3, alpha=.7)"
   ]
  },
  {
   "cell_type": "markdown",
   "metadata": {},
   "source": [
    "Which coefficients are more sparse? (More 0 coefficients)\n",
    "* A) ridge\n",
    "* B) nonnegative least squares"
   ]
  },
  {
   "cell_type": "code",
   "execution_count": null,
   "metadata": {},
   "outputs": [],
   "source": [
    "# which fits data best?\n",
    "Xtest,ytest = generate_data(20,w)\n",
    "\n",
    "scatter(ytest,Xtest*w_ridge,label=\"ridge\")\n",
    "scatter!(ytest,Xtest*w_lasso,label=\"lasso\")\n",
    "scatter!(ytest,Xtest*w_nonneg,label=\"NNLS\")\n",
    "plot!(ytest,ytest,label=\"true model\")\n",
    "xlabel!(\"true value\")\n",
    "ylabel!(\"predicted value\")"
   ]
  },
  {
   "cell_type": "code",
   "execution_count": null,
   "metadata": {},
   "outputs": [],
   "source": [
    "# cross validate over lambda\n",
    "Random.seed!(1)\n",
    "\n",
    "w = randn(40)\n",
    "X,y = generate_noisy_data(30, w)\n",
    "Xtest,ytest = generate_noisy_data(30, w)\n",
    "\n",
    "ridge_error = Float64[]\n",
    "lasso_error = Float64[]\n",
    "λs = 0:.1:1\n",
    "for λ in λs\n",
    "    w = ridge_regression(X,y; λ=λ)\n",
    "    push!(ridge_error, sum((ytest - Xtest*w).^2))\n",
    "    w = lasso(X,y; λ=λ)\n",
    "    push!(lasso_error, sum((ytest - Xtest*w).^2))\n",
    "end\n",
    "plot(λs, ridge_error, label=\"ridge\")\n",
    "plot!(λs, lasso_error, label=\"lasso\")\n",
    "ylabel!(\"test error\")\n",
    "xlabel!(\"regularization parameter\")"
   ]
  }
 ],
 "metadata": {
  "@webio": {
   "lastCommId": null,
   "lastKernelId": null
  },
  "kernelspec": {
   "display_name": "Julia 1.5.1",
   "language": "julia",
   "name": "julia-1.5"
  },
  "language_info": {
   "file_extension": ".jl",
   "mimetype": "application/julia",
   "name": "julia",
   "version": "1.5.1"
  }
 },
 "nbformat": 4,
 "nbformat_minor": 1
}
