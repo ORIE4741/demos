{
 "cells": [
  {
   "cell_type": "code",
   "execution_count": 1,
   "metadata": {},
   "outputs": [],
   "source": [
    "# math \n",
    "import numpy as np\n",
    "from scipy.linalg import norm\n",
    "\n",
    "# random\n",
    "from numpy.random import rand, randn\n",
    "np.random.seed(6)\n",
    "\n",
    "# plotting\n",
    "import matplotlib.pyplot as plt\n",
    "\n",
    "# robust regression \n",
    "from sklearn.linear_model import LinearRegression, Lasso, Ridge"
   ]
  },
  {
   "cell_type": "code",
   "execution_count": 2,
   "metadata": {},
   "outputs": [],
   "source": [
    "def generate_data(n, w):\n",
    "    X = randn(n,len(w))\n",
    "    y = X@w\n",
    "    return X, y\n",
    "\n",
    "def generate_noisy_data(n, w):\n",
    "    X = randn(n,len(w))\n",
    "    y = X@w + .1*randn(n)\n",
    "    return X, y"
   ]
  },
  {
   "cell_type": "markdown",
   "metadata": {},
   "source": [
    "# OLS is invariant"
   ]
  },
  {
   "cell_type": "code",
   "execution_count": 3,
   "metadata": {},
   "outputs": [],
   "source": [
    "d = 10\n",
    "n = 20\n",
    "w = randn(d)\n",
    "X, y = generate_data(n, w);"
   ]
  },
  {
   "cell_type": "code",
   "execution_count": 4,
   "metadata": {},
   "outputs": [],
   "source": [
    "LinearRegression?"
   ]
  },
  {
   "cell_type": "code",
   "execution_count": 5,
   "metadata": {},
   "outputs": [
    {
     "data": {
      "text/plain": [
       "array([-0.71420156, -1.63516395, -3.8608605 , -0.57894597,  6.59638624,\n",
       "       -4.79152845, -0.5736281 ,  5.18756905, -7.26414655,  5.32047682,\n",
       "        3.56641161, -0.245102  ,  1.61110249,  2.61211864, -3.38682977,\n",
       "        1.19532532,  4.86224655,  6.26788358,  4.48640507, -3.14514452])"
      ]
     },
     "execution_count": 5,
     "metadata": {},
     "output_type": "execute_result"
    }
   ],
   "source": [
    "lin = LinearRegression().fit(X,y)\n",
    "yhat = lin.predict(X)\n",
    "yhat"
   ]
  },
  {
   "cell_type": "code",
   "execution_count": 6,
   "metadata": {},
   "outputs": [
    {
     "data": {
      "text/plain": [
       "array([ -3.57100781,  -8.17581975, -19.30430252,  -2.89472986,\n",
       "        32.98193119, -23.95764226,  -2.8681405 ,  25.93784523,\n",
       "       -36.32073277,  26.6023841 ,  17.83205803,  -1.22551002,\n",
       "         8.05551247,  13.06059321, -16.93414883,   5.9766266 ,\n",
       "        24.31123275,  31.33941792,  22.43202537, -15.72572261])"
      ]
     },
     "execution_count": 6,
     "metadata": {},
     "output_type": "execute_result"
    }
   ],
   "source": [
    "yscale = 5*y\n",
    "Xscale = 3*X\n",
    "lin = LinearRegression().fit(Xscale,yscale)\n",
    "yhatscale = lin.predict(Xscale)\n",
    "yhatscale"
   ]
  },
  {
   "cell_type": "code",
   "execution_count": 7,
   "metadata": {},
   "outputs": [
    {
     "data": {
      "text/plain": [
       "2.4221204859038887e-14"
      ]
     },
     "execution_count": 7,
     "metadata": {},
     "output_type": "execute_result"
    }
   ],
   "source": [
    "# predictions match up to scaling\n",
    "norm(yhat - yhatscale/5)"
   ]
  },
  {
   "cell_type": "markdown",
   "metadata": {},
   "source": [
    "# ridge regression is not scaling invariant"
   ]
  },
  {
   "cell_type": "code",
   "execution_count": 8,
   "metadata": {},
   "outputs": [],
   "source": [
    "Ridge?"
   ]
  },
  {
   "cell_type": "code",
   "execution_count": 9,
   "metadata": {},
   "outputs": [
    {
     "data": {
      "text/plain": [
       "array([-0.73252921, -1.61138302, -3.871725  , -0.59222297,  6.55771702,\n",
       "       -4.72195274, -0.56508244,  5.18633252, -7.21591302,  5.28679447,\n",
       "        3.54741707, -0.21884335,  1.60849856,  2.58391179, -3.40339278,\n",
       "        1.19486892,  4.83695027,  6.26115137,  4.48779252, -3.108016  ])"
      ]
     },
     "execution_count": 9,
     "metadata": {},
     "output_type": "execute_result"
    }
   ],
   "source": [
    "alpha = .1 # regularization parameter\n",
    "\n",
    "lin = Ridge(alpha=alpha).fit(X,y)\n",
    "yhat = lin.predict(X)\n",
    "yhat"
   ]
  },
  {
   "cell_type": "code",
   "execution_count": 10,
   "metadata": {},
   "outputs": [
    {
     "data": {
      "text/plain": [
       "array([ -3.58216226,  -8.16285939, -19.31217038,  -2.90274427,\n",
       "        32.95995686, -23.91745638,  -2.8628421 ,  25.93815093,\n",
       "       -36.29302326,  26.58314257,  17.82078142,  -1.20993494,\n",
       "         8.0550225 ,  13.04380232, -16.94425996,   5.97684365,\n",
       "        24.29672683,  31.33609432,  22.43311342, -15.70431196])"
      ]
     },
     "execution_count": 10,
     "metadata": {},
     "output_type": "execute_result"
    }
   ],
   "source": [
    "yscale = 5*y\n",
    "Xscale = 3*X\n",
    "lin = Ridge(alpha=alpha).fit(Xscale,yscale)\n",
    "yhatscale = lin.predict(Xscale)\n",
    "yhatscale"
   ]
  },
  {
   "cell_type": "code",
   "execution_count": 11,
   "metadata": {},
   "outputs": [
    {
     "data": {
      "text/plain": [
       "0.10923658080907492"
      ]
     },
     "execution_count": 11,
     "metadata": {},
     "output_type": "execute_result"
    }
   ],
   "source": [
    "# predictions do not match up to scaling\n",
    "norm(yhat - yhatscale/5)"
   ]
  },
  {
   "cell_type": "code",
   "execution_count": 12,
   "metadata": {},
   "outputs": [
    {
     "data": {
      "text/plain": [
       "7.1041804156888074e-15"
      ]
     },
     "execution_count": 12,
     "metadata": {},
     "output_type": "execute_result"
    }
   ],
   "source": [
    "# standardize\n",
    "\n",
    "lin = Ridge(alpha=alpha, normalize=True).fit(X,y)\n",
    "yhat = lin.predict(X)\n",
    "yhat\n",
    "\n",
    "yscale = 5*y\n",
    "Xscale = 3*X\n",
    "lin = Ridge(alpha=alpha, normalize=True).fit(Xscale,yscale)\n",
    "yhatscale = lin.predict(Xscale)\n",
    "yhatscale\n",
    "\n",
    "# predictions match up to scaling\n",
    "norm(yhat - yhatscale/5)"
   ]
  },
  {
   "cell_type": "markdown",
   "metadata": {},
   "source": [
    "# let's compare different kinds of regularized regression"
   ]
  },
  {
   "cell_type": "code",
   "execution_count": 13,
   "metadata": {},
   "outputs": [],
   "source": [
    "# generate data\n",
    "\n",
    "d = 30\n",
    "w_randn = randn(d)\n",
    "w_sparse = w_randn*(abs(w_randn) > 1)\n",
    "w_pos = w_randn*(w_randn > 0)"
   ]
  },
  {
   "cell_type": "code",
   "execution_count": 14,
   "metadata": {},
   "outputs": [
    {
     "data": {
      "text/plain": [
       "array([-0.        ,  0.35483766,  0.2628088 , -0.        , -0.        ,\n",
       "       -0.        , -0.        ,  1.13694227,  1.18705819,  1.69089583,\n",
       "        0.49028137, -0.        , -0.        , -0.        , -0.        ,\n",
       "        1.37681404, -0.        , -0.        ,  0.52907247,  0.73336413,\n",
       "        0.96671585, -0.        , -0.        , -0.        ,  0.74307591,\n",
       "        0.19329784, -0.        ,  1.89687218, -0.        , -0.        ])"
      ]
     },
     "execution_count": 14,
     "metadata": {},
     "output_type": "execute_result"
    }
   ],
   "source": [
    "w_pos"
   ]
  },
  {
   "cell_type": "code",
   "execution_count": 15,
   "metadata": {},
   "outputs": [
    {
     "data": {
      "text/plain": [
       "array([-0.        ,  0.        ,  0.        , -0.        , -1.37105209,\n",
       "       -1.06862477, -0.        ,  1.13694227,  1.18705819,  1.69089583,\n",
       "        0.        , -1.44553018, -0.        , -1.15404442, -0.        ,\n",
       "        1.37681404, -0.        , -0.        ,  0.        ,  0.        ,\n",
       "        0.        , -0.        , -0.        , -0.        ,  0.        ,\n",
       "        0.        , -0.        ,  1.89687218, -0.        , -0.        ])"
      ]
     },
     "execution_count": 15,
     "metadata": {},
     "output_type": "execute_result"
    }
   ],
   "source": [
    "w_sparse"
   ]
  },
  {
   "cell_type": "code",
   "execution_count": 16,
   "metadata": {},
   "outputs": [],
   "source": [
    "# find best model for each type of data\n",
    "w = w_randn\n",
    "\n",
    "alpha_ridge=.1\n",
    "alpha_lasso=.1\n",
    "\n",
    "X,y = generate_data(30, w)\n",
    "w_ridge = Ridge(alpha = alpha_ridge).fit(X,y).coef_\n",
    "w_lasso = Lasso(alpha = alpha_lasso).fit(X,y).coef_\n",
    "w_nonneg = LinearRegression(positive=True).fit(X,y).coef_"
   ]
  },
  {
   "cell_type": "code",
   "execution_count": 17,
   "metadata": {},
   "outputs": [
    {
     "data": {
      "text/plain": [
       "(array([3., 1., 2., 2., 4., 0., 1., 1., 3., 0., 2., 3., 0., 2., 0., 0., 2.,\n",
       "        1., 1., 2.]),\n",
       " array([-1.37606868, -1.23186246, -1.08765624, -0.94345001, -0.79924379,\n",
       "        -0.65503756, -0.51083134, -0.36662512, -0.22241889, -0.07821267,\n",
       "         0.06599355,  0.21019978,  0.354406  ,  0.49861223,  0.64281845,\n",
       "         0.78702467,  0.9312309 ,  1.07543712,  1.21964334,  1.36384957,\n",
       "         1.50805579]),\n",
       " <BarContainer object of 20 artists>)"
      ]
     },
     "execution_count": 17,
     "metadata": {},
     "output_type": "execute_result"
    },
    {
     "data": {
      "image/png": "[encoded data removed]",
      "text/plain": [
       "<Figure size 432x288 with 1 Axes>"
      ]
     },
     "metadata": {
      "needs_background": "light"
     },
     "output_type": "display_data"
    }
   ],
   "source": [
    "plt.hist(w_ridge, label=\"ridge coefficients\", bins=20)"
   ]
  },
  {
   "cell_type": "code",
   "execution_count": 18,
   "metadata": {},
   "outputs": [
    {
     "data": {
      "text/plain": [
       "<matplotlib.legend.Legend at 0x7fcceea10940>"
      ]
     },
     "execution_count": 18,
     "metadata": {},
     "output_type": "execute_result"
    },
    {
     "data": {
      "image/png": "[encoded data removed]",
      "text/plain": [
       "<Figure size 432x288 with 1 Axes>"
      ]
     },
     "metadata": {
      "needs_background": "light"
     },
     "output_type": "display_data"
    }
   ],
   "source": [
    "plt.hist(w_ridge, label=\"ridge coefficients\", bins=20, alpha=.5)\n",
    "plt.hist(w_lasso, label=\"lasso coefficients\", bins=20, alpha=.5)\n",
    "plt.legend()"
   ]
  },
  {
   "cell_type": "markdown",
   "metadata": {},
   "source": [
    "Which coefficients are more sparse? (More 0 coefficients)\n",
    "* A) ridge\n",
    "* B) lasso"
   ]
  },
  {
   "cell_type": "code",
   "execution_count": 19,
   "metadata": {},
   "outputs": [
    {
     "data": {
      "text/plain": [
       "<matplotlib.legend.Legend at 0x7fcceeb3a1c0>"
      ]
     },
     "execution_count": 19,
     "metadata": {},
     "output_type": "execute_result"
    },
    {
     "data": {
      "image/png": "[encoded data removed]",
      "text/plain": [
       "<Figure size 432x288 with 1 Axes>"
      ]
     },
     "metadata": {
      "needs_background": "light"
     },
     "output_type": "display_data"
    }
   ],
   "source": [
    "plt.hist(w_ridge, label=\"ridge coefficients\", bins=20, alpha=.5)\n",
    "plt.hist(w_nonneg, label=\"NNLS coefficients\", bins=20, alpha=.5)\n",
    "plt.legend()"
   ]
  },
  {
   "cell_type": "markdown",
   "metadata": {},
   "source": [
    "Which coefficients are more sparse? (More 0 coefficients)\n",
    "* A) ridge\n",
    "* B) nonnegative least squares"
   ]
  },
  {
   "cell_type": "code",
   "execution_count": 20,
   "metadata": {},
   "outputs": [
    {
     "data": {
      "text/plain": [
       "<matplotlib.legend.Legend at 0x7fcceec56250>"
      ]
     },
     "execution_count": 20,
     "metadata": {},
     "output_type": "execute_result"
    },
    {
     "data": {
      "image/png": "[encoded data removed]",
      "text/plain": [
       "<Figure size 432x288 with 1 Axes>"
      ]
     },
     "metadata": {
      "needs_background": "light"
     },
     "output_type": "display_data"
    }
   ],
   "source": [
    "# which fits data best?\n",
    "X,y = generate_data(30, w_randn)\n",
    "Xtest,ytest = generate_data(20,w_randn) # also try w_sparse and w_nonneg\n",
    "\n",
    "yhat_ridge = Ridge(alpha = alpha_ridge).fit(X,y).predict(Xtest)\n",
    "yhat_lasso = Lasso(alpha = alpha_lasso).fit(X,y).predict(Xtest)\n",
    "yhat_nonneg = LinearRegression(positive=True).fit(X,y).predict(Xtest)\n",
    "\n",
    "plt.plot(ytest,ytest)\n",
    "plt.scatter(ytest, yhat_ridge, label=\"ridge\")\n",
    "plt.scatter(ytest, yhat_lasso, label=\"lasso\")\n",
    "plt.scatter(ytest, yhat_nonneg, label=\"NNLS\")\n",
    "plt.xlabel(\"true value\")\n",
    "plt.ylabel(\"predicted value\")\n",
    "plt.legend()"
   ]
  },
  {
   "cell_type": "code",
   "execution_count": 21,
   "metadata": {},
   "outputs": [
    {
     "data": {
      "text/plain": [
       "<matplotlib.legend.Legend at 0x7fcceed6d670>"
      ]
     },
     "execution_count": 21,
     "metadata": {},
     "output_type": "execute_result"
    },
    {
     "data": {
      "image/png": "[encoded data removed]",
      "text/plain": [
       "<Figure size 432x288 with 1 Axes>"
      ]
     },
     "metadata": {
      "needs_background": "light"
     },
     "output_type": "display_data"
    }
   ],
   "source": [
    "# which fits data best?\n",
    "X,y = generate_data(30, w_sparse)\n",
    "Xtest,ytest = generate_data(20,w_sparse) # also try w_sparse and w_nonneg\n",
    "\n",
    "yhat_ridge = Ridge(alpha = alpha_ridge).fit(X,y).predict(Xtest)\n",
    "yhat_lasso = Lasso(alpha = alpha_lasso).fit(X,y).predict(Xtest)\n",
    "yhat_nonneg = LinearRegression(positive=True).fit(X,y).predict(Xtest)\n",
    "\n",
    "plt.plot(ytest,ytest)\n",
    "plt.scatter(ytest, yhat_ridge, label=\"ridge\")\n",
    "plt.scatter(ytest, yhat_lasso, label=\"lasso\")\n",
    "plt.scatter(ytest, yhat_nonneg, label=\"NNLS\")\n",
    "plt.xlabel(\"true value\")\n",
    "plt.ylabel(\"predicted value\")\n",
    "plt.legend()"
   ]
  },
  {
   "cell_type": "code",
   "execution_count": 22,
   "metadata": {},
   "outputs": [
    {
     "data": {
      "text/plain": [
       "<matplotlib.legend.Legend at 0x7fcceeea99a0>"
      ]
     },
     "execution_count": 22,
     "metadata": {},
     "output_type": "execute_result"
    },
    {
     "data": {
      "image/png": "[encoded data removed]",
      "text/plain": [
       "<Figure size 432x288 with 1 Axes>"
      ]
     },
     "metadata": {
      "needs_background": "light"
     },
     "output_type": "display_data"
    }
   ],
   "source": [
    "# which fits data best?\n",
    "X,y = generate_data(30, w_nonneg)\n",
    "Xtest,ytest = generate_data(20,w_nonneg) # also try w_sparse and w_nonneg\n",
    "\n",
    "yhat_ridge = Ridge(alpha = alpha_ridge).fit(X,y).predict(Xtest)\n",
    "yhat_lasso = Lasso(alpha = alpha_lasso).fit(X,y).predict(Xtest)\n",
    "yhat_nonneg = LinearRegression(positive=True).fit(X,y).predict(Xtest)\n",
    "\n",
    "plt.plot(ytest,ytest)\n",
    "plt.scatter(ytest, yhat_ridge, label=\"ridge\")\n",
    "plt.scatter(ytest, yhat_lasso, label=\"lasso\")\n",
    "plt.scatter(ytest, yhat_nonneg, label=\"NNLS\")\n",
    "plt.xlabel(\"true value\")\n",
    "plt.ylabel(\"predicted value\")\n",
    "plt.legend()"
   ]
  },
  {
   "cell_type": "code",
   "execution_count": 23,
   "metadata": {},
   "outputs": [
    {
     "data": {
      "text/plain": [
       "<matplotlib.legend.Legend at 0x7fcceefc7b80>"
      ]
     },
     "execution_count": 23,
     "metadata": {},
     "output_type": "execute_result"
    },
    {
     "data": {
      "image/png": "[encoded data removed]",
      "text/plain": [
       "<Figure size 432x288 with 1 Axes>"
      ]
     },
     "metadata": {
      "needs_background": "light"
     },
     "output_type": "display_data"
    }
   ],
   "source": [
    "# cross validate over regularization parameter alpha\n",
    "np.random.seed(6)\n",
    "\n",
    "w = randn(40)\n",
    "X,y = generate_noisy_data(30, w)\n",
    "Xtest,ytest = generate_noisy_data(30, w)\n",
    "\n",
    "ridge_error = []\n",
    "lasso_error = []\n",
    "alphas = np.linspace(.01,1,100)\n",
    "for alpha in alphas:\n",
    "    yhat_ridge = Ridge(alpha = alpha).fit(X,y).predict(Xtest)\n",
    "    ridge_error.append(sum((ytest - yhat_ridge)**2))\n",
    "    yhat_lasso = Lasso(alpha = alpha).fit(X,y).predict(Xtest)\n",
    "    lasso_error.append(sum((ytest - yhat_lasso)**2))\n",
    "plt.plot(alphas, ridge_error, label=\"ridge\")\n",
    "plt.plot(alphas, lasso_error, label=\"lasso\")\n",
    "plt.ylabel(\"test error\")\n",
    "plt.xlabel(\"regularization parameter\")\n",
    "plt.legend()"
   ]
  },
  {
   "cell_type": "code",
   "execution_count": 24,
   "metadata": {},
   "outputs": [
    {
     "data": {
      "text/plain": [
       "[486.8744087820671,\n",
       " 486.6381095030756,\n",
       " 486.4137391169036,\n",
       " 486.20096011523566,\n",
       " 485.99944655883013,\n",
       " 485.8088836064389,\n",
       " 485.6289670659078,\n",
       " 485.4594029662677,\n",
       " 485.2999071497014,\n",
       " 485.1502048823566,\n",
       " 485.01003048299606,\n",
       " 484.8791269685702,\n",
       " 484.7572457158444,\n",
       " 484.6441461382387,\n",
       " 484.5395953771271,\n",
       " 484.4433680068402,\n",
       " 484.3552457527017,\n",
       " 484.27501722143006,\n",
       " 484.2024776433035,\n",
       " 484.13742862550004,\n",
       " 484.07967791605574,\n",
       " 484.0290391779454,\n",
       " 483.9853317727668,\n",
       " 483.9483805535866,\n",
       " 483.91801566649457,\n",
       " 483.8940723604596,\n",
       " 483.8763908050878,\n",
       " 483.86481591591235,\n",
       " 483.85919718686824,\n",
       " 483.8593885296015,\n",
       " 483.8652481193156,\n",
       " 483.87663824683636,\n",
       " 483.89342517662715,\n",
       " 483.9154790104646,\n",
       " 483.942673556536,\n",
       " 483.974886203705,\n",
       " 484.0119978007142,\n",
       " 484.05389254010595,\n",
       " 484.1004578466554,\n",
       " 484.1515842701106,\n",
       " 484.20716538205664,\n",
       " 484.26709767672173,\n",
       " 484.3312804755535,\n",
       " 484.3996158354025,\n",
       " 484.47200846016295,\n",
       " 484.54836561571625,\n",
       " 484.62859704804316,\n",
       " 484.7126149043644,\n",
       " 484.80033365718964,\n",
       " 484.8916700311481,\n",
       " 484.98654293248774,\n",
       " 485.0848733811303,\n",
       " 485.18658444517786,\n",
       " 485.29160117777525,\n",
       " 485.3998505562207,\n",
       " 485.5112614232481,\n",
       " 485.625764430383,\n",
       " 485.74329198329036,\n",
       " 485.86377818903924,\n",
       " 485.98715880520393,\n",
       " 486.11337119073085,\n",
       " 486.24235425849895,\n",
       " 486.37404842951435,\n",
       " 486.5083955886623,\n",
       " 486.6453390419739,\n",
       " 486.7848234753312,\n",
       " 486.9267949145698,\n",
       " 487.07120068691495,\n",
       " 487.2179893837042,\n",
       " 487.36711082435613,\n",
       " 487.51851602152,\n",
       " 487.67215714737836,\n",
       " 487.82798750105434,\n",
       " 487.98596147707656,\n",
       " 488.1460345348729,\n",
       " 488.3081631692475,\n",
       " 488.47230488180827,\n",
       " 488.63841815330585,\n",
       " 488.80646241686213,\n",
       " 488.9763980320385,\n",
       " 489.14818625973265,\n",
       " 489.3217892378549,\n",
       " 489.49716995777806,\n",
       " 489.67429224150976,\n",
       " 489.85312071958117,\n",
       " 490.0336208096155,\n",
       " 490.2157586955583,\n",
       " 490.399501307541,\n",
       " 490.5848163023606,\n",
       " 490.77167204455117,\n",
       " 490.96003758803164,\n",
       " 491.14988265829885,\n",
       " 491.3411776351606,\n",
       " 491.5338935359841,\n",
       " 491.72800199943777,\n",
       " 491.92347526972,\n",
       " 492.1202861812488,\n",
       " 492.31840814380445,\n",
       " 492.51781512810277,\n",
       " 492.71848165179154]"
      ]
     },
     "execution_count": 24,
     "metadata": {},
     "output_type": "execute_result"
    }
   ],
   "source": [
    "ridge_error"
   ]
  }
 ],
 "metadata": {
  "@webio": {
   "lastCommId": null,
   "lastKernelId": null
  },
  "kernelspec": {
   "display_name": "Python 3",
   "language": "python",
   "name": "python3"
  },
  "language_info": {
   "codemirror_mode": {
    "name": "ipython",
    "version": 3
   },
   "file_extension": ".py",
   "mimetype": "text/x-python",
   "name": "python",
   "nbconvert_exporter": "python",
   "pygments_lexer": "ipython3",
   "version": "3.8.3"
  }
 },
 "nbformat": 4,
 "nbformat_minor": 4
}
