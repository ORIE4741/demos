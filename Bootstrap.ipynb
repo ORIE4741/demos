{
 "cells": [
  {
   "cell_type": "code",
   "execution_count": 41,
   "metadata": {},
   "outputs": [],
   "source": [
    "# math \n",
    "import numpy as np\n",
    "\n",
    "# random\n",
    "from numpy.random import rand, randn, choice\n",
    "np.random.seed(6)\n",
    "\n",
    "# dataframes\n",
    "import pandas as pd\n",
    "\n",
    "# plotting\n",
    "import matplotlib.pyplot as plt"
   ]
  },
  {
   "cell_type": "markdown",
   "metadata": {},
   "source": [
    "# Problem setup"
   ]
  },
  {
   "cell_type": "code",
   "execution_count": 4,
   "metadata": {},
   "outputs": [],
   "source": [
    "# plot line y = w*x+b\n",
    "def plotline(w,b, xmin=-100,xmax=100,nsamples=100,label=''):\n",
    "    x = np.linspace(xmin, xmax, nsamples)\n",
    "    y = w * x + b\n",
    "    plt.plot(x, y, color='k', label=label)\n",
    "    plt.legend(loc=\"upper left\")\n",
    "    plt.grid()"
   ]
  },
  {
   "cell_type": "code",
   "execution_count": 5,
   "metadata": {},
   "outputs": [],
   "source": [
    "# plot function y = f(x)\n",
    "def plotfunc(f, xmin=-100,xmax=100,nsamples=100,label=\"\"):\n",
    "    x = np.linspace(xmin, xmax, nsamples)\n",
    "    y = f(x)\n",
    "    plt.plot(x, y, color='k', label=label)\n",
    "    plt.legend(loc=\"upper left\")\n",
    "    plt.grid()"
   ]
  },
  {
   "cell_type": "code",
   "execution_count": 6,
   "metadata": {},
   "outputs": [
    {
     "data": {
      "image/png": "[encoded data removed]",
      "text/plain": [
       "<Figure size 432x288 with 1 Axes>"
      ]
     },
     "metadata": {
      "needs_background": "light"
     },
     "output_type": "display_data"
    }
   ],
   "source": [
    "# Generate and plot data\n",
    "n = 15\n",
    "def sample_data(num_points):\n",
    "    x = rand(num_points)*10\n",
    "    y = .2 + .2*x + .1*np.sin(x) + .1*randn(num_points) - .01*((x-5)/6)**4\n",
    "    return x,y\n",
    "\n",
    "x,y = sample_data(n)\n",
    "\n",
    "\n",
    "def plotdata(x=x,y=y, margin=.05):\n",
    "    plt.scatter(x,y, label=\"data\")\n",
    "    plt.legend(loc=\"upper left\")\n",
    "    plt.xlabel(\"x\") \n",
    "    plt.ylabel(\"y\")     \n",
    "    range_y = np.max(y) - np.min(y)\n",
    "    range_x = np.max(x) - np.min(x)\n",
    "    plt.ylim([np.min(y)-margin*range_y,np.max(y)+margin*range_y])\n",
    "    plt.xlim([np.min(x)-margin*range_x,np.max(x)+margin*range_x])\n",
    "    \n",
    "plotdata()\n",
    "plt.show()"
   ]
  },
  {
   "cell_type": "markdown",
   "metadata": {
    "collapsed": true
   },
   "source": [
    "# Bootstrap estimators"
   ]
  },
  {
   "cell_type": "code",
   "execution_count": 74,
   "metadata": {},
   "outputs": [],
   "source": [
    "# sample K data sets of n samples each and compute a model on each\n",
    "# see how the models vary\n",
    "n = 50\n",
    "K = 500\n",
    "\n",
    "models = np.zeros((K,2))\n",
    "for k in range(K):\n",
    "    xk,yk = sample_data(n) # this experiment samples from the true data distribution many many times (not realistic)\n",
    "    Xk = np.column_stack([xk, np.ones(xk.shape)])\n",
    "    wk = np.linalg.lstsq(Xk, yk, rcond=None)[0]\n",
    "    models[k,:] = wk"
   ]
  },
  {
   "cell_type": "code",
   "execution_count": 75,
   "metadata": {},
   "outputs": [
    {
     "data": {
      "text/plain": [
       "(array([ 1.,  0.,  3.,  6.,  8., 16., 17., 36., 42., 57., 59., 76., 50.,\n",
       "        48., 34., 19., 15.,  8.,  2.,  3.]),\n",
       " array([0.10910467, 0.11973151, 0.13035835, 0.14098519, 0.15161203,\n",
       "        0.16223887, 0.17286572, 0.18349256, 0.1941194 , 0.20474624,\n",
       "        0.21537308, 0.22599992, 0.23662676, 0.2472536 , 0.25788045,\n",
       "        0.26850729, 0.27913413, 0.28976097, 0.30038781, 0.31101465,\n",
       "        0.32164149]),\n",
       " <a list of 20 Patch objects>)"
      ]
     },
     "execution_count": 75,
     "metadata": {},
     "output_type": "execute_result"
    },
    {
     "data": {
      "image/png": "[encoded data removed]",
      "text/plain": [
       "<Figure size 432x288 with 1 Axes>"
      ]
     },
     "metadata": {
      "needs_background": "light"
     },
     "output_type": "display_data"
    }
   ],
   "source": [
    "# histogram of the distribution of the first coefficient\n",
    "# could use to compute, eg, confidence intervals\n",
    "\n",
    "plt.hist(models[:,1], bins=20)"
   ]
  },
  {
   "cell_type": "code",
   "execution_count": 80,
   "metadata": {},
   "outputs": [
    {
     "data": {
      "text/plain": [
       "array([0.19856428, 0.22516691])"
      ]
     },
     "execution_count": 80,
     "metadata": {},
     "output_type": "execute_result"
    }
   ],
   "source": [
    "np.mean(models, axis=0)"
   ]
  },
  {
   "cell_type": "code",
   "execution_count": 81,
   "metadata": {},
   "outputs": [
    {
     "data": {
      "text/plain": [
       "array([3.25770304e-05, 1.13203494e-03])"
      ]
     },
     "execution_count": 81,
     "metadata": {},
     "output_type": "execute_result"
    }
   ],
   "source": [
    "np.var(models,axis=0)"
   ]
  },
  {
   "cell_type": "code",
   "execution_count": 84,
   "metadata": {},
   "outputs": [
    {
     "data": {
      "text/plain": [
       "array([10, 17, 19, 17,  2])"
      ]
     },
     "execution_count": 84,
     "metadata": {},
     "output_type": "execute_result"
    }
   ],
   "source": [
    "# can sample with replacement using choice\n",
    "choice(range(20), 5)"
   ]
  },
  {
   "cell_type": "code",
   "execution_count": 91,
   "metadata": {},
   "outputs": [
    {
     "data": {
      "text/plain": [
       "array([[11.        ,  0.37412396],\n",
       "       [14.        ,  0.59559251],\n",
       "       [18.        ,  0.80537399],\n",
       "       [ 7.        ,  0.29205553],\n",
       "       [13.        ,  0.47390698]])"
      ]
     },
     "execution_count": 91,
     "metadata": {},
     "output_type": "execute_result"
    }
   ],
   "source": [
    "# eg,\n",
    "a = np.sort(rand(20))\n",
    "s = choice(range(20), 5)\n",
    "np.column_stack([s, a[s]])"
   ]
  },
  {
   "cell_type": "code",
   "execution_count": 95,
   "metadata": {},
   "outputs": [],
   "source": [
    "# resample K bootstrap data sets of n samples each and compute a model on each\n",
    "# see how the models vary\n",
    "# how does result depend on number of datapoints n? number of resamples K?\n",
    "n = 50\n",
    "K = 1000\n",
    "\n",
    "x,y = sample_data(n) # this is the only data we've got!\n",
    "\n",
    "models = np.zeros((K,2))\n",
    "for k in range(K):\n",
    "    mysample = choice(range(n),n)\n",
    "    xk,yk = x[mysample], y[mysample]\n",
    "    Xk = np.column_stack([xk, np.ones(n)])\n",
    "    wk = np.linalg.lstsq(Xk, yk, rcond=None)[0]\n",
    "    models[k,:] = wk"
   ]
  },
  {
   "cell_type": "code",
   "execution_count": 97,
   "metadata": {},
   "outputs": [
    {
     "data": {
      "text/plain": [
       "(array([  1.,   3.,   2.,   6.,  11.,  21.,  36.,  64.,  88., 124., 129.,\n",
       "        150., 150.,  92.,  64.,  36.,  17.,   4.,   0.,   2.]),\n",
       " array([0.13642948, 0.14843627, 0.16044306, 0.17244985, 0.18445664,\n",
       "        0.19646343, 0.20847022, 0.22047702, 0.23248381, 0.2444906 ,\n",
       "        0.25649739, 0.26850418, 0.28051097, 0.29251776, 0.30452455,\n",
       "        0.31653134, 0.32853813, 0.34054492, 0.35255171, 0.36455851,\n",
       "        0.3765653 ]),\n",
       " <a list of 20 Patch objects>)"
      ]
     },
     "execution_count": 97,
     "metadata": {},
     "output_type": "execute_result"
    },
    {
     "data": {
      "image/png": "[encoded data removed]",
      "text/plain": [
       "<Figure size 432x288 with 1 Axes>"
      ]
     },
     "metadata": {
      "needs_background": "light"
     },
     "output_type": "display_data"
    }
   ],
   "source": [
    "plt.hist(models[:,1], bins=20)"
   ]
  },
  {
   "cell_type": "code",
   "execution_count": 98,
   "metadata": {},
   "outputs": [
    {
     "data": {
      "text/plain": [
       "array([0.1919301, 0.2674654])"
      ]
     },
     "execution_count": 98,
     "metadata": {},
     "output_type": "execute_result"
    }
   ],
   "source": [
    "np.mean(models,axis=0)"
   ]
  },
  {
   "cell_type": "code",
   "execution_count": 100,
   "metadata": {},
   "outputs": [
    {
     "data": {
      "text/plain": [
       "array([0.19162518, 0.26990773])"
      ]
     },
     "execution_count": 100,
     "metadata": {},
     "output_type": "execute_result"
    }
   ],
   "source": [
    "# as K increases, mean of the bootstrap models should converge to \n",
    "# the model fit on the original data set\n",
    "X = np.column_stack([x, np.ones(n)])\n",
    "w = np.linalg.lstsq(X,y,rcond=None)[0]\n",
    "w"
   ]
  },
  {
   "cell_type": "code",
   "execution_count": 101,
   "metadata": {},
   "outputs": [
    {
     "data": {
      "text/plain": [
       "array([3.05079260e-05, 1.09505492e-03])"
      ]
     },
     "execution_count": 101,
     "metadata": {},
     "output_type": "execute_result"
    }
   ],
   "source": [
    "np.var(models,axis=0)"
   ]
  },
  {
   "cell_type": "markdown",
   "metadata": {},
   "source": [
    "# Bootstrap to compute variance of prediction"
   ]
  },
  {
   "cell_type": "code",
   "execution_count": 38,
   "metadata": {},
   "outputs": [
    {
     "data": {
      "text/plain": [
       "(15, 1)"
      ]
     },
     "execution_count": 38,
     "metadata": {},
     "output_type": "execute_result"
    }
   ],
   "source": [
    "# sample data\n",
    "x,y = sample_data(n)\n",
    "\n",
    "# compute feature transformation\n",
    "def phi(x): return np.ones((len(x),1))   # mean\n",
    "def phi(x): return np.reshape(x, (len(x),1)) # linear model without offset\n",
    "# def phi(x): return np.column_stack([x, np.ones(x.shape)]) # linear model with offset\n",
    "# def phi(x): return np.column_stack([np.power(x,k) for k in range(5)]) # 4th order polynomial model\n",
    "X = phi(x)\n",
    "X.shape"
   ]
  },
  {
   "cell_type": "code",
   "execution_count": 39,
   "metadata": {},
   "outputs": [
    {
     "data": {
      "image/png": "[encoded data removed]",
      "text/plain": [
       "<Figure size 432x288 with 1 Axes>"
      ]
     },
     "metadata": {
      "needs_background": "light"
     },
     "output_type": "display_data"
    }
   ],
   "source": [
    "# fit model\n",
    "w = np.linalg.lstsq(X, y, rcond=None)[0]\n",
    "def g(x): return phi(x).dot(w)\n",
    "\n",
    "# plot\n",
    "plotdata()\n",
    "plotfunc(g, xmin=0, xmax=10)"
   ]
  },
  {
   "cell_type": "code",
   "execution_count": 63,
   "metadata": {},
   "outputs": [
    {
     "data": {
      "text/plain": [
       "(array([ 4.,  9., 14., 19., 17., 17., 13.,  3.,  2.,  2.]),\n",
       " array([0.87369826, 0.95217923, 1.0306602 , 1.10914116, 1.18762213,\n",
       "        1.2661031 , 1.34458407, 1.42306504, 1.501546  , 1.58002697,\n",
       "        1.65850794]),\n",
       " <a list of 10 Patch objects>)"
      ]
     },
     "execution_count": 63,
     "metadata": {},
     "output_type": "execute_result"
    },
    {
     "data": {
      "image/png": "[encoded data removed]",
      "text/plain": [
       "<Figure size 432x288 with 1 Axes>"
      ]
     },
     "metadata": {
      "needs_background": "light"
     },
     "output_type": "display_data"
    }
   ],
   "source": [
    "x0,y0 = sample_data(n) # sample data\n",
    "stats = []\n",
    "for k in range(100):\n",
    "    # sample new data\n",
    "    x,y = sample_data(n)\n",
    "    # resample data (bootstrap)\n",
    "#     samples = choice(range(n),n)\n",
    "#     x,y = x0[samples], y0[samples] \n",
    "\n",
    "    # compute feature transformation\n",
    "    def phi(x): return np.ones((len(x),1))   # mean\n",
    "    # def phi(x): return np.reshape(x, (len(x),1)) # linear model without offset\n",
    "    # def phi(x): return np.column_stack([x, np.ones(x.shape)]) # linear model with offset\n",
    "    # def phi(x): return np.column_stack([np.power(x,k) for k in range(5)]) # 4th order polynomial model\n",
    "    X = phi(x)\n",
    "\n",
    "    # fit model\n",
    "    w = np.linalg.lstsq(X, y, rcond=None)[0]\n",
    "    def g(x): return phi(x).dot(w)\n",
    "    \n",
    "    stats.append(g([3]))\n",
    "    \n",
    "stats=np.concatenate(stats)\n",
    "plt.hist(stats,bins=10)    "
   ]
  },
  {
   "cell_type": "code",
   "execution_count": null,
   "metadata": {},
   "outputs": [],
   "source": []
  }
 ],
 "metadata": {
  "@webio": {
   "lastCommId": null,
   "lastKernelId": null
  },
  "kernelspec": {
   "display_name": "Python 3",
   "language": "python",
   "name": "python3"
  },
  "language_info": {
   "codemirror_mode": {
    "name": "ipython",
    "version": 3
   },
   "file_extension": ".py",
   "mimetype": "text/x-python",
   "name": "python",
   "nbconvert_exporter": "python",
   "pygments_lexer": "ipython3",
   "version": "3.8.3"
  }
 },
 "nbformat": 4,
 "nbformat_minor": 1
}
