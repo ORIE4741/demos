{
 "cells": [
  {
   "cell_type": "code",
   "execution_count": 21,
   "metadata": {},
   "outputs": [],
   "source": [
    "# math \n",
    "import numpy as np\n",
    "\n",
    "# random\n",
    "from numpy.random import rand, randn, choice\n",
    "np.random.seed(6)\n",
    "\n",
    "# dataframes\n",
    "import pandas as pd\n",
    "\n",
    "# plotting\n",
    "import matplotlib.pyplot as plt"
   ]
  },
  {
   "cell_type": "markdown",
   "metadata": {},
   "source": [
    "# Problem setup"
   ]
  },
  {
   "cell_type": "code",
   "execution_count": 22,
   "metadata": {},
   "outputs": [],
   "source": [
    "# plot line y = w*x+b\n",
    "def plotline(w,b, xmin=-100,xmax=100,nsamples=100,label=''):\n",
    "    x = np.linspace(xmin, xmax, nsamples)\n",
    "    y = w * x + b\n",
    "    plt.plot(x, y, color='k', label=label)\n",
    "    plt.legend(loc=\"upper left\")\n",
    "    plt.grid()"
   ]
  },
  {
   "cell_type": "code",
   "execution_count": 23,
   "metadata": {},
   "outputs": [],
   "source": [
    "# plot function y = f(x)\n",
    "def plotfunc(f, xmin=-100,xmax=100,nsamples=100,label=\"\"):\n",
    "    x = np.linspace(xmin, xmax, nsamples)\n",
    "    y = f(x)\n",
    "    plt.plot(x, y, color='k', label=label)\n",
    "    plt.legend(loc=\"upper left\")\n",
    "    plt.grid()"
   ]
  },
  {
   "cell_type": "code",
   "execution_count": 25,
   "metadata": {},
   "outputs": [
    {
     "data": {
      "image/png": "[encoded data removed]",
      "text/plain": [
       "<Figure size 432x288 with 1 Axes>"
      ]
     },
     "metadata": {
      "needs_background": "light"
     },
     "output_type": "display_data"
    }
   ],
   "source": [
    "# Generate and plot data\n",
    "n = 15\n",
    "def sample_data(num_points):\n",
    "    x = rand(num_points)*10\n",
    "    y = .2 + .2*x + .1*np.sin(x) + .1*randn(num_points) - .01*((x-5)/6)**4\n",
    "    return x,y\n",
    "\n",
    "x,y = sample_data(n)\n",
    "\n",
    "\n",
    "def plotdata(x=x,y=y, margin=.05):\n",
    "    plt.scatter(x,y, label=\"data\")\n",
    "    plt.legend(loc=\"upper left\")\n",
    "    plt.xlabel(\"x\") \n",
    "    plt.ylabel(\"y\")     \n",
    "    range_y = np.max(y) - np.min(y)\n",
    "    range_x = np.max(x) - np.min(x)\n",
    "    plt.ylim([np.min(y)-margin*range_y,np.max(y)+margin*range_y])\n",
    "    plt.xlim([np.min(x)-margin*range_x,np.max(x)+margin*range_x])\n",
    "    \n",
    "plotdata()\n",
    "plt.show()"
   ]
  },
  {
   "cell_type": "markdown",
   "metadata": {
    "collapsed": true
   },
   "source": [
    "# Bootstrap estimators"
   ]
  },
  {
   "cell_type": "code",
   "execution_count": 37,
   "metadata": {},
   "outputs": [],
   "source": [
    "# sample K data sets of n samples each and compute a model on each\n",
    "# see how the models vary\n",
    "n = 50\n",
    "K = 500\n",
    "\n",
    "models = np.zeros((K,2))\n",
    "for k in range(K):\n",
    "    xk,yk = sample_data(n) # this experiment samples from the true data distribution many many times (not realistic)\n",
    "    Xk = np.column_stack([xk, np.ones(xk.shape)])\n",
    "    wk = np.linalg.lstsq(Xk, yk, rcond=None)[0]\n",
    "    models[k,:] = wk"
   ]
  },
  {
   "cell_type": "markdown",
   "metadata": {},
   "source": [
    "When n decreases, the support of the distribution of the first coefficient \n",
    "* A) gets narrower\n",
    "* B) gets wider\n",
    "\n",
    "\n",
    "When K increases, the distribution of the first coefficient \n",
    "* A) gets narrower\n",
    "* B) gets wider\n",
    "* C) gets smoother\n",
    "* D) gets more wiggly"
   ]
  },
  {
   "cell_type": "code",
   "execution_count": 38,
   "metadata": {},
   "outputs": [
    {
     "data": {
      "text/plain": [
       "(array([ 1.,  1.,  0.,  3.,  3., 10.,  8., 19., 36., 48., 54., 62., 66.,\n",
       "        57., 39., 37., 21., 29.,  4.,  2.]),\n",
       " array([0.09370089, 0.10461259, 0.1155243 , 0.12643601, 0.13734771,\n",
       "        0.14825942, 0.15917113, 0.17008283, 0.18099454, 0.19190625,\n",
       "        0.20281795, 0.21372966, 0.22464137, 0.23555308, 0.24646478,\n",
       "        0.25737649, 0.2682882 , 0.2791999 , 0.29011161, 0.30102332,\n",
       "        0.31193502]),\n",
       " <a list of 20 Patch objects>)"
      ]
     },
     "execution_count": 38,
     "metadata": {},
     "output_type": "execute_result"
    },
    {
     "data": {
      "image/png": "[encoded data removed]",
      "text/plain": [
       "<Figure size 432x288 with 1 Axes>"
      ]
     },
     "metadata": {
      "needs_background": "light"
     },
     "output_type": "display_data"
    }
   ],
   "source": [
    "# histogram of the distribution of the first coefficient\n",
    "# could use to compute, eg, confidence intervals\n",
    "\n",
    "plt.hist(models[:,1], bins=20)"
   ]
  },
  {
   "cell_type": "code",
   "execution_count": 39,
   "metadata": {},
   "outputs": [
    {
     "data": {
      "text/plain": [
       "array([0.19852618, 0.22514584])"
      ]
     },
     "execution_count": 39,
     "metadata": {},
     "output_type": "execute_result"
    }
   ],
   "source": [
    "np.mean(models, axis=0)"
   ]
  },
  {
   "cell_type": "code",
   "execution_count": 40,
   "metadata": {},
   "outputs": [
    {
     "data": {
      "text/plain": [
       "array([3.14117088e-05, 1.19904461e-03])"
      ]
     },
     "execution_count": 40,
     "metadata": {},
     "output_type": "execute_result"
    }
   ],
   "source": [
    "np.var(models,axis=0)"
   ]
  },
  {
   "cell_type": "code",
   "execution_count": 50,
   "metadata": {},
   "outputs": [
    {
     "data": {
      "text/plain": [
       "array([2, 1, 2, 2, 3])"
      ]
     },
     "execution_count": 50,
     "metadata": {},
     "output_type": "execute_result"
    }
   ],
   "source": [
    "# can sample with replacement using choice\n",
    "choice(range(5), 5)"
   ]
  },
  {
   "cell_type": "code",
   "execution_count": 51,
   "metadata": {},
   "outputs": [
    {
     "data": {
      "text/plain": [
       "array([[15.        ,  0.56474272],\n",
       "       [19.        ,  0.94586168],\n",
       "       [ 7.        ,  0.23688074],\n",
       "       [17.        ,  0.8963133 ],\n",
       "       [ 2.        ,  0.06753065]])"
      ]
     },
     "execution_count": 51,
     "metadata": {},
     "output_type": "execute_result"
    }
   ],
   "source": [
    "# eg,\n",
    "a = np.sort(rand(20))\n",
    "s = choice(range(20), 5)\n",
    "np.column_stack([s, a[s]])"
   ]
  },
  {
   "cell_type": "code",
   "execution_count": 70,
   "metadata": {},
   "outputs": [],
   "source": [
    "# resample K bootstrap data sets of n samples each and compute a model on each\n",
    "# see how the models vary\n",
    "# how does result depend on number of datapoints n? number of resamples K?\n",
    "n = 50\n",
    "K = 1000\n",
    "\n",
    "x,y = sample_data(n) # this is the only data we've got!\n",
    "\n",
    "models = np.zeros((K,2))\n",
    "for k in range(K):\n",
    "    mysample = choice(range(n),n)\n",
    "    xk,yk = x[mysample], y[mysample]\n",
    "    Xk = np.column_stack([xk, np.ones(n)])\n",
    "    wk = np.linalg.lstsq(Xk, yk, rcond=None)[0]\n",
    "    models[k,:] = wk"
   ]
  },
  {
   "cell_type": "code",
   "execution_count": 71,
   "metadata": {},
   "outputs": [
    {
     "data": {
      "text/plain": [
       "(array([  3.,   2.,   1.,  11.,  15.,  30.,  40.,  51.,  90.,  88.,  96.,\n",
       "        116., 121., 122.,  81.,  49.,  42.,  23.,  10.,   9.]),\n",
       " array([0.01516064, 0.0308726 , 0.04658457, 0.06229653, 0.07800849,\n",
       "        0.09372045, 0.10943241, 0.12514438, 0.14085634, 0.1565683 ,\n",
       "        0.17228026, 0.18799222, 0.20370419, 0.21941615, 0.23512811,\n",
       "        0.25084007, 0.26655204, 0.282264  , 0.29797596, 0.31368792,\n",
       "        0.32939988]),\n",
       " <a list of 20 Patch objects>)"
      ]
     },
     "execution_count": 71,
     "metadata": {},
     "output_type": "execute_result"
    },
    {
     "data": {
      "image/png": "[encoded data removed]",
      "text/plain": [
       "<Figure size 432x288 with 1 Axes>"
      ]
     },
     "metadata": {
      "needs_background": "light"
     },
     "output_type": "display_data"
    }
   ],
   "source": [
    "plt.hist(models[:,1], bins=20)"
   ]
  },
  {
   "cell_type": "code",
   "execution_count": 66,
   "metadata": {},
   "outputs": [
    {
     "data": {
      "text/plain": [
       "array([0.19439469, 0.28504352])"
      ]
     },
     "execution_count": 66,
     "metadata": {},
     "output_type": "execute_result"
    }
   ],
   "source": [
    "np.mean(models,axis=0)"
   ]
  },
  {
   "cell_type": "code",
   "execution_count": 69,
   "metadata": {},
   "outputs": [
    {
     "data": {
      "text/plain": [
       "array([0.19443163, 0.28558029])"
      ]
     },
     "execution_count": 69,
     "metadata": {},
     "output_type": "execute_result"
    }
   ],
   "source": [
    "# as K increases, mean of the bootstrap models should converge to \n",
    "# the model fit on the original data set\n",
    "X = np.column_stack([x, np.ones(n)])\n",
    "w = np.linalg.lstsq(X,y,rcond=None)[0]\n",
    "w"
   ]
  },
  {
   "cell_type": "code",
   "execution_count": 68,
   "metadata": {},
   "outputs": [
    {
     "data": {
      "text/plain": [
       "array([1.64722761e-05, 7.51630697e-04])"
      ]
     },
     "execution_count": 68,
     "metadata": {},
     "output_type": "execute_result"
    }
   ],
   "source": [
    "np.var(models,axis=0)"
   ]
  },
  {
   "cell_type": "markdown",
   "metadata": {},
   "source": [
    "# Bootstrap to compute variance of prediction"
   ]
  },
  {
   "cell_type": "code",
   "execution_count": 16,
   "metadata": {},
   "outputs": [
    {
     "data": {
      "text/plain": [
       "(50, 1)"
      ]
     },
     "execution_count": 16,
     "metadata": {},
     "output_type": "execute_result"
    }
   ],
   "source": [
    "# sample data\n",
    "x,y = sample_data(n)\n",
    "\n",
    "# compute feature transformation\n",
    "def phi(x): return np.ones((len(x),1))   # mean\n",
    "def phi(x): return np.reshape(x, (len(x),1)) # linear model without offset\n",
    "# def phi(x): return np.column_stack([x, np.ones(x.shape)]) # linear model with offset\n",
    "# def phi(x): return np.column_stack([np.power(x,k) for k in range(5)]) # 4th order polynomial model\n",
    "X = phi(x)\n",
    "X.shape"
   ]
  },
  {
   "cell_type": "code",
   "execution_count": 17,
   "metadata": {},
   "outputs": [
    {
     "data": {
      "image/png": "[encoded data removed]",
      "text/plain": [
       "<Figure size 432x288 with 1 Axes>"
      ]
     },
     "metadata": {
      "needs_background": "light"
     },
     "output_type": "display_data"
    }
   ],
   "source": [
    "# fit model\n",
    "w = np.linalg.lstsq(X, y, rcond=None)[0]\n",
    "def g(x): return phi(x).dot(w)\n",
    "\n",
    "# plot\n",
    "plotdata()\n",
    "plotfunc(g, xmin=0, xmax=10)"
   ]
  },
  {
   "cell_type": "code",
   "execution_count": 20,
   "metadata": {},
   "outputs": [
    {
     "data": {
      "text/plain": [
       "(array([ 3.,  5.,  7., 17., 23., 20., 16.,  3.,  5.,  1.]),\n",
       " array([0.75231804, 0.76246301, 0.77260798, 0.78275295, 0.79289791,\n",
       "        0.80304288, 0.81318785, 0.82333282, 0.83347779, 0.84362275,\n",
       "        0.85376772]),\n",
       " <a list of 10 Patch objects>)"
      ]
     },
     "execution_count": 20,
     "metadata": {},
     "output_type": "execute_result"
    },
    {
     "data": {
      "image/png": "[encoded data removed]",
      "text/plain": [
       "<Figure size 432x288 with 1 Axes>"
      ]
     },
     "metadata": {
      "needs_background": "light"
     },
     "output_type": "display_data"
    }
   ],
   "source": [
    "x0,y0 = sample_data(n) # sample data\n",
    "stats = []\n",
    "for k in range(100):\n",
    "    # sample new data\n",
    "#     x,y = sample_data(n)\n",
    "    # resample data (bootstrap)\n",
    "    samples = choice(range(n),n)\n",
    "    x,y = x0[samples], y0[samples] \n",
    "\n",
    "    # compute feature transformation\n",
    "    # def phi(x): return np.ones((len(x),1))   # mean\n",
    "    # def phi(x): return np.reshape(x, (len(x),1)) # linear model without offset\n",
    "    def phi(x): return np.column_stack([x, np.ones(len(x))]) # linear model with offset\n",
    "    # def phi(x): return np.column_stack([np.power(x,k) for k in range(5)]) # 4th order polynomial model\n",
    "    X = phi(x)\n",
    "\n",
    "    # fit model\n",
    "    w = np.linalg.lstsq(X, y, rcond=None)[0]\n",
    "    def g(x): return phi(x).dot(w)\n",
    "    \n",
    "    stats.append(g([3]))\n",
    "    \n",
    "stats=np.concatenate(stats)\n",
    "plt.hist(stats,bins=10)    "
   ]
  },
  {
   "cell_type": "code",
   "execution_count": null,
   "metadata": {},
   "outputs": [],
   "source": []
  }
 ],
 "metadata": {
  "@webio": {
   "lastCommId": null,
   "lastKernelId": null
  },
  "kernelspec": {
   "display_name": "Python 3",
   "language": "python",
   "name": "python3"
  },
  "language_info": {
   "codemirror_mode": {
    "name": "ipython",
    "version": 3
   },
   "file_extension": ".py",
   "mimetype": "text/x-python",
   "name": "python",
   "nbconvert_exporter": "python",
   "pygments_lexer": "ipython3",
   "version": "3.8.3"
  }
 },
 "nbformat": 4,
 "nbformat_minor": 1
}
