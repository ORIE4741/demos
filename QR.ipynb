{
 "cells": [
  {
   "cell_type": "code",
   "execution_count": 1,
   "metadata": {},
   "outputs": [],
   "source": [
    "from scipy.linalg import qr, pinv, solve, norm\n",
    "from numpy.random import randn\n",
    "from numpy.linalg import lstsq\n",
    "import numpy as np"
   ]
  },
  {
   "cell_type": "code",
   "execution_count": 3,
   "metadata": {},
   "outputs": [],
   "source": [
    "# generate random data matrix\n",
    "n,d = 6,4\n",
    "X = randn(n,d)\n",
    "\n",
    "# optional: give it linearly dependent columns\n",
    "# X[:,3] = X[:,2]"
   ]
  },
  {
   "cell_type": "markdown",
   "metadata": {},
   "source": [
    "# Understanding the pseudoinverse"
   ]
  },
  {
   "cell_type": "code",
   "execution_count": 4,
   "metadata": {},
   "outputs": [],
   "source": [
    "# form pseudoinverse\n",
    "Xd = pinv(X)"
   ]
  },
  {
   "cell_type": "code",
   "execution_count": 5,
   "metadata": {},
   "outputs": [
    {
     "data": {
      "text/plain": [
       "array([[ 1.00000000e+00,  3.26194267e-16, -2.32599523e-16,\n",
       "        -1.76538379e-16],\n",
       "       [ 1.23838370e-16,  1.00000000e+00, -7.15454140e-16,\n",
       "         3.20159051e-16],\n",
       "       [-2.99593137e-16, -2.24746860e-16,  1.00000000e+00,\n",
       "         1.57207172e-16],\n",
       "       [-8.35114587e-17, -2.19207791e-16,  3.92819212e-17,\n",
       "         1.00000000e+00]])"
      ]
     },
     "execution_count": 5,
     "metadata": {},
     "output_type": "execute_result"
    }
   ],
   "source": [
    "# X†X ≈ I_d\n",
    "Xd @ X"
   ]
  },
  {
   "cell_type": "code",
   "execution_count": 6,
   "metadata": {},
   "outputs": [
    {
     "data": {
      "text/plain": [
       "True"
      ]
     },
     "execution_count": 6,
     "metadata": {},
     "output_type": "execute_result"
    }
   ],
   "source": [
    "np.allclose(Xd @ X, np.identity(4))"
   ]
  },
  {
   "cell_type": "code",
   "execution_count": 7,
   "metadata": {},
   "outputs": [
    {
     "data": {
      "text/plain": [
       "array([[ 0.92292723, -0.19207847, -0.02487266, -0.02034622,  0.15734442,\n",
       "        -0.0919159 ],\n",
       "       [-0.19207847,  0.29368018,  0.04785243, -0.24610263,  0.05077907,\n",
       "        -0.32419612],\n",
       "       [-0.02487266,  0.04785243,  0.93897132,  0.08772047,  0.21549265,\n",
       "         0.01623931],\n",
       "       [-0.02034622, -0.24610263,  0.08772047,  0.82689984, -0.25147931,\n",
       "        -0.10592118],\n",
       "       [ 0.15734442,  0.05077907,  0.21549265, -0.25147931,  0.16689241,\n",
       "         0.04499583],\n",
       "       [-0.0919159 , -0.32419612,  0.01623931, -0.10592118,  0.04499583,\n",
       "         0.85062902]])"
      ]
     },
     "execution_count": 7,
     "metadata": {},
     "output_type": "execute_result"
    }
   ],
   "source": [
    "# XX† !≈ I_n\n",
    "X @ Xd"
   ]
  },
  {
   "cell_type": "code",
   "execution_count": 8,
   "metadata": {},
   "outputs": [
    {
     "data": {
      "text/plain": [
       "False"
      ]
     },
     "execution_count": 8,
     "metadata": {},
     "output_type": "execute_result"
    }
   ],
   "source": [
    "np.allclose(X @ Xd, np.identity(6))"
   ]
  },
  {
   "cell_type": "code",
   "execution_count": 9,
   "metadata": {},
   "outputs": [],
   "source": [
    "Q,R = qr(X)\n",
    "Q,R = qr(X, mode='economic')"
   ]
  },
  {
   "cell_type": "code",
   "execution_count": 10,
   "metadata": {},
   "outputs": [
    {
     "data": {
      "text/plain": [
       "True"
      ]
     },
     "execution_count": 10,
     "metadata": {},
     "output_type": "execute_result"
    }
   ],
   "source": [
    "np.allclose(X, Q @ R)"
   ]
  },
  {
   "cell_type": "code",
   "execution_count": 11,
   "metadata": {},
   "outputs": [
    {
     "data": {
      "text/plain": [
       "array([[-0.56201486,  0.63759906, -0.23057605, -0.38388624],\n",
       "       [-0.14763691, -0.21633913,  0.46831834,  0.07588703],\n",
       "       [-0.27210148, -0.70101235, -0.21471219, -0.57219968],\n",
       "       [ 0.66267283,  0.14334266, -0.15547092, -0.58570148],\n",
       "       [-0.38277792, -0.12482775, -0.06724561, -0.01641728],\n",
       "       [ 0.05147032, -0.13826577, -0.80790972,  0.41969547]])"
      ]
     },
     "execution_count": 11,
     "metadata": {},
     "output_type": "execute_result"
    }
   ],
   "source": [
    "Q"
   ]
  },
  {
   "cell_type": "code",
   "execution_count": 12,
   "metadata": {},
   "outputs": [
    {
     "data": {
      "text/plain": [
       "array([[ 2.82036938, -0.4006528 ,  1.90362682,  0.34118195],\n",
       "       [ 0.        ,  2.55806078, -0.13829193, -0.39913027],\n",
       "       [ 0.        ,  0.        , -3.47705222,  0.39879886],\n",
       "       [ 0.        ,  0.        ,  0.        , -1.72866855]])"
      ]
     },
     "execution_count": 12,
     "metadata": {},
     "output_type": "execute_result"
    }
   ],
   "source": [
    "R"
   ]
  },
  {
   "cell_type": "code",
   "execution_count": 13,
   "metadata": {},
   "outputs": [
    {
     "name": "stdout",
     "output_type": "stream",
     "text": [
      "True\n"
     ]
    },
    {
     "data": {
      "text/plain": [
       "array([[ 1.00000000e+00, -7.06106860e-17,  1.63377044e-17,\n",
       "        -4.64978195e-17],\n",
       "       [-7.06106860e-17,  1.00000000e+00,  9.28390587e-17,\n",
       "        -4.27972210e-17],\n",
       "       [ 1.63377044e-17,  9.28390587e-17,  1.00000000e+00,\n",
       "         3.18741738e-17],\n",
       "       [-4.64978195e-17, -4.27972210e-17,  3.18741738e-17,\n",
       "         1.00000000e+00]])"
      ]
     },
     "execution_count": 13,
     "metadata": {},
     "output_type": "execute_result"
    }
   ],
   "source": [
    "print(np.allclose(Q.T @ Q, np.identity(Q.shape[1])))\n",
    "Q.T @ Q"
   ]
  },
  {
   "cell_type": "code",
   "execution_count": 18,
   "metadata": {},
   "outputs": [],
   "source": [
    "# form data from noisy linear model\n",
    "wtrue = randn(d)\n",
    "y = X.dot(wtrue) + .01*randn(n)"
   ]
  },
  {
   "cell_type": "code",
   "execution_count": 26,
   "metadata": {},
   "outputs": [
    {
     "data": {
      "text/plain": [
       "0.0015392303466796875"
      ]
     },
     "execution_count": 26,
     "metadata": {},
     "output_type": "execute_result"
    }
   ],
   "source": [
    "# solve least squares problem to estimate w\n",
    "Q,R = qr(X, mode='economic')\n",
    "w = solve(R, Q.T @ y)"
   ]
  },
  {
   "cell_type": "code",
   "execution_count": 20,
   "metadata": {},
   "outputs": [
    {
     "data": {
      "text/plain": [
       "0.013572977104475286"
      ]
     },
     "execution_count": 20,
     "metadata": {},
     "output_type": "execute_result"
    }
   ],
   "source": [
    "# how good is our estimate?\n",
    "norm(w - wtrue)"
   ]
  },
  {
   "cell_type": "code",
   "execution_count": 21,
   "metadata": {},
   "outputs": [
    {
     "data": {
      "text/plain": [
       "6.898214932602962e-05"
      ]
     },
     "execution_count": 21,
     "metadata": {},
     "output_type": "execute_result"
    }
   ],
   "source": [
    "# compute mean square error\n",
    "def mse(y,z):\n",
    "    return sum((y-z)**2)/len(y)\n",
    "    \n",
    "mse(y,X.dot(w))"
   ]
  },
  {
   "cell_type": "code",
   "execution_count": 22,
   "metadata": {},
   "outputs": [
    {
     "data": {
      "text/plain": [
       "1.025079205553247e-15"
      ]
     },
     "execution_count": 22,
     "metadata": {},
     "output_type": "execute_result"
    }
   ],
   "source": [
    "# we can use the numpy.lstsq call instead\n",
    "w_lstsq = np.linalg.lstsq(X, y, rcond=None)[0]\n",
    "norm(w_lstsq - w)"
   ]
  },
  {
   "cell_type": "markdown",
   "metadata": {},
   "source": [
    "# Compute QR by hand"
   ]
  },
  {
   "cell_type": "code",
   "execution_count": 18,
   "metadata": {},
   "outputs": [
    {
     "data": {
      "text/plain": [
       "array([[-0.47534812,  0.        ,  0.        ,  0.        ,  0.        ,\n",
       "         0.        ],\n",
       "       [ 0.02906357,  0.        ,  0.        ,  0.        ,  0.        ,\n",
       "         0.        ],\n",
       "       [ 0.00071364,  0.        ,  0.        ,  0.        ,  0.        ,\n",
       "         0.        ],\n",
       "       [ 0.45358044,  0.        ,  0.        ,  0.        ,  0.        ,\n",
       "         0.        ],\n",
       "       [-0.26950649,  0.        ,  0.        ,  0.        ,  0.        ,\n",
       "         0.        ],\n",
       "       [-0.70344154,  0.        ,  0.        ,  0.        ,  0.        ,\n",
       "         0.        ]])"
      ]
     },
     "execution_count": 18,
     "metadata": {},
     "output_type": "execute_result"
    }
   ],
   "source": [
    "n,d = X.shape \n",
    "X0 = X.copy()\n",
    "R = np.zeros((n,d))\n",
    "Q = np.zeros((n,n))\n",
    "\n",
    "# first column of Q points in direction of first column of X\n",
    "r = norm(X[:,0])\n",
    "Q[:,0] = X[:,0]/r\n",
    "Q"
   ]
  },
  {
   "cell_type": "code",
   "execution_count": 19,
   "metadata": {},
   "outputs": [],
   "source": [
    "# ensure Q*R matches X on first column\n",
    "R[0,0] = r"
   ]
  },
  {
   "cell_type": "code",
   "execution_count": 20,
   "metadata": {},
   "outputs": [
    {
     "data": {
      "text/plain": [
       "array([0., 0., 0., 0., 0., 0.])"
      ]
     },
     "execution_count": 20,
     "metadata": {},
     "output_type": "execute_result"
    }
   ],
   "source": [
    "# verify Q*R matches X in first column\n",
    "(Q@R - X)[:,0]"
   ]
  },
  {
   "cell_type": "code",
   "execution_count": 21,
   "metadata": {},
   "outputs": [],
   "source": [
    "# now delete that part from X; we've covered it already\n",
    "X[:,0] -= Q[:,0]*R[0,0]"
   ]
  },
  {
   "cell_type": "code",
   "execution_count": 22,
   "metadata": {},
   "outputs": [
    {
     "data": {
      "text/plain": [
       "array([[ True,  True,  True,  True],\n",
       "       [ True,  True,  True,  True],\n",
       "       [ True,  True,  True,  True],\n",
       "       [ True,  True,  True,  True],\n",
       "       [ True,  True,  True,  True],\n",
       "       [ True,  True,  True,  True]])"
      ]
     },
     "execution_count": 22,
     "metadata": {},
     "output_type": "execute_result"
    }
   ],
   "source": [
    "# verify Q*R + X = X0\n",
    "np.isclose(Q@R + X, X0)"
   ]
  },
  {
   "cell_type": "code",
   "execution_count": 23,
   "metadata": {},
   "outputs": [
    {
     "data": {
      "text/plain": [
       "array([[ 3.74544392, -0.69063861,  0.96961492,  0.82682362],\n",
       "       [ 0.        ,  0.        ,  0.        ,  0.        ],\n",
       "       [ 0.        ,  0.        ,  0.        ,  0.        ],\n",
       "       [ 0.        ,  0.        ,  0.        ,  0.        ],\n",
       "       [ 0.        ,  0.        ,  0.        ,  0.        ],\n",
       "       [ 0.        ,  0.        ,  0.        ,  0.        ]])"
      ]
     },
     "execution_count": 23,
     "metadata": {},
     "output_type": "execute_result"
    }
   ],
   "source": [
    "# eliminate component of other columns in direction of first column of Q \n",
    "for j in range(1,d):\n",
    "    R[0,j] = Q[:,0].dot(X[:,j])\n",
    "    X[:,j] -= Q[:,0]*R[0,j]\n",
    "R"
   ]
  },
  {
   "cell_type": "code",
   "execution_count": 24,
   "metadata": {},
   "outputs": [
    {
     "data": {
      "text/plain": [
       "array([[ True,  True,  True,  True],\n",
       "       [ True,  True,  True,  True],\n",
       "       [ True,  True,  True,  True],\n",
       "       [ True,  True,  True,  True],\n",
       "       [ True,  True,  True,  True],\n",
       "       [ True,  True,  True,  True]])"
      ]
     },
     "execution_count": 24,
     "metadata": {},
     "output_type": "execute_result"
    }
   ],
   "source": [
    "# verify Q*R + X = X0\n",
    "np.isclose(Q@R + X, X0)"
   ]
  },
  {
   "cell_type": "code",
   "execution_count": 25,
   "metadata": {},
   "outputs": [
    {
     "name": "stdout",
     "output_type": "stream",
     "text": [
      "iteration 0 : QR + X = X0? True\n",
      "iteration 1 : QR + X = X0? True\n",
      "iteration 2 : QR + X = X0? True\n",
      "iteration 3 : QR + X = X0? True\n"
     ]
    }
   ],
   "source": [
    "# now for all the columns!\n",
    "X = X0.copy()\n",
    "Q *= 0\n",
    "R *= 0\n",
    "\n",
    "# compute the QR decomposition\n",
    "for i in range(d):\n",
    "    r = norm(X[:,i])\n",
    "    Q[:,i] = X[:,i]/r\n",
    "    for j in range(i,d):\n",
    "        R[i,j] = Q[:,i].dot(X[:,j])\n",
    "        X[:,j] -= Q[:,i]*R[i,j]\n",
    "    print(\"iteration\",i,\": QR + X = X0?\", np.isclose(Q@R + X, X0).all())"
   ]
  },
  {
   "cell_type": "code",
   "execution_count": 26,
   "metadata": {},
   "outputs": [],
   "source": [
    "\"\"\"Our very own QR function to compute the economy QR\"\"\"\n",
    "def ourQR(X0):\n",
    "    X = X0.copy()\n",
    "    n,d = X.shape\n",
    "    R = np.zeros((n,d))\n",
    "    Q = np.zeros((n,n))\n",
    "\n",
    "    # compute the QR decomposition\n",
    "    for i in range(d):\n",
    "        r = norm(X[:,i])\n",
    "        Q[:,i] = X[:,i]/r\n",
    "        for j in range(i,d):\n",
    "            R[i,j] = Q[:,i].dot(X[:,j])\n",
    "            X[:,j] -= Q[:,i]*R[i,j]\n",
    "    return Q,R"
   ]
  },
  {
   "cell_type": "code",
   "execution_count": 31,
   "metadata": {},
   "outputs": [],
   "source": [
    "# solve least squares problem to estimate w\n",
    "Q,R = ourQR(X0)\n",
    "w_byhand = solve(R[:d,:d], (Q.T @ y)[:d])"
   ]
  },
  {
   "cell_type": "code",
   "execution_count": 32,
   "metadata": {},
   "outputs": [
    {
     "data": {
      "text/plain": [
       "1.3822165187958571e-15"
      ]
     },
     "execution_count": 32,
     "metadata": {},
     "output_type": "execute_result"
    }
   ],
   "source": [
    "norm(w_byhand - w)"
   ]
  },
  {
   "cell_type": "code",
   "execution_count": null,
   "metadata": {},
   "outputs": [],
   "source": []
  }
 ],
 "metadata": {
  "@webio": {
   "lastCommId": null,
   "lastKernelId": null
  },
  "kernelspec": {
   "display_name": "Python 3",
   "language": "python",
   "name": "python3"
  },
  "language_info": {
   "codemirror_mode": {
    "name": "ipython",
    "version": 3
   },
   "file_extension": ".py",
   "mimetype": "text/x-python",
   "name": "python",
   "nbconvert_exporter": "python",
   "pygments_lexer": "ipython3",
   "version": "3.8.3"
  }
 },
 "nbformat": 4,
 "nbformat_minor": 4
}
