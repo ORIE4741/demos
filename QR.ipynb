{
 "cells": [
  {
   "cell_type": "code",
   "execution_count": 1,
   "metadata": {},
   "outputs": [],
   "source": [
    "from scipy.linalg import qr, pinv, solve, norm\n",
    "from numpy.random import randn\n",
    "from numpy.linalg import lstsq\n",
    "import numpy as np"
   ]
  },
  {
   "cell_type": "code",
   "execution_count": 2,
   "metadata": {},
   "outputs": [],
   "source": [
    "# generate random data matrix\n",
    "n,d = 6,4\n",
    "X = randn(n,d)\n",
    "\n",
    "# optional: give it linearly dependent columns\n",
    "# X[:,3] = X[:,2]"
   ]
  },
  {
   "cell_type": "markdown",
   "metadata": {},
   "source": [
    "# Understanding the pseudoinverse"
   ]
  },
  {
   "cell_type": "code",
   "execution_count": 3,
   "metadata": {},
   "outputs": [],
   "source": [
    "# form pseudoinverse\n",
    "Xd = pinv(X)"
   ]
  },
  {
   "cell_type": "code",
   "execution_count": 4,
   "metadata": {},
   "outputs": [
    {
     "data": {
      "text/plain": [
       "array([[ 1.00000000e+00, -5.81129381e-17,  4.00349048e-17,\n",
       "        -5.56362591e-16],\n",
       "       [-3.42436270e-16,  1.00000000e+00,  4.93354324e-16,\n",
       "        -8.44210244e-16],\n",
       "       [-1.48359108e-16,  2.75661069e-16,  1.00000000e+00,\n",
       "         2.90008685e-16],\n",
       "       [ 1.12075955e-16,  2.31473581e-16, -6.17905588e-16,\n",
       "         1.00000000e+00]])"
      ]
     },
     "execution_count": 4,
     "metadata": {},
     "output_type": "execute_result"
    }
   ],
   "source": [
    "# X†X ≈ I_d\n",
    "Xd @ X"
   ]
  },
  {
   "cell_type": "code",
   "execution_count": 5,
   "metadata": {},
   "outputs": [
    {
     "data": {
      "text/plain": [
       "True"
      ]
     },
     "execution_count": 5,
     "metadata": {},
     "output_type": "execute_result"
    }
   ],
   "source": [
    "np.allclose(Xd @ X, np.identity(4))"
   ]
  },
  {
   "cell_type": "code",
   "execution_count": 6,
   "metadata": {},
   "outputs": [
    {
     "data": {
      "text/plain": [
       "array([[ 0.49565835,  0.15065132,  0.16062101, -0.33267155,  0.30085264,\n",
       "         0.01742278],\n",
       "       [ 0.15065132,  0.36378775,  0.16315801, -0.25578872, -0.2890202 ,\n",
       "        -0.18212448],\n",
       "       [ 0.16062101,  0.16315801,  0.87344349,  0.23278519, -0.02469187,\n",
       "         0.05763403],\n",
       "       [-0.33267155, -0.25578872,  0.23278519,  0.56720769,  0.0788092 ,\n",
       "        -0.09478958],\n",
       "       [ 0.30085264, -0.2890202 , -0.02469187,  0.0788092 ,  0.75344799,\n",
       "        -0.06998967],\n",
       "       [ 0.01742278, -0.18212448,  0.05763403, -0.09478958, -0.06998967,\n",
       "         0.94645473]])"
      ]
     },
     "execution_count": 6,
     "metadata": {},
     "output_type": "execute_result"
    }
   ],
   "source": [
    "# XX† !≈ I_n\n",
    "X @ Xd"
   ]
  },
  {
   "cell_type": "code",
   "execution_count": 7,
   "metadata": {},
   "outputs": [
    {
     "data": {
      "text/plain": [
       "False"
      ]
     },
     "execution_count": 7,
     "metadata": {},
     "output_type": "execute_result"
    }
   ],
   "source": [
    "np.allclose(X @ Xd, np.identity(6))"
   ]
  },
  {
   "cell_type": "code",
   "execution_count": 8,
   "metadata": {},
   "outputs": [],
   "source": [
    "Q,R = qr(X)\n",
    "Q,R = qr(X, mode='economic')"
   ]
  },
  {
   "cell_type": "code",
   "execution_count": 9,
   "metadata": {},
   "outputs": [
    {
     "data": {
      "text/plain": [
       "True"
      ]
     },
     "execution_count": 9,
     "metadata": {},
     "output_type": "execute_result"
    }
   ],
   "source": [
    "np.allclose(X, Q @ R)"
   ]
  },
  {
   "cell_type": "code",
   "execution_count": 10,
   "metadata": {},
   "outputs": [
    {
     "data": {
      "text/plain": [
       "array([[-4.75348124e-01,  3.91594809e-01,  2.23403113e-01,\n",
       "         2.57773283e-01],\n",
       "       [ 2.90635661e-02, -9.50520322e-02,  3.37649787e-01,\n",
       "         4.89796681e-01],\n",
       "       [ 7.13642396e-04,  2.24492955e-01, -5.25945571e-01,\n",
       "         7.39207108e-01],\n",
       "       [ 4.53580437e-01,  1.15031901e-01, -5.75618626e-01,\n",
       "        -1.30012847e-01],\n",
       "       [-2.69506488e-01,  7.39041478e-01, -1.23554071e-01,\n",
       "        -3.45494329e-01],\n",
       "       [-7.03441540e-01, -4.77291196e-01, -4.61370259e-01,\n",
       "        -1.04667688e-01]])"
      ]
     },
     "execution_count": 10,
     "metadata": {},
     "output_type": "execute_result"
    }
   ],
   "source": [
    "Q"
   ]
  },
  {
   "cell_type": "code",
   "execution_count": 11,
   "metadata": {},
   "outputs": [
    {
     "data": {
      "text/plain": [
       "array([[ 3.74544392, -0.69063861,  0.96961492,  0.82682362],\n",
       "       [ 0.        , -2.08318198,  0.41962445, -1.39136528],\n",
       "       [ 0.        ,  0.        ,  1.9567931 , -0.6022094 ],\n",
       "       [ 0.        ,  0.        ,  0.        ,  0.81850821]])"
      ]
     },
     "execution_count": 11,
     "metadata": {},
     "output_type": "execute_result"
    }
   ],
   "source": [
    "R"
   ]
  },
  {
   "cell_type": "code",
   "execution_count": 12,
   "metadata": {},
   "outputs": [
    {
     "name": "stdout",
     "output_type": "stream",
     "text": [
      "True\n"
     ]
    },
    {
     "data": {
      "text/plain": [
       "array([[ 1.00000000e+00, -1.18747961e-16, -1.39416494e-16,\n",
       "        -5.71998910e-17],\n",
       "       [-1.18747961e-16,  1.00000000e+00, -1.47861888e-17,\n",
       "         1.03796678e-17],\n",
       "       [-1.39416494e-16, -1.47861888e-17,  1.00000000e+00,\n",
       "         1.57051349e-16],\n",
       "       [-5.71998910e-17,  1.03796678e-17,  1.57051349e-16,\n",
       "         1.00000000e+00]])"
      ]
     },
     "execution_count": 12,
     "metadata": {},
     "output_type": "execute_result"
    }
   ],
   "source": [
    "print(np.allclose(Q.T @ Q, np.identity(Q.shape[1])))\n",
    "Q.T @ Q"
   ]
  },
  {
   "cell_type": "code",
   "execution_count": 13,
   "metadata": {},
   "outputs": [],
   "source": [
    "# form data from noisy linear model\n",
    "wtrue = randn(d)\n",
    "y = X.dot(wtrue) + .1*randn(n)"
   ]
  },
  {
   "cell_type": "code",
   "execution_count": 14,
   "metadata": {},
   "outputs": [],
   "source": [
    "# solve least squares problem to estimate w\n",
    "w = solve(R, Q.T @ y)"
   ]
  },
  {
   "cell_type": "code",
   "execution_count": 15,
   "metadata": {},
   "outputs": [
    {
     "data": {
      "text/plain": [
       "0.0758803460825663"
      ]
     },
     "execution_count": 15,
     "metadata": {},
     "output_type": "execute_result"
    }
   ],
   "source": [
    "# how good is our estimate?\n",
    "norm(w - wtrue)"
   ]
  },
  {
   "cell_type": "code",
   "execution_count": 16,
   "metadata": {},
   "outputs": [
    {
     "data": {
      "text/plain": [
       "0.01219393260293125"
      ]
     },
     "execution_count": 16,
     "metadata": {},
     "output_type": "execute_result"
    }
   ],
   "source": [
    "# compute mean square error\n",
    "def mse(y,z):\n",
    "    return sum((y-z)**2)/len(y)\n",
    "    \n",
    "mse(y,X.dot(w))"
   ]
  },
  {
   "cell_type": "code",
   "execution_count": 17,
   "metadata": {},
   "outputs": [
    {
     "data": {
      "text/plain": [
       "1.4936523181711914e-15"
      ]
     },
     "execution_count": 17,
     "metadata": {},
     "output_type": "execute_result"
    }
   ],
   "source": [
    "# we can use the numpy.lstsq call instead\n",
    "w_lstsq = np.linalg.lstsq(X, y, rcond=None)[0]\n",
    "norm(w_lstsq - w)"
   ]
  },
  {
   "cell_type": "markdown",
   "metadata": {},
   "source": [
    "# Compute QR by hand"
   ]
  },
  {
   "cell_type": "code",
   "execution_count": 18,
   "metadata": {},
   "outputs": [
    {
     "data": {
      "text/plain": [
       "array([[-0.47534812,  0.        ,  0.        ,  0.        ,  0.        ,\n",
       "         0.        ],\n",
       "       [ 0.02906357,  0.        ,  0.        ,  0.        ,  0.        ,\n",
       "         0.        ],\n",
       "       [ 0.00071364,  0.        ,  0.        ,  0.        ,  0.        ,\n",
       "         0.        ],\n",
       "       [ 0.45358044,  0.        ,  0.        ,  0.        ,  0.        ,\n",
       "         0.        ],\n",
       "       [-0.26950649,  0.        ,  0.        ,  0.        ,  0.        ,\n",
       "         0.        ],\n",
       "       [-0.70344154,  0.        ,  0.        ,  0.        ,  0.        ,\n",
       "         0.        ]])"
      ]
     },
     "execution_count": 18,
     "metadata": {},
     "output_type": "execute_result"
    }
   ],
   "source": [
    "n,d = X.shape \n",
    "X0 = X.copy()\n",
    "R = np.zeros((n,d))\n",
    "Q = np.zeros((n,n))\n",
    "\n",
    "# first column of Q points in direction of first column of X\n",
    "r = norm(X[:,0])\n",
    "Q[:,0] = X[:,0]/r\n",
    "Q"
   ]
  },
  {
   "cell_type": "code",
   "execution_count": 19,
   "metadata": {},
   "outputs": [],
   "source": [
    "# ensure Q*R matches X on first column\n",
    "R[0,0] = r"
   ]
  },
  {
   "cell_type": "code",
   "execution_count": 20,
   "metadata": {},
   "outputs": [
    {
     "data": {
      "text/plain": [
       "array([0., 0., 0., 0., 0., 0.])"
      ]
     },
     "execution_count": 20,
     "metadata": {},
     "output_type": "execute_result"
    }
   ],
   "source": [
    "# verify Q*R matches X in first column\n",
    "(Q@R - X)[:,0]"
   ]
  },
  {
   "cell_type": "code",
   "execution_count": 21,
   "metadata": {},
   "outputs": [],
   "source": [
    "# now delete that part from X; we've covered it already\n",
    "X[:,0] -= Q[:,0]*R[0,0]"
   ]
  },
  {
   "cell_type": "code",
   "execution_count": 22,
   "metadata": {},
   "outputs": [
    {
     "data": {
      "text/plain": [
       "array([[ True,  True,  True,  True],\n",
       "       [ True,  True,  True,  True],\n",
       "       [ True,  True,  True,  True],\n",
       "       [ True,  True,  True,  True],\n",
       "       [ True,  True,  True,  True],\n",
       "       [ True,  True,  True,  True]])"
      ]
     },
     "execution_count": 22,
     "metadata": {},
     "output_type": "execute_result"
    }
   ],
   "source": [
    "# verify Q*R + X = X0\n",
    "np.isclose(Q@R + X, X0)"
   ]
  },
  {
   "cell_type": "code",
   "execution_count": 23,
   "metadata": {},
   "outputs": [
    {
     "data": {
      "text/plain": [
       "array([[ 3.74544392, -0.69063861,  0.96961492,  0.82682362],\n",
       "       [ 0.        ,  0.        ,  0.        ,  0.        ],\n",
       "       [ 0.        ,  0.        ,  0.        ,  0.        ],\n",
       "       [ 0.        ,  0.        ,  0.        ,  0.        ],\n",
       "       [ 0.        ,  0.        ,  0.        ,  0.        ],\n",
       "       [ 0.        ,  0.        ,  0.        ,  0.        ]])"
      ]
     },
     "execution_count": 23,
     "metadata": {},
     "output_type": "execute_result"
    }
   ],
   "source": [
    "# eliminate component of other columns in direction of first column of Q \n",
    "for j in range(1,d):\n",
    "    R[0,j] = Q[:,0].dot(X[:,j])\n",
    "    X[:,j] -= Q[:,0]*R[0,j]\n",
    "R"
   ]
  },
  {
   "cell_type": "code",
   "execution_count": 24,
   "metadata": {},
   "outputs": [
    {
     "data": {
      "text/plain": [
       "array([[ True,  True,  True,  True],\n",
       "       [ True,  True,  True,  True],\n",
       "       [ True,  True,  True,  True],\n",
       "       [ True,  True,  True,  True],\n",
       "       [ True,  True,  True,  True],\n",
       "       [ True,  True,  True,  True]])"
      ]
     },
     "execution_count": 24,
     "metadata": {},
     "output_type": "execute_result"
    }
   ],
   "source": [
    "# verify Q*R + X = X0\n",
    "np.isclose(Q@R + X, X0)"
   ]
  },
  {
   "cell_type": "code",
   "execution_count": 25,
   "metadata": {},
   "outputs": [
    {
     "name": "stdout",
     "output_type": "stream",
     "text": [
      "iteration 0 : QR + X = X0? True\n",
      "iteration 1 : QR + X = X0? True\n",
      "iteration 2 : QR + X = X0? True\n",
      "iteration 3 : QR + X = X0? True\n"
     ]
    }
   ],
   "source": [
    "# now for all the columns!\n",
    "X = X0.copy()\n",
    "Q *= 0\n",
    "R *= 0\n",
    "\n",
    "# compute the QR decomposition\n",
    "for i in range(d):\n",
    "    r = norm(X[:,i])\n",
    "    Q[:,i] = X[:,i]/r\n",
    "    for j in range(i,d):\n",
    "        R[i,j] = Q[:,i].dot(X[:,j])\n",
    "        X[:,j] -= Q[:,i]*R[i,j]\n",
    "    print(\"iteration\",i,\": QR + X = X0?\", np.isclose(Q@R + X, X0).all())"
   ]
  },
  {
   "cell_type": "code",
   "execution_count": 26,
   "metadata": {},
   "outputs": [],
   "source": [
    "\"\"\"Our very own QR function to compute the economy QR\"\"\"\n",
    "def ourQR(X0):\n",
    "    X = X0.copy()\n",
    "    n,d = X.shape\n",
    "    R = np.zeros((n,d))\n",
    "    Q = np.zeros((n,n))\n",
    "\n",
    "    # compute the QR decomposition\n",
    "    for i in range(d):\n",
    "        r = norm(X[:,i])\n",
    "        Q[:,i] = X[:,i]/r\n",
    "        for j in range(i,d):\n",
    "            R[i,j] = Q[:,i].dot(X[:,j])\n",
    "            X[:,j] -= Q[:,i]*R[i,j]\n",
    "    return Q,R"
   ]
  },
  {
   "cell_type": "code",
   "execution_count": 31,
   "metadata": {},
   "outputs": [],
   "source": [
    "# solve least squares problem to estimate w\n",
    "Q,R = ourQR(X0)\n",
    "w_byhand = solve(R[:d,:d], (Q.T @ y)[:d])"
   ]
  },
  {
   "cell_type": "code",
   "execution_count": 32,
   "metadata": {},
   "outputs": [
    {
     "data": {
      "text/plain": [
       "1.3822165187958571e-15"
      ]
     },
     "execution_count": 32,
     "metadata": {},
     "output_type": "execute_result"
    }
   ],
   "source": [
    "norm(w_byhand - w)"
   ]
  },
  {
   "cell_type": "code",
   "execution_count": null,
   "metadata": {},
   "outputs": [],
   "source": []
  }
 ],
 "metadata": {
  "@webio": {
   "lastCommId": null,
   "lastKernelId": null
  },
  "kernelspec": {
   "display_name": "Python 3",
   "language": "python",
   "name": "python3"
  },
  "language_info": {
   "codemirror_mode": {
    "name": "ipython",
    "version": 3
   },
   "file_extension": ".py",
   "mimetype": "text/x-python",
   "name": "python",
   "nbconvert_exporter": "python",
   "pygments_lexer": "ipython3",
   "version": "3.8.3"
  }
 },
 "nbformat": 4,
 "nbformat_minor": 4
}
