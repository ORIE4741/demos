{
 "cells": [
  {
   "cell_type": "code",
   "execution_count": 1,
   "metadata": {},
   "outputs": [],
   "source": [
    "from scipy.linalg import qr, pinv, solve, norm\n",
    "from numpy.random import randn\n",
    "import numpy as np"
   ]
  },
  {
   "cell_type": "code",
   "execution_count": 2,
   "metadata": {},
   "outputs": [],
   "source": [
    "# generate random data matrix\n",
    "n,d = 6,4\n",
    "X = randn(n,d)\n",
    "\n",
    "# optional: give it linearly dependent columns\n",
    "# X[:,3] = X[:,2]"
   ]
  },
  {
   "cell_type": "markdown",
   "metadata": {},
   "source": [
    "# Understanding the pseudoinverse"
   ]
  },
  {
   "cell_type": "code",
   "execution_count": 3,
   "metadata": {},
   "outputs": [],
   "source": [
    "# form pseudoinverse\n",
    "Xd = pinv(X)"
   ]
  },
  {
   "cell_type": "code",
   "execution_count": 4,
   "metadata": {},
   "outputs": [
    {
     "data": {
      "text/plain": [
       "array([[ 1.00000000e+00,  6.93889390e-17, -2.77555756e-16,\n",
       "         2.91433544e-16],\n",
       "       [-2.22044605e-16,  1.00000000e+00,  7.11236625e-17,\n",
       "         0.00000000e+00],\n",
       "       [ 3.67761377e-16, -1.66533454e-16,  1.00000000e+00,\n",
       "        -1.08246745e-15],\n",
       "       [ 1.11022302e-16,  2.03613168e-16, -1.11022302e-16,\n",
       "         1.00000000e+00]])"
      ]
     },
     "execution_count": 4,
     "metadata": {},
     "output_type": "execute_result"
    }
   ],
   "source": [
    "# X†X ≈ I_d\n",
    "Xd @ X"
   ]
  },
  {
   "cell_type": "code",
   "execution_count": 5,
   "metadata": {},
   "outputs": [
    {
     "data": {
      "text/plain": [
       "True"
      ]
     },
     "execution_count": 5,
     "metadata": {},
     "output_type": "execute_result"
    }
   ],
   "source": [
    "np.allclose(Xd @ X, np.identity(4))"
   ]
  },
  {
   "cell_type": "code",
   "execution_count": 6,
   "metadata": {},
   "outputs": [
    {
     "data": {
      "text/plain": [
       "array([[ 0.59490125, -0.00762251, -0.28842487, -0.19323077,  0.24401744,\n",
       "        -0.24670651],\n",
       "       [-0.00762251,  0.27406379,  0.08921053,  0.16569656,  0.37790724,\n",
       "         0.14376014],\n",
       "       [-0.28842487,  0.08921053,  0.78230537, -0.15965734,  0.12505972,\n",
       "        -0.19500221],\n",
       "       [-0.19323077,  0.16569656, -0.15965734,  0.86832311,  0.02929838,\n",
       "        -0.15230148],\n",
       "       [ 0.24401744,  0.37790724,  0.12505972,  0.02929838,  0.66099527,\n",
       "         0.07227588],\n",
       "       [-0.24670651,  0.14376014, -0.19500221, -0.15230148,  0.07227588,\n",
       "         0.8194112 ]])"
      ]
     },
     "execution_count": 6,
     "metadata": {},
     "output_type": "execute_result"
    }
   ],
   "source": [
    "# XX† !≈ I_n\n",
    "X @ Xd"
   ]
  },
  {
   "cell_type": "code",
   "execution_count": 7,
   "metadata": {},
   "outputs": [
    {
     "data": {
      "text/plain": [
       "False"
      ]
     },
     "execution_count": 7,
     "metadata": {},
     "output_type": "execute_result"
    }
   ],
   "source": [
    "np.allclose(X @ Xd, np.identity(6))"
   ]
  },
  {
   "cell_type": "code",
   "execution_count": 8,
   "metadata": {},
   "outputs": [],
   "source": [
    "Q,R = qr(X)\n",
    "Q,R = qr(X, mode='economic')"
   ]
  },
  {
   "cell_type": "code",
   "execution_count": 9,
   "metadata": {},
   "outputs": [
    {
     "data": {
      "text/plain": [
       "True"
      ]
     },
     "execution_count": 9,
     "metadata": {},
     "output_type": "execute_result"
    }
   ],
   "source": [
    "np.allclose(X, Q @ R)"
   ]
  },
  {
   "cell_type": "code",
   "execution_count": 10,
   "metadata": {},
   "outputs": [
    {
     "data": {
      "text/plain": [
       "array([[-0.23776564,  0.30194971, -0.38065815, -0.54981314],\n",
       "       [-0.19147557, -0.45966854,  0.00807992, -0.16137054],\n",
       "       [ 0.29740618, -0.48970728, -0.48785745,  0.46479761],\n",
       "       [ 0.45324307, -0.38303946,  0.56382848, -0.44527749],\n",
       "       [-0.38146712, -0.53918846, -0.29853432, -0.36828138],\n",
       "       [-0.68367223, -0.14238878,  0.45826183,  0.34889112]])"
      ]
     },
     "execution_count": 10,
     "metadata": {},
     "output_type": "execute_result"
    }
   ],
   "source": [
    "Q"
   ]
  },
  {
   "cell_type": "code",
   "execution_count": 11,
   "metadata": {},
   "outputs": [
    {
     "data": {
      "text/plain": [
       "array([[ 4.11845228, -0.82070139,  1.26471698, -0.16018948],\n",
       "       [ 0.        , -1.73776746, -1.27595435,  1.63501515],\n",
       "       [ 0.        ,  0.        , -1.80247779, -0.21317942],\n",
       "       [ 0.        ,  0.        ,  0.        , -2.09548679]])"
      ]
     },
     "execution_count": 11,
     "metadata": {},
     "output_type": "execute_result"
    }
   ],
   "source": [
    "R"
   ]
  },
  {
   "cell_type": "code",
   "execution_count": 12,
   "metadata": {},
   "outputs": [
    {
     "name": "stdout",
     "output_type": "stream",
     "text": [
      "True\n"
     ]
    },
    {
     "data": {
      "text/plain": [
       "array([[ 1.00000000e+00,  9.23117593e-17, -1.81805482e-17,\n",
       "        -3.41840997e-17],\n",
       "       [ 9.23117593e-17,  1.00000000e+00, -7.94276235e-18,\n",
       "         1.05564894e-16],\n",
       "       [-1.81805482e-17, -7.94276235e-18,  1.00000000e+00,\n",
       "        -1.77225919e-17],\n",
       "       [-3.41840997e-17,  1.05564894e-16, -1.77225919e-17,\n",
       "         1.00000000e+00]])"
      ]
     },
     "execution_count": 12,
     "metadata": {},
     "output_type": "execute_result"
    }
   ],
   "source": [
    "print(np.allclose(Q.T @ Q, np.identity(Q.shape[1])))\n",
    "Q.T @ Q"
   ]
  },
  {
   "cell_type": "code",
   "execution_count": 13,
   "metadata": {},
   "outputs": [],
   "source": [
    "# form data from noisy linear model\n",
    "wtrue = randn(d)\n",
    "y = X.dot(wtrue) + .1*randn(n)"
   ]
  },
  {
   "cell_type": "code",
   "execution_count": 14,
   "metadata": {},
   "outputs": [],
   "source": [
    "# solve least squares problem to estimate w\n",
    "w = solve(R, Q.T @ y)"
   ]
  },
  {
   "cell_type": "code",
   "execution_count": 15,
   "metadata": {},
   "outputs": [
    {
     "data": {
      "text/plain": [
       "0.046586758785048095"
      ]
     },
     "execution_count": 15,
     "metadata": {},
     "output_type": "execute_result"
    }
   ],
   "source": [
    "# how good is our estimate?\n",
    "norm(w - wtrue)"
   ]
  },
  {
   "cell_type": "code",
   "execution_count": 16,
   "metadata": {},
   "outputs": [
    {
     "data": {
      "text/plain": [
       "0.005055452124355269"
      ]
     },
     "execution_count": 16,
     "metadata": {},
     "output_type": "execute_result"
    }
   ],
   "source": [
    "# compute mean square error\n",
    "def mse(y,z):\n",
    "    return sum((y-z)**2)/len(y)\n",
    "    \n",
    "mse(y,X.dot(w))"
   ]
  },
  {
   "cell_type": "code",
   "execution_count": null,
   "metadata": {},
   "outputs": [],
   "source": [
    "# in other languages, we can use the shorthand\n",
    "w_backslash = X \\ y\n",
    "norm(w_backslash - w)"
   ]
  },
  {
   "cell_type": "code",
   "execution_count": null,
   "metadata": {},
   "outputs": [],
   "source": []
  }
 ],
 "metadata": {
  "@webio": {
   "lastCommId": null,
   "lastKernelId": null
  },
  "kernelspec": {
   "display_name": "Python 3",
   "language": "python",
   "name": "python3"
  },
  "language_info": {
   "codemirror_mode": {
    "name": "ipython",
    "version": 3
   },
   "file_extension": ".py",
   "mimetype": "text/x-python",
   "name": "python",
   "nbconvert_exporter": "python",
   "pygments_lexer": "ipython3",
   "version": "3.8.3"
  }
 },
 "nbformat": 4,
 "nbformat_minor": 1
}
