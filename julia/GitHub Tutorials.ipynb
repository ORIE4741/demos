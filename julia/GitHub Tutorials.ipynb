{
 "cells": [
  {
   "cell_type": "markdown",
   "metadata": {},
   "source": [
    "# GitHub Tutorials\n",
    " * [GitHub Hello World](https://guides.github.com/activities/hello-world/)\n",
    " * [GitHub Desktop Tutorial](https://guides.github.com/introduction/getting-your-project-on-github/)\n",
    " * [Git command line (optional)](https://git-scm.com/docs/gittutorial)"
   ]
  }
 ],
 "metadata": {
  "kernelspec": {
   "display_name": "Julia 0.5.0-rc4",
   "language": "julia",
   "name": "julia-0.5"
  },
  "language_info": {
   "file_extension": ".jl",
   "mimetype": "application/julia",
   "name": "julia",
   "version": "0.5.0"
  }
 },
 "nbformat": 4,
 "nbformat_minor": 0
}
