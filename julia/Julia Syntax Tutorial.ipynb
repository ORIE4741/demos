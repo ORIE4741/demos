{
 "cells": [
  {
   "cell_type": "markdown",
   "metadata": {},
   "source": [
    "# Julia Syntax Tutorial\n",
    "\n",
    "Everything covered today (and **even more**) can be found [here](https://docs.julialang.org/en/v1/). Code in this notebook has been tested to be compatible with Julia 1.0.3 and 1.2.0. \n",
    "\n",
    "To test a specific part of your code, you may create a new cell, paste the code there and run it."
   ]
  },
  {
   "cell_type": "markdown",
   "metadata": {},
   "source": [
    "The following cell brings the linear algebra package to the main namespace: "
   ]
  },
  {
   "cell_type": "code",
   "execution_count": null,
   "metadata": {},
   "outputs": [],
   "source": [
    "using LinearAlgebra"
   ]
  },
  {
   "cell_type": "markdown",
   "metadata": {},
   "source": [
    "# Variables"
   ]
  },
  {
   "cell_type": "code",
   "execution_count": null,
   "metadata": {},
   "outputs": [],
   "source": [
    "x = 3 \n",
    "x = 3.0\n",
    "words = \"Hello world!\"\n",
    "character = 'a'\n",
    "δ = 1e-5\n",
    "pi\n",
    "MathConstants.e\n",
    "α̂₁ = pi / 2"
   ]
  },
  {
   "cell_type": "markdown",
   "metadata": {},
   "source": [
    "Then, the arrays."
   ]
  },
  {
   "cell_type": "code",
   "execution_count": null,
   "metadata": {},
   "outputs": [],
   "source": [
    "u = [1 3 5 7]\n",
    "v = ones(4)\n",
    "w = Vector{Float64}(undef, 2)\n",
    "\n",
    "X = rand(4, 4)\n",
    "Identity_matrix = Matrix{Float64}(I, 4, 4)\n",
    "column = [1,2,3]\n",
    "row = [1 2 3]\n",
    "A = [1 2 3; 4 5 6; 7 8 9]\n",
    "b = [[1 2 3] [4 5 6] [7 8 9]]\n",
    "B = reshape(b, 3, 3)\n",
    "C = fill(15, 2, 3)"
   ]
  },
  {
   "cell_type": "markdown",
   "metadata": {},
   "source": [
    "Check the number of entries in A:"
   ]
  },
  {
   "cell_type": "code",
   "execution_count": null,
   "metadata": {},
   "outputs": [],
   "source": [
    "length(A)"
   ]
  },
  {
   "cell_type": "markdown",
   "metadata": {},
   "source": [
    "Number of dimensions of A:"
   ]
  },
  {
   "cell_type": "code",
   "execution_count": null,
   "metadata": {},
   "outputs": [],
   "source": [
    "ndims(A)"
   ]
  },
  {
   "cell_type": "markdown",
   "metadata": {},
   "source": [
    "Size of A:"
   ]
  },
  {
   "cell_type": "code",
   "execution_count": null,
   "metadata": {},
   "outputs": [],
   "source": [
    "size(A)"
   ]
  },
  {
   "cell_type": "markdown",
   "metadata": {},
   "source": [
    "**Exercise 1: Make an array consisting of the programming languages you know, and check its number of entries and dimensionality. The entries should be strings, e.g., \"Julia\".**"
   ]
  },
  {
   "cell_type": "markdown",
   "metadata": {},
   "source": [
    "There are several ways to do value extraction and assignment on arrays."
   ]
  },
  {
   "cell_type": "code",
   "execution_count": null,
   "metadata": {},
   "outputs": [],
   "source": [
    "A[3, 1]\n",
    "A[1, :]\n",
    "A[1:2, 2:end]\n",
    "A[2, [1 3]]\n",
    "\n",
    "A[2, 3] = 10\n",
    "A[3, 1:2] = [-2 -3]"
   ]
  },
  {
   "cell_type": "code",
   "execution_count": null,
   "metadata": {},
   "outputs": [],
   "source": [
    "A"
   ]
  },
  {
   "cell_type": "markdown",
   "metadata": {},
   "source": [
    "Some Mathematical operations are listed below. You may create new cells to check the effect of each individual command."
   ]
  },
  {
   "cell_type": "code",
   "execution_count": null,
   "metadata": {},
   "outputs": [],
   "source": [
    "2 + 5\n",
    "3.5 ^ 2\n",
    "[1 2] + [2 3]\n",
    "[1 2] * 1.5\n",
    "A[1, :]' * ones(3)\n",
    "A .* B"
   ]
  },
  {
   "cell_type": "code",
   "execution_count": null,
   "metadata": {},
   "outputs": [],
   "source": [
    "A"
   ]
  },
  {
   "cell_type": "code",
   "execution_count": null,
   "metadata": {},
   "outputs": [],
   "source": [
    "B"
   ]
  },
  {
   "cell_type": "code",
   "execution_count": null,
   "metadata": {},
   "outputs": [],
   "source": [
    "3.0 > 2.0\n",
    "9 ≤ 9\n",
    "1 != 2\n",
    "[1 2] .< [2 3]"
   ]
  },
  {
   "cell_type": "markdown",
   "metadata": {},
   "source": [
    "Control flows:"
   ]
  },
  {
   "cell_type": "code",
   "execution_count": null,
   "metadata": {},
   "outputs": [],
   "source": [
    "x = 2\n",
    "y = 1\n",
    "if x < y\n",
    "    println(\"x is less than y: $x < $y\")\n",
    "elseif x > y\n",
    "  println(\"x is greater than y: $x > $y\")\n",
    "else\n",
    "  println(\"x is equal to y: $x = $y\")\n",
    "end"
   ]
  },
  {
   "cell_type": "code",
   "execution_count": null,
   "metadata": {},
   "outputs": [],
   "source": [
    "i = 1\n",
    "while i <= 5\n",
    "    println(i)\n",
    "    i += 1 \n",
    "end"
   ]
  },
  {
   "cell_type": "code",
   "execution_count": null,
   "metadata": {},
   "outputs": [],
   "source": [
    "for i = 1:5\n",
    "    if i == 3\n",
    "        continue\n",
    "        #break\n",
    "    end\n",
    "    println(i)\n",
    "end"
   ]
  },
  {
   "cell_type": "code",
   "execution_count": null,
   "metadata": {},
   "outputs": [],
   "source": [
    "u = [1,3,5,7]\n",
    "for i in u\n",
    "    println(i)\n",
    "end"
   ]
  },
  {
   "cell_type": "markdown",
   "metadata": {},
   "source": [
    "**Exercise 2: Make an array, with each entry being the number of lines of code you have written in the corresponding language in the array of Exercise 1. Then use a loop to sum them up.**"
   ]
  },
  {
   "cell_type": "markdown",
   "metadata": {},
   "source": [
    "# functions"
   ]
  },
  {
   "cell_type": "markdown",
   "metadata": {},
   "source": [
    "The following three syntaxes all define the function f(x) = 2x:"
   ]
  },
  {
   "cell_type": "code",
   "execution_count": null,
   "metadata": {},
   "outputs": [],
   "source": [
    "f1(x) = 2*x\n",
    "function f1(x)\n",
    "    return 2*x\n",
    "end"
   ]
  },
  {
   "cell_type": "code",
   "execution_count": null,
   "metadata": {},
   "outputs": [],
   "source": [
    "# default values for positional arguments\n",
    "function f2(x, mult=2)\n",
    "    return mult*x\n",
    "end\n",
    "f2(2)    # ==4\n",
    "f2(2, 3) # ==6"
   ]
  },
  {
   "cell_type": "code",
   "execution_count": null,
   "metadata": {},
   "outputs": [],
   "source": [
    "# default values for keyword arguments: use a semicolon instead of a comma\n",
    "function f3(x; mult=2)\n",
    "    return mult*x\n",
    "end\n",
    "f3(2)         # ==4\n",
    "f3(2, mult=3) # ==6"
   ]
  },
  {
   "cell_type": "markdown",
   "metadata": {},
   "source": [
    "We will get an **error** if we don't specify the name of keyword argument:"
   ]
  },
  {
   "cell_type": "code",
   "execution_count": null,
   "metadata": {},
   "outputs": [],
   "source": [
    "f3(2, 3)"
   ]
  },
  {
   "cell_type": "code",
   "execution_count": null,
   "metadata": {},
   "outputs": [],
   "source": [
    "# a changeable number of arguments\n",
    "function f4(x...)\n",
    "    for xi in x\n",
    "        println(xi)\n",
    "    end\n",
    "end\n",
    "\n",
    "f4(1,2,3,4,\"a\",\"b\",\"c\")"
   ]
  },
  {
   "cell_type": "markdown",
   "metadata": {},
   "source": [
    "**Exercise 3: Use a function to find the second largest number of lines of code in the vector you made in Exercise 2.**"
   ]
  },
  {
   "cell_type": "markdown",
   "metadata": {},
   "source": [
    "There are more kinds of data structures:"
   ]
  },
  {
   "cell_type": "code",
   "execution_count": null,
   "metadata": {},
   "outputs": [],
   "source": [
    "# list comprehensions: shorthand for loops (not very memory efficient)\n",
    "[x^2 for x in 1:5]\n",
    "[x^2 for x in 1:5 if x>2]\n",
    "[x^k for x in 1:10 for k in 1:5]"
   ]
  },
  {
   "cell_type": "code",
   "execution_count": null,
   "metadata": {},
   "outputs": [],
   "source": [
    "# dictionaries and sets\n",
    "\n",
    "x = Set([1,2,3,3,4,1])\n",
    "d = Dict()\n",
    "d[4] = 7\n",
    "# XXX add more here"
   ]
  },
  {
   "cell_type": "markdown",
   "metadata": {},
   "source": [
    "# advanced topic for people who like object-oriented programming: types and multiple dispatch"
   ]
  },
  {
   "cell_type": "code",
   "execution_count": null,
   "metadata": {},
   "outputs": [],
   "source": [
    "# x::y is an assertion that x is a variable of type y\n",
    "1.0::Float64"
   ]
  },
  {
   "cell_type": "code",
   "execution_count": null,
   "metadata": {},
   "outputs": [],
   "source": [
    "# if we assert something false, we get a type error \n",
    "1.0::Int"
   ]
  },
  {
   "cell_type": "code",
   "execution_count": null,
   "metadata": {},
   "outputs": [],
   "source": [
    "# we can define many functions with the same name, which call arguments of different types\n",
    "# julia decides which to call by looking at the type of the argument\n",
    "\n",
    "f(x::Int) = println(\"$x is an integer\")\n",
    "f(x::Float64) = println(\"$x is an float\")\n",
    "f(2)\n",
    "f(2.0)"
   ]
  },
  {
   "cell_type": "markdown",
   "metadata": {},
   "source": [
    "We may define a composite type as follows:"
   ]
  },
  {
   "cell_type": "code",
   "execution_count": null,
   "metadata": {},
   "outputs": [],
   "source": [
    "struct Student\n",
    "    name::String    \n",
    "    gpa::Float64\n",
    "end"
   ]
  },
  {
   "cell_type": "code",
   "execution_count": null,
   "metadata": {},
   "outputs": [],
   "source": [
    "s1 = Student(\"Alice\", 3.9)\n",
    "s2 = Student(\"Bob\", 3.2)"
   ]
  },
  {
   "cell_type": "code",
   "execution_count": null,
   "metadata": {},
   "outputs": [],
   "source": [
    "s1.name"
   ]
  },
  {
   "cell_type": "code",
   "execution_count": null,
   "metadata": {},
   "outputs": [],
   "source": [
    "f(s::Student) = println(\"$(s.name) has a $(s.gpa) gpa\")\n",
    "\n",
    "# we've defined the \"f\" function on three different types\n",
    "# julia knows to call the write one by looking at the type of the argument\n",
    "\n",
    "f(s1)\n",
    "f(s2)\n",
    "f(4)\n",
    "f(sqrt(2))"
   ]
  }
 ],
 "metadata": {
  "kernelspec": {
   "display_name": "Julia 1.2.0",
   "language": "julia",
   "name": "julia-1.2"
  },
  "language_info": {
   "file_extension": ".jl",
   "mimetype": "application/julia",
   "name": "julia",
   "version": "1.2.0"
  }
 },
 "nbformat": 4,
 "nbformat_minor": 1
}
