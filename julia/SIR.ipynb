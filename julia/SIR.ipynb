{
 "cells": [
  {
   "cell_type": "markdown",
   "metadata": {},
   "source": [
    "# COVID simulation\n",
    "\n",
    "This notebook simulates the number of COVID cases at Cornell under some simple assumptions using a classic epidemiological model called a compartmental SIR model. It is intended to clarify the role of several important factors in spreading or mitigating the spread of COVID, including:\n",
    "\n",
    "* classes\n",
    "* small gatherings (with PPE)\n",
    "* large parties (without PPE)\n",
    "* PPE (like masks) and social distancing\n",
    "* testing"
   ]
  },
  {
   "cell_type": "code",
   "execution_count": 1,
   "metadata": {},
   "outputs": [
    {
     "data": {
      "text/html": [
       "<script>\n",
       "// Immediately-invoked-function-expression to avoid global variables.\n",
       "(function() {\n",
       "    var warning_div = document.getElementById(\"webio-warning-11657593669925786724\");\n",
       "    var hide = function () {\n",
       "        var script = document.getElementById(\"webio-setup-16160889011614286833\");\n",
       "        var parent = script && script.parentElement;\n",
       "        var grandparent = parent && parent.parentElement;\n",
       "        if (grandparent) {\n",
       "            grandparent.style.display = \"none\";\n",
       "        }\n",
       "        warning_div.style.display = \"none\";\n",
       "    };\n",
       "    if (typeof Jupyter !== \"undefined\") {\n",
       "        console.log(\"WebIO detected Jupyter notebook environment.\");\n",
       "        // Jupyter notebook.\n",
       "        var extensions = (\n",
       "            Jupyter\n",
       "            && Jupyter.notebook.config.data\n",
       "            && Jupyter.notebook.config.data.load_extensions\n",
       "        );\n",
       "        if (extensions && extensions[\"webio-jupyter-notebook\"]) {\n",
       "            // Extension already loaded.\n",
       "            console.log(\"Jupyter WebIO nbextension detected; not loading ad-hoc.\");\n",
       "            hide();\n",
       "            return;\n",
       "        }\n",
       "    } else if (window.location.pathname.includes(\"/lab\")) {\n",
       "        // Guessing JupyterLa\n",
       "        console.log(\"Jupyter Lab detected; make sure the @webio/jupyter-lab-provider labextension is installed.\");\n",
       "        hide();\n",
       "        return;\n",
       "    }\n",
       "})();\n",
       "\n",
       "</script>\n",
       "<p\n",
       "    id=\"webio-warning-11657593669925786724\"\n",
       "    class=\"output_text output_stderr\"\n",
       "    style=\"padding: 1em; font-weight: bold;\"\n",
       ">\n",
       "    Unable to load WebIO. Please make sure WebIO works for your Jupyter client.\n",
       "    For troubleshooting, please see <a href=\"https://juliagizmos.github.io/WebIO.jl/latest/providers/ijulia/\">\n",
       "    the WebIO/IJulia documentation</a>.\n",
       "    <!-- TODO: link to installation docs. -->\n",
       "</p>\n"
      ],
      "text/plain": [
       "HTML{String}(\"<script>\\n// Immediately-invoked-function-expression to avoid global variables.\\n(function() {\\n    var warning_div = document.getElementById(\\\"webio-warning-11657593669925786724\\\");\\n    var hide = function () {\\n        var script = document.getElementById(\\\"webio-setup-16160889011614286833\\\");\\n        var parent = script && script.parentElement;\\n        var grandparent = parent && parent.parentElement;\\n        if (grandparent) {\\n            grandparent.style.display = \\\"none\\\";\\n        }\\n        warning_div.style.display = \\\"none\\\";\\n    };\\n    if (typeof Jupyter !== \\\"undefined\\\") {\\n        console.log(\\\"WebIO detected Jupyter notebook environment.\\\");\\n        // Jupyter notebook.\\n        var extensions = (\\n            Jupyter\\n            && Jupyter.notebook.config.data\\n            && Jupyter.notebook.config.data.load_extensions\\n        );\\n        if (extensions && extensions[\\\"webio-jupyter-notebook\\\"]) {\\n            // Extension already loaded.\\n            console.log(\\\"Jupyter WebIO nbextension detected; not loading ad-hoc.\\\");\\n            hide();\\n            return;\\n        }\\n    } else if (window.location.pathname.includes(\\\"/lab\\\")) {\\n        // Guessing JupyterLa\\n        console.log(\\\"Jupyter Lab detected; make sure the @webio/jupyter-lab-provider labextension is installed.\\\");\\n        hide();\\n        return;\\n    }\\n})();\\n\\n</script>\\n<p\\n    id=\\\"webio-warning-11657593669925786724\\\"\\n    class=\\\"output_text output_stderr\\\"\\n    style=\\\"padding: 1em; font-weight: bold;\\\"\\n>\\n    Unable to load WebIO. Please make sure WebIO works for your Jupyter client.\\n    For troubleshooting, please see <a href=\\\"https://juliagizmos.github.io/WebIO.jl/latest/providers/ijulia/\\\">\\n    the WebIO/IJulia documentation</a>.\\n    <!-- TODO: link to installation docs. -->\\n</p>\\n\")"
      ]
     },
     "metadata": {},
     "output_type": "display_data"
    },
    {
     "name": "stderr",
     "output_type": "stream",
     "text": [
      "┌ Warning: ORCA.jl has been deprecated and all savefig functionality\n",
      "│ has been implemented directly in PlotlyBase itself.\n",
      "│ \n",
      "│ By implementing in PlotlyBase.jl, the savefig routines are automatically\n",
      "│ available to PlotlyJS.jl also.\n",
      "└ @ ORCA /Users/madeleine/.julia/packages/ORCA/U5XaN/src/ORCA.jl:8\n"
     ]
    },
    {
     "data": {
      "text/plain": [
       "Plots.PlotlyBackend()"
      ]
     },
     "execution_count": 1,
     "metadata": {},
     "output_type": "execute_result"
    }
   ],
   "source": [
    "# this cell loads the packages we'll use \n",
    "using DataFrames, Plots, Interact\n",
    "import Plots: plot\n",
    "plotly()"
   ]
  },
  {
   "cell_type": "markdown",
   "metadata": {},
   "source": [
    "The next two cells define some useful datatypes: \n",
    "\n",
    "* A *group* of students has a size `n`, and a percentage of the group that is susceptible `s`, infected `i` and recovered `r` \n",
    "* A *record* remembers the trajectory of infections in each group in the population"
   ]
  },
  {
   "cell_type": "code",
   "execution_count": 2,
   "metadata": {},
   "outputs": [
    {
     "data": {
      "text/plain": [
       "Group"
      ]
     },
     "execution_count": 2,
     "metadata": {},
     "output_type": "execute_result"
    }
   ],
   "source": [
    "# groups \n",
    "mutable struct Group\n",
    "    n::Float64\n",
    "    s::Float64\n",
    "    i::Float64\n",
    "    r::Float64\n",
    "end\n",
    "\n",
    "# default constructors\n",
    "Group(n,s,i) = Group(n,s,i,1-s-i)\n",
    "Group(n,s) = Group(n,s,1-s,0)"
   ]
  },
  {
   "cell_type": "code",
   "execution_count": 3,
   "metadata": {},
   "outputs": [
    {
     "data": {
      "text/plain": [
       "plot (generic function with 4 methods)"
      ]
     },
     "execution_count": 3,
     "metadata": {},
     "output_type": "execute_result"
    }
   ],
   "source": [
    "mutable struct Record\n",
    "    df::DataFrame\n",
    "end\n",
    "Record(groups) = Record(DataFrame(i1=groups[1].i, r1=groups[1].r,\n",
    "                                  i2=groups[2].i, r2=groups[2].r,\n",
    "                                  i3=groups[3].i, r3=groups[3].r))\n",
    "record!(record, groups) = push!(record.df, \n",
    "    [groups[1].i, groups[1].r, groups[2].i, groups[2].r, groups[3].i, groups[3].r])\n",
    "function plot(record::Record, groups)\n",
    "    df = record.df\n",
    "    max_i = maximum(groups[1].n*df.i1+groups[2].n*df.i2+groups[3].n*df.i3)\n",
    "    \n",
    "    p = plot(df.i1, label=\"group 1 infections\", color=\"blue\", linestyle=:dot, legend=:topleft)\n",
    "    plot!(df.i2, label=\"group 2 infections\", color=\"green\", linestyle=:dot)\n",
    "    plot!(df.i3, label=\"group 3 infections\", color=\"red\", linestyle=:dot)\n",
    "    if max_i > 1e-2\n",
    "        plot!(groups[1].n*df.i1+groups[2].n*df.i2+groups[3].n*df.i3, label=\"total infections\", color=\"black\", linestyle=:dot, marker=:circle)\n",
    "    else\n",
    "        plot!(groups[1].n*df.i1+groups[2].n*df.i2+groups[3].n*df.i3, label=\"total infections\", color=\"black\", linestyle=:dot)\n",
    "    end\n",
    "    plot!(df.r1, label=\"group 1 recovered\", color=\"blue\")\n",
    "    plot!(df.r2, label=\"group 2 recovered\", color=\"green\")\n",
    "    plot!(df.r3, label=\"group 3 recovered\", color=\"red\")\n",
    "    ylims!(0,1)\n",
    "    # print(\"maximum infection rate $(100*round(maximum(groups[1].n*df.i1+groups[2].n*df.i2+groups[3].n*df.i3), digits=3))%\")\n",
    "    p\n",
    "end"
   ]
  },
  {
   "cell_type": "markdown",
   "metadata": {},
   "source": [
    "The next cell defines the impact of classes, parties, and testing. \n",
    "\n",
    "* The probability of getting infected in class is proportional to the infection rate `i` (proportion of classmates currently infected) and the infectivity (which might depend, eg, on PPE and social distancing).\n",
    "* The probability of getting infected in class is proportional to the probability that *any* attendee is infected, given infection rate `i`, and the infectivity (which might depend, eg, on PPE and social distancing).\n"
   ]
  },
  {
   "cell_type": "code",
   "execution_count": 4,
   "metadata": {},
   "outputs": [
    {
     "data": {
      "text/plain": [
       "caught_by_test"
      ]
     },
     "execution_count": 4,
     "metadata": {},
     "output_type": "execute_result"
    }
   ],
   "source": [
    "##### effect of classes, parties, and testing\n",
    "\n",
    "\"\"\"probability that an susceptible person will be infected in class,\n",
    "if a proportion i of the class is infected\"\"\"\n",
    "function infected_in_class(i, infectivity)\n",
    "    return infectivity*i\n",
    "end\n",
    "\n",
    "\"\"\"probability that an susceptible person will be infected at a party\n",
    "if a proportion i of the attendees are infected\n",
    "and prob of infection given any infectious guest is infectivity\"\"\"\n",
    "function infected_at_party(i, party_size, infectivity)\n",
    "    prob_no_attendee_infectious = (1-i)^party_size\n",
    "    prob_some_attendee_infectious = 1 - prob_no_attendee_infectious\n",
    "    return infectivity*prob_some_attendee_infectious\n",
    "end\n",
    "\n",
    "\"\"\"the fraction of infections caught by test \n",
    "and removed from the population (eg, by quarantine)\"\"\"\n",
    "function caught_by_test(i, ttest)\n",
    "    return i/ttest\n",
    "end"
   ]
  },
  {
   "cell_type": "markdown",
   "metadata": {},
   "source": [
    "The next function simulates how the infections evolve in a population composed of three groups:\n",
    "   \n",
    "* people who just attend classes \n",
    "* people who also attend small gathering with PPE and social distancing \n",
    "* people who also attend large parties without PPE or distancing\n",
    "\n",
    "The simulation depends on several parameters:\n",
    "* `n_big_partiers`, the fraction of the population attending big parties with no PPE\n",
    "* `n_safe_partiers`, the fraction of the population attending small gatherings with PPE\n",
    "* `ttest`, the frequency of testing: Everyone is tested every `ttest` days\n",
    "* `inf_no_PPE`, probability of getting infected w/o PPE\n",
    "* `inf_with_PPE`, probability of getting infected w/PPE\n",
    "* `ex_i`, the external infection rate (eg, % of NY population infected)\n",
    "* `party_freq`, how often students attend parties: on average a student attends a party every `party_freq` days\n",
    "* `legal_party_size`, size of small gatherings\n",
    "* `illegal_party_size`, size of large parties"
   ]
  },
  {
   "cell_type": "code",
   "execution_count": 5,
   "metadata": {},
   "outputs": [
    {
     "data": {
      "text/plain": [
       "simulate (generic function with 10 methods)"
      ]
     },
     "execution_count": 5,
     "metadata": {},
     "output_type": "execute_result"
    }
   ],
   "source": [
    "function simulate(n_big_partiers = 1e-2,    # big parties, no PPE\n",
    "    n_safe_partiers = .4,     # small gatherings with PPE\n",
    "    ttest = 3,                # frequency of testing: test every ttest days\n",
    "    inf_no_PPE = .1,          # infectivity w/o PPE\n",
    "    inf_with_PPE = 1e-2,       # infectivity w/PPE\n",
    "    ex_i = 1e-6,               # external infection rate\n",
    "    party_freq = 7,             # party_freq = 7 => party once a week\n",
    "    legal_party_size = 15,\n",
    "    illegal_party_size = 50\n",
    "    )\n",
    "        \n",
    "    n3 = n_big_partiers\n",
    "    n2 = n_safe_partiers\n",
    "    n1 = 1-n3-n2 # only classes\n",
    "    \n",
    "    # dynamics\n",
    "    function update!(groups)\n",
    "        g1,g2,g3 = groups\n",
    "\n",
    "        # the proportion of the total population that is infected\n",
    "        total_i = sum(g.n*g.i for g in groups)\n",
    "        legal_party_i = (g2.n*g2.i+g3.n*g3.i)/(g2.n+g3.n)\n",
    "\n",
    "        # update group 1: just classes\n",
    "        g1.r += caught_by_test(g1.i, ttest)\n",
    "        g1.i += (g1.s*infected_in_class(total_i,inf_with_PPE)\n",
    "                + g1.s*ex_i\n",
    "                - caught_by_test(g1.i,ttest))\n",
    "        g1.s = 1 - g1.r - g1.i\n",
    "\n",
    "        # update group 2: small gatherings\n",
    "        g2.r += caught_by_test(g2.i, ttest)\n",
    "        g2.i += (g2.s*infected_in_class(total_i,inf_with_PPE)\n",
    "                + g2.s/party_freq*infected_at_party(legal_party_i,legal_party_size,inf_with_PPE)\n",
    "                + g2.s*ex_i\n",
    "                - caught_by_test(g2.i,ttest))\n",
    "        g2.s = 1 - g2.r - g2.i\n",
    "\n",
    "        # update group 3: big parties\n",
    "        g3.r += caught_by_test(g3.i, ttest)\n",
    "        g3.i += (g3.s*infected_in_class(total_i,inf_with_PPE)\n",
    "                + g3.s/party_freq*infected_at_party(legal_party_i,legal_party_size,inf_with_PPE)\n",
    "                + g3.s/party_freq*infected_at_party(g3.i,illegal_party_size,inf_no_PPE)\n",
    "                + g3.s*ex_i\n",
    "                - caught_by_test(g3.i,ttest))\n",
    "        g3.s = 1 - g3.r - g3.i\n",
    "    end\n",
    "    \n",
    "    # initial conditions\n",
    "    g1 = Group(n1,1)\n",
    "    g2 = Group(n2,1)\n",
    "    g3 = Group(n3,1)\n",
    "    groups = (g1,g2,g3)\n",
    "\n",
    "    r = Record(groups)\n",
    "    for t=1:100\n",
    "        update!(groups)\n",
    "        record!(r, groups)\n",
    "    end\n",
    "    return r, groups\n",
    "end"
   ]
  },
  {
   "cell_type": "markdown",
   "metadata": {},
   "source": [
    "Let's simulate from this model to explore influence of parameters. Circle marker shows that the number of infections is large enough that Cornell will close."
   ]
  },
  {
   "cell_type": "code",
   "execution_count": 6,
   "metadata": {},
   "outputs": [
    {
     "data": {
      "text/html": [
       "    <script type=\"text/javascript\">\n",
       "        requirejs([\"https://cdn.plot.ly/plotly-1.54.2.min.js\"], function(p) {\n",
       "            window.Plotly = p\n",
       "        });\n",
       "    </script>\n"
      ]
     },
     "metadata": {},
     "output_type": "display_data"
    },
    {
     "data": {
      "application/vnd.webio.node+json": {
       "children": [
        {
         "children": [
          {
           "children": [
            {
             "children": [
              {
               "children": [
                {
                 "children": [
                  "n_big_partiers"
                 ],
                 "instanceArgs": {
                  "namespace": "html",
                  "tag": "label"
                 },
                 "nodeType": "DOM",
                 "props": {
                  "className": "interact ",
                  "style": {
                   "padding": "5px 10px 0px 10px"
                  }
                 },
                 "type": "node"
                }
               ],
               "instanceArgs": {
                "namespace": "html",
                "tag": "div"
               },
               "nodeType": "DOM",
               "props": {
                "className": "interact-flex-row-left"
               },
               "type": "node"
              },
              {
               "children": [
                {
                 "children": [],
                 "instanceArgs": {
                  "namespace": "html",
                  "tag": "input"
                 },
                 "nodeType": "DOM",
                 "props": {
                  "attributes": {
                   "data-bind": "numericValue: index, valueUpdate: 'input', event: {change: function (){this.changes(this.changes()+1)}}",
                   "orient": "horizontal",
                   "type": "range"
                  },
                  "className": "slider slider is-fullwidth",
                  "max": 20,
                  "min": 1,
                  "step": 1,
                  "style": {}
                 },
                 "type": "node"
                }
               ],
               "instanceArgs": {
                "namespace": "html",
                "tag": "div"
               },
               "nodeType": "DOM",
               "props": {
                "className": "interact-flex-row-center"
               },
               "type": "node"
              },
              {
               "children": [
                {
                 "children": [],
                 "instanceArgs": {
                  "namespace": "html",
                  "tag": "p"
                 },
                 "nodeType": "DOM",
                 "props": {
                  "attributes": {
                   "data-bind": "text: formatted_val"
                  }
                 },
                 "type": "node"
                }
               ],
               "instanceArgs": {
                "namespace": "html",
                "tag": "div"
               },
               "nodeType": "DOM",
               "props": {
                "className": "interact-flex-row-right"
               },
               "type": "node"
              }
             ],
             "instanceArgs": {
              "namespace": "html",
              "tag": "div"
             },
             "nodeType": "DOM",
             "props": {
              "className": "interact-flex-row interact-widget"
             },
             "type": "node"
            }
           ],
           "instanceArgs": {
            "handlers": {
             "changes": [
              "(function (val){return (val!=this.model[\"changes\"]()) ? (this.valueFromJulia[\"changes\"]=true, this.model[\"changes\"](val)) : undefined})"
             ],
             "index": [
              "(function (val){return (val!=this.model[\"index\"]()) ? (this.valueFromJulia[\"index\"]=true, this.model[\"index\"](val)) : undefined})"
             ]
            },
            "id": "4955072304956205487",
            "imports": {
             "data": [
              {
               "name": "knockout",
               "type": "js",
               "url": "/assetserver/aa767470ed3fb2fdc226b1798340a340ee166b2a-knockout.js"
              },
              {
               "name": "knockout_punches",
               "type": "js",
               "url": "/assetserver/e8fb3dc53556d31ce61caa9a9c7ddd80d27fc9d0-knockout_punches.js"
              },
              {
               "name": null,
               "type": "js",
               "url": "/assetserver/71fa1c1cc32d1bdda427a7ab2531f6129776e895-all.js"
              },
              {
               "name": null,
               "type": "css",
               "url": "/assetserver/2602973166a381dc3e60050f85dd07ec0cc87799-style.css"
              },
              {
               "name": null,
               "type": "css",
               "url": "/assetserver/bc33dca115ce9467eafc9b218c3bae68216c3008-bulma_confined.min.css"
              }
             ],
             "type": "async_block"
            },
            "mount_callbacks": [
             "function () {\n    var handler = (function (ko, koPunches) {\n    ko.punches.enableAll();\n    ko.bindingHandlers.numericValue = {\n        init: function(element, valueAccessor, allBindings, data, context) {\n            var stringified = ko.observable(ko.unwrap(valueAccessor()));\n            stringified.subscribe(function(value) {\n                var val = parseFloat(value);\n                if (!isNaN(val)) {\n                    valueAccessor()(val);\n                }\n            });\n            valueAccessor().subscribe(function(value) {\n                var str = JSON.stringify(value);\n                if ((str == \"0\") && ([\"-0\", \"-0.\"].indexOf(stringified()) >= 0))\n                     return;\n                 if ([\"null\", \"\"].indexOf(str) >= 0)\n                     return;\n                stringified(str);\n            });\n            ko.applyBindingsToNode(\n                element,\n                {\n                    value: stringified,\n                    valueUpdate: allBindings.get('valueUpdate'),\n                },\n                context,\n            );\n        }\n    };\n    var json_data = {\"formatted_vals\":[\"0.01\",\"0.02\",\"0.03\",\"0.04\",\"0.05\",\"0.06\",\"0.07\",\"0.08\",\"0.09\",\"0.1\",\"0.11\",\"0.12\",\"0.13\",\"0.14\",\"0.15\",\"0.16\",\"0.17\",\"0.18\",\"0.19\",\"0.2\"],\"changes\":WebIO.getval({\"name\":\"changes\",\"scope\":\"4955072304956205487\",\"id\":\"16518010769640529931\",\"type\":\"observable\"}),\"index\":WebIO.getval({\"name\":\"index\",\"scope\":\"4955072304956205487\",\"id\":\"11761905228869271484\",\"type\":\"observable\"})};\n    var self = this;\n    function AppViewModel() {\n        for (var key in json_data) {\n            var el = json_data[key];\n            this[key] = Array.isArray(el) ? ko.observableArray(el) : ko.observable(el);\n        }\n        \n        [this[\"formatted_val\"]=ko.computed(    function(){\n        return this.formatted_vals()[parseInt(this.index())-(1)];\n    }\n,this)]\n        [this[\"changes\"].subscribe((function (val){!(this.valueFromJulia[\"changes\"]) ? (WebIO.setval({\"name\":\"changes\",\"scope\":\"4955072304956205487\",\"id\":\"16518010769640529931\",\"type\":\"observable\"},val)) : undefined; return this.valueFromJulia[\"changes\"]=false}),self),this[\"index\"].subscribe((function (val){!(this.valueFromJulia[\"index\"]) ? (WebIO.setval({\"name\":\"index\",\"scope\":\"4955072304956205487\",\"id\":\"11761905228869271484\",\"type\":\"observable\"},val)) : undefined; return this.valueFromJulia[\"index\"]=false}),self)]\n        \n    }\n    self.model = new AppViewModel();\n    self.valueFromJulia = {};\n    for (var key in json_data) {\n        self.valueFromJulia[key] = false;\n    }\n    ko.applyBindings(self.model, self.dom);\n}\n);\n    (WebIO.importBlock({\"data\":[{\"name\":\"knockout\",\"type\":\"js\",\"url\":\"/assetserver/aa767470ed3fb2fdc226b1798340a340ee166b2a-knockout.js\"},{\"name\":\"knockout_punches\",\"type\":\"js\",\"url\":\"/assetserver/e8fb3dc53556d31ce61caa9a9c7ddd80d27fc9d0-knockout_punches.js\"}],\"type\":\"async_block\"})).then((imports) => handler.apply(this, imports));\n}\n"
            ],
            "observables": {
             "changes": {
              "id": "16518010769640529931",
              "sync": false,
              "value": 0
             },
             "index": {
              "id": "11761905228869271484",
              "sync": true,
              "value": 10
             }
            },
            "systemjs_options": null
           },
           "nodeType": "Scope",
           "props": {},
           "type": "node"
          }
         ],
         "instanceArgs": {
          "namespace": "html",
          "tag": "div"
         },
         "nodeType": "DOM",
         "props": {
          "className": "field interact-widget"
         },
         "type": "node"
        },
        {
         "children": [
          {
           "children": [
            {
             "children": [
              {
               "children": [
                {
                 "children": [
                  "n_safe_partiers"
                 ],
                 "instanceArgs": {
                  "namespace": "html",
                  "tag": "label"
                 },
                 "nodeType": "DOM",
                 "props": {
                  "className": "interact ",
                  "style": {
                   "padding": "5px 10px 0px 10px"
                  }
                 },
                 "type": "node"
                }
               ],
               "instanceArgs": {
                "namespace": "html",
                "tag": "div"
               },
               "nodeType": "DOM",
               "props": {
                "className": "interact-flex-row-left"
               },
               "type": "node"
              },
              {
               "children": [
                {
                 "children": [],
                 "instanceArgs": {
                  "namespace": "html",
                  "tag": "input"
                 },
                 "nodeType": "DOM",
                 "props": {
                  "attributes": {
                   "data-bind": "numericValue: index, valueUpdate: 'input', event: {change: function (){this.changes(this.changes()+1)}}",
                   "orient": "horizontal",
                   "type": "range"
                  },
                  "className": "slider slider is-fullwidth",
                  "max": 10,
                  "min": 1,
                  "step": 1,
                  "style": {}
                 },
                 "type": "node"
                }
               ],
               "instanceArgs": {
                "namespace": "html",
                "tag": "div"
               },
               "nodeType": "DOM",
               "props": {
                "className": "interact-flex-row-center"
               },
               "type": "node"
              },
              {
               "children": [
                {
                 "children": [],
                 "instanceArgs": {
                  "namespace": "html",
                  "tag": "p"
                 },
                 "nodeType": "DOM",
                 "props": {
                  "attributes": {
                   "data-bind": "text: formatted_val"
                  }
                 },
                 "type": "node"
                }
               ],
               "instanceArgs": {
                "namespace": "html",
                "tag": "div"
               },
               "nodeType": "DOM",
               "props": {
                "className": "interact-flex-row-right"
               },
               "type": "node"
              }
             ],
             "instanceArgs": {
              "namespace": "html",
              "tag": "div"
             },
             "nodeType": "DOM",
             "props": {
              "className": "interact-flex-row interact-widget"
             },
             "type": "node"
            }
           ],
           "instanceArgs": {
            "handlers": {
             "changes": [
              "(function (val){return (val!=this.model[\"changes\"]()) ? (this.valueFromJulia[\"changes\"]=true, this.model[\"changes\"](val)) : undefined})"
             ],
             "index": [
              "(function (val){return (val!=this.model[\"index\"]()) ? (this.valueFromJulia[\"index\"]=true, this.model[\"index\"](val)) : undefined})"
             ]
            },
            "id": "697030370595499728",
            "imports": {
             "data": [
              {
               "name": "knockout",
               "type": "js",
               "url": "/assetserver/aa767470ed3fb2fdc226b1798340a340ee166b2a-knockout.js"
              },
              {
               "name": "knockout_punches",
               "type": "js",
               "url": "/assetserver/e8fb3dc53556d31ce61caa9a9c7ddd80d27fc9d0-knockout_punches.js"
              },
              {
               "name": null,
               "type": "js",
               "url": "/assetserver/71fa1c1cc32d1bdda427a7ab2531f6129776e895-all.js"
              },
              {
               "name": null,
               "type": "css",
               "url": "/assetserver/2602973166a381dc3e60050f85dd07ec0cc87799-style.css"
              },
              {
               "name": null,
               "type": "css",
               "url": "/assetserver/bc33dca115ce9467eafc9b218c3bae68216c3008-bulma_confined.min.css"
              }
             ],
             "type": "async_block"
            },
            "mount_callbacks": [
             "function () {\n    var handler = (function (ko, koPunches) {\n    ko.punches.enableAll();\n    ko.bindingHandlers.numericValue = {\n        init: function(element, valueAccessor, allBindings, data, context) {\n            var stringified = ko.observable(ko.unwrap(valueAccessor()));\n            stringified.subscribe(function(value) {\n                var val = parseFloat(value);\n                if (!isNaN(val)) {\n                    valueAccessor()(val);\n                }\n            });\n            valueAccessor().subscribe(function(value) {\n                var str = JSON.stringify(value);\n                if ((str == \"0\") && ([\"-0\", \"-0.\"].indexOf(stringified()) >= 0))\n                     return;\n                 if ([\"null\", \"\"].indexOf(str) >= 0)\n                     return;\n                stringified(str);\n            });\n            ko.applyBindingsToNode(\n                element,\n                {\n                    value: stringified,\n                    valueUpdate: allBindings.get('valueUpdate'),\n                },\n                context,\n            );\n        }\n    };\n    var json_data = {\"formatted_vals\":[\"0.1\",\"0.2\",\"0.3\",\"0.4\",\"0.5\",\"0.6\",\"0.7\",\"0.8\",\"0.9\",\"1.0\"],\"changes\":WebIO.getval({\"name\":\"changes\",\"scope\":\"697030370595499728\",\"id\":\"959882810703209661\",\"type\":\"observable\"}),\"index\":WebIO.getval({\"name\":\"index\",\"scope\":\"697030370595499728\",\"id\":\"7782082673711945698\",\"type\":\"observable\"})};\n    var self = this;\n    function AppViewModel() {\n        for (var key in json_data) {\n            var el = json_data[key];\n            this[key] = Array.isArray(el) ? ko.observableArray(el) : ko.observable(el);\n        }\n        \n        [this[\"formatted_val\"]=ko.computed(    function(){\n        return this.formatted_vals()[parseInt(this.index())-(1)];\n    }\n,this)]\n        [this[\"changes\"].subscribe((function (val){!(this.valueFromJulia[\"changes\"]) ? (WebIO.setval({\"name\":\"changes\",\"scope\":\"697030370595499728\",\"id\":\"959882810703209661\",\"type\":\"observable\"},val)) : undefined; return this.valueFromJulia[\"changes\"]=false}),self),this[\"index\"].subscribe((function (val){!(this.valueFromJulia[\"index\"]) ? (WebIO.setval({\"name\":\"index\",\"scope\":\"697030370595499728\",\"id\":\"7782082673711945698\",\"type\":\"observable\"},val)) : undefined; return this.valueFromJulia[\"index\"]=false}),self)]\n        \n    }\n    self.model = new AppViewModel();\n    self.valueFromJulia = {};\n    for (var key in json_data) {\n        self.valueFromJulia[key] = false;\n    }\n    ko.applyBindings(self.model, self.dom);\n}\n);\n    (WebIO.importBlock({\"data\":[{\"name\":\"knockout\",\"type\":\"js\",\"url\":\"/assetserver/aa767470ed3fb2fdc226b1798340a340ee166b2a-knockout.js\"},{\"name\":\"knockout_punches\",\"type\":\"js\",\"url\":\"/assetserver/e8fb3dc53556d31ce61caa9a9c7ddd80d27fc9d0-knockout_punches.js\"}],\"type\":\"async_block\"})).then((imports) => handler.apply(this, imports));\n}\n"
            ],
            "observables": {
             "changes": {
              "id": "959882810703209661",
              "sync": false,
              "value": 0
             },
             "index": {
              "id": "7782082673711945698",
              "sync": true,
              "value": 5
             }
            },
            "systemjs_options": null
           },
           "nodeType": "Scope",
           "props": {},
           "type": "node"
          }
         ],
         "instanceArgs": {
          "namespace": "html",
          "tag": "div"
         },
         "nodeType": "DOM",
         "props": {
          "className": "field interact-widget"
         },
         "type": "node"
        },
        {
         "children": [
          {
           "children": [
            {
             "children": [
              {
               "children": [
                {
                 "children": [
                  "test_period"
                 ],
                 "instanceArgs": {
                  "namespace": "html",
                  "tag": "label"
                 },
                 "nodeType": "DOM",
                 "props": {
                  "className": "interact ",
                  "style": {
                   "padding": "5px 10px 0px 10px"
                  }
                 },
                 "type": "node"
                }
               ],
               "instanceArgs": {
                "namespace": "html",
                "tag": "div"
               },
               "nodeType": "DOM",
               "props": {
                "className": "interact-flex-row-left"
               },
               "type": "node"
              },
              {
               "children": [
                {
                 "children": [],
                 "instanceArgs": {
                  "namespace": "html",
                  "tag": "input"
                 },
                 "nodeType": "DOM",
                 "props": {
                  "attributes": {
                   "data-bind": "numericValue: index, valueUpdate: 'input', event: {change: function (){this.changes(this.changes()+1)}}",
                   "orient": "horizontal",
                   "type": "range"
                  },
                  "className": "slider slider is-fullwidth",
                  "max": 7,
                  "min": 1,
                  "step": 1,
                  "style": {}
                 },
                 "type": "node"
                }
               ],
               "instanceArgs": {
                "namespace": "html",
                "tag": "div"
               },
               "nodeType": "DOM",
               "props": {
                "className": "interact-flex-row-center"
               },
               "type": "node"
              },
              {
               "children": [
                {
                 "children": [],
                 "instanceArgs": {
                  "namespace": "html",
                  "tag": "p"
                 },
                 "nodeType": "DOM",
                 "props": {
                  "attributes": {
                   "data-bind": "text: formatted_val"
                  }
                 },
                 "type": "node"
                }
               ],
               "instanceArgs": {
                "namespace": "html",
                "tag": "div"
               },
               "nodeType": "DOM",
               "props": {
                "className": "interact-flex-row-right"
               },
               "type": "node"
              }
             ],
             "instanceArgs": {
              "namespace": "html",
              "tag": "div"
             },
             "nodeType": "DOM",
             "props": {
              "className": "interact-flex-row interact-widget"
             },
             "type": "node"
            }
           ],
           "instanceArgs": {
            "handlers": {
             "changes": [
              "(function (val){return (val!=this.model[\"changes\"]()) ? (this.valueFromJulia[\"changes\"]=true, this.model[\"changes\"](val)) : undefined})"
             ],
             "index": [
              "(function (val){return (val!=this.model[\"index\"]()) ? (this.valueFromJulia[\"index\"]=true, this.model[\"index\"](val)) : undefined})"
             ]
            },
            "id": "5621904757225941425",
            "imports": {
             "data": [
              {
               "name": "knockout",
               "type": "js",
               "url": "/assetserver/aa767470ed3fb2fdc226b1798340a340ee166b2a-knockout.js"
              },
              {
               "name": "knockout_punches",
               "type": "js",
               "url": "/assetserver/e8fb3dc53556d31ce61caa9a9c7ddd80d27fc9d0-knockout_punches.js"
              },
              {
               "name": null,
               "type": "js",
               "url": "/assetserver/71fa1c1cc32d1bdda427a7ab2531f6129776e895-all.js"
              },
              {
               "name": null,
               "type": "css",
               "url": "/assetserver/2602973166a381dc3e60050f85dd07ec0cc87799-style.css"
              },
              {
               "name": null,
               "type": "css",
               "url": "/assetserver/bc33dca115ce9467eafc9b218c3bae68216c3008-bulma_confined.min.css"
              }
             ],
             "type": "async_block"
            },
            "mount_callbacks": [
             "function () {\n    var handler = (function (ko, koPunches) {\n    ko.punches.enableAll();\n    ko.bindingHandlers.numericValue = {\n        init: function(element, valueAccessor, allBindings, data, context) {\n            var stringified = ko.observable(ko.unwrap(valueAccessor()));\n            stringified.subscribe(function(value) {\n                var val = parseFloat(value);\n                if (!isNaN(val)) {\n                    valueAccessor()(val);\n                }\n            });\n            valueAccessor().subscribe(function(value) {\n                var str = JSON.stringify(value);\n                if ((str == \"0\") && ([\"-0\", \"-0.\"].indexOf(stringified()) >= 0))\n                     return;\n                 if ([\"null\", \"\"].indexOf(str) >= 0)\n                     return;\n                stringified(str);\n            });\n            ko.applyBindingsToNode(\n                element,\n                {\n                    value: stringified,\n                    valueUpdate: allBindings.get('valueUpdate'),\n                },\n                context,\n            );\n        }\n    };\n    var json_data = {\"formatted_vals\":[\"1\",\"2\",\"3\",\"4\",\"5\",\"6\",\"7\"],\"changes\":WebIO.getval({\"name\":\"changes\",\"scope\":\"5621904757225941425\",\"id\":\"9464662453871580644\",\"type\":\"observable\"}),\"index\":WebIO.getval({\"name\":\"index\",\"scope\":\"5621904757225941425\",\"id\":\"18069724218900395481\",\"type\":\"observable\"})};\n    var self = this;\n    function AppViewModel() {\n        for (var key in json_data) {\n            var el = json_data[key];\n            this[key] = Array.isArray(el) ? ko.observableArray(el) : ko.observable(el);\n        }\n        \n        [this[\"formatted_val\"]=ko.computed(    function(){\n        return this.formatted_vals()[parseInt(this.index())-(1)];\n    }\n,this)]\n        [this[\"changes\"].subscribe((function (val){!(this.valueFromJulia[\"changes\"]) ? (WebIO.setval({\"name\":\"changes\",\"scope\":\"5621904757225941425\",\"id\":\"9464662453871580644\",\"type\":\"observable\"},val)) : undefined; return this.valueFromJulia[\"changes\"]=false}),self),this[\"index\"].subscribe((function (val){!(this.valueFromJulia[\"index\"]) ? (WebIO.setval({\"name\":\"index\",\"scope\":\"5621904757225941425\",\"id\":\"18069724218900395481\",\"type\":\"observable\"},val)) : undefined; return this.valueFromJulia[\"index\"]=false}),self)]\n        \n    }\n    self.model = new AppViewModel();\n    self.valueFromJulia = {};\n    for (var key in json_data) {\n        self.valueFromJulia[key] = false;\n    }\n    ko.applyBindings(self.model, self.dom);\n}\n);\n    (WebIO.importBlock({\"data\":[{\"name\":\"knockout\",\"type\":\"js\",\"url\":\"/assetserver/aa767470ed3fb2fdc226b1798340a340ee166b2a-knockout.js\"},{\"name\":\"knockout_punches\",\"type\":\"js\",\"url\":\"/assetserver/e8fb3dc53556d31ce61caa9a9c7ddd80d27fc9d0-knockout_punches.js\"}],\"type\":\"async_block\"})).then((imports) => handler.apply(this, imports));\n}\n"
            ],
            "observables": {
             "changes": {
              "id": "9464662453871580644",
              "sync": false,
              "value": 0
             },
             "index": {
              "id": "18069724218900395481",
              "sync": true,
              "value": 4
             }
            },
            "systemjs_options": null
           },
           "nodeType": "Scope",
           "props": {},
           "type": "node"
          }
         ],
         "instanceArgs": {
          "namespace": "html",
          "tag": "div"
         },
         "nodeType": "DOM",
         "props": {
          "className": "field interact-widget"
         },
         "type": "node"
        },
        {
         "children": [
          {
           "children": [
            {
             "children": [
              {
               "children": [
                {
                 "children": [
                  "inf_no_PPE"
                 ],
                 "instanceArgs": {
                  "namespace": "html",
                  "tag": "label"
                 },
                 "nodeType": "DOM",
                 "props": {
                  "className": "interact ",
                  "style": {
                   "padding": "5px 10px 0px 10px"
                  }
                 },
                 "type": "node"
                }
               ],
               "instanceArgs": {
                "namespace": "html",
                "tag": "div"
               },
               "nodeType": "DOM",
               "props": {
                "className": "interact-flex-row-left"
               },
               "type": "node"
              },
              {
               "children": [
                {
                 "children": [],
                 "instanceArgs": {
                  "namespace": "html",
                  "tag": "input"
                 },
                 "nodeType": "DOM",
                 "props": {
                  "attributes": {
                   "data-bind": "numericValue: index, valueUpdate: 'input', event: {change: function (){this.changes(this.changes()+1)}}",
                   "orient": "horizontal",
                   "type": "range"
                  },
                  "className": "slider slider is-fullwidth",
                  "max": 20,
                  "min": 1,
                  "step": 1,
                  "style": {}
                 },
                 "type": "node"
                }
               ],
               "instanceArgs": {
                "namespace": "html",
                "tag": "div"
               },
               "nodeType": "DOM",
               "props": {
                "className": "interact-flex-row-center"
               },
               "type": "node"
              },
              {
               "children": [
                {
                 "children": [],
                 "instanceArgs": {
                  "namespace": "html",
                  "tag": "p"
                 },
                 "nodeType": "DOM",
                 "props": {
                  "attributes": {
                   "data-bind": "text: formatted_val"
                  }
                 },
                 "type": "node"
                }
               ],
               "instanceArgs": {
                "namespace": "html",
                "tag": "div"
               },
               "nodeType": "DOM",
               "props": {
                "className": "interact-flex-row-right"
               },
               "type": "node"
              }
             ],
             "instanceArgs": {
              "namespace": "html",
              "tag": "div"
             },
             "nodeType": "DOM",
             "props": {
              "className": "interact-flex-row interact-widget"
             },
             "type": "node"
            }
           ],
           "instanceArgs": {
            "handlers": {
             "changes": [
              "(function (val){return (val!=this.model[\"changes\"]()) ? (this.valueFromJulia[\"changes\"]=true, this.model[\"changes\"](val)) : undefined})"
             ],
             "index": [
              "(function (val){return (val!=this.model[\"index\"]()) ? (this.valueFromJulia[\"index\"]=true, this.model[\"index\"](val)) : undefined})"
             ]
            },
            "id": "7028077530302003109",
            "imports": {
             "data": [
              {
               "name": "knockout",
               "type": "js",
               "url": "/assetserver/aa767470ed3fb2fdc226b1798340a340ee166b2a-knockout.js"
              },
              {
               "name": "knockout_punches",
               "type": "js",
               "url": "/assetserver/e8fb3dc53556d31ce61caa9a9c7ddd80d27fc9d0-knockout_punches.js"
              },
              {
               "name": null,
               "type": "js",
               "url": "/assetserver/71fa1c1cc32d1bdda427a7ab2531f6129776e895-all.js"
              },
              {
               "name": null,
               "type": "css",
               "url": "/assetserver/2602973166a381dc3e60050f85dd07ec0cc87799-style.css"
              },
              {
               "name": null,
               "type": "css",
               "url": "/assetserver/bc33dca115ce9467eafc9b218c3bae68216c3008-bulma_confined.min.css"
              }
             ],
             "type": "async_block"
            },
            "mount_callbacks": [
             "function () {\n    var handler = (function (ko, koPunches) {\n    ko.punches.enableAll();\n    ko.bindingHandlers.numericValue = {\n        init: function(element, valueAccessor, allBindings, data, context) {\n            var stringified = ko.observable(ko.unwrap(valueAccessor()));\n            stringified.subscribe(function(value) {\n                var val = parseFloat(value);\n                if (!isNaN(val)) {\n                    valueAccessor()(val);\n                }\n            });\n            valueAccessor().subscribe(function(value) {\n                var str = JSON.stringify(value);\n                if ((str == \"0\") && ([\"-0\", \"-0.\"].indexOf(stringified()) >= 0))\n                     return;\n                 if ([\"null\", \"\"].indexOf(str) >= 0)\n                     return;\n                stringified(str);\n            });\n            ko.applyBindingsToNode(\n                element,\n                {\n                    value: stringified,\n                    valueUpdate: allBindings.get('valueUpdate'),\n                },\n                context,\n            );\n        }\n    };\n    var json_data = {\"formatted_vals\":[\"0.05\",\"0.1\",\"0.15\",\"0.2\",\"0.25\",\"0.3\",\"0.35\",\"0.4\",\"0.45\",\"0.5\",\"0.55\",\"0.6\",\"0.65\",\"0.7\",\"0.75\",\"0.8\",\"0.85\",\"0.9\",\"0.95\",\"1.0\"],\"changes\":WebIO.getval({\"name\":\"changes\",\"scope\":\"7028077530302003109\",\"id\":\"4876503512435406566\",\"type\":\"observable\"}),\"index\":WebIO.getval({\"name\":\"index\",\"scope\":\"7028077530302003109\",\"id\":\"13726977930758239651\",\"type\":\"observable\"})};\n    var self = this;\n    function AppViewModel() {\n        for (var key in json_data) {\n            var el = json_data[key];\n            this[key] = Array.isArray(el) ? ko.observableArray(el) : ko.observable(el);\n        }\n        \n        [this[\"formatted_val\"]=ko.computed(    function(){\n        return this.formatted_vals()[parseInt(this.index())-(1)];\n    }\n,this)]\n        [this[\"changes\"].subscribe((function (val){!(this.valueFromJulia[\"changes\"]) ? (WebIO.setval({\"name\":\"changes\",\"scope\":\"7028077530302003109\",\"id\":\"4876503512435406566\",\"type\":\"observable\"},val)) : undefined; return this.valueFromJulia[\"changes\"]=false}),self),this[\"index\"].subscribe((function (val){!(this.valueFromJulia[\"index\"]) ? (WebIO.setval({\"name\":\"index\",\"scope\":\"7028077530302003109\",\"id\":\"13726977930758239651\",\"type\":\"observable\"},val)) : undefined; return this.valueFromJulia[\"index\"]=false}),self)]\n        \n    }\n    self.model = new AppViewModel();\n    self.valueFromJulia = {};\n    for (var key in json_data) {\n        self.valueFromJulia[key] = false;\n    }\n    ko.applyBindings(self.model, self.dom);\n}\n);\n    (WebIO.importBlock({\"data\":[{\"name\":\"knockout\",\"type\":\"js\",\"url\":\"/assetserver/aa767470ed3fb2fdc226b1798340a340ee166b2a-knockout.js\"},{\"name\":\"knockout_punches\",\"type\":\"js\",\"url\":\"/assetserver/e8fb3dc53556d31ce61caa9a9c7ddd80d27fc9d0-knockout_punches.js\"}],\"type\":\"async_block\"})).then((imports) => handler.apply(this, imports));\n}\n"
            ],
            "observables": {
             "changes": {
              "id": "4876503512435406566",
              "sync": false,
              "value": 0
             },
             "index": {
              "id": "13726977930758239651",
              "sync": true,
              "value": 10
             }
            },
            "systemjs_options": null
           },
           "nodeType": "Scope",
           "props": {},
           "type": "node"
          }
         ],
         "instanceArgs": {
          "namespace": "html",
          "tag": "div"
         },
         "nodeType": "DOM",
         "props": {
          "className": "field interact-widget"
         },
         "type": "node"
        },
        {
         "children": [
          {
           "children": [
            {
             "children": [
              {
               "children": [
                {
                 "children": [
                  "inf_with_PPE"
                 ],
                 "instanceArgs": {
                  "namespace": "html",
                  "tag": "label"
                 },
                 "nodeType": "DOM",
                 "props": {
                  "className": "interact ",
                  "style": {
                   "padding": "5px 10px 0px 10px"
                  }
                 },
                 "type": "node"
                }
               ],
               "instanceArgs": {
                "namespace": "html",
                "tag": "div"
               },
               "nodeType": "DOM",
               "props": {
                "className": "interact-flex-row-left"
               },
               "type": "node"
              },
              {
               "children": [
                {
                 "children": [],
                 "instanceArgs": {
                  "namespace": "html",
                  "tag": "input"
                 },
                 "nodeType": "DOM",
                 "props": {
                  "attributes": {
                   "data-bind": "numericValue: index, valueUpdate: 'input', event: {change: function (){this.changes(this.changes()+1)}}",
                   "orient": "horizontal",
                   "type": "range"
                  },
                  "className": "slider slider is-fullwidth",
                  "max": 10,
                  "min": 1,
                  "step": 1,
                  "style": {}
                 },
                 "type": "node"
                }
               ],
               "instanceArgs": {
                "namespace": "html",
                "tag": "div"
               },
               "nodeType": "DOM",
               "props": {
                "className": "interact-flex-row-center"
               },
               "type": "node"
              },
              {
               "children": [
                {
                 "children": [],
                 "instanceArgs": {
                  "namespace": "html",
                  "tag": "p"
                 },
                 "nodeType": "DOM",
                 "props": {
                  "attributes": {
                   "data-bind": "text: formatted_val"
                  }
                 },
                 "type": "node"
                }
               ],
               "instanceArgs": {
                "namespace": "html",
                "tag": "div"
               },
               "nodeType": "DOM",
               "props": {
                "className": "interact-flex-row-right"
               },
               "type": "node"
              }
             ],
             "instanceArgs": {
              "namespace": "html",
              "tag": "div"
             },
             "nodeType": "DOM",
             "props": {
              "className": "interact-flex-row interact-widget"
             },
             "type": "node"
            }
           ],
           "instanceArgs": {
            "handlers": {
             "changes": [
              "(function (val){return (val!=this.model[\"changes\"]()) ? (this.valueFromJulia[\"changes\"]=true, this.model[\"changes\"](val)) : undefined})"
             ],
             "index": [
              "(function (val){return (val!=this.model[\"index\"]()) ? (this.valueFromJulia[\"index\"]=true, this.model[\"index\"](val)) : undefined})"
             ]
            },
            "id": "17201827924276723092",
            "imports": {
             "data": [
              {
               "name": "knockout",
               "type": "js",
               "url": "/assetserver/aa767470ed3fb2fdc226b1798340a340ee166b2a-knockout.js"
              },
              {
               "name": "knockout_punches",
               "type": "js",
               "url": "/assetserver/e8fb3dc53556d31ce61caa9a9c7ddd80d27fc9d0-knockout_punches.js"
              },
              {
               "name": null,
               "type": "js",
               "url": "/assetserver/71fa1c1cc32d1bdda427a7ab2531f6129776e895-all.js"
              },
              {
               "name": null,
               "type": "css",
               "url": "/assetserver/2602973166a381dc3e60050f85dd07ec0cc87799-style.css"
              },
              {
               "name": null,
               "type": "css",
               "url": "/assetserver/bc33dca115ce9467eafc9b218c3bae68216c3008-bulma_confined.min.css"
              }
             ],
             "type": "async_block"
            },
            "mount_callbacks": [
             "function () {\n    var handler = (function (ko, koPunches) {\n    ko.punches.enableAll();\n    ko.bindingHandlers.numericValue = {\n        init: function(element, valueAccessor, allBindings, data, context) {\n            var stringified = ko.observable(ko.unwrap(valueAccessor()));\n            stringified.subscribe(function(value) {\n                var val = parseFloat(value);\n                if (!isNaN(val)) {\n                    valueAccessor()(val);\n                }\n            });\n            valueAccessor().subscribe(function(value) {\n                var str = JSON.stringify(value);\n                if ((str == \"0\") && ([\"-0\", \"-0.\"].indexOf(stringified()) >= 0))\n                     return;\n                 if ([\"null\", \"\"].indexOf(str) >= 0)\n                     return;\n                stringified(str);\n            });\n            ko.applyBindingsToNode(\n                element,\n                {\n                    value: stringified,\n                    valueUpdate: allBindings.get('valueUpdate'),\n                },\n                context,\n            );\n        }\n    };\n    var json_data = {\"formatted_vals\":[\"0.01\",\"0.02\",\"0.03\",\"0.04\",\"0.05\",\"0.06\",\"0.07\",\"0.08\",\"0.09\",\"0.1\"],\"changes\":WebIO.getval({\"name\":\"changes\",\"scope\":\"17201827924276723092\",\"id\":\"5557328143532054820\",\"type\":\"observable\"}),\"index\":WebIO.getval({\"name\":\"index\",\"scope\":\"17201827924276723092\",\"id\":\"8867459641964122050\",\"type\":\"observable\"})};\n    var self = this;\n    function AppViewModel() {\n        for (var key in json_data) {\n            var el = json_data[key];\n            this[key] = Array.isArray(el) ? ko.observableArray(el) : ko.observable(el);\n        }\n        \n        [this[\"formatted_val\"]=ko.computed(    function(){\n        return this.formatted_vals()[parseInt(this.index())-(1)];\n    }\n,this)]\n        [this[\"changes\"].subscribe((function (val){!(this.valueFromJulia[\"changes\"]) ? (WebIO.setval({\"name\":\"changes\",\"scope\":\"17201827924276723092\",\"id\":\"5557328143532054820\",\"type\":\"observable\"},val)) : undefined; return this.valueFromJulia[\"changes\"]=false}),self),this[\"index\"].subscribe((function (val){!(this.valueFromJulia[\"index\"]) ? (WebIO.setval({\"name\":\"index\",\"scope\":\"17201827924276723092\",\"id\":\"8867459641964122050\",\"type\":\"observable\"},val)) : undefined; return this.valueFromJulia[\"index\"]=false}),self)]\n        \n    }\n    self.model = new AppViewModel();\n    self.valueFromJulia = {};\n    for (var key in json_data) {\n        self.valueFromJulia[key] = false;\n    }\n    ko.applyBindings(self.model, self.dom);\n}\n);\n    (WebIO.importBlock({\"data\":[{\"name\":\"knockout\",\"type\":\"js\",\"url\":\"/assetserver/aa767470ed3fb2fdc226b1798340a340ee166b2a-knockout.js\"},{\"name\":\"knockout_punches\",\"type\":\"js\",\"url\":\"/assetserver/e8fb3dc53556d31ce61caa9a9c7ddd80d27fc9d0-knockout_punches.js\"}],\"type\":\"async_block\"})).then((imports) => handler.apply(this, imports));\n}\n"
            ],
            "observables": {
             "changes": {
              "id": "5557328143532054820",
              "sync": false,
              "value": 0
             },
             "index": {
              "id": "8867459641964122050",
              "sync": true,
              "value": 5
             }
            },
            "systemjs_options": null
           },
           "nodeType": "Scope",
           "props": {},
           "type": "node"
          }
         ],
         "instanceArgs": {
          "namespace": "html",
          "tag": "div"
         },
         "nodeType": "DOM",
         "props": {
          "className": "field interact-widget"
         },
         "type": "node"
        },
        {
         "children": [
          {
           "children": [
            {
             "children": [
              {
               "children": [
                {
                 "children": [
                  "ex_i"
                 ],
                 "instanceArgs": {
                  "namespace": "html",
                  "tag": "label"
                 },
                 "nodeType": "DOM",
                 "props": {
                  "className": "interact ",
                  "style": {
                   "padding": "5px 10px 0px 10px"
                  }
                 },
                 "type": "node"
                }
               ],
               "instanceArgs": {
                "namespace": "html",
                "tag": "div"
               },
               "nodeType": "DOM",
               "props": {
                "className": "interact-flex-row-left"
               },
               "type": "node"
              },
              {
               "children": [
                {
                 "children": [],
                 "instanceArgs": {
                  "namespace": "html",
                  "tag": "input"
                 },
                 "nodeType": "DOM",
                 "props": {
                  "attributes": {
                   "data-bind": "numericValue: index, valueUpdate: 'input', event: {change: function (){this.changes(this.changes()+1)}}",
                   "orient": "horizontal",
                   "type": "range"
                  },
                  "className": "slider slider is-fullwidth",
                  "max": 7,
                  "min": 1,
                  "step": 1,
                  "style": {}
                 },
                 "type": "node"
                }
               ],
               "instanceArgs": {
                "namespace": "html",
                "tag": "div"
               },
               "nodeType": "DOM",
               "props": {
                "className": "interact-flex-row-center"
               },
               "type": "node"
              },
              {
               "children": [
                {
                 "children": [],
                 "instanceArgs": {
                  "namespace": "html",
                  "tag": "p"
                 },
                 "nodeType": "DOM",
                 "props": {
                  "attributes": {
                   "data-bind": "text: formatted_val"
                  }
                 },
                 "type": "node"
                }
               ],
               "instanceArgs": {
                "namespace": "html",
                "tag": "div"
               },
               "nodeType": "DOM",
               "props": {
                "className": "interact-flex-row-right"
               },
               "type": "node"
              }
             ],
             "instanceArgs": {
              "namespace": "html",
              "tag": "div"
             },
             "nodeType": "DOM",
             "props": {
              "className": "interact-flex-row interact-widget"
             },
             "type": "node"
            }
           ],
           "instanceArgs": {
            "handlers": {
             "changes": [
              "(function (val){return (val!=this.model[\"changes\"]()) ? (this.valueFromJulia[\"changes\"]=true, this.model[\"changes\"](val)) : undefined})"
             ],
             "index": [
              "(function (val){return (val!=this.model[\"index\"]()) ? (this.valueFromJulia[\"index\"]=true, this.model[\"index\"](val)) : undefined})"
             ]
            },
            "id": "15710112560833522536",
            "imports": {
             "data": [
              {
               "name": "knockout",
               "type": "js",
               "url": "/assetserver/aa767470ed3fb2fdc226b1798340a340ee166b2a-knockout.js"
              },
              {
               "name": "knockout_punches",
               "type": "js",
               "url": "/assetserver/e8fb3dc53556d31ce61caa9a9c7ddd80d27fc9d0-knockout_punches.js"
              },
              {
               "name": null,
               "type": "js",
               "url": "/assetserver/71fa1c1cc32d1bdda427a7ab2531f6129776e895-all.js"
              },
              {
               "name": null,
               "type": "css",
               "url": "/assetserver/2602973166a381dc3e60050f85dd07ec0cc87799-style.css"
              },
              {
               "name": null,
               "type": "css",
               "url": "/assetserver/bc33dca115ce9467eafc9b218c3bae68216c3008-bulma_confined.min.css"
              }
             ],
             "type": "async_block"
            },
            "mount_callbacks": [
             "function () {\n    var handler = (function (ko, koPunches) {\n    ko.punches.enableAll();\n    ko.bindingHandlers.numericValue = {\n        init: function(element, valueAccessor, allBindings, data, context) {\n            var stringified = ko.observable(ko.unwrap(valueAccessor()));\n            stringified.subscribe(function(value) {\n                var val = parseFloat(value);\n                if (!isNaN(val)) {\n                    valueAccessor()(val);\n                }\n            });\n            valueAccessor().subscribe(function(value) {\n                var str = JSON.stringify(value);\n                if ((str == \"0\") && ([\"-0\", \"-0.\"].indexOf(stringified()) >= 0))\n                     return;\n                 if ([\"null\", \"\"].indexOf(str) >= 0)\n                     return;\n                stringified(str);\n            });\n            ko.applyBindingsToNode(\n                element,\n                {\n                    value: stringified,\n                    valueUpdate: allBindings.get('valueUpdate'),\n                },\n                context,\n            );\n        }\n    };\n    var json_data = {\"formatted_vals\":[\"1.0e-7\",\"1.0e-6\",\"1.0e-5\",\"0.0001\",\"0.001\",\"0.01\",\"0.1\"],\"changes\":WebIO.getval({\"name\":\"changes\",\"scope\":\"15710112560833522536\",\"id\":\"17734304560880871224\",\"type\":\"observable\"}),\"index\":WebIO.getval({\"name\":\"index\",\"scope\":\"15710112560833522536\",\"id\":\"11727787307810741069\",\"type\":\"observable\"})};\n    var self = this;\n    function AppViewModel() {\n        for (var key in json_data) {\n            var el = json_data[key];\n            this[key] = Array.isArray(el) ? ko.observableArray(el) : ko.observable(el);\n        }\n        \n        [this[\"formatted_val\"]=ko.computed(    function(){\n        return this.formatted_vals()[parseInt(this.index())-(1)];\n    }\n,this)]\n        [this[\"changes\"].subscribe((function (val){!(this.valueFromJulia[\"changes\"]) ? (WebIO.setval({\"name\":\"changes\",\"scope\":\"15710112560833522536\",\"id\":\"17734304560880871224\",\"type\":\"observable\"},val)) : undefined; return this.valueFromJulia[\"changes\"]=false}),self),this[\"index\"].subscribe((function (val){!(this.valueFromJulia[\"index\"]) ? (WebIO.setval({\"name\":\"index\",\"scope\":\"15710112560833522536\",\"id\":\"11727787307810741069\",\"type\":\"observable\"},val)) : undefined; return this.valueFromJulia[\"index\"]=false}),self)]\n        \n    }\n    self.model = new AppViewModel();\n    self.valueFromJulia = {};\n    for (var key in json_data) {\n        self.valueFromJulia[key] = false;\n    }\n    ko.applyBindings(self.model, self.dom);\n}\n);\n    (WebIO.importBlock({\"data\":[{\"name\":\"knockout\",\"type\":\"js\",\"url\":\"/assetserver/aa767470ed3fb2fdc226b1798340a340ee166b2a-knockout.js\"},{\"name\":\"knockout_punches\",\"type\":\"js\",\"url\":\"/assetserver/e8fb3dc53556d31ce61caa9a9c7ddd80d27fc9d0-knockout_punches.js\"}],\"type\":\"async_block\"})).then((imports) => handler.apply(this, imports));\n}\n"
            ],
            "observables": {
             "changes": {
              "id": "17734304560880871224",
              "sync": false,
              "value": 0
             },
             "index": {
              "id": "11727787307810741069",
              "sync": true,
              "value": 4
             }
            },
            "systemjs_options": null
           },
           "nodeType": "Scope",
           "props": {},
           "type": "node"
          }
         ],
         "instanceArgs": {
          "namespace": "html",
          "tag": "div"
         },
         "nodeType": "DOM",
         "props": {
          "className": "field interact-widget"
         },
         "type": "node"
        },
        {
         "children": [
          {
           "children": [],
           "instanceArgs": {
            "id": "2394102789006804434",
            "name": "obs-node"
           },
           "nodeType": "ObservableNode",
           "props": {},
           "type": "node"
          }
         ],
         "instanceArgs": {
          "handlers": {},
          "id": "2134862080295232056",
          "imports": {
           "data": [],
           "type": "async_block"
          },
          "mount_callbacks": [],
          "observables": {
           "obs-node": {
            "id": "2394102789006804434",
            "sync": false,
            "value": {
             "children": [
              {
               "children": [],
               "instanceArgs": {
                "namespace": "html",
                "tag": "div"
               },
               "nodeType": "DOM",
               "props": {
                "setInnerHtml": "<!DOCTYPE html>\n<html>\n    <head>\n        <title>Plots.jl</title>\n        <meta http-equiv=\"content-type\" content=\"text/html; charset=UTF-8\">\n        <script src=\"https://cdn.plot.ly/plotly-1.54.2.min.js\"></script>\n    </head>\n    <body>\n            <div id=\"f8d6bc95-d085-403d-8dad-afc85171bb16\" style=\"width:600px;height:400px;\"></div>\n    <script>\n    PLOT = document.getElementById('f8d6bc95-d085-403d-8dad-afc85171bb16');\n    Plotly.plot(PLOT, [\n    {\n        \"xaxis\": \"x1\",\n        \"colorbar\": {\n            \"title\": \"\"\n        },\n        \"yaxis\": \"y1\",\n        \"x\": [\n            1,\n            2,\n            3,\n            4,\n            5,\n            6,\n            7,\n            8,\n            9,\n            10,\n            11,\n            12,\n            13,\n            14,\n            15,\n            16,\n            17,\n            18,\n            19,\n            20,\n            21,\n            22,\n            23,\n            24,\n            25,\n            26,\n            27,\n            28,\n            29,\n            30,\n            31,\n            32,\n            33,\n            34,\n            35,\n            36,\n            37,\n            38,\n            39,\n            40,\n            41,\n            42,\n            43,\n            44,\n            45,\n            46,\n            47,\n            48,\n            49,\n            50,\n            51,\n            52,\n            53,\n            54,\n            55,\n            56,\n            57,\n            58,\n            59,\n            60,\n            61,\n            62,\n            63,\n            64,\n            65,\n            66,\n            67,\n            68,\n            69,\n            70,\n            71,\n            72,\n            73,\n            74,\n            75,\n            76,\n            77,\n            78,\n            79,\n            80,\n            81,\n            82,\n            83,\n            84,\n            85,\n            86,\n            87,\n            88,\n            89,\n            90,\n            91,\n            92,\n            93,\n            94,\n            95,\n            96,\n            97,\n            98,\n            99,\n            100,\n            101\n        ],\n        \"showlegend\": true,\n        \"mode\": \"lines\",\n        \"name\": \"group 1 infections\",\n        \"zmin\": null,\n        \"legendgroup\": \"group 1 infections\",\n        \"zmax\": null,\n        \"line\": {\n            \"color\": \"rgba(0, 0, 255, 1.000)\",\n            \"shape\": \"linear\",\n            \"dash\": \"dot\",\n            \"width\": 1\n        },\n        \"y\": [\n            0.0,\n            0.0001,\n            0.00017998950000000004,\n            0.00024566502943893615,\n            0.0003043179733635315,\n            0.00037046376753035364,\n            0.00047860608133356506,\n            0.0006911133095232828,\n            0.0010444912804890066,\n            0.0015011531206166248,\n            0.00200504664534906,\n            0.0025113119913932613,\n            0.0029888431905149126,\n            0.003418110016348026,\n            0.0037884697068205067,\n            0.004095740518289258,\n            0.0043402083727890365,\n            0.004525073357433888,\n            0.004655285492187422,\n            0.004736701960819912,\n            0.004775498303768637,\n            0.004777773740145088,\n            0.004749300836828516,\n            0.004695379769397069,\n            0.004620766362702146,\n            0.004529650597174326,\n            0.0044256683076208505,\n            0.004311933529918488,\n            0.004191082570782975,\n            0.0040653235958281984,\n            0.003936487542021522,\n            0.0038060776248282414,\n            0.0036753157603096635,\n            0.0035451849629500824,\n            0.0034164672919792037,\n            0.003289777263922864,\n            0.0031655908732199627,\n            0.003044270500361122,\n            0.002926086063586987,\n            0.0028112328044917487,\n            0.002699846103666253,\n            0.002592013709795374,\n            0.002487785741597165,\n            0.002387182791749486,\n            0.002290202429007769,\n            0.0021968243614178306,\n            0.002107014491354433,\n            0.002020728062938889,\n            0.0019379120746498466,\n            0.0018585071047990264,\n            0.0017824486749797152,\n            0.0017096682564919142,\n            0.0016400940069387332,\n            0.001573651308495121,\n            0.0015102631655993183,\n            0.0014498505078509093,\n            0.0013923324335742228,\n            0.0013376264206925793,\n            0.0012856485241368107,\n            0.0012363135728642991,\n            0.0011895353745769864,\n            0.001145226932281784,\n            0.00110330067381622,\n            0.0010636686932470173,\n            0.0010262430015216836,\n            0.000990935782798844,\n            0.0009576596523936557,\n            0.0009263279121502721,\n            0.0008968547992040428,\n            0.0008691557244432743,\n            0.000843147497456948,\n            0.0008187485353055243,\n            0.0007958790530326798,\n            0.0007744612344125402,\n            0.0007544193819747887,\n            0.0007356800458517487,\n            0.0007181721314364675,\n            0.0007018269862234313,\n            0.0006865784665223174,\n            0.0006723629849916434,\n            0.0006591195401369238,\n            0.000646789729061999,\n            0.0006353177448583915,\n            0.0006246503600720332,\n            0.0006147368977056819,\n            0.0006055291912047757,\n            0.0005969815348399115,\n            0.0005890506258456585,\n            0.0005816954996075487,\n            0.0005748774591107839,\n            0.0005685599997788779,\n            0.0005627087307409766,\n            0.0005572912934753795,\n            0.0005522772786857685,\n            0.0005476381421773862,\n            0.0005433471204141264,\n            0.0005393791463550969,\n            0.0005357107660913814,\n            0.0005323200567308712,\n            0.0005291865459114639,\n            0.000526291133260734\n        ],\n        \"type\": \"scatter\"\n    },\n    {\n        \"xaxis\": \"x1\",\n        \"colorbar\": {\n            \"title\": \"\"\n        },\n        \"yaxis\": \"y1\",\n        \"x\": [\n            1,\n            2,\n            3,\n            4,\n            5,\n            6,\n            7,\n            8,\n            9,\n            10,\n            11,\n            12,\n            13,\n            14,\n            15,\n            16,\n            17,\n            18,\n            19,\n            20,\n            21,\n            22,\n            23,\n            24,\n            25,\n            26,\n            27,\n            28,\n            29,\n            30,\n            31,\n            32,\n            33,\n            34,\n            35,\n            36,\n            37,\n            38,\n            39,\n            40,\n            41,\n            42,\n            43,\n            44,\n            45,\n            46,\n            47,\n            48,\n            49,\n            50,\n            51,\n            52,\n            53,\n            54,\n            55,\n            56,\n            57,\n            58,\n            59,\n            60,\n            61,\n            62,\n            63,\n            64,\n            65,\n            66,\n            67,\n            68,\n            69,\n            70,\n            71,\n            72,\n            73,\n            74,\n            75,\n            76,\n            77,\n            78,\n            79,\n            80,\n            81,\n            82,\n            83,\n            84,\n            85,\n            86,\n            87,\n            88,\n            89,\n            90,\n            91,\n            92,\n            93,\n            94,\n            95,\n            96,\n            97,\n            98,\n            99,\n            100,\n            101\n        ],\n        \"showlegend\": true,\n        \"mode\": \"lines\",\n        \"name\": \"group 2 infections\",\n        \"zmin\": null,\n        \"legendgroup\": \"group 2 infections\",\n        \"zmax\": null,\n        \"line\": {\n            \"color\": \"rgba(0, 128, 0, 1.000)\",\n            \"shape\": \"linear\",\n            \"dash\": \"dot\",\n            \"width\": 1\n        },\n        \"y\": [\n            0.0,\n            0.0001,\n            0.0001949662724592741,\n            0.0002922457907166598,\n            0.00041463370526907944,\n            0.000630955772786247,\n            0.0011203355301317667,\n            0.0021727636721705183,\n            0.00385083757879882,\n            0.005859120109431644,\n            0.007910587195523351,\n            0.00983159954218319,\n            0.011533453359096496,\n            0.012980466120150195,\n            0.014168128258519992,\n            0.015109256073947131,\n            0.015825455343732767,\n            0.016341969582444823,\n            0.016684655372428112,\n            0.016878283431874294,\n            0.01694565820305098,\n            0.016907235450326033,\n            0.016781035656495098,\n            0.016582726151183384,\n            0.016325792784209835,\n            0.016021752508175693,\n            0.01568037770105866,\n            0.015309915395925819,\n            0.014917292320919607,\n            0.014508301422109661,\n            0.014087768407391052,\n            0.01365969850538746,\n            0.013227404532163846,\n            0.012793617794112764,\n            0.012360583515748359,\n            0.011930142484685264,\n            0.011503800525591827,\n            0.011082787293939696,\n            0.010668105744152752,\n            0.01026057348934525,\n            0.009860857138672702,\n            0.00946950057701804,\n            0.009086948041751058,\n            0.008713562752851619,\n            0.008349641765293576,\n            0.007995427635349217,\n            0.007651117424261621,\n            0.007316869502298968,\n            0.006992808562289782,\n            0.006679029203149979,\n            0.006375598399595846,\n            0.006082557133328311,\n            0.005799921422829028,\n            0.005527682953112571,\n            0.005265809473131468,\n            0.005014245097010967,\n            0.004772910616012641,\n            0.00454170390128527,\n            0.004320500453279818,\n            0.004109154132385533,\n            0.003907498087032059,\n            0.0037153458802618626,\n            0.003532492803579608,\n            0.0033587173576079127,\n            0.0031937828725181307,\n            0.003037439237087355,\n            0.0028894247032409445,\n            0.002749467732728948,\n            0.0026172888538047168,\n            0.00249260249808504,\n            0.0023751187908595452,\n            0.0022645452717011873,\n            0.0021605885260685704,\n            0.002062955712485681,\n            0.001971355973676716,\n            0.0018855017236052202,\n            0.0018051098056334042,\n            0.0017299025199264853,\n            0.0016596085207501552,\n            0.0015939635864402764,\n            0.0015327112665701511,\n            0.0014756034122239197,\n            0.0014224005963320546,\n            0.0013728724317699735,\n            0.0013267977954002682,\n            0.0012839649664880468,\n            0.0012441716879743876,\n            0.0012072251589876112,\n            0.0011729419667380991,\n            0.0011411479656076194,\n            0.0011116781108334245,\n            0.001084376253723289,\n            0.001059094904838517,\n            0.0010356949710634382,\n            0.0010140454719557907,\n            0.0009940232402522928,\n            0.0009755126108973807,\n            0.0009584051024751547,\n            0.0009425990944621403,\n            0.0009279995032826254,\n            0.000914517459742915\n        ],\n        \"type\": \"scatter\"\n    },\n    {\n        \"xaxis\": \"x1\",\n        \"colorbar\": {\n            \"title\": \"\"\n        },\n        \"yaxis\": \"y1\",\n        \"x\": [\n            1,\n            2,\n            3,\n            4,\n            5,\n            6,\n            7,\n            8,\n            9,\n            10,\n            11,\n            12,\n            13,\n            14,\n            15,\n            16,\n            17,\n            18,\n            19,\n            20,\n            21,\n            22,\n            23,\n            24,\n            25,\n            26,\n            27,\n            28,\n            29,\n            30,\n            31,\n            32,\n            33,\n            34,\n            35,\n            36,\n            37,\n            38,\n            39,\n            40,\n            41,\n            42,\n            43,\n            44,\n            45,\n            46,\n            47,\n            48,\n            49,\n            50,\n            51,\n            52,\n            53,\n            54,\n            55,\n            56,\n            57,\n            58,\n            59,\n            60,\n            61,\n            62,\n            63,\n            64,\n            65,\n            66,\n            67,\n            68,\n            69,\n            70,\n            71,\n            72,\n            73,\n            74,\n            75,\n            76,\n            77,\n            78,\n            79,\n            80,\n            81,\n            82,\n            83,\n            84,\n            85,\n            86,\n            87,\n            88,\n            89,\n            90,\n            91,\n            92,\n            93,\n            94,\n            95,\n            96,\n            97,\n            98,\n            99,\n            100,\n            101\n        ],\n        \"showlegend\": true,\n        \"mode\": \"lines\",\n        \"name\": \"group 3 infections\",\n        \"zmin\": null,\n        \"legendgroup\": \"group 3 infections\",\n        \"zmax\": null,\n        \"line\": {\n            \"color\": \"rgba(255, 0, 0, 1.000)\",\n            \"shape\": \"linear\",\n            \"dash\": \"dot\",\n            \"width\": 1\n        },\n        \"y\": [\n            0.0,\n            0.0001,\n            0.00044432981246092176,\n            0.0015775338456428477,\n            0.0051670168953121915,\n            0.015538236546436171,\n            0.0389674194539195,\n            0.07172001673401222,\n            0.10036017141103314,\n            0.12095118736373708,\n            0.13458606104202087,\n            0.14281026929594332,\n            0.14693774580592883,\n            0.14801123766960692,\n            0.14684216880410106,\n            0.14405589536854946,\n            0.14013105074467314,\n            0.13543168820030724,\n            0.13023291402857856,\n            0.1247410788895331,\n            0.11910956672883058,\n            0.11345108443690122,\n            0.10784720026354118,\n            0.10235573446404743,\n            0.09701648087624468,\n            0.09185563457228688,\n            0.08688921693067317,\n            0.0821257229599297,\n            0.07756816377115709,\n            0.0732156371191604,\n            0.06906452850585985,\n            0.06510942234775612,\n            0.0613437853613545,\n            0.05776047116721111,\n            0.05435208503236589,\n            0.05111123983037829,\n            0.04803072810440812,\n            0.045103630159969134,\n            0.042323374107373,\n            0.039683760522568855,\n            0.037178961756183695,\n            0.03480350378410596,\n            0.03255223676928626,\n            0.030420299117652764,\n            0.028403078696054414,\n            0.026496173981618805,\n            0.02469535718394597,\n            0.022996540787400425,\n            0.02139574847220791,\n            0.019889090969493102,\n            0.018472747072493828,\n            0.01714294975446897,\n            0.015895977127117628,\n            0.014728147807417057,\n            0.013635820142211767,\n            0.012615394665113314,\n            0.011663319125168825,\n            0.010776095426389916,\n            0.009950287845913598,\n            0.009182531950092108,\n            0.008469543695805971,\n            0.00780812828258829,\n            0.007195188404091551,\n            0.006627731630161209,\n            0.006102876729390099,\n            0.005617858813610615,\n            0.0051700332484170015,\n            0.004756878326469974,\n            0.004375996742745779,\n            0.004025115943374456,\n            0.0037020874430229844,\n            0.0034048852209572233,\n            0.0031316033141515383,\n            0.0028804527283436366,\n            0.00264975778595311,\n            0.0024379520244067676,\n            0.002243573750625594,\n            0.0020652613480692046,\n            0.0019017484224993825,\n            0.0017518588620702151,\n            0.0016145018769050297,\n            0.001488667073293248,\n            0.0013734196082512938,\n            0.0012678954615792729,\n            0.0011712968547841812,\n            0.0010828878393583862,\n            0.001001990070887221,\n            0.0009279787802780137,\n            0.0008602789489986962,\n            0.0007983616915250355,\n            0.0007417408451509074,\n            0.0006899697648440103,\n            0.0006426383188619326,\n            0.0005993700793116206,\n            0.0005598197006791173,\n            0.0005236704785174225,\n            0.0004906320799091595,\n            0.0004604384369700071,\n            0.00043284579449077076,\n            0.0004076309027940734,\n            0.0003845893469769096\n        ],\n        \"type\": \"scatter\"\n    },\n    {\n        \"xaxis\": \"x1\",\n        \"colorbar\": {\n            \"title\": \"\"\n        },\n        \"yaxis\": \"y1\",\n        \"x\": [\n            1,\n            2,\n            3,\n            4,\n            5,\n            6,\n            7,\n            8,\n            9,\n            10,\n            11,\n            12,\n            13,\n            14,\n            15,\n            16,\n            17,\n            18,\n            19,\n            20,\n            21,\n            22,\n            23,\n            24,\n            25,\n            26,\n            27,\n            28,\n            29,\n            30,\n            31,\n            32,\n            33,\n            34,\n            35,\n            36,\n            37,\n            38,\n            39,\n            40,\n            41,\n            42,\n            43,\n            44,\n            45,\n            46,\n            47,\n            48,\n            49,\n            50,\n            51,\n            52,\n            53,\n            54,\n            55,\n            56,\n            57,\n            58,\n            59,\n            60,\n            61,\n            62,\n            63,\n            64,\n            65,\n            66,\n            67,\n            68,\n            69,\n            70,\n            71,\n            72,\n            73,\n            74,\n            75,\n            76,\n            77,\n            78,\n            79,\n            80,\n            81,\n            82,\n            83,\n            84,\n            85,\n            86,\n            87,\n            88,\n            89,\n            90,\n            91,\n            92,\n            93,\n            94,\n            95,\n            96,\n            97,\n            98,\n            99,\n            100,\n            101\n        ],\n        \"showlegend\": true,\n        \"mode\": \"lines+markers\",\n        \"name\": \"total infections\",\n        \"zmin\": null,\n        \"legendgroup\": \"total infections\",\n        \"marker\": {\n            \"symbol\": \"circle\",\n            \"color\": \"rgba(0, 0, 0, 1.000)\",\n            \"line\": {\n                \"color\": \"rgba(0, 0, 0, 1.000)\",\n                \"width\": 1\n            },\n            \"size\": 8\n        },\n        \"zmax\": null,\n        \"line\": {\n            \"color\": \"rgba(0, 0, 0, 1.000)\",\n            \"shape\": \"linear\",\n            \"dash\": \"dot\",\n            \"width\": 1\n        },\n        \"y\": [\n            0.0,\n            0.0001,\n            0.00021391191747572927,\n            0.0004021422916981891,\n            0.0008457457315111715,\n            0.0020174870480488822,\n            0.00464835214299126,\n            0.008534828833295795,\n            0.012379232442698326,\n            0.01562514003933618,\n            0.01821591836010339,\n            0.020201351497243232,\n            0.021656038536347098,\n            0.022658600833575,\n            0.023283668892398305,\n            0.023598513781144213,\n            0.023661916095449313,\n            0.023524182954226692,\n            0.023227733285946885,\n            0.022807930389218425,\n            0.022293985095916007,\n            0.021709835664911175,\n            0.021074958189333075,\n            0.020405088429755264,\n            0.019712851024810244,\n            0.019008299950186262,\n            0.01829937786664499,\n            0.017592303405923278,\n            0.016891895565888704,\n            0.01620184386130215,\n            0.01552493207109012,\n            0.01486322253740064,\n            0.014218207106341238,\n            0.013590929998957526,\n            0.01298208717790245,\n            0.012392106130949607,\n            0.011821209422524712,\n            0.01126946486311121,\n            0.010736824708248471,\n            0.01022315591872621,\n            0.009728263186421223,\n            0.009251906150837767,\n            0.008793811994443021,\n            0.00835368440489088,\n            0.007931209723855338,\n            0.0075260609604036206,\n            0.007137900227067182,\n            0.006766380055065082,\n            0.0064111439582256215,\n            0.006071826540443911,\n            0.005748053377039192,\n            0.005439440844707818,\n            0.00514559602690177,\n            0.00486611678069604,\n            0.004600592017026638,\n            0.004348602218157178,\n            0.004109720193952893,\n            0.0038835120615586583,\n            0.0036695384208859927,\n            0.0034673556903476975,\n            0.0032765175629274213,\n            0.0030965765413024744,\n            0.0029270855117254474,\n            0.002767599319118884,\n            0.0026176763098067486,\n            0.0024768798130242768,\n            0.002344779537419635,\n            0.0022209528638715806,\n            0.0021049860208585533,\n            0.0019964751331572753,\n            0.0018950271387148505,\n            0.001800260572068526,\n            0.001711806215662511,\n            0.0016293076228422203,\n            0.0015524215182235845,\n            0.0014808180825839864,\n            0.0014141811304538485,\n            0.0013522081892595357,\n            0.0012946104892339427,\n            0.0012411128734238172,\n            0.001191453637030348,\n            0.0011453843050660843,\n            0.0011026693569345133,\n            0.0010630859060717273,\n            0.001026423342260825,\n            0.0009924829436617722,\n            0.0009610774650118805,\n            0.0009320307078598705,\n            0.0009051770781119386,\n            0.0008803611356006268,\n            0.0008574371398433542,\n            0.0008362685956424362,\n            0.0008167278016956036,\n            0.0007986954049371886,\n            0.0007820599629167616,\n            0.0007667175161435391,\n            0.0007525711719816451,\n            0.0007395307013711306,\n            0.0007275121493724956,\n            0.0007164374602853056,\n            0.000706234117873442\n        ],\n        \"type\": \"scatter\"\n    },\n    {\n        \"xaxis\": \"x1\",\n        \"colorbar\": {\n            \"title\": \"\"\n        },\n        \"yaxis\": \"y1\",\n        \"x\": [\n            1,\n            2,\n            3,\n            4,\n            5,\n            6,\n            7,\n            8,\n            9,\n            10,\n            11,\n            12,\n            13,\n            14,\n            15,\n            16,\n            17,\n            18,\n            19,\n            20,\n            21,\n            22,\n            23,\n            24,\n            25,\n            26,\n            27,\n            28,\n            29,\n            30,\n            31,\n            32,\n            33,\n            34,\n            35,\n            36,\n            37,\n            38,\n            39,\n            40,\n            41,\n            42,\n            43,\n            44,\n            45,\n            46,\n            47,\n            48,\n            49,\n            50,\n            51,\n            52,\n            53,\n            54,\n            55,\n            56,\n            57,\n            58,\n            59,\n            60,\n            61,\n            62,\n            63,\n            64,\n            65,\n            66,\n            67,\n            68,\n            69,\n            70,\n            71,\n            72,\n            73,\n            74,\n            75,\n            76,\n            77,\n            78,\n            79,\n            80,\n            81,\n            82,\n            83,\n            84,\n            85,\n            86,\n            87,\n            88,\n            89,\n            90,\n            91,\n            92,\n            93,\n            94,\n            95,\n            96,\n            97,\n            98,\n            99,\n            100,\n            101\n        ],\n        \"showlegend\": true,\n        \"mode\": \"lines\",\n        \"name\": \"group 1 recovered\",\n        \"zmin\": null,\n        \"legendgroup\": \"group 1 recovered\",\n        \"zmax\": null,\n        \"line\": {\n            \"color\": \"rgba(0, 0, 255, 1.000)\",\n            \"shape\": \"linear\",\n            \"dash\": \"solid\",\n            \"width\": 1\n        },\n        \"y\": [\n            0.0,\n            0.0,\n            2.5e-5,\n            6.9997375e-5,\n            0.00013141363235973406,\n            0.00020749312570061693,\n            0.0003001090675832053,\n            0.00041976058791659657,\n            0.0005925389152974173,\n            0.0008536617354196689,\n            0.0012289500155738251,\n            0.0017302116769110903,\n            0.0023580396747594056,\n            0.0031052504723881338,\n            0.003959777976475141,\n            0.0049068954031802675,\n            0.005930830532752582,\n            0.007015882625949842,\n            0.008147150965308313,\n            0.00931097233835517,\n            0.010495147828560147,\n            0.011689022404502307,\n            0.01288346583953858,\n            0.014070791048745708,\n            0.015244635991094975,\n            0.016399827581770512,\n            0.017532240231064092,\n            0.018638657307969306,\n            0.019716640690448928,\n            0.02076441133314467,\n            0.021780742232101722,\n            0.022764864117607104,\n            0.023716383523814163,\n            0.024635212463891578,\n            0.0255215087046291,\n            0.0263756255276239,\n            0.027198069843604615,\n            0.027989467561909606,\n            0.028750535186999885,\n            0.029482056702896633,\n            0.03018486490401957,\n            0.030859826429936132,\n            0.03150782985738498,\n            0.03212977629278427,\n            0.03272657199072164,\n            0.03329912259797358,\n            0.03384832868832804,\n            0.03437508231116664,\n            0.03488026432690136,\n            0.035364742345563825,\n            0.035829369121763585,\n            0.03627498129050851,\n            0.03670239835463149,\n            0.03711242185636617,\n            0.037505834683489954,\n            0.037883400474889785,\n            0.03824586310185251,\n            0.03859394621024607,\n            0.03892835281541921,\n            0.039249764946453415,\n            0.03955884333966949,\n            0.03985622718331374,\n            0.040142533916384185,\n            0.04041835908483824,\n            0.04068427625814999,\n            0.04094083700853041,\n            0.041188570954230126,\n            0.04142798586732854,\n            0.04165956784536611,\n            0.04188378154516712,\n            0.04210107047627794,\n            0.042311857350642176,\n            0.04251654448446856,\n            0.04271551424772673,\n            0.04290912955632987,\n            0.043097734401823566,\n            0.043281654413286505,\n            0.04346119744614562,\n            0.04363665419270148,\n            0.043808298809332055,\n            0.04397638955557997,\n            0.0441411694406142,\n            0.044302866872879695,\n            0.044461696309094294,\n            0.0446178588991123,\n            0.044771543123538725,\n            0.04492292542133992,\n            0.045072170805049896,\n            0.04521943346151131,\n            0.0453648573364132,\n            0.04550857670119089,\n            0.04565071670113561,\n            0.04579139388382085,\n            0.04593071670718969,\n            0.04606878602686113,\n            0.04620569556240548,\n            0.04634153234250901,\n            0.04647637712909779,\n            0.04661030482062063,\n            0.04674338483480335,\n            0.04687568147128122\n        ],\n        \"type\": \"scatter\"\n    },\n    {\n        \"xaxis\": \"x1\",\n        \"colorbar\": {\n            \"title\": \"\"\n        },\n        \"yaxis\": \"y1\",\n        \"x\": [\n            1,\n            2,\n            3,\n            4,\n            5,\n            6,\n            7,\n            8,\n            9,\n            10,\n            11,\n            12,\n            13,\n            14,\n            15,\n            16,\n            17,\n            18,\n            19,\n            20,\n            21,\n            22,\n            23,\n            24,\n            25,\n            26,\n            27,\n            28,\n            29,\n            30,\n            31,\n            32,\n            33,\n            34,\n            35,\n            36,\n            37,\n            38,\n            39,\n            40,\n            41,\n            42,\n            43,\n            44,\n            45,\n            46,\n            47,\n            48,\n            49,\n            50,\n            51,\n            52,\n            53,\n            54,\n            55,\n            56,\n            57,\n            58,\n            59,\n            60,\n            61,\n            62,\n            63,\n            64,\n            65,\n            66,\n            67,\n            68,\n            69,\n            70,\n            71,\n            72,\n            73,\n            74,\n            75,\n            76,\n            77,\n            78,\n            79,\n            80,\n            81,\n            82,\n            83,\n            84,\n            85,\n            86,\n            87,\n            88,\n            89,\n            90,\n            91,\n            92,\n            93,\n            94,\n            95,\n            96,\n            97,\n            98,\n            99,\n            100,\n            101\n        ],\n        \"showlegend\": true,\n        \"mode\": \"lines\",\n        \"name\": \"group 2 recovered\",\n        \"zmin\": null,\n        \"legendgroup\": \"group 2 recovered\",\n        \"zmax\": null,\n        \"line\": {\n            \"color\": \"rgba(0, 128, 0, 1.000)\",\n            \"shape\": \"linear\",\n            \"dash\": \"solid\",\n            \"width\": 1\n        },\n        \"y\": [\n            0.0,\n            0.0,\n            2.5e-5,\n            7.374156811481853e-5,\n            0.00014680301579398348,\n            0.0002504614421112533,\n            0.00040820038530781506,\n            0.0006882842678407567,\n            0.0012314751858833863,\n            0.002194184580583091,\n            0.003658964607941002,\n            0.00563661140682184,\n            0.008094511292367637,\n            0.010977874632141761,\n            0.014222991162179309,\n            0.017765023226809305,\n            0.021542337245296087,\n            0.02549870108122928,\n            0.029584193476840485,\n            0.03375535731994751,\n            0.03797492817791609,\n            0.04221134272867884,\n            0.04643815159126034,\n            0.05063341050538412,\n            0.05477909204317997,\n            0.05886054023923243,\n            0.06286597836627635,\n            0.06678607279154102,\n            0.07061355164052247,\n            0.07434287472075236,\n            0.07796995007627978,\n            0.08149189217812755,\n            0.08490681680447441,\n            0.08821366793751538,\n            0.09141207238604357,\n            0.09450221826498066,\n            0.09748475388615198,\n            0.10036070401754993,\n            0.10313140084103485,\n            0.10579842727707305,\n            0.10836357064940935,\n            0.11082878493407752,\n            0.11319616007833204,\n            0.11546789708876981,\n            0.11764628777698272,\n            0.11973369821830611,\n            0.12173255512714341,\n            0.12364533448320882,\n            0.12547455185878356,\n            0.127222753999356,\n            0.1288925113001435,\n            0.13048641090004248,\n            0.13200705018337455,\n            0.1334570305390818,\n            0.13483895127735995,\n            0.13615540364564283,\n            0.13740896491989557,\n            0.13860219257389872,\n            0.13973761854922004,\n            0.14081774366254,\n            0.14184503219563638,\n            0.1428219067173944,\n            0.14375074318745987,\n            0.14463386638835476,\n            0.14547354572775675,\n            0.1462719914458863,\n            0.14703135125515812,\n            0.14775370743096836,\n            0.1484410743641506,\n            0.1490953965776018,\n            0.14971854720212305,\n            0.15031232689983792,\n            0.15087846321776321,\n            0.15141861034928036,\n            0.1519343492774018,\n            0.15242718827082097,\n            0.15289856370172228,\n            0.15334984115313063,\n            0.15378231678311224,\n            0.1541972189132998,\n            0.15459570980990986,\n            0.1549788876265524,\n            0.1553477884796084,\n            0.1557033886286914,\n            0.1560466067366339,\n            0.15637830618548396,\n            0.15669929742710598,\n            0.15701034034909958,\n            0.1573121466388465,\n            0.15760538213053102,\n            0.15789066912193292,\n            0.15816858864964128,\n            0.1584396827130721,\n            0.15870445643928172,\n            0.1589633801820476,\n            0.15921689155003654,\n            0.15946539736009963,\n            0.15970927551282396,\n            0.15994887678844275,\n            0.16018452656205828,\n            0.16041652643787893\n        ],\n        \"type\": \"scatter\"\n    },\n    {\n        \"xaxis\": \"x1\",\n        \"colorbar\": {\n            \"title\": \"\"\n        },\n        \"yaxis\": \"y1\",\n        \"x\": [\n            1,\n            2,\n            3,\n            4,\n            5,\n            6,\n            7,\n            8,\n            9,\n            10,\n            11,\n            12,\n            13,\n            14,\n            15,\n            16,\n            17,\n            18,\n            19,\n            20,\n            21,\n            22,\n            23,\n            24,\n            25,\n            26,\n            27,\n            28,\n            29,\n            30,\n            31,\n            32,\n            33,\n            34,\n            35,\n            36,\n            37,\n            38,\n            39,\n            40,\n            41,\n            42,\n            43,\n            44,\n            45,\n            46,\n            47,\n            48,\n            49,\n            50,\n            51,\n            52,\n            53,\n            54,\n            55,\n            56,\n            57,\n            58,\n            59,\n            60,\n            61,\n            62,\n            63,\n            64,\n            65,\n            66,\n            67,\n            68,\n            69,\n            70,\n            71,\n            72,\n            73,\n            74,\n            75,\n            76,\n            77,\n            78,\n            79,\n            80,\n            81,\n            82,\n            83,\n            84,\n            85,\n            86,\n            87,\n            88,\n            89,\n            90,\n            91,\n            92,\n            93,\n            94,\n            95,\n            96,\n            97,\n            98,\n            99,\n            100,\n            101\n        ],\n        \"showlegend\": true,\n        \"mode\": \"lines\",\n        \"name\": \"group 3 recovered\",\n        \"zmin\": null,\n        \"legendgroup\": \"group 3 recovered\",\n        \"zmax\": null,\n        \"line\": {\n            \"color\": \"rgba(255, 0, 0, 1.000)\",\n            \"shape\": \"linear\",\n            \"dash\": \"solid\",\n            \"width\": 1\n        },\n        \"y\": [\n            0.0,\n            0.0,\n            2.5e-5,\n            0.00013608245311523044,\n            0.0005304659145259423,\n            0.0018222201383539902,\n            0.005706779274963033,\n            0.01544863413844291,\n            0.033378638321945965,\n            0.058468681174704246,\n            0.08870647801563852,\n            0.12235299327614374,\n            0.15805556060012957,\n            0.19478999705161176,\n            0.23179280646901348,\n            0.2685033486700388,\n            0.3045173225121761,\n            0.3395500851983444,\n            0.3734080072484212,\n            0.40596623575556584,\n            0.4371515054779491,\n            0.4669288971601568,\n            0.4952916682693821,\n            0.5222534683352674,\n            0.5478424019512793,\n            0.5720965221703405,\n            0.5950604308134122,\n            0.6167827350460805,\n            0.6373141657860629,\n            0.6567062067288522,\n            0.6750101160086422,\n            0.6922762481351072,\n            0.7085536037220462,\n            0.7238895500623849,\n            0.7383296678541876,\n            0.7519176891122791,\n            0.7646954990698737,\n            0.7767031810959757,\n            0.787979088635968,\n            0.7985599321628113,\n            0.8084808722934536,\n            0.8177756127324994,\n            0.826476488678526,\n            0.8346145478708475,\n            0.8422196226502607,\n            0.8493203923242744,\n            0.855944435819679,\n            0.8621182751156655,\n            0.8678674103125156,\n            0.8732163474305675,\n            0.8781886201729409,\n            0.8828068069410643,\n            0.8870925443796815,\n            0.8910665386614609,\n            0.8947485756133152,\n            0.8981575306488682,\n            0.9013113793151465,\n            0.9042272090964387,\n            0.9069212329530362,\n            0.9094088049145146,\n            0.9117044379020376,\n            0.9138218238259891,\n            0.9157738558966362,\n            0.9175726529976591,\n            0.9192295859051994,\n            0.920755305087547,\n            0.9221597697909496,\n            0.9234522781030539,\n            0.9246414976846713,\n            0.9257354968703577,\n            0.9267417758562013,\n            0.9276672977169571,\n            0.9285185190221964,\n            0.9293014198507343,\n            0.9300215330328202,\n            0.9306839724793085,\n            0.9312934604854102,\n            0.9318543539230666,\n            0.9323706692600839,\n            0.9328461063657087,\n            0.9332840710812264,\n            0.9336876965504526,\n            0.9340598633187759,\n            0.9344032182208387,\n            0.9347201920862336,\n            0.9350130162999296,\n            0.9352837382597692,\n            0.935534235777491,\n            0.9357662304725605,\n            0.9359813002098102,\n            0.9361808906326915,\n            0.9363663258439793,\n            0.9365388182851903,\n            0.9366994778649057,\n            0.9368493203847336,\n            0.9369892753099034,\n            0.9371201929295327,\n            0.93724285094951,\n            0.9373579605587525,\n            0.9374661720073753,\n            0.9375680797330738\n        ],\n        \"type\": \"scatter\"\n    }\n]\n, {\n    \"showlegend\": true,\n    \"xaxis\": {\n        \"showticklabels\": true,\n        \"gridwidth\": 0.5,\n        \"tickvals\": [\n            0.0,\n            25.0,\n            50.0,\n            75.0,\n            100.0\n        ],\n        \"visible\": true,\n        \"ticks\": \"inside\",\n        \"range\": [\n            -2.0,\n            104.0\n        ],\n        \"domain\": [\n            0.05100612423447069,\n            0.9934383202099737\n        ],\n        \"tickmode\": \"array\",\n        \"linecolor\": \"rgba(0, 0, 0, 1.000)\",\n        \"showgrid\": true,\n        \"title\": \"\",\n        \"mirror\": false,\n        \"tickangle\": 0,\n        \"showline\": true,\n        \"gridcolor\": \"rgba(0, 0, 0, 0.100)\",\n        \"titlefont\": {\n            \"color\": \"rgba(0, 0, 0, 1.000)\",\n            \"family\": \"sans-serif\",\n            \"size\": 15\n        },\n        \"tickcolor\": \"rgb(0, 0, 0)\",\n        \"ticktext\": [\n            \"0\",\n            \"25\",\n            \"50\",\n            \"75\",\n            \"100\"\n        ],\n        \"zeroline\": false,\n        \"type\": \"-\",\n        \"tickfont\": {\n            \"color\": \"rgba(0, 0, 0, 1.000)\",\n            \"family\": \"sans-serif\",\n            \"size\": 11\n        },\n        \"zerolinecolor\": \"rgba(0, 0, 0, 1.000)\",\n        \"anchor\": \"y1\"\n    },\n    \"paper_bgcolor\": \"rgba(255, 255, 255, 1.000)\",\n    \"annotations\": [],\n    \"height\": 400,\n    \"margin\": {\n        \"l\": 0,\n        \"b\": 20,\n        \"r\": 0,\n        \"t\": 20\n    },\n    \"plot_bgcolor\": \"rgba(255, 255, 255, 1.000)\",\n    \"yaxis\": {\n        \"showticklabels\": true,\n        \"gridwidth\": 0.5,\n        \"tickvals\": [\n            0.0,\n            0.2,\n            0.4,\n            0.6000000000000001,\n            0.8,\n            1.0\n        ],\n        \"visible\": true,\n        \"ticks\": \"inside\",\n        \"range\": [\n            0.0,\n            1.0\n        ],\n        \"domain\": [\n            0.03762029746281716,\n            0.9901574803149606\n        ],\n        \"tickmode\": \"array\",\n        \"linecolor\": \"rgba(0, 0, 0, 1.000)\",\n        \"showgrid\": true,\n        \"title\": \"\",\n        \"mirror\": false,\n        \"tickangle\": 0,\n        \"showline\": true,\n        \"gridcolor\": \"rgba(0, 0, 0, 0.100)\",\n        \"titlefont\": {\n            \"color\": \"rgba(0, 0, 0, 1.000)\",\n            \"family\": \"sans-serif\",\n            \"size\": 15\n        },\n        \"tickcolor\": \"rgb(0, 0, 0)\",\n        \"ticktext\": [\n            \"0.0\",\n            \"0.2\",\n            \"0.4\",\n            \"0.6\",\n            \"0.8\",\n            \"1.0\"\n        ],\n        \"zeroline\": false,\n        \"type\": \"-\",\n        \"tickfont\": {\n            \"color\": \"rgba(0, 0, 0, 1.000)\",\n            \"family\": \"sans-serif\",\n            \"size\": 11\n        },\n        \"zerolinecolor\": \"rgba(0, 0, 0, 1.000)\",\n        \"anchor\": \"x1\"\n    },\n    \"legend\": {\n        \"yanchor\": \"top\",\n        \"xanchor\": \"left\",\n        \"bordercolor\": \"rgba(0, 0, 0, 1.000)\",\n        \"bgcolor\": \"rgba(255, 255, 255, 1.000)\",\n        \"font\": {\n            \"color\": \"rgba(0, 0, 0, 1.000)\",\n            \"family\": \"sans-serif\",\n            \"size\": 11\n        },\n        \"tracegroupgap\": 0,\n        \"y\": 1.0,\n        \"borderwidth\": 1,\n        \"traceorder\": \"normal\",\n        \"x\": 0.07\n    },\n    \"width\": 600\n}\n);\n    </script>\n\n    </body>\n</html>\n"
               },
               "type": "node"
              }
             ],
             "instanceArgs": {
              "namespace": "html",
              "tag": "div"
             },
             "nodeType": "DOM",
             "props": {
              "className": "interact-flex-row interact-widget"
             },
             "type": "node"
            }
           }
          },
          "systemjs_options": null
         },
         "nodeType": "Scope",
         "props": {},
         "type": "node"
        }
       ],
       "instanceArgs": {
        "namespace": "html",
        "tag": "div"
       },
       "nodeType": "DOM",
       "props": {},
       "type": "node"
      },
      "text/html": [
       "<div\n",
       "    class=\"webio-mountpoint\"\n",
       "    data-webio-mountpoint=\"208713491096529699\"\n",
       ">\n",
       "    <script>\n",
       "    if (window.require && require.defined && require.defined(\"nbextensions/webio-jupyter-notebook\")) {\n",
       "        console.log(\"Jupyter WebIO extension detected, not mounting.\");\n",
       "    } else if (window.WebIO) {\n",
       "        WebIO.mount(\n",
       "            document.querySelector('[data-webio-mountpoint=\"208713491096529699\"]'),\n",
       "            {\"props\":{},\"nodeType\":\"DOM\",\"type\":\"node\",\"instanceArgs\":{\"namespace\":\"html\",\"tag\":\"div\"},\"children\":[{\"props\":{\"className\":\"field interact-widget\"},\"nodeType\":\"DOM\",\"type\":\"node\",\"instanceArgs\":{\"namespace\":\"html\",\"tag\":\"div\"},\"children\":[{\"props\":{},\"nodeType\":\"Scope\",\"type\":\"node\",\"instanceArgs\":{\"imports\":{\"data\":[{\"name\":\"knockout\",\"type\":\"js\",\"url\":\"\\/assetserver\\/aa767470ed3fb2fdc226b1798340a340ee166b2a-knockout.js\"},{\"name\":\"knockout_punches\",\"type\":\"js\",\"url\":\"\\/assetserver\\/e8fb3dc53556d31ce61caa9a9c7ddd80d27fc9d0-knockout_punches.js\"},{\"name\":null,\"type\":\"js\",\"url\":\"\\/assetserver\\/71fa1c1cc32d1bdda427a7ab2531f6129776e895-all.js\"},{\"name\":null,\"type\":\"css\",\"url\":\"\\/assetserver\\/2602973166a381dc3e60050f85dd07ec0cc87799-style.css\"},{\"name\":null,\"type\":\"css\",\"url\":\"\\/assetserver\\/bc33dca115ce9467eafc9b218c3bae68216c3008-bulma_confined.min.css\"}],\"type\":\"async_block\"},\"id\":\"4955072304956205487\",\"handlers\":{\"changes\":[\"(function (val){return (val!=this.model[\\\"changes\\\"]()) ? (this.valueFromJulia[\\\"changes\\\"]=true, this.model[\\\"changes\\\"](val)) : undefined})\"],\"index\":[\"(function (val){return (val!=this.model[\\\"index\\\"]()) ? (this.valueFromJulia[\\\"index\\\"]=true, this.model[\\\"index\\\"](val)) : undefined})\"]},\"systemjs_options\":null,\"mount_callbacks\":[\"function () {\\n    var handler = (function (ko, koPunches) {\\n    ko.punches.enableAll();\\n    ko.bindingHandlers.numericValue = {\\n        init: function(element, valueAccessor, allBindings, data, context) {\\n            var stringified = ko.observable(ko.unwrap(valueAccessor()));\\n            stringified.subscribe(function(value) {\\n                var val = parseFloat(value);\\n                if (!isNaN(val)) {\\n                    valueAccessor()(val);\\n                }\\n            });\\n            valueAccessor().subscribe(function(value) {\\n                var str = JSON.stringify(value);\\n                if ((str == \\\"0\\\") && ([\\\"-0\\\", \\\"-0.\\\"].indexOf(stringified()) >= 0))\\n                     return;\\n                 if ([\\\"null\\\", \\\"\\\"].indexOf(str) >= 0)\\n                     return;\\n                stringified(str);\\n            });\\n            ko.applyBindingsToNode(\\n                element,\\n                {\\n                    value: stringified,\\n                    valueUpdate: allBindings.get('valueUpdate'),\\n                },\\n                context,\\n            );\\n        }\\n    };\\n    var json_data = {\\\"formatted_vals\\\":[\\\"0.01\\\",\\\"0.02\\\",\\\"0.03\\\",\\\"0.04\\\",\\\"0.05\\\",\\\"0.06\\\",\\\"0.07\\\",\\\"0.08\\\",\\\"0.09\\\",\\\"0.1\\\",\\\"0.11\\\",\\\"0.12\\\",\\\"0.13\\\",\\\"0.14\\\",\\\"0.15\\\",\\\"0.16\\\",\\\"0.17\\\",\\\"0.18\\\",\\\"0.19\\\",\\\"0.2\\\"],\\\"changes\\\":WebIO.getval({\\\"name\\\":\\\"changes\\\",\\\"scope\\\":\\\"4955072304956205487\\\",\\\"id\\\":\\\"16518010769640529931\\\",\\\"type\\\":\\\"observable\\\"}),\\\"index\\\":WebIO.getval({\\\"name\\\":\\\"index\\\",\\\"scope\\\":\\\"4955072304956205487\\\",\\\"id\\\":\\\"11761905228869271484\\\",\\\"type\\\":\\\"observable\\\"})};\\n    var self = this;\\n    function AppViewModel() {\\n        for (var key in json_data) {\\n            var el = json_data[key];\\n            this[key] = Array.isArray(el) ? ko.observableArray(el) : ko.observable(el);\\n        }\\n        \\n        [this[\\\"formatted_val\\\"]=ko.computed(    function(){\\n        return this.formatted_vals()[parseInt(this.index())-(1)];\\n    }\\n,this)]\\n        [this[\\\"changes\\\"].subscribe((function (val){!(this.valueFromJulia[\\\"changes\\\"]) ? (WebIO.setval({\\\"name\\\":\\\"changes\\\",\\\"scope\\\":\\\"4955072304956205487\\\",\\\"id\\\":\\\"16518010769640529931\\\",\\\"type\\\":\\\"observable\\\"},val)) : undefined; return this.valueFromJulia[\\\"changes\\\"]=false}),self),this[\\\"index\\\"].subscribe((function (val){!(this.valueFromJulia[\\\"index\\\"]) ? (WebIO.setval({\\\"name\\\":\\\"index\\\",\\\"scope\\\":\\\"4955072304956205487\\\",\\\"id\\\":\\\"11761905228869271484\\\",\\\"type\\\":\\\"observable\\\"},val)) : undefined; return this.valueFromJulia[\\\"index\\\"]=false}),self)]\\n        \\n    }\\n    self.model = new AppViewModel();\\n    self.valueFromJulia = {};\\n    for (var key in json_data) {\\n        self.valueFromJulia[key] = false;\\n    }\\n    ko.applyBindings(self.model, self.dom);\\n}\\n);\\n    (WebIO.importBlock({\\\"data\\\":[{\\\"name\\\":\\\"knockout\\\",\\\"type\\\":\\\"js\\\",\\\"url\\\":\\\"\\/assetserver\\/aa767470ed3fb2fdc226b1798340a340ee166b2a-knockout.js\\\"},{\\\"name\\\":\\\"knockout_punches\\\",\\\"type\\\":\\\"js\\\",\\\"url\\\":\\\"\\/assetserver\\/e8fb3dc53556d31ce61caa9a9c7ddd80d27fc9d0-knockout_punches.js\\\"}],\\\"type\\\":\\\"async_block\\\"})).then((imports) => handler.apply(this, imports));\\n}\\n\"],\"observables\":{\"changes\":{\"sync\":false,\"id\":\"16518010769640529931\",\"value\":0},\"index\":{\"sync\":true,\"id\":\"11761905228869271484\",\"value\":10}}},\"children\":[{\"props\":{\"className\":\"interact-flex-row interact-widget\"},\"nodeType\":\"DOM\",\"type\":\"node\",\"instanceArgs\":{\"namespace\":\"html\",\"tag\":\"div\"},\"children\":[{\"props\":{\"className\":\"interact-flex-row-left\"},\"nodeType\":\"DOM\",\"type\":\"node\",\"instanceArgs\":{\"namespace\":\"html\",\"tag\":\"div\"},\"children\":[{\"props\":{\"className\":\"interact \",\"style\":{\"padding\":\"5px 10px 0px 10px\"}},\"nodeType\":\"DOM\",\"type\":\"node\",\"instanceArgs\":{\"namespace\":\"html\",\"tag\":\"label\"},\"children\":[\"n_big_partiers\"]}]},{\"props\":{\"className\":\"interact-flex-row-center\"},\"nodeType\":\"DOM\",\"type\":\"node\",\"instanceArgs\":{\"namespace\":\"html\",\"tag\":\"div\"},\"children\":[{\"props\":{\"max\":20,\"min\":1,\"attributes\":{\"type\":\"range\",\"data-bind\":\"numericValue: index, valueUpdate: 'input', event: {change: function (){this.changes(this.changes()+1)}}\",\"orient\":\"horizontal\"},\"step\":1,\"className\":\"slider slider is-fullwidth\",\"style\":{}},\"nodeType\":\"DOM\",\"type\":\"node\",\"instanceArgs\":{\"namespace\":\"html\",\"tag\":\"input\"},\"children\":[]}]},{\"props\":{\"className\":\"interact-flex-row-right\"},\"nodeType\":\"DOM\",\"type\":\"node\",\"instanceArgs\":{\"namespace\":\"html\",\"tag\":\"div\"},\"children\":[{\"props\":{\"attributes\":{\"data-bind\":\"text: formatted_val\"}},\"nodeType\":\"DOM\",\"type\":\"node\",\"instanceArgs\":{\"namespace\":\"html\",\"tag\":\"p\"},\"children\":[]}]}]}]}]},{\"props\":{\"className\":\"field interact-widget\"},\"nodeType\":\"DOM\",\"type\":\"node\",\"instanceArgs\":{\"namespace\":\"html\",\"tag\":\"div\"},\"children\":[{\"props\":{},\"nodeType\":\"Scope\",\"type\":\"node\",\"instanceArgs\":{\"imports\":{\"data\":[{\"name\":\"knockout\",\"type\":\"js\",\"url\":\"\\/assetserver\\/aa767470ed3fb2fdc226b1798340a340ee166b2a-knockout.js\"},{\"name\":\"knockout_punches\",\"type\":\"js\",\"url\":\"\\/assetserver\\/e8fb3dc53556d31ce61caa9a9c7ddd80d27fc9d0-knockout_punches.js\"},{\"name\":null,\"type\":\"js\",\"url\":\"\\/assetserver\\/71fa1c1cc32d1bdda427a7ab2531f6129776e895-all.js\"},{\"name\":null,\"type\":\"css\",\"url\":\"\\/assetserver\\/2602973166a381dc3e60050f85dd07ec0cc87799-style.css\"},{\"name\":null,\"type\":\"css\",\"url\":\"\\/assetserver\\/bc33dca115ce9467eafc9b218c3bae68216c3008-bulma_confined.min.css\"}],\"type\":\"async_block\"},\"id\":\"697030370595499728\",\"handlers\":{\"changes\":[\"(function (val){return (val!=this.model[\\\"changes\\\"]()) ? (this.valueFromJulia[\\\"changes\\\"]=true, this.model[\\\"changes\\\"](val)) : undefined})\"],\"index\":[\"(function (val){return (val!=this.model[\\\"index\\\"]()) ? (this.valueFromJulia[\\\"index\\\"]=true, this.model[\\\"index\\\"](val)) : undefined})\"]},\"systemjs_options\":null,\"mount_callbacks\":[\"function () {\\n    var handler = (function (ko, koPunches) {\\n    ko.punches.enableAll();\\n    ko.bindingHandlers.numericValue = {\\n        init: function(element, valueAccessor, allBindings, data, context) {\\n            var stringified = ko.observable(ko.unwrap(valueAccessor()));\\n            stringified.subscribe(function(value) {\\n                var val = parseFloat(value);\\n                if (!isNaN(val)) {\\n                    valueAccessor()(val);\\n                }\\n            });\\n            valueAccessor().subscribe(function(value) {\\n                var str = JSON.stringify(value);\\n                if ((str == \\\"0\\\") && ([\\\"-0\\\", \\\"-0.\\\"].indexOf(stringified()) >= 0))\\n                     return;\\n                 if ([\\\"null\\\", \\\"\\\"].indexOf(str) >= 0)\\n                     return;\\n                stringified(str);\\n            });\\n            ko.applyBindingsToNode(\\n                element,\\n                {\\n                    value: stringified,\\n                    valueUpdate: allBindings.get('valueUpdate'),\\n                },\\n                context,\\n            );\\n        }\\n    };\\n    var json_data = {\\\"formatted_vals\\\":[\\\"0.1\\\",\\\"0.2\\\",\\\"0.3\\\",\\\"0.4\\\",\\\"0.5\\\",\\\"0.6\\\",\\\"0.7\\\",\\\"0.8\\\",\\\"0.9\\\",\\\"1.0\\\"],\\\"changes\\\":WebIO.getval({\\\"name\\\":\\\"changes\\\",\\\"scope\\\":\\\"697030370595499728\\\",\\\"id\\\":\\\"959882810703209661\\\",\\\"type\\\":\\\"observable\\\"}),\\\"index\\\":WebIO.getval({\\\"name\\\":\\\"index\\\",\\\"scope\\\":\\\"697030370595499728\\\",\\\"id\\\":\\\"7782082673711945698\\\",\\\"type\\\":\\\"observable\\\"})};\\n    var self = this;\\n    function AppViewModel() {\\n        for (var key in json_data) {\\n            var el = json_data[key];\\n            this[key] = Array.isArray(el) ? ko.observableArray(el) : ko.observable(el);\\n        }\\n        \\n        [this[\\\"formatted_val\\\"]=ko.computed(    function(){\\n        return this.formatted_vals()[parseInt(this.index())-(1)];\\n    }\\n,this)]\\n        [this[\\\"changes\\\"].subscribe((function (val){!(this.valueFromJulia[\\\"changes\\\"]) ? (WebIO.setval({\\\"name\\\":\\\"changes\\\",\\\"scope\\\":\\\"697030370595499728\\\",\\\"id\\\":\\\"959882810703209661\\\",\\\"type\\\":\\\"observable\\\"},val)) : undefined; return this.valueFromJulia[\\\"changes\\\"]=false}),self),this[\\\"index\\\"].subscribe((function (val){!(this.valueFromJulia[\\\"index\\\"]) ? (WebIO.setval({\\\"name\\\":\\\"index\\\",\\\"scope\\\":\\\"697030370595499728\\\",\\\"id\\\":\\\"7782082673711945698\\\",\\\"type\\\":\\\"observable\\\"},val)) : undefined; return this.valueFromJulia[\\\"index\\\"]=false}),self)]\\n        \\n    }\\n    self.model = new AppViewModel();\\n    self.valueFromJulia = {};\\n    for (var key in json_data) {\\n        self.valueFromJulia[key] = false;\\n    }\\n    ko.applyBindings(self.model, self.dom);\\n}\\n);\\n    (WebIO.importBlock({\\\"data\\\":[{\\\"name\\\":\\\"knockout\\\",\\\"type\\\":\\\"js\\\",\\\"url\\\":\\\"\\/assetserver\\/aa767470ed3fb2fdc226b1798340a340ee166b2a-knockout.js\\\"},{\\\"name\\\":\\\"knockout_punches\\\",\\\"type\\\":\\\"js\\\",\\\"url\\\":\\\"\\/assetserver\\/e8fb3dc53556d31ce61caa9a9c7ddd80d27fc9d0-knockout_punches.js\\\"}],\\\"type\\\":\\\"async_block\\\"})).then((imports) => handler.apply(this, imports));\\n}\\n\"],\"observables\":{\"changes\":{\"sync\":false,\"id\":\"959882810703209661\",\"value\":0},\"index\":{\"sync\":true,\"id\":\"7782082673711945698\",\"value\":5}}},\"children\":[{\"props\":{\"className\":\"interact-flex-row interact-widget\"},\"nodeType\":\"DOM\",\"type\":\"node\",\"instanceArgs\":{\"namespace\":\"html\",\"tag\":\"div\"},\"children\":[{\"props\":{\"className\":\"interact-flex-row-left\"},\"nodeType\":\"DOM\",\"type\":\"node\",\"instanceArgs\":{\"namespace\":\"html\",\"tag\":\"div\"},\"children\":[{\"props\":{\"className\":\"interact \",\"style\":{\"padding\":\"5px 10px 0px 10px\"}},\"nodeType\":\"DOM\",\"type\":\"node\",\"instanceArgs\":{\"namespace\":\"html\",\"tag\":\"label\"},\"children\":[\"n_safe_partiers\"]}]},{\"props\":{\"className\":\"interact-flex-row-center\"},\"nodeType\":\"DOM\",\"type\":\"node\",\"instanceArgs\":{\"namespace\":\"html\",\"tag\":\"div\"},\"children\":[{\"props\":{\"max\":10,\"min\":1,\"attributes\":{\"type\":\"range\",\"data-bind\":\"numericValue: index, valueUpdate: 'input', event: {change: function (){this.changes(this.changes()+1)}}\",\"orient\":\"horizontal\"},\"step\":1,\"className\":\"slider slider is-fullwidth\",\"style\":{}},\"nodeType\":\"DOM\",\"type\":\"node\",\"instanceArgs\":{\"namespace\":\"html\",\"tag\":\"input\"},\"children\":[]}]},{\"props\":{\"className\":\"interact-flex-row-right\"},\"nodeType\":\"DOM\",\"type\":\"node\",\"instanceArgs\":{\"namespace\":\"html\",\"tag\":\"div\"},\"children\":[{\"props\":{\"attributes\":{\"data-bind\":\"text: formatted_val\"}},\"nodeType\":\"DOM\",\"type\":\"node\",\"instanceArgs\":{\"namespace\":\"html\",\"tag\":\"p\"},\"children\":[]}]}]}]}]},{\"props\":{\"className\":\"field interact-widget\"},\"nodeType\":\"DOM\",\"type\":\"node\",\"instanceArgs\":{\"namespace\":\"html\",\"tag\":\"div\"},\"children\":[{\"props\":{},\"nodeType\":\"Scope\",\"type\":\"node\",\"instanceArgs\":{\"imports\":{\"data\":[{\"name\":\"knockout\",\"type\":\"js\",\"url\":\"\\/assetserver\\/aa767470ed3fb2fdc226b1798340a340ee166b2a-knockout.js\"},{\"name\":\"knockout_punches\",\"type\":\"js\",\"url\":\"\\/assetserver\\/e8fb3dc53556d31ce61caa9a9c7ddd80d27fc9d0-knockout_punches.js\"},{\"name\":null,\"type\":\"js\",\"url\":\"\\/assetserver\\/71fa1c1cc32d1bdda427a7ab2531f6129776e895-all.js\"},{\"name\":null,\"type\":\"css\",\"url\":\"\\/assetserver\\/2602973166a381dc3e60050f85dd07ec0cc87799-style.css\"},{\"name\":null,\"type\":\"css\",\"url\":\"\\/assetserver\\/bc33dca115ce9467eafc9b218c3bae68216c3008-bulma_confined.min.css\"}],\"type\":\"async_block\"},\"id\":\"5621904757225941425\",\"handlers\":{\"changes\":[\"(function (val){return (val!=this.model[\\\"changes\\\"]()) ? (this.valueFromJulia[\\\"changes\\\"]=true, this.model[\\\"changes\\\"](val)) : undefined})\"],\"index\":[\"(function (val){return (val!=this.model[\\\"index\\\"]()) ? (this.valueFromJulia[\\\"index\\\"]=true, this.model[\\\"index\\\"](val)) : undefined})\"]},\"systemjs_options\":null,\"mount_callbacks\":[\"function () {\\n    var handler = (function (ko, koPunches) {\\n    ko.punches.enableAll();\\n    ko.bindingHandlers.numericValue = {\\n        init: function(element, valueAccessor, allBindings, data, context) {\\n            var stringified = ko.observable(ko.unwrap(valueAccessor()));\\n            stringified.subscribe(function(value) {\\n                var val = parseFloat(value);\\n                if (!isNaN(val)) {\\n                    valueAccessor()(val);\\n                }\\n            });\\n            valueAccessor().subscribe(function(value) {\\n                var str = JSON.stringify(value);\\n                if ((str == \\\"0\\\") && ([\\\"-0\\\", \\\"-0.\\\"].indexOf(stringified()) >= 0))\\n                     return;\\n                 if ([\\\"null\\\", \\\"\\\"].indexOf(str) >= 0)\\n                     return;\\n                stringified(str);\\n            });\\n            ko.applyBindingsToNode(\\n                element,\\n                {\\n                    value: stringified,\\n                    valueUpdate: allBindings.get('valueUpdate'),\\n                },\\n                context,\\n            );\\n        }\\n    };\\n    var json_data = {\\\"formatted_vals\\\":[\\\"1\\\",\\\"2\\\",\\\"3\\\",\\\"4\\\",\\\"5\\\",\\\"6\\\",\\\"7\\\"],\\\"changes\\\":WebIO.getval({\\\"name\\\":\\\"changes\\\",\\\"scope\\\":\\\"5621904757225941425\\\",\\\"id\\\":\\\"9464662453871580644\\\",\\\"type\\\":\\\"observable\\\"}),\\\"index\\\":WebIO.getval({\\\"name\\\":\\\"index\\\",\\\"scope\\\":\\\"5621904757225941425\\\",\\\"id\\\":\\\"18069724218900395481\\\",\\\"type\\\":\\\"observable\\\"})};\\n    var self = this;\\n    function AppViewModel() {\\n        for (var key in json_data) {\\n            var el = json_data[key];\\n            this[key] = Array.isArray(el) ? ko.observableArray(el) : ko.observable(el);\\n        }\\n        \\n        [this[\\\"formatted_val\\\"]=ko.computed(    function(){\\n        return this.formatted_vals()[parseInt(this.index())-(1)];\\n    }\\n,this)]\\n        [this[\\\"changes\\\"].subscribe((function (val){!(this.valueFromJulia[\\\"changes\\\"]) ? (WebIO.setval({\\\"name\\\":\\\"changes\\\",\\\"scope\\\":\\\"5621904757225941425\\\",\\\"id\\\":\\\"9464662453871580644\\\",\\\"type\\\":\\\"observable\\\"},val)) : undefined; return this.valueFromJulia[\\\"changes\\\"]=false}),self),this[\\\"index\\\"].subscribe((function (val){!(this.valueFromJulia[\\\"index\\\"]) ? (WebIO.setval({\\\"name\\\":\\\"index\\\",\\\"scope\\\":\\\"5621904757225941425\\\",\\\"id\\\":\\\"18069724218900395481\\\",\\\"type\\\":\\\"observable\\\"},val)) : undefined; return this.valueFromJulia[\\\"index\\\"]=false}),self)]\\n        \\n    }\\n    self.model = new AppViewModel();\\n    self.valueFromJulia = {};\\n    for (var key in json_data) {\\n        self.valueFromJulia[key] = false;\\n    }\\n    ko.applyBindings(self.model, self.dom);\\n}\\n);\\n    (WebIO.importBlock({\\\"data\\\":[{\\\"name\\\":\\\"knockout\\\",\\\"type\\\":\\\"js\\\",\\\"url\\\":\\\"\\/assetserver\\/aa767470ed3fb2fdc226b1798340a340ee166b2a-knockout.js\\\"},{\\\"name\\\":\\\"knockout_punches\\\",\\\"type\\\":\\\"js\\\",\\\"url\\\":\\\"\\/assetserver\\/e8fb3dc53556d31ce61caa9a9c7ddd80d27fc9d0-knockout_punches.js\\\"}],\\\"type\\\":\\\"async_block\\\"})).then((imports) => handler.apply(this, imports));\\n}\\n\"],\"observables\":{\"changes\":{\"sync\":false,\"id\":\"9464662453871580644\",\"value\":0},\"index\":{\"sync\":true,\"id\":\"18069724218900395481\",\"value\":4}}},\"children\":[{\"props\":{\"className\":\"interact-flex-row interact-widget\"},\"nodeType\":\"DOM\",\"type\":\"node\",\"instanceArgs\":{\"namespace\":\"html\",\"tag\":\"div\"},\"children\":[{\"props\":{\"className\":\"interact-flex-row-left\"},\"nodeType\":\"DOM\",\"type\":\"node\",\"instanceArgs\":{\"namespace\":\"html\",\"tag\":\"div\"},\"children\":[{\"props\":{\"className\":\"interact \",\"style\":{\"padding\":\"5px 10px 0px 10px\"}},\"nodeType\":\"DOM\",\"type\":\"node\",\"instanceArgs\":{\"namespace\":\"html\",\"tag\":\"label\"},\"children\":[\"test_period\"]}]},{\"props\":{\"className\":\"interact-flex-row-center\"},\"nodeType\":\"DOM\",\"type\":\"node\",\"instanceArgs\":{\"namespace\":\"html\",\"tag\":\"div\"},\"children\":[{\"props\":{\"max\":7,\"min\":1,\"attributes\":{\"type\":\"range\",\"data-bind\":\"numericValue: index, valueUpdate: 'input', event: {change: function (){this.changes(this.changes()+1)}}\",\"orient\":\"horizontal\"},\"step\":1,\"className\":\"slider slider is-fullwidth\",\"style\":{}},\"nodeType\":\"DOM\",\"type\":\"node\",\"instanceArgs\":{\"namespace\":\"html\",\"tag\":\"input\"},\"children\":[]}]},{\"props\":{\"className\":\"interact-flex-row-right\"},\"nodeType\":\"DOM\",\"type\":\"node\",\"instanceArgs\":{\"namespace\":\"html\",\"tag\":\"div\"},\"children\":[{\"props\":{\"attributes\":{\"data-bind\":\"text: formatted_val\"}},\"nodeType\":\"DOM\",\"type\":\"node\",\"instanceArgs\":{\"namespace\":\"html\",\"tag\":\"p\"},\"children\":[]}]}]}]}]},{\"props\":{\"className\":\"field interact-widget\"},\"nodeType\":\"DOM\",\"type\":\"node\",\"instanceArgs\":{\"namespace\":\"html\",\"tag\":\"div\"},\"children\":[{\"props\":{},\"nodeType\":\"Scope\",\"type\":\"node\",\"instanceArgs\":{\"imports\":{\"data\":[{\"name\":\"knockout\",\"type\":\"js\",\"url\":\"\\/assetserver\\/aa767470ed3fb2fdc226b1798340a340ee166b2a-knockout.js\"},{\"name\":\"knockout_punches\",\"type\":\"js\",\"url\":\"\\/assetserver\\/e8fb3dc53556d31ce61caa9a9c7ddd80d27fc9d0-knockout_punches.js\"},{\"name\":null,\"type\":\"js\",\"url\":\"\\/assetserver\\/71fa1c1cc32d1bdda427a7ab2531f6129776e895-all.js\"},{\"name\":null,\"type\":\"css\",\"url\":\"\\/assetserver\\/2602973166a381dc3e60050f85dd07ec0cc87799-style.css\"},{\"name\":null,\"type\":\"css\",\"url\":\"\\/assetserver\\/bc33dca115ce9467eafc9b218c3bae68216c3008-bulma_confined.min.css\"}],\"type\":\"async_block\"},\"id\":\"7028077530302003109\",\"handlers\":{\"changes\":[\"(function (val){return (val!=this.model[\\\"changes\\\"]()) ? (this.valueFromJulia[\\\"changes\\\"]=true, this.model[\\\"changes\\\"](val)) : undefined})\"],\"index\":[\"(function (val){return (val!=this.model[\\\"index\\\"]()) ? (this.valueFromJulia[\\\"index\\\"]=true, this.model[\\\"index\\\"](val)) : undefined})\"]},\"systemjs_options\":null,\"mount_callbacks\":[\"function () {\\n    var handler = (function (ko, koPunches) {\\n    ko.punches.enableAll();\\n    ko.bindingHandlers.numericValue = {\\n        init: function(element, valueAccessor, allBindings, data, context) {\\n            var stringified = ko.observable(ko.unwrap(valueAccessor()));\\n            stringified.subscribe(function(value) {\\n                var val = parseFloat(value);\\n                if (!isNaN(val)) {\\n                    valueAccessor()(val);\\n                }\\n            });\\n            valueAccessor().subscribe(function(value) {\\n                var str = JSON.stringify(value);\\n                if ((str == \\\"0\\\") && ([\\\"-0\\\", \\\"-0.\\\"].indexOf(stringified()) >= 0))\\n                     return;\\n                 if ([\\\"null\\\", \\\"\\\"].indexOf(str) >= 0)\\n                     return;\\n                stringified(str);\\n            });\\n            ko.applyBindingsToNode(\\n                element,\\n                {\\n                    value: stringified,\\n                    valueUpdate: allBindings.get('valueUpdate'),\\n                },\\n                context,\\n            );\\n        }\\n    };\\n    var json_data = {\\\"formatted_vals\\\":[\\\"0.05\\\",\\\"0.1\\\",\\\"0.15\\\",\\\"0.2\\\",\\\"0.25\\\",\\\"0.3\\\",\\\"0.35\\\",\\\"0.4\\\",\\\"0.45\\\",\\\"0.5\\\",\\\"0.55\\\",\\\"0.6\\\",\\\"0.65\\\",\\\"0.7\\\",\\\"0.75\\\",\\\"0.8\\\",\\\"0.85\\\",\\\"0.9\\\",\\\"0.95\\\",\\\"1.0\\\"],\\\"changes\\\":WebIO.getval({\\\"name\\\":\\\"changes\\\",\\\"scope\\\":\\\"7028077530302003109\\\",\\\"id\\\":\\\"4876503512435406566\\\",\\\"type\\\":\\\"observable\\\"}),\\\"index\\\":WebIO.getval({\\\"name\\\":\\\"index\\\",\\\"scope\\\":\\\"7028077530302003109\\\",\\\"id\\\":\\\"13726977930758239651\\\",\\\"type\\\":\\\"observable\\\"})};\\n    var self = this;\\n    function AppViewModel() {\\n        for (var key in json_data) {\\n            var el = json_data[key];\\n            this[key] = Array.isArray(el) ? ko.observableArray(el) : ko.observable(el);\\n        }\\n        \\n        [this[\\\"formatted_val\\\"]=ko.computed(    function(){\\n        return this.formatted_vals()[parseInt(this.index())-(1)];\\n    }\\n,this)]\\n        [this[\\\"changes\\\"].subscribe((function (val){!(this.valueFromJulia[\\\"changes\\\"]) ? (WebIO.setval({\\\"name\\\":\\\"changes\\\",\\\"scope\\\":\\\"7028077530302003109\\\",\\\"id\\\":\\\"4876503512435406566\\\",\\\"type\\\":\\\"observable\\\"},val)) : undefined; return this.valueFromJulia[\\\"changes\\\"]=false}),self),this[\\\"index\\\"].subscribe((function (val){!(this.valueFromJulia[\\\"index\\\"]) ? (WebIO.setval({\\\"name\\\":\\\"index\\\",\\\"scope\\\":\\\"7028077530302003109\\\",\\\"id\\\":\\\"13726977930758239651\\\",\\\"type\\\":\\\"observable\\\"},val)) : undefined; return this.valueFromJulia[\\\"index\\\"]=false}),self)]\\n        \\n    }\\n    self.model = new AppViewModel();\\n    self.valueFromJulia = {};\\n    for (var key in json_data) {\\n        self.valueFromJulia[key] = false;\\n    }\\n    ko.applyBindings(self.model, self.dom);\\n}\\n);\\n    (WebIO.importBlock({\\\"data\\\":[{\\\"name\\\":\\\"knockout\\\",\\\"type\\\":\\\"js\\\",\\\"url\\\":\\\"\\/assetserver\\/aa767470ed3fb2fdc226b1798340a340ee166b2a-knockout.js\\\"},{\\\"name\\\":\\\"knockout_punches\\\",\\\"type\\\":\\\"js\\\",\\\"url\\\":\\\"\\/assetserver\\/e8fb3dc53556d31ce61caa9a9c7ddd80d27fc9d0-knockout_punches.js\\\"}],\\\"type\\\":\\\"async_block\\\"})).then((imports) => handler.apply(this, imports));\\n}\\n\"],\"observables\":{\"changes\":{\"sync\":false,\"id\":\"4876503512435406566\",\"value\":0},\"index\":{\"sync\":true,\"id\":\"13726977930758239651\",\"value\":10}}},\"children\":[{\"props\":{\"className\":\"interact-flex-row interact-widget\"},\"nodeType\":\"DOM\",\"type\":\"node\",\"instanceArgs\":{\"namespace\":\"html\",\"tag\":\"div\"},\"children\":[{\"props\":{\"className\":\"interact-flex-row-left\"},\"nodeType\":\"DOM\",\"type\":\"node\",\"instanceArgs\":{\"namespace\":\"html\",\"tag\":\"div\"},\"children\":[{\"props\":{\"className\":\"interact \",\"style\":{\"padding\":\"5px 10px 0px 10px\"}},\"nodeType\":\"DOM\",\"type\":\"node\",\"instanceArgs\":{\"namespace\":\"html\",\"tag\":\"label\"},\"children\":[\"inf_no_PPE\"]}]},{\"props\":{\"className\":\"interact-flex-row-center\"},\"nodeType\":\"DOM\",\"type\":\"node\",\"instanceArgs\":{\"namespace\":\"html\",\"tag\":\"div\"},\"children\":[{\"props\":{\"max\":20,\"min\":1,\"attributes\":{\"type\":\"range\",\"data-bind\":\"numericValue: index, valueUpdate: 'input', event: {change: function (){this.changes(this.changes()+1)}}\",\"orient\":\"horizontal\"},\"step\":1,\"className\":\"slider slider is-fullwidth\",\"style\":{}},\"nodeType\":\"DOM\",\"type\":\"node\",\"instanceArgs\":{\"namespace\":\"html\",\"tag\":\"input\"},\"children\":[]}]},{\"props\":{\"className\":\"interact-flex-row-right\"},\"nodeType\":\"DOM\",\"type\":\"node\",\"instanceArgs\":{\"namespace\":\"html\",\"tag\":\"div\"},\"children\":[{\"props\":{\"attributes\":{\"data-bind\":\"text: formatted_val\"}},\"nodeType\":\"DOM\",\"type\":\"node\",\"instanceArgs\":{\"namespace\":\"html\",\"tag\":\"p\"},\"children\":[]}]}]}]}]},{\"props\":{\"className\":\"field interact-widget\"},\"nodeType\":\"DOM\",\"type\":\"node\",\"instanceArgs\":{\"namespace\":\"html\",\"tag\":\"div\"},\"children\":[{\"props\":{},\"nodeType\":\"Scope\",\"type\":\"node\",\"instanceArgs\":{\"imports\":{\"data\":[{\"name\":\"knockout\",\"type\":\"js\",\"url\":\"\\/assetserver\\/aa767470ed3fb2fdc226b1798340a340ee166b2a-knockout.js\"},{\"name\":\"knockout_punches\",\"type\":\"js\",\"url\":\"\\/assetserver\\/e8fb3dc53556d31ce61caa9a9c7ddd80d27fc9d0-knockout_punches.js\"},{\"name\":null,\"type\":\"js\",\"url\":\"\\/assetserver\\/71fa1c1cc32d1bdda427a7ab2531f6129776e895-all.js\"},{\"name\":null,\"type\":\"css\",\"url\":\"\\/assetserver\\/2602973166a381dc3e60050f85dd07ec0cc87799-style.css\"},{\"name\":null,\"type\":\"css\",\"url\":\"\\/assetserver\\/bc33dca115ce9467eafc9b218c3bae68216c3008-bulma_confined.min.css\"}],\"type\":\"async_block\"},\"id\":\"17201827924276723092\",\"handlers\":{\"changes\":[\"(function (val){return (val!=this.model[\\\"changes\\\"]()) ? (this.valueFromJulia[\\\"changes\\\"]=true, this.model[\\\"changes\\\"](val)) : undefined})\"],\"index\":[\"(function (val){return (val!=this.model[\\\"index\\\"]()) ? (this.valueFromJulia[\\\"index\\\"]=true, this.model[\\\"index\\\"](val)) : undefined})\"]},\"systemjs_options\":null,\"mount_callbacks\":[\"function () {\\n    var handler = (function (ko, koPunches) {\\n    ko.punches.enableAll();\\n    ko.bindingHandlers.numericValue = {\\n        init: function(element, valueAccessor, allBindings, data, context) {\\n            var stringified = ko.observable(ko.unwrap(valueAccessor()));\\n            stringified.subscribe(function(value) {\\n                var val = parseFloat(value);\\n                if (!isNaN(val)) {\\n                    valueAccessor()(val);\\n                }\\n            });\\n            valueAccessor().subscribe(function(value) {\\n                var str = JSON.stringify(value);\\n                if ((str == \\\"0\\\") && ([\\\"-0\\\", \\\"-0.\\\"].indexOf(stringified()) >= 0))\\n                     return;\\n                 if ([\\\"null\\\", \\\"\\\"].indexOf(str) >= 0)\\n                     return;\\n                stringified(str);\\n            });\\n            ko.applyBindingsToNode(\\n                element,\\n                {\\n                    value: stringified,\\n                    valueUpdate: allBindings.get('valueUpdate'),\\n                },\\n                context,\\n            );\\n        }\\n    };\\n    var json_data = {\\\"formatted_vals\\\":[\\\"0.01\\\",\\\"0.02\\\",\\\"0.03\\\",\\\"0.04\\\",\\\"0.05\\\",\\\"0.06\\\",\\\"0.07\\\",\\\"0.08\\\",\\\"0.09\\\",\\\"0.1\\\"],\\\"changes\\\":WebIO.getval({\\\"name\\\":\\\"changes\\\",\\\"scope\\\":\\\"17201827924276723092\\\",\\\"id\\\":\\\"5557328143532054820\\\",\\\"type\\\":\\\"observable\\\"}),\\\"index\\\":WebIO.getval({\\\"name\\\":\\\"index\\\",\\\"scope\\\":\\\"17201827924276723092\\\",\\\"id\\\":\\\"8867459641964122050\\\",\\\"type\\\":\\\"observable\\\"})};\\n    var self = this;\\n    function AppViewModel() {\\n        for (var key in json_data) {\\n            var el = json_data[key];\\n            this[key] = Array.isArray(el) ? ko.observableArray(el) : ko.observable(el);\\n        }\\n        \\n        [this[\\\"formatted_val\\\"]=ko.computed(    function(){\\n        return this.formatted_vals()[parseInt(this.index())-(1)];\\n    }\\n,this)]\\n        [this[\\\"changes\\\"].subscribe((function (val){!(this.valueFromJulia[\\\"changes\\\"]) ? (WebIO.setval({\\\"name\\\":\\\"changes\\\",\\\"scope\\\":\\\"17201827924276723092\\\",\\\"id\\\":\\\"5557328143532054820\\\",\\\"type\\\":\\\"observable\\\"},val)) : undefined; return this.valueFromJulia[\\\"changes\\\"]=false}),self),this[\\\"index\\\"].subscribe((function (val){!(this.valueFromJulia[\\\"index\\\"]) ? (WebIO.setval({\\\"name\\\":\\\"index\\\",\\\"scope\\\":\\\"17201827924276723092\\\",\\\"id\\\":\\\"8867459641964122050\\\",\\\"type\\\":\\\"observable\\\"},val)) : undefined; return this.valueFromJulia[\\\"index\\\"]=false}),self)]\\n        \\n    }\\n    self.model = new AppViewModel();\\n    self.valueFromJulia = {};\\n    for (var key in json_data) {\\n        self.valueFromJulia[key] = false;\\n    }\\n    ko.applyBindings(self.model, self.dom);\\n}\\n);\\n    (WebIO.importBlock({\\\"data\\\":[{\\\"name\\\":\\\"knockout\\\",\\\"type\\\":\\\"js\\\",\\\"url\\\":\\\"\\/assetserver\\/aa767470ed3fb2fdc226b1798340a340ee166b2a-knockout.js\\\"},{\\\"name\\\":\\\"knockout_punches\\\",\\\"type\\\":\\\"js\\\",\\\"url\\\":\\\"\\/assetserver\\/e8fb3dc53556d31ce61caa9a9c7ddd80d27fc9d0-knockout_punches.js\\\"}],\\\"type\\\":\\\"async_block\\\"})).then((imports) => handler.apply(this, imports));\\n}\\n\"],\"observables\":{\"changes\":{\"sync\":false,\"id\":\"5557328143532054820\",\"value\":0},\"index\":{\"sync\":true,\"id\":\"8867459641964122050\",\"value\":5}}},\"children\":[{\"props\":{\"className\":\"interact-flex-row interact-widget\"},\"nodeType\":\"DOM\",\"type\":\"node\",\"instanceArgs\":{\"namespace\":\"html\",\"tag\":\"div\"},\"children\":[{\"props\":{\"className\":\"interact-flex-row-left\"},\"nodeType\":\"DOM\",\"type\":\"node\",\"instanceArgs\":{\"namespace\":\"html\",\"tag\":\"div\"},\"children\":[{\"props\":{\"className\":\"interact \",\"style\":{\"padding\":\"5px 10px 0px 10px\"}},\"nodeType\":\"DOM\",\"type\":\"node\",\"instanceArgs\":{\"namespace\":\"html\",\"tag\":\"label\"},\"children\":[\"inf_with_PPE\"]}]},{\"props\":{\"className\":\"interact-flex-row-center\"},\"nodeType\":\"DOM\",\"type\":\"node\",\"instanceArgs\":{\"namespace\":\"html\",\"tag\":\"div\"},\"children\":[{\"props\":{\"max\":10,\"min\":1,\"attributes\":{\"type\":\"range\",\"data-bind\":\"numericValue: index, valueUpdate: 'input', event: {change: function (){this.changes(this.changes()+1)}}\",\"orient\":\"horizontal\"},\"step\":1,\"className\":\"slider slider is-fullwidth\",\"style\":{}},\"nodeType\":\"DOM\",\"type\":\"node\",\"instanceArgs\":{\"namespace\":\"html\",\"tag\":\"input\"},\"children\":[]}]},{\"props\":{\"className\":\"interact-flex-row-right\"},\"nodeType\":\"DOM\",\"type\":\"node\",\"instanceArgs\":{\"namespace\":\"html\",\"tag\":\"div\"},\"children\":[{\"props\":{\"attributes\":{\"data-bind\":\"text: formatted_val\"}},\"nodeType\":\"DOM\",\"type\":\"node\",\"instanceArgs\":{\"namespace\":\"html\",\"tag\":\"p\"},\"children\":[]}]}]}]}]},{\"props\":{\"className\":\"field interact-widget\"},\"nodeType\":\"DOM\",\"type\":\"node\",\"instanceArgs\":{\"namespace\":\"html\",\"tag\":\"div\"},\"children\":[{\"props\":{},\"nodeType\":\"Scope\",\"type\":\"node\",\"instanceArgs\":{\"imports\":{\"data\":[{\"name\":\"knockout\",\"type\":\"js\",\"url\":\"\\/assetserver\\/aa767470ed3fb2fdc226b1798340a340ee166b2a-knockout.js\"},{\"name\":\"knockout_punches\",\"type\":\"js\",\"url\":\"\\/assetserver\\/e8fb3dc53556d31ce61caa9a9c7ddd80d27fc9d0-knockout_punches.js\"},{\"name\":null,\"type\":\"js\",\"url\":\"\\/assetserver\\/71fa1c1cc32d1bdda427a7ab2531f6129776e895-all.js\"},{\"name\":null,\"type\":\"css\",\"url\":\"\\/assetserver\\/2602973166a381dc3e60050f85dd07ec0cc87799-style.css\"},{\"name\":null,\"type\":\"css\",\"url\":\"\\/assetserver\\/bc33dca115ce9467eafc9b218c3bae68216c3008-bulma_confined.min.css\"}],\"type\":\"async_block\"},\"id\":\"15710112560833522536\",\"handlers\":{\"changes\":[\"(function (val){return (val!=this.model[\\\"changes\\\"]()) ? (this.valueFromJulia[\\\"changes\\\"]=true, this.model[\\\"changes\\\"](val)) : undefined})\"],\"index\":[\"(function (val){return (val!=this.model[\\\"index\\\"]()) ? (this.valueFromJulia[\\\"index\\\"]=true, this.model[\\\"index\\\"](val)) : undefined})\"]},\"systemjs_options\":null,\"mount_callbacks\":[\"function () {\\n    var handler = (function (ko, koPunches) {\\n    ko.punches.enableAll();\\n    ko.bindingHandlers.numericValue = {\\n        init: function(element, valueAccessor, allBindings, data, context) {\\n            var stringified = ko.observable(ko.unwrap(valueAccessor()));\\n            stringified.subscribe(function(value) {\\n                var val = parseFloat(value);\\n                if (!isNaN(val)) {\\n                    valueAccessor()(val);\\n                }\\n            });\\n            valueAccessor().subscribe(function(value) {\\n                var str = JSON.stringify(value);\\n                if ((str == \\\"0\\\") && ([\\\"-0\\\", \\\"-0.\\\"].indexOf(stringified()) >= 0))\\n                     return;\\n                 if ([\\\"null\\\", \\\"\\\"].indexOf(str) >= 0)\\n                     return;\\n                stringified(str);\\n            });\\n            ko.applyBindingsToNode(\\n                element,\\n                {\\n                    value: stringified,\\n                    valueUpdate: allBindings.get('valueUpdate'),\\n                },\\n                context,\\n            );\\n        }\\n    };\\n    var json_data = {\\\"formatted_vals\\\":[\\\"1.0e-7\\\",\\\"1.0e-6\\\",\\\"1.0e-5\\\",\\\"0.0001\\\",\\\"0.001\\\",\\\"0.01\\\",\\\"0.1\\\"],\\\"changes\\\":WebIO.getval({\\\"name\\\":\\\"changes\\\",\\\"scope\\\":\\\"15710112560833522536\\\",\\\"id\\\":\\\"17734304560880871224\\\",\\\"type\\\":\\\"observable\\\"}),\\\"index\\\":WebIO.getval({\\\"name\\\":\\\"index\\\",\\\"scope\\\":\\\"15710112560833522536\\\",\\\"id\\\":\\\"11727787307810741069\\\",\\\"type\\\":\\\"observable\\\"})};\\n    var self = this;\\n    function AppViewModel() {\\n        for (var key in json_data) {\\n            var el = json_data[key];\\n            this[key] = Array.isArray(el) ? ko.observableArray(el) : ko.observable(el);\\n        }\\n        \\n        [this[\\\"formatted_val\\\"]=ko.computed(    function(){\\n        return this.formatted_vals()[parseInt(this.index())-(1)];\\n    }\\n,this)]\\n        [this[\\\"changes\\\"].subscribe((function (val){!(this.valueFromJulia[\\\"changes\\\"]) ? (WebIO.setval({\\\"name\\\":\\\"changes\\\",\\\"scope\\\":\\\"15710112560833522536\\\",\\\"id\\\":\\\"17734304560880871224\\\",\\\"type\\\":\\\"observable\\\"},val)) : undefined; return this.valueFromJulia[\\\"changes\\\"]=false}),self),this[\\\"index\\\"].subscribe((function (val){!(this.valueFromJulia[\\\"index\\\"]) ? (WebIO.setval({\\\"name\\\":\\\"index\\\",\\\"scope\\\":\\\"15710112560833522536\\\",\\\"id\\\":\\\"11727787307810741069\\\",\\\"type\\\":\\\"observable\\\"},val)) : undefined; return this.valueFromJulia[\\\"index\\\"]=false}),self)]\\n        \\n    }\\n    self.model = new AppViewModel();\\n    self.valueFromJulia = {};\\n    for (var key in json_data) {\\n        self.valueFromJulia[key] = false;\\n    }\\n    ko.applyBindings(self.model, self.dom);\\n}\\n);\\n    (WebIO.importBlock({\\\"data\\\":[{\\\"name\\\":\\\"knockout\\\",\\\"type\\\":\\\"js\\\",\\\"url\\\":\\\"\\/assetserver\\/aa767470ed3fb2fdc226b1798340a340ee166b2a-knockout.js\\\"},{\\\"name\\\":\\\"knockout_punches\\\",\\\"type\\\":\\\"js\\\",\\\"url\\\":\\\"\\/assetserver\\/e8fb3dc53556d31ce61caa9a9c7ddd80d27fc9d0-knockout_punches.js\\\"}],\\\"type\\\":\\\"async_block\\\"})).then((imports) => handler.apply(this, imports));\\n}\\n\"],\"observables\":{\"changes\":{\"sync\":false,\"id\":\"17734304560880871224\",\"value\":0},\"index\":{\"sync\":true,\"id\":\"11727787307810741069\",\"value\":4}}},\"children\":[{\"props\":{\"className\":\"interact-flex-row interact-widget\"},\"nodeType\":\"DOM\",\"type\":\"node\",\"instanceArgs\":{\"namespace\":\"html\",\"tag\":\"div\"},\"children\":[{\"props\":{\"className\":\"interact-flex-row-left\"},\"nodeType\":\"DOM\",\"type\":\"node\",\"instanceArgs\":{\"namespace\":\"html\",\"tag\":\"div\"},\"children\":[{\"props\":{\"className\":\"interact \",\"style\":{\"padding\":\"5px 10px 0px 10px\"}},\"nodeType\":\"DOM\",\"type\":\"node\",\"instanceArgs\":{\"namespace\":\"html\",\"tag\":\"label\"},\"children\":[\"ex_i\"]}]},{\"props\":{\"className\":\"interact-flex-row-center\"},\"nodeType\":\"DOM\",\"type\":\"node\",\"instanceArgs\":{\"namespace\":\"html\",\"tag\":\"div\"},\"children\":[{\"props\":{\"max\":7,\"min\":1,\"attributes\":{\"type\":\"range\",\"data-bind\":\"numericValue: index, valueUpdate: 'input', event: {change: function (){this.changes(this.changes()+1)}}\",\"orient\":\"horizontal\"},\"step\":1,\"className\":\"slider slider is-fullwidth\",\"style\":{}},\"nodeType\":\"DOM\",\"type\":\"node\",\"instanceArgs\":{\"namespace\":\"html\",\"tag\":\"input\"},\"children\":[]}]},{\"props\":{\"className\":\"interact-flex-row-right\"},\"nodeType\":\"DOM\",\"type\":\"node\",\"instanceArgs\":{\"namespace\":\"html\",\"tag\":\"div\"},\"children\":[{\"props\":{\"attributes\":{\"data-bind\":\"text: formatted_val\"}},\"nodeType\":\"DOM\",\"type\":\"node\",\"instanceArgs\":{\"namespace\":\"html\",\"tag\":\"p\"},\"children\":[]}]}]}]}]},{\"props\":{},\"nodeType\":\"Scope\",\"type\":\"node\",\"instanceArgs\":{\"imports\":{\"data\":[],\"type\":\"async_block\"},\"id\":\"7676404930471772956\",\"handlers\":{},\"systemjs_options\":null,\"mount_callbacks\":[],\"observables\":{\"obs-node\":{\"sync\":false,\"id\":\"10122774574296636029\",\"value\":{\"props\":{\"className\":\"interact-flex-row interact-widget\"},\"nodeType\":\"DOM\",\"type\":\"node\",\"instanceArgs\":{\"namespace\":\"html\",\"tag\":\"div\"},\"children\":[{\"props\":{\"setInnerHtml\":\"<!DOCTYPE html>\\n<html>\\n    <head>\\n        <title>Plots.jl<\\/title>\\n        <meta http-equiv=\\\"content-type\\\" content=\\\"text\\/html; charset=UTF-8\\\">\\n        <script src=\\\"https:\\/\\/cdn.plot.ly\\/plotly-1.54.2.min.js\\\"><\\/script>\\n    <\\/head>\\n    <body>\\n            <div id=\\\"a4a1733e-0f7f-4cd8-a72a-6d2158b0a7ae\\\" style=\\\"width:600px;height:400px;\\\"><\\/div>\\n    <script>\\n    PLOT = document.getElementById('a4a1733e-0f7f-4cd8-a72a-6d2158b0a7ae');\\n    Plotly.plot(PLOT, [\\n    {\\n        \\\"xaxis\\\": \\\"x1\\\",\\n        \\\"colorbar\\\": {\\n            \\\"title\\\": \\\"\\\"\\n        },\\n        \\\"yaxis\\\": \\\"y1\\\",\\n        \\\"x\\\": [\\n            1,\\n            2,\\n            3,\\n            4,\\n            5,\\n            6,\\n            7,\\n            8,\\n            9,\\n            10,\\n            11,\\n            12,\\n            13,\\n            14,\\n            15,\\n            16,\\n            17,\\n            18,\\n            19,\\n            20,\\n            21,\\n            22,\\n            23,\\n            24,\\n            25,\\n            26,\\n            27,\\n            28,\\n            29,\\n            30,\\n            31,\\n            32,\\n            33,\\n            34,\\n            35,\\n            36,\\n            37,\\n            38,\\n            39,\\n            40,\\n            41,\\n            42,\\n            43,\\n            44,\\n            45,\\n            46,\\n            47,\\n            48,\\n            49,\\n            50,\\n            51,\\n            52,\\n            53,\\n            54,\\n            55,\\n            56,\\n            57,\\n            58,\\n            59,\\n            60,\\n            61,\\n            62,\\n            63,\\n            64,\\n            65,\\n            66,\\n            67,\\n            68,\\n            69,\\n            70,\\n            71,\\n            72,\\n            73,\\n            74,\\n            75,\\n            76,\\n            77,\\n            78,\\n            79,\\n            80,\\n            81,\\n            82,\\n            83,\\n            84,\\n            85,\\n            86,\\n            87,\\n            88,\\n            89,\\n            90,\\n            91,\\n            92,\\n            93,\\n            94,\\n            95,\\n            96,\\n            97,\\n            98,\\n            99,\\n            100,\\n            101\\n        ],\\n        \\\"showlegend\\\": true,\\n        \\\"mode\\\": \\\"lines\\\",\\n        \\\"name\\\": \\\"group 1 infections\\\",\\n        \\\"zmin\\\": null,\\n        \\\"legendgroup\\\": \\\"group 1 infections\\\",\\n        \\\"zmax\\\": null,\\n        \\\"line\\\": {\\n            \\\"color\\\": \\\"rgba(0, 0, 255, 1.000)\\\",\\n            \\\"shape\\\": \\\"linear\\\",\\n            \\\"dash\\\": \\\"dot\\\",\\n            \\\"width\\\": 1\\n        },\\n        \\\"y\\\": [\\n            0.0,\\n            0.0001,\\n            0.00017998950000000004,\\n            0.00024566502943893615,\\n            0.0003043179733635315,\\n            0.00037046376753035364,\\n            0.00047860608133356506,\\n            0.0006911133095232828,\\n            0.0010444912804890066,\\n            0.0015011531206166248,\\n            0.00200504664534906,\\n            0.0025113119913932613,\\n            0.0029888431905149126,\\n            0.003418110016348026,\\n            0.0037884697068205067,\\n            0.004095740518289258,\\n            0.0043402083727890365,\\n            0.004525073357433888,\\n            0.004655285492187422,\\n            0.004736701960819912,\\n            0.004775498303768637,\\n            0.004777773740145088,\\n            0.004749300836828516,\\n            0.004695379769397069,\\n            0.004620766362702146,\\n            0.004529650597174326,\\n            0.0044256683076208505,\\n            0.004311933529918488,\\n            0.004191082570782975,\\n            0.0040653235958281984,\\n            0.003936487542021522,\\n            0.0038060776248282414,\\n            0.0036753157603096635,\\n            0.0035451849629500824,\\n            0.0034164672919792037,\\n            0.003289777263922864,\\n            0.0031655908732199627,\\n            0.003044270500361122,\\n            0.002926086063586987,\\n            0.0028112328044917487,\\n            0.002699846103666253,\\n            0.002592013709795374,\\n            0.002487785741597165,\\n            0.002387182791749486,\\n            0.002290202429007769,\\n            0.0021968243614178306,\\n            0.002107014491354433,\\n            0.002020728062938889,\\n            0.0019379120746498466,\\n            0.0018585071047990264,\\n            0.0017824486749797152,\\n            0.0017096682564919142,\\n            0.0016400940069387332,\\n            0.001573651308495121,\\n            0.0015102631655993183,\\n            0.0014498505078509093,\\n            0.0013923324335742228,\\n            0.0013376264206925793,\\n            0.0012856485241368107,\\n            0.0012363135728642991,\\n            0.0011895353745769864,\\n            0.001145226932281784,\\n            0.00110330067381622,\\n            0.0010636686932470173,\\n            0.0010262430015216836,\\n            0.000990935782798844,\\n            0.0009576596523936557,\\n            0.0009263279121502721,\\n            0.0008968547992040428,\\n            0.0008691557244432743,\\n            0.000843147497456948,\\n            0.0008187485353055243,\\n            0.0007958790530326798,\\n            0.0007744612344125402,\\n            0.0007544193819747887,\\n            0.0007356800458517487,\\n            0.0007181721314364675,\\n            0.0007018269862234313,\\n            0.0006865784665223174,\\n            0.0006723629849916434,\\n            0.0006591195401369238,\\n            0.000646789729061999,\\n            0.0006353177448583915,\\n            0.0006246503600720332,\\n            0.0006147368977056819,\\n            0.0006055291912047757,\\n            0.0005969815348399115,\\n            0.0005890506258456585,\\n            0.0005816954996075487,\\n            0.0005748774591107839,\\n            0.0005685599997788779,\\n            0.0005627087307409766,\\n            0.0005572912934753795,\\n            0.0005522772786857685,\\n            0.0005476381421773862,\\n            0.0005433471204141264,\\n            0.0005393791463550969,\\n            0.0005357107660913814,\\n            0.0005323200567308712,\\n            0.0005291865459114639,\\n            0.000526291133260734\\n        ],\\n        \\\"type\\\": \\\"scatter\\\"\\n    },\\n    {\\n        \\\"xaxis\\\": \\\"x1\\\",\\n        \\\"colorbar\\\": {\\n            \\\"title\\\": \\\"\\\"\\n        },\\n        \\\"yaxis\\\": \\\"y1\\\",\\n        \\\"x\\\": [\\n            1,\\n            2,\\n            3,\\n            4,\\n            5,\\n            6,\\n            7,\\n            8,\\n            9,\\n            10,\\n            11,\\n            12,\\n            13,\\n            14,\\n            15,\\n            16,\\n            17,\\n            18,\\n            19,\\n            20,\\n            21,\\n            22,\\n            23,\\n            24,\\n            25,\\n            26,\\n            27,\\n            28,\\n            29,\\n            30,\\n            31,\\n            32,\\n            33,\\n            34,\\n            35,\\n            36,\\n            37,\\n            38,\\n            39,\\n            40,\\n            41,\\n            42,\\n            43,\\n            44,\\n            45,\\n            46,\\n            47,\\n            48,\\n            49,\\n            50,\\n            51,\\n            52,\\n            53,\\n            54,\\n            55,\\n            56,\\n            57,\\n            58,\\n            59,\\n            60,\\n            61,\\n            62,\\n            63,\\n            64,\\n            65,\\n            66,\\n            67,\\n            68,\\n            69,\\n            70,\\n            71,\\n            72,\\n            73,\\n            74,\\n            75,\\n            76,\\n            77,\\n            78,\\n            79,\\n            80,\\n            81,\\n            82,\\n            83,\\n            84,\\n            85,\\n            86,\\n            87,\\n            88,\\n            89,\\n            90,\\n            91,\\n            92,\\n            93,\\n            94,\\n            95,\\n            96,\\n            97,\\n            98,\\n            99,\\n            100,\\n            101\\n        ],\\n        \\\"showlegend\\\": true,\\n        \\\"mode\\\": \\\"lines\\\",\\n        \\\"name\\\": \\\"group 2 infections\\\",\\n        \\\"zmin\\\": null,\\n        \\\"legendgroup\\\": \\\"group 2 infections\\\",\\n        \\\"zmax\\\": null,\\n        \\\"line\\\": {\\n            \\\"color\\\": \\\"rgba(0, 128, 0, 1.000)\\\",\\n            \\\"shape\\\": \\\"linear\\\",\\n            \\\"dash\\\": \\\"dot\\\",\\n            \\\"width\\\": 1\\n        },\\n        \\\"y\\\": [\\n            0.0,\\n            0.0001,\\n            0.0001949662724592741,\\n            0.0002922457907166598,\\n            0.00041463370526907944,\\n            0.000630955772786247,\\n            0.0011203355301317667,\\n            0.0021727636721705183,\\n            0.00385083757879882,\\n            0.005859120109431644,\\n            0.007910587195523351,\\n            0.00983159954218319,\\n            0.011533453359096496,\\n            0.012980466120150195,\\n            0.014168128258519992,\\n            0.015109256073947131,\\n            0.015825455343732767,\\n            0.016341969582444823,\\n            0.016684655372428112,\\n            0.016878283431874294,\\n            0.01694565820305098,\\n            0.016907235450326033,\\n            0.016781035656495098,\\n            0.016582726151183384,\\n            0.016325792784209835,\\n            0.016021752508175693,\\n            0.01568037770105866,\\n            0.015309915395925819,\\n            0.014917292320919607,\\n            0.014508301422109661,\\n            0.014087768407391052,\\n            0.01365969850538746,\\n            0.013227404532163846,\\n            0.012793617794112764,\\n            0.012360583515748359,\\n            0.011930142484685264,\\n            0.011503800525591827,\\n            0.011082787293939696,\\n            0.010668105744152752,\\n            0.01026057348934525,\\n            0.009860857138672702,\\n            0.00946950057701804,\\n            0.009086948041751058,\\n            0.008713562752851619,\\n            0.008349641765293576,\\n            0.007995427635349217,\\n            0.007651117424261621,\\n            0.007316869502298968,\\n            0.006992808562289782,\\n            0.006679029203149979,\\n            0.006375598399595846,\\n            0.006082557133328311,\\n            0.005799921422829028,\\n            0.005527682953112571,\\n            0.005265809473131468,\\n            0.005014245097010967,\\n            0.004772910616012641,\\n            0.00454170390128527,\\n            0.004320500453279818,\\n            0.004109154132385533,\\n            0.003907498087032059,\\n            0.0037153458802618626,\\n            0.003532492803579608,\\n            0.0033587173576079127,\\n            0.0031937828725181307,\\n            0.003037439237087355,\\n            0.0028894247032409445,\\n            0.002749467732728948,\\n            0.0026172888538047168,\\n            0.00249260249808504,\\n            0.0023751187908595452,\\n            0.0022645452717011873,\\n            0.0021605885260685704,\\n            0.002062955712485681,\\n            0.001971355973676716,\\n            0.0018855017236052202,\\n            0.0018051098056334042,\\n            0.0017299025199264853,\\n            0.0016596085207501552,\\n            0.0015939635864402764,\\n            0.0015327112665701511,\\n            0.0014756034122239197,\\n            0.0014224005963320546,\\n            0.0013728724317699735,\\n            0.0013267977954002682,\\n            0.0012839649664880468,\\n            0.0012441716879743876,\\n            0.0012072251589876112,\\n            0.0011729419667380991,\\n            0.0011411479656076194,\\n            0.0011116781108334245,\\n            0.001084376253723289,\\n            0.001059094904838517,\\n            0.0010356949710634382,\\n            0.0010140454719557907,\\n            0.0009940232402522928,\\n            0.0009755126108973807,\\n            0.0009584051024751547,\\n            0.0009425990944621403,\\n            0.0009279995032826254,\\n            0.000914517459742915\\n        ],\\n        \\\"type\\\": \\\"scatter\\\"\\n    },\\n    {\\n        \\\"xaxis\\\": \\\"x1\\\",\\n        \\\"colorbar\\\": {\\n            \\\"title\\\": \\\"\\\"\\n        },\\n        \\\"yaxis\\\": \\\"y1\\\",\\n        \\\"x\\\": [\\n            1,\\n            2,\\n            3,\\n            4,\\n            5,\\n            6,\\n            7,\\n            8,\\n            9,\\n            10,\\n            11,\\n            12,\\n            13,\\n            14,\\n            15,\\n            16,\\n            17,\\n            18,\\n            19,\\n            20,\\n            21,\\n            22,\\n            23,\\n            24,\\n            25,\\n            26,\\n            27,\\n            28,\\n            29,\\n            30,\\n            31,\\n            32,\\n            33,\\n            34,\\n            35,\\n            36,\\n            37,\\n            38,\\n            39,\\n            40,\\n            41,\\n            42,\\n            43,\\n            44,\\n            45,\\n            46,\\n            47,\\n            48,\\n            49,\\n            50,\\n            51,\\n            52,\\n            53,\\n            54,\\n            55,\\n            56,\\n            57,\\n            58,\\n            59,\\n            60,\\n            61,\\n            62,\\n            63,\\n            64,\\n            65,\\n            66,\\n            67,\\n            68,\\n            69,\\n            70,\\n            71,\\n            72,\\n            73,\\n            74,\\n            75,\\n            76,\\n            77,\\n            78,\\n            79,\\n            80,\\n            81,\\n            82,\\n            83,\\n            84,\\n            85,\\n            86,\\n            87,\\n            88,\\n            89,\\n            90,\\n            91,\\n            92,\\n            93,\\n            94,\\n            95,\\n            96,\\n            97,\\n            98,\\n            99,\\n            100,\\n            101\\n        ],\\n        \\\"showlegend\\\": true,\\n        \\\"mode\\\": \\\"lines\\\",\\n        \\\"name\\\": \\\"group 3 infections\\\",\\n        \\\"zmin\\\": null,\\n        \\\"legendgroup\\\": \\\"group 3 infections\\\",\\n        \\\"zmax\\\": null,\\n        \\\"line\\\": {\\n            \\\"color\\\": \\\"rgba(255, 0, 0, 1.000)\\\",\\n            \\\"shape\\\": \\\"linear\\\",\\n            \\\"dash\\\": \\\"dot\\\",\\n            \\\"width\\\": 1\\n        },\\n        \\\"y\\\": [\\n            0.0,\\n            0.0001,\\n            0.00044432981246092176,\\n            0.0015775338456428477,\\n            0.0051670168953121915,\\n            0.015538236546436171,\\n            0.0389674194539195,\\n            0.07172001673401222,\\n            0.10036017141103314,\\n            0.12095118736373708,\\n            0.13458606104202087,\\n            0.14281026929594332,\\n            0.14693774580592883,\\n            0.14801123766960692,\\n            0.14684216880410106,\\n            0.14405589536854946,\\n            0.14013105074467314,\\n            0.13543168820030724,\\n            0.13023291402857856,\\n            0.1247410788895331,\\n            0.11910956672883058,\\n            0.11345108443690122,\\n            0.10784720026354118,\\n            0.10235573446404743,\\n            0.09701648087624468,\\n            0.09185563457228688,\\n            0.08688921693067317,\\n            0.0821257229599297,\\n            0.07756816377115709,\\n            0.0732156371191604,\\n            0.06906452850585985,\\n            0.06510942234775612,\\n            0.0613437853613545,\\n            0.05776047116721111,\\n            0.05435208503236589,\\n            0.05111123983037829,\\n            0.04803072810440812,\\n            0.045103630159969134,\\n            0.042323374107373,\\n            0.039683760522568855,\\n            0.037178961756183695,\\n            0.03480350378410596,\\n            0.03255223676928626,\\n            0.030420299117652764,\\n            0.028403078696054414,\\n            0.026496173981618805,\\n            0.02469535718394597,\\n            0.022996540787400425,\\n            0.02139574847220791,\\n            0.019889090969493102,\\n            0.018472747072493828,\\n            0.01714294975446897,\\n            0.015895977127117628,\\n            0.014728147807417057,\\n            0.013635820142211767,\\n            0.012615394665113314,\\n            0.011663319125168825,\\n            0.010776095426389916,\\n            0.009950287845913598,\\n            0.009182531950092108,\\n            0.008469543695805971,\\n            0.00780812828258829,\\n            0.007195188404091551,\\n            0.006627731630161209,\\n            0.006102876729390099,\\n            0.005617858813610615,\\n            0.0051700332484170015,\\n            0.004756878326469974,\\n            0.004375996742745779,\\n            0.004025115943374456,\\n            0.0037020874430229844,\\n            0.0034048852209572233,\\n            0.0031316033141515383,\\n            0.0028804527283436366,\\n            0.00264975778595311,\\n            0.0024379520244067676,\\n            0.002243573750625594,\\n            0.0020652613480692046,\\n            0.0019017484224993825,\\n            0.0017518588620702151,\\n            0.0016145018769050297,\\n            0.001488667073293248,\\n            0.0013734196082512938,\\n            0.0012678954615792729,\\n            0.0011712968547841812,\\n            0.0010828878393583862,\\n            0.001001990070887221,\\n            0.0009279787802780137,\\n            0.0008602789489986962,\\n            0.0007983616915250355,\\n            0.0007417408451509074,\\n            0.0006899697648440103,\\n            0.0006426383188619326,\\n            0.0005993700793116206,\\n            0.0005598197006791173,\\n            0.0005236704785174225,\\n            0.0004906320799091595,\\n            0.0004604384369700071,\\n            0.00043284579449077076,\\n            0.0004076309027940734,\\n            0.0003845893469769096\\n        ],\\n        \\\"type\\\": \\\"scatter\\\"\\n    },\\n    {\\n        \\\"xaxis\\\": \\\"x1\\\",\\n        \\\"colorbar\\\": {\\n            \\\"title\\\": \\\"\\\"\\n        },\\n        \\\"yaxis\\\": \\\"y1\\\",\\n        \\\"x\\\": [\\n            1,\\n            2,\\n            3,\\n            4,\\n            5,\\n            6,\\n            7,\\n            8,\\n            9,\\n            10,\\n            11,\\n            12,\\n            13,\\n            14,\\n            15,\\n            16,\\n            17,\\n            18,\\n            19,\\n            20,\\n            21,\\n            22,\\n            23,\\n            24,\\n            25,\\n            26,\\n            27,\\n            28,\\n            29,\\n            30,\\n            31,\\n            32,\\n            33,\\n            34,\\n            35,\\n            36,\\n            37,\\n            38,\\n            39,\\n            40,\\n            41,\\n            42,\\n            43,\\n            44,\\n            45,\\n            46,\\n            47,\\n            48,\\n            49,\\n            50,\\n            51,\\n            52,\\n            53,\\n            54,\\n            55,\\n            56,\\n            57,\\n            58,\\n            59,\\n            60,\\n            61,\\n            62,\\n            63,\\n            64,\\n            65,\\n            66,\\n            67,\\n            68,\\n            69,\\n            70,\\n            71,\\n            72,\\n            73,\\n            74,\\n            75,\\n            76,\\n            77,\\n            78,\\n            79,\\n            80,\\n            81,\\n            82,\\n            83,\\n            84,\\n            85,\\n            86,\\n            87,\\n            88,\\n            89,\\n            90,\\n            91,\\n            92,\\n            93,\\n            94,\\n            95,\\n            96,\\n            97,\\n            98,\\n            99,\\n            100,\\n            101\\n        ],\\n        \\\"showlegend\\\": true,\\n        \\\"mode\\\": \\\"lines+markers\\\",\\n        \\\"name\\\": \\\"total infections\\\",\\n        \\\"zmin\\\": null,\\n        \\\"legendgroup\\\": \\\"total infections\\\",\\n        \\\"marker\\\": {\\n            \\\"symbol\\\": \\\"circle\\\",\\n            \\\"color\\\": \\\"rgba(0, 0, 0, 1.000)\\\",\\n            \\\"line\\\": {\\n                \\\"color\\\": \\\"rgba(0, 0, 0, 1.000)\\\",\\n                \\\"width\\\": 1\\n            },\\n            \\\"size\\\": 8\\n        },\\n        \\\"zmax\\\": null,\\n        \\\"line\\\": {\\n            \\\"color\\\": \\\"rgba(0, 0, 0, 1.000)\\\",\\n            \\\"shape\\\": \\\"linear\\\",\\n            \\\"dash\\\": \\\"dot\\\",\\n            \\\"width\\\": 1\\n        },\\n        \\\"y\\\": [\\n            0.0,\\n            0.0001,\\n            0.00021391191747572927,\\n            0.0004021422916981891,\\n            0.0008457457315111715,\\n            0.0020174870480488822,\\n            0.00464835214299126,\\n            0.008534828833295795,\\n            0.012379232442698326,\\n            0.01562514003933618,\\n            0.01821591836010339,\\n            0.020201351497243232,\\n            0.021656038536347098,\\n            0.022658600833575,\\n            0.023283668892398305,\\n            0.023598513781144213,\\n            0.023661916095449313,\\n            0.023524182954226692,\\n            0.023227733285946885,\\n            0.022807930389218425,\\n            0.022293985095916007,\\n            0.021709835664911175,\\n            0.021074958189333075,\\n            0.020405088429755264,\\n            0.019712851024810244,\\n            0.019008299950186262,\\n            0.01829937786664499,\\n            0.017592303405923278,\\n            0.016891895565888704,\\n            0.01620184386130215,\\n            0.01552493207109012,\\n            0.01486322253740064,\\n            0.014218207106341238,\\n            0.013590929998957526,\\n            0.01298208717790245,\\n            0.012392106130949607,\\n            0.011821209422524712,\\n            0.01126946486311121,\\n            0.010736824708248471,\\n            0.01022315591872621,\\n            0.009728263186421223,\\n            0.009251906150837767,\\n            0.008793811994443021,\\n            0.00835368440489088,\\n            0.007931209723855338,\\n            0.0075260609604036206,\\n            0.007137900227067182,\\n            0.006766380055065082,\\n            0.0064111439582256215,\\n            0.006071826540443911,\\n            0.005748053377039192,\\n            0.005439440844707818,\\n            0.00514559602690177,\\n            0.00486611678069604,\\n            0.004600592017026638,\\n            0.004348602218157178,\\n            0.004109720193952893,\\n            0.0038835120615586583,\\n            0.0036695384208859927,\\n            0.0034673556903476975,\\n            0.0032765175629274213,\\n            0.0030965765413024744,\\n            0.0029270855117254474,\\n            0.002767599319118884,\\n            0.0026176763098067486,\\n            0.0024768798130242768,\\n            0.002344779537419635,\\n            0.0022209528638715806,\\n            0.0021049860208585533,\\n            0.0019964751331572753,\\n            0.0018950271387148505,\\n            0.001800260572068526,\\n            0.001711806215662511,\\n            0.0016293076228422203,\\n            0.0015524215182235845,\\n            0.0014808180825839864,\\n            0.0014141811304538485,\\n            0.0013522081892595357,\\n            0.0012946104892339427,\\n            0.0012411128734238172,\\n            0.001191453637030348,\\n            0.0011453843050660843,\\n            0.0011026693569345133,\\n            0.0010630859060717273,\\n            0.001026423342260825,\\n            0.0009924829436617722,\\n            0.0009610774650118805,\\n            0.0009320307078598705,\\n            0.0009051770781119386,\\n            0.0008803611356006268,\\n            0.0008574371398433542,\\n            0.0008362685956424362,\\n            0.0008167278016956036,\\n            0.0007986954049371886,\\n            0.0007820599629167616,\\n            0.0007667175161435391,\\n            0.0007525711719816451,\\n            0.0007395307013711306,\\n            0.0007275121493724956,\\n            0.0007164374602853056,\\n            0.000706234117873442\\n        ],\\n        \\\"type\\\": \\\"scatter\\\"\\n    },\\n    {\\n        \\\"xaxis\\\": \\\"x1\\\",\\n        \\\"colorbar\\\": {\\n            \\\"title\\\": \\\"\\\"\\n        },\\n        \\\"yaxis\\\": \\\"y1\\\",\\n        \\\"x\\\": [\\n            1,\\n            2,\\n            3,\\n            4,\\n            5,\\n            6,\\n            7,\\n            8,\\n            9,\\n            10,\\n            11,\\n            12,\\n            13,\\n            14,\\n            15,\\n            16,\\n            17,\\n            18,\\n            19,\\n            20,\\n            21,\\n            22,\\n            23,\\n            24,\\n            25,\\n            26,\\n            27,\\n            28,\\n            29,\\n            30,\\n            31,\\n            32,\\n            33,\\n            34,\\n            35,\\n            36,\\n            37,\\n            38,\\n            39,\\n            40,\\n            41,\\n            42,\\n            43,\\n            44,\\n            45,\\n            46,\\n            47,\\n            48,\\n            49,\\n            50,\\n            51,\\n            52,\\n            53,\\n            54,\\n            55,\\n            56,\\n            57,\\n            58,\\n            59,\\n            60,\\n            61,\\n            62,\\n            63,\\n            64,\\n            65,\\n            66,\\n            67,\\n            68,\\n            69,\\n            70,\\n            71,\\n            72,\\n            73,\\n            74,\\n            75,\\n            76,\\n            77,\\n            78,\\n            79,\\n            80,\\n            81,\\n            82,\\n            83,\\n            84,\\n            85,\\n            86,\\n            87,\\n            88,\\n            89,\\n            90,\\n            91,\\n            92,\\n            93,\\n            94,\\n            95,\\n            96,\\n            97,\\n            98,\\n            99,\\n            100,\\n            101\\n        ],\\n        \\\"showlegend\\\": true,\\n        \\\"mode\\\": \\\"lines\\\",\\n        \\\"name\\\": \\\"group 1 recovered\\\",\\n        \\\"zmin\\\": null,\\n        \\\"legendgroup\\\": \\\"group 1 recovered\\\",\\n        \\\"zmax\\\": null,\\n        \\\"line\\\": {\\n            \\\"color\\\": \\\"rgba(0, 0, 255, 1.000)\\\",\\n            \\\"shape\\\": \\\"linear\\\",\\n            \\\"dash\\\": \\\"solid\\\",\\n            \\\"width\\\": 1\\n        },\\n        \\\"y\\\": [\\n            0.0,\\n            0.0,\\n            2.5e-5,\\n            6.9997375e-5,\\n            0.00013141363235973406,\\n            0.00020749312570061693,\\n            0.0003001090675832053,\\n            0.00041976058791659657,\\n            0.0005925389152974173,\\n            0.0008536617354196689,\\n            0.0012289500155738251,\\n            0.0017302116769110903,\\n            0.0023580396747594056,\\n            0.0031052504723881338,\\n            0.003959777976475141,\\n            0.0049068954031802675,\\n            0.005930830532752582,\\n            0.007015882625949842,\\n            0.008147150965308313,\\n            0.00931097233835517,\\n            0.010495147828560147,\\n            0.011689022404502307,\\n            0.01288346583953858,\\n            0.014070791048745708,\\n            0.015244635991094975,\\n            0.016399827581770512,\\n            0.017532240231064092,\\n            0.018638657307969306,\\n            0.019716640690448928,\\n            0.02076441133314467,\\n            0.021780742232101722,\\n            0.022764864117607104,\\n            0.023716383523814163,\\n            0.024635212463891578,\\n            0.0255215087046291,\\n            0.0263756255276239,\\n            0.027198069843604615,\\n            0.027989467561909606,\\n            0.028750535186999885,\\n            0.029482056702896633,\\n            0.03018486490401957,\\n            0.030859826429936132,\\n            0.03150782985738498,\\n            0.03212977629278427,\\n            0.03272657199072164,\\n            0.03329912259797358,\\n            0.03384832868832804,\\n            0.03437508231116664,\\n            0.03488026432690136,\\n            0.035364742345563825,\\n            0.035829369121763585,\\n            0.03627498129050851,\\n            0.03670239835463149,\\n            0.03711242185636617,\\n            0.037505834683489954,\\n            0.037883400474889785,\\n            0.03824586310185251,\\n            0.03859394621024607,\\n            0.03892835281541921,\\n            0.039249764946453415,\\n            0.03955884333966949,\\n            0.03985622718331374,\\n            0.040142533916384185,\\n            0.04041835908483824,\\n            0.04068427625814999,\\n            0.04094083700853041,\\n            0.041188570954230126,\\n            0.04142798586732854,\\n            0.04165956784536611,\\n            0.04188378154516712,\\n            0.04210107047627794,\\n            0.042311857350642176,\\n            0.04251654448446856,\\n            0.04271551424772673,\\n            0.04290912955632987,\\n            0.043097734401823566,\\n            0.043281654413286505,\\n            0.04346119744614562,\\n            0.04363665419270148,\\n            0.043808298809332055,\\n            0.04397638955557997,\\n            0.0441411694406142,\\n            0.044302866872879695,\\n            0.044461696309094294,\\n            0.0446178588991123,\\n            0.044771543123538725,\\n            0.04492292542133992,\\n            0.045072170805049896,\\n            0.04521943346151131,\\n            0.0453648573364132,\\n            0.04550857670119089,\\n            0.04565071670113561,\\n            0.04579139388382085,\\n            0.04593071670718969,\\n            0.04606878602686113,\\n            0.04620569556240548,\\n            0.04634153234250901,\\n            0.04647637712909779,\\n            0.04661030482062063,\\n            0.04674338483480335,\\n            0.04687568147128122\\n        ],\\n        \\\"type\\\": \\\"scatter\\\"\\n    },\\n    {\\n        \\\"xaxis\\\": \\\"x1\\\",\\n        \\\"colorbar\\\": {\\n            \\\"title\\\": \\\"\\\"\\n        },\\n        \\\"yaxis\\\": \\\"y1\\\",\\n        \\\"x\\\": [\\n            1,\\n            2,\\n            3,\\n            4,\\n            5,\\n            6,\\n            7,\\n            8,\\n            9,\\n            10,\\n            11,\\n            12,\\n            13,\\n            14,\\n            15,\\n            16,\\n            17,\\n            18,\\n            19,\\n            20,\\n            21,\\n            22,\\n            23,\\n            24,\\n            25,\\n            26,\\n            27,\\n            28,\\n            29,\\n            30,\\n            31,\\n            32,\\n            33,\\n            34,\\n            35,\\n            36,\\n            37,\\n            38,\\n            39,\\n            40,\\n            41,\\n            42,\\n            43,\\n            44,\\n            45,\\n            46,\\n            47,\\n            48,\\n            49,\\n            50,\\n            51,\\n            52,\\n            53,\\n            54,\\n            55,\\n            56,\\n            57,\\n            58,\\n            59,\\n            60,\\n            61,\\n            62,\\n            63,\\n            64,\\n            65,\\n            66,\\n            67,\\n            68,\\n            69,\\n            70,\\n            71,\\n            72,\\n            73,\\n            74,\\n            75,\\n            76,\\n            77,\\n            78,\\n            79,\\n            80,\\n            81,\\n            82,\\n            83,\\n            84,\\n            85,\\n            86,\\n            87,\\n            88,\\n            89,\\n            90,\\n            91,\\n            92,\\n            93,\\n            94,\\n            95,\\n            96,\\n            97,\\n            98,\\n            99,\\n            100,\\n            101\\n        ],\\n        \\\"showlegend\\\": true,\\n        \\\"mode\\\": \\\"lines\\\",\\n        \\\"name\\\": \\\"group 2 recovered\\\",\\n        \\\"zmin\\\": null,\\n        \\\"legendgroup\\\": \\\"group 2 recovered\\\",\\n        \\\"zmax\\\": null,\\n        \\\"line\\\": {\\n            \\\"color\\\": \\\"rgba(0, 128, 0, 1.000)\\\",\\n            \\\"shape\\\": \\\"linear\\\",\\n            \\\"dash\\\": \\\"solid\\\",\\n            \\\"width\\\": 1\\n        },\\n        \\\"y\\\": [\\n            0.0,\\n            0.0,\\n            2.5e-5,\\n            7.374156811481853e-5,\\n            0.00014680301579398348,\\n            0.0002504614421112533,\\n            0.00040820038530781506,\\n            0.0006882842678407567,\\n            0.0012314751858833863,\\n            0.002194184580583091,\\n            0.003658964607941002,\\n            0.00563661140682184,\\n            0.008094511292367637,\\n            0.010977874632141761,\\n            0.014222991162179309,\\n            0.017765023226809305,\\n            0.021542337245296087,\\n            0.02549870108122928,\\n            0.029584193476840485,\\n            0.03375535731994751,\\n            0.03797492817791609,\\n            0.04221134272867884,\\n            0.04643815159126034,\\n            0.05063341050538412,\\n            0.05477909204317997,\\n            0.05886054023923243,\\n            0.06286597836627635,\\n            0.06678607279154102,\\n            0.07061355164052247,\\n            0.07434287472075236,\\n            0.07796995007627978,\\n            0.08149189217812755,\\n            0.08490681680447441,\\n            0.08821366793751538,\\n            0.09141207238604357,\\n            0.09450221826498066,\\n            0.09748475388615198,\\n            0.10036070401754993,\\n            0.10313140084103485,\\n            0.10579842727707305,\\n            0.10836357064940935,\\n            0.11082878493407752,\\n            0.11319616007833204,\\n            0.11546789708876981,\\n            0.11764628777698272,\\n            0.11973369821830611,\\n            0.12173255512714341,\\n            0.12364533448320882,\\n            0.12547455185878356,\\n            0.127222753999356,\\n            0.1288925113001435,\\n            0.13048641090004248,\\n            0.13200705018337455,\\n            0.1334570305390818,\\n            0.13483895127735995,\\n            0.13615540364564283,\\n            0.13740896491989557,\\n            0.13860219257389872,\\n            0.13973761854922004,\\n            0.14081774366254,\\n            0.14184503219563638,\\n            0.1428219067173944,\\n            0.14375074318745987,\\n            0.14463386638835476,\\n            0.14547354572775675,\\n            0.1462719914458863,\\n            0.14703135125515812,\\n            0.14775370743096836,\\n            0.1484410743641506,\\n            0.1490953965776018,\\n            0.14971854720212305,\\n            0.15031232689983792,\\n            0.15087846321776321,\\n            0.15141861034928036,\\n            0.1519343492774018,\\n            0.15242718827082097,\\n            0.15289856370172228,\\n            0.15334984115313063,\\n            0.15378231678311224,\\n            0.1541972189132998,\\n            0.15459570980990986,\\n            0.1549788876265524,\\n            0.1553477884796084,\\n            0.1557033886286914,\\n            0.1560466067366339,\\n            0.15637830618548396,\\n            0.15669929742710598,\\n            0.15701034034909958,\\n            0.1573121466388465,\\n            0.15760538213053102,\\n            0.15789066912193292,\\n            0.15816858864964128,\\n            0.1584396827130721,\\n            0.15870445643928172,\\n            0.1589633801820476,\\n            0.15921689155003654,\\n            0.15946539736009963,\\n            0.15970927551282396,\\n            0.15994887678844275,\\n            0.16018452656205828,\\n            0.16041652643787893\\n        ],\\n        \\\"type\\\": \\\"scatter\\\"\\n    },\\n    {\\n        \\\"xaxis\\\": \\\"x1\\\",\\n        \\\"colorbar\\\": {\\n            \\\"title\\\": \\\"\\\"\\n        },\\n        \\\"yaxis\\\": \\\"y1\\\",\\n        \\\"x\\\": [\\n            1,\\n            2,\\n            3,\\n            4,\\n            5,\\n            6,\\n            7,\\n            8,\\n            9,\\n            10,\\n            11,\\n            12,\\n            13,\\n            14,\\n            15,\\n            16,\\n            17,\\n            18,\\n            19,\\n            20,\\n            21,\\n            22,\\n            23,\\n            24,\\n            25,\\n            26,\\n            27,\\n            28,\\n            29,\\n            30,\\n            31,\\n            32,\\n            33,\\n            34,\\n            35,\\n            36,\\n            37,\\n            38,\\n            39,\\n            40,\\n            41,\\n            42,\\n            43,\\n            44,\\n            45,\\n            46,\\n            47,\\n            48,\\n            49,\\n            50,\\n            51,\\n            52,\\n            53,\\n            54,\\n            55,\\n            56,\\n            57,\\n            58,\\n            59,\\n            60,\\n            61,\\n            62,\\n            63,\\n            64,\\n            65,\\n            66,\\n            67,\\n            68,\\n            69,\\n            70,\\n            71,\\n            72,\\n            73,\\n            74,\\n            75,\\n            76,\\n            77,\\n            78,\\n            79,\\n            80,\\n            81,\\n            82,\\n            83,\\n            84,\\n            85,\\n            86,\\n            87,\\n            88,\\n            89,\\n            90,\\n            91,\\n            92,\\n            93,\\n            94,\\n            95,\\n            96,\\n            97,\\n            98,\\n            99,\\n            100,\\n            101\\n        ],\\n        \\\"showlegend\\\": true,\\n        \\\"mode\\\": \\\"lines\\\",\\n        \\\"name\\\": \\\"group 3 recovered\\\",\\n        \\\"zmin\\\": null,\\n        \\\"legendgroup\\\": \\\"group 3 recovered\\\",\\n        \\\"zmax\\\": null,\\n        \\\"line\\\": {\\n            \\\"color\\\": \\\"rgba(255, 0, 0, 1.000)\\\",\\n            \\\"shape\\\": \\\"linear\\\",\\n            \\\"dash\\\": \\\"solid\\\",\\n            \\\"width\\\": 1\\n        },\\n        \\\"y\\\": [\\n            0.0,\\n            0.0,\\n            2.5e-5,\\n            0.00013608245311523044,\\n            0.0005304659145259423,\\n            0.0018222201383539902,\\n            0.005706779274963033,\\n            0.01544863413844291,\\n            0.033378638321945965,\\n            0.058468681174704246,\\n            0.08870647801563852,\\n            0.12235299327614374,\\n            0.15805556060012957,\\n            0.19478999705161176,\\n            0.23179280646901348,\\n            0.2685033486700388,\\n            0.3045173225121761,\\n            0.3395500851983444,\\n            0.3734080072484212,\\n            0.40596623575556584,\\n            0.4371515054779491,\\n            0.4669288971601568,\\n            0.4952916682693821,\\n            0.5222534683352674,\\n            0.5478424019512793,\\n            0.5720965221703405,\\n            0.5950604308134122,\\n            0.6167827350460805,\\n            0.6373141657860629,\\n            0.6567062067288522,\\n            0.6750101160086422,\\n            0.6922762481351072,\\n            0.7085536037220462,\\n            0.7238895500623849,\\n            0.7383296678541876,\\n            0.7519176891122791,\\n            0.7646954990698737,\\n            0.7767031810959757,\\n            0.787979088635968,\\n            0.7985599321628113,\\n            0.8084808722934536,\\n            0.8177756127324994,\\n            0.826476488678526,\\n            0.8346145478708475,\\n            0.8422196226502607,\\n            0.8493203923242744,\\n            0.855944435819679,\\n            0.8621182751156655,\\n            0.8678674103125156,\\n            0.8732163474305675,\\n            0.8781886201729409,\\n            0.8828068069410643,\\n            0.8870925443796815,\\n            0.8910665386614609,\\n            0.8947485756133152,\\n            0.8981575306488682,\\n            0.9013113793151465,\\n            0.9042272090964387,\\n            0.9069212329530362,\\n            0.9094088049145146,\\n            0.9117044379020376,\\n            0.9138218238259891,\\n            0.9157738558966362,\\n            0.9175726529976591,\\n            0.9192295859051994,\\n            0.920755305087547,\\n            0.9221597697909496,\\n            0.9234522781030539,\\n            0.9246414976846713,\\n            0.9257354968703577,\\n            0.9267417758562013,\\n            0.9276672977169571,\\n            0.9285185190221964,\\n            0.9293014198507343,\\n            0.9300215330328202,\\n            0.9306839724793085,\\n            0.9312934604854102,\\n            0.9318543539230666,\\n            0.9323706692600839,\\n            0.9328461063657087,\\n            0.9332840710812264,\\n            0.9336876965504526,\\n            0.9340598633187759,\\n            0.9344032182208387,\\n            0.9347201920862336,\\n            0.9350130162999296,\\n            0.9352837382597692,\\n            0.935534235777491,\\n            0.9357662304725605,\\n            0.9359813002098102,\\n            0.9361808906326915,\\n            0.9363663258439793,\\n            0.9365388182851903,\\n            0.9366994778649057,\\n            0.9368493203847336,\\n            0.9369892753099034,\\n            0.9371201929295327,\\n            0.93724285094951,\\n            0.9373579605587525,\\n            0.9374661720073753,\\n            0.9375680797330738\\n        ],\\n        \\\"type\\\": \\\"scatter\\\"\\n    }\\n]\\n, {\\n    \\\"showlegend\\\": true,\\n    \\\"xaxis\\\": {\\n        \\\"showticklabels\\\": true,\\n        \\\"gridwidth\\\": 0.5,\\n        \\\"tickvals\\\": [\\n            0.0,\\n            25.0,\\n            50.0,\\n            75.0,\\n            100.0\\n        ],\\n        \\\"visible\\\": true,\\n        \\\"ticks\\\": \\\"inside\\\",\\n        \\\"range\\\": [\\n            -2.0,\\n            104.0\\n        ],\\n        \\\"domain\\\": [\\n            0.05100612423447069,\\n            0.9934383202099737\\n        ],\\n        \\\"tickmode\\\": \\\"array\\\",\\n        \\\"linecolor\\\": \\\"rgba(0, 0, 0, 1.000)\\\",\\n        \\\"showgrid\\\": true,\\n        \\\"title\\\": \\\"\\\",\\n        \\\"mirror\\\": false,\\n        \\\"tickangle\\\": 0,\\n        \\\"showline\\\": true,\\n        \\\"gridcolor\\\": \\\"rgba(0, 0, 0, 0.100)\\\",\\n        \\\"titlefont\\\": {\\n            \\\"color\\\": \\\"rgba(0, 0, 0, 1.000)\\\",\\n            \\\"family\\\": \\\"sans-serif\\\",\\n            \\\"size\\\": 15\\n        },\\n        \\\"tickcolor\\\": \\\"rgb(0, 0, 0)\\\",\\n        \\\"ticktext\\\": [\\n            \\\"0\\\",\\n            \\\"25\\\",\\n            \\\"50\\\",\\n            \\\"75\\\",\\n            \\\"100\\\"\\n        ],\\n        \\\"zeroline\\\": false,\\n        \\\"type\\\": \\\"-\\\",\\n        \\\"tickfont\\\": {\\n            \\\"color\\\": \\\"rgba(0, 0, 0, 1.000)\\\",\\n            \\\"family\\\": \\\"sans-serif\\\",\\n            \\\"size\\\": 11\\n        },\\n        \\\"zerolinecolor\\\": \\\"rgba(0, 0, 0, 1.000)\\\",\\n        \\\"anchor\\\": \\\"y1\\\"\\n    },\\n    \\\"paper_bgcolor\\\": \\\"rgba(255, 255, 255, 1.000)\\\",\\n    \\\"annotations\\\": [],\\n    \\\"height\\\": 400,\\n    \\\"margin\\\": {\\n        \\\"l\\\": 0,\\n        \\\"b\\\": 20,\\n        \\\"r\\\": 0,\\n        \\\"t\\\": 20\\n    },\\n    \\\"plot_bgcolor\\\": \\\"rgba(255, 255, 255, 1.000)\\\",\\n    \\\"yaxis\\\": {\\n        \\\"showticklabels\\\": true,\\n        \\\"gridwidth\\\": 0.5,\\n        \\\"tickvals\\\": [\\n            0.0,\\n            0.2,\\n            0.4,\\n            0.6000000000000001,\\n            0.8,\\n            1.0\\n        ],\\n        \\\"visible\\\": true,\\n        \\\"ticks\\\": \\\"inside\\\",\\n        \\\"range\\\": [\\n            0.0,\\n            1.0\\n        ],\\n        \\\"domain\\\": [\\n            0.03762029746281716,\\n            0.9901574803149606\\n        ],\\n        \\\"tickmode\\\": \\\"array\\\",\\n        \\\"linecolor\\\": \\\"rgba(0, 0, 0, 1.000)\\\",\\n        \\\"showgrid\\\": true,\\n        \\\"title\\\": \\\"\\\",\\n        \\\"mirror\\\": false,\\n        \\\"tickangle\\\": 0,\\n        \\\"showline\\\": true,\\n        \\\"gridcolor\\\": \\\"rgba(0, 0, 0, 0.100)\\\",\\n        \\\"titlefont\\\": {\\n            \\\"color\\\": \\\"rgba(0, 0, 0, 1.000)\\\",\\n            \\\"family\\\": \\\"sans-serif\\\",\\n            \\\"size\\\": 15\\n        },\\n        \\\"tickcolor\\\": \\\"rgb(0, 0, 0)\\\",\\n        \\\"ticktext\\\": [\\n            \\\"0.0\\\",\\n            \\\"0.2\\\",\\n            \\\"0.4\\\",\\n            \\\"0.6\\\",\\n            \\\"0.8\\\",\\n            \\\"1.0\\\"\\n        ],\\n        \\\"zeroline\\\": false,\\n        \\\"type\\\": \\\"-\\\",\\n        \\\"tickfont\\\": {\\n            \\\"color\\\": \\\"rgba(0, 0, 0, 1.000)\\\",\\n            \\\"family\\\": \\\"sans-serif\\\",\\n            \\\"size\\\": 11\\n        },\\n        \\\"zerolinecolor\\\": \\\"rgba(0, 0, 0, 1.000)\\\",\\n        \\\"anchor\\\": \\\"x1\\\"\\n    },\\n    \\\"legend\\\": {\\n        \\\"yanchor\\\": \\\"top\\\",\\n        \\\"xanchor\\\": \\\"left\\\",\\n        \\\"bordercolor\\\": \\\"rgba(0, 0, 0, 1.000)\\\",\\n        \\\"bgcolor\\\": \\\"rgba(255, 255, 255, 1.000)\\\",\\n        \\\"font\\\": {\\n            \\\"color\\\": \\\"rgba(0, 0, 0, 1.000)\\\",\\n            \\\"family\\\": \\\"sans-serif\\\",\\n            \\\"size\\\": 11\\n        },\\n        \\\"tracegroupgap\\\": 0,\\n        \\\"y\\\": 1.0,\\n        \\\"borderwidth\\\": 1,\\n        \\\"traceorder\\\": \\\"normal\\\",\\n        \\\"x\\\": 0.07\\n    },\\n    \\\"width\\\": 600\\n}\\n);\\n    <\\/script>\\n\\n    <\\/body>\\n<\\/html>\\n\"},\"nodeType\":\"DOM\",\"type\":\"node\",\"instanceArgs\":{\"namespace\":\"html\",\"tag\":\"div\"},\"children\":[]}]}}}},\"children\":[{\"props\":{},\"nodeType\":\"ObservableNode\",\"type\":\"node\",\"instanceArgs\":{\"id\":\"10122774574296636029\",\"name\":\"obs-node\"},\"children\":[]}]}]},\n",
       "            window,\n",
       "        );\n",
       "    } else {\n",
       "        document\n",
       "            .querySelector('[data-webio-mountpoint=\"208713491096529699\"]')\n",
       "            .innerHTML = (\n",
       "                '<div style=\"padding: 1em; background-color: #f8d6da; border: 1px solid #f5c6cb\">' +\n",
       "                '<p><strong>WebIO not detected.</strong></p>' +\n",
       "                '<p>Please read ' +\n",
       "                '<a href=\"https://juliagizmos.github.io/WebIO.jl/latest/troubleshooting/not-detected/\" target=\"_blank\">the troubleshooting guide</a> ' +\n",
       "                'for more information on how to resolve this issue.</p>' +\n",
       "                '<p><a href=\"https://juliagizmos.github.io/WebIO.jl/latest/troubleshooting/not-detected/\" target=\"_blank\">https://juliagizmos.github.io/WebIO.jl/latest/troubleshooting/not-detected/</a></p>' +\n",
       "                '</div>'\n",
       "            );\n",
       "    }\n",
       "    </script>\n",
       "</div>\n"
      ],
      "text/plain": [
       "Node{WebIO.DOM}(WebIO.DOM(:html, :div), Any[Node{WebIO.DOM}(WebIO.DOM(:html, :div), Any[Scope(Node{WebIO.DOM}(WebIO.DOM(:html, :div), Any[Node{WebIO.DOM}(WebIO.DOM(:html, :div), Any[Node{WebIO.DOM}(WebIO.DOM(:html, :label), Any[\"n_big_partiers\"], Dict{Symbol,Any}(:className => \"interact \",:style => Dict{Any,Any}(:padding => \"5px 10px 0px 10px\")))], Dict{Symbol,Any}(:className => \"interact-flex-row-left\")), Node{WebIO.DOM}(WebIO.DOM(:html, :div), Any[Node{WebIO.DOM}(WebIO.DOM(:html, :input), Any[], Dict{Symbol,Any}(:max => 20,:min => 1,:attributes => Dict{Any,Any}(:type => \"range\",Symbol(\"data-bind\") => \"numericValue: index, valueUpdate: 'input', event: {change: function (){this.changes(this.changes()+1)}}\",\"orient\" => \"horizontal\"),:step => 1,:className => \"slider slider is-fullwidth\",:style => Dict{Any,Any}()))], Dict{Symbol,Any}(:className => \"interact-flex-row-center\")), Node{WebIO.DOM}(WebIO.DOM(:html, :div), Any[Node{WebIO.DOM}(WebIO.DOM(:html, :p), Any[], Dict{Symbol,Any}(:attributes => Dict(\"data-bind\" => \"text: formatted_val\")))], Dict{Symbol,Any}(:className => \"interact-flex-row-right\"))], Dict{Symbol,Any}(:className => \"interact-flex-row interact-widget\")), Dict{String,Tuple{Observables.AbstractObservable,Union{Nothing, Bool}}}(\"changes\" => (Observable{Int64} with 1 listeners. Value:\n",
       "0, nothing),\"index\" => (Observable{Any} with 2 listeners. Value:\n",
       "10, nothing)), Set{String}(), nothing, Asset[Asset(\"js\", \"knockout\", \"/Users/madeleine/.julia/packages/Knockout/IP1uR/src/../assets/knockout.js\"), Asset(\"js\", \"knockout_punches\", \"/Users/madeleine/.julia/packages/Knockout/IP1uR/src/../assets/knockout_punches.js\"), Asset(\"js\", nothing, \"/Users/madeleine/.julia/packages/InteractBase/sOe2Z/src/../assets/all.js\"), Asset(\"css\", nothing, \"/Users/madeleine/.julia/packages/InteractBase/sOe2Z/src/../assets/style.css\"), Asset(\"css\", nothing, \"/Users/madeleine/.julia/packages/Interact/SbgIk/src/../assets/bulma_confined.min.css\")], Dict{Any,Any}(\"changes\" => Any[WebIO.JSString(\"(function (val){return (val!=this.model[\\\"changes\\\"]()) ? (this.valueFromJulia[\\\"changes\\\"]=true, this.model[\\\"changes\\\"](val)) : undefined})\")],\"index\" => Any[WebIO.JSString(\"(function (val){return (val!=this.model[\\\"index\\\"]()) ? (this.valueFromJulia[\\\"index\\\"]=true, this.model[\\\"index\\\"](val)) : undefined})\")]), WebIO.ConnectionPool(Channel{Any}(sz_max:32,sz_curr:0), Set{AbstractConnection}(), Base.GenericCondition{Base.AlwaysLockedST}(Base.InvasiveLinkedList{Task}(Task (runnable) @0x000000011863cd90, Task (runnable) @0x000000011863cd90), Base.AlwaysLockedST(1))), WebIO.JSString[WebIO.JSString(\"function () {\\n    var handler = (function (ko, koPunches) {\\n    ko.punches.enableAll();\\n    ko.bindingHandlers.numericValue = {\\n        init: function(element, valueAccessor, allBindings, data, context) {\\n            var stringified = ko.observable(ko.unwrap(valueAccessor()));\\n            stringified.subscribe(function(value) {\\n                var val = parseFloat(value);\\n                if (!isNaN(val)) {\\n                    valueAccessor()(val);\\n                }\\n            });\\n            valueAccessor().subscribe(function(value) {\\n                var str = JSON.stringify(value);\\n                if ((str == \\\"0\\\") && ([\\\"-0\\\", \\\"-0.\\\"].indexOf(stringified()) >= 0))\\n                     return;\\n                 if ([\\\"null\\\", \\\"\\\"].indexOf(str) >= 0)\\n                     return;\\n                stringified(str);\\n            });\\n            ko.applyBindingsToNode(\\n                element,\\n                {\\n                    value: stringified,\\n                    valueUpdate: allBindings.get('valueUpdate'),\\n                },\\n                context,\\n            );\\n        }\\n    };\\n    var json_data = {\\\"formatted_vals\\\":[\\\"0.01\\\",\\\"0.02\\\",\\\"0.03\\\",\\\"0.04\\\",\\\"0.05\\\",\\\"0.06\\\",\\\"0.07\\\",\\\"0.08\\\",\\\"0.09\\\",\\\"0.1\\\",\\\"0.11\\\",\\\"0.12\\\",\\\"0.13\\\",\\\"0.14\\\",\\\"0.15\\\",\\\"0.16\\\",\\\"0.17\\\",\\\"0.18\\\",\\\"0.19\\\",\\\"0.2\\\"],\\\"changes\\\":WebIO.getval({\\\"name\\\":\\\"changes\\\",\\\"scope\\\":\\\"4955072304956205487\\\",\\\"id\\\":\\\"16518010769640529931\\\",\\\"type\\\":\\\"observable\\\"}),\\\"index\\\":WebIO.getval({\\\"name\\\":\\\"index\\\",\\\"scope\\\":\\\"4955072304956205487\\\",\\\"id\\\":\\\"11761905228869271484\\\",\\\"type\\\":\\\"observable\\\"})};\\n    var self = this;\\n    function AppViewModel() {\\n        for (var key in json_data) {\\n            var el = json_data[key];\\n            this[key] = Array.isArray(el) ? ko.observableArray(el) : ko.observable(el);\\n        }\\n        \\n        [this[\\\"formatted_val\\\"]=ko.computed(    function(){\\n        return this.formatted_vals()[parseInt(this.index())-(1)];\\n    }\\n,this)]\\n        [this[\\\"changes\\\"].subscribe((function (val){!(this.valueFromJulia[\\\"changes\\\"]) ? (WebIO.setval({\\\"name\\\":\\\"changes\\\",\\\"scope\\\":\\\"4955072304956205487\\\",\\\"id\\\":\\\"16518010769640529931\\\",\\\"type\\\":\\\"observable\\\"},val)) : undefined; return this.valueFromJulia[\\\"changes\\\"]=false}),self),this[\\\"index\\\"].subscribe((function (val){!(this.valueFromJulia[\\\"index\\\"]) ? (WebIO.setval({\\\"name\\\":\\\"index\\\",\\\"scope\\\":\\\"4955072304956205487\\\",\\\"id\\\":\\\"11761905228869271484\\\",\\\"type\\\":\\\"observable\\\"},val)) : undefined; return this.valueFromJulia[\\\"index\\\"]=false}),self)]\\n        \\n    }\\n    self.model = new AppViewModel();\\n    self.valueFromJulia = {};\\n    for (var key in json_data) {\\n        self.valueFromJulia[key] = false;\\n    }\\n    ko.applyBindings(self.model, self.dom);\\n}\\n);\\n    (WebIO.importBlock({\\\"data\\\":[{\\\"name\\\":\\\"knockout\\\",\\\"type\\\":\\\"js\\\",\\\"url\\\":\\\"/assetserver/aa767470ed3fb2fdc226b1798340a340ee166b2a-knockout.js\\\"},{\\\"name\\\":\\\"knockout_punches\\\",\\\"type\\\":\\\"js\\\",\\\"url\\\":\\\"/assetserver/e8fb3dc53556d31ce61caa9a9c7ddd80d27fc9d0-knockout_punches.js\\\"}],\\\"type\\\":\\\"async_block\\\"})).then((imports) => handler.apply(this, imports));\\n}\\n\")])], Dict{Symbol,Any}(:className => \"field interact-widget\")), Node{WebIO.DOM}(WebIO.DOM(:html, :div), Any[Scope(Node{WebIO.DOM}(WebIO.DOM(:html, :div), Any[Node{WebIO.DOM}(WebIO.DOM(:html, :div), Any[Node{WebIO.DOM}(WebIO.DOM(:html, :label), Any[\"n_safe_partiers\"], Dict{Symbol,Any}(:className => \"interact \",:style => Dict{Any,Any}(:padding => \"5px 10px 0px 10px\")))], Dict{Symbol,Any}(:className => \"interact-flex-row-left\")), Node{WebIO.DOM}(WebIO.DOM(:html, :div), Any[Node{WebIO.DOM}(WebIO.DOM(:html, :input), Any[], Dict{Symbol,Any}(:max => 10,:min => 1,:attributes => Dict{Any,Any}(:type => \"range\",Symbol(\"data-bind\") => \"numericValue: index, valueUpdate: 'input', event: {change: function (){this.changes(this.changes()+1)}}\",\"orient\" => \"horizontal\"),:step => 1,:className => \"slider slider is-fullwidth\",:style => Dict{Any,Any}()))], Dict{Symbol,Any}(:className => \"interact-flex-row-center\")), Node{WebIO.DOM}(WebIO.DOM(:html, :div), Any[Node{WebIO.DOM}(WebIO.DOM(:html, :p), Any[], Dict{Symbol,Any}(:attributes => Dict(\"data-bind\" => \"text: formatted_val\")))], Dict{Symbol,Any}(:className => \"interact-flex-row-right\"))], Dict{Symbol,Any}(:className => \"interact-flex-row interact-widget\")), Dict{String,Tuple{Observables.AbstractObservable,Union{Nothing, Bool}}}(\"changes\" => (Observable{Int64} with 1 listeners. Value:\n",
       "0, nothing),\"index\" => (Observable{Any} with 2 listeners. Value:\n",
       "5, nothing)), Set{String}(), nothing, Asset[Asset(\"js\", \"knockout\", \"/Users/madeleine/.julia/packages/Knockout/IP1uR/src/../assets/knockout.js\"), Asset(\"js\", \"knockout_punches\", \"/Users/madeleine/.julia/packages/Knockout/IP1uR/src/../assets/knockout_punches.js\"), Asset(\"js\", nothing, \"/Users/madeleine/.julia/packages/InteractBase/sOe2Z/src/../assets/all.js\"), Asset(\"css\", nothing, \"/Users/madeleine/.julia/packages/InteractBase/sOe2Z/src/../assets/style.css\"), Asset(\"css\", nothing, \"/Users/madeleine/.julia/packages/Interact/SbgIk/src/../assets/bulma_confined.min.css\")], Dict{Any,Any}(\"changes\" => Any[WebIO.JSString(\"(function (val){return (val!=this.model[\\\"changes\\\"]()) ? (this.valueFromJulia[\\\"changes\\\"]=true, this.model[\\\"changes\\\"](val)) : undefined})\")],\"index\" => Any[WebIO.JSString(\"(function (val){return (val!=this.model[\\\"index\\\"]()) ? (this.valueFromJulia[\\\"index\\\"]=true, this.model[\\\"index\\\"](val)) : undefined})\")]), WebIO.ConnectionPool(Channel{Any}(sz_max:32,sz_curr:0), Set{AbstractConnection}(), Base.GenericCondition{Base.AlwaysLockedST}(Base.InvasiveLinkedList{Task}(Task (runnable) @0x000000011863c010, Task (runnable) @0x000000011863c010), Base.AlwaysLockedST(1))), WebIO.JSString[WebIO.JSString(\"function () {\\n    var handler = (function (ko, koPunches) {\\n    ko.punches.enableAll();\\n    ko.bindingHandlers.numericValue = {\\n        init: function(element, valueAccessor, allBindings, data, context) {\\n            var stringified = ko.observable(ko.unwrap(valueAccessor()));\\n            stringified.subscribe(function(value) {\\n                var val = parseFloat(value);\\n                if (!isNaN(val)) {\\n                    valueAccessor()(val);\\n                }\\n            });\\n            valueAccessor().subscribe(function(value) {\\n                var str = JSON.stringify(value);\\n                if ((str == \\\"0\\\") && ([\\\"-0\\\", \\\"-0.\\\"].indexOf(stringified()) >= 0))\\n                     return;\\n                 if ([\\\"null\\\", \\\"\\\"].indexOf(str) >= 0)\\n                     return;\\n                stringified(str);\\n            });\\n            ko.applyBindingsToNode(\\n                element,\\n                {\\n                    value: stringified,\\n                    valueUpdate: allBindings.get('valueUpdate'),\\n                },\\n                context,\\n            );\\n        }\\n    };\\n    var json_data = {\\\"formatted_vals\\\":[\\\"0.1\\\",\\\"0.2\\\",\\\"0.3\\\",\\\"0.4\\\",\\\"0.5\\\",\\\"0.6\\\",\\\"0.7\\\",\\\"0.8\\\",\\\"0.9\\\",\\\"1.0\\\"],\\\"changes\\\":WebIO.getval({\\\"name\\\":\\\"changes\\\",\\\"scope\\\":\\\"697030370595499728\\\",\\\"id\\\":\\\"959882810703209661\\\",\\\"type\\\":\\\"observable\\\"}),\\\"index\\\":WebIO.getval({\\\"name\\\":\\\"index\\\",\\\"scope\\\":\\\"697030370595499728\\\",\\\"id\\\":\\\"7782082673711945698\\\",\\\"type\\\":\\\"observable\\\"})};\\n    var self = this;\\n    function AppViewModel() {\\n        for (var key in json_data) {\\n            var el = json_data[key];\\n            this[key] = Array.isArray(el) ? ko.observableArray(el) : ko.observable(el);\\n        }\\n        \\n        [this[\\\"formatted_val\\\"]=ko.computed(    function(){\\n        return this.formatted_vals()[parseInt(this.index())-(1)];\\n    }\\n,this)]\\n        [this[\\\"changes\\\"].subscribe((function (val){!(this.valueFromJulia[\\\"changes\\\"]) ? (WebIO.setval({\\\"name\\\":\\\"changes\\\",\\\"scope\\\":\\\"697030370595499728\\\",\\\"id\\\":\\\"959882810703209661\\\",\\\"type\\\":\\\"observable\\\"},val)) : undefined; return this.valueFromJulia[\\\"changes\\\"]=false}),self),this[\\\"index\\\"].subscribe((function (val){!(this.valueFromJulia[\\\"index\\\"]) ? (WebIO.setval({\\\"name\\\":\\\"index\\\",\\\"scope\\\":\\\"697030370595499728\\\",\\\"id\\\":\\\"7782082673711945698\\\",\\\"type\\\":\\\"observable\\\"},val)) : undefined; return this.valueFromJulia[\\\"index\\\"]=false}),self)]\\n        \\n    }\\n    self.model = new AppViewModel();\\n    self.valueFromJulia = {};\\n    for (var key in json_data) {\\n        self.valueFromJulia[key] = false;\\n    }\\n    ko.applyBindings(self.model, self.dom);\\n}\\n);\\n    (WebIO.importBlock({\\\"data\\\":[{\\\"name\\\":\\\"knockout\\\",\\\"type\\\":\\\"js\\\",\\\"url\\\":\\\"/assetserver/aa767470ed3fb2fdc226b1798340a340ee166b2a-knockout.js\\\"},{\\\"name\\\":\\\"knockout_punches\\\",\\\"type\\\":\\\"js\\\",\\\"url\\\":\\\"/assetserver/e8fb3dc53556d31ce61caa9a9c7ddd80d27fc9d0-knockout_punches.js\\\"}],\\\"type\\\":\\\"async_block\\\"})).then((imports) => handler.apply(this, imports));\\n}\\n\")])], Dict{Symbol,Any}(:className => \"field interact-widget\")), Node{WebIO.DOM}(WebIO.DOM(:html, :div), Any[Scope(Node{WebIO.DOM}(WebIO.DOM(:html, :div), Any[Node{WebIO.DOM}(WebIO.DOM(:html, :div), Any[Node{WebIO.DOM}(WebIO.DOM(:html, :label), Any[\"test_period\"], Dict{Symbol,Any}(:className => \"interact \",:style => Dict{Any,Any}(:padding => \"5px 10px 0px 10px\")))], Dict{Symbol,Any}(:className => \"interact-flex-row-left\")), Node{WebIO.DOM}(WebIO.DOM(:html, :div), Any[Node{WebIO.DOM}(WebIO.DOM(:html, :input), Any[], Dict{Symbol,Any}(:max => 7,:min => 1,:attributes => Dict{Any,Any}(:type => \"range\",Symbol(\"data-bind\") => \"numericValue: index, valueUpdate: 'input', event: {change: function (){this.changes(this.changes()+1)}}\",\"orient\" => \"horizontal\"),:step => 1,:className => \"slider slider is-fullwidth\",:style => Dict{Any,Any}()))], Dict{Symbol,Any}(:className => \"interact-flex-row-center\")), Node{WebIO.DOM}(WebIO.DOM(:html, :div), Any[Node{WebIO.DOM}(WebIO.DOM(:html, :p), Any[], Dict{Symbol,Any}(:attributes => Dict(\"data-bind\" => \"text: formatted_val\")))], Dict{Symbol,Any}(:className => \"interact-flex-row-right\"))], Dict{Symbol,Any}(:className => \"interact-flex-row interact-widget\")), Dict{String,Tuple{Observables.AbstractObservable,Union{Nothing, Bool}}}(\"changes\" => (Observable{Int64} with 1 listeners. Value:\n",
       "0, nothing),\"index\" => (Observable{Int64} with 2 listeners. Value:\n",
       "4, nothing)), Set{String}(), nothing, Asset[Asset(\"js\", \"knockout\", \"/Users/madeleine/.julia/packages/Knockout/IP1uR/src/../assets/knockout.js\"), Asset(\"js\", \"knockout_punches\", \"/Users/madeleine/.julia/packages/Knockout/IP1uR/src/../assets/knockout_punches.js\"), Asset(\"js\", nothing, \"/Users/madeleine/.julia/packages/InteractBase/sOe2Z/src/../assets/all.js\"), Asset(\"css\", nothing, \"/Users/madeleine/.julia/packages/InteractBase/sOe2Z/src/../assets/style.css\"), Asset(\"css\", nothing, \"/Users/madeleine/.julia/packages/Interact/SbgIk/src/../assets/bulma_confined.min.css\")], Dict{Any,Any}(\"changes\" => Any[WebIO.JSString(\"(function (val){return (val!=this.model[\\\"changes\\\"]()) ? (this.valueFromJulia[\\\"changes\\\"]=true, this.model[\\\"changes\\\"](val)) : undefined})\")],\"index\" => Any[WebIO.JSString(\"(function (val){return (val!=this.model[\\\"index\\\"]()) ? (this.valueFromJulia[\\\"index\\\"]=true, this.model[\\\"index\\\"](val)) : undefined})\")]), WebIO.ConnectionPool(Channel{Any}(sz_max:32,sz_curr:0), Set{AbstractConnection}(), Base.GenericCondition{Base.AlwaysLockedST}(Base.InvasiveLinkedList{Task}(Task (runnable) @0x000000011838a410, Task (runnable) @0x000000011838a410), Base.AlwaysLockedST(1))), WebIO.JSString[WebIO.JSString(\"function () {\\n    var handler = (function (ko, koPunches) {\\n    ko.punches.enableAll();\\n    ko.bindingHandlers.numericValue = {\\n        init: function(element, valueAccessor, allBindings, data, context) {\\n            var stringified = ko.observable(ko.unwrap(valueAccessor()));\\n            stringified.subscribe(function(value) {\\n                var val = parseFloat(value);\\n                if (!isNaN(val)) {\\n                    valueAccessor()(val);\\n                }\\n            });\\n            valueAccessor().subscribe(function(value) {\\n                var str = JSON.stringify(value);\\n                if ((str == \\\"0\\\") && ([\\\"-0\\\", \\\"-0.\\\"].indexOf(stringified()) >= 0))\\n                     return;\\n                 if ([\\\"null\\\", \\\"\\\"].indexOf(str) >= 0)\\n                     return;\\n                stringified(str);\\n            });\\n            ko.applyBindingsToNode(\\n                element,\\n                {\\n                    value: stringified,\\n                    valueUpdate: allBindings.get('valueUpdate'),\\n                },\\n                context,\\n            );\\n        }\\n    };\\n    var json_data = {\\\"formatted_vals\\\":[\\\"1\\\",\\\"2\\\",\\\"3\\\",\\\"4\\\",\\\"5\\\",\\\"6\\\",\\\"7\\\"],\\\"changes\\\":WebIO.getval({\\\"name\\\":\\\"changes\\\",\\\"scope\\\":\\\"5621904757225941425\\\",\\\"id\\\":\\\"9464662453871580644\\\",\\\"type\\\":\\\"observable\\\"}),\\\"index\\\":WebIO.getval({\\\"name\\\":\\\"index\\\",\\\"scope\\\":\\\"5621904757225941425\\\",\\\"id\\\":\\\"18069724218900395481\\\",\\\"type\\\":\\\"observable\\\"})};\\n    var self = this;\\n    function AppViewModel() {\\n        for (var key in json_data) {\\n            var el = json_data[key];\\n            this[key] = Array.isArray(el) ? ko.observableArray(el) : ko.observable(el);\\n        }\\n        \\n        [this[\\\"formatted_val\\\"]=ko.computed(    function(){\\n        return this.formatted_vals()[parseInt(this.index())-(1)];\\n    }\\n,this)]\\n        [this[\\\"changes\\\"].subscribe((function (val){!(this.valueFromJulia[\\\"changes\\\"]) ? (WebIO.setval({\\\"name\\\":\\\"changes\\\",\\\"scope\\\":\\\"5621904757225941425\\\",\\\"id\\\":\\\"9464662453871580644\\\",\\\"type\\\":\\\"observable\\\"},val)) : undefined; return this.valueFromJulia[\\\"changes\\\"]=false}),self),this[\\\"index\\\"].subscribe((function (val){!(this.valueFromJulia[\\\"index\\\"]) ? (WebIO.setval({\\\"name\\\":\\\"index\\\",\\\"scope\\\":\\\"5621904757225941425\\\",\\\"id\\\":\\\"18069724218900395481\\\",\\\"type\\\":\\\"observable\\\"},val)) : undefined; return this.valueFromJulia[\\\"index\\\"]=false}),self)]\\n        \\n    }\\n    self.model = new AppViewModel();\\n    self.valueFromJulia = {};\\n    for (var key in json_data) {\\n        self.valueFromJulia[key] = false;\\n    }\\n    ko.applyBindings(self.model, self.dom);\\n}\\n);\\n    (WebIO.importBlock({\\\"data\\\":[{\\\"name\\\":\\\"knockout\\\",\\\"type\\\":\\\"js\\\",\\\"url\\\":\\\"/assetserver/aa767470ed3fb2fdc226b1798340a340ee166b2a-knockout.js\\\"},{\\\"name\\\":\\\"knockout_punches\\\",\\\"type\\\":\\\"js\\\",\\\"url\\\":\\\"/assetserver/e8fb3dc53556d31ce61caa9a9c7ddd80d27fc9d0-knockout_punches.js\\\"}],\\\"type\\\":\\\"async_block\\\"})).then((imports) => handler.apply(this, imports));\\n}\\n\")])], Dict{Symbol,Any}(:className => \"field interact-widget\")), Node{WebIO.DOM}(WebIO.DOM(:html, :div), Any[Scope(Node{WebIO.DOM}(WebIO.DOM(:html, :div), Any[Node{WebIO.DOM}(WebIO.DOM(:html, :div), Any[Node{WebIO.DOM}(WebIO.DOM(:html, :label), Any[\"inf_no_PPE\"], Dict{Symbol,Any}(:className => \"interact \",:style => Dict{Any,Any}(:padding => \"5px 10px 0px 10px\")))], Dict{Symbol,Any}(:className => \"interact-flex-row-left\")), Node{WebIO.DOM}(WebIO.DOM(:html, :div), Any[Node{WebIO.DOM}(WebIO.DOM(:html, :input), Any[], Dict{Symbol,Any}(:max => 20,:min => 1,:attributes => Dict{Any,Any}(:type => \"range\",Symbol(\"data-bind\") => \"numericValue: index, valueUpdate: 'input', event: {change: function (){this.changes(this.changes()+1)}}\",\"orient\" => \"horizontal\"),:step => 1,:className => \"slider slider is-fullwidth\",:style => Dict{Any,Any}()))], Dict{Symbol,Any}(:className => \"interact-flex-row-center\")), Node{WebIO.DOM}(WebIO.DOM(:html, :div), Any[Node{WebIO.DOM}(WebIO.DOM(:html, :p), Any[], Dict{Symbol,Any}(:attributes => Dict(\"data-bind\" => \"text: formatted_val\")))], Dict{Symbol,Any}(:className => \"interact-flex-row-right\"))], Dict{Symbol,Any}(:className => \"interact-flex-row interact-widget\")), Dict{String,Tuple{Observables.AbstractObservable,Union{Nothing, Bool}}}(\"changes\" => (Observable{Int64} with 1 listeners. Value:\n",
       "0, nothing),\"index\" => (Observable{Any} with 2 listeners. Value:\n",
       "10, nothing)), Set{String}(), nothing, Asset[Asset(\"js\", \"knockout\", \"/Users/madeleine/.julia/packages/Knockout/IP1uR/src/../assets/knockout.js\"), Asset(\"js\", \"knockout_punches\", \"/Users/madeleine/.julia/packages/Knockout/IP1uR/src/../assets/knockout_punches.js\"), Asset(\"js\", nothing, \"/Users/madeleine/.julia/packages/InteractBase/sOe2Z/src/../assets/all.js\"), Asset(\"css\", nothing, \"/Users/madeleine/.julia/packages/InteractBase/sOe2Z/src/../assets/style.css\"), Asset(\"css\", nothing, \"/Users/madeleine/.julia/packages/Interact/SbgIk/src/../assets/bulma_confined.min.css\")], Dict{Any,Any}(\"changes\" => Any[WebIO.JSString(\"(function (val){return (val!=this.model[\\\"changes\\\"]()) ? (this.valueFromJulia[\\\"changes\\\"]=true, this.model[\\\"changes\\\"](val)) : undefined})\")],\"index\" => Any[WebIO.JSString(\"(function (val){return (val!=this.model[\\\"index\\\"]()) ? (this.valueFromJulia[\\\"index\\\"]=true, this.model[\\\"index\\\"](val)) : undefined})\")]), WebIO.ConnectionPool(Channel{Any}(sz_max:32,sz_curr:0), Set{AbstractConnection}(), Base.GenericCondition{Base.AlwaysLockedST}(Base.InvasiveLinkedList{Task}(Task (runnable) @0x000000011838af50, Task (runnable) @0x000000011838af50), Base.AlwaysLockedST(1))), WebIO.JSString[WebIO.JSString(\"function () {\\n    var handler = (function (ko, koPunches) {\\n    ko.punches.enableAll();\\n    ko.bindingHandlers.numericValue = {\\n        init: function(element, valueAccessor, allBindings, data, context) {\\n            var stringified = ko.observable(ko.unwrap(valueAccessor()));\\n            stringified.subscribe(function(value) {\\n                var val = parseFloat(value);\\n                if (!isNaN(val)) {\\n                    valueAccessor()(val);\\n                }\\n            });\\n            valueAccessor().subscribe(function(value) {\\n                var str = JSON.stringify(value);\\n                if ((str == \\\"0\\\") && ([\\\"-0\\\", \\\"-0.\\\"].indexOf(stringified()) >= 0))\\n                     return;\\n                 if ([\\\"null\\\", \\\"\\\"].indexOf(str) >= 0)\\n                     return;\\n                stringified(str);\\n            });\\n            ko.applyBindingsToNode(\\n                element,\\n                {\\n                    value: stringified,\\n                    valueUpdate: allBindings.get('valueUpdate'),\\n                },\\n                context,\\n            );\\n        }\\n    };\\n    var json_data = {\\\"formatted_vals\\\":[\\\"0.05\\\",\\\"0.1\\\",\\\"0.15\\\",\\\"0.2\\\",\\\"0.25\\\",\\\"0.3\\\",\\\"0.35\\\",\\\"0.4\\\",\\\"0.45\\\",\\\"0.5\\\",\\\"0.55\\\",\\\"0.6\\\",\\\"0.65\\\",\\\"0.7\\\",\\\"0.75\\\",\\\"0.8\\\",\\\"0.85\\\",\\\"0.9\\\",\\\"0.95\\\",\\\"1.0\\\"],\\\"changes\\\":WebIO.getval({\\\"name\\\":\\\"changes\\\",\\\"scope\\\":\\\"7028077530302003109\\\",\\\"id\\\":\\\"4876503512435406566\\\",\\\"type\\\":\\\"observable\\\"}),\\\"index\\\":WebIO.getval({\\\"name\\\":\\\"index\\\",\\\"scope\\\":\\\"7028077530302003109\\\",\\\"id\\\":\\\"13726977930758239651\\\",\\\"type\\\":\\\"observable\\\"})};\\n    var self = this;\\n    function AppViewModel() {\\n        for (var key in json_data) {\\n            var el = json_data[key];\\n            this[key] = Array.isArray(el) ? ko.observableArray(el) : ko.observable(el);\\n        }\\n        \\n        [this[\\\"formatted_val\\\"]=ko.computed(    function(){\\n        return this.formatted_vals()[parseInt(this.index())-(1)];\\n    }\\n,this)]\\n        [this[\\\"changes\\\"].subscribe((function (val){!(this.valueFromJulia[\\\"changes\\\"]) ? (WebIO.setval({\\\"name\\\":\\\"changes\\\",\\\"scope\\\":\\\"7028077530302003109\\\",\\\"id\\\":\\\"4876503512435406566\\\",\\\"type\\\":\\\"observable\\\"},val)) : undefined; return this.valueFromJulia[\\\"changes\\\"]=false}),self),this[\\\"index\\\"].subscribe((function (val){!(this.valueFromJulia[\\\"index\\\"]) ? (WebIO.setval({\\\"name\\\":\\\"index\\\",\\\"scope\\\":\\\"7028077530302003109\\\",\\\"id\\\":\\\"13726977930758239651\\\",\\\"type\\\":\\\"observable\\\"},val)) : undefined; return this.valueFromJulia[\\\"index\\\"]=false}),self)]\\n        \\n    }\\n    self.model = new AppViewModel();\\n    self.valueFromJulia = {};\\n    for (var key in json_data) {\\n        self.valueFromJulia[key] = false;\\n    }\\n    ko.applyBindings(self.model, self.dom);\\n}\\n);\\n    (WebIO.importBlock({\\\"data\\\":[{\\\"name\\\":\\\"knockout\\\",\\\"type\\\":\\\"js\\\",\\\"url\\\":\\\"/assetserver/aa767470ed3fb2fdc226b1798340a340ee166b2a-knockout.js\\\"},{\\\"name\\\":\\\"knockout_punches\\\",\\\"type\\\":\\\"js\\\",\\\"url\\\":\\\"/assetserver/e8fb3dc53556d31ce61caa9a9c7ddd80d27fc9d0-knockout_punches.js\\\"}],\\\"type\\\":\\\"async_block\\\"})).then((imports) => handler.apply(this, imports));\\n}\\n\")])], Dict{Symbol,Any}(:className => \"field interact-widget\")), Node{WebIO.DOM}(WebIO.DOM(:html, :div), Any[Scope(Node{WebIO.DOM}(WebIO.DOM(:html, :div), Any[Node{WebIO.DOM}(WebIO.DOM(:html, :div), Any[Node{WebIO.DOM}(WebIO.DOM(:html, :label), Any[\"inf_with_PPE\"], Dict{Symbol,Any}(:className => \"interact \",:style => Dict{Any,Any}(:padding => \"5px 10px 0px 10px\")))], Dict{Symbol,Any}(:className => \"interact-flex-row-left\")), Node{WebIO.DOM}(WebIO.DOM(:html, :div), Any[Node{WebIO.DOM}(WebIO.DOM(:html, :input), Any[], Dict{Symbol,Any}(:max => 10,:min => 1,:attributes => Dict{Any,Any}(:type => \"range\",Symbol(\"data-bind\") => \"numericValue: index, valueUpdate: 'input', event: {change: function (){this.changes(this.changes()+1)}}\",\"orient\" => \"horizontal\"),:step => 1,:className => \"slider slider is-fullwidth\",:style => Dict{Any,Any}()))], Dict{Symbol,Any}(:className => \"interact-flex-row-center\")), Node{WebIO.DOM}(WebIO.DOM(:html, :div), Any[Node{WebIO.DOM}(WebIO.DOM(:html, :p), Any[], Dict{Symbol,Any}(:attributes => Dict(\"data-bind\" => \"text: formatted_val\")))], Dict{Symbol,Any}(:className => \"interact-flex-row-right\"))], Dict{Symbol,Any}(:className => \"interact-flex-row interact-widget\")), Dict{String,Tuple{Observables.AbstractObservable,Union{Nothing, Bool}}}(\"changes\" => (Observable{Int64} with 1 listeners. Value:\n",
       "0, nothing),\"index\" => (Observable{Any} with 2 listeners. Value:\n",
       "5, nothing)), Set{String}(), nothing, Asset[Asset(\"js\", \"knockout\", \"/Users/madeleine/.julia/packages/Knockout/IP1uR/src/../assets/knockout.js\"), Asset(\"js\", \"knockout_punches\", \"/Users/madeleine/.julia/packages/Knockout/IP1uR/src/../assets/knockout_punches.js\"), Asset(\"js\", nothing, \"/Users/madeleine/.julia/packages/InteractBase/sOe2Z/src/../assets/all.js\"), Asset(\"css\", nothing, \"/Users/madeleine/.julia/packages/InteractBase/sOe2Z/src/../assets/style.css\"), Asset(\"css\", nothing, \"/Users/madeleine/.julia/packages/Interact/SbgIk/src/../assets/bulma_confined.min.css\")], Dict{Any,Any}(\"changes\" => Any[WebIO.JSString(\"(function (val){return (val!=this.model[\\\"changes\\\"]()) ? (this.valueFromJulia[\\\"changes\\\"]=true, this.model[\\\"changes\\\"](val)) : undefined})\")],\"index\" => Any[WebIO.JSString(\"(function (val){return (val!=this.model[\\\"index\\\"]()) ? (this.valueFromJulia[\\\"index\\\"]=true, this.model[\\\"index\\\"](val)) : undefined})\")]), WebIO.ConnectionPool(Channel{Any}(sz_max:32,sz_curr:0), Set{AbstractConnection}(), Base.GenericCondition{Base.AlwaysLockedST}(Base.InvasiveLinkedList{Task}(Task (runnable) @0x000000011863c250, Task (runnable) @0x000000011863c250), Base.AlwaysLockedST(1))), WebIO.JSString[WebIO.JSString(\"function () {\\n    var handler = (function (ko, koPunches) {\\n    ko.punches.enableAll();\\n    ko.bindingHandlers.numericValue = {\\n        init: function(element, valueAccessor, allBindings, data, context) {\\n            var stringified = ko.observable(ko.unwrap(valueAccessor()));\\n            stringified.subscribe(function(value) {\\n                var val = parseFloat(value);\\n                if (!isNaN(val)) {\\n                    valueAccessor()(val);\\n                }\\n            });\\n            valueAccessor().subscribe(function(value) {\\n                var str = JSON.stringify(value);\\n                if ((str == \\\"0\\\") && ([\\\"-0\\\", \\\"-0.\\\"].indexOf(stringified()) >= 0))\\n                     return;\\n                 if ([\\\"null\\\", \\\"\\\"].indexOf(str) >= 0)\\n                     return;\\n                stringified(str);\\n            });\\n            ko.applyBindingsToNode(\\n                element,\\n                {\\n                    value: stringified,\\n                    valueUpdate: allBindings.get('valueUpdate'),\\n                },\\n                context,\\n            );\\n        }\\n    };\\n    var json_data = {\\\"formatted_vals\\\":[\\\"0.01\\\",\\\"0.02\\\",\\\"0.03\\\",\\\"0.04\\\",\\\"0.05\\\",\\\"0.06\\\",\\\"0.07\\\",\\\"0.08\\\",\\\"0.09\\\",\\\"0.1\\\"],\\\"changes\\\":WebIO.getval({\\\"name\\\":\\\"changes\\\",\\\"scope\\\":\\\"17201827924276723092\\\",\\\"id\\\":\\\"5557328143532054820\\\",\\\"type\\\":\\\"observable\\\"}),\\\"index\\\":WebIO.getval({\\\"name\\\":\\\"index\\\",\\\"scope\\\":\\\"17201827924276723092\\\",\\\"id\\\":\\\"8867459641964122050\\\",\\\"type\\\":\\\"observable\\\"})};\\n    var self = this;\\n    function AppViewModel() {\\n        for (var key in json_data) {\\n            var el = json_data[key];\\n            this[key] = Array.isArray(el) ? ko.observableArray(el) : ko.observable(el);\\n        }\\n        \\n        [this[\\\"formatted_val\\\"]=ko.computed(    function(){\\n        return this.formatted_vals()[parseInt(this.index())-(1)];\\n    }\\n,this)]\\n        [this[\\\"changes\\\"].subscribe((function (val){!(this.valueFromJulia[\\\"changes\\\"]) ? (WebIO.setval({\\\"name\\\":\\\"changes\\\",\\\"scope\\\":\\\"17201827924276723092\\\",\\\"id\\\":\\\"5557328143532054820\\\",\\\"type\\\":\\\"observable\\\"},val)) : undefined; return this.valueFromJulia[\\\"changes\\\"]=false}),self),this[\\\"index\\\"].subscribe((function (val){!(this.valueFromJulia[\\\"index\\\"]) ? (WebIO.setval({\\\"name\\\":\\\"index\\\",\\\"scope\\\":\\\"17201827924276723092\\\",\\\"id\\\":\\\"8867459641964122050\\\",\\\"type\\\":\\\"observable\\\"},val)) : undefined; return this.valueFromJulia[\\\"index\\\"]=false}),self)]\\n        \\n    }\\n    self.model = new AppViewModel();\\n    self.valueFromJulia = {};\\n    for (var key in json_data) {\\n        self.valueFromJulia[key] = false;\\n    }\\n    ko.applyBindings(self.model, self.dom);\\n}\\n);\\n    (WebIO.importBlock({\\\"data\\\":[{\\\"name\\\":\\\"knockout\\\",\\\"type\\\":\\\"js\\\",\\\"url\\\":\\\"/assetserver/aa767470ed3fb2fdc226b1798340a340ee166b2a-knockout.js\\\"},{\\\"name\\\":\\\"knockout_punches\\\",\\\"type\\\":\\\"js\\\",\\\"url\\\":\\\"/assetserver/e8fb3dc53556d31ce61caa9a9c7ddd80d27fc9d0-knockout_punches.js\\\"}],\\\"type\\\":\\\"async_block\\\"})).then((imports) => handler.apply(this, imports));\\n}\\n\")])], Dict{Symbol,Any}(:className => \"field interact-widget\")), Node{WebIO.DOM}(WebIO.DOM(:html, :div), Any[Scope(Node{WebIO.DOM}(WebIO.DOM(:html, :div), Any[Node{WebIO.DOM}(WebIO.DOM(:html, :div), Any[Node{WebIO.DOM}(WebIO.DOM(:html, :label), Any[\"ex_i\"], Dict{Symbol,Any}(:className => \"interact \",:style => Dict{Any,Any}(:padding => \"5px 10px 0px 10px\")))], Dict{Symbol,Any}(:className => \"interact-flex-row-left\")), Node{WebIO.DOM}(WebIO.DOM(:html, :div), Any[Node{WebIO.DOM}(WebIO.DOM(:html, :input), Any[], Dict{Symbol,Any}(:max => 7,:min => 1,:attributes => Dict{Any,Any}(:type => \"range\",Symbol(\"data-bind\") => \"numericValue: index, valueUpdate: 'input', event: {change: function (){this.changes(this.changes()+1)}}\",\"orient\" => \"horizontal\"),:step => 1,:className => \"slider slider is-fullwidth\",:style => Dict{Any,Any}()))], Dict{Symbol,Any}(:className => \"interact-flex-row-center\")), Node{WebIO.DOM}(WebIO.DOM(:html, :div), Any[Node{WebIO.DOM}(WebIO.DOM(:html, :p), Any[], Dict{Symbol,Any}(:attributes => Dict(\"data-bind\" => \"text: formatted_val\")))], Dict{Symbol,Any}(:className => \"interact-flex-row-right\"))], Dict{Symbol,Any}(:className => \"interact-flex-row interact-widget\")), Dict{String,Tuple{Observables.AbstractObservable,Union{Nothing, Bool}}}(\"changes\" => (Observable{Int64} with 1 listeners. Value:\n",
       "0, nothing),\"index\" => (Observable{Any} with 2 listeners. Value:\n",
       "4, nothing)), Set{String}(), nothing, Asset[Asset(\"js\", \"knockout\", \"/Users/madeleine/.julia/packages/Knockout/IP1uR/src/../assets/knockout.js\"), Asset(\"js\", \"knockout_punches\", \"/Users/madeleine/.julia/packages/Knockout/IP1uR/src/../assets/knockout_punches.js\"), Asset(\"js\", nothing, \"/Users/madeleine/.julia/packages/InteractBase/sOe2Z/src/../assets/all.js\"), Asset(\"css\", nothing, \"/Users/madeleine/.julia/packages/InteractBase/sOe2Z/src/../assets/style.css\"), Asset(\"css\", nothing, \"/Users/madeleine/.julia/packages/Interact/SbgIk/src/../assets/bulma_confined.min.css\")], Dict{Any,Any}(\"changes\" => Any[WebIO.JSString(\"(function (val){return (val!=this.model[\\\"changes\\\"]()) ? (this.valueFromJulia[\\\"changes\\\"]=true, this.model[\\\"changes\\\"](val)) : undefined})\")],\"index\" => Any[WebIO.JSString(\"(function (val){return (val!=this.model[\\\"index\\\"]()) ? (this.valueFromJulia[\\\"index\\\"]=true, this.model[\\\"index\\\"](val)) : undefined})\")]), WebIO.ConnectionPool(Channel{Any}(sz_max:32,sz_curr:0), Set{AbstractConnection}(), Base.GenericCondition{Base.AlwaysLockedST}(Base.InvasiveLinkedList{Task}(Task (runnable) @0x00000001190f7a90, Task (runnable) @0x00000001190f7a90), Base.AlwaysLockedST(1))), WebIO.JSString[WebIO.JSString(\"function () {\\n    var handler = (function (ko, koPunches) {\\n    ko.punches.enableAll();\\n    ko.bindingHandlers.numericValue = {\\n        init: function(element, valueAccessor, allBindings, data, context) {\\n            var stringified = ko.observable(ko.unwrap(valueAccessor()));\\n            stringified.subscribe(function(value) {\\n                var val = parseFloat(value);\\n                if (!isNaN(val)) {\\n                    valueAccessor()(val);\\n                }\\n            });\\n            valueAccessor().subscribe(function(value) {\\n                var str = JSON.stringify(value);\\n                if ((str == \\\"0\\\") && ([\\\"-0\\\", \\\"-0.\\\"].indexOf(stringified()) >= 0))\\n                     return;\\n                 if ([\\\"null\\\", \\\"\\\"].indexOf(str) >= 0)\\n                     return;\\n                stringified(str);\\n            });\\n            ko.applyBindingsToNode(\\n                element,\\n                {\\n                    value: stringified,\\n                    valueUpdate: allBindings.get('valueUpdate'),\\n                },\\n                context,\\n            );\\n        }\\n    };\\n    var json_data = {\\\"formatted_vals\\\":[\\\"1.0e-7\\\",\\\"1.0e-6\\\",\\\"1.0e-5\\\",\\\"0.0001\\\",\\\"0.001\\\",\\\"0.01\\\",\\\"0.1\\\"],\\\"changes\\\":WebIO.getval({\\\"name\\\":\\\"changes\\\",\\\"scope\\\":\\\"15710112560833522536\\\",\\\"id\\\":\\\"17734304560880871224\\\",\\\"type\\\":\\\"observable\\\"}),\\\"index\\\":WebIO.getval({\\\"name\\\":\\\"index\\\",\\\"scope\\\":\\\"15710112560833522536\\\",\\\"id\\\":\\\"11727787307810741069\\\",\\\"type\\\":\\\"observable\\\"})};\\n    var self = this;\\n    function AppViewModel() {\\n        for (var key in json_data) {\\n            var el = json_data[key];\\n            this[key] = Array.isArray(el) ? ko.observableArray(el) : ko.observable(el);\\n        }\\n        \\n        [this[\\\"formatted_val\\\"]=ko.computed(    function(){\\n        return this.formatted_vals()[parseInt(this.index())-(1)];\\n    }\\n,this)]\\n        [this[\\\"changes\\\"].subscribe((function (val){!(this.valueFromJulia[\\\"changes\\\"]) ? (WebIO.setval({\\\"name\\\":\\\"changes\\\",\\\"scope\\\":\\\"15710112560833522536\\\",\\\"id\\\":\\\"17734304560880871224\\\",\\\"type\\\":\\\"observable\\\"},val)) : undefined; return this.valueFromJulia[\\\"changes\\\"]=false}),self),this[\\\"index\\\"].subscribe((function (val){!(this.valueFromJulia[\\\"index\\\"]) ? (WebIO.setval({\\\"name\\\":\\\"index\\\",\\\"scope\\\":\\\"15710112560833522536\\\",\\\"id\\\":\\\"11727787307810741069\\\",\\\"type\\\":\\\"observable\\\"},val)) : undefined; return this.valueFromJulia[\\\"index\\\"]=false}),self)]\\n        \\n    }\\n    self.model = new AppViewModel();\\n    self.valueFromJulia = {};\\n    for (var key in json_data) {\\n        self.valueFromJulia[key] = false;\\n    }\\n    ko.applyBindings(self.model, self.dom);\\n}\\n);\\n    (WebIO.importBlock({\\\"data\\\":[{\\\"name\\\":\\\"knockout\\\",\\\"type\\\":\\\"js\\\",\\\"url\\\":\\\"/assetserver/aa767470ed3fb2fdc226b1798340a340ee166b2a-knockout.js\\\"},{\\\"name\\\":\\\"knockout_punches\\\",\\\"type\\\":\\\"js\\\",\\\"url\\\":\\\"/assetserver/e8fb3dc53556d31ce61caa9a9c7ddd80d27fc9d0-knockout_punches.js\\\"}],\\\"type\\\":\\\"async_block\\\"})).then((imports) => handler.apply(this, imports));\\n}\\n\")])], Dict{Symbol,Any}(:className => \"field interact-widget\")), Observable{Any} with 0 listeners. Value:\n",
       "Node{WebIO.DOM}(WebIO.DOM(:html, :div), Any[Plot{Plots.PlotlyBackend() n=7}], Dict{Symbol,Any}(:className => \"interact-flex-row interact-widget\"))], Dict{Symbol,Any}())"
      ]
     },
     "execution_count": 6,
     "metadata": {
      "application/vnd.webio.node+json": {
       "kernelId": "5e855819-11f7-4a8c-92b9-6b13a2f658c1"
      }
     },
     "output_type": "execute_result"
    }
   ],
   "source": [
    "@manipulate for n_big_partiers=1e-2:1e-2:.2, n_safe_partiers=.1:.1:1, test_period=1:7, inf_no_PPE=5e-2:5e-2:1, inf_with_PPE=1e-2:1e-2:.1, ex_i = 10. .^ (-7:-1)\n",
    "    \n",
    "    legal_party_size = 10\n",
    "    illegal_party_size = 30\n",
    "    \n",
    "    r,groups = simulate(n_big_partiers,    # big parties, no PPE\n",
    "    n_safe_partiers,     # legal parties with PPE\n",
    "    test_period,                # frequency of testing: test every ttest days\n",
    "    inf_no_PPE,          # infectivity w/o PPE\n",
    "    inf_with_PPE,       # infectivity w/PPE\n",
    "    ex_i,               # external infection rate\n",
    "    legal_party_size,\n",
    "    illegal_party_size\n",
    "    )\n",
    "    plot(r, groups)\n",
    "end"
   ]
  },
  {
   "cell_type": "markdown",
   "metadata": {},
   "source": [
    "# takeaways from model\n",
    "\n",
    "* with infrequent testing (weekly+), pandemic is nearly impossible to control\n",
    "* people who go to big parties get COVID\n",
    "* if too many people go to big parties, Cornell shuts down\n",
    "* if PPE is effective,\n",
    "    * people who just go to classes are ok\n",
    "    * people who go to small parties might get COVID\n",
    "* if PPE is not effective,\n",
    "    * people who just go to classes might get COVID\n",
    "    * people who go to small parties have even odds of getting COVID"
   ]
  },
  {
   "cell_type": "code",
   "execution_count": null,
   "metadata": {},
   "outputs": [],
   "source": []
  }
 ],
 "metadata": {
  "@webio": {
   "lastCommId": "bfd1afe1d42243ef8f1877442712412d",
   "lastKernelId": "5e855819-11f7-4a8c-92b9-6b13a2f658c1"
  },
  "kernelspec": {
   "display_name": "Julia 1.5.1",
   "language": "julia",
   "name": "julia-1.5"
  },
  "language_info": {
   "file_extension": ".jl",
   "mimetype": "application/julia",
   "name": "julia",
   "version": "1.5.1"
  }
 },
 "nbformat": 4,
 "nbformat_minor": 4
}
