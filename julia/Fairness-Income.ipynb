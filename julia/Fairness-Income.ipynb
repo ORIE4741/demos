{
 "cells": [
  {
   "cell_type": "markdown",
   "metadata": {},
   "source": [
    "# Adult Data Set\n",
    "\n",
    "In this problem, we are going to fit a model on the adult data set to predict which people have income over $50K.\n",
    "\n",
    "Link to the data set: https://archive.ics.uci.edu/ml/datasets/adult"
   ]
  },
  {
   "cell_type": "code",
   "execution_count": 66,
   "metadata": {
    "scrolled": false
   },
   "outputs": [
    {
     "name": "stderr",
     "output_type": "stream",
     "text": [
      "WARNING: redefining constant LogisticRegression\n",
      "WARNING: redefining constant accuracy_score\n"
     ]
    },
    {
     "data": {
      "text/plain": [
       "PyObject <function accuracy_score at 0x1a4cd99488>"
      ]
     },
     "execution_count": 66,
     "metadata": {},
     "output_type": "execute_result"
    }
   ],
   "source": [
    "using Random\n",
    "Random.seed!(13)\n",
    "\n",
    "using Plots, DataFrames, CSV\n",
    "\n",
    "using LinearAlgebra, Statistics\n",
    "using DecisionTree\n",
    "using ScikitLearn\n",
    "@sk_import linear_model: LogisticRegression\n",
    "@sk_import metrics: accuracy_score"
   ]
  },
  {
   "cell_type": "code",
   "execution_count": 67,
   "metadata": {
    "scrolled": false
   },
   "outputs": [
    {
     "data": {
      "text/plain": [
       "15-element Array{Symbol,1}:\n",
       " :Age           \n",
       " :Workclass     \n",
       " :fnlwgt        \n",
       " :Education     \n",
       " :Education_num \n",
       " :Marital_Status\n",
       " :Occupation    \n",
       " :Relationship  \n",
       " :Race          \n",
       " :Sex           \n",
       " :Capital_Gain  \n",
       " :Capital_Loss  \n",
       " :Hours_Per_Week\n",
       " :Native_Country\n",
       " :Income        "
      ]
     },
     "execution_count": 67,
     "metadata": {},
     "output_type": "execute_result"
    }
   ],
   "source": [
    "# The data set contains a large number of features relevant to income prediction.\n",
    "# First, let's label our features and target value 'Income'.\n",
    "\n",
    "labels = [:Age, :Workclass, :fnlwgt, :Education, :Education_num, :Marital_Status, :Occupation, :Relationship, :Race, :Sex, :Capital_Gain, :Capital_Loss, :Hours_Per_Week, :Native_Country, :Income]"
   ]
  },
  {
   "cell_type": "code",
   "execution_count": 68,
   "metadata": {
    "scrolled": true
   },
   "outputs": [
    {
     "name": "stdout",
     "output_type": "stream",
     "text": [
      "1\tAge\t\t\tString\n",
      "2\tWorkclass\t\t\tString\n",
      "3\tfnlwgt\t\t\tInt64\n",
      "4\tEducation\t\t\tString\n",
      "5\tEducation_num\t\t\tInt64\n",
      "6\tMarital_Status\t\t\tString\n",
      "7\tOccupation\t\t\tString\n",
      "8\tRelationship\t\t\tString\n",
      "9\tRace\t\t\tString\n",
      "10\tSex\t\t\tString\n",
      "11\tCapital_Gain\t\t\tInt64\n",
      "12\tCapital_Loss\t\t\tInt64\n",
      "13\tHours_Per_Week\t\t\tInt64\n",
      "14\tNative_Country\t\t\tString\n",
      "15\tIncome\t\t\tString\n"
     ]
    }
   ],
   "source": [
    "# Next, let's load the data.\n",
    "data = CSV.read(\"adult_income.csv\"; header=labels, copycols=true)\n",
    "\n",
    "for i in 1:length(labels)\n",
    "    println(string(i), \"\\t\", string(labels[i]), \"\\t\\t\\t\", string(eltype(data[!, i])))\n",
    "end"
   ]
  },
  {
   "cell_type": "markdown",
   "metadata": {},
   "source": [
    "## Target Value\n",
    "Create a feature attribute for Income as a Boolean. "
   ]
  },
  {
   "cell_type": "code",
   "execution_count": 69,
   "metadata": {
    "scrolled": false
   },
   "outputs": [
    {
     "data": {
      "text/plain": [
       "32561-element PooledArrays.PooledArray{String,UInt32,1,Array{UInt32,1}}:\n",
       " \" <=50K\"\n",
       " \" <=50K\"\n",
       " \" <=50K\"\n",
       " \" <=50K\"\n",
       " \" <=50K\"\n",
       " \" <=50K\"\n",
       " \" <=50K\"\n",
       " \" >50K\" \n",
       " \" >50K\" \n",
       " \" >50K\" \n",
       " \" >50K\" \n",
       " \" >50K\" \n",
       " \" <=50K\"\n",
       " ⋮       \n",
       " \" <=50K\"\n",
       " \" <=50K\"\n",
       " \" <=50K\"\n",
       " \" <=50K\"\n",
       " \" <=50K\"\n",
       " \" >50K\" \n",
       " \" <=50K\"\n",
       " \" <=50K\"\n",
       " \" >50K\" \n",
       " \" <=50K\"\n",
       " \" <=50K\"\n",
       " \" >50K\" "
      ]
     },
     "execution_count": 69,
     "metadata": {},
     "output_type": "execute_result"
    }
   ],
   "source": [
    "# Notice that income is given as a string; we'll change it to a boolean.\n",
    "data[:, :Income]"
   ]
  },
  {
   "cell_type": "code",
   "execution_count": 70,
   "metadata": {
    "scrolled": false
   },
   "outputs": [
    {
     "data": {
      "text/plain": [
       "32561-element Array{Float64,1}:\n",
       " 0.0\n",
       " 0.0\n",
       " 0.0\n",
       " 0.0\n",
       " 0.0\n",
       " 0.0\n",
       " 0.0\n",
       " 1.0\n",
       " 1.0\n",
       " 1.0\n",
       " 1.0\n",
       " 1.0\n",
       " 0.0\n",
       " ⋮  \n",
       " 0.0\n",
       " 0.0\n",
       " 0.0\n",
       " 0.0\n",
       " 0.0\n",
       " 1.0\n",
       " 0.0\n",
       " 0.0\n",
       " 1.0\n",
       " 0.0\n",
       " 0.0\n",
       " 1.0"
      ]
     },
     "execution_count": 70,
     "metadata": {},
     "output_type": "execute_result"
    }
   ],
   "source": [
    "# Here, we change income into an integer value. \n",
    "# The value '1' indicates income over $50K. \n",
    "# The value '0' indicates income less than or equal to $50K.\n",
    "\n",
    "data.Income_Bool = data.Income .== \" >50K\"\n",
    "data.Income_Integer = convert(Array{Float64}, data[:, :Income_Bool])"
   ]
  },
  {
   "cell_type": "code",
   "execution_count": 71,
   "metadata": {
    "scrolled": false
   },
   "outputs": [
    {
     "data": {
      "text/plain": [
       "17-element Array{Symbol,1}:\n",
       " :Age           \n",
       " :Workclass     \n",
       " :fnlwgt        \n",
       " :Education     \n",
       " :Education_num \n",
       " :Marital_Status\n",
       " :Occupation    \n",
       " :Relationship  \n",
       " :Race          \n",
       " :Sex           \n",
       " :Capital_Gain  \n",
       " :Capital_Loss  \n",
       " :Hours_Per_Week\n",
       " :Native_Country\n",
       " :Income        \n",
       " :Income_Bool   \n",
       " :Income_Integer"
      ]
     },
     "execution_count": 71,
     "metadata": {},
     "output_type": "execute_result"
    }
   ],
   "source": [
    "# Here's our new set of features (and labels).\n",
    "push!(labels, :Income_Bool)  \n",
    "push!(labels, :Income_Integer)  "
   ]
  },
  {
   "cell_type": "markdown",
   "metadata": {},
   "source": [
    "## Train/Test Split\n",
    "\n",
    "Let's create a training and test set by splitting the data at random."
   ]
  },
  {
   "cell_type": "code",
   "execution_count": 72,
   "metadata": {
    "scrolled": false
   },
   "outputs": [
    {
     "name": "stdout",
     "output_type": "stream",
     "text": [
      "Size of dataset: 32561\n"
     ]
    },
    {
     "data": {
      "text/html": [
       "<table class=\"data-frame\"><thead><tr><th></th><th>Age</th><th>Workclass</th><th>fnlwgt</th><th>Education</th><th>Education_num</th><th>Marital_Status</th></tr><tr><th></th><th>String</th><th>String</th><th>Int64</th><th>String</th><th>Int64</th><th>String</th></tr></thead><tbody><p>26,049 rows × 14 columns (omitted printing of 8 columns)</p><tr><th>1</th><td>41</td><td> Local-gov</td><td>523910</td><td> Bachelors</td><td>13</td><td> Married-civ-spouse</td></tr><tr><th>2</th><td>53</td><td> State-gov</td><td>229465</td><td> Doctorate</td><td>16</td><td> Married-civ-spouse</td></tr><tr><th>3</th><td>48</td><td> Private</td><td>233511</td><td> HS-grad</td><td>9</td><td> Married-civ-spouse</td></tr><tr><th>4</th><td>51</td><td> Self-emp-not-inc</td><td>118259</td><td> HS-grad</td><td>9</td><td> Married-civ-spouse</td></tr><tr><th>5</th><td>29</td><td> Private</td><td>200511</td><td> Bachelors</td><td>13</td><td> Married-civ-spouse</td></tr><tr><th>6</th><td>40</td><td> Private</td><td>116103</td><td> Some-college</td><td>10</td><td> Separated</td></tr><tr><th>7</th><td>42</td><td> Private</td><td>175526</td><td> HS-grad</td><td>9</td><td> Married-civ-spouse</td></tr><tr><th>8</th><td>39</td><td> Private</td><td>141802</td><td> Some-college</td><td>10</td><td> Divorced</td></tr><tr><th>9</th><td>40</td><td> Self-emp-not-inc</td><td>29036</td><td> Some-college</td><td>10</td><td> Never-married</td></tr><tr><th>10</th><td>49</td><td> Private</td><td>24712</td><td> Bachelors</td><td>13</td><td> Never-married</td></tr><tr><th>11</th><td>28</td><td> Private</td><td>184831</td><td> Some-college</td><td>10</td><td> Never-married</td></tr><tr><th>12</th><td>51</td><td> Private</td><td>177669</td><td> Some-college</td><td>10</td><td> Married-civ-spouse</td></tr><tr><th>13</th><td>28</td><td> Local-gov</td><td>127491</td><td> HS-grad</td><td>9</td><td> Separated</td></tr><tr><th>14</th><td>42</td><td> Private</td><td>220049</td><td> HS-grad</td><td>9</td><td> Married-civ-spouse</td></tr><tr><th>15</th><td>18</td><td> Private</td><td>160984</td><td> 11th</td><td>7</td><td> Never-married</td></tr><tr><th>16</th><td>46</td><td> Private</td><td>173243</td><td> HS-grad</td><td>9</td><td> Married-civ-spouse</td></tr><tr><th>17</th><td>63</td><td> Self-emp-inc</td><td>272425</td><td> Assoc-voc</td><td>11</td><td> Married-civ-spouse</td></tr><tr><th>18</th><td>23</td><td> Private</td><td>214227</td><td> Assoc-voc</td><td>11</td><td> Divorced</td></tr><tr><th>19</th><td>23</td><td> Private</td><td>260019</td><td> 7th-8th</td><td>4</td><td> Never-married</td></tr><tr><th>20</th><td>61</td><td> Private</td><td>101265</td><td> Some-college</td><td>10</td><td> Divorced</td></tr><tr><th>21</th><td>62</td><td> Federal-gov</td><td>159165</td><td> HS-grad</td><td>9</td><td> Widowed</td></tr><tr><th>22</th><td>18</td><td> ?</td><td>387871</td><td> 10th</td><td>6</td><td> Never-married</td></tr><tr><th>23</th><td>56</td><td> Private</td><td>198388</td><td> HS-grad</td><td>9</td><td> Divorced</td></tr><tr><th>24</th><td>33</td><td> Local-gov</td><td>175509</td><td> HS-grad</td><td>9</td><td> Married-civ-spouse</td></tr><tr><th>25</th><td>17</td><td> Private</td><td>108402</td><td> 10th</td><td>6</td><td> Never-married</td></tr><tr><th>26</th><td>51</td><td> Private</td><td>53833</td><td> HS-grad</td><td>9</td><td> Married-civ-spouse</td></tr><tr><th>27</th><td>28</td><td> Private</td><td>218887</td><td> HS-grad</td><td>9</td><td> Never-married</td></tr><tr><th>28</th><td>36</td><td> Private</td><td>89202</td><td> Bachelors</td><td>13</td><td> Never-married</td></tr><tr><th>29</th><td>44</td><td> Private</td><td>174189</td><td> Some-college</td><td>10</td><td> Married-civ-spouse</td></tr><tr><th>30</th><td>33</td><td> Private</td><td>376483</td><td> Some-college</td><td>10</td><td> Divorced</td></tr><tr><th>&vellip;</th><td>&vellip;</td><td>&vellip;</td><td>&vellip;</td><td>&vellip;</td><td>&vellip;</td><td>&vellip;</td></tr></tbody></table>"
      ],
      "text/latex": [
       "\\begin{tabular}{r|ccccccc}\n",
       "\t& Age & Workclass & fnlwgt & Education & Education\\_num & Marital\\_Status & \\\\\n",
       "\t\\hline\n",
       "\t& String & String & Int64 & String & Int64 & String & \\\\\n",
       "\t\\hline\n",
       "\t1 & 41 &  Local-gov & 523910 &  Bachelors & 13 &  Married-civ-spouse & $\\dots$ \\\\\n",
       "\t2 & 53 &  State-gov & 229465 &  Doctorate & 16 &  Married-civ-spouse & $\\dots$ \\\\\n",
       "\t3 & 48 &  Private & 233511 &  HS-grad & 9 &  Married-civ-spouse & $\\dots$ \\\\\n",
       "\t4 & 51 &  Self-emp-not-inc & 118259 &  HS-grad & 9 &  Married-civ-spouse & $\\dots$ \\\\\n",
       "\t5 & 29 &  Private & 200511 &  Bachelors & 13 &  Married-civ-spouse & $\\dots$ \\\\\n",
       "\t6 & 40 &  Private & 116103 &  Some-college & 10 &  Separated & $\\dots$ \\\\\n",
       "\t7 & 42 &  Private & 175526 &  HS-grad & 9 &  Married-civ-spouse & $\\dots$ \\\\\n",
       "\t8 & 39 &  Private & 141802 &  Some-college & 10 &  Divorced & $\\dots$ \\\\\n",
       "\t9 & 40 &  Self-emp-not-inc & 29036 &  Some-college & 10 &  Never-married & $\\dots$ \\\\\n",
       "\t10 & 49 &  Private & 24712 &  Bachelors & 13 &  Never-married & $\\dots$ \\\\\n",
       "\t11 & 28 &  Private & 184831 &  Some-college & 10 &  Never-married & $\\dots$ \\\\\n",
       "\t12 & 51 &  Private & 177669 &  Some-college & 10 &  Married-civ-spouse & $\\dots$ \\\\\n",
       "\t13 & 28 &  Local-gov & 127491 &  HS-grad & 9 &  Separated & $\\dots$ \\\\\n",
       "\t14 & 42 &  Private & 220049 &  HS-grad & 9 &  Married-civ-spouse & $\\dots$ \\\\\n",
       "\t15 & 18 &  Private & 160984 &  11th & 7 &  Never-married & $\\dots$ \\\\\n",
       "\t16 & 46 &  Private & 173243 &  HS-grad & 9 &  Married-civ-spouse & $\\dots$ \\\\\n",
       "\t17 & 63 &  Self-emp-inc & 272425 &  Assoc-voc & 11 &  Married-civ-spouse & $\\dots$ \\\\\n",
       "\t18 & 23 &  Private & 214227 &  Assoc-voc & 11 &  Divorced & $\\dots$ \\\\\n",
       "\t19 & 23 &  Private & 260019 &  7th-8th & 4 &  Never-married & $\\dots$ \\\\\n",
       "\t20 & 61 &  Private & 101265 &  Some-college & 10 &  Divorced & $\\dots$ \\\\\n",
       "\t21 & 62 &  Federal-gov & 159165 &  HS-grad & 9 &  Widowed & $\\dots$ \\\\\n",
       "\t22 & 18 &  ? & 387871 &  10th & 6 &  Never-married & $\\dots$ \\\\\n",
       "\t23 & 56 &  Private & 198388 &  HS-grad & 9 &  Divorced & $\\dots$ \\\\\n",
       "\t24 & 33 &  Local-gov & 175509 &  HS-grad & 9 &  Married-civ-spouse & $\\dots$ \\\\\n",
       "\t25 & 17 &  Private & 108402 &  10th & 6 &  Never-married & $\\dots$ \\\\\n",
       "\t26 & 51 &  Private & 53833 &  HS-grad & 9 &  Married-civ-spouse & $\\dots$ \\\\\n",
       "\t27 & 28 &  Private & 218887 &  HS-grad & 9 &  Never-married & $\\dots$ \\\\\n",
       "\t28 & 36 &  Private & 89202 &  Bachelors & 13 &  Never-married & $\\dots$ \\\\\n",
       "\t29 & 44 &  Private & 174189 &  Some-college & 10 &  Married-civ-spouse & $\\dots$ \\\\\n",
       "\t30 & 33 &  Private & 376483 &  Some-college & 10 &  Divorced & $\\dots$ \\\\\n",
       "\t$\\dots$ & $\\dots$ & $\\dots$ & $\\dots$ & $\\dots$ & $\\dots$ & $\\dots$ &  \\\\\n",
       "\\end{tabular}\n"
      ],
      "text/plain": [
       "26049×14 DataFrame. Omitted printing of 9 columns\n",
       "│ Row   │ Age    │ Workclass         │ fnlwgt │ Education     │ Education_num │\n",
       "│       │ \u001b[90mString\u001b[39m │ \u001b[90mString\u001b[39m            │ \u001b[90mInt64\u001b[39m  │ \u001b[90mString\u001b[39m        │ \u001b[90mInt64\u001b[39m         │\n",
       "├───────┼────────┼───────────────────┼────────┼───────────────┼───────────────┤\n",
       "│ 1     │ 41     │  Local-gov        │ 523910 │  Bachelors    │ 13            │\n",
       "│ 2     │ 53     │  State-gov        │ 229465 │  Doctorate    │ 16            │\n",
       "│ 3     │ 48     │  Private          │ 233511 │  HS-grad      │ 9             │\n",
       "│ 4     │ 51     │  Self-emp-not-inc │ 118259 │  HS-grad      │ 9             │\n",
       "│ 5     │ 29     │  Private          │ 200511 │  Bachelors    │ 13            │\n",
       "│ 6     │ 40     │  Private          │ 116103 │  Some-college │ 10            │\n",
       "│ 7     │ 42     │  Private          │ 175526 │  HS-grad      │ 9             │\n",
       "│ 8     │ 39     │  Private          │ 141802 │  Some-college │ 10            │\n",
       "│ 9     │ 40     │  Self-emp-not-inc │ 29036  │  Some-college │ 10            │\n",
       "│ 10    │ 49     │  Private          │ 24712  │  Bachelors    │ 13            │\n",
       "⋮\n",
       "│ 26039 │ 27     │  Private          │ 376936 │  HS-grad      │ 9             │\n",
       "│ 26040 │ 45     │  Self-emp-inc     │ 188330 │  Bachelors    │ 13            │\n",
       "│ 26041 │ 35     │  Private          │ 161637 │  Doctorate    │ 16            │\n",
       "│ 26042 │ 49     │  Private          │ 371299 │  HS-grad      │ 9             │\n",
       "│ 26043 │ 61     │  Self-emp-not-inc │ 140300 │  HS-grad      │ 9             │\n",
       "│ 26044 │ 72     │  Local-gov        │ 144515 │  Doctorate    │ 16            │\n",
       "│ 26045 │ 37     │  Private          │ 174503 │  Bachelors    │ 13            │\n",
       "│ 26046 │ 46     │  Private          │ 57929  │  HS-grad      │ 9             │\n",
       "│ 26047 │ 44     │  Private          │ 456236 │  Masters      │ 14            │\n",
       "│ 26048 │ 31     │  Private          │ 356882 │  HS-grad      │ 9             │\n",
       "│ 26049 │ 46     │  Private          │ 113806 │  12th         │ 8             │"
      ]
     },
     "execution_count": 72,
     "metadata": {},
     "output_type": "execute_result"
    }
   ],
   "source": [
    "data = data[.!(ismissing.(data[!, :Income])), :]\n",
    "data = data[shuffle(1:end), :]\n",
    "\n",
    "train_proportion = 0.8\n",
    "n = size(data, 1)\n",
    "\n",
    "println(\"Size of dataset: \", string(n))\n",
    "\n",
    "ntrain = convert(Int, round(train_proportion*n))\n",
    "\n",
    "target = data[:, :Income_Integer]\n",
    "income_data = data[:, filter(col -> (col != :Income && col!= :Income_Bool && col!= :Income_Integer), labels)]\n",
    "\n",
    "train_x = income_data[1:ntrain, :]\n",
    "test_x = income_data[ntrain+1:end, :]\n",
    "train_y = target[1:ntrain, :]\n",
    "test_y = target[ntrain+1:end, :]\n",
    "\n",
    "train_x"
   ]
  },
  {
   "cell_type": "markdown",
   "metadata": {},
   "source": [
    "## Real-Valued Data\n",
    "\n",
    "Let's identify the real-valued parameters.\n",
    "\n",
    "  - Education_num\n",
    "  - Capital_Gain\n",
    "  - Capital_Status\n",
    "  - Hours_Per_Week\n",
    "  \n",
    "Also it's important to include the following parameter stored as a string.\n",
    "\n",
    "  - age\n",
    "  \n",
    "Use a utility function to interpret any non-numerical value as \"0\", which is an accurate interpretation of \"N/A\" in this context."
   ]
  },
  {
   "cell_type": "code",
   "execution_count": 73,
   "metadata": {},
   "outputs": [
    {
     "name": "stdout",
     "output_type": "stream",
     "text": [
      "1:  Preschool\n",
      "2:  1st-4th\n",
      "3:  5th-6th\n",
      "4:  7th-8th\n",
      "5:  9th\n",
      "6:  10th\n",
      "7:  11th\n",
      "8:  12th\n",
      "9:  HS-grad\n",
      "10:  Some-college\n",
      "11:  Assoc-voc\n",
      "12:  Assoc-acdm\n",
      "13:  Bachelors\n",
      "14:  Masters\n",
      "15:  Prof-school\n",
      "16:  Doctorate\n"
     ]
    },
    {
     "name": "stderr",
     "output_type": "stream",
     "text": [
      "┌ Warning: `getindex(df::DataFrame, col_ind::ColumnIndex)` is deprecated, use `df[!, col_ind]` instead.\n",
      "│   caller = top-level scope at In[73]:1\n",
      "└ @ Core In[73]:1\n",
      "┌ Warning: `getindex(df::DataFrame, col_ind::ColumnIndex)` is deprecated, use `df[!, col_ind]` instead.\n",
      "│   caller = top-level scope at In[73]:1\n",
      "└ @ Core In[73]:1\n"
     ]
    }
   ],
   "source": [
    "# What does education num represent?\n",
    "\n",
    "d = Dict(zip(train_x[:Education_num], train_x[:Education]))\n",
    "ednum = sort(collect(keys(d)))\n",
    "for i in ednum\n",
    "    print(\"$i: $(d[i])\\n\")\n",
    "end"
   ]
  },
  {
   "cell_type": "code",
   "execution_count": 74,
   "metadata": {
    "scrolled": false
   },
   "outputs": [
    {
     "data": {
      "text/plain": [
       "1-element Array{Symbol,1}:\n",
       " :Age"
      ]
     },
     "execution_count": 74,
     "metadata": {},
     "output_type": "execute_result"
    }
   ],
   "source": [
    "\"This function converts strings to floating point values and strings that cannot be \n",
    "represented as a number (such as N/A) are converted to zeros\"\n",
    "\n",
    "function string_to_float(str)\n",
    "    try\n",
    "        parse(Float64, str)\n",
    "    catch\n",
    "        0.0\n",
    "    end\n",
    "end\n",
    "\n",
    "labels_real = [\n",
    "    :Education_num,\n",
    "    :Capital_Gain,\n",
    "    :Capital_Loss,\n",
    "    :Hours_Per_Week\n",
    "]\n",
    "\n",
    "\n",
    "labels_str = [\n",
    "    :Age\n",
    "]"
   ]
  },
  {
   "cell_type": "code",
   "execution_count": 75,
   "metadata": {},
   "outputs": [
    {
     "data": {
      "text/plain": [
       "6512×5 Array{Float64,2}:\n",
       " 13.0     0.0    0.0  40.0  35.0\n",
       " 14.0     0.0    0.0  40.0  36.0\n",
       " 13.0     0.0  625.0  40.0  43.0\n",
       "  9.0     0.0    0.0  30.0  48.0\n",
       "  7.0     0.0    0.0  40.0  34.0\n",
       "  2.0     0.0    0.0  15.0  81.0\n",
       " 13.0     0.0    0.0  70.0  35.0\n",
       "  9.0  4101.0    0.0  40.0  31.0\n",
       "  6.0     0.0    0.0  40.0  33.0\n",
       "  7.0     0.0    0.0  40.0  59.0\n",
       " 13.0     0.0    0.0  16.0  23.0\n",
       " 10.0     0.0    0.0  30.0  20.0\n",
       " 13.0     0.0    0.0  40.0  30.0\n",
       "  ⋮                             \n",
       " 16.0     0.0    0.0  55.0  33.0\n",
       "  7.0     0.0    0.0  30.0  18.0\n",
       " 10.0     0.0    0.0  16.0  18.0\n",
       " 10.0     0.0    0.0  40.0  24.0\n",
       " 14.0     0.0    0.0  40.0  57.0\n",
       "  4.0     0.0    0.0  45.0  19.0\n",
       "  9.0     0.0    0.0  40.0  24.0\n",
       "  8.0     0.0    0.0  30.0  18.0\n",
       " 10.0     0.0    0.0  40.0  32.0\n",
       " 16.0     0.0    0.0  40.0  27.0\n",
       "  5.0     0.0    0.0  40.0  35.0\n",
       " 13.0   991.0    0.0  10.0  90.0"
      ]
     },
     "execution_count": 75,
     "metadata": {},
     "output_type": "execute_result"
    }
   ],
   "source": [
    "# Here, we extract the specific columns related to these labels, convert them to floats as necessary, and convert the result into arrays.\n",
    "train_vals_real = convert(Matrix, train_x[:, labels_real])\n",
    "test_vals_real = convert(Matrix, test_x[:, labels_real])\n",
    "\n",
    "train_vals_from_str = hcat(string_to_float.(train_x[:, :Age]))\n",
    "test_vals_from_str = hcat(string_to_float.(test_x[:, :Age]))\n",
    "\n",
    "@assert(eltype(train_vals_from_str) != String)\n",
    "@assert(eltype(test_vals_from_str) != String)\n",
    "\n",
    "# Concatenate real-valued data into a matrix. The train/test dataset do not include the protected attribute 'sex'.\n",
    "# We'll need them to evaluate the unawareness fairness metric.\n",
    "\n",
    "train_ua = hcat(train_vals_real, train_vals_from_str)\n",
    "test_ua = hcat(test_vals_real, test_vals_from_str)"
   ]
  },
  {
   "cell_type": "code",
   "execution_count": 76,
   "metadata": {
    "scrolled": false
   },
   "outputs": [
    {
     "data": {
      "text/plain": [
       "5-element Array{Symbol,1}:\n",
       " :Education_num \n",
       " :Capital_Gain  \n",
       " :Capital_Loss  \n",
       " :Hours_Per_Week\n",
       " :Age           "
      ]
     },
     "execution_count": 76,
     "metadata": {},
     "output_type": "execute_result"
    }
   ],
   "source": [
    "# Here is a list of the non-protected features that we'll use to train our models.\n",
    "train_features = vcat(labels_real, labels_str)"
   ]
  },
  {
   "cell_type": "markdown",
   "metadata": {},
   "source": [
    "## Boolean data – Sex (Protectected Attribute)\n",
    "Let's stratify our data based on the protected attribute."
   ]
  },
  {
   "cell_type": "code",
   "execution_count": 77,
   "metadata": {},
   "outputs": [
    {
     "data": {
      "text/plain": [
       "32561-element PooledArrays.PooledArray{String,UInt32,1,Array{UInt32,1}}:\n",
       " \" Male\"  \n",
       " \" Male\"  \n",
       " \" Male\"  \n",
       " \" Male\"  \n",
       " \" Male\"  \n",
       " \" Male\"  \n",
       " \" Male\"  \n",
       " \" Female\"\n",
       " \" Male\"  \n",
       " \" Female\"\n",
       " \" Male\"  \n",
       " \" Male\"  \n",
       " \" Female\"\n",
       " ⋮        \n",
       " \" Male\"  \n",
       " \" Female\"\n",
       " \" Male\"  \n",
       " \" Male\"  \n",
       " \" Female\"\n",
       " \" Male\"  \n",
       " \" Male\"  \n",
       " \" Female\"\n",
       " \" Male\"  \n",
       " \" Female\"\n",
       " \" Male\"  \n",
       " \" Female\""
      ]
     },
     "execution_count": 77,
     "metadata": {},
     "output_type": "execute_result"
    }
   ],
   "source": [
    "data[:, :Sex]"
   ]
  },
  {
   "cell_type": "code",
   "execution_count": 78,
   "metadata": {},
   "outputs": [
    {
     "data": {
      "text/plain": [
       "6512×1 Array{Float64,2}:\n",
       " 1.0\n",
       " 0.0\n",
       " 0.0\n",
       " 0.0\n",
       " 1.0\n",
       " 1.0\n",
       " 1.0\n",
       " 1.0\n",
       " 1.0\n",
       " 1.0\n",
       " 0.0\n",
       " 0.0\n",
       " 1.0\n",
       " ⋮  \n",
       " 1.0\n",
       " 0.0\n",
       " 1.0\n",
       " 1.0\n",
       " 0.0\n",
       " 1.0\n",
       " 1.0\n",
       " 0.0\n",
       " 1.0\n",
       " 0.0\n",
       " 1.0\n",
       " 0.0"
      ]
     },
     "execution_count": 78,
     "metadata": {},
     "output_type": "execute_result"
    }
   ],
   "source": [
    "#Let's convert the strings \" Male\" and \" Female\" to Boolean values and then convert these Boolean values into integers.\n",
    "# The value '1' indicates that a person identifies as a 'Male'. \n",
    "# The value '0' indicates that a person identifies as a 'Female' or 'Other'. \n",
    "\n",
    "train_vals_sex = convert(Array{Float64}, hcat(train_x[:, :Sex] .== \" Male\"))\n",
    "test_vals_sex =  convert(Array{Float64}, hcat(test_x[:, :Sex] .== \" Male\"))"
   ]
  },
  {
   "cell_type": "markdown",
   "metadata": {},
   "source": [
    "## Train and Test datasets for Male and Female examples\n",
    "We need a train and test dataset for both the male and female examples so that we can evaluate the fairness of our models."
   ]
  },
  {
   "cell_type": "code",
   "execution_count": 79,
   "metadata": {},
   "outputs": [
    {
     "data": {
      "text/plain": [
       "2085×6 Array{Float64,2}:\n",
       " 14.0    0.0    0.0  40.0  36.0  0.0\n",
       " 13.0    0.0  625.0  40.0  43.0  0.0\n",
       "  9.0    0.0    0.0  30.0  48.0  0.0\n",
       " 13.0    0.0    0.0  16.0  23.0  0.0\n",
       " 10.0    0.0    0.0  30.0  20.0  0.0\n",
       " 13.0    0.0    0.0  45.0  33.0  0.0\n",
       "  9.0    0.0    0.0  40.0  19.0  0.0\n",
       "  9.0    0.0    0.0  55.0  37.0  0.0\n",
       "  9.0    0.0    0.0  35.0  18.0  0.0\n",
       " 12.0    0.0    0.0  38.0  43.0  0.0\n",
       "  9.0    0.0    0.0  20.0  19.0  0.0\n",
       " 14.0    0.0    0.0  50.0  47.0  0.0\n",
       "  9.0    0.0    0.0  40.0  18.0  0.0\n",
       "  ⋮                              ⋮  \n",
       " 10.0    0.0    0.0  40.0  37.0  0.0\n",
       " 13.0    0.0    0.0  36.0  37.0  0.0\n",
       " 10.0    0.0    0.0  40.0  39.0  0.0\n",
       "  6.0    0.0    0.0  25.0  29.0  0.0\n",
       " 10.0    0.0    0.0  40.0  29.0  0.0\n",
       "  7.0    0.0    0.0  40.0  44.0  0.0\n",
       "  9.0    0.0    0.0  32.0  49.0  0.0\n",
       "  7.0    0.0    0.0  30.0  18.0  0.0\n",
       " 14.0    0.0    0.0  40.0  57.0  0.0\n",
       "  8.0    0.0    0.0  30.0  18.0  0.0\n",
       " 16.0    0.0    0.0  40.0  27.0  0.0\n",
       " 13.0  991.0    0.0  10.0  90.0  0.0"
      ]
     },
     "execution_count": 79,
     "metadata": {},
     "output_type": "execute_result"
    }
   ],
   "source": [
    "# We need to add the protected feature, 'sex', to our train and test datasets.\n",
    "\n",
    "# Here is a list of features (including the protected attribute) that we'll use to train our models.\n",
    "train_features_w_sex = vcat(labels_real, labels_str, :Sex)\n",
    "\n",
    "train_vals = hcat(train_vals_real, train_vals_from_str, train_vals_sex)\n",
    "test_vals = hcat(test_vals_real, test_vals_from_str, test_vals_sex)\n",
    "\n",
    "# We need the index of the 'sex' feature. It's the last column in our train and test datasets.\n",
    "sex_id = size(train_vals, 2)\n",
    "\n",
    "# These are the male examples in our train and test samples.\n",
    "train_male = train_vals[train_vals[:, sex_id] .== 1.0, :]\n",
    "test_male = test_vals[test_vals[:, sex_id] .== 1.0, :]\n",
    "\n",
    "# These are the female examples in our train and test samples.\n",
    "train_female = train_vals[train_vals[:, sex_id] .== 0.0, :]\n",
    "test_female = test_vals[test_vals[:, sex_id] .== 0.0, :]"
   ]
  },
  {
   "cell_type": "markdown",
   "metadata": {},
   "source": [
    "Notice that every value in the last column of test_female is '0.0'."
   ]
  },
  {
   "cell_type": "markdown",
   "metadata": {},
   "source": [
    "## Target values for the Male and Female train and test datasets"
   ]
  },
  {
   "cell_type": "code",
   "execution_count": 80,
   "metadata": {},
   "outputs": [
    {
     "data": {
      "text/plain": [
       "2085-element Array{Float64,1}:\n",
       " 0.0\n",
       " 0.0\n",
       " 0.0\n",
       " 0.0\n",
       " 0.0\n",
       " 0.0\n",
       " 0.0\n",
       " 0.0\n",
       " 0.0\n",
       " 0.0\n",
       " 0.0\n",
       " 1.0\n",
       " 0.0\n",
       " ⋮  \n",
       " 0.0\n",
       " 0.0\n",
       " 0.0\n",
       " 0.0\n",
       " 0.0\n",
       " 0.0\n",
       " 0.0\n",
       " 0.0\n",
       " 0.0\n",
       " 0.0\n",
       " 0.0\n",
       " 0.0"
      ]
     },
     "execution_count": 80,
     "metadata": {},
     "output_type": "execute_result"
    }
   ],
   "source": [
    "# We need to match up the target values for our male and female train and test examples.\n",
    "\n",
    "# Let's concatenate the 'sex' feature with the target label. We have to do this for both the train and test datasets.\n",
    "t1 = hcat(train_vals_sex, train_y)\n",
    "t2 = hcat(test_vals_sex, test_y)\n",
    "\n",
    "# We need the index of the 'sex' feature in our t1 and t2 sets. It's the first column.\n",
    "t_sex_index = 1\n",
    "\n",
    "# We need the index of the target value in our t1 and t2 sets. It's the last column.\n",
    "t_target_index = size(t1, 2)\n",
    "\n",
    "\n",
    "# These are the target values for male and female training samples.\n",
    "train_male_y = t1[t1[:, t_sex_index] .== 1.0, t_target_index]\n",
    "train_female_y = t1[t1[:, t_sex_index] .== 0.0, t_target_index]\n",
    "\n",
    "\n",
    "# These are the target values for male and female test samples.\n",
    "test_male_y = t2[t2[:, t_sex_index] .== 1.0, t_target_index]\n",
    "test_female_y = t2[t2[:, t_sex_index] .== 0.0, t_target_index]\n"
   ]
  },
  {
   "cell_type": "markdown",
   "metadata": {},
   "source": [
    "# Now, we are ready to fit a model to our data.\n",
    "We'll use Logistic regression as our baseline classifier. # These are the target values for male and female training samples."
   ]
  },
  {
   "cell_type": "markdown",
   "metadata": {},
   "source": [
    "### Let's see how our classifier performs using only the sex feature (protected attribute)."
   ]
  },
  {
   "cell_type": "code",
   "execution_count": 81,
   "metadata": {},
   "outputs": [
    {
     "data": {
      "text/plain": [
       "0.7587530712530712"
      ]
     },
     "execution_count": 81,
     "metadata": {},
     "output_type": "execute_result"
    }
   ],
   "source": [
    "logistic_sex_only = fit!(LogisticRegression(), train_vals_sex, train_y).predict(test_vals_sex)\n",
    "\n",
    "# This tells us how well we can predict income based on 'sex' only.\n",
    "accuracy_score(test_y, logistic_sex_only)"
   ]
  },
  {
   "cell_type": "markdown",
   "metadata": {},
   "source": [
    "This model is over 75% accurate. Sex predicts income *too* well!"
   ]
  },
  {
   "cell_type": "markdown",
   "metadata": {},
   "source": [
    "## Fairness Metric: Unawareness\n",
    "We need to compare the accuracy of the model when including and NOT including the protected attribute.\n"
   ]
  },
  {
   "cell_type": "code",
   "execution_count": 82,
   "metadata": {
    "scrolled": false
   },
   "outputs": [
    {
     "data": {
      "text/plain": [
       "0.8132678132678133"
      ]
     },
     "execution_count": 82,
     "metadata": {},
     "output_type": "execute_result"
    }
   ],
   "source": [
    "# This model does not take into account the 'sex' feature.\n",
    "logistic_without_sex = fit!(LogisticRegression(), train_ua, train_y).predict(test_ua)\n",
    "accuracy_score(test_y, logistic_without_sex)"
   ]
  },
  {
   "cell_type": "code",
   "execution_count": 83,
   "metadata": {},
   "outputs": [
    {
     "data": {
      "text/plain": [
       "0.8183353808353808"
      ]
     },
     "execution_count": 83,
     "metadata": {},
     "output_type": "execute_result"
    }
   ],
   "source": [
    "# This model does include the protected attribute, 'sex'.\n",
    "logistic_with_sex = fit!(LogisticRegression(), train_vals, train_y).predict(test_vals)\n",
    "accuracy_score(test_y, logistic_with_sex)"
   ]
  },
  {
   "cell_type": "markdown",
   "metadata": {},
   "source": [
    "The accuracy for both datasets is around 81-82%. This means that 'sex' does not have a substantial effect on our predictions."
   ]
  },
  {
   "cell_type": "markdown",
   "metadata": {},
   "source": [
    "## Before we move on to other fairness metrics, let's plot some results.\n",
    "Recall that 'train_features_w_sex' is a list of features (including the protected attribute) that we used to train our model."
   ]
  },
  {
   "cell_type": "code",
   "execution_count": null,
   "metadata": {
    "scrolled": false
   },
   "outputs": [],
   "source": [
    "ypred = 2*logistic_with_sex.-1\n",
    "\n",
    "# We choose two features to plot.\n",
    "features_to_plot = [1,4]\n",
    "\n",
    "xlabel = String(train_features_w_sex[features_to_plot[1]])\n",
    "ylabel = String(train_features_w_sex[features_to_plot[2]])\n",
    "\n",
    "plot()\n",
    "\n",
    "# plot negative examples \n",
    "neg_ex = ypred .== -1\n",
    "scatter!(test_vals[neg_ex, features_to_plot[1]], test_vals[neg_ex, features_to_plot[2]], color = :red, label=\"negative\", alpha=.3)\n",
    "\n",
    "# plot positive examples\n",
    "pos_ex = ypred .== 1\n",
    "scatter!(test_vals[pos_ex, features_to_plot[1]], test_vals[pos_ex, features_to_plot[2]], color = :blue, label=\"positive\", alpha=.3)\n",
    "\n",
    "xlabel!(xlabel)\n",
    "ylabel!(ylabel)"
   ]
  },
  {
   "cell_type": "markdown",
   "metadata": {},
   "source": [
    "## Fairness Metric: Statistical Parity"
   ]
  },
  {
   "cell_type": "code",
   "execution_count": null,
   "metadata": {},
   "outputs": [],
   "source": [
    "# Let's do Logistic regression on the male examples.\n",
    "logistic_male = fit!(LogisticRegression(), train_male, train_male_y).predict(test_male)\n",
    "\n",
    "# Let's calculate the percentage of males predicted to have an income > $50K. \n",
    "logistic_sp_male = sum(logistic_male) / length(logistic_male)"
   ]
  },
  {
   "cell_type": "code",
   "execution_count": null,
   "metadata": {},
   "outputs": [],
   "source": [
    "# Let's do Logistic regression on the female examples.\n",
    "logistic_female = fit!(LogisticRegression(), train_female, train_female_y).predict(test_female)\n",
    "\n",
    "# Let's calculate the percentage of females predicted to have an income > $50K.  \n",
    "logistic_sp_female = sum(logistic_female) / length(logistic_female)"
   ]
  },
  {
   "cell_type": "markdown",
   "metadata": {},
   "source": [
    "Males are about 7x more likely to have an income > $ 50K than females. That's a huge discrepancy!"
   ]
  },
  {
   "cell_type": "markdown",
   "metadata": {},
   "source": [
    "## Fairness Metric: Equalized Odds"
   ]
  },
  {
   "cell_type": "markdown",
   "metadata": {},
   "source": [
    "Here are some helper functions which help us compute the True Positive rate, True Negative rate, False Positive rate, and False Negative rate. We'll need these values to calculate equalized odds for this dataset."
   ]
  },
  {
   "cell_type": "code",
   "execution_count": null,
   "metadata": {
    "scrolled": false
   },
   "outputs": [],
   "source": [
    "# Count the number of true positives.\n",
    "function TP(actual, prediction)\n",
    "    counter = 0\n",
    "    for i in 1:length(actual)\n",
    "        if (actual[i] ==1 && prediction[i] ==1)\n",
    "            counter += 1\n",
    "        end\n",
    "    end\n",
    "    return counter\n",
    "end\n",
    "\n",
    "# This function calculates the True Positive rate.\n",
    "function TPR(actual, prediction)\n",
    "    TP(actual, prediction) / sum(actual)\n",
    "end"
   ]
  },
  {
   "cell_type": "code",
   "execution_count": null,
   "metadata": {
    "scrolled": false
   },
   "outputs": [],
   "source": [
    "# Count the number of true negatives.\n",
    "function TN(actual, prediction)\n",
    "    counter = 0\n",
    "    for i in 1:length(actual)\n",
    "        if (actual[i] ==0 && prediction[i] ==0)\n",
    "            counter += 1\n",
    "        end\n",
    "    end\n",
    "    return counter\n",
    "end\n",
    "\n",
    "# This function calculates the True Negative rate.\n",
    "function TNR(actual, prediction)\n",
    "    TN(actual, prediction) / (length(actual) - sum(actual))\n",
    "end"
   ]
  },
  {
   "cell_type": "code",
   "execution_count": null,
   "metadata": {
    "scrolled": false
   },
   "outputs": [],
   "source": [
    "# Count the number of false positives.\n",
    "function FP(actual, prediction)\n",
    "    counter = 0\n",
    "    for i in 1:length(actual)\n",
    "        if (actual[i] ==0 && prediction[i] ==1)\n",
    "            counter += 1\n",
    "        end\n",
    "    end\n",
    "    return counter\n",
    "end\n",
    "\n",
    "# This function calculates the False Positive rate.\n",
    "function FPR(actual, prediction)\n",
    "    FP(actual, prediction) / (length(actual) - sum(actual))\n",
    "end"
   ]
  },
  {
   "cell_type": "code",
   "execution_count": null,
   "metadata": {
    "scrolled": false
   },
   "outputs": [],
   "source": [
    "# Count the number of false negatives.\n",
    "function FN(actual, prediction)\n",
    "    counter = 0\n",
    "    for i in 1:length(actual)\n",
    "        if (actual[i] ==1 && prediction[i] ==0)\n",
    "            counter += 1\n",
    "        end\n",
    "    end\n",
    "    return counter\n",
    "end\n",
    "\n",
    "# This function calculates the False Negative rate.\n",
    "function FNR(actual, prediction)\n",
    "    FN(actual, prediction) / sum(actual)\n",
    "end"
   ]
  },
  {
   "cell_type": "markdown",
   "metadata": {},
   "source": [
    "#### True Positives (Equality of Opportunity)"
   ]
  },
  {
   "cell_type": "code",
   "execution_count": null,
   "metadata": {
    "scrolled": false
   },
   "outputs": [],
   "source": [
    "TPR_log_male = TPR(test_male_y,logistic_male)"
   ]
  },
  {
   "cell_type": "code",
   "execution_count": null,
   "metadata": {
    "scrolled": false
   },
   "outputs": [],
   "source": [
    "TPR_log_female = TPR(test_female_y, logistic_female)"
   ]
  },
  {
   "cell_type": "markdown",
   "metadata": {},
   "source": [
    "Men are over 2x more likely to be correctly classified with income over $50K than women."
   ]
  },
  {
   "cell_type": "markdown",
   "metadata": {},
   "source": [
    "#### True Negatives"
   ]
  },
  {
   "cell_type": "code",
   "execution_count": null,
   "metadata": {
    "scrolled": false
   },
   "outputs": [],
   "source": [
    "TNR_log_male = TNR(test_male_y, logistic_male)"
   ]
  },
  {
   "cell_type": "code",
   "execution_count": null,
   "metadata": {
    "scrolled": false
   },
   "outputs": [],
   "source": [
    "TNR_log_female = TNR(test_female_y, logistic_female)"
   ]
  },
  {
   "cell_type": "markdown",
   "metadata": {},
   "source": [
    "#### False Positive"
   ]
  },
  {
   "cell_type": "code",
   "execution_count": null,
   "metadata": {
    "scrolled": false
   },
   "outputs": [],
   "source": [
    "FPR_log_male = FPR(test_male_y, logistic_male)"
   ]
  },
  {
   "cell_type": "code",
   "execution_count": null,
   "metadata": {
    "scrolled": false
   },
   "outputs": [],
   "source": [
    "FPR_log_female = FPR(test_female_y, logistic_female)"
   ]
  },
  {
   "cell_type": "markdown",
   "metadata": {},
   "source": [
    "#### False Negatives"
   ]
  },
  {
   "cell_type": "code",
   "execution_count": null,
   "metadata": {
    "scrolled": false
   },
   "outputs": [],
   "source": [
    "FNR_log_male = FNR(test_male_y, logistic_male)"
   ]
  },
  {
   "cell_type": "code",
   "execution_count": null,
   "metadata": {
    "scrolled": false
   },
   "outputs": [],
   "source": [
    "FNR_log_female = FNR(test_female_y, logistic_female)"
   ]
  },
  {
   "cell_type": "markdown",
   "metadata": {},
   "source": [
    "###  Predictive Rate Parity\n",
    "We can use Bayes Theorem to figure out the Predictive Rate Parity for males and females."
   ]
  },
  {
   "cell_type": "code",
   "execution_count": null,
   "metadata": {
    "scrolled": false
   },
   "outputs": [],
   "source": [
    "# Positive Predictive Rate Parity for males\n",
    "PPR_male = (TPR_log_male * sum(test_male_y)) / sum(logistic_male)"
   ]
  },
  {
   "cell_type": "code",
   "execution_count": null,
   "metadata": {
    "scrolled": false
   },
   "outputs": [],
   "source": [
    "# Positive Predictive Rate Parity for females\n",
    "PPR_female = (TPR_log_female * sum(test_female_y)) / sum(logistic_female)"
   ]
  },
  {
   "cell_type": "code",
   "execution_count": null,
   "metadata": {
    "scrolled": false
   },
   "outputs": [],
   "source": [
    "# Negative Predictive Rate Parity  for males\n",
    "NPR_male = (TNR_log_male * (length(test_male_y) - sum(test_male_y))) / (length(logistic_male) - sum(logistic_male))"
   ]
  },
  {
   "cell_type": "code",
   "execution_count": null,
   "metadata": {
    "scrolled": false
   },
   "outputs": [],
   "source": [
    "# Negative Predictive Rate Parity  for females\n",
    "NPR_female = (TNR_log_female * (length(test_female_y) - sum(test_female_y))) / (length(logistic_female) - sum(logistic_female))"
   ]
  },
  {
   "cell_type": "markdown",
   "metadata": {},
   "source": [
    "# Let's compare our predictions from Logistic regression with Random Forest.\n",
    "\n",
    "We'll look at Unawareness, Statistical Parity, Equalized odds, and Predictive Rate Parity for our Random Forest classifier.\n",
    "\n",
    "\n",
    "## Fairness Metric: Unawareness (using Random Forest)\n",
    "We need to compare the accuracy of the model when including and NOT including the protected attribute."
   ]
  },
  {
   "cell_type": "code",
   "execution_count": null,
   "metadata": {
    "scrolled": false
   },
   "outputs": [],
   "source": [
    "# Here we fit a random forest classifier on our dataset with includes the protected attribute.\n",
    "rf_clf_with_sex = fit!(RandomForestClassifier(n_trees=20, n_subfeatures = 4), train_vals, vec(train_y))\n",
    "\n",
    "# Next, we make predictions with our random forest classifier.\n",
    "rf_with_sex = predict(rf_clf_with_sex, test_vals)"
   ]
  },
  {
   "cell_type": "markdown",
   "metadata": {
    "scrolled": false
   },
   "source": [
    "As you can see, our predictions take on values between '0' and '1'. We'll set a threshold for our predictions."
   ]
  },
  {
   "cell_type": "code",
   "execution_count": null,
   "metadata": {
    "scrolled": false
   },
   "outputs": [],
   "source": [
    "rf_bin_with_sex = rf_with_sex .> .65"
   ]
  },
  {
   "cell_type": "markdown",
   "metadata": {},
   "source": [
    "Now we get '0' or '1'."
   ]
  },
  {
   "cell_type": "code",
   "execution_count": null,
   "metadata": {
    "scrolled": false
   },
   "outputs": [],
   "source": [
    "accuracy_score(test_y, rf_bin_with_sex)"
   ]
  },
  {
   "cell_type": "code",
   "execution_count": null,
   "metadata": {},
   "outputs": [],
   "source": [
    "# Here, we fit a random forest classifier on our dataset. This dataset does not include the protected attribute, 'sex'.\n",
    "rf_clf_without_sex = fit!(RandomForestClassifier(n_trees=20, n_subfeatures = 4), train_ua, vec(train_y))\n",
    "\n",
    "# Next, we make predictions with our random forest classifier.\n",
    "rf_without_sex = predict(rf_clf_without_sex, test_ua)\n",
    "\n",
    "# Set a threshold for our predictions.\n",
    "rf_bin_without_sex = rf_without_sex .> .65\n",
    "\n",
    "accuracy_score(test_y, rf_bin_without_sex)"
   ]
  },
  {
   "cell_type": "markdown",
   "metadata": {},
   "source": [
    "We approximately get the same accuracy score for both, so the protected attribute, sex, does not influence our predictions."
   ]
  },
  {
   "cell_type": "markdown",
   "metadata": {},
   "source": [
    "### Let's see how our classifier performs using only the sex feature (protected attribute)."
   ]
  },
  {
   "cell_type": "code",
   "execution_count": null,
   "metadata": {},
   "outputs": [],
   "source": [
    "# Here, we change the number of subfeatures to be 1 since we are only using one feature.\n",
    "rf_clf_sex_only = fit!(RandomForestClassifier(n_trees=20, n_subfeatures = 1), train_vals_sex, vec(train_y))\n",
    "rf_sex_only = predict(rf_clf_sex_only, test_vals_sex)\n",
    "\n",
    "rf_bin_sex_only = rf_sex_only .> .65\n",
    "\n",
    "# This tells us how well we can predict income based on sex only.\n",
    "accuracy_score(test_y, rf_bin_sex_only)"
   ]
  },
  {
   "cell_type": "markdown",
   "metadata": {},
   "source": [
    "This model is over 75% accurate. Sex predicts income *too* well! We saw the same value for Logistic regression."
   ]
  },
  {
   "cell_type": "markdown",
   "metadata": {},
   "source": [
    "## Fairness Metric: Statistical Parity (using Random Forest)"
   ]
  },
  {
   "cell_type": "code",
   "execution_count": null,
   "metadata": {
    "scrolled": false
   },
   "outputs": [],
   "source": [
    "# Random Forest on male examples\n",
    "rf_clf_male = fit!(RandomForestClassifier(n_trees=20, n_subfeatures = 4), train_male, vec(train_male_y))\n",
    "rf_male = predict(rf_clf_male, test_male)\n",
    "\n",
    "rf_male_bin = rf_male .> .65\n",
    "\n",
    "# Let's calculate the percentage of males predicted to have an income > $50K.\n",
    "rf_sp_male = sum(rf_male_bin) / length(rf_male_bin)"
   ]
  },
  {
   "cell_type": "code",
   "execution_count": null,
   "metadata": {
    "scrolled": false
   },
   "outputs": [],
   "source": [
    "# Random Forest on female examples\n",
    "rf_clf_female = fit!(RandomForestClassifier(n_trees=20, n_subfeatures = 4), train_female, vec(train_female_y))\n",
    "rf_female = predict(rf_clf_female, test_female)\n",
    "rf_female_bin = rf_female .> .65\n",
    "\n",
    "\n",
    "# Let's calculate the percentage of females predicted to have an income > $50K. \n",
    "rf_sp_female = sum(rf_female_bin) / length(rf_female_bin)"
   ]
  },
  {
   "cell_type": "markdown",
   "metadata": {},
   "source": [
    "Males are about 4.5x more likely to have a predicted income > $ 50K than females."
   ]
  },
  {
   "cell_type": "code",
   "execution_count": null,
   "metadata": {
    "scrolled": false
   },
   "outputs": [],
   "source": [
    "# will delete\n",
    "rf_sp_diff = rf_sp_male - rf_sp_female"
   ]
  },
  {
   "cell_type": "markdown",
   "metadata": {},
   "source": [
    "## Fairness Metric: Equalized Odds (using Random Forest)\n",
    "Let's calculate TPR, TNR, FPR, and FNR for our male and female random forest predictions."
   ]
  },
  {
   "cell_type": "markdown",
   "metadata": {},
   "source": [
    "#### True Positives (Equality of Opportunity)"
   ]
  },
  {
   "cell_type": "code",
   "execution_count": null,
   "metadata": {
    "scrolled": false
   },
   "outputs": [],
   "source": [
    "TPR_rf_male = TPR(test_male_y,rf_male_bin)"
   ]
  },
  {
   "cell_type": "code",
   "execution_count": null,
   "metadata": {
    "scrolled": false
   },
   "outputs": [],
   "source": [
    "TPR_rf_female = TPR(test_female_y, rf_female_bin)"
   ]
  },
  {
   "cell_type": "markdown",
   "metadata": {},
   "source": [
    "#### True Negative Rates"
   ]
  },
  {
   "cell_type": "code",
   "execution_count": null,
   "metadata": {
    "scrolled": false
   },
   "outputs": [],
   "source": [
    "TNR_rf_male = TNR(test_male_y,rf_male_bin)"
   ]
  },
  {
   "cell_type": "code",
   "execution_count": null,
   "metadata": {
    "scrolled": false
   },
   "outputs": [],
   "source": [
    "TNR_rf_female = TNR(test_female_y,rf_female_bin)"
   ]
  },
  {
   "cell_type": "markdown",
   "metadata": {},
   "source": [
    "#### False Positive Rates"
   ]
  },
  {
   "cell_type": "code",
   "execution_count": null,
   "metadata": {
    "scrolled": false
   },
   "outputs": [],
   "source": [
    "FPR_rf_male = FPR(test_male_y, rf_male_bin)"
   ]
  },
  {
   "cell_type": "code",
   "execution_count": null,
   "metadata": {
    "scrolled": false
   },
   "outputs": [],
   "source": [
    "FPR_rf_female = FPR(test_female_y, rf_female_bin)"
   ]
  },
  {
   "cell_type": "markdown",
   "metadata": {},
   "source": [
    "#### False Negative Rates"
   ]
  },
  {
   "cell_type": "code",
   "execution_count": null,
   "metadata": {
    "scrolled": false
   },
   "outputs": [],
   "source": [
    "FNR_rf_male = FNR(test_male_y, rf_male_bin)"
   ]
  },
  {
   "cell_type": "code",
   "execution_count": null,
   "metadata": {
    "scrolled": false
   },
   "outputs": [],
   "source": [
    "FNR_rf_female = FNR(test_female_y, rf_female_bin)"
   ]
  },
  {
   "cell_type": "markdown",
   "metadata": {},
   "source": [
    "We'll plot the differences in these values in a little bit. Let's look at our last fairness metric, predictive rate parity, for our Random forest classifier."
   ]
  },
  {
   "cell_type": "markdown",
   "metadata": {},
   "source": [
    "## Fairness Metric: Predictive Rate Parity (using Random Forest)\n"
   ]
  },
  {
   "cell_type": "markdown",
   "metadata": {},
   "source": [
    "#### Positive Predictive Rate Parity"
   ]
  },
  {
   "cell_type": "code",
   "execution_count": null,
   "metadata": {
    "scrolled": false
   },
   "outputs": [],
   "source": [
    "# Positive Predictive Rate Parity for male examples\n",
    "PPR_rf_male = (TPR_rf_male * sum(test_male_y)) / sum(rf_male_bin)"
   ]
  },
  {
   "cell_type": "code",
   "execution_count": null,
   "metadata": {
    "scrolled": false
   },
   "outputs": [],
   "source": [
    "# Positive Predictive Rate Parity for female examples\n",
    "PPR_rf_female = (TPR_rf_female * sum(test_female_y)) / sum(rf_female_bin)"
   ]
  },
  {
   "cell_type": "markdown",
   "metadata": {},
   "source": [
    "#### Negative Predictive Parity"
   ]
  },
  {
   "cell_type": "code",
   "execution_count": null,
   "metadata": {
    "scrolled": false
   },
   "outputs": [],
   "source": [
    "# Negative Predictive Rate Parity for male examples\n",
    "NPR_rf_male = (TNR_rf_male * (length(test_male_y) - sum(test_male_y))) / (length(rf_male_bin) - sum(rf_male_bin))"
   ]
  },
  {
   "cell_type": "code",
   "execution_count": null,
   "metadata": {
    "scrolled": false
   },
   "outputs": [],
   "source": [
    "# Negative Predictive Rate Parity for female examples\n",
    "NPR_rf_female = (TNR_rf_female * (length(test_female_y) - sum(test_female_y))) / (length(rf_female_bin) - sum(rf_female_bin))"
   ]
  },
  {
   "cell_type": "markdown",
   "metadata": {},
   "source": [
    "## Now, we'll plot a series of graphs."
   ]
  },
  {
   "cell_type": "code",
   "execution_count": null,
   "metadata": {
    "scrolled": false
   },
   "outputs": [],
   "source": [
    "# Let's plot Statistical parity rates for our logistic and random forest classifiers.\n",
    "mn = [logistic_sp_male, rf_sp_male, logistic_sp_female, rf_sp_female]\n",
    "sx = repeat([\"Men\", \"Women\"], inner = 2)\n",
    "nam = repeat([\"logistic\", \"random forest\"], outer = 2 )\n",
    "\n",
    "import Pkg; Pkg.add(\"StatsPlots\")\n",
    "using StatsPlots\n",
    "\n",
    "groupedbar(nam, mn, group = sx, \n",
    "        title = \"Statistical Parity\", ylim = (0,.2))\n"
   ]
  },
  {
   "cell_type": "code",
   "execution_count": null,
   "metadata": {
    "scrolled": false
   },
   "outputs": [],
   "source": [
    "# Let's plot the Statistical parity rate difference (between males and females) for each classifier.\n",
    "\n",
    "x = [\"logistic\", \"random forest\"]\n",
    "y = [logistic_sp_male-logistic_sp_female, rf_sp_male - rf_sp_female]\n",
    "\n",
    "b = bar(x,y,alpha=0.4,color=\"#333333\", legend=false, title=\"Statistical Parity Difference\", ylim = (0,.2))"
   ]
  },
  {
   "cell_type": "code",
   "execution_count": null,
   "metadata": {
    "scrolled": false
   },
   "outputs": [],
   "source": [
    "# Here are the plots for Equalized odds.\n",
    "\n",
    "mn2 = [TPR_log_male, TPR_rf_male, TPR_log_female, TPR_rf_female]\n",
    "sx2 = repeat([\"Men\", \"Women\"], inner = 2)\n",
    "nam2 = repeat([\"logistic\", \"random forest\"], outer = 2 )\n",
    "\n",
    "mn3 = [TNR_log_male, TNR_rf_male, TNR_log_female, TNR_rf_female]\n",
    "sx3 = repeat([\"Men\", \"Women\"], inner = 2)\n",
    "nam3 = repeat([\"logistic\", \"random forest\"], outer = 2 )\n",
    "\n",
    "mn4 = [FPR_log_male, FPR_rf_male, FPR_log_female, FPR_rf_female]\n",
    "sx4 = repeat([\"Men\", \"Women\"], inner = 2)\n",
    "nam4 = repeat([\"logistic\", \"random forest\"], outer = 2 )\n",
    "\n",
    "mn5 = [FNR_log_male, FNR_rf_male, FNR_log_female, FNR_rf_female]\n",
    "sx5 = repeat([\"Men\", \"Women\"], inner = 2)\n",
    "nam5 = repeat([\"logistic\", \"random forest\"], outer = 2 )\n",
    "\n",
    "eo1 = groupedbar(nam2, mn2, group = sx2, \n",
    "        title = \"True Positive Rate\")\n",
    "eo2 = groupedbar(nam3, mn3, group = sx3, \n",
    "        title = \"True Negative Rate\")\n",
    "eo3 = groupedbar(nam4, mn4, group = sx4, \n",
    "        title = \"False Positive Rate\")\n",
    "eo4 = groupedbar(nam5, mn5, group = sx5, \n",
    "        title = \"False Negative Rate\")\n",
    "\n",
    "\n",
    "plot(eo1,eo2,eo3,eo4,layout=(2,2),legend=false, ylim = (0,1))"
   ]
  },
  {
   "cell_type": "code",
   "execution_count": null,
   "metadata": {
    "scrolled": false
   },
   "outputs": [],
   "source": [
    "# Let's plot the Equalized Odds difference (between males and females) for each classifier.\n",
    "y1 = [TPR_log_male-TPR_log_female, TPR_rf_male - TPR_rf_female]\n",
    "y2 = [TNR_log_male-TNR_log_female, TNR_rf_male - TNR_rf_female]\n",
    "y3 = [FPR_log_male-FPR_log_female, FPR_rf_male - FPR_rf_female]\n",
    "y4 = [FNR_log_male-FNR_log_female, FNR_rf_male - FNR_rf_female]\n",
    "\n",
    "b1 = bar(x,y1,alpha=0.4,color=\"#333333\", title=\"True Positive Rate Difference\")\n",
    "b2 = bar(x,y2,alpha=0.4,color=\"#333333\", title=\"True Negative Rate Difference\")\n",
    "b3 = bar(x,y3,alpha=0.4,color=\"#333333\", title=\"False Positive Rate Difference\")\n",
    "b4 = bar(x,y4,alpha=0.4,color=\"#333333\", title=\"False Negative Rate Difference\")\n",
    "\n",
    "plot(b1,b2,b3,b4,layout=(2,2),legend=false, ylim = (-0.5,0.5))"
   ]
  },
  {
   "cell_type": "code",
   "execution_count": null,
   "metadata": {
    "scrolled": true
   },
   "outputs": [],
   "source": [
    "# Here are the plots for Predicative Rate Parity.\n",
    "mn6 = [PPR_male, PPR_rf_male, PPR_female, PPR_rf_female]\n",
    "sx6 = repeat([\"Men\", \"Women\"], inner = 2)\n",
    "nam6 = repeat([\"logistic\", \"random forest\"], outer = 2 )\n",
    "\n",
    "mn7 = [NPR_male, NPR_rf_male, NPR_female, NPR_rf_female]\n",
    "sx7 = repeat([\"Men\", \"Women\"], inner = 2)\n",
    "nam7 = repeat([\"logistic\", \"random forest\"], outer = 2 )\n",
    "\n",
    "pr1 = groupedbar(nam6, mn6, group = sx6, \n",
    "        title = \"Positive Predictive Parity Rate\")\n",
    "pr2 = groupedbar(nam7, mn7, group = sx7, \n",
    "        title = \"Negative Predictive Parity Rate\")\n",
    "\n",
    "\n",
    "plot(pr1,pr2, layout=(2,1),legend=false, ylim = (0,1))"
   ]
  },
  {
   "cell_type": "code",
   "execution_count": null,
   "metadata": {
    "scrolled": false
   },
   "outputs": [],
   "source": [
    "# Let's plot the Predicative Rate Parity difference (between males and females) for each classifier.\n",
    "y5 = [PPR_male-PPR_female, PPR_rf_male - PPR_rf_female]\n",
    "y6 = [NPR_male-NPR_female, NPR_rf_male - NPR_rf_female]\n",
    "\n",
    "b5 = bar(x,y5,alpha=0.4,color=\"#333333\", title=\"Positive Predictive Parity Rate Difference\")\n",
    "b6 = bar(x,y5,alpha=0.4,color=\"#333333\", title=\"Negative Predictive Parity Rate Difference\")\n",
    "\n",
    "\n",
    "plot(b5,b6,layout=(2,1),legend=false, ylim = (-0.5,0.5))"
   ]
  }
 ],
 "metadata": {
  "kernelspec": {
   "display_name": "Julia 1.2.0",
   "language": "julia",
   "name": "julia-1.2"
  },
  "language_info": {
   "file_extension": ".jl",
   "mimetype": "application/julia",
   "name": "julia",
   "version": "1.2.0"
  }
 },
 "nbformat": 4,
 "nbformat_minor": 2
}
