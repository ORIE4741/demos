{
 "cells": [
  {
   "cell_type": "code",
   "execution_count": 1,
   "metadata": {},
   "outputs": [],
   "source": [
    "import pandas as pd\n",
    "import numpy as np\n",
    "import sys\n",
    "import matplotlib.pyplot as plt\n",
    "import seaborn as sns"
   ]
  },
  {
   "cell_type": "code",
   "execution_count": 2,
   "metadata": {},
   "outputs": [],
   "source": [
    "# Codes available at https://github.com/udellgroup/online_mixed_gc_imp\n",
    "sys.path.append(\"/Users/yuxuan/Documents/GitHub/online_mixed_gc_imp\")\n",
    "from em.expectation_maximization import ExpectationMaximization"
   ]
  },
  {
   "cell_type": "code",
   "execution_count": 3,
   "metadata": {},
   "outputs": [],
   "source": [
    "data = pd.read_csv(\"GSS_2014_17var.csv\", index_col=0)"
   ]
  },
  {
   "cell_type": "code",
   "execution_count": 4,
   "metadata": {},
   "outputs": [
    {
     "data": {
      "text/plain": [
       "DEGREE      0.000000\n",
       "PEOCNTCT    0.506304\n",
       "STRESS      0.510244\n",
       "SLPPRBLM    0.509062\n",
       "WKSMOOTH    0.512214\n",
       "UNEMP       0.336485\n",
       "SATFIN      0.002364\n",
       "CLASS_      0.007486\n",
       "SATJOB      0.253349\n",
       "WEEKSWRK    0.009850\n",
       "LIFE        0.330181\n",
       "HEALTH      0.326241\n",
       "HAPPY       0.003152\n",
       "RINCOME     0.399921\n",
       "INCOM16     0.013396\n",
       "SOCBAR      0.638298\n",
       "AGE         0.003546\n",
       "dtype: float64"
      ]
     },
     "execution_count": 4,
     "metadata": {},
     "output_type": "execute_result"
    }
   ],
   "source": [
    "# missing ratio at each column\n",
    "data.apply(lambda x: np.mean(np.isnan(x)))"
   ]
  },
  {
   "cell_type": "code",
   "execution_count": 5,
   "metadata": {},
   "outputs": [
    {
     "data": {
      "text/plain": [
       "DEGREE       5\n",
       "PEOCNTCT     6\n",
       "STRESS       6\n",
       "SLPPRBLM     5\n",
       "WKSMOOTH     5\n",
       "UNEMP        3\n",
       "SATFIN       4\n",
       "CLASS_       5\n",
       "SATJOB       5\n",
       "WEEKSWRK    50\n",
       "LIFE         4\n",
       "HEALTH       5\n",
       "HAPPY        4\n",
       "RINCOME     13\n",
       "INCOM16      6\n",
       "SOCBAR       7\n",
       "AGE         73\n",
       "dtype: int64"
      ]
     },
     "execution_count": 5,
     "metadata": {},
     "output_type": "execute_result"
    }
   ],
   "source": [
    "# number of unique values for each column\n",
    "data.apply(lambda x: len(x.unique()))"
   ]
  },
  {
   "cell_type": "code",
   "execution_count": 6,
   "metadata": {},
   "outputs": [
    {
     "data": {
      "text/plain": [
       "count    2538.000000\n",
       "mean       12.637904\n",
       "std         2.300300\n",
       "min         4.000000\n",
       "25%        11.000000\n",
       "50%        13.000000\n",
       "75%        15.000000\n",
       "max        16.000000\n",
       "dtype: float64"
      ]
     },
     "execution_count": 6,
     "metadata": {},
     "output_type": "execute_result"
    }
   ],
   "source": [
    "# summary of observed entries across rows \n",
    "data.apply(lambda x: np.sum(~np.isnan(x)), axis=1).describe()"
   ]
  },
  {
   "cell_type": "code",
   "execution_count": 7,
   "metadata": {},
   "outputs": [],
   "source": [
    "datainput = data.values # transform to numpy array"
   ]
  },
  {
   "cell_type": "code",
   "execution_count": 8,
   "metadata": {},
   "outputs": [
    {
     "name": "stdout",
     "output_type": "stream",
     "text": [
      "Copula correlation change ratio:  0.1385\n",
      "Copula correlation change ratio:  0.07\n",
      "Copula correlation change ratio:  0.0383\n",
      "Copula correlation change ratio:  0.0228\n",
      "Copula correlation change ratio:  0.0146\n",
      "Convergence at iteration 6\n"
     ]
    }
   ],
   "source": [
    "# Model WEEKSWRK as ordinal \n",
    "gc = ExpectationMaximization()\n",
    "# Specify which are ordinal variables\n",
    "ord_indices = data.apply(lambda x: len(x.unique())) < 60\n",
    "cont_indices = ~ord_indices\n",
    "Zimp, Corr_est = gc.impute_missing(datainput, cont_indices=cont_indices, ord_indices=ord_indices, verbose=True)"
   ]
  },
  {
   "cell_type": "code",
   "execution_count": 9,
   "metadata": {},
   "outputs": [
    {
     "name": "stdout",
     "output_type": "stream",
     "text": [
      "Copula correlation change ratio:  0.1385\n",
      "Copula correlation change ratio:  0.07\n",
      "Copula correlation change ratio:  0.0383\n",
      "Copula correlation change ratio:  0.0228\n",
      "Copula correlation change ratio:  0.0146\n",
      "Convergence at iteration 6\n"
     ]
    }
   ],
   "source": [
    "gc = ExpectationMaximization()\n",
    "# Easier way: specify what variables are ordinal by setting up a largest number of unique values\n",
    "Zimp, Corr_est = gc.impute_missing(datainput, max_ord=60, verbose=True)"
   ]
  },
  {
   "cell_type": "code",
   "execution_count": 10,
   "metadata": {},
   "outputs": [
    {
     "data": {
      "text/plain": [
       "97      52.0\n",
       "119     52.0\n",
       "356     26.0\n",
       "391     52.0\n",
       "429      0.0\n",
       "464     52.0\n",
       "570     52.0\n",
       "606      0.0\n",
       "706      0.0\n",
       "742      0.0\n",
       "1090    20.0\n",
       "1184    42.0\n",
       "1214    40.0\n",
       "1280    52.0\n",
       "1320    52.0\n",
       "1423     3.0\n",
       "1578    52.0\n",
       "1673    52.0\n",
       "1991    40.0\n",
       "2204    41.0\n",
       "2247    24.0\n",
       "2437    52.0\n",
       "2443     6.0\n",
       "2487    52.0\n",
       "2494    20.0\n",
       "Name: WEEKSWRK, dtype: float64"
      ]
     },
     "execution_count": 10,
     "metadata": {},
     "output_type": "execute_result"
    }
   ],
   "source": [
    "data_imp = pd.DataFrame(Zimp, columns = data.columns, index = data.index)\n",
    "data_imp.WEEKSWRK.loc[data.WEEKSWRK.isnull()]"
   ]
  },
  {
   "cell_type": "code",
   "execution_count": 11,
   "metadata": {},
   "outputs": [
    {
     "name": "stdout",
     "output_type": "stream",
     "text": [
      "Copula correlation change ratio:  0.1418\n",
      "Copula correlation change ratio:  0.0813\n",
      "Copula correlation change ratio:  0.052\n",
      "Copula correlation change ratio:  0.0361\n",
      "Copula correlation change ratio:  0.0268\n",
      "Copula correlation change ratio:  0.0219\n",
      "Copula correlation change ratio:  0.0204\n",
      "Copula correlation change ratio:  0.0214\n",
      "Copula correlation change ratio:  0.0238\n",
      "Copula correlation change ratio:  0.0263\n",
      "Copula correlation change ratio:  0.0281\n",
      "Copula correlation change ratio:  0.0288\n",
      "Copula correlation change ratio:  0.0292\n",
      "Copula correlation change ratio:  0.031\n",
      "Copula correlation change ratio:  0.0352\n",
      "Convergence not achieved at maximum iterations\n"
     ]
    }
   ],
   "source": [
    "# Model WEEKSWRK as continuous\n",
    "gc_2 = ExpectationMaximization()\n",
    "Zimp_2, Corr_est_2 = gc_2.impute_missing(datainput, max_ord=20, max_iter = 15, verbose=True)"
   ]
  },
  {
   "cell_type": "code",
   "execution_count": 12,
   "metadata": {},
   "outputs": [
    {
     "data": {
      "text/plain": [
       "97      48.000000\n",
       "119     52.000000\n",
       "356      0.000000\n",
       "391     40.000000\n",
       "429      0.000000\n",
       "464     50.000000\n",
       "570      0.000000\n",
       "606     26.000000\n",
       "706      0.000000\n",
       "742      0.000000\n",
       "1090     0.000000\n",
       "1184     0.000000\n",
       "1214     0.000000\n",
       "1280     3.000000\n",
       "1320    52.000000\n",
       "1423     0.000000\n",
       "1578    52.000000\n",
       "1673    52.000000\n",
       "1991    28.000000\n",
       "2204    52.000000\n",
       "2247    44.000000\n",
       "2437    42.657464\n",
       "2443    24.000000\n",
       "2487    52.000000\n",
       "2494    20.000000\n",
       "Name: WEEKSWRK, dtype: float64"
      ]
     },
     "execution_count": 12,
     "metadata": {},
     "output_type": "execute_result"
    }
   ],
   "source": [
    "data_imp_2 = pd.DataFrame(Zimp_2, columns = data.columns, index = data.index)\n",
    "data_imp_2.WEEKSWRK.loc[data.WEEKSWRK.isnull()]"
   ]
  },
  {
   "cell_type": "code",
   "execution_count": 13,
   "metadata": {},
   "outputs": [
    {
     "data": {
      "text/plain": [
       "97      -4.000000\n",
       "119      0.000000\n",
       "356    -26.000000\n",
       "391    -12.000000\n",
       "429      0.000000\n",
       "464     -2.000000\n",
       "570    -52.000000\n",
       "606     26.000000\n",
       "706      0.000000\n",
       "742      0.000000\n",
       "1090   -20.000000\n",
       "1184   -42.000000\n",
       "1214   -40.000000\n",
       "1280   -49.000000\n",
       "1320     0.000000\n",
       "1423    -3.000000\n",
       "1578     0.000000\n",
       "1673     0.000000\n",
       "1991   -12.000000\n",
       "2204    11.000000\n",
       "2247    20.000000\n",
       "2437    -9.342536\n",
       "2443    18.000000\n",
       "2487     0.000000\n",
       "2494     0.000000\n",
       "Name: WEEKSWRK, dtype: float64"
      ]
     },
     "execution_count": 13,
     "metadata": {},
     "output_type": "execute_result"
    }
   ],
   "source": [
    "data_imp_2.WEEKSWRK.loc[data.WEEKSWRK.isnull()] - data_imp.WEEKSWRK.loc[data.WEEKSWRK.isnull()]"
   ]
  },
  {
   "cell_type": "code",
   "execution_count": 14,
   "metadata": {},
   "outputs": [
    {
     "data": {
      "text/plain": [
       "array([[ 0.21794578,  0.3590885 , -0.0932208 ,  0.03251831,  0.03844256,\n",
       "        -0.09956039, -0.02466486,  0.06748999, -0.03337981,  1.        ,\n",
       "        -0.13953903, -0.32961535, -0.11578046,  0.27203874,  0.06945914,\n",
       "        -0.07976069, -0.36660851]])"
      ]
     },
     "execution_count": 14,
     "metadata": {},
     "output_type": "execute_result"
    }
   ],
   "source": [
    "Corr_est[data.columns == \"WEEKSWRK\",:]"
   ]
  },
  {
   "cell_type": "code",
   "execution_count": 15,
   "metadata": {},
   "outputs": [
    {
     "data": {
      "text/plain": [
       "array([[ 0.13858441,  0.54866398, -0.15676428,  0.06624011,  0.10630411,\n",
       "         0.3158009 , -0.01991434,  0.07044548, -0.03641753,  1.        ,\n",
       "        -0.36666643, -0.55677385, -0.05453758,  0.56530954,  0.04007149,\n",
       "         0.53666857, -0.21730335]])"
      ]
     },
     "execution_count": 15,
     "metadata": {},
     "output_type": "execute_result"
    }
   ],
   "source": [
    "Corr_est_2[data.columns == \"WEEKSWRK\",:] "
   ]
  },
  {
   "cell_type": "code",
   "execution_count": 16,
   "metadata": {},
   "outputs": [],
   "source": [
    "corr = pd.DataFrame(Corr_est, columns = data.columns, index = data.columns)"
   ]
  },
  {
   "cell_type": "code",
   "execution_count": 18,
   "metadata": {},
   "outputs": [
    {
     "data": {
      "text/plain": [
       "<matplotlib.axes._subplots.AxesSubplot at 0x1a1e9b3f90>"
      ]
     },
     "execution_count": 18,
     "metadata": {},
     "output_type": "execute_result"
    },
    {
     "data": {
      "image/png": "[encoded data removed]",
      "text/plain": [
       "<Figure size 792x648 with 2 Axes>"
      ]
     },
     "metadata": {},
     "output_type": "display_data"
    }
   ],
   "source": [
    "sns.set(style=\"white\")\n",
    "# Generate a mask for the upper triangle\n",
    "mask = np.triu(np.ones_like(corr, dtype=bool))\n",
    "\n",
    "# Set up the matplotlib figure\n",
    "f, ax = plt.subplots(figsize=(11, 9))\n",
    "\n",
    "# Generate a custom diverging colormap\n",
    "cmap = sns.diverging_palette(230, 20, as_cmap=True)\n",
    "\n",
    "# Draw the heatmap with the mask and correct aspect ratio\n",
    "sns.heatmap(corr, mask=mask, cmap=cmap, vmax=.3, center=0,\n",
    "            square=True, linewidths=.5, cbar_kws={\"shrink\": .5})"
   ]
  },
  {
   "cell_type": "code",
   "execution_count": null,
   "metadata": {},
   "outputs": [],
   "source": []
  }
 ],
 "metadata": {
  "kernelspec": {
   "display_name": "Python 3",
   "language": "python",
   "name": "python3"
  },
  "language_info": {
   "codemirror_mode": {
    "name": "ipython",
    "version": 3
   },
   "file_extension": ".py",
   "mimetype": "text/x-python",
   "name": "python",
   "nbconvert_exporter": "python",
   "pygments_lexer": "ipython3",
   "version": "3.7.6"
  }
 },
 "nbformat": 4,
 "nbformat_minor": 4
}
