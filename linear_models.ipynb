{
 "cells": [
  {
   "cell_type": "code",
   "execution_count": 46,
   "metadata": {},
   "outputs": [],
   "source": [
    "# math \n",
    "import numpy as np\n",
    "\n",
    "# random\n",
    "import random\n",
    "from numpy.random import rand, randn\n",
    "\n",
    "# dataframes\n",
    "import pandas as pd\n",
    "\n",
    "# plotting\n",
    "import matplotlib.pyplot as plt\n",
    "# linear regression two ways\n",
    "import statsmodels.api as sm\n",
    "from sklearn.linear_model import LinearRegression\n",
    "\n",
    "# pytorch utils\n",
    "import torch\n",
    "from torch import optim\n",
    "import torch.nn as nn\n",
    "import torch.nn.functional as F\n",
    "\n",
    "torch.manual_seed(324891)\n",
    "\n",
    "from patsy import dmatrices"
   ]
  },
  {
   "cell_type": "code",
   "execution_count": 47,
   "metadata": {},
   "outputs": [],
   "source": [
    "# plot line y = w*x+b\n",
    "def plotline(w,b, xmin=-100,xmax=100,nsamples=100,label=''):\n",
    "    x = np.linspace(xmin, xmax, nsamples)\n",
    "    y = w * x + b\n",
    "    plt.plot(x, y, color='k', label=label)\n",
    "    plt.legend(loc=\"upper left\")\n",
    "    plt.grid()"
   ]
  },
  {
   "cell_type": "code",
   "execution_count": 48,
   "metadata": {},
   "outputs": [],
   "source": [
    "# plot function y = f(x)\n",
    "def plotfunc(f, xmin=-100,xmax=100,nsamples=100,label=\"\"):\n",
    "    x = np.linspace(xmin, xmax, nsamples)\n",
    "    y = f(x)\n",
    "    plt.plot(x, y, color='k', label=label)\n",
    "    plt.legend(loc=\"upper left\")\n",
    "    plt.grid()"
   ]
  },
  {
   "cell_type": "code",
   "execution_count": 49,
   "metadata": {},
   "outputs": [
    {
     "data": {
      "image/png": "[encoded data removed]",
      "text/plain": [
       "<Figure size 432x288 with 1 Axes>"
      ]
     },
     "metadata": {
      "needs_background": "light"
     },
     "output_type": "display_data"
    }
   ],
   "source": [
    "# Generate and plot data\n",
    "random.seed(1)\n",
    "n = 15\n",
    "def sample_data(num_points):\n",
    "    x = rand(num_points)*10\n",
    "    y = .2 + .2*x + .1*np.sin(x) + .1*randn(num_points) - .01*((x-5)/6)**4\n",
    "    return x,y\n",
    "\n",
    "x,y = sample_data(n)\n",
    "\n",
    "\n",
    "def plotdata(x=x,y=y, margin=.05):\n",
    "    plt.scatter(x,y, label=\"data\")\n",
    "    plt.legend(loc=\"upper left\")\n",
    "    plt.xlabel(\"x\") \n",
    "    plt.ylabel(\"y\")     \n",
    "    range_y = np.max(y) - np.min(y)\n",
    "    range_x = np.max(x) - np.min(x)\n",
    "    plt.ylim([np.min(y)-margin*range_y,np.max(y)+margin*range_y])\n",
    "    plt.xlim([np.min(x)-margin*range_x,np.max(x)+margin*range_x])\n",
    "    \n",
    "plotdata()\n",
    "plt.show()"
   ]
  },
  {
   "cell_type": "markdown",
   "metadata": {},
   "source": [
    "# Approximating with the mean"
   ]
  },
  {
   "cell_type": "code",
   "execution_count": 50,
   "metadata": {},
   "outputs": [
    {
     "name": "stderr",
     "output_type": "stream",
     "text": [
      "<ipython-input-50-6dd8b0414b56>:3: FutureWarning: `rcond` parameter will change to the default of machine precision times ``max(M, N)`` where M and N are the input matrix dimensions.\n",
      "To use the future default and silence this warning we advise to pass `rcond=None`, to keep using the old, explicitly pass `rcond=-1`.\n",
      "  w = np.linalg.lstsq(X, y)[0]\n"
     ]
    }
   ],
   "source": [
    "# the mean solves a very simple least squares problem:\n",
    "X = np.ones((n,1))\n",
    "w = np.linalg.lstsq(X, y)[0]"
   ]
  },
  {
   "cell_type": "code",
   "execution_count": 51,
   "metadata": {},
   "outputs": [
    {
     "data": {
      "text/plain": [
       "4.440892098500626e-16"
      ]
     },
     "execution_count": 51,
     "metadata": {},
     "output_type": "execute_result"
    }
   ],
   "source": [
    "# check the solution to our least squares problem is the mean\n",
    "np.abs(np.mean(y) - w[0])"
   ]
  },
  {
   "cell_type": "code",
   "execution_count": 52,
   "metadata": {},
   "outputs": [
    {
     "data": {
      "image/png": "[encoded data removed]",
      "text/plain": [
       "<Figure size 432x288 with 1 Axes>"
      ]
     },
     "metadata": {
      "needs_background": "light"
     },
     "output_type": "display_data"
    }
   ],
   "source": [
    "# plot the fit\n",
    "plotdata()\n",
    "plotline(0, w[0], label=\"mean\")\n",
    "plt.show()"
   ]
  },
  {
   "cell_type": "markdown",
   "metadata": {},
   "source": [
    "Is this a good model? Would you trust this model to make predictions on new inputs $x$?\n",
    "\n",
    "* (A) yes \n",
    "* (B) no"
   ]
  },
  {
   "cell_type": "markdown",
   "metadata": {},
   "source": [
    "# Approximating with a line"
   ]
  },
  {
   "cell_type": "code",
   "execution_count": 53,
   "metadata": {},
   "outputs": [
    {
     "name": "stdout",
     "output_type": "stream",
     "text": [
      "[[6.92097947 1.        ]\n",
      " [9.55264885 1.        ]\n",
      " [6.08241563 1.        ]\n",
      " [5.29243586 1.        ]\n",
      " [0.62292864 1.        ]\n",
      " [1.89469901 1.        ]\n",
      " [6.4223225  1.        ]\n",
      " [9.32299949 1.        ]\n",
      " [5.15679343 1.        ]\n",
      " [0.94000827 1.        ]\n",
      " [4.7796783  1.        ]\n",
      " [7.74717474 1.        ]\n",
      " [6.14324312 1.        ]\n",
      " [4.93555176 1.        ]\n",
      " [9.91269366 1.        ]]\n"
     ]
    }
   ],
   "source": [
    "X = np.column_stack([x, np.ones(n)])\n",
    "print(X)"
   ]
  },
  {
   "cell_type": "markdown",
   "metadata": {},
   "source": [
    "# How to fit a least squares model\n",
    "There are many ways to fit a least squares model in python!\n",
    "1. QR decomposition + `scipy.linalg.solve`\n",
    "2. `numpy.linalg.lstsq`\n",
    "3. `statsmodels.OLS`\n",
    "4. `sklearn.LinearRegression()`"
   ]
  },
  {
   "cell_type": "code",
   "execution_count": 54,
   "metadata": {},
   "outputs": [
    {
     "data": {
      "text/plain": [
       "array([0.21421648, 0.15138288])"
      ]
     },
     "execution_count": 54,
     "metadata": {},
     "output_type": "execute_result"
    }
   ],
   "source": [
    "# method 0: scipy\n",
    "from scipy.linalg import qr, solve\n",
    "Q,R = qr(X, mode='economic')\n",
    "w = solve(R, Q.T @ y)\n",
    "w"
   ]
  },
  {
   "cell_type": "code",
   "execution_count": 55,
   "metadata": {},
   "outputs": [
    {
     "name": "stderr",
     "output_type": "stream",
     "text": [
      "<ipython-input-55-4844ed0cbb71>:2: FutureWarning: `rcond` parameter will change to the default of machine precision times ``max(M, N)`` where M and N are the input matrix dimensions.\n",
      "To use the future default and silence this warning we advise to pass `rcond=None`, to keep using the old, explicitly pass `rcond=-1`.\n",
      "  w = np.linalg.lstsq(X, y)[0]\n"
     ]
    },
    {
     "data": {
      "text/plain": [
       "array([0.21421648, 0.15138288])"
      ]
     },
     "execution_count": 55,
     "metadata": {},
     "output_type": "execute_result"
    }
   ],
   "source": [
    "# method 1: numpy\n",
    "w = np.linalg.lstsq(X, y)[0]\n",
    "w"
   ]
  },
  {
   "cell_type": "code",
   "execution_count": 56,
   "metadata": {},
   "outputs": [
    {
     "data": {
      "text/plain": [
       "array([0.21421648, 0.15138288])"
      ]
     },
     "execution_count": 56,
     "metadata": {},
     "output_type": "execute_result"
    }
   ],
   "source": [
    "# method 2: statsmodels\n",
    "model = sm.OLS(y, X).fit()\n",
    "w = model.params\n",
    "w"
   ]
  },
  {
   "cell_type": "code",
   "execution_count": 57,
   "metadata": {},
   "outputs": [
    {
     "data": {
      "text/plain": [
       "array([0.21421648, 0.15138288])"
      ]
     },
     "execution_count": 57,
     "metadata": {},
     "output_type": "execute_result"
    }
   ],
   "source": [
    "# method 3: sklearn\n",
    "model = LinearRegression().fit(x[None,].T,y)\n",
    "w = np.array([model.coef_[0], model.intercept_])\n",
    "w"
   ]
  },
  {
   "cell_type": "markdown",
   "metadata": {},
   "source": [
    "Below we have to do some work to reconcile the default types of NumPy and PyTorch. Note that NumPy will default to float64 on a 64-bit system. PyTorch models default to float32 as GPUs can do up to 64x the operations per clock cycle when using float32 instead of float64. \n",
    "\n",
    "[CUDA operations per cycle comparison](https://docs.nvidia.com/cuda/cuda-c-programming-guide/index.html#arithmetic-instructions)"
   ]
  },
  {
   "cell_type": "code",
   "execution_count": 58,
   "metadata": {},
   "outputs": [
    {
     "data": {
      "text/plain": [
       "array([0.19266029, 0.22554442], dtype=float32)"
      ]
     },
     "execution_count": 58,
     "metadata": {},
     "output_type": "execute_result"
    }
   ],
   "source": [
    "# method 4: PyTorch via SGD\n",
    "\n",
    "def TorchLinRegModel(n : int = 2):\n",
    "    \"\"\"Create a simple linear regression model in PyTorch. Note that\n",
    "    we're manually including the bias in this demo.\"\"\"\n",
    "    return nn.Linear(in_features=n, out_features=1, bias=False)\n",
    "\n",
    "model = TorchLinRegModel()\n",
    "model.zero_grad()\n",
    "optimizer = optim.SGD(model.parameters(), lr=5e-6)\n",
    "loss_function = nn.MSELoss()\n",
    "\n",
    "n_epochs = 5000\n",
    "batch_size = 8\n",
    "\n",
    "for epoch in range(n_epochs):\n",
    "    # Let's do a random order after converting to a torch array\n",
    "    shuffled_indices = torch.randperm(x.shape[0])\n",
    "    for batch in range(0, x.shape[0], batch_size):\n",
    "        sample_idxs = shuffled_indices[batch:batch+batch_size]\n",
    "        \n",
    "        # Read minibatch data. PyTorch models default to float32  \n",
    "        # so we need to convert from double precision to float32\n",
    "        tensor = torch.from_numpy(X[sample_idxs, :]).float()\n",
    "        output = model(tensor)\n",
    "        \n",
    "        batch_labels = torch.from_numpy(y[sample_idxs]).float()\n",
    "        batch_labels = batch_labels.view(-1, 1)\n",
    "        \n",
    "        # loss.backward() calculates the gradient of the loss with\n",
    "        # respect to the weights\n",
    "        loss = loss_function(output, batch_labels)\n",
    "        loss.backward()\n",
    "        \n",
    "        # optimizer.step() moves in the direction of the gradient\n",
    "        # based on the learning rate (i.e. step size)\n",
    "        optimizer.step()\n",
    "        \n",
    "        # PyTorch is currently still saving our gradients even\n",
    "        # even though we changed out model. Clearing them here\n",
    "        # prevents us from applying them twice\n",
    "        optimizer.zero_grad()\n",
    "        \n",
    "        \n",
    "w = list(model.parameters())[0][0].detach().numpy()\n",
    "w"
   ]
  },
  {
   "cell_type": "code",
   "execution_count": 59,
   "metadata": {},
   "outputs": [
    {
     "data": {
      "image/png": "[encoded data removed]",
      "text/plain": [
       "<Figure size 432x288 with 1 Axes>"
      ]
     },
     "metadata": {
      "needs_background": "light"
     },
     "output_type": "display_data"
    }
   ],
   "source": [
    "# plot the fit\n",
    "plotdata()\n",
    "plotline(w[0], w[1], label=\"linear fit\")"
   ]
  },
  {
   "cell_type": "markdown",
   "metadata": {},
   "source": [
    "Is this a good model? Would you trust this model to make predictions on new inputs $x$?\n",
    "\n",
    "* (A) yes \n",
    "* (B) no"
   ]
  },
  {
   "cell_type": "code",
   "execution_count": 15,
   "metadata": {},
   "outputs": [
    {
     "data": {
      "text/plain": [
       "<matplotlib.collections.PathCollection at 0x12fa812b0>"
      ]
     },
     "execution_count": 15,
     "metadata": {},
     "output_type": "execute_result"
    },
    {
     "data": {
      "image/png": "[encoded data removed]",
      "text/plain": [
       "<Figure size 432x288 with 1 Axes>"
      ]
     },
     "metadata": {
      "needs_background": "light"
     },
     "output_type": "display_data"
    }
   ],
   "source": [
    "# plot fit on out of sample data\n",
    "plotdata()\n",
    "plotline(w[0], w[1])\n",
    "\n",
    "xtest,ytest = sample_data(20)\n",
    "plt.scatter(xtest,ytest,label=\"test\")"
   ]
  },
  {
   "cell_type": "markdown",
   "metadata": {},
   "source": [
    "# Approximating with a polynomial"
   ]
  },
  {
   "cell_type": "code",
   "execution_count": 16,
   "metadata": {},
   "outputs": [
    {
     "data": {
      "text/html": [
       "<div>\n",
       "<style scoped>\n",
       "    .dataframe tbody tr th:only-of-type {\n",
       "        vertical-align: middle;\n",
       "    }\n",
       "\n",
       "    .dataframe tbody tr th {\n",
       "        vertical-align: top;\n",
       "    }\n",
       "\n",
       "    .dataframe thead th {\n",
       "        text-align: right;\n",
       "    }\n",
       "</style>\n",
       "<table border=\"1\" class=\"dataframe\">\n",
       "  <thead>\n",
       "    <tr style=\"text-align: right;\">\n",
       "      <th></th>\n",
       "      <th>order0</th>\n",
       "      <th>order1</th>\n",
       "      <th>order2</th>\n",
       "      <th>order3</th>\n",
       "      <th>order4</th>\n",
       "      <th>order5</th>\n",
       "      <th>order6</th>\n",
       "      <th>order7</th>\n",
       "      <th>order8</th>\n",
       "      <th>order9</th>\n",
       "      <th>order10</th>\n",
       "    </tr>\n",
       "  </thead>\n",
       "  <tbody>\n",
       "    <tr>\n",
       "      <th>0</th>\n",
       "      <td>1.0</td>\n",
       "      <td>4.728475</td>\n",
       "      <td>22.358480</td>\n",
       "      <td>105.721526</td>\n",
       "      <td>499.901645</td>\n",
       "      <td>2363.772671</td>\n",
       "      <td>11177.041117</td>\n",
       "      <td>5.285036e+04</td>\n",
       "      <td>2.499017e+05</td>\n",
       "      <td>1.181654e+06</td>\n",
       "      <td>5.587421e+06</td>\n",
       "    </tr>\n",
       "    <tr>\n",
       "      <th>1</th>\n",
       "      <td>1.0</td>\n",
       "      <td>9.308493</td>\n",
       "      <td>86.648038</td>\n",
       "      <td>806.562630</td>\n",
       "      <td>7507.882408</td>\n",
       "      <td>69887.069066</td>\n",
       "      <td>650543.276677</td>\n",
       "      <td>6.055577e+06</td>\n",
       "      <td>5.636830e+07</td>\n",
       "      <td>5.247039e+08</td>\n",
       "      <td>4.884202e+09</td>\n",
       "    </tr>\n",
       "    <tr>\n",
       "      <th>2</th>\n",
       "      <td>1.0</td>\n",
       "      <td>4.338761</td>\n",
       "      <td>18.824851</td>\n",
       "      <td>81.676540</td>\n",
       "      <td>354.375025</td>\n",
       "      <td>1537.548713</td>\n",
       "      <td>6671.057143</td>\n",
       "      <td>2.894413e+04</td>\n",
       "      <td>1.255817e+05</td>\n",
       "      <td>5.448689e+05</td>\n",
       "      <td>2.364056e+06</td>\n",
       "    </tr>\n",
       "    <tr>\n",
       "      <th>3</th>\n",
       "      <td>1.0</td>\n",
       "      <td>6.842803</td>\n",
       "      <td>46.823959</td>\n",
       "      <td>320.407143</td>\n",
       "      <td>2192.483094</td>\n",
       "      <td>15002.730799</td>\n",
       "      <td>102660.737517</td>\n",
       "      <td>7.024872e+05</td>\n",
       "      <td>4.806982e+06</td>\n",
       "      <td>3.289323e+07</td>\n",
       "      <td>2.250819e+08</td>\n",
       "    </tr>\n",
       "    <tr>\n",
       "      <th>4</th>\n",
       "      <td>1.0</td>\n",
       "      <td>0.935327</td>\n",
       "      <td>0.874836</td>\n",
       "      <td>0.818258</td>\n",
       "      <td>0.765339</td>\n",
       "      <td>0.715842</td>\n",
       "      <td>0.669546</td>\n",
       "      <td>6.262443e-01</td>\n",
       "      <td>5.857431e-01</td>\n",
       "      <td>5.478613e-01</td>\n",
       "      <td>5.124294e-01</td>\n",
       "    </tr>\n",
       "    <tr>\n",
       "      <th>5</th>\n",
       "      <td>1.0</td>\n",
       "      <td>3.368354</td>\n",
       "      <td>11.345806</td>\n",
       "      <td>38.216687</td>\n",
       "      <td>128.727315</td>\n",
       "      <td>433.599115</td>\n",
       "      <td>1460.515145</td>\n",
       "      <td>4.919531e+03</td>\n",
       "      <td>1.657072e+04</td>\n",
       "      <td>5.581605e+04</td>\n",
       "      <td>1.880082e+05</td>\n",
       "    </tr>\n",
       "    <tr>\n",
       "      <th>6</th>\n",
       "      <td>1.0</td>\n",
       "      <td>7.098153</td>\n",
       "      <td>50.383779</td>\n",
       "      <td>357.631786</td>\n",
       "      <td>2538.525217</td>\n",
       "      <td>18018.840972</td>\n",
       "      <td>127900.494277</td>\n",
       "      <td>9.078573e+05</td>\n",
       "      <td>6.444110e+06</td>\n",
       "      <td>4.574128e+07</td>\n",
       "      <td>3.246786e+08</td>\n",
       "    </tr>\n",
       "    <tr>\n",
       "      <th>7</th>\n",
       "      <td>1.0</td>\n",
       "      <td>5.072012</td>\n",
       "      <td>25.725310</td>\n",
       "      <td>130.479090</td>\n",
       "      <td>661.791561</td>\n",
       "      <td>3356.615002</td>\n",
       "      <td>17024.792896</td>\n",
       "      <td>8.634996e+04</td>\n",
       "      <td>4.379681e+05</td>\n",
       "      <td>2.221379e+06</td>\n",
       "      <td>1.126686e+07</td>\n",
       "    </tr>\n",
       "    <tr>\n",
       "      <th>8</th>\n",
       "      <td>1.0</td>\n",
       "      <td>2.586558</td>\n",
       "      <td>6.690283</td>\n",
       "      <td>17.304807</td>\n",
       "      <td>44.759891</td>\n",
       "      <td>115.774064</td>\n",
       "      <td>299.456355</td>\n",
       "      <td>7.745613e+02</td>\n",
       "      <td>2.003448e+03</td>\n",
       "      <td>5.182035e+03</td>\n",
       "      <td>1.340363e+04</td>\n",
       "    </tr>\n",
       "    <tr>\n",
       "      <th>9</th>\n",
       "      <td>1.0</td>\n",
       "      <td>1.708885</td>\n",
       "      <td>2.920287</td>\n",
       "      <td>4.990434</td>\n",
       "      <td>8.528077</td>\n",
       "      <td>14.573500</td>\n",
       "      <td>24.904433</td>\n",
       "      <td>4.255881e+01</td>\n",
       "      <td>7.272809e+01</td>\n",
       "      <td>1.242839e+02</td>\n",
       "      <td>2.123869e+02</td>\n",
       "    </tr>\n",
       "    <tr>\n",
       "      <th>10</th>\n",
       "      <td>1.0</td>\n",
       "      <td>7.842900</td>\n",
       "      <td>61.511074</td>\n",
       "      <td>482.425177</td>\n",
       "      <td>3783.612223</td>\n",
       "      <td>29674.490753</td>\n",
       "      <td>232734.051371</td>\n",
       "      <td>1.825310e+06</td>\n",
       "      <td>1.431572e+07</td>\n",
       "      <td>1.122768e+08</td>\n",
       "      <td>8.805754e+08</td>\n",
       "    </tr>\n",
       "    <tr>\n",
       "      <th>11</th>\n",
       "      <td>1.0</td>\n",
       "      <td>6.682696</td>\n",
       "      <td>44.658430</td>\n",
       "      <td>298.438729</td>\n",
       "      <td>1994.375398</td>\n",
       "      <td>13327.805165</td>\n",
       "      <td>89065.674740</td>\n",
       "      <td>5.951989e+05</td>\n",
       "      <td>3.977533e+06</td>\n",
       "      <td>2.658065e+07</td>\n",
       "      <td>1.776304e+08</td>\n",
       "    </tr>\n",
       "    <tr>\n",
       "      <th>12</th>\n",
       "      <td>1.0</td>\n",
       "      <td>4.053278</td>\n",
       "      <td>16.429060</td>\n",
       "      <td>66.591544</td>\n",
       "      <td>269.914020</td>\n",
       "      <td>1094.036482</td>\n",
       "      <td>4434.433689</td>\n",
       "      <td>1.797399e+04</td>\n",
       "      <td>7.285358e+04</td>\n",
       "      <td>2.952958e+05</td>\n",
       "      <td>1.196916e+06</td>\n",
       "    </tr>\n",
       "    <tr>\n",
       "      <th>13</th>\n",
       "      <td>1.0</td>\n",
       "      <td>8.643023</td>\n",
       "      <td>74.701847</td>\n",
       "      <td>645.649778</td>\n",
       "      <td>5580.365876</td>\n",
       "      <td>48231.230598</td>\n",
       "      <td>416863.635252</td>\n",
       "      <td>3.602962e+06</td>\n",
       "      <td>3.114048e+07</td>\n",
       "      <td>2.691479e+08</td>\n",
       "      <td>2.326252e+09</td>\n",
       "    </tr>\n",
       "    <tr>\n",
       "      <th>14</th>\n",
       "      <td>1.0</td>\n",
       "      <td>2.117884</td>\n",
       "      <td>4.485435</td>\n",
       "      <td>9.499633</td>\n",
       "      <td>20.119124</td>\n",
       "      <td>42.609981</td>\n",
       "      <td>90.243018</td>\n",
       "      <td>1.911243e+02</td>\n",
       "      <td>4.047792e+02</td>\n",
       "      <td>8.572755e+02</td>\n",
       "      <td>1.815611e+03</td>\n",
       "    </tr>\n",
       "  </tbody>\n",
       "</table>\n",
       "</div>"
      ],
      "text/plain": [
       "    order0    order1     order2      order3       order4        order5  \\\n",
       "0      1.0  4.728475  22.358480  105.721526   499.901645   2363.772671   \n",
       "1      1.0  9.308493  86.648038  806.562630  7507.882408  69887.069066   \n",
       "2      1.0  4.338761  18.824851   81.676540   354.375025   1537.548713   \n",
       "3      1.0  6.842803  46.823959  320.407143  2192.483094  15002.730799   \n",
       "4      1.0  0.935327   0.874836    0.818258     0.765339      0.715842   \n",
       "5      1.0  3.368354  11.345806   38.216687   128.727315    433.599115   \n",
       "6      1.0  7.098153  50.383779  357.631786  2538.525217  18018.840972   \n",
       "7      1.0  5.072012  25.725310  130.479090   661.791561   3356.615002   \n",
       "8      1.0  2.586558   6.690283   17.304807    44.759891    115.774064   \n",
       "9      1.0  1.708885   2.920287    4.990434     8.528077     14.573500   \n",
       "10     1.0  7.842900  61.511074  482.425177  3783.612223  29674.490753   \n",
       "11     1.0  6.682696  44.658430  298.438729  1994.375398  13327.805165   \n",
       "12     1.0  4.053278  16.429060   66.591544   269.914020   1094.036482   \n",
       "13     1.0  8.643023  74.701847  645.649778  5580.365876  48231.230598   \n",
       "14     1.0  2.117884   4.485435    9.499633    20.119124     42.609981   \n",
       "\n",
       "           order6        order7        order8        order9       order10  \n",
       "0    11177.041117  5.285036e+04  2.499017e+05  1.181654e+06  5.587421e+06  \n",
       "1   650543.276677  6.055577e+06  5.636830e+07  5.247039e+08  4.884202e+09  \n",
       "2     6671.057143  2.894413e+04  1.255817e+05  5.448689e+05  2.364056e+06  \n",
       "3   102660.737517  7.024872e+05  4.806982e+06  3.289323e+07  2.250819e+08  \n",
       "4        0.669546  6.262443e-01  5.857431e-01  5.478613e-01  5.124294e-01  \n",
       "5     1460.515145  4.919531e+03  1.657072e+04  5.581605e+04  1.880082e+05  \n",
       "6   127900.494277  9.078573e+05  6.444110e+06  4.574128e+07  3.246786e+08  \n",
       "7    17024.792896  8.634996e+04  4.379681e+05  2.221379e+06  1.126686e+07  \n",
       "8      299.456355  7.745613e+02  2.003448e+03  5.182035e+03  1.340363e+04  \n",
       "9       24.904433  4.255881e+01  7.272809e+01  1.242839e+02  2.123869e+02  \n",
       "10  232734.051371  1.825310e+06  1.431572e+07  1.122768e+08  8.805754e+08  \n",
       "11   89065.674740  5.951989e+05  3.977533e+06  2.658065e+07  1.776304e+08  \n",
       "12    4434.433689  1.797399e+04  7.285358e+04  2.952958e+05  1.196916e+06  \n",
       "13  416863.635252  3.602962e+06  3.114048e+07  2.691479e+08  2.326252e+09  \n",
       "14      90.243018  1.911243e+02  4.047792e+02  8.572755e+02  1.815611e+03  "
      ]
     },
     "execution_count": 16,
     "metadata": {},
     "output_type": "execute_result"
    }
   ],
   "source": [
    "# first, construct a Vandermonde matrix\n",
    "n = 15\n",
    "max_order = 10\n",
    "X = np.zeros((n, max_order+1))\n",
    "\n",
    "# method 1: use the default Vandermonde function from numpy\n",
    "X = np.vander(x, max_order+1, increasing = True)\n",
    "# method 2: use a for loop\n",
    "# for k in range(max_order+1):\n",
    "#     X[:,k] = x**(k)\n",
    "    \n",
    "# create a pandas dataframe with data = Vandermonde\n",
    "col_list = [\"order\"+str(i) for i in range(max_order+1)]   \n",
    "df1 = pd.DataFrame(data = X, columns=col_list)\n",
    "df1"
   ]
  },
  {
   "cell_type": "code",
   "execution_count": 17,
   "metadata": {},
   "outputs": [],
   "source": [
    "# helper function: create a Vandermonde matrix in pandas.dataframe\n",
    "def Vandermonde_df(x, order = max_order):\n",
    "    X = np.vander(x, order+1, increasing = True)\n",
    "    col_list = [\"order\"+str(i) for i in range(order+1)]   \n",
    "    df = pd.DataFrame(data = X, columns=col_list)\n",
    "    return df"
   ]
  },
  {
   "cell_type": "code",
   "execution_count": 18,
   "metadata": {},
   "outputs": [
    {
     "name": "stdout",
     "output_type": "stream",
     "text": [
      "order0     -42.579461\n",
      "order1     134.154473\n",
      "order2    -170.941266\n",
      "order3     119.073309\n",
      "order4     -50.685801\n",
      "order5      13.906047\n",
      "order6      -2.511084\n",
      "order7       0.296779\n",
      "order8      -0.022100\n",
      "order9       0.000941\n",
      "order10     -0.000017\n",
      "dtype: float64\n"
     ]
    }
   ],
   "source": [
    "# solve least squares problem\n",
    "model = sm.OLS(y, df1).fit()\n",
    "w = model.params\n",
    "print(w)"
   ]
  },
  {
   "cell_type": "code",
   "execution_count": 19,
   "metadata": {},
   "outputs": [
    {
     "data": {
      "text/plain": [
       "0     0.989329\n",
       "1     1.911250\n",
       "2     0.918181\n",
       "3     1.626631\n",
       "4     0.440729\n",
       "5     0.980613\n",
       "6     1.709733\n",
       "7     1.091325\n",
       "8     0.861438\n",
       "9     0.711745\n",
       "10    1.885203\n",
       "11    1.575799\n",
       "12    0.909078\n",
       "13    1.895383\n",
       "14    0.676591\n",
       "dtype: float64"
      ]
     },
     "execution_count": 19,
     "metadata": {},
     "output_type": "execute_result"
    }
   ],
   "source": [
    "# output the prediction given our polynomial fit\n",
    "df1.dot(w)"
   ]
  },
  {
   "cell_type": "code",
   "execution_count": 20,
   "metadata": {},
   "outputs": [],
   "source": [
    "#computes our polynomial fit evaluated at x\n",
    "def p(x, order = max_order, w = w):\n",
    "    df = Vandermonde_df(x, order)\n",
    "    y = df.dot(w)\n",
    "    return np.array(y)"
   ]
  },
  {
   "cell_type": "code",
   "execution_count": 21,
   "metadata": {},
   "outputs": [
    {
     "data": {
      "image/png": "[encoded data removed]",
      "text/plain": [
       "<Figure size 432x288 with 1 Axes>"
      ]
     },
     "metadata": {
      "needs_background": "light"
     },
     "output_type": "display_data"
    }
   ],
   "source": [
    "# plot fit\n",
    "plotdata()\n",
    "plotfunc(p, xmin=0, xmax=10)"
   ]
  },
  {
   "cell_type": "code",
   "execution_count": 22,
   "metadata": {},
   "outputs": [
    {
     "data": {
      "text/plain": [
       "<matplotlib.collections.PathCollection at 0x12fcb6be0>"
      ]
     },
     "execution_count": 22,
     "metadata": {},
     "output_type": "execute_result"
    },
    {
     "data": {
      "image/png": "[encoded data removed]",
      "text/plain": [
       "<Figure size 432x288 with 1 Axes>"
      ]
     },
     "metadata": {
      "needs_background": "light"
     },
     "output_type": "display_data"
    }
   ],
   "source": [
    "# plot fit on out of sample data\n",
    "plotdata()\n",
    "plotfunc(p, xmin=0, xmax=10)\n",
    "\n",
    "xtest,ytest = sample_data(100)\n",
    "plt.scatter(xtest,ytest,label=\"test\")"
   ]
  },
  {
   "cell_type": "markdown",
   "metadata": {},
   "source": [
    "Is this a good model? Would you trust this model to make predictions on new inputs $x$?\n",
    "\n",
    "* (A) yes \n",
    "* (B) no"
   ]
  },
  {
   "cell_type": "markdown",
   "metadata": {},
   "source": [
    "# Choosing the best model order"
   ]
  },
  {
   "cell_type": "code",
   "execution_count": 23,
   "metadata": {},
   "outputs": [
    {
     "data": {
      "text/plain": [
       "array([0.536447  , 0.11992547, 0.12221234, 0.12795109, 0.15689377,\n",
       "       0.15312913, 0.13498361, 0.12775428, 0.19917614, 1.4540608 ,\n",
       "       2.33649003])"
      ]
     },
     "execution_count": 23,
     "metadata": {},
     "output_type": "execute_result"
    }
   ],
   "source": [
    "max_model_order = 10\n",
    "rmse = np.zeros(max_model_order+1)       # array to store root mean square model errors\n",
    "rmse_train = np.zeros(max_model_order+1) # array to store root mean square model errors on training set\n",
    "xtest,ytest = sample_data(50)   # generate test set\n",
    "\n",
    "for model_order in range(max_model_order+1):\n",
    "    # form Vandermonde matrix\n",
    "    df = Vandermonde_df(x, model_order)\n",
    "    \n",
    "    # solve least squares problem\n",
    "    model = sm.OLS(y, df).fit()\n",
    "    w = model.params\n",
    "    ytrain = df.dot(w)\n",
    "    \n",
    "    # compute training error \n",
    "    rmse_train[model_order] = np.mean(np.abs(y - np.array(ytrain))) # sqrt(mean((y - X*w).^2))\n",
    "    \n",
    "    # compute test error\n",
    "    ptest = p(xtest, order=model_order, w=w)\n",
    "    rmse[model_order] = np.mean(np.abs(ytest - np.array(ptest))) # sqrt(mean((ytest - ptest).^2))\n",
    "rmse"
   ]
  },
  {
   "cell_type": "code",
   "execution_count": 24,
   "metadata": {
    "scrolled": true
   },
   "outputs": [
    {
     "data": {
      "text/plain": [
       "Text(0, 0.5, 'rmse')"
      ]
     },
     "execution_count": 24,
     "metadata": {},
     "output_type": "execute_result"
    },
    {
     "data": {
      "image/png": "[encoded data removed]",
      "text/plain": [
       "<Figure size 432x288 with 1 Axes>"
      ]
     },
     "metadata": {
      "needs_background": "light"
     },
     "output_type": "display_data"
    }
   ],
   "source": [
    "plt.plot(range(max_model_order+1),rmse, label=\"test error\")\n",
    "plt.plot(range(max_model_order+1),rmse_train, label=\"train error\")\n",
    "plt.xticks(np.arange(0,10,step=1.0))\n",
    "plt.xlabel(\"model order\")\n",
    "plt.ylabel(\"rmse\")"
   ]
  },
  {
   "cell_type": "markdown",
   "metadata": {},
   "source": [
    "# Polynomial models for classification"
   ]
  },
  {
   "cell_type": "code",
   "execution_count": 25,
   "metadata": {},
   "outputs": [
    {
     "data": {
      "text/plain": [
       "<matplotlib.collections.PathCollection at 0x12feae400>"
      ]
     },
     "execution_count": 25,
     "metadata": {},
     "output_type": "execute_result"
    },
    {
     "data": {
      "image/png": "[encoded data removed]",
      "text/plain": [
       "<Figure size 432x288 with 1 Axes>"
      ]
     },
     "metadata": {
      "needs_background": "light"
     },
     "output_type": "display_data"
    }
   ],
   "source": [
    "random.seed(0)\n",
    "n = 20\n",
    "xs = 10*(rand(n) - .5)\n",
    "ys = (xs)**2\n",
    "pos = (xs - 1)**2 >= 7\n",
    "zn=np.zeros(n)\n",
    "pt = plt.scatter(xs[pos],zn[pos],color=\"blue\", label=\"positive\")\n",
    "plt.scatter(xs[~pos],zn[~pos],color=\"red\", label=\"negative\")\n",
    "plt.plot([-2,-2], [-1,1], color=\"black\", label=\"classification boundary\")#, ticks=:none, border=:none, legend=false)\n",
    "plt.ylim([-1,1])\n",
    "plt.grid()\n",
    "# savefig(\"poly-class-1d.pdf\")\n",
    "pt"
   ]
  },
  {
   "cell_type": "code",
   "execution_count": 26,
   "metadata": {},
   "outputs": [
    {
     "data": {
      "text/plain": [
       "<matplotlib.collections.PathCollection at 0x12ffa8730>"
      ]
     },
     "execution_count": 26,
     "metadata": {},
     "output_type": "execute_result"
    },
    {
     "data": {
      "image/png": "[encoded data removed]",
      "text/plain": [
       "<Figure size 432x288 with 1 Axes>"
      ]
     },
     "metadata": {
      "needs_background": "light"
     },
     "output_type": "display_data"
    }
   ],
   "source": [
    "pt = plt.scatter(xs[pos],ys[pos],color=\"blue\", label=\"positive\")\n",
    "plt.scatter(xs[~pos],ys[~pos],color=\"red\", label=\"negative\")\n",
    "plt.plot(xs, 1.5*xs + 7, color=\"black\", label=\"classification boundary\")\n",
    "plt.grid()\n",
    "# savefig(\"poly-class-2d.pdf\")\n",
    "pt"
   ]
  },
  {
   "cell_type": "code",
   "execution_count": 27,
   "metadata": {},
   "outputs": [],
   "source": [
    "# Example 1: multivariate polynomial classification \n",
    "n = 1000\n",
    "scale = 50\n",
    "x1 = scale*rand(n) - scale/2\n",
    "x2 = scale*rand(n) - scale/2\n",
    "f = lambda x1, x2: -30 - 9*x1 + 2*x2 + x1**2 - 0*x1*x2 + x2**2\n",
    "y = f(x1,x2)\n",
    "pos = y>0\n",
    "neg = y<0"
   ]
  },
  {
   "cell_type": "code",
   "execution_count": 28,
   "metadata": {},
   "outputs": [
    {
     "data": {
      "text/plain": [
       "<matplotlib.legend.Legend at 0x13002cfd0>"
      ]
     },
     "execution_count": 28,
     "metadata": {},
     "output_type": "execute_result"
    },
    {
     "data": {
      "image/png": "[encoded data removed]",
      "text/plain": [
       "<Figure size 432x288 with 1 Axes>"
      ]
     },
     "metadata": {
      "needs_background": "light"
     },
     "output_type": "display_data"
    }
   ],
   "source": [
    "plt.scatter(x1[pos], x2[pos], color=\"blue\", s=4, label='y1')\n",
    "plt.scatter(x1[neg], x2[neg], color=\"red\", s=4, label='y2')\n",
    "plt.legend(loc=\"upper right\")"
   ]
  },
  {
   "cell_type": "code",
   "execution_count": 29,
   "metadata": {},
   "outputs": [
    {
     "data": {
      "text/plain": [
       "<matplotlib.legend.Legend at 0x13019fd60>"
      ]
     },
     "execution_count": 29,
     "metadata": {},
     "output_type": "execute_result"
    },
    {
     "data": {
      "image/png": "[encoded data removed]",
      "text/plain": [
       "<Figure size 432x288 with 1 Axes>"
      ]
     },
     "metadata": {
      "needs_background": "light"
     },
     "output_type": "display_data"
    }
   ],
   "source": [
    "# Example 2: multivariate polynomial classification \n",
    "n = 1000\n",
    "scale = 10\n",
    "x1 = scale*rand(n) - scale/2\n",
    "x2 = scale*rand(n) - scale/2\n",
    "f = lambda x1, x2: -5 - 3*x1 + 2*x2 + x1**2 - x1*x2 + 5*x2**2\n",
    "y = f(x1,x2)\n",
    "pos = y>0\n",
    "neg = y<0\n",
    "\n",
    "plt.scatter(x1[pos], x2[pos], s=4, color=\"blue\", label=\"y1\")\n",
    "plt.scatter(x1[neg], x2[neg], s=4, color=\"red\", label=\"y2\")\n",
    "plt.legend(loc=\"upper right\")"
   ]
  },
  {
   "cell_type": "code",
   "execution_count": 30,
   "metadata": {},
   "outputs": [
    {
     "data": {
      "text/plain": [
       "<matplotlib.legend.Legend at 0x12f9ed250>"
      ]
     },
     "execution_count": 30,
     "metadata": {},
     "output_type": "execute_result"
    },
    {
     "data": {
      "image/png": "[encoded data removed]",
      "text/plain": [
       "<Figure size 432x288 with 1 Axes>"
      ]
     },
     "metadata": {
      "needs_background": "light"
     },
     "output_type": "display_data"
    }
   ],
   "source": [
    "# Example 3: multivariate polynomial classification \n",
    "n = 1000\n",
    "scale = 20\n",
    "x1 = scale*rand(n) - scale/2\n",
    "x2 = scale*rand(n) - scale/2\n",
    "f = lambda x1, x2: -5 - 3*x1 + 2*x2 + x1**2 - x1*x2 - 2*x2**2\n",
    "y = f(x1,x2)\n",
    "pos = y>0\n",
    "neg = y<0\n",
    "\n",
    "plt.scatter(x1[pos], x2[pos], color=\"blue\", s=4, label=\"y1\")\n",
    "plt.scatter(x1[neg], x2[neg], color=\"red\", s=4, label=\"y2\")\n",
    "plt.legend(loc=\"upper right\")"
   ]
  }
 ],
 "metadata": {
  "kernelspec": {
   "display_name": "Python 3",
   "language": "python",
   "name": "python3"
  },
  "language_info": {
   "codemirror_mode": {
    "name": "ipython",
    "version": 3
   },
   "file_extension": ".py",
   "mimetype": "text/x-python",
   "name": "python",
   "nbconvert_exporter": "python",
   "pygments_lexer": "ipython3",
   "version": "3.8.5"
  }
 },
 "nbformat": 4,
 "nbformat_minor": 4
}
