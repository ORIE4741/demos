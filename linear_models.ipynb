{
 "cells": [
  {
   "cell_type": "code",
   "execution_count": 1,
   "metadata": {
    "jupyter": {
     "outputs_hidden": true
    }
   },
   "outputs": [],
   "source": [
    "# math \n",
    "import numpy as np\n",
    "\n",
    "# random\n",
    "from numpy.random import rand, randn\n",
    "np.random.seed(6)\n",
    "\n",
    "# dataframes\n",
    "import pandas as pd\n",
    "\n",
    "# plotting\n",
    "import matplotlib.pyplot as plt\n",
    "# linear regression two ways\n",
    "import statsmodels.api as sm\n",
    "from sklearn.linear_model import LinearRegression\n",
    "\n",
    "# pytorch utils\n",
    "import torch\n",
    "from torch import optim\n",
    "import torch.nn as nn\n",
    "import torch.nn.functional as F\n",
    "\n",
    "torch.manual_seed(324891)\n",
    "\n",
    "from patsy import dmatrices"
   ]
  },
  {
   "cell_type": "code",
   "execution_count": 2,
   "metadata": {},
   "outputs": [],
   "source": [
    "# plot line y = w*x+b\n",
    "def plotline(w,b, xmin=-100,xmax=100,nsamples=100,label=''):\n",
    "    x = np.linspace(xmin, xmax, nsamples)\n",
    "    y = w * x + b\n",
    "    plt.plot(x, y, color='k', label=label)\n",
    "    plt.legend(loc=\"upper left\")\n",
    "    plt.grid()"
   ]
  },
  {
   "cell_type": "code",
   "execution_count": 3,
   "metadata": {},
   "outputs": [],
   "source": [
    "# plot function y = f(x)\n",
    "def plotfunc(f, xmin=-100,xmax=100,nsamples=100,label=\"\"):\n",
    "    x = np.linspace(xmin, xmax, nsamples)\n",
    "    y = f(x)\n",
    "    plt.plot(x, y, color='k', label=label)\n",
    "    plt.legend(loc=\"upper left\")\n",
    "    plt.grid()"
   ]
  },
  {
   "cell_type": "code",
   "execution_count": 4,
   "metadata": {},
   "outputs": [
    {
     "data": {
      "image/png": "[encoded data removed]",
      "text/plain": [
       "<Figure size 432x288 with 1 Axes>"
      ]
     },
     "metadata": {
      "needs_background": "light"
     },
     "output_type": "display_data"
    }
   ],
   "source": [
    "# Generate and plot data\n",
    "n = 15\n",
    "def sample_data(num_points):\n",
    "    x = rand(num_points)*10\n",
    "    y = .2 + .2*x + .1*np.sin(x) + .1*randn(num_points) - .01*((x-5)/6)**4\n",
    "    return x,y\n",
    "\n",
    "x,y = sample_data(n)\n",
    "\n",
    "\n",
    "def plotdata(x=x,y=y, margin=.05):\n",
    "    plt.scatter(x,y, label=\"data\")\n",
    "    plt.legend(loc=\"upper left\")\n",
    "    plt.xlabel(\"x\") \n",
    "    plt.ylabel(\"y\")     \n",
    "    range_y = np.max(y) - np.min(y)\n",
    "    range_x = np.max(x) - np.min(x)\n",
    "    plt.ylim([np.min(y)-margin*range_y,np.max(y)+margin*range_y])\n",
    "    plt.xlim([np.min(x)-margin*range_x,np.max(x)+margin*range_x])\n",
    "    \n",
    "plotdata()\n",
    "plt.show()"
   ]
  },
  {
   "cell_type": "markdown",
   "metadata": {},
   "source": [
    "# Approximating with the mean"
   ]
  },
  {
   "cell_type": "code",
   "execution_count": 5,
   "metadata": {},
   "outputs": [
    {
     "name": "stderr",
     "output_type": "stream",
     "text": [
      "<ipython-input-5-6dd8b0414b56>:3: FutureWarning: `rcond` parameter will change to the default of machine precision times ``max(M, N)`` where M and N are the input matrix dimensions.\n",
      "To use the future default and silence this warning we advise to pass `rcond=None`, to keep using the old, explicitly pass `rcond=-1`.\n",
      "  w = np.linalg.lstsq(X, y)[0]\n"
     ]
    }
   ],
   "source": [
    "# the mean solves a very simple least squares problem:\n",
    "X = np.ones((n,1))\n",
    "w = np.linalg.lstsq(X, y)[0]"
   ]
  },
  {
   "cell_type": "code",
   "execution_count": 6,
   "metadata": {},
   "outputs": [
    {
     "data": {
      "text/plain": [
       "2.220446049250313e-16"
      ]
     },
     "execution_count": 6,
     "metadata": {},
     "output_type": "execute_result"
    }
   ],
   "source": [
    "# check the solution to our least squares problem is the mean\n",
    "np.abs(np.mean(y) - w[0])"
   ]
  },
  {
   "cell_type": "code",
   "execution_count": 7,
   "metadata": {},
   "outputs": [
    {
     "data": {
      "image/png": "[encoded data removed]",
      "text/plain": [
       "<Figure size 432x288 with 1 Axes>"
      ]
     },
     "metadata": {
      "needs_background": "light"
     },
     "output_type": "display_data"
    }
   ],
   "source": [
    "# plot the fit\n",
    "plotdata()\n",
    "plotline(0, w[0], label=\"mean\")\n",
    "plt.show()"
   ]
  },
  {
   "cell_type": "markdown",
   "metadata": {},
   "source": [
    "Is this a good model? Would you trust this model to make predictions on new inputs $x$?\n",
    "\n",
    "* (A) yes \n",
    "* (B) no"
   ]
  },
  {
   "cell_type": "markdown",
   "metadata": {},
   "source": [
    "# Approximating with a line"
   ]
  },
  {
   "cell_type": "code",
   "execution_count": 8,
   "metadata": {},
   "outputs": [
    {
     "name": "stdout",
     "output_type": "stream",
     "text": [
      "[[8.92860151 1.        ]\n",
      " [3.31979805 1.        ]\n",
      " [8.21229123 1.        ]\n",
      " [0.41696626 1.        ]\n",
      " [1.0765668  1.        ]\n",
      " [5.95052064 1.        ]\n",
      " [5.29817362 1.        ]\n",
      " [4.18807429 1.        ]\n",
      " [3.35407849 1.        ]\n",
      " [6.22519432 1.        ]\n",
      " [4.38141426 1.        ]\n",
      " [7.35882106 1.        ]\n",
      " [5.18036412 1.        ]\n",
      " [5.788586   1.        ]\n",
      " [6.45355096 1.        ]]\n"
     ]
    }
   ],
   "source": [
    "X = np.column_stack([x, np.ones(n)])\n",
    "print(X)"
   ]
  },
  {
   "cell_type": "markdown",
   "metadata": {},
   "source": [
    "# How to fit a least squares model\n",
    "There are many ways to fit a least squares model in python!\n",
    "1. QR decomposition + `scipy.linalg.solve`\n",
    "2. `numpy.linalg.lstsq`\n",
    "3. `statsmodels.OLS`\n",
    "4. `sklearn.LinearRegression()`"
   ]
  },
  {
   "cell_type": "code",
   "execution_count": 9,
   "metadata": {},
   "outputs": [
    {
     "data": {
      "text/plain": [
       "array([0.20462642, 0.21131099])"
      ]
     },
     "execution_count": 9,
     "metadata": {},
     "output_type": "execute_result"
    }
   ],
   "source": [
    "# method 0: scipy\n",
    "from scipy.linalg import qr, solve\n",
    "Q,R = qr(X, mode='economic')\n",
    "w = solve(R, Q.T @ y)\n",
    "w"
   ]
  },
  {
   "cell_type": "code",
   "execution_count": 10,
   "metadata": {},
   "outputs": [
    {
     "name": "stderr",
     "output_type": "stream",
     "text": [
      "<ipython-input-10-4844ed0cbb71>:2: FutureWarning: `rcond` parameter will change to the default of machine precision times ``max(M, N)`` where M and N are the input matrix dimensions.\n",
      "To use the future default and silence this warning we advise to pass `rcond=None`, to keep using the old, explicitly pass `rcond=-1`.\n",
      "  w = np.linalg.lstsq(X, y)[0]\n"
     ]
    },
    {
     "data": {
      "text/plain": [
       "array([0.20462642, 0.21131099])"
      ]
     },
     "execution_count": 10,
     "metadata": {},
     "output_type": "execute_result"
    }
   ],
   "source": [
    "# method 1: numpy\n",
    "w = np.linalg.lstsq(X, y)[0]\n",
    "w"
   ]
  },
  {
   "cell_type": "code",
   "execution_count": 11,
   "metadata": {},
   "outputs": [
    {
     "data": {
      "text/plain": [
       "array([0.20462642, 0.21131099])"
      ]
     },
     "execution_count": 11,
     "metadata": {},
     "output_type": "execute_result"
    }
   ],
   "source": [
    "# method 2: statsmodels\n",
    "model = sm.OLS(y, X).fit()\n",
    "w = model.params\n",
    "w"
   ]
  },
  {
   "cell_type": "code",
   "execution_count": 12,
   "metadata": {},
   "outputs": [
    {
     "data": {
      "text/plain": [
       "array([0.20462642, 0.21131099])"
      ]
     },
     "execution_count": 12,
     "metadata": {},
     "output_type": "execute_result"
    }
   ],
   "source": [
    "# method 3: sklearn\n",
    "model = LinearRegression().fit(x[None,].T,y)\n",
    "w = np.array([model.coef_[0], model.intercept_])\n",
    "w"
   ]
  },
  {
   "cell_type": "markdown",
   "metadata": {},
   "source": [
    "Below we have to do some work to reconcile the default types of NumPy and PyTorch. Note that NumPy will default to float64 on a 64-bit system. PyTorch models default to float32 as GPUs can do up to 64x the operations per clock cycle when using float32 instead of float64. \n",
    "\n",
    "[CUDA operations per cycle comparison](https://docs.nvidia.com/cuda/cuda-c-programming-guide/index.html#arithmetic-instructions)"
   ]
  },
  {
   "cell_type": "code",
   "execution_count": 13,
   "metadata": {},
   "outputs": [
    {
     "data": {
      "text/plain": [
       "array([0.17200051, 0.23789968], dtype=float32)"
      ]
     },
     "execution_count": 13,
     "metadata": {},
     "output_type": "execute_result"
    }
   ],
   "source": [
    "# method 4: PyTorch via SGD\n",
    "\n",
    "def TorchLinRegModel(n : int = 2):\n",
    "    \"\"\"Create a simple linear regression model in PyTorch. Note that\n",
    "    we're manually including the bias in this demo.\"\"\"\n",
    "    return nn.Linear(in_features=n, out_features=1, bias=False)\n",
    "\n",
    "model = TorchLinRegModel()\n",
    "model.zero_grad()\n",
    "optimizer = optim.SGD(model.parameters(), lr=5e-6)\n",
    "loss_function = nn.MSELoss()\n",
    "\n",
    "n_epochs = 5000\n",
    "batch_size = 8\n",
    "\n",
    "for epoch in range(n_epochs):\n",
    "    # Let's do a random order after converting to a torch array\n",
    "    shuffled_indices = torch.randperm(x.shape[0])\n",
    "    for batch in range(0, x.shape[0], batch_size):\n",
    "        sample_idxs = shuffled_indices[batch:batch+batch_size]\n",
    "        \n",
    "        # Read minibatch data. PyTorch models default to float32  \n",
    "        # so we need to convert from double precision to float32\n",
    "        tensor = torch.from_numpy(X[sample_idxs, :]).float()\n",
    "        output = model(tensor)\n",
    "        \n",
    "        batch_labels = torch.from_numpy(y[sample_idxs]).float()\n",
    "        batch_labels = batch_labels.view(-1, 1)\n",
    "        \n",
    "        # loss.backward() calculates the gradient of the loss with\n",
    "        # respect to the weights\n",
    "        loss = loss_function(output, batch_labels)\n",
    "        loss.backward()\n",
    "        \n",
    "        # optimizer.step() moves in the direction of the gradient\n",
    "        # based on the learning rate (i.e. step size)\n",
    "        optimizer.step()\n",
    "        \n",
    "        # PyTorch is still saving our past gradient even though we \n",
    "        # changed our model parameters. Clearing them here prevents\n",
    "        # us from accidentally applying them again.\n",
    "        optimizer.zero_grad()\n",
    "        \n",
    "        \n",
    "wpytorch = list(model.parameters())[0][0].detach().numpy()\n",
    "wpytorch"
   ]
  },
  {
   "cell_type": "code",
   "execution_count": 14,
   "metadata": {},
   "outputs": [
    {
     "data": {
      "image/png": "[encoded data removed]",
      "text/plain": [
       "<Figure size 432x288 with 1 Axes>"
      ]
     },
     "metadata": {
      "needs_background": "light"
     },
     "output_type": "display_data"
    }
   ],
   "source": [
    "# plot the fit\n",
    "plotdata()\n",
    "plotline(w[0], w[1], label=\"linear fit\")"
   ]
  },
  {
   "cell_type": "markdown",
   "metadata": {},
   "source": [
    "Is this a good model? Would you trust this model to make predictions on new inputs $x$?\n",
    "\n",
    "* (A) yes \n",
    "* (B) no"
   ]
  },
  {
   "cell_type": "code",
   "execution_count": 15,
   "metadata": {},
   "outputs": [
    {
     "data": {
      "text/plain": [
       "<matplotlib.collections.PathCollection at 0x7fbd163e2cd0>"
      ]
     },
     "execution_count": 15,
     "metadata": {},
     "output_type": "execute_result"
    },
    {
     "data": {
      "image/png": "[encoded data removed]",
      "text/plain": [
       "<Figure size 432x288 with 1 Axes>"
      ]
     },
     "metadata": {
      "needs_background": "light"
     },
     "output_type": "display_data"
    }
   ],
   "source": [
    "# plot fit on out of sample data\n",
    "plotdata()\n",
    "plotline(w[0], w[1])\n",
    "\n",
    "xtest,ytest = sample_data(20)\n",
    "plt.scatter(xtest,ytest,label=\"test\")"
   ]
  },
  {
   "cell_type": "markdown",
   "metadata": {},
   "source": [
    "# Approximating with a polynomial"
   ]
  },
  {
   "cell_type": "code",
   "execution_count": 16,
   "metadata": {},
   "outputs": [
    {
     "data": {
      "text/html": [
       "<div>\n",
       "<style scoped>\n",
       "    .dataframe tbody tr th:only-of-type {\n",
       "        vertical-align: middle;\n",
       "    }\n",
       "\n",
       "    .dataframe tbody tr th {\n",
       "        vertical-align: top;\n",
       "    }\n",
       "\n",
       "    .dataframe thead th {\n",
       "        text-align: right;\n",
       "    }\n",
       "</style>\n",
       "<table border=\"1\" class=\"dataframe\">\n",
       "  <thead>\n",
       "    <tr style=\"text-align: right;\">\n",
       "      <th></th>\n",
       "      <th>order0</th>\n",
       "      <th>order1</th>\n",
       "      <th>order2</th>\n",
       "      <th>order3</th>\n",
       "      <th>order4</th>\n",
       "      <th>order5</th>\n",
       "      <th>order6</th>\n",
       "      <th>order7</th>\n",
       "      <th>order8</th>\n",
       "      <th>order9</th>\n",
       "      <th>order10</th>\n",
       "    </tr>\n",
       "  </thead>\n",
       "  <tbody>\n",
       "    <tr>\n",
       "      <th>0</th>\n",
       "      <td>1.0</td>\n",
       "      <td>8.928602</td>\n",
       "      <td>79.719925</td>\n",
       "      <td>711.787443</td>\n",
       "      <td>6355.266442</td>\n",
       "      <td>56743.641581</td>\n",
       "      <td>506641.364154</td>\n",
       "      <td>4.523599e+06</td>\n",
       "      <td>4.038941e+07</td>\n",
       "      <td>3.606210e+08</td>\n",
       "      <td>3.219841e+09</td>\n",
       "    </tr>\n",
       "    <tr>\n",
       "      <th>1</th>\n",
       "      <td>1.0</td>\n",
       "      <td>3.319798</td>\n",
       "      <td>11.021059</td>\n",
       "      <td>36.587691</td>\n",
       "      <td>121.463744</td>\n",
       "      <td>403.235101</td>\n",
       "      <td>1338.659102</td>\n",
       "      <td>4.444078e+03</td>\n",
       "      <td>1.475344e+04</td>\n",
       "      <td>4.897845e+04</td>\n",
       "      <td>1.625985e+05</td>\n",
       "    </tr>\n",
       "    <tr>\n",
       "      <th>2</th>\n",
       "      <td>1.0</td>\n",
       "      <td>8.212291</td>\n",
       "      <td>67.441727</td>\n",
       "      <td>553.851105</td>\n",
       "      <td>4548.386575</td>\n",
       "      <td>37352.675185</td>\n",
       "      <td>306751.046862</td>\n",
       "      <td>2.519129e+06</td>\n",
       "      <td>2.068782e+07</td>\n",
       "      <td>1.698944e+08</td>\n",
       "      <td>1.395222e+09</td>\n",
       "    </tr>\n",
       "    <tr>\n",
       "      <th>3</th>\n",
       "      <td>1.0</td>\n",
       "      <td>0.416966</td>\n",
       "      <td>0.173861</td>\n",
       "      <td>0.072494</td>\n",
       "      <td>0.030228</td>\n",
       "      <td>0.012604</td>\n",
       "      <td>0.005255</td>\n",
       "      <td>2.191323e-03</td>\n",
       "      <td>9.137077e-04</td>\n",
       "      <td>3.809853e-04</td>\n",
       "      <td>1.588580e-04</td>\n",
       "    </tr>\n",
       "    <tr>\n",
       "      <th>4</th>\n",
       "      <td>1.0</td>\n",
       "      <td>1.076567</td>\n",
       "      <td>1.158996</td>\n",
       "      <td>1.247737</td>\n",
       "      <td>1.343272</td>\n",
       "      <td>1.446122</td>\n",
       "      <td>1.556847</td>\n",
       "      <td>1.676050e+00</td>\n",
       "      <td>1.804379e+00</td>\n",
       "      <td>1.942535e+00</td>\n",
       "      <td>2.091269e+00</td>\n",
       "    </tr>\n",
       "    <tr>\n",
       "      <th>5</th>\n",
       "      <td>1.0</td>\n",
       "      <td>5.950521</td>\n",
       "      <td>35.408696</td>\n",
       "      <td>210.700176</td>\n",
       "      <td>1253.775746</td>\n",
       "      <td>7460.618458</td>\n",
       "      <td>44394.564137</td>\n",
       "      <td>2.641708e+05</td>\n",
       "      <td>1.571954e+06</td>\n",
       "      <td>9.353942e+06</td>\n",
       "      <td>5.566083e+07</td>\n",
       "    </tr>\n",
       "    <tr>\n",
       "      <th>6</th>\n",
       "      <td>1.0</td>\n",
       "      <td>5.298174</td>\n",
       "      <td>28.070644</td>\n",
       "      <td>148.723144</td>\n",
       "      <td>787.961039</td>\n",
       "      <td>4174.754394</td>\n",
       "      <td>22118.573606</td>\n",
       "      <td>1.171880e+05</td>\n",
       "      <td>6.208826e+05</td>\n",
       "      <td>3.289544e+06</td>\n",
       "      <td>1.742857e+07</td>\n",
       "    </tr>\n",
       "    <tr>\n",
       "      <th>7</th>\n",
       "      <td>1.0</td>\n",
       "      <td>4.188074</td>\n",
       "      <td>17.539966</td>\n",
       "      <td>73.458682</td>\n",
       "      <td>307.650415</td>\n",
       "      <td>1288.462792</td>\n",
       "      <td>5396.177888</td>\n",
       "      <td>2.259959e+04</td>\n",
       "      <td>9.464878e+04</td>\n",
       "      <td>3.963961e+05</td>\n",
       "      <td>1.660136e+06</td>\n",
       "    </tr>\n",
       "    <tr>\n",
       "      <th>8</th>\n",
       "      <td>1.0</td>\n",
       "      <td>3.354078</td>\n",
       "      <td>11.249843</td>\n",
       "      <td>37.732855</td>\n",
       "      <td>126.558957</td>\n",
       "      <td>424.488676</td>\n",
       "      <td>1423.768339</td>\n",
       "      <td>4.775431e+03</td>\n",
       "      <td>1.601717e+04</td>\n",
       "      <td>5.372284e+04</td>\n",
       "      <td>1.801906e+05</td>\n",
       "    </tr>\n",
       "    <tr>\n",
       "      <th>9</th>\n",
       "      <td>1.0</td>\n",
       "      <td>6.225194</td>\n",
       "      <td>38.753044</td>\n",
       "      <td>241.245232</td>\n",
       "      <td>1501.798446</td>\n",
       "      <td>9348.987159</td>\n",
       "      <td>58199.261781</td>\n",
       "      <td>3.623017e+05</td>\n",
       "      <td>2.255399e+06</td>\n",
       "      <td>1.404029e+07</td>\n",
       "      <td>8.740356e+07</td>\n",
       "    </tr>\n",
       "    <tr>\n",
       "      <th>10</th>\n",
       "      <td>1.0</td>\n",
       "      <td>4.381414</td>\n",
       "      <td>19.196791</td>\n",
       "      <td>84.109094</td>\n",
       "      <td>368.516782</td>\n",
       "      <td>1614.624684</td>\n",
       "      <td>7074.339615</td>\n",
       "      <td>3.099561e+04</td>\n",
       "      <td>1.358046e+05</td>\n",
       "      <td>5.950163e+05</td>\n",
       "      <td>2.607013e+06</td>\n",
       "    </tr>\n",
       "    <tr>\n",
       "      <th>11</th>\n",
       "      <td>1.0</td>\n",
       "      <td>7.358821</td>\n",
       "      <td>54.152247</td>\n",
       "      <td>398.496699</td>\n",
       "      <td>2932.465903</td>\n",
       "      <td>21579.491857</td>\n",
       "      <td>158799.619217</td>\n",
       "      <td>1.168578e+06</td>\n",
       "      <td>8.599356e+06</td>\n",
       "      <td>6.328112e+07</td>\n",
       "      <td>4.656745e+08</td>\n",
       "    </tr>\n",
       "    <tr>\n",
       "      <th>12</th>\n",
       "      <td>1.0</td>\n",
       "      <td>5.180364</td>\n",
       "      <td>26.836172</td>\n",
       "      <td>139.021145</td>\n",
       "      <td>720.180150</td>\n",
       "      <td>3730.795409</td>\n",
       "      <td>19326.878674</td>\n",
       "      <td>1.001203e+05</td>\n",
       "      <td>5.186594e+05</td>\n",
       "      <td>2.686845e+06</td>\n",
       "      <td>1.391883e+07</td>\n",
       "    </tr>\n",
       "    <tr>\n",
       "      <th>13</th>\n",
       "      <td>1.0</td>\n",
       "      <td>5.788586</td>\n",
       "      <td>33.507728</td>\n",
       "      <td>193.962365</td>\n",
       "      <td>1122.767829</td>\n",
       "      <td>6499.238141</td>\n",
       "      <td>37621.398928</td>\n",
       "      <td>2.177747e+05</td>\n",
       "      <td>1.260608e+06</td>\n",
       "      <td>7.297136e+06</td>\n",
       "      <td>4.224010e+07</td>\n",
       "    </tr>\n",
       "    <tr>\n",
       "      <th>14</th>\n",
       "      <td>1.0</td>\n",
       "      <td>6.453551</td>\n",
       "      <td>41.648320</td>\n",
       "      <td>268.779555</td>\n",
       "      <td>1734.582557</td>\n",
       "      <td>11194.216925</td>\n",
       "      <td>72242.449371</td>\n",
       "      <td>4.662203e+05</td>\n",
       "      <td>3.008777e+06</td>\n",
       "      <td>1.941729e+07</td>\n",
       "      <td>1.253105e+08</td>\n",
       "    </tr>\n",
       "  </tbody>\n",
       "</table>\n",
       "</div>"
      ],
      "text/plain": [
       "    order0    order1     order2      order3       order4        order5  \\\n",
       "0      1.0  8.928602  79.719925  711.787443  6355.266442  56743.641581   \n",
       "1      1.0  3.319798  11.021059   36.587691   121.463744    403.235101   \n",
       "2      1.0  8.212291  67.441727  553.851105  4548.386575  37352.675185   \n",
       "3      1.0  0.416966   0.173861    0.072494     0.030228      0.012604   \n",
       "4      1.0  1.076567   1.158996    1.247737     1.343272      1.446122   \n",
       "5      1.0  5.950521  35.408696  210.700176  1253.775746   7460.618458   \n",
       "6      1.0  5.298174  28.070644  148.723144   787.961039   4174.754394   \n",
       "7      1.0  4.188074  17.539966   73.458682   307.650415   1288.462792   \n",
       "8      1.0  3.354078  11.249843   37.732855   126.558957    424.488676   \n",
       "9      1.0  6.225194  38.753044  241.245232  1501.798446   9348.987159   \n",
       "10     1.0  4.381414  19.196791   84.109094   368.516782   1614.624684   \n",
       "11     1.0  7.358821  54.152247  398.496699  2932.465903  21579.491857   \n",
       "12     1.0  5.180364  26.836172  139.021145   720.180150   3730.795409   \n",
       "13     1.0  5.788586  33.507728  193.962365  1122.767829   6499.238141   \n",
       "14     1.0  6.453551  41.648320  268.779555  1734.582557  11194.216925   \n",
       "\n",
       "           order6        order7        order8        order9       order10  \n",
       "0   506641.364154  4.523599e+06  4.038941e+07  3.606210e+08  3.219841e+09  \n",
       "1     1338.659102  4.444078e+03  1.475344e+04  4.897845e+04  1.625985e+05  \n",
       "2   306751.046862  2.519129e+06  2.068782e+07  1.698944e+08  1.395222e+09  \n",
       "3        0.005255  2.191323e-03  9.137077e-04  3.809853e-04  1.588580e-04  \n",
       "4        1.556847  1.676050e+00  1.804379e+00  1.942535e+00  2.091269e+00  \n",
       "5    44394.564137  2.641708e+05  1.571954e+06  9.353942e+06  5.566083e+07  \n",
       "6    22118.573606  1.171880e+05  6.208826e+05  3.289544e+06  1.742857e+07  \n",
       "7     5396.177888  2.259959e+04  9.464878e+04  3.963961e+05  1.660136e+06  \n",
       "8     1423.768339  4.775431e+03  1.601717e+04  5.372284e+04  1.801906e+05  \n",
       "9    58199.261781  3.623017e+05  2.255399e+06  1.404029e+07  8.740356e+07  \n",
       "10    7074.339615  3.099561e+04  1.358046e+05  5.950163e+05  2.607013e+06  \n",
       "11  158799.619217  1.168578e+06  8.599356e+06  6.328112e+07  4.656745e+08  \n",
       "12   19326.878674  1.001203e+05  5.186594e+05  2.686845e+06  1.391883e+07  \n",
       "13   37621.398928  2.177747e+05  1.260608e+06  7.297136e+06  4.224010e+07  \n",
       "14   72242.449371  4.662203e+05  3.008777e+06  1.941729e+07  1.253105e+08  "
      ]
     },
     "execution_count": 16,
     "metadata": {},
     "output_type": "execute_result"
    }
   ],
   "source": [
    "# first, construct a Vandermonde matrix\n",
    "n = 15\n",
    "max_order = 10\n",
    "X = np.zeros((n, max_order+1))\n",
    "\n",
    "# method 1: use the default Vandermonde function from numpy\n",
    "X = np.vander(x, max_order+1, increasing = True)\n",
    "# method 2: use a for loop\n",
    "# for k in range(max_order+1):\n",
    "#     X[:,k] = x**(k)\n",
    "    \n",
    "# create a pandas dataframe with data = Vandermonde\n",
    "col_list = [\"order\"+str(i) for i in range(max_order+1)]   \n",
    "df1 = pd.DataFrame(data = X, columns=col_list)\n",
    "df1"
   ]
  },
  {
   "cell_type": "code",
   "execution_count": 17,
   "metadata": {},
   "outputs": [],
   "source": [
    "# helper function: create a Vandermonde matrix in pandas.dataframe\n",
    "def Vandermonde_df(x, order = max_order):\n",
    "    X = np.vander(x, order+1, increasing = True)\n",
    "    col_list = [\"order\"+str(i) for i in range(order+1)]   \n",
    "    df = pd.DataFrame(data = X, columns=col_list)\n",
    "    return df"
   ]
  },
  {
   "cell_type": "code",
   "execution_count": 18,
   "metadata": {},
   "outputs": [
    {
     "name": "stdout",
     "output_type": "stream",
     "text": [
      "order0     121.634847\n",
      "order1    -580.750926\n",
      "order2     971.307923\n",
      "order3    -804.409277\n",
      "order4     387.304320\n",
      "order5    -117.184775\n",
      "order6      23.031717\n",
      "order7      -2.942067\n",
      "order8       0.235877\n",
      "order9      -0.010787\n",
      "order10      0.000215\n",
      "dtype: float64\n"
     ]
    }
   ],
   "source": [
    "# solve least squares problem\n",
    "model = sm.OLS(y, df1).fit()\n",
    "w = model.params\n",
    "print(w)"
   ]
  },
  {
   "cell_type": "code",
   "execution_count": 19,
   "metadata": {},
   "outputs": [
    {
     "data": {
      "text/plain": [
       "0     2.130451\n",
       "1     0.847466\n",
       "2     2.022922\n",
       "3     0.383902\n",
       "4     0.591226\n",
       "5     1.472116\n",
       "6     1.193113\n",
       "7     0.980092\n",
       "8     0.811906\n",
       "9     1.526781\n",
       "10    1.037409\n",
       "11    1.667587\n",
       "12    1.154493\n",
       "13    1.410077\n",
       "14    1.517587\n",
       "dtype: float64"
      ]
     },
     "execution_count": 19,
     "metadata": {},
     "output_type": "execute_result"
    }
   ],
   "source": [
    "# output the prediction given our polynomial fit\n",
    "# using X*w\n",
    "df1.dot(w)"
   ]
  },
  {
   "cell_type": "code",
   "execution_count": 20,
   "metadata": {},
   "outputs": [
    {
     "data": {
      "text/plain": [
       "0     2.130451\n",
       "1     0.847466\n",
       "2     2.022922\n",
       "3     0.383902\n",
       "4     0.591226\n",
       "5     1.472116\n",
       "6     1.193113\n",
       "7     0.980092\n",
       "8     0.811906\n",
       "9     1.526781\n",
       "10    1.037409\n",
       "11    1.667587\n",
       "12    1.154493\n",
       "13    1.410077\n",
       "14    1.517587\n",
       "dtype: float64"
      ]
     },
     "execution_count": 20,
     "metadata": {},
     "output_type": "execute_result"
    }
   ],
   "source": [
    "# output the prediction given our polynomial fit\n",
    "# using statsmodels predict function\n",
    "model.predict(df1)"
   ]
  },
  {
   "cell_type": "code",
   "execution_count": 21,
   "metadata": {},
   "outputs": [],
   "source": [
    "#computes our polynomial fit evaluated at x\n",
    "def p(x, order = max_order, w = w):\n",
    "    df = Vandermonde_df(x, order)\n",
    "    y = df.dot(w)\n",
    "    return np.array(y)"
   ]
  },
  {
   "cell_type": "code",
   "execution_count": 22,
   "metadata": {},
   "outputs": [
    {
     "data": {
      "image/png": "[encoded data removed]",
      "text/plain": [
       "<Figure size 432x288 with 1 Axes>"
      ]
     },
     "metadata": {
      "needs_background": "light"
     },
     "output_type": "display_data"
    }
   ],
   "source": [
    "# plot fit\n",
    "plotdata()\n",
    "plotfunc(p, xmin=0, xmax=10)"
   ]
  },
  {
   "cell_type": "markdown",
   "metadata": {},
   "source": [
    "Is this a good model? Would you trust this model to make predictions on new inputs $x$?\n",
    "\n",
    "* (A) yes \n",
    "* (B) no"
   ]
  },
  {
   "cell_type": "code",
   "execution_count": 23,
   "metadata": {},
   "outputs": [
    {
     "data": {
      "text/plain": [
       "<matplotlib.collections.PathCollection at 0x7fbd16615d60>"
      ]
     },
     "execution_count": 23,
     "metadata": {},
     "output_type": "execute_result"
    },
    {
     "data": {
      "image/png": "[encoded data removed]",
      "text/plain": [
       "<Figure size 432x288 with 1 Axes>"
      ]
     },
     "metadata": {
      "needs_background": "light"
     },
     "output_type": "display_data"
    }
   ],
   "source": [
    "# plot fit on out of sample data\n",
    "plotdata()\n",
    "plotfunc(p, xmin=0, xmax=10)\n",
    "\n",
    "xtest,ytest = sample_data(100)\n",
    "plt.scatter(xtest,ytest,label=\"test\")"
   ]
  },
  {
   "cell_type": "markdown",
   "metadata": {},
   "source": [
    "# Choosing the best model order"
   ]
  },
  {
   "cell_type": "code",
   "execution_count": 24,
   "metadata": {},
   "outputs": [
    {
     "data": {
      "text/plain": [
       "array([ 0.53558514,  0.09219372,  0.11267527,  0.10313493,  0.07633348,\n",
       "        0.11427176,  0.09231839,  0.22500731,  0.96274495,  1.11348529,\n",
       "       16.46716875])"
      ]
     },
     "execution_count": 24,
     "metadata": {},
     "output_type": "execute_result"
    }
   ],
   "source": [
    "max_model_order = 10\n",
    "rmse = np.zeros(max_model_order+1)       # array to store root mean square model errors\n",
    "rmse_train = np.zeros(max_model_order+1) # array to store root mean square model errors on training set\n",
    "xtest,ytest = sample_data(50)   # generate test set\n",
    "\n",
    "for model_order in range(max_model_order+1):\n",
    "    # form Vandermonde matrix\n",
    "    df = Vandermonde_df(x, model_order)\n",
    "    \n",
    "    # solve least squares problem\n",
    "    model = sm.OLS(y, df).fit()\n",
    "    w = model.params\n",
    "    ytrain = df.dot(w)\n",
    "    \n",
    "    # compute training error \n",
    "    rmse_train[model_order] = np.mean(np.abs(y - np.array(ytrain))) # sqrt(mean((y - X*w).^2))\n",
    "    \n",
    "    # compute test error\n",
    "    ptest = p(xtest, order=model_order, w=w)\n",
    "    rmse[model_order] = np.mean(np.abs(ytest - np.array(ptest))) # sqrt(mean((ytest - ptest).^2))\n",
    "rmse"
   ]
  },
  {
   "cell_type": "code",
   "execution_count": 25,
   "metadata": {
    "scrolled": true
   },
   "outputs": [
    {
     "data": {
      "text/plain": [
       "Text(0, 0.5, 'rmse')"
      ]
     },
     "execution_count": 25,
     "metadata": {},
     "output_type": "execute_result"
    },
    {
     "data": {
      "image/png": "[encoded data removed]",
      "text/plain": [
       "<Figure size 432x288 with 1 Axes>"
      ]
     },
     "metadata": {
      "needs_background": "light"
     },
     "output_type": "display_data"
    }
   ],
   "source": [
    "plt.plot(range(max_model_order+1),rmse, label=\"test error\")\n",
    "plt.plot(range(max_model_order+1),rmse_train, label=\"train error\")\n",
    "plt.xticks(np.arange(0,10,step=1.0))\n",
    "plt.xlabel(\"model order\")\n",
    "plt.ylabel(\"rmse\")"
   ]
  },
  {
   "cell_type": "markdown",
   "metadata": {},
   "source": [
    "# Polynomial models for classification"
   ]
  },
  {
   "cell_type": "code",
   "execution_count": 27,
   "metadata": {},
   "outputs": [
    {
     "data": {
      "text/plain": [
       "<matplotlib.collections.PathCollection at 0x7fbd1683afd0>"
      ]
     },
     "execution_count": 27,
     "metadata": {},
     "output_type": "execute_result"
    },
    {
     "data": {
      "image/png": "[encoded data removed]",
      "text/plain": [
       "<Figure size 432x288 with 1 Axes>"
      ]
     },
     "metadata": {
      "needs_background": "light"
     },
     "output_type": "display_data"
    }
   ],
   "source": [
    "np.random.seed(0)\n",
    "n = 20\n",
    "xs = 10*(rand(n) - .5)\n",
    "ys = (xs)**2\n",
    "pos = (xs - 1)**2 >= 7\n",
    "zn=np.zeros(n)\n",
    "pt = plt.scatter(xs[pos],zn[pos],color=\"blue\", label=\"positive\")\n",
    "plt.scatter(xs[~pos],zn[~pos],color=\"red\", label=\"negative\")\n",
    "plt.plot([-2,-2], [-1,1], color=\"black\", label=\"classification boundary\")#, ticks=:none, border=:none, legend=false)\n",
    "plt.ylim([-1,1])\n",
    "plt.grid()\n",
    "# savefig(\"poly-class-1d.pdf\")\n",
    "pt"
   ]
  },
  {
   "cell_type": "code",
   "execution_count": 28,
   "metadata": {},
   "outputs": [
    {
     "data": {
      "text/plain": [
       "<matplotlib.collections.PathCollection at 0x7fbd16908ac0>"
      ]
     },
     "execution_count": 28,
     "metadata": {},
     "output_type": "execute_result"
    },
    {
     "data": {
      "image/png": "[encoded data removed]",
      "text/plain": [
       "<Figure size 432x288 with 1 Axes>"
      ]
     },
     "metadata": {
      "needs_background": "light"
     },
     "output_type": "display_data"
    }
   ],
   "source": [
    "pt = plt.scatter(xs[pos],ys[pos],color=\"blue\", label=\"positive\")\n",
    "plt.scatter(xs[~pos],ys[~pos],color=\"red\", label=\"negative\")\n",
    "plt.plot(xs, 1.5*xs + 7, color=\"black\", label=\"classification boundary\")\n",
    "plt.grid()\n",
    "# savefig(\"poly-class-2d.pdf\")\n",
    "pt"
   ]
  },
  {
   "cell_type": "code",
   "execution_count": 29,
   "metadata": {},
   "outputs": [],
   "source": [
    "# Example 1: multivariate polynomial classification \n",
    "n = 1000\n",
    "scale = 50\n",
    "x1 = scale*rand(n) - scale/2\n",
    "x2 = scale*rand(n) - scale/2\n",
    "f = lambda x1, x2: -30 - 9*x1 + 2*x2 + x1**2 - 0*x1*x2 + x2**2\n",
    "y = f(x1,x2)\n",
    "pos = y>0\n",
    "neg = y<0"
   ]
  },
  {
   "cell_type": "code",
   "execution_count": 30,
   "metadata": {},
   "outputs": [
    {
     "data": {
      "text/plain": [
       "<matplotlib.legend.Legend at 0x7fbd16940f70>"
      ]
     },
     "execution_count": 30,
     "metadata": {},
     "output_type": "execute_result"
    },
    {
     "data": {
      "image/png": "[encoded data removed]",
      "text/plain": [
       "<Figure size 432x288 with 1 Axes>"
      ]
     },
     "metadata": {
      "needs_background": "light"
     },
     "output_type": "display_data"
    }
   ],
   "source": [
    "plt.scatter(x1[pos], x2[pos], color=\"blue\", s=4, label='y1')\n",
    "plt.scatter(x1[neg], x2[neg], color=\"red\", s=4, label='y2')\n",
    "plt.legend(loc=\"upper right\")"
   ]
  },
  {
   "cell_type": "code",
   "execution_count": 31,
   "metadata": {},
   "outputs": [
    {
     "data": {
      "text/plain": [
       "<matplotlib.legend.Legend at 0x7fbd16b4f130>"
      ]
     },
     "execution_count": 31,
     "metadata": {},
     "output_type": "execute_result"
    },
    {
     "data": {
      "image/png": "[encoded data removed]",
      "text/plain": [
       "<Figure size 432x288 with 1 Axes>"
      ]
     },
     "metadata": {
      "needs_background": "light"
     },
     "output_type": "display_data"
    }
   ],
   "source": [
    "# Example 2: multivariate polynomial classification \n",
    "n = 1000\n",
    "scale = 10\n",
    "x1 = scale*rand(n) - scale/2\n",
    "x2 = scale*rand(n) - scale/2\n",
    "f = lambda x1, x2: -5 - 3*x1 + 2*x2 + x1**2 - x1*x2 + 5*x2**2\n",
    "y = f(x1,x2)\n",
    "pos = y>0\n",
    "neg = y<0\n",
    "\n",
    "plt.scatter(x1[pos], x2[pos], s=4, color=\"blue\", label=\"y1\")\n",
    "plt.scatter(x1[neg], x2[neg], s=4, color=\"red\", label=\"y2\")\n",
    "plt.legend(loc=\"upper right\")"
   ]
  },
  {
   "cell_type": "code",
   "execution_count": 32,
   "metadata": {},
   "outputs": [
    {
     "data": {
      "text/plain": [
       "<matplotlib.legend.Legend at 0x7fbd16873640>"
      ]
     },
     "execution_count": 32,
     "metadata": {},
     "output_type": "execute_result"
    },
    {
     "data": {
      "image/png": "[encoded data removed]",
      "text/plain": [
       "<Figure size 432x288 with 1 Axes>"
      ]
     },
     "metadata": {
      "needs_background": "light"
     },
     "output_type": "display_data"
    }
   ],
   "source": [
    "# Example 3: multivariate polynomial classification \n",
    "n = 1000\n",
    "scale = 20\n",
    "x1 = scale*rand(n) - scale/2\n",
    "x2 = scale*rand(n) - scale/2\n",
    "f = lambda x1, x2: -5 - 3*x1 + 2*x2 + x1**2 - x1*x2 - 2*x2**2\n",
    "y = f(x1,x2)\n",
    "pos = y>0\n",
    "neg = y<0\n",
    "\n",
    "plt.scatter(x1[pos], x2[pos], color=\"blue\", s=4, label=\"y1\")\n",
    "plt.scatter(x1[neg], x2[neg], color=\"red\", s=4, label=\"y2\")\n",
    "plt.legend(loc=\"upper right\")"
   ]
  },
  {
   "cell_type": "code",
   "execution_count": null,
   "metadata": {},
   "outputs": [],
   "source": []
  }
 ],
 "metadata": {
  "@webio": {
   "lastCommId": null,
   "lastKernelId": null
  },
  "kernelspec": {
   "display_name": "Python 3",
   "language": "python",
   "name": "python3"
  },
  "language_info": {
   "codemirror_mode": {
    "name": "ipython",
    "version": 3
   },
   "file_extension": ".py",
   "mimetype": "text/x-python",
   "name": "python",
   "nbconvert_exporter": "python",
   "pygments_lexer": "ipython3",
   "version": "3.8.3"
  }
 },
 "nbformat": 4,
 "nbformat_minor": 4
}
