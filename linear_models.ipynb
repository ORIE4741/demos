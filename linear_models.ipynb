{
 "cells": [
  {
   "cell_type": "code",
   "execution_count": 1,
   "metadata": {},
   "outputs": [],
   "source": [
    "# math \n",
    "import numpy as np\n",
    "\n",
    "# random\n",
    "import random\n",
    "\n",
    "# matrix inverse\n",
    "from numpy.linalg import inv\n",
    "\n",
    "# dataframes\n",
    "import pandas as pd\n",
    "\n",
    "# plotting\n",
    "import matplotlib.pyplot as plt\n",
    "import seaborn\n",
    "\n",
    "# linear regression two ways\n",
    "import statsmodels.api as sm\n",
    "from sklearn.linear_model import LinearRegression\n",
    "\n",
    "# for choosing covariates to include in model\n",
    "from patsy import dmatrices"
   ]
  },
  {
   "cell_type": "code",
   "execution_count": 2,
   "metadata": {},
   "outputs": [],
   "source": [
    "# plot line y = w*x+b\n",
    "def plotline(w,b, xmin=-100,xmax=100,nsamples=100,label=''):\n",
    "    x = np.linspace(xmin, xmax, nsamples)\n",
    "    y = w * x + b\n",
    "    plt.plot(x, y, color='k', label=label)\n",
    "    plt.legend(loc=\"upper left\")\n",
    "    plt.grid()"
   ]
  },
  {
   "cell_type": "code",
   "execution_count": 4,
   "metadata": {},
   "outputs": [],
   "source": [
    "# plot function y = f(x)\n",
    "def plotfunc(f, xmin=-100,xmax=100,nsamples=100,label=\"\"):\n",
    "    x = np.linspace(xmin, xmax, nsamples)\n",
    "    y = f(x)\n",
    "    plt.plot(x, y, color='k', label=label)\n",
    "    plt.legend(loc=\"upper left\")\n",
    "    plt.grid()"
   ]
  },
  {
   "cell_type": "code",
   "execution_count": 6,
   "metadata": {},
   "outputs": [
    {
     "data": {
      "image/png": "[encoded data removed]",
      "text/plain": [
       "<Figure size 432x288 with 1 Axes>"
      ]
     },
     "metadata": {
      "needs_background": "light"
     },
     "output_type": "display_data"
    }
   ],
   "source": [
    "# Generate and plot data\n",
    "random.seed(1)\n",
    "n = 15\n",
    "def sample_data(num_points):\n",
    "    x = np.random.rand(num_points)*10\n",
    "    y = .2 + .2*x + .1*np.sin(x) + .1*np.random.randn(num_points) - .01*((x-5)/6)**4\n",
    "    return x,y\n",
    "\n",
    "x,y = sample_data(n)\n",
    "\n",
    "\n",
    "def plotdata(x=x,y=y, margin=.05):\n",
    "    plt.scatter(x,y, label=\"data\")\n",
    "    plt.legend(loc=\"upper left\")\n",
    "    plt.xlabel(\"x\") \n",
    "    plt.ylabel(\"y\")     \n",
    "    range_y = np.max(y) - np.min(y)\n",
    "    range_x = np.max(x) - np.min(x)\n",
    "    plt.ylim([np.min(y)-margin*range_y,np.max(y)+margin*range_y])\n",
    "    plt.xlim([np.min(x)-margin*range_x,np.max(x)+margin*range_x])\n",
    "    \n",
    "plotdata()\n",
    "plt.show()"
   ]
  },
  {
   "cell_type": "markdown",
   "metadata": {},
   "source": [
    "# Approximating with the mean"
   ]
  },
  {
   "cell_type": "code",
   "execution_count": 7,
   "metadata": {},
   "outputs": [
    {
     "name": "stderr",
     "output_type": "stream",
     "text": [
      "<ipython-input-7-85d6efe6f3d9>:3: FutureWarning: `rcond` parameter will change to the default of machine precision times ``max(M, N)`` where M and N are the input matrix dimensions.\n",
      "To use the future default and silence this warning we advise to pass `rcond=None`, to keep using the old, explicitly pass `rcond=-1`.\n",
      "  w = np.linalg.lstsq(X, y)[0]\n"
     ]
    }
   ],
   "source": [
    "# the mean solves a very simple least squares problem:\n",
    "X = np.ones([n,1])\n",
    "w = np.linalg.lstsq(X, y)[0]"
   ]
  },
  {
   "cell_type": "code",
   "execution_count": 8,
   "metadata": {},
   "outputs": [
    {
     "data": {
      "text/plain": [
       "2.220446049250313e-16"
      ]
     },
     "execution_count": 8,
     "metadata": {},
     "output_type": "execute_result"
    }
   ],
   "source": [
    "# check the solution to our least squares problem is the mean\n",
    "np.abs(np.mean(y) - w[0])"
   ]
  },
  {
   "cell_type": "code",
   "execution_count": 9,
   "metadata": {},
   "outputs": [
    {
     "data": {
      "image/png": "[encoded data removed]",
      "text/plain": [
       "<Figure size 432x288 with 1 Axes>"
      ]
     },
     "metadata": {
      "needs_background": "light"
     },
     "output_type": "display_data"
    }
   ],
   "source": [
    "# plot the fit\n",
    "plotdata()\n",
    "plotline(0, w[0], label=\"mean\")\n",
    "plt.show()"
   ]
  },
  {
   "cell_type": "markdown",
   "metadata": {},
   "source": [
    "Is this a good model? Would you trust this model to make predictions on new inputs $x$?\n",
    "\n",
    "* (A) yes \n",
    "* (B) no"
   ]
  },
  {
   "cell_type": "markdown",
   "metadata": {},
   "source": [
    "# Approximating with a line"
   ]
  },
  {
   "cell_type": "code",
   "execution_count": 10,
   "metadata": {},
   "outputs": [
    {
     "name": "stdout",
     "output_type": "stream",
     "text": [
      "[[0.61136274 1.        ]\n",
      " [2.72907808 1.        ]\n",
      " [0.71314919 1.        ]\n",
      " [5.82820938 1.        ]\n",
      " [3.78340496 1.        ]\n",
      " [4.41147667 1.        ]\n",
      " [5.26650799 1.        ]\n",
      " [5.74505031 1.        ]\n",
      " [9.18312641 1.        ]\n",
      " [8.45716362 1.        ]\n",
      " [3.05871425 1.        ]\n",
      " [5.79636968 1.        ]\n",
      " [4.59010194 1.        ]\n",
      " [5.82158086 1.        ]\n",
      " [9.50863742 1.        ]]\n"
     ]
    }
   ],
   "source": [
    "X = np.column_stack([x, np.ones(n)])\n",
    "print(X)"
   ]
  },
  {
   "cell_type": "code",
   "execution_count": 11,
   "metadata": {},
   "outputs": [
    {
     "name": "stdout",
     "output_type": "stream",
     "text": [
      "[0.19667088 0.25458263]\n"
     ]
    },
    {
     "name": "stderr",
     "output_type": "stream",
     "text": [
      "<ipython-input-11-59ed48eb9c86>:1: FutureWarning: `rcond` parameter will change to the default of machine precision times ``max(M, N)`` where M and N are the input matrix dimensions.\n",
      "To use the future default and silence this warning we advise to pass `rcond=None`, to keep using the old, explicitly pass `rcond=-1`.\n",
      "  w = np.linalg.lstsq(X, y)[0]\n"
     ]
    }
   ],
   "source": [
    "w = np.linalg.lstsq(X, y)[0]\n",
    "print(w)"
   ]
  },
  {
   "cell_type": "code",
   "execution_count": 12,
   "metadata": {},
   "outputs": [
    {
     "data": {
      "image/png": "[encoded data removed]",
      "text/plain": [
       "<Figure size 432x288 with 1 Axes>"
      ]
     },
     "metadata": {
      "needs_background": "light"
     },
     "output_type": "display_data"
    }
   ],
   "source": [
    "# plot the fit\n",
    "plotdata()\n",
    "plotline(w[0], w[1], label=\"linear fit\")"
   ]
  },
  {
   "cell_type": "markdown",
   "metadata": {},
   "source": [
    "Is this a good model? Would you trust this model to make predictions on new inputs $x$?\n",
    "\n",
    "* (A) yes \n",
    "* (B) no"
   ]
  },
  {
   "cell_type": "code",
   "execution_count": 13,
   "metadata": {},
   "outputs": [
    {
     "data": {
      "text/plain": [
       "<matplotlib.collections.PathCollection at 0x7ff3c456f8b0>"
      ]
     },
     "execution_count": 13,
     "metadata": {},
     "output_type": "execute_result"
    },
    {
     "data": {
      "image/png": "[encoded data removed]",
      "text/plain": [
       "<Figure size 432x288 with 1 Axes>"
      ]
     },
     "metadata": {
      "needs_background": "light"
     },
     "output_type": "display_data"
    }
   ],
   "source": [
    "# plot fit on out of sample data\n",
    "plotdata()\n",
    "plotline(w[0], w[1])\n",
    "\n",
    "xtest,ytest = sample_data(20)\n",
    "plt.scatter(xtest,ytest,label=\"test\")"
   ]
  },
  {
   "cell_type": "markdown",
   "metadata": {},
   "source": [
    "# Approximating with a polynomial"
   ]
  },
  {
   "cell_type": "code",
   "execution_count": 14,
   "metadata": {},
   "outputs": [
    {
     "data": {
      "text/plain": [
       "array([[1.00000000e+00, 6.11362741e-01, 3.73764401e-01, 2.28505629e-01,\n",
       "        1.39699828e-01, 8.54072696e-02, 5.22148225e-02, 3.19221970e-02,\n",
       "        1.95160419e-02, 1.19313809e-02, 7.29440171e-03],\n",
       "       [1.00000000e+00, 2.72907808e+00, 7.44786718e+00, 2.03258111e+01,\n",
       "        5.54707256e+01, 1.51383941e+02, 4.13138597e+02, 1.12748749e+03,\n",
       "        3.07700140e+03, 8.39737707e+03, 2.29170977e+04],\n",
       "       [1.00000000e+00, 7.13149195e-01, 5.08581774e-01, 3.62694683e-01,\n",
       "        2.58655421e-01, 1.84459905e-01, 1.31547433e-01, 9.38129459e-02,\n",
       "        6.69026268e-02, 4.77115545e-02, 3.40254567e-02],\n",
       "       [1.00000000e+00, 5.82820938e+00, 3.39680246e+01, 1.97972760e+02,\n",
       "        1.15382670e+03, 6.72474357e+03, 3.91932136e+04, 2.28426255e+05,\n",
       "        1.33131604e+06, 7.75918866e+06, 4.52221761e+07],\n",
       "       [1.00000000e+00, 3.78340496e+00, 1.43141531e+01, 5.41562379e+01,\n",
       "        2.04894979e+02, 7.75200680e+02, 2.93289810e+03, 1.10963412e+04,\n",
       "        4.19819524e+04, 1.58834727e+05, 6.00936095e+05],\n",
       "       [1.00000000e+00, 4.41147667e+00, 1.94611264e+01, 8.58523054e+01,\n",
       "        3.78735443e+02, 1.67078257e+03, 7.37061834e+03, 3.25153109e+04,\n",
       "        1.43440535e+05, 6.32784576e+05, 2.79151440e+06],\n",
       "       [1.00000000e+00, 5.26650799e+00, 2.77361064e+01, 1.46072426e+02,\n",
       "        7.69291601e+02, 4.05148036e+03, 2.13371537e+04, 1.12372291e+05,\n",
       "        5.91809567e+05, 3.11676981e+06, 1.64144931e+07],\n",
       "       [1.00000000e+00, 5.74505031e+00, 3.30056030e+01, 1.89618850e+02,\n",
       "        1.08936983e+03, 6.25848449e+03, 3.59553082e+04, 2.06565055e+05,\n",
       "        1.18672663e+06, 6.81780419e+06, 3.91686281e+07],\n",
       "       [1.00000000e+00, 9.18312641e+00, 8.43298106e+01, 7.74411310e+02,\n",
       "        7.11151695e+03, 6.53059591e+04, 5.99712878e+05, 5.50723916e+06,\n",
       "        5.05736734e+07, 4.64424435e+08, 4.26486830e+09],\n",
       "       [1.00000000e+00, 8.45716362e+00, 7.15236165e+01, 6.04886927e+02,\n",
       "        5.11562771e+03, 4.32637006e+04, 3.65888194e+05, 3.09437633e+06,\n",
       "        2.61696469e+07, 2.21320986e+08, 1.87174779e+09],\n",
       "       [1.00000000e+00, 3.05871425e+00, 9.35573285e+00, 2.86165134e+01,\n",
       "        8.75297371e+01, 2.67728454e+02, 8.18904837e+02, 2.50479589e+03,\n",
       "        7.66145488e+03, 2.34342012e+04, 7.16785251e+04],\n",
       "       [1.00000000e+00, 5.79636968e+00, 3.35979015e+01, 1.94745857e+02,\n",
       "        1.12881898e+03, 6.54305212e+03, 3.79259489e+04, 2.19832820e+05,\n",
       "        1.27423229e+06, 7.38592143e+06, 4.28115311e+07],\n",
       "       [1.00000000e+00, 4.59010194e+00, 2.10690358e+01, 9.67090223e+01,\n",
       "        4.43904271e+02, 2.03756586e+03, 9.35263500e+03, 4.29295481e+04,\n",
       "        1.97051002e+05, 9.04484187e+05, 4.15167462e+06],\n",
       "       [1.00000000e+00, 5.82158086e+00, 3.38908038e+01, 1.97298055e+02,\n",
       "        1.14858658e+03, 6.68658966e+03, 3.89265224e+04, 2.26613898e+05,\n",
       "        1.31925113e+06, 7.68012714e+06, 4.47104812e+07],\n",
       "       [1.00000000e+00, 9.50863742e+00, 9.04141855e+01, 8.59715708e+02,\n",
       "        8.17472495e+03, 7.77304955e+04, 7.39111098e+05, 7.02793944e+06,\n",
       "        6.68261280e+07, 6.35425421e+08, 6.04202993e+09]])"
      ]
     },
     "execution_count": 14,
     "metadata": {},
     "output_type": "execute_result"
    }
   ],
   "source": [
    "# first, construct a Vandermonde matrix\n",
    "max_order = 10\n",
    "X = np.zeros((n, max_order+1))\n",
    "for k in range(max_order+1):\n",
    "    X[:,k] = x**(k)\n",
    "X"
   ]
  },
  {
   "cell_type": "code",
   "execution_count": 15,
   "metadata": {},
   "outputs": [
    {
     "data": {
      "text/html": [
       "<div>\n",
       "<style scoped>\n",
       "    .dataframe tbody tr th:only-of-type {\n",
       "        vertical-align: middle;\n",
       "    }\n",
       "\n",
       "    .dataframe tbody tr th {\n",
       "        vertical-align: top;\n",
       "    }\n",
       "\n",
       "    .dataframe thead th {\n",
       "        text-align: right;\n",
       "    }\n",
       "</style>\n",
       "<table border=\"1\" class=\"dataframe\">\n",
       "  <thead>\n",
       "    <tr style=\"text-align: right;\">\n",
       "      <th></th>\n",
       "      <th>order0</th>\n",
       "      <th>order1</th>\n",
       "      <th>order2</th>\n",
       "      <th>order3</th>\n",
       "      <th>order4</th>\n",
       "      <th>order5</th>\n",
       "      <th>order6</th>\n",
       "      <th>order7</th>\n",
       "      <th>order8</th>\n",
       "      <th>order9</th>\n",
       "      <th>order10</th>\n",
       "    </tr>\n",
       "  </thead>\n",
       "  <tbody>\n",
       "    <tr>\n",
       "      <th>0</th>\n",
       "      <td>1.0</td>\n",
       "      <td>0.611363</td>\n",
       "      <td>0.373764</td>\n",
       "      <td>0.228506</td>\n",
       "      <td>0.139700</td>\n",
       "      <td>0.085407</td>\n",
       "      <td>0.052215</td>\n",
       "      <td>3.192220e-02</td>\n",
       "      <td>1.951604e-02</td>\n",
       "      <td>1.193138e-02</td>\n",
       "      <td>7.294402e-03</td>\n",
       "    </tr>\n",
       "    <tr>\n",
       "      <th>1</th>\n",
       "      <td>1.0</td>\n",
       "      <td>2.729078</td>\n",
       "      <td>7.447867</td>\n",
       "      <td>20.325811</td>\n",
       "      <td>55.470726</td>\n",
       "      <td>151.383941</td>\n",
       "      <td>413.138597</td>\n",
       "      <td>1.127487e+03</td>\n",
       "      <td>3.077001e+03</td>\n",
       "      <td>8.397377e+03</td>\n",
       "      <td>2.291710e+04</td>\n",
       "    </tr>\n",
       "    <tr>\n",
       "      <th>2</th>\n",
       "      <td>1.0</td>\n",
       "      <td>0.713149</td>\n",
       "      <td>0.508582</td>\n",
       "      <td>0.362695</td>\n",
       "      <td>0.258655</td>\n",
       "      <td>0.184460</td>\n",
       "      <td>0.131547</td>\n",
       "      <td>9.381295e-02</td>\n",
       "      <td>6.690263e-02</td>\n",
       "      <td>4.771155e-02</td>\n",
       "      <td>3.402546e-02</td>\n",
       "    </tr>\n",
       "    <tr>\n",
       "      <th>3</th>\n",
       "      <td>1.0</td>\n",
       "      <td>5.828209</td>\n",
       "      <td>33.968025</td>\n",
       "      <td>197.972760</td>\n",
       "      <td>1153.826696</td>\n",
       "      <td>6724.743574</td>\n",
       "      <td>39193.213595</td>\n",
       "      <td>2.284263e+05</td>\n",
       "      <td>1.331316e+06</td>\n",
       "      <td>7.759189e+06</td>\n",
       "      <td>4.522218e+07</td>\n",
       "    </tr>\n",
       "    <tr>\n",
       "      <th>4</th>\n",
       "      <td>1.0</td>\n",
       "      <td>3.783405</td>\n",
       "      <td>14.314153</td>\n",
       "      <td>54.156238</td>\n",
       "      <td>204.894979</td>\n",
       "      <td>775.200680</td>\n",
       "      <td>2932.898101</td>\n",
       "      <td>1.109634e+04</td>\n",
       "      <td>4.198195e+04</td>\n",
       "      <td>1.588347e+05</td>\n",
       "      <td>6.009361e+05</td>\n",
       "    </tr>\n",
       "    <tr>\n",
       "      <th>5</th>\n",
       "      <td>1.0</td>\n",
       "      <td>4.411477</td>\n",
       "      <td>19.461126</td>\n",
       "      <td>85.852305</td>\n",
       "      <td>378.735443</td>\n",
       "      <td>1670.782570</td>\n",
       "      <td>7370.618337</td>\n",
       "      <td>3.251531e+04</td>\n",
       "      <td>1.434405e+05</td>\n",
       "      <td>6.327846e+05</td>\n",
       "      <td>2.791514e+06</td>\n",
       "    </tr>\n",
       "    <tr>\n",
       "      <th>6</th>\n",
       "      <td>1.0</td>\n",
       "      <td>5.266508</td>\n",
       "      <td>27.736106</td>\n",
       "      <td>146.072426</td>\n",
       "      <td>769.291601</td>\n",
       "      <td>4051.480364</td>\n",
       "      <td>21337.153723</td>\n",
       "      <td>1.123723e+05</td>\n",
       "      <td>5.918096e+05</td>\n",
       "      <td>3.116770e+06</td>\n",
       "      <td>1.641449e+07</td>\n",
       "    </tr>\n",
       "    <tr>\n",
       "      <th>7</th>\n",
       "      <td>1.0</td>\n",
       "      <td>5.745050</td>\n",
       "      <td>33.005603</td>\n",
       "      <td>189.618850</td>\n",
       "      <td>1089.369832</td>\n",
       "      <td>6258.484487</td>\n",
       "      <td>35955.308230</td>\n",
       "      <td>2.065651e+05</td>\n",
       "      <td>1.186727e+06</td>\n",
       "      <td>6.817804e+06</td>\n",
       "      <td>3.916863e+07</td>\n",
       "    </tr>\n",
       "    <tr>\n",
       "      <th>8</th>\n",
       "      <td>1.0</td>\n",
       "      <td>9.183126</td>\n",
       "      <td>84.329811</td>\n",
       "      <td>774.411310</td>\n",
       "      <td>7111.516953</td>\n",
       "      <td>65305.959112</td>\n",
       "      <td>599712.877567</td>\n",
       "      <td>5.507239e+06</td>\n",
       "      <td>5.057367e+07</td>\n",
       "      <td>4.644244e+08</td>\n",
       "      <td>4.264868e+09</td>\n",
       "    </tr>\n",
       "    <tr>\n",
       "      <th>9</th>\n",
       "      <td>1.0</td>\n",
       "      <td>8.457164</td>\n",
       "      <td>71.523616</td>\n",
       "      <td>604.886927</td>\n",
       "      <td>5115.627712</td>\n",
       "      <td>43263.700567</td>\n",
       "      <td>365888.194420</td>\n",
       "      <td>3.094376e+06</td>\n",
       "      <td>2.616965e+07</td>\n",
       "      <td>2.213210e+08</td>\n",
       "      <td>1.871748e+09</td>\n",
       "    </tr>\n",
       "    <tr>\n",
       "      <th>10</th>\n",
       "      <td>1.0</td>\n",
       "      <td>3.058714</td>\n",
       "      <td>9.355733</td>\n",
       "      <td>28.616513</td>\n",
       "      <td>87.529737</td>\n",
       "      <td>267.728454</td>\n",
       "      <td>818.904837</td>\n",
       "      <td>2.504796e+03</td>\n",
       "      <td>7.661455e+03</td>\n",
       "      <td>2.343420e+04</td>\n",
       "      <td>7.167853e+04</td>\n",
       "    </tr>\n",
       "    <tr>\n",
       "      <th>11</th>\n",
       "      <td>1.0</td>\n",
       "      <td>5.796370</td>\n",
       "      <td>33.597901</td>\n",
       "      <td>194.745857</td>\n",
       "      <td>1128.818982</td>\n",
       "      <td>6543.052121</td>\n",
       "      <td>37925.948920</td>\n",
       "      <td>2.198328e+05</td>\n",
       "      <td>1.274232e+06</td>\n",
       "      <td>7.385921e+06</td>\n",
       "      <td>4.281153e+07</td>\n",
       "    </tr>\n",
       "    <tr>\n",
       "      <th>12</th>\n",
       "      <td>1.0</td>\n",
       "      <td>4.590102</td>\n",
       "      <td>21.069036</td>\n",
       "      <td>96.709022</td>\n",
       "      <td>443.904271</td>\n",
       "      <td>2037.565857</td>\n",
       "      <td>9352.634997</td>\n",
       "      <td>4.292955e+04</td>\n",
       "      <td>1.970510e+05</td>\n",
       "      <td>9.044842e+05</td>\n",
       "      <td>4.151675e+06</td>\n",
       "    </tr>\n",
       "    <tr>\n",
       "      <th>13</th>\n",
       "      <td>1.0</td>\n",
       "      <td>5.821581</td>\n",
       "      <td>33.890804</td>\n",
       "      <td>197.298055</td>\n",
       "      <td>1148.586580</td>\n",
       "      <td>6686.589656</td>\n",
       "      <td>38926.522391</td>\n",
       "      <td>2.266139e+05</td>\n",
       "      <td>1.319251e+06</td>\n",
       "      <td>7.680127e+06</td>\n",
       "      <td>4.471048e+07</td>\n",
       "    </tr>\n",
       "    <tr>\n",
       "      <th>14</th>\n",
       "      <td>1.0</td>\n",
       "      <td>9.508637</td>\n",
       "      <td>90.414186</td>\n",
       "      <td>859.715708</td>\n",
       "      <td>8174.724948</td>\n",
       "      <td>77730.495516</td>\n",
       "      <td>739111.098174</td>\n",
       "      <td>7.027939e+06</td>\n",
       "      <td>6.682613e+07</td>\n",
       "      <td>6.354254e+08</td>\n",
       "      <td>6.042030e+09</td>\n",
       "    </tr>\n",
       "  </tbody>\n",
       "</table>\n",
       "</div>"
      ],
      "text/plain": [
       "    order0    order1     order2      order3       order4        order5  \\\n",
       "0      1.0  0.611363   0.373764    0.228506     0.139700      0.085407   \n",
       "1      1.0  2.729078   7.447867   20.325811    55.470726    151.383941   \n",
       "2      1.0  0.713149   0.508582    0.362695     0.258655      0.184460   \n",
       "3      1.0  5.828209  33.968025  197.972760  1153.826696   6724.743574   \n",
       "4      1.0  3.783405  14.314153   54.156238   204.894979    775.200680   \n",
       "5      1.0  4.411477  19.461126   85.852305   378.735443   1670.782570   \n",
       "6      1.0  5.266508  27.736106  146.072426   769.291601   4051.480364   \n",
       "7      1.0  5.745050  33.005603  189.618850  1089.369832   6258.484487   \n",
       "8      1.0  9.183126  84.329811  774.411310  7111.516953  65305.959112   \n",
       "9      1.0  8.457164  71.523616  604.886927  5115.627712  43263.700567   \n",
       "10     1.0  3.058714   9.355733   28.616513    87.529737    267.728454   \n",
       "11     1.0  5.796370  33.597901  194.745857  1128.818982   6543.052121   \n",
       "12     1.0  4.590102  21.069036   96.709022   443.904271   2037.565857   \n",
       "13     1.0  5.821581  33.890804  197.298055  1148.586580   6686.589656   \n",
       "14     1.0  9.508637  90.414186  859.715708  8174.724948  77730.495516   \n",
       "\n",
       "           order6        order7        order8        order9       order10  \n",
       "0        0.052215  3.192220e-02  1.951604e-02  1.193138e-02  7.294402e-03  \n",
       "1      413.138597  1.127487e+03  3.077001e+03  8.397377e+03  2.291710e+04  \n",
       "2        0.131547  9.381295e-02  6.690263e-02  4.771155e-02  3.402546e-02  \n",
       "3    39193.213595  2.284263e+05  1.331316e+06  7.759189e+06  4.522218e+07  \n",
       "4     2932.898101  1.109634e+04  4.198195e+04  1.588347e+05  6.009361e+05  \n",
       "5     7370.618337  3.251531e+04  1.434405e+05  6.327846e+05  2.791514e+06  \n",
       "6    21337.153723  1.123723e+05  5.918096e+05  3.116770e+06  1.641449e+07  \n",
       "7    35955.308230  2.065651e+05  1.186727e+06  6.817804e+06  3.916863e+07  \n",
       "8   599712.877567  5.507239e+06  5.057367e+07  4.644244e+08  4.264868e+09  \n",
       "9   365888.194420  3.094376e+06  2.616965e+07  2.213210e+08  1.871748e+09  \n",
       "10     818.904837  2.504796e+03  7.661455e+03  2.343420e+04  7.167853e+04  \n",
       "11   37925.948920  2.198328e+05  1.274232e+06  7.385921e+06  4.281153e+07  \n",
       "12    9352.634997  4.292955e+04  1.970510e+05  9.044842e+05  4.151675e+06  \n",
       "13   38926.522391  2.266139e+05  1.319251e+06  7.680127e+06  4.471048e+07  \n",
       "14  739111.098174  7.027939e+06  6.682613e+07  6.354254e+08  6.042030e+09  "
      ]
     },
     "execution_count": 15,
     "metadata": {},
     "output_type": "execute_result"
    }
   ],
   "source": [
    "# create a pandas dataframe to view the data\n",
    "col_list = []\n",
    "for num in range(max_order + 1): \n",
    "    col_list.append(\"order\" + str(num))\n",
    "    \n",
    "df1 = pd.DataFrame(data = X, columns=col_list)\n",
    "df1"
   ]
  },
  {
   "cell_type": "code",
   "execution_count": 16,
   "metadata": {},
   "outputs": [
    {
     "name": "stdout",
     "output_type": "stream",
     "text": [
      "[-1.79481446e+00 -6.89372384e-01  1.56186211e+01 -2.17766911e+01\n",
      "  1.39209976e+01 -5.07549916e+00  1.13807320e+00 -1.59850037e-01\n",
      "  1.37058235e-02 -6.55557125e-04  1.33969977e-05]\n"
     ]
    },
    {
     "name": "stderr",
     "output_type": "stream",
     "text": [
      "<ipython-input-16-f5119545f4ce>:2: FutureWarning: `rcond` parameter will change to the default of machine precision times ``max(M, N)`` where M and N are the input matrix dimensions.\n",
      "To use the future default and silence this warning we advise to pass `rcond=None`, to keep using the old, explicitly pass `rcond=-1`.\n",
      "  w = np.linalg.lstsq(X, y)[0]\n"
     ]
    }
   ],
   "source": [
    "# solve least squares problem\n",
    "w = np.linalg.lstsq(X, y)[0]\n",
    "print(w)"
   ]
  },
  {
   "cell_type": "code",
   "execution_count": 17,
   "metadata": {},
   "outputs": [],
   "source": [
    "#computes our polynomial fit evaluated at x\n",
    "def p(x, order = max_order, w = w):\n",
    "    y = 0\n",
    "    for k in range(order+1):\n",
    "        y += w[k]*x**k\n",
    "    return np.array(y)"
   ]
  },
  {
   "cell_type": "code",
   "execution_count": 18,
   "metadata": {},
   "outputs": [
    {
     "data": {
      "image/png": "[encoded data removed]",
      "text/plain": [
       "<Figure size 432x288 with 1 Axes>"
      ]
     },
     "metadata": {
      "needs_background": "light"
     },
     "output_type": "display_data"
    }
   ],
   "source": [
    "# plot fit\n",
    "plotdata()\n",
    "plotfunc(p, xmin=0, xmax=10)"
   ]
  },
  {
   "cell_type": "markdown",
   "metadata": {},
   "source": [
    "Is this a good model? Would you trust this model to make predictions on new inputs $x$?\n",
    "\n",
    "* (A) yes \n",
    "* (B) no"
   ]
  },
  {
   "cell_type": "code",
   "execution_count": 19,
   "metadata": {},
   "outputs": [
    {
     "data": {
      "text/plain": [
       "<matplotlib.collections.PathCollection at 0x7ff3c47a8ee0>"
      ]
     },
     "execution_count": 19,
     "metadata": {},
     "output_type": "execute_result"
    },
    {
     "data": {
      "image/png": "[encoded data removed]",
      "text/plain": [
       "<Figure size 432x288 with 1 Axes>"
      ]
     },
     "metadata": {
      "needs_background": "light"
     },
     "output_type": "display_data"
    }
   ],
   "source": [
    "# plot fit on out of sample data\n",
    "plotdata()\n",
    "plotfunc(p, xmin=0, xmax=10)\n",
    "\n",
    "xtest,ytest = sample_data(100)\n",
    "plt.scatter(xtest,ytest,label=\"test\")"
   ]
  },
  {
   "cell_type": "markdown",
   "metadata": {},
   "source": [
    "# Choosing the best model order"
   ]
  },
  {
   "cell_type": "code",
   "execution_count": 20,
   "metadata": {},
   "outputs": [
    {
     "name": "stderr",
     "output_type": "stream",
     "text": [
      "<ipython-input-20-b4aa13a756b0>:15: FutureWarning: `rcond` parameter will change to the default of machine precision times ``max(M, N)`` where M and N are the input matrix dimensions.\n",
      "To use the future default and silence this warning we advise to pass `rcond=None`, to keep using the old, explicitly pass `rcond=-1`.\n",
      "  w = np.linalg.lstsq(X, y)[0]\n"
     ]
    },
    {
     "data": {
      "text/plain": [
       "array([0.53065397, 0.09289297, 0.09156674, 0.0930046 , 0.11046556,\n",
       "       0.10603943, 0.3701449 , 0.38818205, 0.42281022, 0.46344639,\n",
       "       0.43179525])"
      ]
     },
     "execution_count": 20,
     "metadata": {},
     "output_type": "execute_result"
    }
   ],
   "source": [
    "max_model_order = 10\n",
    "rmse = np.zeros(max_model_order+1)       # array to store root mean square model errors\n",
    "rmse_train = np.zeros(max_model_order+1) # array to store root mean square model errors on training set\n",
    "xtest,ytest = sample_data(50)   # generate test set\n",
    "Y = y[None, ].T\n",
    "\n",
    "for model_order in range(max_model_order+1):\n",
    "    # form Vandermonde matrix\n",
    "    X = np.zeros((n, model_order+1))\n",
    "    for k in range(model_order+1):\n",
    "        X[:,k] = x**k\n",
    "    \n",
    "    # solve least squares problem\n",
    "    w = np.linalg.lstsq(X, y)[0]\n",
    "    \n",
    "    # compute training error \n",
    "    rmse_train[model_order] = np.mean(np.abs(Y - X@w[None, ].T)) # sqrt(mean((y - X*w).^2))\n",
    "    \n",
    "    # compute test error\n",
    "    ptest = np.array([p(x, order=model_order, w=w) for x in xtest])\n",
    "    rmse[model_order] = np.mean(np.abs(ytest - ptest)) # sqrt(mean((ytest - ptest).^2))\n",
    "rmse"
   ]
  },
  {
   "cell_type": "code",
   "execution_count": 27,
   "metadata": {
    "scrolled": true
   },
   "outputs": [
    {
     "data": {
      "text/plain": [
       "Text(0, 0.5, 'rmse')"
      ]
     },
     "execution_count": 27,
     "metadata": {},
     "output_type": "execute_result"
    },
    {
     "data": {
      "image/png": "[encoded data removed]",
      "text/plain": [
       "<Figure size 432x288 with 1 Axes>"
      ]
     },
     "metadata": {
      "needs_background": "light"
     },
     "output_type": "display_data"
    }
   ],
   "source": [
    "plt.plot(range(max_model_order+1),rmse, label=\"test error\")\n",
    "plt.plot(range(max_model_order+1),rmse_train, label=\"train error\")\n",
    "plt.xticks(np.arange(0,10,step=1.0))\n",
    "plt.xlabel(\"model order\")\n",
    "plt.ylabel(\"rmse\")"
   ]
  },
  {
   "cell_type": "markdown",
   "metadata": {},
   "source": [
    "# Polynomial models for classification"
   ]
  },
  {
   "cell_type": "code",
   "execution_count": 52,
   "metadata": {},
   "outputs": [
    {
     "data": {
      "text/plain": [
       "<matplotlib.collections.PathCollection at 0x7ff3c4f157c0>"
      ]
     },
     "execution_count": 52,
     "metadata": {},
     "output_type": "execute_result"
    },
    {
     "data": {
      "image/png": "[encoded data removed]",
      "text/plain": [
       "<Figure size 432x288 with 1 Axes>"
      ]
     },
     "metadata": {
      "needs_background": "light"
     },
     "output_type": "display_data"
    }
   ],
   "source": [
    "random.seed(0)\n",
    "n = 20\n",
    "xs = 10*(np.random.rand(n) - .5)\n",
    "ys = (xs)**2\n",
    "pos = (xs - 1)**2 >= 7\n",
    "zn=np.zeros(n)\n",
    "pt = plt.scatter(xs[pos],zn[pos],color=\"blue\", label=\"positive\")\n",
    "plt.scatter(xs[~pos],zn[~pos],color=\"red\", label=\"negative\")\n",
    "plt.plot([-2,-2], [-1,1], color=\"black\", label=\"classification boundary\")#, ticks=:none, border=:none, legend=false)\n",
    "plt.ylim([-1,1])\n",
    "plt.grid()\n",
    "# savefig(\"poly-class-1d.pdf\")\n",
    "pt"
   ]
  },
  {
   "cell_type": "code",
   "execution_count": 51,
   "metadata": {},
   "outputs": [
    {
     "data": {
      "text/plain": [
       "<matplotlib.collections.PathCollection at 0x7ff3c4db7670>"
      ]
     },
     "execution_count": 51,
     "metadata": {},
     "output_type": "execute_result"
    },
    {
     "data": {
      "image/png": "[encoded data removed]",
      "text/plain": [
       "<Figure size 432x288 with 1 Axes>"
      ]
     },
     "metadata": {
      "needs_background": "light"
     },
     "output_type": "display_data"
    }
   ],
   "source": [
    "pt = plt.scatter(xs[pos],ys[pos],color=\"blue\", label=\"positive\")\n",
    "plt.scatter(xs[~pos],ys[~pos],color=\"red\", label=\"negative\")\n",
    "plt.plot(xs, 1.5*xs + 7, color=\"black\", label=\"classification boundary\")\n",
    "plt.grid()\n",
    "# savefig(\"poly-class-2d.pdf\")\n",
    "pt"
   ]
  },
  {
   "cell_type": "code",
   "execution_count": null,
   "metadata": {},
   "outputs": [],
   "source": [
    "# Example 1: multivariate polynomial classification \n",
    "n = 1000\n",
    "scale = 50\n",
    "x1 = scale*np.random.rand(n) - scale/2\n",
    "x2 = scale*np.random.rand(n) - scale/2\n",
    "f = lambda x1, x2: -30 - 9*x1 + 2*x2 + x1**2 - 0*x1*x2 + x2**2\n",
    "y = f(x1,x2)\n",
    "pos = y>0\n",
    "neg = y<0"
   ]
  },
  {
   "cell_type": "code",
   "execution_count": 66,
   "metadata": {},
   "outputs": [
    {
     "data": {
      "text/plain": [
       "<matplotlib.legend.Legend at 0x7ff3c59b5e50>"
      ]
     },
     "execution_count": 66,
     "metadata": {},
     "output_type": "execute_result"
    },
    {
     "data": {
      "image/png": "[encoded data removed]",
      "text/plain": [
       "<Figure size 432x288 with 1 Axes>"
      ]
     },
     "metadata": {
      "needs_background": "light"
     },
     "output_type": "display_data"
    }
   ],
   "source": [
    "plt.scatter(x1[pos], x2[pos], color=\"blue\", s=4, label='y1')\n",
    "plt.scatter(x1[neg], x2[neg], color=\"red\", s=4, label='y2')\n",
    "plt.legend(loc=\"upper right\")"
   ]
  },
  {
   "cell_type": "code",
   "execution_count": 69,
   "metadata": {},
   "outputs": [
    {
     "data": {
      "text/plain": [
       "<matplotlib.legend.Legend at 0x7ff3c5db6280>"
      ]
     },
     "execution_count": 69,
     "metadata": {},
     "output_type": "execute_result"
    },
    {
     "data": {
      "image/png": "[encoded data removed]",
      "text/plain": [
       "<Figure size 432x288 with 1 Axes>"
      ]
     },
     "metadata": {
      "needs_background": "light"
     },
     "output_type": "display_data"
    }
   ],
   "source": [
    "# Example 2: multivariate polynomial classification \n",
    "n = 1000\n",
    "scale = 10\n",
    "x1 = scale*np.random.rand(n) - scale/2\n",
    "x2 = scale*np.random.rand(n) - scale/2\n",
    "f = lambda x1, x2: -5 - 3*x1 + 2*x2 + x1**2 - x1*x2 + 5*x2**2\n",
    "y = f(x1,x2)\n",
    "pos = y>0\n",
    "neg = y<0\n",
    "\n",
    "plt.scatter(x1[pos], x2[pos], s=4, color=\"blue\", label=\"y1\")\n",
    "plt.scatter(x1[neg], x2[neg], s=4, color=\"red\", label=\"y2\")\n",
    "plt.legend(loc=\"upper right\")"
   ]
  },
  {
   "cell_type": "code",
   "execution_count": 70,
   "metadata": {},
   "outputs": [
    {
     "data": {
      "text/plain": [
       "<matplotlib.legend.Legend at 0x7ff3c5f92b20>"
      ]
     },
     "execution_count": 70,
     "metadata": {},
     "output_type": "execute_result"
    },
    {
     "data": {
      "image/png": "[encoded data removed]",
      "text/plain": [
       "<Figure size 432x288 with 1 Axes>"
      ]
     },
     "metadata": {
      "needs_background": "light"
     },
     "output_type": "display_data"
    }
   ],
   "source": [
    "# Example 3: multivariate polynomial classification \n",
    "n = 1000\n",
    "scale = 20\n",
    "x1 = scale*np.random.rand(n) - scale/2\n",
    "x2 = scale*np.random.rand(n) - scale/2\n",
    "f = lambda x1, x2: -5 - 3*x1 + 2*x2 + x1**2 - x1*x2 - 2*x2**2\n",
    "y = f(x1,x2)\n",
    "pos = y>0\n",
    "neg = y<0\n",
    "\n",
    "plt.scatter(x1[pos], x2[pos], color=\"blue\", s=4, label=\"y1\")\n",
    "plt.scatter(x1[neg], x2[neg], color=\"red\", s=4, label=\"y2\")\n",
    "plt.legend(loc=\"upper right\")"
   ]
  }
 ],
 "metadata": {
  "kernelspec": {
   "display_name": "Python 3",
   "language": "python",
   "name": "python3"
  },
  "language_info": {
   "codemirror_mode": {
    "name": "ipython",
    "version": 3
   },
   "file_extension": ".py",
   "mimetype": "text/x-python",
   "name": "python",
   "nbconvert_exporter": "python",
   "pygments_lexer": "ipython3",
   "version": "3.8.5"
  }
 },
 "nbformat": 4,
 "nbformat_minor": 4
}
