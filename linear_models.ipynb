{
 "cells": [
  {
   "cell_type": "code",
   "execution_count": 1,
   "metadata": {},
   "outputs": [],
   "source": [
    "# math \n",
    "import numpy as np\n",
    "\n",
    "# random\n",
    "import random\n",
    "from numpy.random import rand, randn\n",
    "\n",
    "# dataframes\n",
    "import pandas as pd\n",
    "\n",
    "# plotting\n",
    "import matplotlib.pyplot as plt\n",
    "# linear regression two ways\n",
    "import statsmodels.api as sm\n",
    "from sklearn.linear_model import LinearRegression\n",
    "\n",
    "# pytorch utils\n",
    "import torch\n",
    "from torch import optim\n",
    "import torch.nn as nn\n",
    "import torch.nn.functional as F\n",
    "\n",
    "torch.manual_seed(324891)\n",
    "\n",
    "from patsy import dmatrices"
   ]
  },
  {
   "cell_type": "code",
   "execution_count": 2,
   "metadata": {},
   "outputs": [],
   "source": [
    "# plot line y = w*x+b\n",
    "def plotline(w,b, xmin=-100,xmax=100,nsamples=100,label=''):\n",
    "    x = np.linspace(xmin, xmax, nsamples)\n",
    "    y = w * x + b\n",
    "    plt.plot(x, y, color='k', label=label)\n",
    "    plt.legend(loc=\"upper left\")\n",
    "    plt.grid()"
   ]
  },
  {
   "cell_type": "code",
   "execution_count": 3,
   "metadata": {},
   "outputs": [],
   "source": [
    "# plot function y = f(x)\n",
    "def plotfunc(f, xmin=-100,xmax=100,nsamples=100,label=\"\"):\n",
    "    x = np.linspace(xmin, xmax, nsamples)\n",
    "    y = f(x)\n",
    "    plt.plot(x, y, color='k', label=label)\n",
    "    plt.legend(loc=\"upper left\")\n",
    "    plt.grid()"
   ]
  },
  {
   "cell_type": "code",
   "execution_count": 4,
   "metadata": {},
   "outputs": [
    {
     "data": {
      "image/png": "[encoded data removed]",
      "text/plain": [
       "<Figure size 432x288 with 1 Axes>"
      ]
     },
     "metadata": {
      "needs_background": "light"
     },
     "output_type": "display_data"
    }
   ],
   "source": [
    "# Generate and plot data\n",
    "random.seed(1)\n",
    "n = 15\n",
    "def sample_data(num_points):\n",
    "    x = rand(num_points)*10\n",
    "    y = .2 + .2*x + .1*np.sin(x) + .1*randn(num_points) - .01*((x-5)/6)**4\n",
    "    return x,y\n",
    "\n",
    "x,y = sample_data(n)\n",
    "\n",
    "\n",
    "def plotdata(x=x,y=y, margin=.05):\n",
    "    plt.scatter(x,y, label=\"data\")\n",
    "    plt.legend(loc=\"upper left\")\n",
    "    plt.xlabel(\"x\") \n",
    "    plt.ylabel(\"y\")     \n",
    "    range_y = np.max(y) - np.min(y)\n",
    "    range_x = np.max(x) - np.min(x)\n",
    "    plt.ylim([np.min(y)-margin*range_y,np.max(y)+margin*range_y])\n",
    "    plt.xlim([np.min(x)-margin*range_x,np.max(x)+margin*range_x])\n",
    "    \n",
    "plotdata()\n",
    "plt.show()"
   ]
  },
  {
   "cell_type": "markdown",
   "metadata": {},
   "source": [
    "# Approximating with the mean"
   ]
  },
  {
   "cell_type": "code",
   "execution_count": 5,
   "metadata": {},
   "outputs": [
    {
     "name": "stderr",
     "output_type": "stream",
     "text": [
      "<ipython-input-5-6dd8b0414b56>:3: FutureWarning: `rcond` parameter will change to the default of machine precision times ``max(M, N)`` where M and N are the input matrix dimensions.\n",
      "To use the future default and silence this warning we advise to pass `rcond=None`, to keep using the old, explicitly pass `rcond=-1`.\n",
      "  w = np.linalg.lstsq(X, y)[0]\n"
     ]
    }
   ],
   "source": [
    "# the mean solves a very simple least squares problem:\n",
    "X = np.ones((n,1))\n",
    "w = np.linalg.lstsq(X, y)[0]"
   ]
  },
  {
   "cell_type": "code",
   "execution_count": 6,
   "metadata": {},
   "outputs": [
    {
     "data": {
      "text/plain": [
       "4.440892098500626e-16"
      ]
     },
     "execution_count": 6,
     "metadata": {},
     "output_type": "execute_result"
    }
   ],
   "source": [
    "# check the solution to our least squares problem is the mean\n",
    "np.abs(np.mean(y) - w[0])"
   ]
  },
  {
   "cell_type": "code",
   "execution_count": 7,
   "metadata": {},
   "outputs": [
    {
     "data": {
      "image/png": "[encoded data removed]",
      "text/plain": [
       "<Figure size 432x288 with 1 Axes>"
      ]
     },
     "metadata": {
      "needs_background": "light"
     },
     "output_type": "display_data"
    }
   ],
   "source": [
    "# plot the fit\n",
    "plotdata()\n",
    "plotline(0, w[0], label=\"mean\")\n",
    "plt.show()"
   ]
  },
  {
   "cell_type": "markdown",
   "metadata": {},
   "source": [
    "Is this a good model? Would you trust this model to make predictions on new inputs $x$?\n",
    "\n",
    "* (A) yes \n",
    "* (B) no"
   ]
  },
  {
   "cell_type": "markdown",
   "metadata": {},
   "source": [
    "# Approximating with a line"
   ]
  },
  {
   "cell_type": "code",
   "execution_count": 8,
   "metadata": {},
   "outputs": [
    {
     "name": "stdout",
     "output_type": "stream",
     "text": [
      "[[9.17659925 1.        ]\n",
      " [4.24967857 1.        ]\n",
      " [7.06935241 1.        ]\n",
      " [7.07887648 1.        ]\n",
      " [3.38401498 1.        ]\n",
      " [7.95169275 1.        ]\n",
      " [8.62593866 1.        ]\n",
      " [7.9695171  1.        ]\n",
      " [7.50184653 1.        ]\n",
      " [3.18196031 1.        ]\n",
      " [7.97680959 1.        ]\n",
      " [7.27168596 1.        ]\n",
      " [3.31760262 1.        ]\n",
      " [0.80455804 1.        ]\n",
      " [0.72390102 1.        ]]\n"
     ]
    }
   ],
   "source": [
    "X = np.column_stack([x, np.ones(n)])\n",
    "print(X)"
   ]
  },
  {
   "cell_type": "markdown",
   "metadata": {},
   "source": [
    "# How to fit a least squares model\n",
    "There are many ways to fit a least squares model in python!\n",
    "1. QR decomposition + `scipy.linalg.solve`\n",
    "2. `numpy.linalg.lstsq`\n",
    "3. `statsmodels.OLS`\n",
    "4. `sklearn.LinearRegression()`"
   ]
  },
  {
   "cell_type": "code",
   "execution_count": 9,
   "metadata": {},
   "outputs": [
    {
     "data": {
      "text/plain": [
       "array([0.22555996, 0.11083929])"
      ]
     },
     "execution_count": 9,
     "metadata": {},
     "output_type": "execute_result"
    }
   ],
   "source": [
    "# method 0: scipy\n",
    "from scipy.linalg import qr, solve\n",
    "Q,R = qr(X, mode='economic')\n",
    "w = solve(R, Q.T @ y)\n",
    "w"
   ]
  },
  {
   "cell_type": "code",
   "execution_count": 10,
   "metadata": {},
   "outputs": [
    {
     "name": "stderr",
     "output_type": "stream",
     "text": [
      "<ipython-input-10-4844ed0cbb71>:2: FutureWarning: `rcond` parameter will change to the default of machine precision times ``max(M, N)`` where M and N are the input matrix dimensions.\n",
      "To use the future default and silence this warning we advise to pass `rcond=None`, to keep using the old, explicitly pass `rcond=-1`.\n",
      "  w = np.linalg.lstsq(X, y)[0]\n"
     ]
    },
    {
     "data": {
      "text/plain": [
       "array([0.22555996, 0.11083929])"
      ]
     },
     "execution_count": 10,
     "metadata": {},
     "output_type": "execute_result"
    }
   ],
   "source": [
    "# method 1: numpy\n",
    "w = np.linalg.lstsq(X, y)[0]\n",
    "w"
   ]
  },
  {
   "cell_type": "code",
   "execution_count": 11,
   "metadata": {},
   "outputs": [
    {
     "data": {
      "text/plain": [
       "array([0.22555996, 0.11083929])"
      ]
     },
     "execution_count": 11,
     "metadata": {},
     "output_type": "execute_result"
    }
   ],
   "source": [
    "# method 2: statsmodels\n",
    "model = sm.OLS(y, X).fit()\n",
    "w = model.params\n",
    "w"
   ]
  },
  {
   "cell_type": "code",
   "execution_count": 12,
   "metadata": {},
   "outputs": [
    {
     "data": {
      "text/plain": [
       "array([0.22555996, 0.11083929])"
      ]
     },
     "execution_count": 12,
     "metadata": {},
     "output_type": "execute_result"
    }
   ],
   "source": [
    "# method 3: sklearn\n",
    "model = LinearRegression().fit(x[None,].T,y)\n",
    "w = np.array([model.coef_[0], model.intercept_])\n",
    "w"
   ]
  },
  {
   "cell_type": "markdown",
   "metadata": {},
   "source": [
    "Below we have to do some work to reconcile the default types of NumPy and PyTorch. Note that NumPy will default to float64 on a 64-bit system. PyTorch models default to float32 as GPUs can do up to 64x the operations per clock cycle than when using float64. [CUDA operations per cycle comparison](https://docs.nvidia.com/cuda/cuda-c-programming-guide/index.html#arithmetic-instructions)"
   ]
  },
  {
   "cell_type": "code",
   "execution_count": 13,
   "metadata": {},
   "outputs": [
    {
     "data": {
      "text/plain": [
       "array([0.19833243, 0.2257532 ], dtype=float32)"
      ]
     },
     "execution_count": 13,
     "metadata": {},
     "output_type": "execute_result"
    }
   ],
   "source": [
    "# method 4: PyTorch via SGD\n",
    "\n",
    "def TorchLinRegModel(n : int = 2):\n",
    "    \"\"\"Create a simple linear regression model in PyTorch. Note that\n",
    "    we're manually including the bias in this demo.\"\"\"\n",
    "    return nn.Linear(in_features=n, out_features=1, bias=False)\n",
    "\n",
    "model = TorchLinRegModel()\n",
    "model.zero_grad()\n",
    "optimizer = optim.SGD(model.parameters(), lr=5e-6)\n",
    "loss_function = nn.MSELoss()\n",
    "\n",
    "n_epochs = 5000\n",
    "batch_size = 8\n",
    "\n",
    "for epoch in range(n_epochs):\n",
    "    # let's do a random order after converting to a torch array\n",
    "    shuffled_indices = torch.randperm(x.shape[0])\n",
    "    for batch in range(0, x.shape[0], batch_size):\n",
    "        sample_idxs = shuffled_indices[batch:batch+batch_size]\n",
    "        \n",
    "        # PyTorch accumulates gradients everytime we calculate\n",
    "        # them. So, we need to clear gradient updates that existed \n",
    "        # before we updated our model.\n",
    "        optimizer.zero_grad()\n",
    "        \n",
    "        # Read minibatch data. PyTorch models default to float32  \n",
    "        # so we need to convert from double precision to float32\n",
    "        tensor = torch.from_numpy(X[sample_idxs, :]).float()\n",
    "        output = model(tensor)\n",
    "        \n",
    "        batch_labels = torch.from_numpy(y[sample_idxs]).float()\n",
    "        batch_labels = batch_labels.view(-1, 1)\n",
    "        \n",
    "        # loss.backward() calculates the gradient of the loss with\n",
    "        # respect to the weights\n",
    "        loss = loss_function(output, batch_labels)\n",
    "        loss.backward()\n",
    "        \n",
    "        # optimizer.step() moves in the direction of the gradient\n",
    "        # based on the learning rate (i.e. step size)\n",
    "        optimizer.step()\n",
    "        \n",
    "        \n",
    "w = list(model.parameters())[0][0].detach().numpy()\n",
    "w"
   ]
  },
  {
   "cell_type": "code",
   "execution_count": 14,
   "metadata": {},
   "outputs": [
    {
     "data": {
      "image/png": "[encoded data removed]",
      "text/plain": [
       "<Figure size 432x288 with 1 Axes>"
      ]
     },
     "metadata": {
      "needs_background": "light"
     },
     "output_type": "display_data"
    }
   ],
   "source": [
    "# plot the fit\n",
    "plotdata()\n",
    "plotline(w[0], w[1], label=\"linear fit\")"
   ]
  },
  {
   "cell_type": "markdown",
   "metadata": {},
   "source": [
    "Is this a good model? Would you trust this model to make predictions on new inputs $x$?\n",
    "\n",
    "* (A) yes \n",
    "* (B) no"
   ]
  },
  {
   "cell_type": "code",
   "execution_count": 15,
   "metadata": {},
   "outputs": [
    {
     "data": {
      "text/plain": [
       "<matplotlib.collections.PathCollection at 0x1255673a0>"
      ]
     },
     "execution_count": 15,
     "metadata": {},
     "output_type": "execute_result"
    },
    {
     "data": {
      "image/png": "[encoded data removed]",
      "text/plain": [
       "<Figure size 432x288 with 1 Axes>"
      ]
     },
     "metadata": {
      "needs_background": "light"
     },
     "output_type": "display_data"
    }
   ],
   "source": [
    "# plot fit on out of sample data\n",
    "plotdata()\n",
    "plotline(w[0], w[1])\n",
    "\n",
    "xtest,ytest = sample_data(20)\n",
    "plt.scatter(xtest,ytest,label=\"test\")"
   ]
  },
  {
   "cell_type": "markdown",
   "metadata": {},
   "source": [
    "# Approximating with a polynomial"
   ]
  },
  {
   "cell_type": "code",
   "execution_count": 16,
   "metadata": {},
   "outputs": [
    {
     "data": {
      "text/html": [
       "<div>\n",
       "<style scoped>\n",
       "    .dataframe tbody tr th:only-of-type {\n",
       "        vertical-align: middle;\n",
       "    }\n",
       "\n",
       "    .dataframe tbody tr th {\n",
       "        vertical-align: top;\n",
       "    }\n",
       "\n",
       "    .dataframe thead th {\n",
       "        text-align: right;\n",
       "    }\n",
       "</style>\n",
       "<table border=\"1\" class=\"dataframe\">\n",
       "  <thead>\n",
       "    <tr style=\"text-align: right;\">\n",
       "      <th></th>\n",
       "      <th>order0</th>\n",
       "      <th>order1</th>\n",
       "      <th>order2</th>\n",
       "      <th>order3</th>\n",
       "      <th>order4</th>\n",
       "      <th>order5</th>\n",
       "      <th>order6</th>\n",
       "      <th>order7</th>\n",
       "      <th>order8</th>\n",
       "      <th>order9</th>\n",
       "      <th>order10</th>\n",
       "    </tr>\n",
       "  </thead>\n",
       "  <tbody>\n",
       "    <tr>\n",
       "      <th>0</th>\n",
       "      <td>1.0</td>\n",
       "      <td>9.176599</td>\n",
       "      <td>84.209974</td>\n",
       "      <td>772.761183</td>\n",
       "      <td>7091.319698</td>\n",
       "      <td>65074.199043</td>\n",
       "      <td>597159.846359</td>\n",
       "      <td>5.479897e+06</td>\n",
       "      <td>5.028682e+07</td>\n",
       "      <td>4.614619e+08</td>\n",
       "      <td>4.234651e+09</td>\n",
       "    </tr>\n",
       "    <tr>\n",
       "      <th>1</th>\n",
       "      <td>1.0</td>\n",
       "      <td>4.249679</td>\n",
       "      <td>18.059768</td>\n",
       "      <td>76.748209</td>\n",
       "      <td>326.155217</td>\n",
       "      <td>1386.054836</td>\n",
       "      <td>5890.287529</td>\n",
       "      <td>2.503183e+04</td>\n",
       "      <td>1.063772e+05</td>\n",
       "      <td>4.520690e+05</td>\n",
       "      <td>1.921148e+06</td>\n",
       "    </tr>\n",
       "    <tr>\n",
       "      <th>2</th>\n",
       "      <td>1.0</td>\n",
       "      <td>7.069352</td>\n",
       "      <td>49.975744</td>\n",
       "      <td>353.296143</td>\n",
       "      <td>2497.574940</td>\n",
       "      <td>17656.237422</td>\n",
       "      <td>124818.164588</td>\n",
       "      <td>8.823836e+05</td>\n",
       "      <td>6.237881e+06</td>\n",
       "      <td>4.409778e+07</td>\n",
       "      <td>3.117427e+08</td>\n",
       "    </tr>\n",
       "    <tr>\n",
       "      <th>3</th>\n",
       "      <td>1.0</td>\n",
       "      <td>7.078876</td>\n",
       "      <td>50.110492</td>\n",
       "      <td>354.725985</td>\n",
       "      <td>2511.061434</td>\n",
       "      <td>17775.493728</td>\n",
       "      <td>125830.524514</td>\n",
       "      <td>8.907387e+05</td>\n",
       "      <td>6.305430e+06</td>\n",
       "      <td>4.463536e+07</td>\n",
       "      <td>3.159682e+08</td>\n",
       "    </tr>\n",
       "    <tr>\n",
       "      <th>4</th>\n",
       "      <td>1.0</td>\n",
       "      <td>3.384015</td>\n",
       "      <td>11.451557</td>\n",
       "      <td>38.752242</td>\n",
       "      <td>131.138166</td>\n",
       "      <td>443.773518</td>\n",
       "      <td>1501.736232</td>\n",
       "      <td>5.081898e+03</td>\n",
       "      <td>1.719722e+04</td>\n",
       "      <td>5.819565e+04</td>\n",
       "      <td>1.969349e+05</td>\n",
       "    </tr>\n",
       "    <tr>\n",
       "      <th>5</th>\n",
       "      <td>1.0</td>\n",
       "      <td>7.951693</td>\n",
       "      <td>63.229418</td>\n",
       "      <td>502.780902</td>\n",
       "      <td>3997.959250</td>\n",
       "      <td>31790.543587</td>\n",
       "      <td>252788.634980</td>\n",
       "      <td>2.010098e+06</td>\n",
       "      <td>1.598368e+07</td>\n",
       "      <td>1.270973e+08</td>\n",
       "      <td>1.010639e+09</td>\n",
       "    </tr>\n",
       "    <tr>\n",
       "      <th>6</th>\n",
       "      <td>1.0</td>\n",
       "      <td>8.625939</td>\n",
       "      <td>74.406818</td>\n",
       "      <td>641.828646</td>\n",
       "      <td>5536.374532</td>\n",
       "      <td>47756.427120</td>\n",
       "      <td>411944.011000</td>\n",
       "      <td>3.553404e+06</td>\n",
       "      <td>3.065144e+07</td>\n",
       "      <td>2.643975e+08</td>\n",
       "      <td>2.280676e+09</td>\n",
       "    </tr>\n",
       "    <tr>\n",
       "      <th>7</th>\n",
       "      <td>1.0</td>\n",
       "      <td>7.969517</td>\n",
       "      <td>63.513203</td>\n",
       "      <td>506.169557</td>\n",
       "      <td>4033.926938</td>\n",
       "      <td>32148.449728</td>\n",
       "      <td>256207.619963</td>\n",
       "      <td>2.041851e+06</td>\n",
       "      <td>1.627257e+07</td>\n",
       "      <td>1.296845e+08</td>\n",
       "      <td>1.033523e+09</td>\n",
       "    </tr>\n",
       "    <tr>\n",
       "      <th>8</th>\n",
       "      <td>1.0</td>\n",
       "      <td>7.501847</td>\n",
       "      <td>56.277701</td>\n",
       "      <td>422.186678</td>\n",
       "      <td>3167.179664</td>\n",
       "      <td>23759.695759</td>\n",
       "      <td>178241.591090</td>\n",
       "      <td>1.337141e+06</td>\n",
       "      <td>1.003103e+07</td>\n",
       "      <td>7.525123e+07</td>\n",
       "      <td>5.645231e+08</td>\n",
       "    </tr>\n",
       "    <tr>\n",
       "      <th>9</th>\n",
       "      <td>1.0</td>\n",
       "      <td>3.181960</td>\n",
       "      <td>10.124871</td>\n",
       "      <td>32.216939</td>\n",
       "      <td>102.513021</td>\n",
       "      <td>326.192364</td>\n",
       "      <td>1037.931157</td>\n",
       "      <td>3.302656e+03</td>\n",
       "      <td>1.050892e+04</td>\n",
       "      <td>3.343896e+04</td>\n",
       "      <td>1.064015e+05</td>\n",
       "    </tr>\n",
       "    <tr>\n",
       "      <th>10</th>\n",
       "      <td>1.0</td>\n",
       "      <td>7.976810</td>\n",
       "      <td>63.629491</td>\n",
       "      <td>507.560336</td>\n",
       "      <td>4048.712152</td>\n",
       "      <td>32295.805912</td>\n",
       "      <td>257617.494262</td>\n",
       "      <td>2.054966e+06</td>\n",
       "      <td>1.639207e+07</td>\n",
       "      <td>1.307564e+08</td>\n",
       "      <td>1.043019e+09</td>\n",
       "    </tr>\n",
       "    <tr>\n",
       "      <th>11</th>\n",
       "      <td>1.0</td>\n",
       "      <td>7.271686</td>\n",
       "      <td>52.877417</td>\n",
       "      <td>384.507969</td>\n",
       "      <td>2796.021201</td>\n",
       "      <td>20331.788116</td>\n",
       "      <td>147846.378232</td>\n",
       "      <td>1.075092e+06</td>\n",
       "      <td>7.817735e+06</td>\n",
       "      <td>5.684811e+07</td>\n",
       "      <td>4.133816e+08</td>\n",
       "    </tr>\n",
       "    <tr>\n",
       "      <th>12</th>\n",
       "      <td>1.0</td>\n",
       "      <td>3.317603</td>\n",
       "      <td>11.006487</td>\n",
       "      <td>36.515150</td>\n",
       "      <td>121.142759</td>\n",
       "      <td>401.903533</td>\n",
       "      <td>1333.356211</td>\n",
       "      <td>4.423546e+03</td>\n",
       "      <td>1.467557e+04</td>\n",
       "      <td>4.868770e+04</td>\n",
       "      <td>1.615264e+05</td>\n",
       "    </tr>\n",
       "    <tr>\n",
       "      <th>13</th>\n",
       "      <td>1.0</td>\n",
       "      <td>0.804558</td>\n",
       "      <td>0.647314</td>\n",
       "      <td>0.520801</td>\n",
       "      <td>0.419015</td>\n",
       "      <td>0.337122</td>\n",
       "      <td>0.271234</td>\n",
       "      <td>2.182236e-01</td>\n",
       "      <td>1.755735e-01</td>\n",
       "      <td>1.412591e-01</td>\n",
       "      <td>1.136511e-01</td>\n",
       "    </tr>\n",
       "    <tr>\n",
       "      <th>14</th>\n",
       "      <td>1.0</td>\n",
       "      <td>0.723901</td>\n",
       "      <td>0.524033</td>\n",
       "      <td>0.379348</td>\n",
       "      <td>0.274610</td>\n",
       "      <td>0.198791</td>\n",
       "      <td>0.143905</td>\n",
       "      <td>1.041728e-01</td>\n",
       "      <td>7.541080e-02</td>\n",
       "      <td>5.458995e-02</td>\n",
       "      <td>3.951772e-02</td>\n",
       "    </tr>\n",
       "  </tbody>\n",
       "</table>\n",
       "</div>"
      ],
      "text/plain": [
       "    order0    order1     order2      order3       order4        order5  \\\n",
       "0      1.0  9.176599  84.209974  772.761183  7091.319698  65074.199043   \n",
       "1      1.0  4.249679  18.059768   76.748209   326.155217   1386.054836   \n",
       "2      1.0  7.069352  49.975744  353.296143  2497.574940  17656.237422   \n",
       "3      1.0  7.078876  50.110492  354.725985  2511.061434  17775.493728   \n",
       "4      1.0  3.384015  11.451557   38.752242   131.138166    443.773518   \n",
       "5      1.0  7.951693  63.229418  502.780902  3997.959250  31790.543587   \n",
       "6      1.0  8.625939  74.406818  641.828646  5536.374532  47756.427120   \n",
       "7      1.0  7.969517  63.513203  506.169557  4033.926938  32148.449728   \n",
       "8      1.0  7.501847  56.277701  422.186678  3167.179664  23759.695759   \n",
       "9      1.0  3.181960  10.124871   32.216939   102.513021    326.192364   \n",
       "10     1.0  7.976810  63.629491  507.560336  4048.712152  32295.805912   \n",
       "11     1.0  7.271686  52.877417  384.507969  2796.021201  20331.788116   \n",
       "12     1.0  3.317603  11.006487   36.515150   121.142759    401.903533   \n",
       "13     1.0  0.804558   0.647314    0.520801     0.419015      0.337122   \n",
       "14     1.0  0.723901   0.524033    0.379348     0.274610      0.198791   \n",
       "\n",
       "           order6        order7        order8        order9       order10  \n",
       "0   597159.846359  5.479897e+06  5.028682e+07  4.614619e+08  4.234651e+09  \n",
       "1     5890.287529  2.503183e+04  1.063772e+05  4.520690e+05  1.921148e+06  \n",
       "2   124818.164588  8.823836e+05  6.237881e+06  4.409778e+07  3.117427e+08  \n",
       "3   125830.524514  8.907387e+05  6.305430e+06  4.463536e+07  3.159682e+08  \n",
       "4     1501.736232  5.081898e+03  1.719722e+04  5.819565e+04  1.969349e+05  \n",
       "5   252788.634980  2.010098e+06  1.598368e+07  1.270973e+08  1.010639e+09  \n",
       "6   411944.011000  3.553404e+06  3.065144e+07  2.643975e+08  2.280676e+09  \n",
       "7   256207.619963  2.041851e+06  1.627257e+07  1.296845e+08  1.033523e+09  \n",
       "8   178241.591090  1.337141e+06  1.003103e+07  7.525123e+07  5.645231e+08  \n",
       "9     1037.931157  3.302656e+03  1.050892e+04  3.343896e+04  1.064015e+05  \n",
       "10  257617.494262  2.054966e+06  1.639207e+07  1.307564e+08  1.043019e+09  \n",
       "11  147846.378232  1.075092e+06  7.817735e+06  5.684811e+07  4.133816e+08  \n",
       "12    1333.356211  4.423546e+03  1.467557e+04  4.868770e+04  1.615264e+05  \n",
       "13       0.271234  2.182236e-01  1.755735e-01  1.412591e-01  1.136511e-01  \n",
       "14       0.143905  1.041728e-01  7.541080e-02  5.458995e-02  3.951772e-02  "
      ]
     },
     "execution_count": 16,
     "metadata": {},
     "output_type": "execute_result"
    }
   ],
   "source": [
    "# first, construct a Vandermonde matrix\n",
    "n = 15\n",
    "max_order = 10\n",
    "X = np.zeros((n, max_order+1))\n",
    "\n",
    "# method 1: use the default Vandermonde function from numpy\n",
    "X = np.vander(x, max_order+1, increasing = True)\n",
    "# method 2: use a for loop\n",
    "# for k in range(max_order+1):\n",
    "#     X[:,k] = x**(k)\n",
    "    \n",
    "# create a pandas dataframe with data = Vandermonde\n",
    "col_list = [\"order\"+str(i) for i in range(max_order+1)]   \n",
    "df1 = pd.DataFrame(data = X, columns=col_list)\n",
    "df1"
   ]
  },
  {
   "cell_type": "code",
   "execution_count": 17,
   "metadata": {},
   "outputs": [],
   "source": [
    "# helper function: create a Vandermonde matrix in pandas.dataframe\n",
    "def Vandermonde_df(x, order = max_order):\n",
    "    X = np.vander(x, order+1, increasing = True)\n",
    "    col_list = [\"order\"+str(i) for i in range(order+1)]   \n",
    "    df = pd.DataFrame(data = X, columns=col_list)\n",
    "    return df"
   ]
  },
  {
   "cell_type": "code",
   "execution_count": 18,
   "metadata": {},
   "outputs": [
    {
     "name": "stdout",
     "output_type": "stream",
     "text": [
      "order0      389.912799\n",
      "order1    -1587.733916\n",
      "order2     2501.575926\n",
      "order3    -2007.265101\n",
      "order4      940.650691\n",
      "order5     -276.117877\n",
      "order6       52.346142\n",
      "order7       -6.410020\n",
      "order8        0.489882\n",
      "order9       -0.021255\n",
      "order10       0.000400\n",
      "dtype: float64\n"
     ]
    }
   ],
   "source": [
    "# solve least squares problem\n",
    "model = sm.OLS(y, df1).fit()\n",
    "w = model.params\n",
    "print(w)"
   ]
  },
  {
   "cell_type": "code",
   "execution_count": 19,
   "metadata": {},
   "outputs": [
    {
     "data": {
      "text/plain": [
       "0     2.037942\n",
       "1     0.988485\n",
       "2     1.688069\n",
       "3     1.702008\n",
       "4     0.736566\n",
       "5     1.906166\n",
       "6     2.125348\n",
       "7     1.915422\n",
       "8     1.890580\n",
       "9     0.925542\n",
       "10    1.919427\n",
       "11    1.875053\n",
       "12    0.732879\n",
       "13    0.350094\n",
       "14    0.330142\n",
       "dtype: float64"
      ]
     },
     "execution_count": 19,
     "metadata": {},
     "output_type": "execute_result"
    }
   ],
   "source": [
    "# output the prediction given our polynomial fit\n",
    "df1.dot(w)"
   ]
  },
  {
   "cell_type": "code",
   "execution_count": 20,
   "metadata": {},
   "outputs": [],
   "source": [
    "#computes our polynomial fit evaluated at x\n",
    "def p(x, order = max_order, w = w):\n",
    "    df = Vandermonde_df(x, order)\n",
    "    y = df.dot(w)\n",
    "    return np.array(y)"
   ]
  },
  {
   "cell_type": "code",
   "execution_count": 21,
   "metadata": {},
   "outputs": [
    {
     "data": {
      "image/png": "[encoded data removed]",
      "text/plain": [
       "<Figure size 432x288 with 1 Axes>"
      ]
     },
     "metadata": {
      "needs_background": "light"
     },
     "output_type": "display_data"
    }
   ],
   "source": [
    "# plot fit\n",
    "plotdata()\n",
    "plotfunc(p, xmin=0, xmax=10)"
   ]
  },
  {
   "cell_type": "code",
   "execution_count": 22,
   "metadata": {},
   "outputs": [
    {
     "data": {
      "text/plain": [
       "<matplotlib.collections.PathCollection at 0x1257a6cd0>"
      ]
     },
     "execution_count": 22,
     "metadata": {},
     "output_type": "execute_result"
    },
    {
     "data": {
      "image/png": "[encoded data removed]",
      "text/plain": [
       "<Figure size 432x288 with 1 Axes>"
      ]
     },
     "metadata": {
      "needs_background": "light"
     },
     "output_type": "display_data"
    }
   ],
   "source": [
    "# plot fit on out of sample data\n",
    "plotdata()\n",
    "plotfunc(p, xmin=0, xmax=10)\n",
    "\n",
    "xtest,ytest = sample_data(100)\n",
    "plt.scatter(xtest,ytest,label=\"test\")"
   ]
  },
  {
   "cell_type": "markdown",
   "metadata": {},
   "source": [
    "Is this a good model? Would you trust this model to make predictions on new inputs $x$?\n",
    "\n",
    "* (A) yes \n",
    "* (B) no"
   ]
  },
  {
   "cell_type": "markdown",
   "metadata": {},
   "source": [
    "# Choosing the best model order"
   ]
  },
  {
   "cell_type": "code",
   "execution_count": 23,
   "metadata": {},
   "outputs": [
    {
     "data": {
      "text/plain": [
       "array([ 0.51014175,  0.16070909,  0.15469955,  0.15466363,  0.10740045,\n",
       "        0.10237344,  0.14001532,  0.19382173,  0.5749932 ,  2.57928713,\n",
       "       17.06602024])"
      ]
     },
     "execution_count": 23,
     "metadata": {},
     "output_type": "execute_result"
    }
   ],
   "source": [
    "max_model_order = 10\n",
    "rmse = np.zeros(max_model_order+1)       # array to store root mean square model errors\n",
    "rmse_train = np.zeros(max_model_order+1) # array to store root mean square model errors on training set\n",
    "xtest,ytest = sample_data(50)   # generate test set\n",
    "\n",
    "for model_order in range(max_model_order+1):\n",
    "    # form Vandermonde matrix\n",
    "    df = Vandermonde_df(x, model_order)\n",
    "    \n",
    "    # solve least squares problem\n",
    "    model = sm.OLS(y, df).fit()\n",
    "    w = model.params\n",
    "    ytrain = df.dot(w)\n",
    "    \n",
    "    # compute training error \n",
    "    rmse_train[model_order] = np.mean(np.abs(y - np.array(ytrain))) # sqrt(mean((y - X*w).^2))\n",
    "    \n",
    "    # compute test error\n",
    "    ptest = p(xtest, order=model_order, w=w)\n",
    "    rmse[model_order] = np.mean(np.abs(ytest - np.array(ptest))) # sqrt(mean((ytest - ptest).^2))\n",
    "rmse"
   ]
  },
  {
   "cell_type": "code",
   "execution_count": 24,
   "metadata": {
    "scrolled": true
   },
   "outputs": [
    {
     "data": {
      "text/plain": [
       "Text(0, 0.5, 'rmse')"
      ]
     },
     "execution_count": 24,
     "metadata": {},
     "output_type": "execute_result"
    },
    {
     "data": {
      "image/png": "[encoded data removed]",
      "text/plain": [
       "<Figure size 432x288 with 1 Axes>"
      ]
     },
     "metadata": {
      "needs_background": "light"
     },
     "output_type": "display_data"
    }
   ],
   "source": [
    "plt.plot(range(max_model_order+1),rmse, label=\"test error\")\n",
    "plt.plot(range(max_model_order+1),rmse_train, label=\"train error\")\n",
    "plt.xticks(np.arange(0,10,step=1.0))\n",
    "plt.xlabel(\"model order\")\n",
    "plt.ylabel(\"rmse\")"
   ]
  },
  {
   "cell_type": "markdown",
   "metadata": {},
   "source": [
    "# Polynomial models for classification"
   ]
  },
  {
   "cell_type": "code",
   "execution_count": 25,
   "metadata": {},
   "outputs": [
    {
     "data": {
      "text/plain": [
       "<matplotlib.collections.PathCollection at 0x1259a0ac0>"
      ]
     },
     "execution_count": 25,
     "metadata": {},
     "output_type": "execute_result"
    },
    {
     "data": {
      "image/png": "[encoded data removed]",
      "text/plain": [
       "<Figure size 432x288 with 1 Axes>"
      ]
     },
     "metadata": {
      "needs_background": "light"
     },
     "output_type": "display_data"
    }
   ],
   "source": [
    "random.seed(0)\n",
    "n = 20\n",
    "xs = 10*(rand(n) - .5)\n",
    "ys = (xs)**2\n",
    "pos = (xs - 1)**2 >= 7\n",
    "zn=np.zeros(n)\n",
    "pt = plt.scatter(xs[pos],zn[pos],color=\"blue\", label=\"positive\")\n",
    "plt.scatter(xs[~pos],zn[~pos],color=\"red\", label=\"negative\")\n",
    "plt.plot([-2,-2], [-1,1], color=\"black\", label=\"classification boundary\")#, ticks=:none, border=:none, legend=false)\n",
    "plt.ylim([-1,1])\n",
    "plt.grid()\n",
    "# savefig(\"poly-class-1d.pdf\")\n",
    "pt"
   ]
  },
  {
   "cell_type": "code",
   "execution_count": 26,
   "metadata": {},
   "outputs": [
    {
     "data": {
      "text/plain": [
       "<matplotlib.collections.PathCollection at 0x125a9bd30>"
      ]
     },
     "execution_count": 26,
     "metadata": {},
     "output_type": "execute_result"
    },
    {
     "data": {
      "image/png": "[encoded data removed]",
      "text/plain": [
       "<Figure size 432x288 with 1 Axes>"
      ]
     },
     "metadata": {
      "needs_background": "light"
     },
     "output_type": "display_data"
    }
   ],
   "source": [
    "pt = plt.scatter(xs[pos],ys[pos],color=\"blue\", label=\"positive\")\n",
    "plt.scatter(xs[~pos],ys[~pos],color=\"red\", label=\"negative\")\n",
    "plt.plot(xs, 1.5*xs + 7, color=\"black\", label=\"classification boundary\")\n",
    "plt.grid()\n",
    "# savefig(\"poly-class-2d.pdf\")\n",
    "pt"
   ]
  },
  {
   "cell_type": "code",
   "execution_count": 27,
   "metadata": {},
   "outputs": [],
   "source": [
    "# Example 1: multivariate polynomial classification \n",
    "n = 1000\n",
    "scale = 50\n",
    "x1 = scale*rand(n) - scale/2\n",
    "x2 = scale*rand(n) - scale/2\n",
    "f = lambda x1, x2: -30 - 9*x1 + 2*x2 + x1**2 - 0*x1*x2 + x2**2\n",
    "y = f(x1,x2)\n",
    "pos = y>0\n",
    "neg = y<0"
   ]
  },
  {
   "cell_type": "code",
   "execution_count": 28,
   "metadata": {},
   "outputs": [
    {
     "data": {
      "text/plain": [
       "<matplotlib.legend.Legend at 0x125b2eaf0>"
      ]
     },
     "execution_count": 28,
     "metadata": {},
     "output_type": "execute_result"
    },
    {
     "data": {
      "image/png": "[encoded data removed]",
      "text/plain": [
       "<Figure size 432x288 with 1 Axes>"
      ]
     },
     "metadata": {
      "needs_background": "light"
     },
     "output_type": "display_data"
    }
   ],
   "source": [
    "plt.scatter(x1[pos], x2[pos], color=\"blue\", s=4, label='y1')\n",
    "plt.scatter(x1[neg], x2[neg], color=\"red\", s=4, label='y2')\n",
    "plt.legend(loc=\"upper right\")"
   ]
  },
  {
   "cell_type": "code",
   "execution_count": 29,
   "metadata": {},
   "outputs": [
    {
     "data": {
      "text/plain": [
       "<matplotlib.legend.Legend at 0x125ca6760>"
      ]
     },
     "execution_count": 29,
     "metadata": {},
     "output_type": "execute_result"
    },
    {
     "data": {
      "image/png": "[encoded data removed]",
      "text/plain": [
       "<Figure size 432x288 with 1 Axes>"
      ]
     },
     "metadata": {
      "needs_background": "light"
     },
     "output_type": "display_data"
    }
   ],
   "source": [
    "# Example 2: multivariate polynomial classification \n",
    "n = 1000\n",
    "scale = 10\n",
    "x1 = scale*rand(n) - scale/2\n",
    "x2 = scale*rand(n) - scale/2\n",
    "f = lambda x1, x2: -5 - 3*x1 + 2*x2 + x1**2 - x1*x2 + 5*x2**2\n",
    "y = f(x1,x2)\n",
    "pos = y>0\n",
    "neg = y<0\n",
    "\n",
    "plt.scatter(x1[pos], x2[pos], s=4, color=\"blue\", label=\"y1\")\n",
    "plt.scatter(x1[neg], x2[neg], s=4, color=\"red\", label=\"y2\")\n",
    "plt.legend(loc=\"upper right\")"
   ]
  },
  {
   "cell_type": "code",
   "execution_count": 30,
   "metadata": {},
   "outputs": [
    {
     "data": {
      "text/plain": [
       "<matplotlib.legend.Legend at 0x1259803a0>"
      ]
     },
     "execution_count": 30,
     "metadata": {},
     "output_type": "execute_result"
    },
    {
     "data": {
      "image/png": "[encoded data removed]",
      "text/plain": [
       "<Figure size 432x288 with 1 Axes>"
      ]
     },
     "metadata": {
      "needs_background": "light"
     },
     "output_type": "display_data"
    }
   ],
   "source": [
    "# Example 3: multivariate polynomial classification \n",
    "n = 1000\n",
    "scale = 20\n",
    "x1 = scale*rand(n) - scale/2\n",
    "x2 = scale*rand(n) - scale/2\n",
    "f = lambda x1, x2: -5 - 3*x1 + 2*x2 + x1**2 - x1*x2 - 2*x2**2\n",
    "y = f(x1,x2)\n",
    "pos = y>0\n",
    "neg = y<0\n",
    "\n",
    "plt.scatter(x1[pos], x2[pos], color=\"blue\", s=4, label=\"y1\")\n",
    "plt.scatter(x1[neg], x2[neg], color=\"red\", s=4, label=\"y2\")\n",
    "plt.legend(loc=\"upper right\")"
   ]
  }
 ],
 "metadata": {
  "kernelspec": {
   "display_name": "Python 3",
   "language": "python",
   "name": "python3"
  },
  "language_info": {
   "codemirror_mode": {
    "name": "ipython",
    "version": 3
   },
   "file_extension": ".py",
   "mimetype": "text/x-python",
   "name": "python",
   "nbconvert_exporter": "python",
   "pygments_lexer": "ipython3",
   "version": "3.8.5"
  }
 },
 "nbformat": 4,
 "nbformat_minor": 4
}
