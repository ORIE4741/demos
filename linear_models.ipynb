{
 "cells": [
  {
   "cell_type": "code",
   "execution_count": 7,
   "metadata": {},
   "outputs": [],
   "source": [
    "# math \n",
    "import numpy as np\n",
    "\n",
    "# random\n",
    "import random\n",
    "from numpy.random import rand, randn\n",
    "\n",
    "# dataframes\n",
    "import pandas as pd\n",
    "\n",
    "# plotting\n",
    "import matplotlib.pyplot as plt\n",
    "# linear regression two ways\n",
    "import statsmodels.api as sm\n",
    "from sklearn.linear_model import LinearRegression\n",
    "\n",
    "from patsy import dmatrices"
   ]
  },
  {
   "cell_type": "code",
   "execution_count": 8,
   "metadata": {},
   "outputs": [],
   "source": [
    "# plot line y = w*x+b\n",
    "def plotline(w,b, xmin=-100,xmax=100,nsamples=100,label=''):\n",
    "    x = np.linspace(xmin, xmax, nsamples)\n",
    "    y = w * x + b\n",
    "    plt.plot(x, y, color='k', label=label)\n",
    "    plt.legend(loc=\"upper left\")\n",
    "    plt.grid()"
   ]
  },
  {
   "cell_type": "code",
   "execution_count": 9,
   "metadata": {},
   "outputs": [],
   "source": [
    "# plot function y = f(x)\n",
    "def plotfunc(f, xmin=-100,xmax=100,nsamples=100,label=\"\"):\n",
    "    x = np.linspace(xmin, xmax, nsamples)\n",
    "    y = f(x)\n",
    "    plt.plot(x, y, color='k', label=label)\n",
    "    plt.legend(loc=\"upper left\")\n",
    "    plt.grid()"
   ]
  },
  {
   "cell_type": "code",
   "execution_count": 10,
   "metadata": {},
   "outputs": [
    {
     "data": {
      "image/png": "[encoded data removed]",
      "text/plain": [
       "<Figure size 432x288 with 1 Axes>"
      ]
     },
     "metadata": {
      "needs_background": "light"
     },
     "output_type": "display_data"
    }
   ],
   "source": [
    "# Generate and plot data\n",
    "random.seed(1)\n",
    "n = 15\n",
    "def sample_data(num_points):\n",
    "    x = rand(num_points)*10\n",
    "    y = .2 + .2*x + .1*np.sin(x) + .1*randn(num_points) - .01*((x-5)/6)**4\n",
    "    return x,y\n",
    "\n",
    "x,y = sample_data(n)\n",
    "\n",
    "\n",
    "def plotdata(x=x,y=y, margin=.05):\n",
    "    plt.scatter(x,y, label=\"data\")\n",
    "    plt.legend(loc=\"upper left\")\n",
    "    plt.xlabel(\"x\") \n",
    "    plt.ylabel(\"y\")     \n",
    "    range_y = np.max(y) - np.min(y)\n",
    "    range_x = np.max(x) - np.min(x)\n",
    "    plt.ylim([np.min(y)-margin*range_y,np.max(y)+margin*range_y])\n",
    "    plt.xlim([np.min(x)-margin*range_x,np.max(x)+margin*range_x])\n",
    "    \n",
    "plotdata()\n",
    "plt.show()"
   ]
  },
  {
   "cell_type": "markdown",
   "metadata": {},
   "source": [
    "# Approximating with the mean"
   ]
  },
  {
   "cell_type": "code",
   "execution_count": 11,
   "metadata": {},
   "outputs": [
    {
     "name": "stderr",
     "output_type": "stream",
     "text": [
      "<ipython-input-11-6dd8b0414b56>:3: FutureWarning: `rcond` parameter will change to the default of machine precision times ``max(M, N)`` where M and N are the input matrix dimensions.\n",
      "To use the future default and silence this warning we advise to pass `rcond=None`, to keep using the old, explicitly pass `rcond=-1`.\n",
      "  w = np.linalg.lstsq(X, y)[0]\n"
     ]
    }
   ],
   "source": [
    "# the mean solves a very simple least squares problem:\n",
    "X = np.ones((n,1))\n",
    "w = np.linalg.lstsq(X, y)[0]"
   ]
  },
  {
   "cell_type": "code",
   "execution_count": 12,
   "metadata": {},
   "outputs": [
    {
     "data": {
      "text/plain": [
       "0.0"
      ]
     },
     "execution_count": 12,
     "metadata": {},
     "output_type": "execute_result"
    }
   ],
   "source": [
    "# check the solution to our least squares problem is the mean\n",
    "np.abs(np.mean(y) - w[0])"
   ]
  },
  {
   "cell_type": "code",
   "execution_count": 13,
   "metadata": {},
   "outputs": [
    {
     "data": {
      "image/png": "[encoded data removed]",
      "text/plain": [
       "<Figure size 432x288 with 1 Axes>"
      ]
     },
     "metadata": {
      "needs_background": "light"
     },
     "output_type": "display_data"
    }
   ],
   "source": [
    "# plot the fit\n",
    "plotdata()\n",
    "plotline(0, w[0], label=\"mean\")\n",
    "plt.show()"
   ]
  },
  {
   "cell_type": "markdown",
   "metadata": {},
   "source": [
    "Is this a good model? Would you trust this model to make predictions on new inputs $x$?\n",
    "\n",
    "* (A) yes \n",
    "* (B) no"
   ]
  },
  {
   "cell_type": "markdown",
   "metadata": {},
   "source": [
    "# Approximating with a line"
   ]
  },
  {
   "cell_type": "code",
   "execution_count": 14,
   "metadata": {},
   "outputs": [
    {
     "name": "stdout",
     "output_type": "stream",
     "text": [
      "[[2.4550888  1.        ]\n",
      " [3.18213752 1.        ]\n",
      " [3.7811239  1.        ]\n",
      " [1.11291959 1.        ]\n",
      " [0.95791473 1.        ]\n",
      " [9.146142   1.        ]\n",
      " [0.1096058  1.        ]\n",
      " [4.94851969 1.        ]\n",
      " [2.83170812 1.        ]\n",
      " [8.6085744  1.        ]\n",
      " [6.5318872  1.        ]\n",
      " [4.03860412 1.        ]\n",
      " [6.27338595 1.        ]\n",
      " [8.84132974 1.        ]\n",
      " [4.16000022 1.        ]]\n"
     ]
    }
   ],
   "source": [
    "X = np.column_stack([x, np.ones(n)])\n",
    "print(X)"
   ]
  },
  {
   "cell_type": "markdown",
   "metadata": {},
   "source": [
    "# How to fit a least squares model\n",
    "There are many ways to fit a least squares model in python!\n",
    "1. QR decomposition + `scipy.linalg.solve`\n",
    "2. `numpy.linalg.lstsq`\n",
    "3. `statsmodels.OLS`\n",
    "4. `sklearn.LinearRegression()`"
   ]
  },
  {
   "cell_type": "code",
   "execution_count": 18,
   "metadata": {},
   "outputs": [
    {
     "data": {
      "text/plain": [
       "array([0.19517368, 0.21676283])"
      ]
     },
     "execution_count": 18,
     "metadata": {},
     "output_type": "execute_result"
    }
   ],
   "source": [
    "# method 0: scipy\n",
    "from scipy.linalg import qr, solve\n",
    "Q,R = qr(X, mode='economic')\n",
    "w = solve(R, Q.T @ y)\n",
    "w"
   ]
  },
  {
   "cell_type": "code",
   "execution_count": 19,
   "metadata": {},
   "outputs": [
    {
     "name": "stderr",
     "output_type": "stream",
     "text": [
      "<ipython-input-19-4844ed0cbb71>:2: FutureWarning: `rcond` parameter will change to the default of machine precision times ``max(M, N)`` where M and N are the input matrix dimensions.\n",
      "To use the future default and silence this warning we advise to pass `rcond=None`, to keep using the old, explicitly pass `rcond=-1`.\n",
      "  w = np.linalg.lstsq(X, y)[0]\n"
     ]
    },
    {
     "data": {
      "text/plain": [
       "array([0.19517368, 0.21676283])"
      ]
     },
     "execution_count": 19,
     "metadata": {},
     "output_type": "execute_result"
    }
   ],
   "source": [
    "# method 1: numpy\n",
    "w = np.linalg.lstsq(X, y)[0]\n",
    "w"
   ]
  },
  {
   "cell_type": "code",
   "execution_count": 24,
   "metadata": {},
   "outputs": [
    {
     "data": {
      "text/plain": [
       "array([0.19517368, 0.21676283])"
      ]
     },
     "execution_count": 24,
     "metadata": {},
     "output_type": "execute_result"
    }
   ],
   "source": [
    "# method 2: statsmodels\n",
    "model = sm.OLS(y, X).fit()\n",
    "w = model.params\n",
    "w"
   ]
  },
  {
   "cell_type": "code",
   "execution_count": 25,
   "metadata": {},
   "outputs": [
    {
     "data": {
      "text/plain": [
       "array([0.19517368, 0.21676283])"
      ]
     },
     "execution_count": 25,
     "metadata": {},
     "output_type": "execute_result"
    }
   ],
   "source": [
    "# method 3: sklearn\n",
    "model = LinearRegression().fit(x[None,].T,y)\n",
    "w = np.array([model.coef_[0], model.intercept_])\n",
    "w"
   ]
  },
  {
   "cell_type": "code",
   "execution_count": 12,
   "metadata": {},
   "outputs": [
    {
     "data": {
      "image/png": "[encoded data removed]",
      "text/plain": [
       "<Figure size 432x288 with 1 Axes>"
      ]
     },
     "metadata": {
      "needs_background": "light"
     },
     "output_type": "display_data"
    }
   ],
   "source": [
    "# plot the fit\n",
    "plotdata()\n",
    "plotline(w[0], w[1], label=\"linear fit\")"
   ]
  },
  {
   "cell_type": "markdown",
   "metadata": {},
   "source": [
    "Is this a good model? Would you trust this model to make predictions on new inputs $x$?\n",
    "\n",
    "* (A) yes \n",
    "* (B) no"
   ]
  },
  {
   "cell_type": "code",
   "execution_count": 13,
   "metadata": {},
   "outputs": [
    {
     "data": {
      "text/plain": [
       "<matplotlib.collections.PathCollection at 0x7fb07113e610>"
      ]
     },
     "execution_count": 13,
     "metadata": {},
     "output_type": "execute_result"
    },
    {
     "data": {
      "image/png": "[encoded data removed]",
      "text/plain": [
       "<Figure size 432x288 with 1 Axes>"
      ]
     },
     "metadata": {
      "needs_background": "light"
     },
     "output_type": "display_data"
    }
   ],
   "source": [
    "# plot fit on out of sample data\n",
    "plotdata()\n",
    "plotline(w[0], w[1])\n",
    "\n",
    "xtest,ytest = sample_data(20)\n",
    "plt.scatter(xtest,ytest,label=\"test\")"
   ]
  },
  {
   "cell_type": "markdown",
   "metadata": {},
   "source": [
    "# Approximating with a polynomial"
   ]
  },
  {
   "cell_type": "code",
   "execution_count": 14,
   "metadata": {},
   "outputs": [
    {
     "data": {
      "text/html": [
       "<div>\n",
       "<style scoped>\n",
       "    .dataframe tbody tr th:only-of-type {\n",
       "        vertical-align: middle;\n",
       "    }\n",
       "\n",
       "    .dataframe tbody tr th {\n",
       "        vertical-align: top;\n",
       "    }\n",
       "\n",
       "    .dataframe thead th {\n",
       "        text-align: right;\n",
       "    }\n",
       "</style>\n",
       "<table border=\"1\" class=\"dataframe\">\n",
       "  <thead>\n",
       "    <tr style=\"text-align: right;\">\n",
       "      <th></th>\n",
       "      <th>order0</th>\n",
       "      <th>order1</th>\n",
       "      <th>order2</th>\n",
       "      <th>order3</th>\n",
       "      <th>order4</th>\n",
       "      <th>order5</th>\n",
       "      <th>order6</th>\n",
       "      <th>order7</th>\n",
       "      <th>order8</th>\n",
       "      <th>order9</th>\n",
       "      <th>order10</th>\n",
       "    </tr>\n",
       "  </thead>\n",
       "  <tbody>\n",
       "    <tr>\n",
       "      <th>0</th>\n",
       "      <td>1.0</td>\n",
       "      <td>5.707715</td>\n",
       "      <td>32.578013</td>\n",
       "      <td>185.946024</td>\n",
       "      <td>1061.326960</td>\n",
       "      <td>6057.752080</td>\n",
       "      <td>34575.923964</td>\n",
       "      <td>1.973495e+05</td>\n",
       "      <td>1.126415e+06</td>\n",
       "      <td>6.429256e+06</td>\n",
       "      <td>3.669636e+07</td>\n",
       "    </tr>\n",
       "    <tr>\n",
       "      <th>1</th>\n",
       "      <td>1.0</td>\n",
       "      <td>7.608896</td>\n",
       "      <td>57.895296</td>\n",
       "      <td>440.519279</td>\n",
       "      <td>3351.865319</td>\n",
       "      <td>25503.994142</td>\n",
       "      <td>194057.235385</td>\n",
       "      <td>1.476561e+06</td>\n",
       "      <td>1.123500e+07</td>\n",
       "      <td>8.548595e+07</td>\n",
       "      <td>6.504537e+08</td>\n",
       "    </tr>\n",
       "    <tr>\n",
       "      <th>2</th>\n",
       "      <td>1.0</td>\n",
       "      <td>9.317787</td>\n",
       "      <td>86.821147</td>\n",
       "      <td>808.980921</td>\n",
       "      <td>7537.911589</td>\n",
       "      <td>70236.651595</td>\n",
       "      <td>654450.131085</td>\n",
       "      <td>6.098027e+06</td>\n",
       "      <td>5.682011e+07</td>\n",
       "      <td>5.294377e+08</td>\n",
       "      <td>4.933187e+09</td>\n",
       "    </tr>\n",
       "    <tr>\n",
       "      <th>3</th>\n",
       "      <td>1.0</td>\n",
       "      <td>4.385738</td>\n",
       "      <td>19.234699</td>\n",
       "      <td>84.358351</td>\n",
       "      <td>369.973633</td>\n",
       "      <td>1622.607457</td>\n",
       "      <td>7116.331345</td>\n",
       "      <td>3.121037e+04</td>\n",
       "      <td>1.368805e+05</td>\n",
       "      <td>6.003220e+05</td>\n",
       "      <td>2.632855e+06</td>\n",
       "    </tr>\n",
       "    <tr>\n",
       "      <th>4</th>\n",
       "      <td>1.0</td>\n",
       "      <td>0.944209</td>\n",
       "      <td>0.891530</td>\n",
       "      <td>0.841790</td>\n",
       "      <td>0.794826</td>\n",
       "      <td>0.750481</td>\n",
       "      <td>0.708611</td>\n",
       "      <td>6.690764e-01</td>\n",
       "      <td>6.317477e-01</td>\n",
       "      <td>5.965017e-01</td>\n",
       "      <td>5.632220e-01</td>\n",
       "    </tr>\n",
       "    <tr>\n",
       "      <th>5</th>\n",
       "      <td>1.0</td>\n",
       "      <td>5.367852</td>\n",
       "      <td>28.813836</td>\n",
       "      <td>154.668407</td>\n",
       "      <td>830.237126</td>\n",
       "      <td>4456.590063</td>\n",
       "      <td>23922.316125</td>\n",
       "      <td>1.284115e+05</td>\n",
       "      <td>6.892937e+05</td>\n",
       "      <td>3.700027e+06</td>\n",
       "      <td>1.986119e+07</td>\n",
       "    </tr>\n",
       "    <tr>\n",
       "      <th>6</th>\n",
       "      <td>1.0</td>\n",
       "      <td>1.264771</td>\n",
       "      <td>1.599645</td>\n",
       "      <td>2.023184</td>\n",
       "      <td>2.558864</td>\n",
       "      <td>3.236375</td>\n",
       "      <td>4.093273</td>\n",
       "      <td>5.177051e+00</td>\n",
       "      <td>6.547782e+00</td>\n",
       "      <td>8.281443e+00</td>\n",
       "      <td>1.047413e+01</td>\n",
       "    </tr>\n",
       "    <tr>\n",
       "      <th>7</th>\n",
       "      <td>1.0</td>\n",
       "      <td>3.403652</td>\n",
       "      <td>11.584845</td>\n",
       "      <td>39.430775</td>\n",
       "      <td>134.208623</td>\n",
       "      <td>456.799402</td>\n",
       "      <td>1554.786039</td>\n",
       "      <td>5.291950e+03</td>\n",
       "      <td>1.801195e+04</td>\n",
       "      <td>6.130642e+04</td>\n",
       "      <td>2.086657e+05</td>\n",
       "    </tr>\n",
       "    <tr>\n",
       "      <th>8</th>\n",
       "      <td>1.0</td>\n",
       "      <td>6.526286</td>\n",
       "      <td>42.592404</td>\n",
       "      <td>277.970193</td>\n",
       "      <td>1814.112871</td>\n",
       "      <td>11839.418731</td>\n",
       "      <td>77267.428134</td>\n",
       "      <td>5.042693e+05</td>\n",
       "      <td>3.291006e+06</td>\n",
       "      <td>2.147804e+07</td>\n",
       "      <td>1.401718e+08</td>\n",
       "    </tr>\n",
       "    <tr>\n",
       "      <th>9</th>\n",
       "      <td>1.0</td>\n",
       "      <td>3.990179</td>\n",
       "      <td>15.921531</td>\n",
       "      <td>63.529762</td>\n",
       "      <td>253.495143</td>\n",
       "      <td>1011.491070</td>\n",
       "      <td>4036.030722</td>\n",
       "      <td>1.610449e+04</td>\n",
       "      <td>6.425979e+04</td>\n",
       "      <td>2.564081e+05</td>\n",
       "      <td>1.023114e+06</td>\n",
       "    </tr>\n",
       "    <tr>\n",
       "      <th>10</th>\n",
       "      <td>1.0</td>\n",
       "      <td>2.881336</td>\n",
       "      <td>8.302096</td>\n",
       "      <td>23.921126</td>\n",
       "      <td>68.924798</td>\n",
       "      <td>198.595489</td>\n",
       "      <td>572.220293</td>\n",
       "      <td>1.648759e+03</td>\n",
       "      <td>4.750628e+03</td>\n",
       "      <td>1.368815e+04</td>\n",
       "      <td>3.944017e+04</td>\n",
       "    </tr>\n",
       "    <tr>\n",
       "      <th>11</th>\n",
       "      <td>1.0</td>\n",
       "      <td>6.795799</td>\n",
       "      <td>46.182880</td>\n",
       "      <td>313.849558</td>\n",
       "      <td>2132.858423</td>\n",
       "      <td>14494.476531</td>\n",
       "      <td>98501.544998</td>\n",
       "      <td>6.693967e+05</td>\n",
       "      <td>4.549085e+06</td>\n",
       "      <td>3.091467e+07</td>\n",
       "      <td>2.100898e+08</td>\n",
       "    </tr>\n",
       "    <tr>\n",
       "      <th>12</th>\n",
       "      <td>1.0</td>\n",
       "      <td>8.466706</td>\n",
       "      <td>71.685107</td>\n",
       "      <td>606.936710</td>\n",
       "      <td>5138.754558</td>\n",
       "      <td>43508.322974</td>\n",
       "      <td>368372.170067</td>\n",
       "      <td>3.118899e+06</td>\n",
       "      <td>2.640680e+07</td>\n",
       "      <td>2.235786e+08</td>\n",
       "      <td>1.892974e+09</td>\n",
       "    </tr>\n",
       "    <tr>\n",
       "      <th>13</th>\n",
       "      <td>1.0</td>\n",
       "      <td>0.879520</td>\n",
       "      <td>0.773555</td>\n",
       "      <td>0.680357</td>\n",
       "      <td>0.598388</td>\n",
       "      <td>0.526294</td>\n",
       "      <td>0.462886</td>\n",
       "      <td>4.071173e-01</td>\n",
       "      <td>3.580678e-01</td>\n",
       "      <td>3.149277e-01</td>\n",
       "      <td>2.769852e-01</td>\n",
       "    </tr>\n",
       "    <tr>\n",
       "      <th>14</th>\n",
       "      <td>1.0</td>\n",
       "      <td>1.001757</td>\n",
       "      <td>1.003517</td>\n",
       "      <td>1.005280</td>\n",
       "      <td>1.007046</td>\n",
       "      <td>1.008816</td>\n",
       "      <td>1.010588</td>\n",
       "      <td>1.012364e+00</td>\n",
       "      <td>1.014142e+00</td>\n",
       "      <td>1.015924e+00</td>\n",
       "      <td>1.017709e+00</td>\n",
       "    </tr>\n",
       "  </tbody>\n",
       "</table>\n",
       "</div>"
      ],
      "text/plain": [
       "    order0    order1     order2      order3       order4        order5  \\\n",
       "0      1.0  5.707715  32.578013  185.946024  1061.326960   6057.752080   \n",
       "1      1.0  7.608896  57.895296  440.519279  3351.865319  25503.994142   \n",
       "2      1.0  9.317787  86.821147  808.980921  7537.911589  70236.651595   \n",
       "3      1.0  4.385738  19.234699   84.358351   369.973633   1622.607457   \n",
       "4      1.0  0.944209   0.891530    0.841790     0.794826      0.750481   \n",
       "5      1.0  5.367852  28.813836  154.668407   830.237126   4456.590063   \n",
       "6      1.0  1.264771   1.599645    2.023184     2.558864      3.236375   \n",
       "7      1.0  3.403652  11.584845   39.430775   134.208623    456.799402   \n",
       "8      1.0  6.526286  42.592404  277.970193  1814.112871  11839.418731   \n",
       "9      1.0  3.990179  15.921531   63.529762   253.495143   1011.491070   \n",
       "10     1.0  2.881336   8.302096   23.921126    68.924798    198.595489   \n",
       "11     1.0  6.795799  46.182880  313.849558  2132.858423  14494.476531   \n",
       "12     1.0  8.466706  71.685107  606.936710  5138.754558  43508.322974   \n",
       "13     1.0  0.879520   0.773555    0.680357     0.598388      0.526294   \n",
       "14     1.0  1.001757   1.003517    1.005280     1.007046      1.008816   \n",
       "\n",
       "           order6        order7        order8        order9       order10  \n",
       "0    34575.923964  1.973495e+05  1.126415e+06  6.429256e+06  3.669636e+07  \n",
       "1   194057.235385  1.476561e+06  1.123500e+07  8.548595e+07  6.504537e+08  \n",
       "2   654450.131085  6.098027e+06  5.682011e+07  5.294377e+08  4.933187e+09  \n",
       "3     7116.331345  3.121037e+04  1.368805e+05  6.003220e+05  2.632855e+06  \n",
       "4        0.708611  6.690764e-01  6.317477e-01  5.965017e-01  5.632220e-01  \n",
       "5    23922.316125  1.284115e+05  6.892937e+05  3.700027e+06  1.986119e+07  \n",
       "6        4.093273  5.177051e+00  6.547782e+00  8.281443e+00  1.047413e+01  \n",
       "7     1554.786039  5.291950e+03  1.801195e+04  6.130642e+04  2.086657e+05  \n",
       "8    77267.428134  5.042693e+05  3.291006e+06  2.147804e+07  1.401718e+08  \n",
       "9     4036.030722  1.610449e+04  6.425979e+04  2.564081e+05  1.023114e+06  \n",
       "10     572.220293  1.648759e+03  4.750628e+03  1.368815e+04  3.944017e+04  \n",
       "11   98501.544998  6.693967e+05  4.549085e+06  3.091467e+07  2.100898e+08  \n",
       "12  368372.170067  3.118899e+06  2.640680e+07  2.235786e+08  1.892974e+09  \n",
       "13       0.462886  4.071173e-01  3.580678e-01  3.149277e-01  2.769852e-01  \n",
       "14       1.010588  1.012364e+00  1.014142e+00  1.015924e+00  1.017709e+00  "
      ]
     },
     "execution_count": 14,
     "metadata": {},
     "output_type": "execute_result"
    }
   ],
   "source": [
    "# first, construct a Vandermonde matrix\n",
    "n = 15\n",
    "max_order = 10\n",
    "X = np.zeros((n, max_order+1))\n",
    "\n",
    "# method 1: use the default Vandermonde function from numpy\n",
    "X = np.vander(x, max_order+1, increasing = True)\n",
    "# method 2: use a for loop\n",
    "# for k in range(max_order+1):\n",
    "#     X[:,k] = x**(k)\n",
    "    \n",
    "# create a pandas dataframe with data = Vandermonde\n",
    "col_list = [\"order\"+str(i) for i in range(max_order+1)]   \n",
    "df1 = pd.DataFrame(data = X, columns=col_list)\n",
    "df1"
   ]
  },
  {
   "cell_type": "code",
   "execution_count": 15,
   "metadata": {},
   "outputs": [],
   "source": [
    "# helper function: create a Vandermonde matrix in pandas.dataframe\n",
    "def Vandermonde_df(x, order = max_order):\n",
    "    X = np.vander(x, order+1, increasing = True)\n",
    "    col_list = [\"order\"+str(i) for i in range(order+1)]   \n",
    "    df = pd.DataFrame(data = X, columns=col_list)\n",
    "    return df"
   ]
  },
  {
   "cell_type": "code",
   "execution_count": 16,
   "metadata": {},
   "outputs": [
    {
     "name": "stdout",
     "output_type": "stream",
     "text": [
      "order0     -29.564624\n",
      "order1     105.746812\n",
      "order2    -154.673123\n",
      "order3     124.049483\n",
      "order4     -60.552745\n",
      "order5      18.916645\n",
      "order6      -3.857696\n",
      "order7       0.510612\n",
      "order8      -0.042242\n",
      "order9       0.001983\n",
      "order10     -0.000040\n",
      "dtype: float64\n"
     ]
    }
   ],
   "source": [
    "# solve least squares problem\n",
    "model = sm.OLS(y, df1).fit()\n",
    "w = model.params\n",
    "print(w)"
   ]
  },
  {
   "cell_type": "code",
   "execution_count": 17,
   "metadata": {},
   "outputs": [
    {
     "data": {
      "text/plain": [
       "0     1.286972\n",
       "1     1.734197\n",
       "2     2.037899\n",
       "3     1.031370\n",
       "4     0.460575\n",
       "5     1.270752\n",
       "6     0.601113\n",
       "7     0.811484\n",
       "8     1.482135\n",
       "9     0.883592\n",
       "10    0.895129\n",
       "11    1.601152\n",
       "12    2.004730\n",
       "13    0.320947\n",
       "14    0.536857\n",
       "dtype: float64"
      ]
     },
     "execution_count": 17,
     "metadata": {},
     "output_type": "execute_result"
    }
   ],
   "source": [
    "# output the prediction given our polynomial fit\n",
    "df1.dot(w)"
   ]
  },
  {
   "cell_type": "code",
   "execution_count": 18,
   "metadata": {},
   "outputs": [],
   "source": [
    "#computes our polynomial fit evaluated at x\n",
    "def p(x, order = max_order, w = w):\n",
    "    df = Vandermonde_df(x, order)\n",
    "    y = df.dot(w)\n",
    "    return np.array(y)"
   ]
  },
  {
   "cell_type": "code",
   "execution_count": 19,
   "metadata": {},
   "outputs": [
    {
     "data": {
      "image/png": "[encoded data removed]",
      "text/plain": [
       "<Figure size 432x288 with 1 Axes>"
      ]
     },
     "metadata": {
      "needs_background": "light"
     },
     "output_type": "display_data"
    }
   ],
   "source": [
    "# plot fit\n",
    "plotdata()\n",
    "plotfunc(p, xmin=0, xmax=10)"
   ]
  },
  {
   "cell_type": "code",
   "execution_count": 20,
   "metadata": {},
   "outputs": [
    {
     "data": {
      "text/plain": [
       "<matplotlib.collections.PathCollection at 0x7fb0715a4760>"
      ]
     },
     "execution_count": 20,
     "metadata": {},
     "output_type": "execute_result"
    },
    {
     "data": {
      "image/png": "[encoded data removed]",
      "text/plain": [
       "<Figure size 432x288 with 1 Axes>"
      ]
     },
     "metadata": {
      "needs_background": "light"
     },
     "output_type": "display_data"
    }
   ],
   "source": [
    "# plot fit on out of sample data\n",
    "plotdata()\n",
    "plotfunc(p, xmin=0, xmax=10)\n",
    "\n",
    "xtest,ytest = sample_data(100)\n",
    "plt.scatter(xtest,ytest,label=\"test\")"
   ]
  },
  {
   "cell_type": "markdown",
   "metadata": {},
   "source": [
    "Is this a good model? Would you trust this model to make predictions on new inputs $x$?\n",
    "\n",
    "* (A) yes \n",
    "* (B) no"
   ]
  },
  {
   "cell_type": "markdown",
   "metadata": {},
   "source": [
    "# Choosing the best model order"
   ]
  },
  {
   "cell_type": "code",
   "execution_count": 21,
   "metadata": {},
   "outputs": [
    {
     "data": {
      "text/plain": [
       "array([0.48236663, 0.09778763, 0.09489738, 0.09407766, 0.09981901,\n",
       "       0.1134362 , 0.16126981, 0.15316387, 0.13615509, 0.14537774,\n",
       "       1.48416779])"
      ]
     },
     "execution_count": 21,
     "metadata": {},
     "output_type": "execute_result"
    }
   ],
   "source": [
    "max_model_order = 10\n",
    "rmse = np.zeros(max_model_order+1)       # array to store root mean square model errors\n",
    "rmse_train = np.zeros(max_model_order+1) # array to store root mean square model errors on training set\n",
    "xtest,ytest = sample_data(50)   # generate test set\n",
    "\n",
    "for model_order in range(max_model_order+1):\n",
    "    # form Vandermonde matrix\n",
    "    df = Vandermonde_df(x, model_order)\n",
    "    \n",
    "    # solve least squares problem\n",
    "    model = sm.OLS(y, df).fit()\n",
    "    w = model.params\n",
    "    ytrain = df.dot(w)\n",
    "    \n",
    "    # compute training error \n",
    "    rmse_train[model_order] = np.mean(np.abs(y - np.array(ytrain))) # sqrt(mean((y - X*w).^2))\n",
    "    \n",
    "    # compute test error\n",
    "    ptest = p(xtest, order=model_order, w=w)\n",
    "    rmse[model_order] = np.mean(np.abs(ytest - np.array(ptest))) # sqrt(mean((ytest - ptest).^2))\n",
    "rmse"
   ]
  },
  {
   "cell_type": "code",
   "execution_count": 22,
   "metadata": {
    "scrolled": true
   },
   "outputs": [
    {
     "data": {
      "text/plain": [
       "Text(0, 0.5, 'rmse')"
      ]
     },
     "execution_count": 22,
     "metadata": {},
     "output_type": "execute_result"
    },
    {
     "data": {
      "image/png": "[encoded data removed]",
      "text/plain": [
       "<Figure size 432x288 with 1 Axes>"
      ]
     },
     "metadata": {
      "needs_background": "light"
     },
     "output_type": "display_data"
    }
   ],
   "source": [
    "plt.plot(range(max_model_order+1),rmse, label=\"test error\")\n",
    "plt.plot(range(max_model_order+1),rmse_train, label=\"train error\")\n",
    "plt.xticks(np.arange(0,10,step=1.0))\n",
    "plt.xlabel(\"model order\")\n",
    "plt.ylabel(\"rmse\")"
   ]
  },
  {
   "cell_type": "markdown",
   "metadata": {},
   "source": [
    "# Polynomial models for classification"
   ]
  },
  {
   "cell_type": "code",
   "execution_count": 23,
   "metadata": {},
   "outputs": [
    {
     "data": {
      "text/plain": [
       "<matplotlib.collections.PathCollection at 0x7fb06bee1d60>"
      ]
     },
     "execution_count": 23,
     "metadata": {},
     "output_type": "execute_result"
    },
    {
     "data": {
      "image/png": "[encoded data removed]",
      "text/plain": [
       "<Figure size 432x288 with 1 Axes>"
      ]
     },
     "metadata": {
      "needs_background": "light"
     },
     "output_type": "display_data"
    }
   ],
   "source": [
    "random.seed(0)\n",
    "n = 20\n",
    "xs = 10*(rand(n) - .5)\n",
    "ys = (xs)**2\n",
    "pos = (xs - 1)**2 >= 7\n",
    "zn=np.zeros(n)\n",
    "pt = plt.scatter(xs[pos],zn[pos],color=\"blue\", label=\"positive\")\n",
    "plt.scatter(xs[~pos],zn[~pos],color=\"red\", label=\"negative\")\n",
    "plt.plot([-2,-2], [-1,1], color=\"black\", label=\"classification boundary\")#, ticks=:none, border=:none, legend=false)\n",
    "plt.ylim([-1,1])\n",
    "plt.grid()\n",
    "# savefig(\"poly-class-1d.pdf\")\n",
    "pt"
   ]
  },
  {
   "cell_type": "code",
   "execution_count": 24,
   "metadata": {},
   "outputs": [
    {
     "data": {
      "text/plain": [
       "<matplotlib.collections.PathCollection at 0x7fb0716e6b20>"
      ]
     },
     "execution_count": 24,
     "metadata": {},
     "output_type": "execute_result"
    },
    {
     "data": {
      "image/png": "[encoded data removed]",
      "text/plain": [
       "<Figure size 432x288 with 1 Axes>"
      ]
     },
     "metadata": {
      "needs_background": "light"
     },
     "output_type": "display_data"
    }
   ],
   "source": [
    "pt = plt.scatter(xs[pos],ys[pos],color=\"blue\", label=\"positive\")\n",
    "plt.scatter(xs[~pos],ys[~pos],color=\"red\", label=\"negative\")\n",
    "plt.plot(xs, 1.5*xs + 7, color=\"black\", label=\"classification boundary\")\n",
    "plt.grid()\n",
    "# savefig(\"poly-class-2d.pdf\")\n",
    "pt"
   ]
  },
  {
   "cell_type": "code",
   "execution_count": 25,
   "metadata": {},
   "outputs": [],
   "source": [
    "# Example 1: multivariate polynomial classification \n",
    "n = 1000\n",
    "scale = 50\n",
    "x1 = scale*rand(n) - scale/2\n",
    "x2 = scale*rand(n) - scale/2\n",
    "f = lambda x1, x2: -30 - 9*x1 + 2*x2 + x1**2 - 0*x1*x2 + x2**2\n",
    "y = f(x1,x2)\n",
    "pos = y>0\n",
    "neg = y<0"
   ]
  },
  {
   "cell_type": "code",
   "execution_count": 26,
   "metadata": {},
   "outputs": [
    {
     "data": {
      "text/plain": [
       "<matplotlib.legend.Legend at 0x7fb071824880>"
      ]
     },
     "execution_count": 26,
     "metadata": {},
     "output_type": "execute_result"
    },
    {
     "data": {
      "image/png": "[encoded data removed]",
      "text/plain": [
       "<Figure size 432x288 with 1 Axes>"
      ]
     },
     "metadata": {
      "needs_background": "light"
     },
     "output_type": "display_data"
    }
   ],
   "source": [
    "plt.scatter(x1[pos], x2[pos], color=\"blue\", s=4, label='y1')\n",
    "plt.scatter(x1[neg], x2[neg], color=\"red\", s=4, label='y2')\n",
    "plt.legend(loc=\"upper right\")"
   ]
  },
  {
   "cell_type": "code",
   "execution_count": 27,
   "metadata": {},
   "outputs": [
    {
     "data": {
      "text/plain": [
       "<matplotlib.legend.Legend at 0x7fb0718c0fa0>"
      ]
     },
     "execution_count": 27,
     "metadata": {},
     "output_type": "execute_result"
    },
    {
     "data": {
      "image/png": "[encoded data removed]",
      "text/plain": [
       "<Figure size 432x288 with 1 Axes>"
      ]
     },
     "metadata": {
      "needs_background": "light"
     },
     "output_type": "display_data"
    }
   ],
   "source": [
    "# Example 2: multivariate polynomial classification \n",
    "n = 1000\n",
    "scale = 10\n",
    "x1 = scale*rand(n) - scale/2\n",
    "x2 = scale*rand(n) - scale/2\n",
    "f = lambda x1, x2: -5 - 3*x1 + 2*x2 + x1**2 - x1*x2 + 5*x2**2\n",
    "y = f(x1,x2)\n",
    "pos = y>0\n",
    "neg = y<0\n",
    "\n",
    "plt.scatter(x1[pos], x2[pos], s=4, color=\"blue\", label=\"y1\")\n",
    "plt.scatter(x1[neg], x2[neg], s=4, color=\"red\", label=\"y2\")\n",
    "plt.legend(loc=\"upper right\")"
   ]
  },
  {
   "cell_type": "code",
   "execution_count": 28,
   "metadata": {},
   "outputs": [
    {
     "data": {
      "text/plain": [
       "<matplotlib.legend.Legend at 0x7fb071a03e50>"
      ]
     },
     "execution_count": 28,
     "metadata": {},
     "output_type": "execute_result"
    },
    {
     "data": {
      "image/png": "[encoded data removed]",
      "text/plain": [
       "<Figure size 432x288 with 1 Axes>"
      ]
     },
     "metadata": {
      "needs_background": "light"
     },
     "output_type": "display_data"
    }
   ],
   "source": [
    "# Example 3: multivariate polynomial classification \n",
    "n = 1000\n",
    "scale = 20\n",
    "x1 = scale*rand(n) - scale/2\n",
    "x2 = scale*rand(n) - scale/2\n",
    "f = lambda x1, x2: -5 - 3*x1 + 2*x2 + x1**2 - x1*x2 - 2*x2**2\n",
    "y = f(x1,x2)\n",
    "pos = y>0\n",
    "neg = y<0\n",
    "\n",
    "plt.scatter(x1[pos], x2[pos], color=\"blue\", s=4, label=\"y1\")\n",
    "plt.scatter(x1[neg], x2[neg], color=\"red\", s=4, label=\"y2\")\n",
    "plt.legend(loc=\"upper right\")"
   ]
  }
 ],
 "metadata": {
  "kernelspec": {
   "display_name": "Python 3",
   "language": "python",
   "name": "python3"
  },
  "language_info": {
   "codemirror_mode": {
    "name": "ipython",
    "version": 3
   },
   "file_extension": ".py",
   "mimetype": "text/x-python",
   "name": "python",
   "nbconvert_exporter": "python",
   "pygments_lexer": "ipython3",
   "version": "3.8.3"
  }
 },
 "nbformat": 4,
 "nbformat_minor": 4
}
