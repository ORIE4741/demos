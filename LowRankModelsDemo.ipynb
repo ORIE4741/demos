{
 "cells": [
  {
   "cell_type": "code",
   "execution_count": 1,
   "metadata": {},
   "outputs": [
    {
     "data": {
      "text/plain": [
       "Plots.PyPlotBackend()"
      ]
     },
     "execution_count": 1,
     "metadata": {},
     "output_type": "execute_result"
    }
   ],
   "source": [
    "using LowRankModels, Plots, Random\n",
    "pyplot()"
   ]
  },
  {
   "cell_type": "markdown",
   "metadata": {},
   "source": [
    "LowRankModels.jl is a julia package for modeling and fitting generalized low rank models (GLRMs). GLRMs model a data array by a low rank matrix, and include many well known models in data analysis, such as principal components analysis (PCA), matrix completion, robust PCA, nonnegative matrix factorization, k-means, and many more."
   ]
  },
  {
   "cell_type": "markdown",
   "metadata": {},
   "source": [
    "LowRankModels.jl makes it easy to mix and match loss functions and regularizers to construct a model suitable for a particular data set. In particular, it supports\n",
    "\n",
    "   * using different loss functions for different columns of the data array, which is useful when data types are heterogeneous (eg, real, boolean, and ordinal columns);\n",
    "   * fitting the model to only some of the entries in the table, which is useful for data tables with many missing (unobserved) entries; and\n",
    "   * adding offsets and scalings to the model without destroying sparsity, which is useful when the data is poorly scaled.\n"
   ]
  },
  {
   "cell_type": "markdown",
   "metadata": {},
   "source": [
    "# Losses"
   ]
  },
  {
   "cell_type": "markdown",
   "metadata": {},
   "source": [
    "You've already seen most of the loss functions available in LowRankModels.\n",
    "\n",
    "For real valued $y$, try:\n",
    "   * quadratic loss - `QuadLoss()`\n",
    "   * $\\ell_1$ loss - `L1Loss()`\n",
    "   * quantile loss (for $\\alpha$ quantile) - `QuantileLoss(α)`\n",
    " \n",
    "For Boolean $y$, try\n",
    "   * hinge loss - `HingeLoss()`\n",
    "   * logistic loss - `LogisticLoss()`\n",
    "   * weighted hinge loss - `WeightedHingeLoss()`\n",
    "\n",
    "For nominal $y$, try\n",
    "   * multinomial loss - `MultinomialLoss()`\n",
    "   * one vs all loss - `OvALoss()`\n",
    "       * (by default, it uses the logistic loss for the underlying binary classifier)\n",
    "\n",
    "For ordinal $y$, try\n",
    "   * ordinal hinge loss - `OrdinalHingeLoss()`\n",
    "   * bigger vs smaller loss - `BvSLoss()`\n",
    "       * (by default, it uses the logistic loss for the underlying binary classifier)"
   ]
  },
  {
   "cell_type": "code",
   "execution_count": 2,
   "metadata": {},
   "outputs": [
    {
     "data": {
      "text/plain": [
       "QuadLoss(1.0, RealDomain())"
      ]
     },
     "execution_count": 2,
     "metadata": {},
     "output_type": "execute_result"
    }
   ],
   "source": [
    "# example loss function\n",
    "loss = QuadLoss()"
   ]
  },
  {
   "cell_type": "code",
   "execution_count": 3,
   "metadata": {},
   "outputs": [
    {
     "data": {
      "text/plain": [
       "0.0"
      ]
     },
     "execution_count": 3,
     "metadata": {},
     "output_type": "execute_result"
    }
   ],
   "source": [
    "loss = HingeLoss()\n",
    "\n",
    "# evaluate method: \n",
    "#   first argument is prediction w^T x\n",
    "#   first argument is desired output y (must be of correct type)\n",
    "evaluate(loss, 1., 1)"
   ]
  },
  {
   "cell_type": "code",
   "execution_count": 4,
   "metadata": {},
   "outputs": [
    {
     "data": {
      "text/plain": [
       "BvSLoss(4, LogisticLoss(1.0, BoolDomain()), 1.0, OrdinalDomain(1, 4))"
      ]
     },
     "execution_count": 4,
     "metadata": {},
     "output_type": "execute_result"
    }
   ],
   "source": [
    "# for ordinal and categorical losses, don't forget to specify number of levels\n",
    "loss = BvSLoss(4) # ordinal loss on 4 levels "
   ]
  },
  {
   "cell_type": "markdown",
   "metadata": {},
   "source": [
    "# Regularizer"
   ]
  },
  {
   "cell_type": "markdown",
   "metadata": {},
   "source": [
    "We've also seen many of the regularizers available:\n",
    "\n",
    "   * no regularization - `ZeroReg()`\n",
    "   * quadratic regularization - `QuadReg()`\n",
    "   * $\\ell_1$ regularization - `OneReg()`\n",
    "   * nonnegative constraint - `NonNegConstraint()`\n",
    "   * constrained squared euclidean norm - `QuadConstraint()`\n",
    "   * nonnegative constraint - `NonNegConstraint()` (eg, for nonnegative matrix factorization)\n",
    "   * 1-sparse constraint - `OneSparseConstraint()` (eg, for orthogonal NNMF)\n",
    "   * unit 1-sparse constraint - `UnitOneSparseConstraint()` (eg, for k-means)\n",
    "   * simplex constraint - `SimplexConstraint()`\n",
    "   * l1 regularization, combined with nonnegative constraint - `NonNegOneReg()`\n",
    "   * fix features at values y0 - `FixedLatentFeaturesConstraint(y0)`"
   ]
  },
  {
   "cell_type": "code",
   "execution_count": 5,
   "metadata": {},
   "outputs": [
    {
     "data": {
      "text/plain": [
       "QuadReg(1.0)"
      ]
     },
     "execution_count": 5,
     "metadata": {},
     "output_type": "execute_result"
    }
   ],
   "source": [
    "# regularizers\n",
    "lambda = 1\n",
    "\n",
    "nonneg = NonNegConstraint()\n",
    "l1 = OneReg(lambda)\n",
    "l2 = QuadReg(lambda)"
   ]
  },
  {
   "cell_type": "markdown",
   "metadata": {},
   "source": [
    "# Generalized Low Rank Models"
   ]
  },
  {
   "cell_type": "markdown",
   "metadata": {},
   "source": [
    "GLRMs form a low rank model for tabular data A with m rows and n columns, which can be input as an array or any array-like object (for example, a data frame). It is fine if only some of the entries have been observed (i.e., the others are missing or NA); the GLRM will only be fit on the observed entries $\\Omega$.\n",
    "\n",
    "The desired model is specified by choosing a rank k for the model, an array of loss functions losses, and two regularizers, $r_x$ and $r_w$. The data is modeled as $X^TW$, where $X$ is a $k\\times m$ matrix and $W$ is a $k\\times n$ matrix. $X$ and $W$ are found by solving the optimization problem\n",
    "\n",
    "$$\\min \\sum_{(i,j) \\in \\Omega} \\ell_j\\bigg((X^TW)[i,j], Y[i,j]\\bigg) + \\sum_i r_x(X[:,i]) + \\sum_j r_y(W[:,j])$$\n",
    "\n",
    "To form a GLRM, the user specifies\n",
    "\n",
    "   * the data $Y$ (any AbstractArray, such as an array, a sparse matrix, or a data frame)\n",
    "   * the array of loss functions $\\ell$\n",
    "   * the regularizers $r_x$ and $r_w$\n",
    "   * the rank $k$\n",
    "   * the observations $\\Omega$\n"
   ]
  },
  {
   "cell_type": "code",
   "execution_count": 6,
   "metadata": {},
   "outputs": [],
   "source": [
    "# example: nonnegative matrix factorization\n",
    "Random.seed!(0)\n",
    "Y = randn(10, 10)\n",
    "Y = randn(10,3) * randn(3,10)\n",
    "loss = QuadLoss()\n",
    "nonneg = NonNegConstraint()\n",
    "k = 5\n",
    "Ω = [(rand(1:10), rand(1:10)) for iobs in 1:50] # observe 50 random entries, with replacement\n",
    "glrm = GLRM(Y, loss, nonneg, nonneg, k, obs=Ω);"
   ]
  },
  {
   "cell_type": "code",
   "execution_count": 7,
   "metadata": {},
   "outputs": [],
   "source": [
    "# example: matrix completion\n",
    "Random.seed!(0)\n",
    "Y = randn(10, 10)\n",
    "Y = randn(10,3) * randn(3,10)\n",
    "loss = QuadLoss()\n",
    "reg = QuadReg(.01)\n",
    "k = 5\n",
    "Ω = [(rand(1:10), rand(1:10)) for iobs in 1:50] # observe 50 random entries, with replacement\n",
    "glrm = GLRM(Y, loss, reg, reg, k, obs=Ω);"
   ]
  },
  {
   "cell_type": "code",
   "execution_count": 8,
   "metadata": {},
   "outputs": [
    {
     "name": "stdout",
     "output_type": "stream",
     "text": [
      "Fitting GLRM\n",
      "Iteration 10: objective value = 0.5072112529479731\n",
      "Iteration 20: objective value = 0.4034448232453027\n"
     ]
    }
   ],
   "source": [
    "# To fit the model, call\n",
    "X,W,ch = fit!(glrm);"
   ]
  },
  {
   "cell_type": "code",
   "execution_count": 9,
   "metadata": {},
   "outputs": [
    {
     "data": {
      "image/png": "[encoded data removed]"
     },
     "execution_count": 9,
     "metadata": {},
     "output_type": "execute_result"
    }
   ],
   "source": [
    "# did it converge? \n",
    "plot(ch.objective[2:end])\n",
    "xlabel!(\"iteration\")\n",
    "ylabel!(\"objective\")\n",
    "yaxis!(:log)"
   ]
  },
  {
   "cell_type": "markdown",
   "metadata": {},
   "source": [
    "This runs an alternating directions proximal gradient method on glrm to find the $X$ and $W$ minimizing the objective function."
   ]
  },
  {
   "cell_type": "code",
   "execution_count": 10,
   "metadata": {},
   "outputs": [
    {
     "data": {
      "text/plain": [
       "5×10 Array{Float64,2}:\n",
       " -0.422993   0.537001  -0.14254    …   0.33599   -1.21547    1.82189\n",
       "  0.28939   -0.143836  -0.428139      -2.06635   -0.050295  -0.988493\n",
       " -0.483446   0.165126   0.0177681      0.341715  -0.782417   1.05648\n",
       "  0.536504   0.718997   3.44137        0.745075   0.42256    0.306294\n",
       "  0.222678  -0.984578   2.1589        -2.04808    0.94132    1.0437"
      ]
     },
     "execution_count": 10,
     "metadata": {},
     "output_type": "execute_result"
    }
   ],
   "source": [
    "X"
   ]
  },
  {
   "cell_type": "code",
   "execution_count": 11,
   "metadata": {},
   "outputs": [
    {
     "data": {
      "text/plain": [
       "5×10 Array{Float64,2}:\n",
       "  0.436782  -0.636849    0.264405  …   0.28723    -2.02259    -0.432754\n",
       " -0.353875  -0.104756    1.04007      -0.580977   -0.865213   -0.48482\n",
       " -1.47991   -0.847183    0.40167      -0.821694    0.0748491   0.00909274\n",
       "  0.50097    0.63491     0.109833      0.961063   -0.597003   -1.49089\n",
       " -1.19372   -0.0387582  -0.62859       0.0137478   0.332749    0.0762983"
      ]
     },
     "execution_count": 11,
     "metadata": {},
     "output_type": "execute_result"
    }
   ],
   "source": [
    "W"
   ]
  },
  {
   "cell_type": "markdown",
   "metadata": {},
   "source": [
    "To allow further convergence, try running for more iterations. \n",
    "You can just call fit!(glrm) again, or increase the number of iterations."
   ]
  },
  {
   "cell_type": "code",
   "execution_count": 12,
   "metadata": {},
   "outputs": [
    {
     "name": "stdout",
     "output_type": "stream",
     "text": [
      "Fitting GLRM\n",
      "Iteration 10: objective value = 0.3954898824323545\n"
     ]
    },
    {
     "data": {
      "text/plain": [
       "([-0.4030223706897124 0.49407507233115583 … -1.219142449592204 1.82212314257801; 0.3433151711722622 -0.04417723951314076 … -0.030045429502211257 -1.0267330385487543; … ; 0.48845512237765715 0.695560045555311 … 0.40298044707346553 0.28067712287401153; 0.18914742324022163 -0.885184999541803 … 0.898739017519355 1.0012426425142709], [0.38920333290036147 -0.6626169803748427 … -1.9912901344427008 -0.38215882691279107; -0.3583083624705301 -0.10362757069028869 … -0.7974590635989376 -0.4646467579220208; … ; 0.48178217178057187 0.6103148503701175 … -0.592301480812159 -1.5015059127613541; -1.2058846976593152 -0.0003386878740977817 … 0.35252383892795536 0.11035934576759086], ConvergenceHistory(\"ProxGradGLRM\", [0.9695801422434679, 0.4006938877106781, 0.39892701398883645, 0.3976932567991586, 0.39742602488908135, 0.39778907693672183, 0.3974663867919105, 0.39701018863239634, 0.39733563963392804, 0.39760462581787037, 0.3954898824323545, 0.3946991922399685, 0.39327089163393475, 0.392746007269617, 0.392012503080329, 0.39213769927342723], Float64[], [0.0, 0.0, 0.0, 0.0, 0.0, 0.0, 0.0, 0.0, 0.0, 0.0, 0.0, 0.0, 0.0, 0.0, 0.0, 0.0], [0.0, 0.0, 0.0, 0.0, 0.0, 0.0, 0.0, 0.0, 0.0, 0.0, 0.0, 0.0, 0.0, 0.0, 0.0, 0.0], [0.0, 0.0003490447998046875, 0.0004811286926269531, 0.0005931854248046875, 0.0007092952728271484, 0.0008451938629150391, 0.00098419189453125, 0.0011012554168701172, 0.001222372055053711, 0.0013632774353027344, 0.001505136489868164, 0.0017242431640625, 0.0019073486328125, 0.002100229263305664, 0.0022373199462890625, 0.0023713111877441406], [0.0, 0.0, 0.0, 0.0, 0.0, 0.0, 0.0, 0.0, 0.0, 0.0, 0.0, 0.0, 0.0, 0.0, 0.0, 0.0], 0))"
      ]
     },
     "execution_count": 12,
     "metadata": {},
     "output_type": "execute_result"
    }
   ],
   "source": [
    "fit!(glrm)"
   ]
  },
  {
   "cell_type": "markdown",
   "metadata": {},
   "source": [
    "## Impute missing values"
   ]
  },
  {
   "cell_type": "code",
   "execution_count": 13,
   "metadata": {},
   "outputs": [
    {
     "data": {
      "text/plain": [
       "10×10 Array{Number,2}:\n",
       "  0.378116    0.904787   -0.000227892  …   0.618643   0.290859    -0.712295\n",
       "  1.29706    -0.0788419   0.791745         0.770491  -1.66529     -1.31314\n",
       " -0.793931    2.19608    -1.25741          3.45891   -0.632055    -4.57071\n",
       "  4.25604     2.45115    -0.129716         2.16835    0.868303    -0.25577\n",
       "  0.171468    0.0250508   0.422249         0.562584  -1.35326     -1.29725\n",
       " -0.0131672   0.526358    0.0942851    …  -1.00181    2.21502      1.47537\n",
       " -1.0319      0.149035   -0.260814        -0.425777   2.83878      0.123599\n",
       "  3.18883     0.185706   -0.47076          1.94501    0.00889723  -0.377534\n",
       " -0.276901    1.67734    -1.09317          0.730898   2.50452     -0.0165131\n",
       " -1.51349    -1.80562    -0.698543         0.216109  -2.58727     -0.543634"
      ]
     },
     "execution_count": 13,
     "metadata": {},
     "output_type": "execute_result"
    }
   ],
   "source": [
    "# predicted values for all entries\n",
    "impute(glrm)"
   ]
  },
  {
   "cell_type": "code",
   "execution_count": 14,
   "metadata": {},
   "outputs": [
    {
     "data": {
      "text/plain": [
       "10×10 Array{Number,2}:\n",
       "  0.378116    0.904787   -0.000227892  …   0.61373    0.290859  -0.712295\n",
       "  1.29706    -0.0788419   0.791745         0.76337   -1.66529   -1.31561\n",
       " -0.783816    2.19608    -1.25741          3.45891   -0.632055  -4.57071\n",
       "  4.25604     2.45115    -0.129716         2.16489    0.868303  -0.25577\n",
       "  0.167164    0.0250508   0.430701         0.562584  -1.35326   -1.31139\n",
       " -0.0131672   0.535275    0.0919553    …  -1.0238     2.21502    1.47676\n",
       " -1.0319      0.149035   -0.268356        -0.419438   2.84577    0.125825\n",
       "  3.19479     0.185706   -0.47076          1.94501    0.015885  -0.377534\n",
       " -0.276901    1.68469    -1.09317          0.723536   2.50967   -0.0175466\n",
       " -1.51285    -1.80901    -0.698543         0.216109  -2.58703   -0.543634"
      ]
     },
     "execution_count": 14,
     "metadata": {},
     "output_type": "execute_result"
    }
   ],
   "source": [
    "# predicted values for missing entries; observed values for observed entries \n",
    "impute_missing(glrm)"
   ]
  },
  {
   "cell_type": "markdown",
   "metadata": {},
   "source": [
    "# Initialization\n",
    "\n",
    "You'll also often improve convergence, or even converge to a better solution, with good initialization:"
   ]
  },
  {
   "cell_type": "code",
   "execution_count": 15,
   "metadata": {},
   "outputs": [
    {
     "name": "stdout",
     "output_type": "stream",
     "text": [
      "Fitting GLRM\n",
      "Iteration 10: objective value = 3.3088414816755822\n",
      "Iteration 20: objective value = 1.6874888891858972\n",
      "Iteration 30: objective value = 1.5900191600399955\n",
      "Iteration 40: objective value = 1.5312421374086584\n",
      "Iteration 50: objective value = 1.4757169513573956\n",
      "Iteration 60: objective value = 1.4288124932948265\n",
      "Iteration 70: objective value = 1.382750197797223\n",
      "Iteration 80: objective value = 1.3367054383984835\n",
      "Iteration 90: objective value = 1.2975118848680802\n",
      "Iteration 100: objective value = 1.2562925019496296\n"
     ]
    },
    {
     "data": {
      "image/png": "[encoded data removed]"
     },
     "execution_count": 15,
     "metadata": {},
     "output_type": "execute_result"
    }
   ],
   "source": [
    "init_svd!(glrm)\n",
    "X,W,ch_svd = fit!(glrm)\n",
    "plot(ch_svd.objective[2:end], label=\"svd\")\n",
    "plot!(ch.objective[2:end], label=\"no svd\")\n",
    "xlabel!(\"iteration\")\n",
    "ylabel!(\"objective\")\n",
    "yaxis!(:log)"
   ]
  },
  {
   "cell_type": "markdown",
   "metadata": {},
   "source": [
    "# Treating different columns differently\n",
    "The losses argument can also be an array of loss functions, with one for each column (in order). For example, for a data set with 4 columns, you could use:"
   ]
  },
  {
   "cell_type": "code",
   "execution_count": 16,
   "metadata": {},
   "outputs": [
    {
     "data": {
      "text/plain": [
       "4-element Array{Loss,1}:\n",
       " QuadLoss(1.0, RealDomain())\n",
       " LogisticLoss(1.0, BoolDomain())\n",
       " WeightedHingeLoss(1.0, BoolDomain(), 1.0)\n",
       " BvSLoss(4, LogisticLoss(1.0, BoolDomain()), 1.0, OrdinalDomain(1, 4))"
      ]
     },
     "execution_count": 16,
     "metadata": {},
     "output_type": "execute_result"
    }
   ],
   "source": [
    "losses = Loss[QuadLoss(), LogisticLoss(), HingeLoss(), BvSLoss(4)]"
   ]
  },
  {
   "cell_type": "markdown",
   "metadata": {},
   "source": [
    "Similiarly, the $r_w$ argument can be an array of regularizers, with one for each column (in order). For example, for a data set with 3 columns, you could use:"
   ]
  },
  {
   "cell_type": "code",
   "execution_count": 17,
   "metadata": {},
   "outputs": [
    {
     "data": {
      "text/plain": [
       "3-element Array{Regularizer,1}:\n",
       " QuadReg(1.0)\n",
       " QuadReg(10.0)\n",
       " OneReg(1.0)"
      ]
     },
     "execution_count": 17,
     "metadata": {},
     "output_type": "execute_result"
    }
   ],
   "source": [
    "rw = Regularizer[QuadReg(1), QuadReg(10), OneReg()]"
   ]
  },
  {
   "cell_type": "markdown",
   "metadata": {},
   "source": [
    "# Example: PCA"
   ]
  },
  {
   "cell_type": "code",
   "execution_count": 18,
   "metadata": {},
   "outputs": [
    {
     "data": {
      "text/plain": [
       "fit_pca (generic function with 1 method)"
      ]
     },
     "execution_count": 18,
     "metadata": {},
     "output_type": "execute_result"
    }
   ],
   "source": [
    "# minimize ||Y - XW||^2\n",
    "function fit_pca(m,n,k)\n",
    "\t# matrix to encode\n",
    "\tY = randn(m,k)*randn(k,n)\n",
    "\tloss = QuadLoss()\n",
    "\tr = ZeroReg()\n",
    "\tglrm = GLRM(Y,loss,r,r,k)\n",
    "\tX,W,ch = fit!(glrm)\n",
    "\tprintln(\"Convergence history:\",ch.objective)\n",
    "\treturn Y,X,W,ch\n",
    "end"
   ]
  },
  {
   "cell_type": "code",
   "execution_count": null,
   "metadata": {},
   "outputs": [],
   "source": []
  }
 ],
 "metadata": {
  "@webio": {
   "lastCommId": null,
   "lastKernelId": null
  },
  "kernelspec": {
   "display_name": "Julia 1.5.1",
   "language": "julia",
   "name": "julia-1.5"
  },
  "language_info": {
   "file_extension": ".jl",
   "mimetype": "application/julia",
   "name": "julia",
   "version": "1.5.1"
  }
 },
 "nbformat": 4,
 "nbformat_minor": 1
}
