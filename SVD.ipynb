{
 "cells": [
  {
   "cell_type": "code",
   "execution_count": 14,
   "metadata": {},
   "outputs": [],
   "source": [
    "using LinearAlgebra, Random, Statistics"
   ]
  },
  {
   "cell_type": "code",
   "execution_count": 16,
   "metadata": {},
   "outputs": [
    {
     "data": {
      "text/plain": [
       "6×4 Array{Float64,2}:\n",
       "  0.573077   0.468126    0.468126    0.518838\n",
       "  0.699222   0.0420342   0.0420342   0.12317\n",
       " -0.156645   0.374166    0.374166    0.0239568\n",
       "  0.310086  -0.764711   -0.764711   -0.360399\n",
       " -0.507746   0.543277    0.543277   -2.1375\n",
       "  3.18472   -0.58651    -0.58651    -1.86139"
      ]
     },
     "execution_count": 16,
     "metadata": {},
     "output_type": "execute_result"
    }
   ],
   "source": [
    "# generate random data matrix\n",
    "n,d = 6,4\n",
    "X = randn(n,d)\n",
    "\n",
    "# optional: give it linearly dependent columns\n",
    "X[:,3] = X[:,2]\n",
    "X"
   ]
  },
  {
   "cell_type": "code",
   "execution_count": 17,
   "metadata": {},
   "outputs": [
    {
     "data": {
      "text/plain": [
       "SVD{Float64,Float64,Array{Float64,2}}\n",
       "U factor:\n",
       "6×4 Array{Float64,2}:\n",
       " -0.00539504  -0.190392   -0.642291  -0.0379604\n",
       " -0.122173    -0.169425   -0.241944  -0.701953\n",
       "  0.0663229    0.101954   -0.298173  -0.462216\n",
       " -0.177398    -0.0991203   0.651604  -0.500171\n",
       " -0.152621     0.95091    -0.081925  -0.117032\n",
       " -0.962228    -0.102945   -0.093368   0.168255\n",
       "singular values:\n",
       "4-element Array{Float64,1}:\n",
       " 3.918752252818832\n",
       " 2.3622345810143344\n",
       " 1.4211344525401286\n",
       " 7.032906093625886e-17\n",
       "Vt factor:\n",
       "4×4 Array{Float64,2}:\n",
       " -0.801491   0.161851   0.161851   0.552467\n",
       " -0.459291   0.251746   0.251746  -0.813818\n",
       " -0.382967  -0.640647  -0.640647  -0.180221\n",
       "  0.0       -0.707107   0.707107   5.55112e-17"
      ]
     },
     "execution_count": 17,
     "metadata": {},
     "output_type": "execute_result"
    }
   ],
   "source": [
    "U,σ,V = svd(X)"
   ]
  },
  {
   "cell_type": "code",
   "execution_count": 18,
   "metadata": {},
   "outputs": [
    {
     "data": {
      "text/plain": [
       "4×4 Array{Float64,2}:\n",
       " 1.0           8.68792e-17   6.79998e-17   6.41545e-17\n",
       " 8.68792e-17   1.0          -4.68924e-17  -1.55497e-16\n",
       " 6.79998e-17  -4.68924e-17   1.0          -1.31907e-16\n",
       " 6.41545e-17  -1.55497e-16  -1.31907e-16   1.0"
      ]
     },
     "execution_count": 18,
     "metadata": {},
     "output_type": "execute_result"
    }
   ],
   "source": [
    "U'*U"
   ]
  },
  {
   "cell_type": "code",
   "execution_count": 19,
   "metadata": {},
   "outputs": [
    {
     "data": {
      "text/plain": [
       "6×6 Array{Float64,2}:\n",
       "  0.450257    0.214961    0.189291   -0.379704   -0.12316     0.0783736\n",
       "  0.214961    0.594906    0.371219    0.231911   -0.0404891   0.0394824\n",
       "  0.189291    0.371219    0.317344    0.0150248   0.165348   -0.124244\n",
       " -0.379704    0.231911    0.0150248   0.716054   -0.0620265   0.0359058\n",
       " -0.12316    -0.0404891   0.165348   -0.0620265   0.94793     0.0369224\n",
       "  0.0783736   0.0394824  -0.124244    0.0359058   0.0369224   0.973508"
      ]
     },
     "execution_count": 19,
     "metadata": {},
     "output_type": "execute_result"
    }
   ],
   "source": [
    "U*U'"
   ]
  },
  {
   "cell_type": "code",
   "execution_count": 20,
   "metadata": {},
   "outputs": [
    {
     "data": {
      "text/plain": [
       "4×4 Array{Float64,2}:\n",
       "  1.0          8.68884e-17  1.27238e-17  -2.13768e-17\n",
       "  8.68884e-17  1.0          5.38631e-17   5.32179e-17\n",
       "  1.27238e-17  5.38631e-17  1.0           8.5981e-17\n",
       " -2.13768e-17  5.32179e-17  8.5981e-17    1.0"
      ]
     },
     "execution_count": 20,
     "metadata": {},
     "output_type": "execute_result"
    }
   ],
   "source": [
    "V'*V"
   ]
  },
  {
   "cell_type": "code",
   "execution_count": 21,
   "metadata": {},
   "outputs": [
    {
     "data": {
      "text/plain": [
       "4×4 Array{Float64,2}:\n",
       " 1.0          2.29502e-16  1.73991e-16  1.815e-16\n",
       " 2.29502e-16  1.0          1.21169e-16  1.75265e-16\n",
       " 1.73991e-16  1.21169e-16  1.0          7.33583e-17\n",
       " 1.815e-16    1.75265e-16  7.33583e-17  1.0"
      ]
     },
     "execution_count": 21,
     "metadata": {},
     "output_type": "execute_result"
    }
   ],
   "source": [
    "V*V'"
   ]
  },
  {
   "cell_type": "code",
   "execution_count": 22,
   "metadata": {},
   "outputs": [
    {
     "data": {
      "text/plain": [
       "4-element Array{Float64,1}:\n",
       " 3.918752252818832\n",
       " 2.3622345810143344\n",
       " 1.4211344525401286\n",
       " 7.032906093625886e-17"
      ]
     },
     "execution_count": 22,
     "metadata": {},
     "output_type": "execute_result"
    }
   ],
   "source": [
    "σ"
   ]
  },
  {
   "cell_type": "code",
   "execution_count": 23,
   "metadata": {},
   "outputs": [
    {
     "name": "stdout",
     "output_type": "stream",
     "text": [
      "Error of full rank svd: 3.222488743844374e-15\n",
      "Error of rank 3 approximation: 3.221816314104331e-15\n",
      "Error of rank 2 approximation: 1.4211344525401282\n",
      "Error of rank 1 approximation: 2.7567690051827887\n"
     ]
    }
   ],
   "source": [
    "# if we have a linearly dependent column, \n",
    "# decomposition is just as good if we ignore the 0 in sigma and reduce r by 1\n",
    "println(\"Error of full rank svd: \", norm(X - U*diagm(σ)*V'))\n",
    "for k=3:-1:1\n",
    "    println(\"Error of rank $k approximation: \", norm(X - U[:,1:k]*diagm(σ[1:k])*(V[:,1:k])'))\n",
    "end"
   ]
  },
  {
   "cell_type": "code",
   "execution_count": 24,
   "metadata": {},
   "outputs": [],
   "source": [
    "# form data from noisy linear model\n",
    "w♮ = randn(d)\n",
    "y = X*w♮ + .1*randn(n);"
   ]
  },
  {
   "cell_type": "code",
   "execution_count": 31,
   "metadata": {},
   "outputs": [
    {
     "data": {
      "text/plain": [
       "4-element Array{Float64,1}:\n",
       " -0.24723376947937492\n",
       "  1.2296831134048805e15\n",
       " -1.2296831134048812e15\n",
       " -1.4601005663102384"
      ]
     },
     "execution_count": 31,
     "metadata": {},
     "output_type": "execute_result"
    }
   ],
   "source": [
    "# solve least squares problem to estimate w\n",
    "w = V*diagm(σ.^(-1))*U'*y"
   ]
  },
  {
   "cell_type": "code",
   "execution_count": 44,
   "metadata": {},
   "outputs": [
    {
     "data": {
      "text/plain": [
       "4-element Array{Float64,1}:\n",
       " -0.24723376947937492\n",
       " -0.37987541412463555\n",
       " -0.3798754141246354\n",
       " -1.3635647571638487"
      ]
     },
     "execution_count": 44,
     "metadata": {},
     "output_type": "execute_result"
    }
   ],
   "source": [
    "# use rank k approximation to design matrix X\n",
    "# k=4 is full rank\n",
    "# when design matrix X has rank 3, k=3 gives 0 error approximation\n",
    "# while k=2 results in some loss of accuracy - but not much!\n",
    "k = 3\n",
    "w = V[:,1:k]*diagm(σ[1:k].^(-1))*(U[:,1:k])'*y"
   ]
  },
  {
   "cell_type": "code",
   "execution_count": 45,
   "metadata": {},
   "outputs": [
    {
     "data": {
      "text/plain": [
       "7.188211828540968e-15"
      ]
     },
     "execution_count": 45,
     "metadata": {},
     "output_type": "execute_result"
    }
   ],
   "source": [
    "# error in normal equations \n",
    "norm(X'*X*w - X'*y)"
   ]
  },
  {
   "cell_type": "code",
   "execution_count": 46,
   "metadata": {},
   "outputs": [
    {
     "data": {
      "text/plain": [
       "7.222425309945365e-15"
      ]
     },
     "execution_count": 46,
     "metadata": {},
     "output_type": "execute_result"
    }
   ],
   "source": [
    "w[2] += 1\n",
    "w[3] -= 1\n",
    "norm(X'*X*w - X'*y)"
   ]
  },
  {
   "cell_type": "code",
   "execution_count": 47,
   "metadata": {},
   "outputs": [
    {
     "data": {
      "text/plain": [
       "4-element Array{Float64,1}:\n",
       " -0.24723376947937492\n",
       "  0.6201245858753645\n",
       " -1.3798754141246354\n",
       " -1.3635647571638487"
      ]
     },
     "execution_count": 47,
     "metadata": {},
     "output_type": "execute_result"
    }
   ],
   "source": [
    "w"
   ]
  },
  {
   "cell_type": "code",
   "execution_count": 39,
   "metadata": {},
   "outputs": [
    {
     "data": {
      "text/plain": [
       "0.5997851656441274"
      ]
     },
     "execution_count": 39,
     "metadata": {},
     "output_type": "execute_result"
    }
   ],
   "source": [
    "# how good is our estimate of w?\n",
    "norm(w - w♮) / norm(w♮)"
   ]
  },
  {
   "cell_type": "code",
   "execution_count": 40,
   "metadata": {},
   "outputs": [
    {
     "data": {
      "text/plain": [
       "0.010609982025196208"
      ]
     },
     "execution_count": 40,
     "metadata": {},
     "output_type": "execute_result"
    }
   ],
   "source": [
    "# compute mean square error\n",
    "mean((y - X*w).^2)"
   ]
  },
  {
   "cell_type": "code",
   "execution_count": 41,
   "metadata": {},
   "outputs": [
    {
     "data": {
      "text/plain": [
       "9.646809571707696e-16"
      ]
     },
     "execution_count": 41,
     "metadata": {},
     "output_type": "execute_result"
    }
   ],
   "source": [
    "# let's use the shorthand\n",
    "# backslash finds least norm solution to normal eqns\n",
    "# using SVD when design matrix X is rank deficient\n",
    "w_backslash = X \\ y\n",
    "norm(w_backslash - w)"
   ]
  },
  {
   "cell_type": "code",
   "execution_count": null,
   "metadata": {},
   "outputs": [],
   "source": []
  }
 ],
 "metadata": {
  "@webio": {
   "lastCommId": null,
   "lastKernelId": null
  },
  "kernelspec": {
   "display_name": "Julia 1.5.1",
   "language": "julia",
   "name": "julia-1.5"
  },
  "language_info": {
   "file_extension": ".jl",
   "mimetype": "application/julia",
   "name": "julia",
   "version": "1.5.1"
  }
 },
 "nbformat": 4,
 "nbformat_minor": 1
}
