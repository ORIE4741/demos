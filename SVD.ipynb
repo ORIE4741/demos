{
 "cells": [
  {
   "cell_type": "code",
   "execution_count": 1,
   "metadata": {},
   "outputs": [],
   "source": [
    "using LinearAlgebra, Random, Statistics"
   ]
  },
  {
   "cell_type": "code",
   "execution_count": 2,
   "metadata": {},
   "outputs": [
    {
     "data": {
      "text/plain": [
       "6-element Array{Float64,1}:\n",
       "  0.5136788312231796\n",
       " -0.12787754532839718\n",
       " -0.4834037745160183\n",
       " -0.7915295000745926\n",
       " -1.0908843814045057\n",
       "  1.5025523054723697"
      ]
     },
     "execution_count": 2,
     "metadata": {},
     "output_type": "execute_result"
    }
   ],
   "source": [
    "# generate random data matrix\n",
    "n,d = 6,4\n",
    "X = randn(n,d)\n",
    "\n",
    "# optional: give it linearly dependent columns\n",
    "X[:,3] = X[:,2]"
   ]
  },
  {
   "cell_type": "code",
   "execution_count": 3,
   "metadata": {},
   "outputs": [
    {
     "data": {
      "text/plain": [
       "SVD{Float64,Float64,Array{Float64,2}}\n",
       "U factor:\n",
       "6×4 Array{Float64,2}:\n",
       " -0.568163   -0.171815   0.0952828    0.73464\n",
       " -0.314689   -0.347533   0.217571    -0.587069\n",
       " -0.132778   -0.412281  -0.00813318   0.0667861\n",
       " -0.0664736  -0.552727  -0.745321    -0.0872516\n",
       "  0.647021   -0.117238  -0.222224     0.304362\n",
       " -0.370777    0.600393  -0.581921    -0.104619\n",
       "singular values:\n",
       "4-element Array{Float64,1}:\n",
       " 4.262098287410943\n",
       " 2.5911493509088843\n",
       " 1.5443517284792978\n",
       " 1.1521074635733857e-16\n",
       "Vt factor:\n",
       "4×4 Array{Float64,2}:\n",
       " -0.86831   -0.327948   -0.327948   -0.17589\n",
       " -0.451009   0.626362    0.626362   -0.109233\n",
       "  0.206466  -0.0109745  -0.0109745  -0.978331\n",
       "  0.0       -0.707107    0.707107   -2.498e-16"
      ]
     },
     "execution_count": 3,
     "metadata": {},
     "output_type": "execute_result"
    }
   ],
   "source": [
    "U,σ,V = svd(X)"
   ]
  },
  {
   "cell_type": "code",
   "execution_count": 4,
   "metadata": {},
   "outputs": [
    {
     "data": {
      "text/plain": [
       "4×4 Array{Float64,2}:\n",
       "  1.0          -1.01315e-16   2.26706e-17  -1.45177e-16\n",
       " -1.01315e-16   1.0          -2.33022e-16   8.99258e-17\n",
       "  2.26706e-17  -2.33022e-16   1.0           2.57133e-17\n",
       " -1.45177e-16   8.99258e-17   2.57133e-17   1.0"
      ]
     },
     "execution_count": 4,
     "metadata": {},
     "output_type": "execute_result"
    }
   ],
   "source": [
    "U'*U"
   ]
  },
  {
   "cell_type": "code",
   "execution_count": 5,
   "metadata": {},
   "outputs": [
    {
     "data": {
      "text/plain": [
       "4×4 Array{Float64,2}:\n",
       "  1.0          1.46294e-16  -7.2519e-17   -1.03137e-16\n",
       "  1.46294e-16  1.0           3.56706e-16   2.29154e-16\n",
       " -7.2519e-17   3.56706e-16   1.0           1.04408e-16\n",
       " -1.03137e-16  2.29154e-16   1.04408e-16   1.0"
      ]
     },
     "execution_count": 5,
     "metadata": {},
     "output_type": "execute_result"
    }
   ],
   "source": [
    "V'*V"
   ]
  },
  {
   "cell_type": "code",
   "execution_count": 6,
   "metadata": {},
   "outputs": [
    {
     "data": {
      "text/plain": [
       "4-element Array{Float64,1}:\n",
       " 4.262098287410943\n",
       " 2.5911493509088843\n",
       " 1.5443517284792978\n",
       " 1.1521074635733857e-16"
      ]
     },
     "execution_count": 6,
     "metadata": {},
     "output_type": "execute_result"
    }
   ],
   "source": [
    "σ"
   ]
  },
  {
   "cell_type": "code",
   "execution_count": 7,
   "metadata": {},
   "outputs": [
    {
     "name": "stdout",
     "output_type": "stream",
     "text": [
      "Error of full rank svd: 2.3529297095611565e-15\n",
      "Error of rank 3 approximation: 2.3358423603593286e-15\n",
      "Error of rank 2 approximation: 1.5443517284792974\n",
      "Error of rank 1 approximation: 3.0164676726218245\n"
     ]
    }
   ],
   "source": [
    "# if we have a linearly dependent column, \n",
    "# decomposition is just as good if we ignore the 0 in sigma and reduce r by 1\n",
    "println(\"Error of full rank svd: \", norm(X - U*diagm(σ)*V'))\n",
    "for k=3:-1:1\n",
    "    println(\"Error of rank $k approximation: \", norm(X - U[:,1:k]*diagm(σ[1:k])*(V[:,1:k])'))\n",
    "end"
   ]
  },
  {
   "cell_type": "code",
   "execution_count": 8,
   "metadata": {},
   "outputs": [],
   "source": [
    "# form data from noisy linear model\n",
    "w♮ = randn(d)\n",
    "y = X*w♮ + .1*randn(n);"
   ]
  },
  {
   "cell_type": "code",
   "execution_count": 9,
   "metadata": {},
   "outputs": [
    {
     "data": {
      "text/plain": [
       "4-element Array{Float64,1}:\n",
       " -1.5154000495613071\n",
       " -9.0444086867765e13\n",
       "  9.0444086867763e13\n",
       "  2.2884718050690585"
      ]
     },
     "execution_count": 9,
     "metadata": {},
     "output_type": "execute_result"
    }
   ],
   "source": [
    "# solve least squares problem to estimate w\n",
    "w = V*diagm(σ.^(-1))*U'*y"
   ]
  },
  {
   "cell_type": "code",
   "execution_count": 10,
   "metadata": {},
   "outputs": [
    {
     "data": {
      "text/plain": [
       "4-element Array{Float64,1}:\n",
       " -1.5154000495613071\n",
       " -0.4085969926968041\n",
       " -0.4085969926968038\n",
       "  2.320423060281874"
      ]
     },
     "execution_count": 10,
     "metadata": {},
     "output_type": "execute_result"
    }
   ],
   "source": [
    "# use rank k approximation to design matrix X\n",
    "# k=4 is full rank\n",
    "# when design matrix X has rank 3, k=3 gives 0 error approximation\n",
    "# while k=2 results in some loss of accuracy - but not much!\n",
    "k = 3\n",
    "w = V[:,1:k]*diagm(σ[1:k].^(-1))*(U[:,1:k])'*y"
   ]
  },
  {
   "cell_type": "code",
   "execution_count": 11,
   "metadata": {},
   "outputs": [
    {
     "data": {
      "text/plain": [
       "0.28307313588650584"
      ]
     },
     "execution_count": 11,
     "metadata": {},
     "output_type": "execute_result"
    }
   ],
   "source": [
    "# how good is our estimate of w?\n",
    "norm(w - w♮) / norm(w♮)"
   ]
  },
  {
   "cell_type": "code",
   "execution_count": 12,
   "metadata": {},
   "outputs": [
    {
     "data": {
      "text/plain": [
       "0.002292939150367754"
      ]
     },
     "execution_count": 12,
     "metadata": {},
     "output_type": "execute_result"
    }
   ],
   "source": [
    "# compute mean square error\n",
    "mean((y - X*w).^2)"
   ]
  },
  {
   "cell_type": "code",
   "execution_count": 13,
   "metadata": {},
   "outputs": [
    {
     "data": {
      "text/plain": [
       "1.1775693440128313e-15"
      ]
     },
     "execution_count": 13,
     "metadata": {},
     "output_type": "execute_result"
    }
   ],
   "source": [
    "# let's use the shorthand\n",
    "# backslash finds least norm solution to normal eqns\n",
    "# using SVD when design matrix X is rank deficient\n",
    "w_backslash = X \\ y\n",
    "norm(w_backslash - w)"
   ]
  },
  {
   "cell_type": "code",
   "execution_count": null,
   "metadata": {},
   "outputs": [],
   "source": []
  }
 ],
 "metadata": {
  "@webio": {
   "lastCommId": null,
   "lastKernelId": null
  },
  "kernelspec": {
   "display_name": "Julia 1.5.1",
   "language": "julia",
   "name": "julia-1.5"
  },
  "language_info": {
   "file_extension": ".jl",
   "mimetype": "application/julia",
   "name": "julia",
   "version": "1.5.1"
  }
 },
 "nbformat": 4,
 "nbformat_minor": 1
}
