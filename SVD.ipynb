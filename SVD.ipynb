{
 "cells": [
  {
   "cell_type": "code",
   "execution_count": 26,
   "metadata": {},
   "outputs": [],
   "source": [
    "import numpy as np\n",
    "from scipy.linalg import svd, norm\n",
    "from numpy.random import randn, rand\n",
    "np.random.seed(0)"
   ]
  },
  {
   "cell_type": "code",
   "execution_count": 27,
   "metadata": {},
   "outputs": [
    {
     "data": {
      "text/plain": [
       "array([[ 1.76405235,  0.40015721,  0.97873798,  0.97873798],\n",
       "       [ 1.86755799, -0.97727788,  0.95008842,  0.95008842],\n",
       "       [-0.10321885,  0.4105985 ,  0.14404357,  0.14404357],\n",
       "       [ 0.76103773,  0.12167502,  0.44386323,  0.44386323],\n",
       "       [ 1.49407907, -0.20515826,  0.3130677 ,  0.3130677 ],\n",
       "       [-2.55298982,  0.6536186 ,  0.8644362 ,  0.8644362 ]])"
      ]
     },
     "execution_count": 27,
     "metadata": {},
     "output_type": "execute_result"
    }
   ],
   "source": [
    "# generate random data matrix\n",
    "n,d = 6,4\n",
    "X = randn(n,d)\n",
    "\n",
    "# optional: give it linearly dependent columns\n",
    "X[:,3] = X[:,2]\n",
    "X"
   ]
  },
  {
   "cell_type": "code",
   "execution_count": 28,
   "metadata": {},
   "outputs": [
    {
     "data": {
      "text/plain": [
       "array([0., 0., 0., 0., 0., 0.])"
      ]
     },
     "execution_count": 28,
     "metadata": {},
     "output_type": "execute_result"
    }
   ],
   "source": [
    "# find a vector w in the nullspace of X\n",
    "w = np.zeros(d)\n",
    "w[2] = -1\n",
    "w[3] = 1\n",
    "X@w"
   ]
  },
  {
   "cell_type": "code",
   "execution_count": 29,
   "metadata": {},
   "outputs": [],
   "source": [
    "U,S,Vt = svd(X, full_matrices=False)"
   ]
  },
  {
   "cell_type": "code",
   "execution_count": 5,
   "metadata": {},
   "outputs": [
    {
     "data": {
      "text/plain": [
       "True"
      ]
     },
     "execution_count": 5,
     "metadata": {},
     "output_type": "execute_result"
    }
   ],
   "source": [
    "np.allclose(U@np.diag(S)@Vt, X)"
   ]
  },
  {
   "cell_type": "code",
   "execution_count": 6,
   "metadata": {},
   "outputs": [
    {
     "data": {
      "text/plain": [
       "array([[ 1.00000000e+00, -7.38697485e-17,  3.23622199e-17,\n",
       "        -3.99817880e-17],\n",
       "       [-7.38697485e-17,  1.00000000e+00, -3.81412273e-17,\n",
       "         5.93941004e-17],\n",
       "       [ 3.23622199e-17, -3.81412273e-17,  1.00000000e+00,\n",
       "        -4.16017539e-17],\n",
       "       [-3.99817880e-17,  5.93941004e-17, -4.16017539e-17,\n",
       "         1.00000000e+00]])"
      ]
     },
     "execution_count": 6,
     "metadata": {},
     "output_type": "execute_result"
    }
   ],
   "source": [
    "U.T@U"
   ]
  },
  {
   "cell_type": "code",
   "execution_count": 7,
   "metadata": {},
   "outputs": [
    {
     "data": {
      "text/plain": [
       "True"
      ]
     },
     "execution_count": 7,
     "metadata": {},
     "output_type": "execute_result"
    }
   ],
   "source": [
    "np.allclose(U.T@U, np.identity(d))"
   ]
  },
  {
   "cell_type": "code",
   "execution_count": 8,
   "metadata": {},
   "outputs": [
    {
     "data": {
      "text/plain": [
       "(6, 4)"
      ]
     },
     "execution_count": 8,
     "metadata": {},
     "output_type": "execute_result"
    }
   ],
   "source": [
    "U.shape"
   ]
  },
  {
   "cell_type": "code",
   "execution_count": 9,
   "metadata": {},
   "outputs": [
    {
     "data": {
      "text/plain": [
       "array([[ 0.80175178, -0.06399596, -0.00612596,  0.30096884,  0.24817008,\n",
       "         0.05140258],\n",
       "       [-0.06399596,  0.9701751 ,  0.00504366,  0.0348882 ,  0.15022773,\n",
       "         0.03207643],\n",
       "       [-0.00612596,  0.00504366,  0.9944328 ,  0.05699362, -0.04603767,\n",
       "        -0.01027116],\n",
       "       [ 0.30096884,  0.0348882 ,  0.05699362,  0.12011976,  0.0995328 ,\n",
       "         0.02713897],\n",
       "       [ 0.24817008,  0.15022773, -0.04603767,  0.0995328 ,  0.15300143,\n",
       "        -0.18278125],\n",
       "       [ 0.05140258,  0.03207643, -0.01027116,  0.02713897, -0.18278125,\n",
       "         0.96051913]])"
      ]
     },
     "execution_count": 9,
     "metadata": {},
     "output_type": "execute_result"
    }
   ],
   "source": [
    "U@U.T"
   ]
  },
  {
   "cell_type": "code",
   "execution_count": 10,
   "metadata": {},
   "outputs": [
    {
     "data": {
      "text/plain": [
       "(4, 4)"
      ]
     },
     "execution_count": 10,
     "metadata": {},
     "output_type": "execute_result"
    }
   ],
   "source": [
    "Vt.shape"
   ]
  },
  {
   "cell_type": "code",
   "execution_count": 11,
   "metadata": {},
   "outputs": [
    {
     "data": {
      "text/plain": [
       "True"
      ]
     },
     "execution_count": 11,
     "metadata": {},
     "output_type": "execute_result"
    }
   ],
   "source": [
    "np.allclose(Vt @ Vt.T, np.identity(d))"
   ]
  },
  {
   "cell_type": "code",
   "execution_count": 12,
   "metadata": {},
   "outputs": [
    {
     "data": {
      "text/plain": [
       "True"
      ]
     },
     "execution_count": 12,
     "metadata": {},
     "output_type": "execute_result"
    }
   ],
   "source": [
    "np.allclose(Vt.T @ Vt, np.identity(d))"
   ]
  },
  {
   "cell_type": "code",
   "execution_count": 13,
   "metadata": {},
   "outputs": [
    {
     "data": {
      "text/plain": [
       "array([4.15760175e+00, 2.28949949e+00, 1.01350732e+00, 1.48389401e-16])"
      ]
     },
     "execution_count": 13,
     "metadata": {},
     "output_type": "execute_result"
    }
   ],
   "source": [
    "S"
   ]
  },
  {
   "cell_type": "code",
   "execution_count": 14,
   "metadata": {},
   "outputs": [
    {
     "name": "stdout",
     "output_type": "stream",
     "text": [
      "Error of rank 0 approximation:  4.853314053310529\n",
      "Error of rank 1 approximation:  2.5037981161489284\n",
      "Error of rank 2 approximation:  1.0135073191135213\n",
      "Error of rank 3 approximation:  2.0282945925593685e-15\n",
      "Error of rank 4 approximation:  2.0404123996834285e-15\n"
     ]
    }
   ],
   "source": [
    "# if we have a linearly dependent column, \n",
    "# decomposition is just as good if we ignore the 0 in sigma and reduce r by 1\n",
    "for k in range(d+1):\n",
    "    print(f\"Error of rank {k} approximation: \", \n",
    "          np.linalg.norm(X - U[:,:k]@np.diag(S[:k])@(Vt[:k,:])))\n",
    "    "
   ]
  },
  {
   "cell_type": "code",
   "execution_count": 33,
   "metadata": {},
   "outputs": [
    {
     "data": {
      "text/plain": [
       "array([[0., 0., 0., 0.],\n",
       "       [0., 0., 0., 0.],\n",
       "       [0., 0., 0., 0.],\n",
       "       [0., 0., 0., 0.],\n",
       "       [0., 0., 0., 0.],\n",
       "       [0., 0., 0., 0.]])"
      ]
     },
     "execution_count": 33,
     "metadata": {},
     "output_type": "execute_result"
    }
   ],
   "source": [
    "# what is a rank 0 approximation?\n",
    "k = 0\n",
    "U[:,:k]@np.diag(S[:k])@(Vt[:k,:])"
   ]
  },
  {
   "cell_type": "code",
   "execution_count": 38,
   "metadata": {},
   "outputs": [
    {
     "data": {
      "text/plain": [
       "array([[ 1.63569576, -0.14072899,  1.04290218,  1.04290218],\n",
       "       [ 2.03375744, -0.27692435,  0.86700695,  0.86700695],\n",
       "       [-0.18022995,  0.08607883,  0.18254066,  0.18254066],\n",
       "       [ 0.71793643, -0.05995099,  0.46540914,  0.46540914],\n",
       "       [ 1.47764056, -0.27442906,  0.32128515,  0.32128515],\n",
       "       [-2.51856443,  0.7986849 ,  0.84722729,  0.84722729]])"
      ]
     },
     "execution_count": 38,
     "metadata": {},
     "output_type": "execute_result"
    }
   ],
   "source": [
    "# form rank 2 apx of X by zeroing last two singular values\n",
    "S2 = S.copy()\n",
    "S2[2:] = 0\n",
    "U@np.diag(S2)@Vt"
   ]
  },
  {
   "cell_type": "code",
   "execution_count": 39,
   "metadata": {},
   "outputs": [],
   "source": [
    "# form data from noisy linear model\n",
    "wtrue = randn(d)\n",
    "y = X@wtrue + .1*randn(n);"
   ]
  },
  {
   "cell_type": "code",
   "execution_count": 40,
   "metadata": {},
   "outputs": [
    {
     "data": {
      "text/plain": [
       "array([ 2.32981892e+00, -1.49417792e+00, -1.55210116e+14,  1.55210116e+14])"
      ]
     },
     "execution_count": 40,
     "metadata": {},
     "output_type": "execute_result"
    }
   ],
   "source": [
    "# solve least squares problem to estimate w\n",
    "w4 = Vt.T@np.diag(S**(-1))@U.T@y\n",
    "w4"
   ]
  },
  {
   "cell_type": "code",
   "execution_count": 41,
   "metadata": {},
   "outputs": [
    {
     "name": "stdout",
     "output_type": "stream",
     "text": [
      "residual given w4: 0.3224116203732873\n",
      "residual given wtrue: 0.3063847433022363\n"
     ]
    }
   ],
   "source": [
    "# it gives a low norm solution, but definitely not optimal...\n",
    "print(\"residual given w4:\", norm(y - X.dot(w4)))\n",
    "print(\"residual given wtrue:\", norm(y - X.dot(wtrue)))"
   ]
  },
  {
   "cell_type": "code",
   "execution_count": 42,
   "metadata": {},
   "outputs": [
    {
     "data": {
      "text/plain": [
       "0.7526118592612931"
      ]
     },
     "execution_count": 42,
     "metadata": {},
     "output_type": "execute_result"
    }
   ],
   "source": [
    "# error in normal equations not zero! uh oh!\n",
    "norm(X.T@X@w4 - X.T@y)"
   ]
  },
  {
   "cell_type": "code",
   "execution_count": 48,
   "metadata": {},
   "outputs": [
    {
     "data": {
      "text/plain": [
       "array([ 2.32981892, -1.45396574, -0.07338535, -0.07338535])"
      ]
     },
     "execution_count": 48,
     "metadata": {},
     "output_type": "execute_result"
    }
   ],
   "source": [
    "# use rank k approximation to design matrix X\n",
    "# k=4 is full rank\n",
    "# when design matrix X has rank 3, k=3 gives 0 error approximation\n",
    "# while k=2 results in loss of accuracy\n",
    "k = 3\n",
    "w3 = Vt[:k,:].T@np.diag(S[:k]**(-1))@(U[:,:k]).T@y\n",
    "w3"
   ]
  },
  {
   "cell_type": "code",
   "execution_count": 49,
   "metadata": {},
   "outputs": [
    {
     "name": "stdout",
     "output_type": "stream",
     "text": [
      "residual given w3: 0.1943391668277365\n",
      "error in normal equations given w3: 2.175583928816829e-15\n"
     ]
    }
   ],
   "source": [
    "print(\"residual given w3:\", norm(y - X.dot(w3)))\n",
    "print(\"error in normal equations given w3:\", norm(X.T@X@w3 - X.T@y))"
   ]
  },
  {
   "cell_type": "code",
   "execution_count": 57,
   "metadata": {},
   "outputs": [
    {
     "data": {
      "text/plain": [
       "1.2560739669470201e-15"
      ]
     },
     "execution_count": 57,
     "metadata": {},
     "output_type": "execute_result"
    }
   ],
   "source": [
    "# add a vector in the nullspace to w3:\n",
    "w = w3.copy()\n",
    "w[2] += 1\n",
    "w[3] -= 1\n",
    "norm(X.T@X@w - X.T@y)"
   ]
  },
  {
   "cell_type": "markdown",
   "metadata": {},
   "source": [
    "Poll:\n",
    "* A) least squares residual norm(y-Xw) will be higher for w than w3\n",
    "* B) least squares residual norm(y-Xw) will be lower for w than w3\n",
    "* C) least squares residual norm(y-Xw) will be the same for w than w3\n",
    "    \n",
    "Poll:\n",
    "* A) there is one global minimum of least squares\n",
    "* B) there are two global minima of least squares\n",
    "* C) there are many global minima of least squares\n",
    "* D) there are infinitely many global minima of least squares"
   ]
  },
  {
   "cell_type": "code",
   "execution_count": 55,
   "metadata": {},
   "outputs": [
    {
     "name": "stdout",
     "output_type": "stream",
     "text": [
      "residual given w: 0.19433916682773522\n",
      "error in normal equations given w: 7.215595591812694e-15\n"
     ]
    }
   ],
   "source": [
    "print(\"residual given w:\", norm(y - X.dot(w)))\n",
    "print(\"error in normal equations given w:\", norm(X.T@X@w - X.T@y))"
   ]
  },
  {
   "cell_type": "code",
   "execution_count": 59,
   "metadata": {},
   "outputs": [
    {
     "data": {
      "text/plain": [
       "array([ 2.32981892, -1.45396574,  0.92661465, -1.07338535])"
      ]
     },
     "execution_count": 59,
     "metadata": {},
     "output_type": "execute_result"
    }
   ],
   "source": [
    "w"
   ]
  },
  {
   "cell_type": "code",
   "execution_count": 60,
   "metadata": {},
   "outputs": [
    {
     "data": {
      "text/plain": [
       "0.4628663965326436"
      ]
     },
     "execution_count": 60,
     "metadata": {},
     "output_type": "execute_result"
    }
   ],
   "source": [
    "# how good is our estimate of w?\n",
    "norm(w - wtrue) / norm(wtrue)"
   ]
  },
  {
   "cell_type": "code",
   "execution_count": 24,
   "metadata": {},
   "outputs": [
    {
     "data": {
      "text/plain": [
       "0.006294618627216451"
      ]
     },
     "execution_count": 24,
     "metadata": {},
     "output_type": "execute_result"
    }
   ],
   "source": [
    "# compute mean square error\n",
    "np.mean((y - X@w)**2)"
   ]
  },
  {
   "cell_type": "code",
   "execution_count": 61,
   "metadata": {},
   "outputs": [
    {
     "data": {
      "text/plain": [
       "1.0990647210786425e-15"
      ]
     },
     "execution_count": 61,
     "metadata": {},
     "output_type": "execute_result"
    }
   ],
   "source": [
    "# we can use the numpy.lstsq call instead\n",
    "w_lstsq = np.linalg.lstsq(X, y, rcond=None)[0]\n",
    "norm(w_lstsq - w3)"
   ]
  },
  {
   "cell_type": "code",
   "execution_count": null,
   "metadata": {},
   "outputs": [],
   "source": []
  }
 ],
 "metadata": {
  "@webio": {
   "lastCommId": null,
   "lastKernelId": null
  },
  "kernelspec": {
   "display_name": "Python 3",
   "language": "python",
   "name": "python3"
  },
  "language_info": {
   "codemirror_mode": {
    "name": "ipython",
    "version": 3
   },
   "file_extension": ".py",
   "mimetype": "text/x-python",
   "name": "python",
   "nbconvert_exporter": "python",
   "pygments_lexer": "ipython3",
   "version": "3.8.3"
  }
 },
 "nbformat": 4,
 "nbformat_minor": 1
}
