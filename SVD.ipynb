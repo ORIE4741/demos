{
 "cells": [
  {
   "cell_type": "code",
   "execution_count": 1,
   "metadata": {},
   "outputs": [],
   "source": [
    "import numpy as np\n",
    "from scipy.linalg import svd, norm\n",
    "from numpy.random import randn, rand\n",
    "np.random.seed(0)"
   ]
  },
  {
   "cell_type": "code",
   "execution_count": null,
   "metadata": {},
   "outputs": [],
   "source": [
    "# generate random data matrix\n",
    "n,d = 6,4\n",
    "X = randn(n,d)\n",
    "\n",
    "# optional: give it linearly dependent columns\n",
    "X[:,3] = X[:,2]\n",
    "X"
   ]
  },
  {
   "cell_type": "code",
   "execution_count": 3,
   "metadata": {},
   "outputs": [],
   "source": [
    "U,S,V = svd(X, full_matrices=False)"
   ]
  },
  {
   "cell_type": "code",
   "execution_count": 4,
   "metadata": {},
   "outputs": [
    {
     "data": {
      "text/plain": [
       "array([[ 1.00000000e+00, -7.38697485e-17,  3.23622199e-17,\n",
       "        -3.99817880e-17],\n",
       "       [-7.38697485e-17,  1.00000000e+00, -3.81412273e-17,\n",
       "         5.93941004e-17],\n",
       "       [ 3.23622199e-17, -3.81412273e-17,  1.00000000e+00,\n",
       "        -4.16017539e-17],\n",
       "       [-3.99817880e-17,  5.93941004e-17, -4.16017539e-17,\n",
       "         1.00000000e+00]])"
      ]
     },
     "execution_count": 4,
     "metadata": {},
     "output_type": "execute_result"
    },
    {
     "data": {
      "text/plain": [
       "array([[ 1.00000000e+00, -7.38697485e-17,  3.23622199e-17,\n",
       "        -3.99817880e-17],\n",
       "       [-7.38697485e-17,  1.00000000e+00, -3.81412273e-17,\n",
       "         5.93941004e-17],\n",
       "       [ 3.23622199e-17, -3.81412273e-17,  1.00000000e+00,\n",
       "        -4.16017539e-17],\n",
       "       [-3.99817880e-17,  5.93941004e-17, -4.16017539e-17,\n",
       "         1.00000000e+00]])"
      ]
     },
     "execution_count": 4,
     "metadata": {},
     "output_type": "execute_result"
    }
   ],
   "source": [
    "U.T@U"
   ]
  },
  {
   "cell_type": "code",
   "execution_count": 5,
   "metadata": {},
   "outputs": [
    {
     "data": {
      "text/plain": [
       "True"
      ]
     },
     "execution_count": 5,
     "metadata": {},
     "output_type": "execute_result"
    },
    {
     "data": {
      "text/plain": [
       "True"
      ]
     },
     "execution_count": 5,
     "metadata": {},
     "output_type": "execute_result"
    }
   ],
   "source": [
    "np.allclose(U.T@U, np.identity(d))"
   ]
  },
  {
   "cell_type": "code",
   "execution_count": 6,
   "metadata": {},
   "outputs": [
    {
     "data": {
      "text/plain": [
       "array([[ 0.80175178, -0.06399596, -0.00612596,  0.30096884,  0.24817008,\n",
       "         0.05140258],\n",
       "       [-0.06399596,  0.9701751 ,  0.00504366,  0.0348882 ,  0.15022773,\n",
       "         0.03207643],\n",
       "       [-0.00612596,  0.00504366,  0.9944328 ,  0.05699362, -0.04603767,\n",
       "        -0.01027116],\n",
       "       [ 0.30096884,  0.0348882 ,  0.05699362,  0.12011976,  0.0995328 ,\n",
       "         0.02713897],\n",
       "       [ 0.24817008,  0.15022773, -0.04603767,  0.0995328 ,  0.15300143,\n",
       "        -0.18278125],\n",
       "       [ 0.05140258,  0.03207643, -0.01027116,  0.02713897, -0.18278125,\n",
       "         0.96051913]])"
      ]
     },
     "execution_count": 6,
     "metadata": {},
     "output_type": "execute_result"
    },
    {
     "data": {
      "text/plain": [
       "array([[ 0.80175178, -0.06399596, -0.00612596,  0.30096884,  0.24817008,\n",
       "         0.05140258],\n",
       "       [-0.06399596,  0.9701751 ,  0.00504366,  0.0348882 ,  0.15022773,\n",
       "         0.03207643],\n",
       "       [-0.00612596,  0.00504366,  0.9944328 ,  0.05699362, -0.04603767,\n",
       "        -0.01027116],\n",
       "       [ 0.30096884,  0.0348882 ,  0.05699362,  0.12011976,  0.0995328 ,\n",
       "         0.02713897],\n",
       "       [ 0.24817008,  0.15022773, -0.04603767,  0.0995328 ,  0.15300143,\n",
       "        -0.18278125],\n",
       "       [ 0.05140258,  0.03207643, -0.01027116,  0.02713897, -0.18278125,\n",
       "         0.96051913]])"
      ]
     },
     "execution_count": 6,
     "metadata": {},
     "output_type": "execute_result"
    }
   ],
   "source": [
    "U@U.T"
   ]
  },
  {
   "cell_type": "code",
   "execution_count": 7,
   "metadata": {},
   "outputs": [
    {
     "data": {
      "text/plain": [
       "True"
      ]
     },
     "execution_count": 7,
     "metadata": {},
     "output_type": "execute_result"
    },
    {
     "data": {
      "text/plain": [
       "True"
      ]
     },
     "execution_count": 7,
     "metadata": {},
     "output_type": "execute_result"
    }
   ],
   "source": [
    "np.allclose(V.T @ V, np.identity(d))"
   ]
  },
  {
   "cell_type": "code",
   "execution_count": 8,
   "metadata": {},
   "outputs": [
    {
     "data": {
      "text/plain": [
       "True"
      ]
     },
     "execution_count": 8,
     "metadata": {},
     "output_type": "execute_result"
    },
    {
     "data": {
      "text/plain": [
       "True"
      ]
     },
     "execution_count": 8,
     "metadata": {},
     "output_type": "execute_result"
    }
   ],
   "source": [
    "np.allclose(V @ V.T, np.identity(d))"
   ]
  },
  {
   "cell_type": "code",
   "execution_count": 9,
   "metadata": {},
   "outputs": [
    {
     "data": {
      "text/plain": [
       "array([4.15760175e+00, 2.28949949e+00, 1.01350732e+00, 1.48389401e-16])"
      ]
     },
     "execution_count": 9,
     "metadata": {},
     "output_type": "execute_result"
    },
    {
     "data": {
      "text/plain": [
       "array([4.15760175e+00, 2.28949949e+00, 1.01350732e+00, 1.48389401e-16])"
      ]
     },
     "execution_count": 9,
     "metadata": {},
     "output_type": "execute_result"
    }
   ],
   "source": [
    "S"
   ]
  },
  {
   "cell_type": "code",
   "execution_count": 10,
   "metadata": {},
   "outputs": [
    {
     "name": "stdout",
     "output_type": "stream",
     "text": [
      "Error of rank 1 approximation:  4.853314053310529\n",
      "Error of rank 2 approximation:  3.4882492591277985\n",
      "Error of rank 3 approximation:  3.246556769278742\n",
      "Error of rank 4 approximation:  3.1814616416082724\n",
      "Error of rank 1 approximation:  4.853314053310529\n",
      "Error of rank 2 approximation:  3.4882492591277985\n",
      "Error of rank 3 approximation:  3.246556769278742\n",
      "Error of rank 4 approximation:  3.1814616416082724\n"
     ]
    }
   ],
   "source": [
    "# if we have a linearly dependent column, \n",
    "# decomposition is just as good if we ignore the 0 in sigma and reduce r by 1\n",
    "for k in range(d):\n",
    "    print(f\"Error of rank {k+1} approximation: \", \n",
    "          np.linalg.norm(X - U[:,:k]@np.diag(S[:k])@(V[:,:k]).T))\n",
    "    "
   ]
  },
  {
   "cell_type": "code",
   "execution_count": 11,
   "metadata": {},
   "outputs": [],
   "source": [
    "# form data from noisy linear model\n",
    "wtrue = randn(d)\n",
    "y = X@wtrue + .1*randn(n);"
   ]
  },
  {
   "cell_type": "code",
   "execution_count": 12,
   "metadata": {},
   "outputs": [
    {
     "data": {
      "text/plain": [
       "array([-3.78124163e+13,  1.48442532e+14, -2.50043200e+13,  1.55210116e+14])"
      ]
     },
     "execution_count": 12,
     "metadata": {},
     "output_type": "execute_result"
    },
    {
     "data": {
      "text/plain": [
       "array([-3.78124163e+13,  1.48442532e+14, -2.50043200e+13,  1.55210116e+14])"
      ]
     },
     "execution_count": 12,
     "metadata": {},
     "output_type": "execute_result"
    }
   ],
   "source": [
    "# solve least squares problem to estimate w\n",
    "w = V@np.diag(S**(-1))@U.T@y\n",
    "w"
   ]
  },
  {
   "cell_type": "code",
   "execution_count": 13,
   "metadata": {},
   "outputs": [
    {
     "data": {
      "text/plain": [
       "array([ 2.32744214, -0.25484184, -1.30800754,  0.60002364])"
      ]
     },
     "execution_count": 13,
     "metadata": {},
     "output_type": "execute_result"
    },
    {
     "data": {
      "text/plain": [
       "array([ 2.32744214, -0.25484184, -1.30800754,  0.60002364])"
      ]
     },
     "execution_count": 13,
     "metadata": {},
     "output_type": "execute_result"
    }
   ],
   "source": [
    "# use rank k approximation to design matrix X\n",
    "# k=4 is full rank\n",
    "# when design matrix X has rank 3, k=3 gives 0 error approximation\n",
    "# while k=2 results in some loss of accuracy - but not much!\n",
    "k = 3\n",
    "w = V[:,:k]@np.diag(S[:k]**(-1))@(U[:,:k]).T@y\n",
    "w"
   ]
  },
  {
   "cell_type": "code",
   "execution_count": 14,
   "metadata": {},
   "outputs": [
    {
     "data": {
      "text/plain": [
       "5.724543154969718"
      ]
     },
     "execution_count": 14,
     "metadata": {},
     "output_type": "execute_result"
    },
    {
     "data": {
      "text/plain": [
       "5.724543154969718"
      ]
     },
     "execution_count": 14,
     "metadata": {},
     "output_type": "execute_result"
    }
   ],
   "source": [
    "# error in normal equations \n",
    "norm(X.T@X@w - X.T@y)"
   ]
  },
  {
   "cell_type": "code",
   "execution_count": 15,
   "metadata": {},
   "outputs": [
    {
     "data": {
      "text/plain": [
       "5.724543154969718"
      ]
     },
     "execution_count": 15,
     "metadata": {},
     "output_type": "execute_result"
    },
    {
     "data": {
      "text/plain": [
       "5.724543154969718"
      ]
     },
     "execution_count": 15,
     "metadata": {},
     "output_type": "execute_result"
    }
   ],
   "source": [
    "w[2] += 1\n",
    "w[3] -= 1\n",
    "norm(X.T@X@w - X.T@y)"
   ]
  },
  {
   "cell_type": "code",
   "execution_count": 16,
   "metadata": {},
   "outputs": [
    {
     "data": {
      "text/plain": [
       "array([ 2.32744214, -0.25484184, -0.30800754, -0.39997636])"
      ]
     },
     "execution_count": 16,
     "metadata": {},
     "output_type": "execute_result"
    },
    {
     "data": {
      "text/plain": [
       "array([ 2.32744214, -0.25484184, -0.30800754, -0.39997636])"
      ]
     },
     "execution_count": 16,
     "metadata": {},
     "output_type": "execute_result"
    }
   ],
   "source": [
    "w"
   ]
  },
  {
   "cell_type": "code",
   "execution_count": 17,
   "metadata": {},
   "outputs": [
    {
     "data": {
      "text/plain": [
       "0.46987491310072677"
      ]
     },
     "execution_count": 17,
     "metadata": {},
     "output_type": "execute_result"
    },
    {
     "data": {
      "text/plain": [
       "0.46987491310072677"
      ]
     },
     "execution_count": 17,
     "metadata": {},
     "output_type": "execute_result"
    }
   ],
   "source": [
    "# how good is our estimate of w?\n",
    "norm(w - wtrue) / norm(wtrue)"
   ]
  },
  {
   "cell_type": "code",
   "execution_count": 18,
   "metadata": {},
   "outputs": [
    {
     "data": {
      "text/plain": [
       "0.5699848419421699"
      ]
     },
     "execution_count": 18,
     "metadata": {},
     "output_type": "execute_result"
    },
    {
     "data": {
      "text/plain": [
       "0.5699848419421699"
      ]
     },
     "execution_count": 18,
     "metadata": {},
     "output_type": "execute_result"
    }
   ],
   "source": [
    "# compute mean square error\n",
    "np.mean((y - X@w)**2)"
   ]
  },
  {
   "cell_type": "code",
   "execution_count": null,
   "metadata": {},
   "outputs": [],
   "source": []
  }
 ],
 "metadata": {
  "@webio": {
   "lastCommId": null,
   "lastKernelId": null
  },
  "kernelspec": {
   "display_name": "Python 3",
   "language": "python",
   "name": "python3"
  },
  "language_info": {
   "codemirror_mode": {
    "name": "ipython",
    "version": 3
   },
   "file_extension": ".py",
   "mimetype": "text/x-python",
   "name": "python",
   "nbconvert_exporter": "python",
   "pygments_lexer": "ipython3",
   "version": "3.8.3"
  }
 },
 "nbformat": 4,
 "nbformat_minor": 1
}
