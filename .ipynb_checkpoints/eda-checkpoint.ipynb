{
 "cells": [
  {
   "cell_type": "markdown",
   "metadata": {},
   "source": [
    "# Exploratory Data Analysis\n",
    "Demo from lecture 2 of [ORIE 4741](https://people.orie.cornell.edu/mru8/orie4741)"
   ]
  },
  {
   "cell_type": "code",
   "execution_count": null,
   "metadata": {
    "collapsed": false
   },
   "outputs": [],
   "source": [
    "using DataFrames, Gadfly"
   ]
  },
  {
   "cell_type": "markdown",
   "metadata": {},
   "source": [
    "# Load data"
   ]
  },
  {
   "cell_type": "markdown",
   "metadata": {},
   "source": [
    "The data is available on the course website, and is about 200MB.\n",
    "\n",
    "If you point your browser to the url below, it will be downloaded to your standard download folder. On Mac, you can access it at /Users/yourusername/Downloads/acs_2013.csv.\n",
    "Or, if you've synced or cloned the whole demos GitHub repo, you can access the truncated version acs_2013_trunc.csv locally without doing anything. (Try the readtable command below to test it out.)"
   ]
  },
  {
   "cell_type": "code",
   "execution_count": null,
   "metadata": {
    "collapsed": false
   },
   "outputs": [],
   "source": [
    "url = \"https://people.orie.cornell.edu/mru8/orie4741/data/acs_2013.csv\""
   ]
  },
  {
   "cell_type": "code",
   "execution_count": null,
   "metadata": {
    "collapsed": false
   },
   "outputs": [],
   "source": [
    "acs = readtable(\"acs_2013_trunc.csv\", nrows=10000);"
   ]
  },
  {
   "cell_type": "markdown",
   "metadata": {},
   "source": [
    "# Summary statistics"
   ]
  },
  {
   "cell_type": "code",
   "execution_count": null,
   "metadata": {
    "collapsed": false
   },
   "outputs": [],
   "source": [
    "size(acs)"
   ]
  },
  {
   "cell_type": "code",
   "execution_count": null,
   "metadata": {
    "collapsed": false
   },
   "outputs": [],
   "source": [
    "income = acs[:HHINCOME];"
   ]
  },
  {
   "cell_type": "code",
   "execution_count": null,
   "metadata": {
    "collapsed": false
   },
   "outputs": [],
   "source": [
    "median(income)"
   ]
  },
  {
   "cell_type": "code",
   "execution_count": null,
   "metadata": {
    "collapsed": false
   },
   "outputs": [],
   "source": [
    "std(income)"
   ]
  },
  {
   "cell_type": "code",
   "execution_count": null,
   "metadata": {
    "collapsed": false
   },
   "outputs": [],
   "source": [
    "maximum(income)"
   ]
  },
  {
   "cell_type": "code",
   "execution_count": null,
   "metadata": {
    "collapsed": true
   },
   "outputs": [],
   "source": [
    "# Plotting"
   ]
  },
  {
   "cell_type": "code",
   "execution_count": null,
   "metadata": {
    "collapsed": false
   },
   "outputs": [],
   "source": [
    "\"\"\"compute summary statistics on observed values in data array\"\"\"\n",
    "function summary_stats(arr::DataArray)\n",
    "    clean_arr = dropna(arr)\n",
    "    print(\"missing: $(mean(isna(arr)))%\\n\")\n",
    "    print(\"maximum: $(maximum(clean_arr))\\n\")\n",
    "    print(\"minimum: $(minimum(clean_arr))\\n\")\n",
    "    print(\"median:  $(median(clean_arr))\\n\")\n",
    "    print(\"mean:    $(mean(clean_arr))\\n\")\n",
    "    print(\"std:     $(std(clean_arr))\\n\")\n",
    "end"
   ]
  },
  {
   "cell_type": "code",
   "execution_count": null,
   "metadata": {
    "collapsed": false
   },
   "outputs": [],
   "source": [
    "?summary_stats"
   ]
  },
  {
   "cell_type": "code",
   "execution_count": null,
   "metadata": {
    "collapsed": false
   },
   "outputs": [],
   "source": [
    "summary_stats(income)"
   ]
  },
  {
   "cell_type": "code",
   "execution_count": null,
   "metadata": {
    "collapsed": false
   },
   "outputs": [],
   "source": [
    "plot(acs, x=:HHINCOME, Geom.histogram)"
   ]
  },
  {
   "cell_type": "code",
   "execution_count": null,
   "metadata": {
    "collapsed": false
   },
   "outputs": [],
   "source": [
    "rows_with_99percent_income = acs[:HHINCOME].<4e6\n",
    "acs99 = acs[rows_with_99percent_income,:];"
   ]
  },
  {
   "cell_type": "code",
   "execution_count": null,
   "metadata": {
    "collapsed": false
   },
   "outputs": [],
   "source": [
    "plot(acs99, x=:HHINCOME, Geom.histogram)"
   ]
  },
  {
   "cell_type": "code",
   "execution_count": null,
   "metadata": {
    "collapsed": false
   },
   "outputs": [],
   "source": [
    "plot(acs99, x=:HHINCOME, color=:FOODSTMP, Geom.histogram(position=:stack))"
   ]
  },
  {
   "cell_type": "markdown",
   "metadata": {},
   "source": [
    "# Now with recoded data"
   ]
  },
  {
   "cell_type": "code",
   "execution_count": null,
   "metadata": {
    "collapsed": false
   },
   "outputs": [],
   "source": [
    "acs = readtable(\"acs_2013_cleaned.csv\", nrows=10000);"
   ]
  },
  {
   "cell_type": "code",
   "execution_count": null,
   "metadata": {
    "collapsed": false
   },
   "outputs": [],
   "source": [
    "summary_stats(acs[:HHINCOME])"
   ]
  },
  {
   "cell_type": "code",
   "execution_count": null,
   "metadata": {
    "collapsed": false
   },
   "outputs": [],
   "source": [
    "plot(acs, x=:HHINCOME, Geom.histogram)"
   ]
  },
  {
   "cell_type": "code",
   "execution_count": null,
   "metadata": {
    "collapsed": false
   },
   "outputs": [],
   "source": [
    "import DataArrays.dropna\n",
    "\"\"\"drop all rows of a data frame with a NA in column named s\"\"\"\n",
    "function dropna(df::DataFrame, s::Symbol)\n",
    "    return df[!isna(acs[:,s]),:]\n",
    "end\n",
    "function dropna(df::DataFrame, ss::Symbol...)\n",
    "    keep_rows = fill(true, size(df,1))\n",
    "    for s in ss\n",
    "        keep_rows = keep_rows & !isna(df[:,s])\n",
    "    end\n",
    "    return df[keep_rows,:]\n",
    "end"
   ]
  },
  {
   "cell_type": "markdown",
   "metadata": {},
   "source": [
    "Look at income distribution by :FOODSTMP, :LABFORCE, :OWNERSHP, ..."
   ]
  },
  {
   "cell_type": "code",
   "execution_count": null,
   "metadata": {
    "collapsed": false
   },
   "outputs": [],
   "source": [
    "plot(dropna(acs, :LABFORCE), x=:HHINCOME, color=:LABFORCE, Geom.histogram)"
   ]
  },
  {
   "cell_type": "code",
   "execution_count": null,
   "metadata": {
    "collapsed": false
   },
   "outputs": [],
   "source": [
    "plot(dropna(acs, :FOODSTMP, :HHINCOME)[1:300,:], y=:HHINCOME, x=:FOODSTMP, Geom.boxplot)"
   ]
  },
  {
   "cell_type": "code",
   "execution_count": null,
   "metadata": {
    "collapsed": false
   },
   "outputs": [],
   "source": [
    "plot(dropna(acs, :EDUC, :HHINCOME)[1:800,:], y=:HHINCOME, x=:EDUC, Geom.point)"
   ]
  },
  {
   "cell_type": "code",
   "execution_count": null,
   "metadata": {
    "collapsed": false
   },
   "outputs": [],
   "source": [
    "plot(dropna(acs, :EDUC, :HHINCOME)[1:800,:], y=:HHINCOME, x=:EDUC, Geom.histogram2d(ybincount=20))"
   ]
  },
  {
   "cell_type": "markdown",
   "metadata": {},
   "source": [
    "# More interesting ploting tools: \n",
    "\n",
    "* [Gadfly documentation](http://dcjones.github.io/Gadfly.jl)\n",
    "* [ggplot2](http://ggplot2.org/) in R\n",
    "* [MatPlotLib](http://matplotlib.org/) in Python or Julia\n",
    "* [D3](https://d3js.org/) in JavaScript"
   ]
  },
  {
   "cell_type": "code",
   "execution_count": null,
   "metadata": {
    "collapsed": true
   },
   "outputs": [],
   "source": []
  }
 ],
 "metadata": {
  "kernelspec": {
   "display_name": "Julia 0.4.6",
   "language": "julia",
   "name": "julia-0.4"
  },
  "language_info": {
   "file_extension": ".jl",
   "mimetype": "application/julia",
   "name": "julia",
   "version": "0.4.6"
  }
 },
 "nbformat": 4,
 "nbformat_minor": 0
}
