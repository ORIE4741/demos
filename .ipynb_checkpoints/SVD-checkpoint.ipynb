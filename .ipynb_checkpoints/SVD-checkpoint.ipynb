{
 "cells": [
  {
   "cell_type": "code",
   "execution_count": 1,
   "metadata": {
    "collapsed": false
   },
   "outputs": [
    {
     "data": {
      "text/plain": [
       "6-element Array{Float64,1}:\n",
       " -0.203795\n",
       "  0.795719\n",
       " -0.387874\n",
       " -0.206542\n",
       " -1.03431 \n",
       "  1.24272 "
      ]
     },
     "execution_count": 1,
     "metadata": {},
     "output_type": "execute_result"
    }
   ],
   "source": [
    "# generate random data matrix\n",
    "n,d = 6,4\n",
    "X = randn(n,d)\n",
    "\n",
    "# optional: give it linearly dependent columns\n",
    "X[:,3] = X[:,2]"
   ]
  },
  {
   "cell_type": "code",
   "execution_count": 2,
   "metadata": {
    "collapsed": false
   },
   "outputs": [
    {
     "data": {
      "text/plain": [
       "(\n",
       "6x4 Array{Float64,2}:\n",
       " -0.46298    -0.371202   -0.463436    -0.418777\n",
       " -0.768497   -0.0332959  -0.0390535    0.541207\n",
       "  0.0843436  -0.202056   -0.00753739  -0.26826 \n",
       " -0.190782   -0.515696    0.793109    -0.210431\n",
       "  0.16283    -0.484517   -0.383886    -0.119524\n",
       " -0.353605    0.565309    0.0851776   -0.633396,\n",
       "\n",
       "[3.1656587477114164,2.922439232635614,1.110827218345042,2.473563556819392e-16],\n",
       "4x4 Array{Float64,2}:\n",
       "  0.829858  0.213476   0.515523  -0.0        \n",
       " -0.353264  0.491953   0.364948  -0.707107   \n",
       " -0.353264  0.491953   0.364948   0.707107   \n",
       "  0.248485  0.685852  -0.684005  -1.11022e-16)"
      ]
     },
     "execution_count": 2,
     "metadata": {},
     "output_type": "execute_result"
    }
   ],
   "source": [
    "U,σ,V = svd(X)"
   ]
  },
  {
   "cell_type": "code",
   "execution_count": 3,
   "metadata": {
    "collapsed": false
   },
   "outputs": [
    {
     "data": {
      "text/plain": [
       "4x4 Array{Float64,2}:\n",
       "  1.0          7.19398e-17   3.43162e-17  -4.46119e-17\n",
       "  7.19398e-17  1.0           2.5576e-17    1.15474e-16\n",
       "  3.43162e-17  2.5576e-17    1.0          -1.32989e-16\n",
       " -4.46119e-17  1.15474e-16  -1.32989e-16   1.0        "
      ]
     },
     "execution_count": 3,
     "metadata": {},
     "output_type": "execute_result"
    }
   ],
   "source": [
    "U'*U # orthogonal"
   ]
  },
  {
   "cell_type": "code",
   "execution_count": 4,
   "metadata": {
    "collapsed": false
   },
   "outputs": [
    {
     "data": {
      "text/plain": [
       "4x4 Array{Float64,2}:\n",
       "  1.0          -1.36789e-16  -4.62789e-17   2.42258e-16\n",
       " -1.36789e-16   1.0           2.35228e-17  -3.80954e-16\n",
       " -4.62789e-17   2.35228e-17   1.0          -1.0777e-16 \n",
       "  2.42258e-16  -3.80954e-16  -1.0777e-16    1.0        "
      ]
     },
     "execution_count": 4,
     "metadata": {},
     "output_type": "execute_result"
    }
   ],
   "source": [
    "V'*V # orthogonal"
   ]
  },
  {
   "cell_type": "code",
   "execution_count": null,
   "metadata": {
    "collapsed": false
   },
   "outputs": [],
   "source": [
    "σ"
   ]
  },
  {
   "cell_type": "code",
   "execution_count": null,
   "metadata": {
    "collapsed": false
   },
   "outputs": [],
   "source": [
    "# decomposition is just as good if we ignore the 0 in sigma and reduce r by 1\n",
    "norm(X - U[:,1:3]*diagm(σ[1:3])*(V[:,1:3])')"
   ]
  },
  {
   "cell_type": "code",
   "execution_count": null,
   "metadata": {
    "collapsed": true
   },
   "outputs": [],
   "source": [
    "# form data from noisy linear model\n",
    "w♮ = randn(d)\n",
    "y = X*w♮ + .1*randn(n);"
   ]
  },
  {
   "cell_type": "code",
   "execution_count": null,
   "metadata": {
    "collapsed": false
   },
   "outputs": [],
   "source": [
    "# solve least squares problem to estimate w\n",
    "w = V*diagm(σ.^(-1))*U'*y\n",
    "# w = V[:,1:3]*diagm(σ[1:3].^(-1))*(U[:,1:3])'*y"
   ]
  },
  {
   "cell_type": "code",
   "execution_count": null,
   "metadata": {
    "collapsed": false
   },
   "outputs": [],
   "source": [
    "# how good is our estimate of w?\n",
    "norm(w - w♮)"
   ]
  },
  {
   "cell_type": "code",
   "execution_count": null,
   "metadata": {
    "collapsed": false
   },
   "outputs": [],
   "source": [
    "# compute mean square error\n",
    "mean((y - X*w).^2)"
   ]
  },
  {
   "cell_type": "code",
   "execution_count": null,
   "metadata": {
    "collapsed": false
   },
   "outputs": [],
   "source": [
    "# let's use the shorthand\n",
    "w_backslash = X \\ y\n",
    "norm(w_backslash - w)"
   ]
  }
 ],
 "metadata": {
  "kernelspec": {
   "display_name": "Julia 0.4.6",
   "language": "julia",
   "name": "julia-0.4"
  },
  "language_info": {
   "file_extension": ".jl",
   "mimetype": "application/julia",
   "name": "julia",
   "version": "0.4.6"
  }
 },
 "nbformat": 4,
 "nbformat_minor": 0
}
